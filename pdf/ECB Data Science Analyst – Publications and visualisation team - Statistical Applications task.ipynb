{
 "cells": [
  {
   "cell_type": "markdown",
   "id": "eff50fac-ac1e-4780-be69-c839bbb43da1",
   "metadata": {},
   "source": [
    "# Importing and manipulating data \n",
    "\n",
    "Using Python, one first reads the `.xlsx` files. One can then manipulate the data to compute the Euro Area aggregate for the first chart, aggregate the countries by income group for the second chart and add a column for each country showing which region it is in. Then the charts are built using Plotly. ECB colour scheme is used for your convenience, for consistency. Income groups are plugged-in by hand (still using Python) to account for some slight labelling differences between the `CLASS.xlsx` file and the `EDGAR_2024_GHG_booklet_2024.xlsx` file. (see code for details)\n",
    "\n",
    "For the first and second chart, bar charts are chosen. To show contribution of countries and continents to GHG emissions, a Treemap chart is used. Thanks to Plotly, interactivity is available in Jupyter; furthermore, the charts can easily be integrated in a Dash dashboard. [You can check out the code on my Github (link)](https://github.com/MarcoTamb/)"
   ]
  },
  {
   "attachments": {},
   "cell_type": "markdown",
   "id": "ca50ed5f-2ca9-4110-a589-7285c2b11097",
   "metadata": {},
   "source": [
    "# Chart 1\n",
    "![Chart 1](./Chart1.png)"
   ]
  },
  {
   "cell_type": "markdown",
   "id": "ddd20300-b8b8-4567-b1e9-1393bbccc0fd",
   "metadata": {},
   "source": [
    "## KEY TRENDS\n",
    "\n",
    "- Global greenhouse gas (GHG) emissions have shown a consistent upward trend between 1971 and 2023.\n",
    "\n",
    "- The European Union (EU) and the Euro Area have made significant progress in reducing GHG emissions, with a clear downward trend. However, these efforts alone are insufficient to drive a meaningful global impact. \n",
    "\n",
    "- Within the European Union, the Euro Area is responsible for the majority of the observed changes in GHG emissions."
   ]
  },
  {
   "attachments": {},
   "cell_type": "markdown",
   "id": "47f90efa-885b-4233-b272-0c79eedb3d94",
   "metadata": {},
   "source": [
    "# Chart 2\n",
    "![Chart 2](./Chart2.png)"
   ]
  },
  {
   "cell_type": "markdown",
   "id": "027012d4-ef85-422e-a48b-d32f3dcd16a1",
   "metadata": {},
   "source": [
    "## KEY TRENDS\n",
    "\n",
    "- Greenhouse gas (GHG) emissions in high-income countries have remained relatively stable over the period analyzed, with a notable downward trend beginning in 2007.\n",
    "\n",
    "- GHG emissions in upper-middle-income countries have surged significantly since 1971, with rapid acceleration around 2000, making them the largest contributors to global emissions by 2010.\n",
    "\n",
    "- While GHG emissions in lower-middle-income and low-income countries have risen during the same period, their comparatively lower levels remain less concerning for now."
   ]
  },
  {
   "attachments": {},
   "cell_type": "markdown",
   "id": "8c807c4d-1108-4d44-a986-1dab7b7b9753",
   "metadata": {},
   "source": [
    "# Chart 3\n",
    "\n",
    "## KEY TRENDS\n",
    "\n",
    "- China significantly contributes to global greenhouse gas (GHG) emissions, dominating the \"East Asia & Pacific\" region and the global total.\n",
    "\n",
    "- Different regions contribute unevenly to global GHG emissions. \"East Asia & Pacific,\" \"North America,\" and \"Europe & Central Asia\" are prominent contributors compared to regions like \"Sub-Saharan Africa\" and \"Latin America & Caribbean.\"\n",
    "\n",
    "- Countries like Brazil, Indonesia, and Saudi Arabia are noteworthy contributors in their respective regions, reflecting the environmental impact of emerging economies. \n"
   ]
  },
  {
   "cell_type": "markdown",
   "id": "f67f9ebb-0235-4043-ab4b-3dbafea432a5",
   "metadata": {},
   "source": [
    "![Chart 3](./Chart3.png)"
   ]
  }
 ],
 "metadata": {
  "kernelspec": {
   "display_name": "Python 3 (ipykernel)",
   "language": "python",
   "name": "python3"
  },
  "language_info": {
   "codemirror_mode": {
    "name": "ipython",
    "version": 3
   },
   "file_extension": ".py",
   "mimetype": "text/x-python",
   "name": "python",
   "nbconvert_exporter": "python",
   "pygments_lexer": "ipython3",
   "version": "3.12.3"
  }
 },
 "nbformat": 4,
 "nbformat_minor": 5
}
