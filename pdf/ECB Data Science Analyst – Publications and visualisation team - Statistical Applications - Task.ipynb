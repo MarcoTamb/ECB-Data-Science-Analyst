{
 "cells": [
  {
   "cell_type": "markdown",
   "id": "eff50fac-ac1e-4780-be69-c839bbb43da1",
   "metadata": {},
   "source": [
    "# Importing, manipulating data, making the charts \n",
    "\n",
    "Using Python, I first read the two sheets we are interested in inside the `.xlsx` file. I then manipulated the data to compute the Euro\n",
    "Area aggregate for the first chart and used `.diff()` to get the rate of change. Then I took a weighted average by population of the per-capita values in the excel, to get a reasonable value per-capita for each income group for the second chart. Finally I added a column for each country showing which region it is in. Then the charts are built using Plotly. ECB colour scheme is used for your convenience, for consistency among the many submissions you will surely receive, hoping people will do the same. Income groups had to be fixed by hand (still using Python) to account for some slight labelling differences between the `CLASS.xlsx` file and the `EDGAR_2024_GHG_booklet_2024.xlsx` file. (see the link to the\n",
    "code below for more details and to argue about the many arbitrary choices I made)\n",
    "\n",
    "For the first and second chart, bar charts are chosen, to keep the time component of the data, and because there are not many timeseries that we are interested in. The reason for this choice, among many possible choices, is that generally people perceive relative size of areas better. To show contribution of countries and continents to GHG emissions, a Treemap chart is used, to better show the relative size of all contributing countries and regions. This choice for the third chart, however, hides the time-component of the data; if this needs to be included, an [area plot](https://plotly.com/python/filled-area-plots/) is one of the better choices, or alternatively a stacked bar chart, although it would be necessary to reduce the number of countries or regions one looks at (like in [this chart on wikipedia](https://en.wikipedia.org/wiki/File:GHG_emissions_by_world_region,_1850-2021.png)). Thanks to Plotly and ipywidgets, some interactivity is available when running the code in Jupyter, and this can also be used to rescue the time-coordinate in the third chart by adding a slider; furthermore, the charts can be seamlessly integrated in a Dash or Shiny dashboard for pubblication. [You can check out the code I used on my Github (link)](https://github.com/MarcoTamb/ECB-Data-Science-Analyst). There, Chart 3 is also available as a [Sunburst](https://plotly.com/python/sunburst-charts/) (more compact, but people easily misjudge angles) or [Icicle](https://plotly.com/python/icicle-charts/) chart (uglier, in my personal opinion), as well as an **animated** version of all three versions of Chart 3."
   ]
  },
  {
   "attachments": {},
   "cell_type": "markdown",
   "id": "ca50ed5f-2ca9-4110-a589-7285c2b11097",
   "metadata": {},
   "source": [
    "# Chart 1\n",
    "![Chart 1](./Chart1.png)"
   ]
  },
  {
   "cell_type": "markdown",
   "id": "ddd20300-b8b8-4567-b1e9-1393bbccc0fd",
   "metadata": {},
   "source": [
    "## KEY TRENDS\n",
    "\n",
    "- Global greenhouse gas (GHG) emissions have steadily increased between 1971 and 2023, reflecting the growing impact of industrialization and population growth worldwide. Temporary declines in GHG emissions generally coincided with recessions. \n",
    "\n",
    "- The European Union (EU) and the Euro Area have demonstrated a clear downward trend in GHG emissions, highlighting substantial progress in mitigation efforts. However, their reductions alone are insufficient to offset the global increase in emissions. \n",
    "\n",
    "- Within the European Union, the Euro Area accounts for the largest share of GHG emissions reductions, underscoring its pivotal role in driving regional climate progress."
   ]
  },
  {
   "attachments": {},
   "cell_type": "markdown",
   "id": "47f90efa-885b-4233-b272-0c79eedb3d94",
   "metadata": {},
   "source": [
    "# Chart 2\n",
    "![Chart 2](./Chart2.svg)"
   ]
  },
  {
   "cell_type": "markdown",
   "id": "027012d4-ef85-422e-a48b-d32f3dcd16a1",
   "metadata": {},
   "source": [
    "## KEY TRENDS\n",
    "\n",
    "-  High-income countries have the highest GHG emissions per capita, with a slightly declining trends in recent years.\n",
    "\n",
    "-  GHG emissions per capita in upper-middle income have sharply increased\n",
    "  in the 21th century, narrowing the gap with high income countries.\n",
    "\n",
    "-  Low- and lower-middle-income countries have much lower emissions per capita, with modest or negligible changes over time."
   ]
  },
  {
   "attachments": {},
   "cell_type": "markdown",
   "id": "8c807c4d-1108-4d44-a986-1dab7b7b9753",
   "metadata": {},
   "source": [
    "# Chart 3\n",
    "\n",
    "## KEY TRENDS\n",
    "\n",
    "- China is the largest single contributor to global greenhouse gas (GHG) emissions, driving the \"East Asia & Pacific\" region’s dominance and accounting for a substantial share of the global total.\n",
    "\n",
    "- Different regions contribute unevenly to global GHG emissions. \"East Asia & Pacific,\" \"North America,\" and \"Europe & Central Asia\" are prominent contributors compared to regions like \"Sub-Saharan Africa\" and \"Latin America & Caribbean.\"\n",
    "\n",
    "- Countries like India, Brazil, Indonesia, and Iran are noteworthy contributors in their respective regions, reflecting the increasing environmental impact of emerging economies. \n"
   ]
  },
  {
   "cell_type": "markdown",
   "id": "f67f9ebb-0235-4043-ab4b-3dbafea432a5",
   "metadata": {},
   "source": [
    "![Chart 3](./Chart3.svg)"
   ]
  }
 ],
 "metadata": {
  "kernelspec": {
   "display_name": "Python 3 (ipykernel)",
   "language": "python",
   "name": "python3"
  },
  "language_info": {
   "codemirror_mode": {
    "name": "ipython",
    "version": 3
   },
   "file_extension": ".py",
   "mimetype": "text/x-python",
   "name": "python",
   "nbconvert_exporter": "python",
   "pygments_lexer": "ipython3",
   "version": "3.12.3"
  }
 },
 "nbformat": 4,
 "nbformat_minor": 5
}
