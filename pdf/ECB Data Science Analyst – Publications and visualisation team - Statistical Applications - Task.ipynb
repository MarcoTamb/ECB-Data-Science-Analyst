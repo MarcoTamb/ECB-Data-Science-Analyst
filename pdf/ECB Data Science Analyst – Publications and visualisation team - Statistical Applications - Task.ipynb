{
 "cells": [
  {
   "cell_type": "markdown",
   "id": "eff50fac-ac1e-4780-be69-c839bbb43da1",
   "metadata": {},
   "source": [
    "# Importing and manipulating data \n",
    "\n",
    "Using Python, one first reads the `.xlsx` files. One can then manipulate the data to compute the Euro Area aggregate for the first chart, aggregate the countries by income group for the second chart and add a column for each country showing which region it is in. Then the charts are built using Plotly. ECB colour scheme is used for your convenience, for consistency. Income groups are plugged-in by hand (still using Python) to account for some slight labelling differences between the `CLASS.xlsx` file and the `EDGAR_2024_GHG_booklet_2024.xlsx` file. (see code for details)\n",
    "\n",
    "For the first and second chart, bar charts are chosen. To show contribution of countries and continents to GHG emissions, a Treemap chart is used, to better show the relative size of all contributing countries and regions. Thanks to Plotly, some interactivity is available when running the code in Jupyter; furthermore, the charts can be seamlessly integrated in a Dash or Shiny dashboard for pubblication. [You can check out the code on my Github (link)](https://github.com/MarcoTamb/ECB-Data-Science-Analyst)"
   ]
  },
  {
   "attachments": {},
   "cell_type": "markdown",
   "id": "ca50ed5f-2ca9-4110-a589-7285c2b11097",
   "metadata": {},
   "source": [
    "# Chart 1\n",
    "![Chart 1](./Chart1.png)"
   ]
  },
  {
   "cell_type": "markdown",
   "id": "ddd20300-b8b8-4567-b1e9-1393bbccc0fd",
   "metadata": {},
   "source": [
    "## KEY TRENDS\n",
    "\n",
    "- Global greenhouse gas (GHG) emissions have steadily increased between 1971 and 2023, reflecting the growing impact of industrialization and population growth worldwide. Temporary declines in GHG emissions generally coincided with recessions. \n",
    "\n",
    "- The European Union (EU) and the Euro Area have demonstrated a clear downward trend in GHG emissions, highlighting substantial progress in mitigation efforts. However, their reductions alone are insufficient to offset the global increase in emissions. \n",
    "\n",
    "- Within the European Union, the Euro Area accounts for the largest share of GHG emissions reductions, underscoring its pivotal role in driving regional climate progress."
   ]
  },
  {
   "attachments": {},
   "cell_type": "markdown",
   "id": "47f90efa-885b-4233-b272-0c79eedb3d94",
   "metadata": {},
   "source": [
    "# Chart 2\n",
    "![Chart 2](./Chart2.png)"
   ]
  },
  {
   "cell_type": "markdown",
   "id": "027012d4-ef85-422e-a48b-d32f3dcd16a1",
   "metadata": {},
   "source": [
    "## KEY TRENDS\n",
    "\n",
    "- Greenhouse gas (GHG) emissions per capita in high-income countries have been steadily declining since the 1970s, potentially due to advancements in clean technologies and stricter environmental policies. This reduction has however slowed down significantly beetween 1985 and 2012\n",
    "\n",
    "- GHG emissions per capita in lower- and middle-income countries have remained relatively stable throughout the period, with only minor fluctuations or gradual increases.\n",
    "\n",
    "- Higher income levels are strongly associated with higher GHG emissions per capita, underscoring the relationship between economic prosperity and environmental impact."
   ]
  },
  {
   "attachments": {},
   "cell_type": "markdown",
   "id": "8c807c4d-1108-4d44-a986-1dab7b7b9753",
   "metadata": {},
   "source": [
    "# Chart 3\n",
    "\n",
    "## KEY TRENDS\n",
    "\n",
    "- China is the largest single contributor to global greenhouse gas (GHG) emissions, driving the \"East Asia & Pacific\" region’s dominance and accounting for a substantial share of the global total.\n",
    "\n",
    "- Different regions contribute unevenly to global GHG emissions. \"East Asia & Pacific,\" \"North America,\" and \"Europe & Central Asia\" are prominent contributors compared to regions like \"Sub-Saharan Africa\" and \"Latin America & Caribbean.\"\n",
    "\n",
    "- Countries like India, Brazil, Indonesia, and Iran are noteworthy contributors in their respective regions, reflecting the increasing environmental impact of emerging economies. \n"
   ]
  },
  {
   "cell_type": "markdown",
   "id": "f67f9ebb-0235-4043-ab4b-3dbafea432a5",
   "metadata": {},
   "source": [
    "![Chart 3](./Chart3.png)"
   ]
  }
 ],
 "metadata": {
  "kernelspec": {
   "display_name": "Python 3 (ipykernel)",
   "language": "python",
   "name": "python3"
  },
  "language_info": {
   "codemirror_mode": {
    "name": "ipython",
    "version": 3
   },
   "file_extension": ".py",
   "mimetype": "text/x-python",
   "name": "python",
   "nbconvert_exporter": "python",
   "pygments_lexer": "ipython3",
   "version": "3.10.13"
  }
 },
 "nbformat": 4,
 "nbformat_minor": 5
}
