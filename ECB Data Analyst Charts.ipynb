{
 "cells": [
  {
   "cell_type": "markdown",
   "metadata": {},
   "source": [
    "The European Commission regularly publishes the Emissions Database for Global Atmospheric Research (EDGAR) report on the global greenhouse gas (GHG) emissions around the world. The latest data is published here: https://edgar.jrc.ec.europa.eu/report_2024?vis=ghgpop#data_download\n",
    "\n",
    "Using data from the above website – specifically, the data contained in the **EDGAR GHG emissions files** – prepare three charts (with the specifications described below) and, alongside each chart, provide a maximum of three bullet points explaining the main data trends.\n",
    "\n",
    "- Chart 1 – **Evolution** of **GHG growth** in the **euro area**, **European Union (EU27)** and **worldwide**;\n",
    "\n",
    "- Chart 2 – Comparison of countries’ GHG **emissions per capita** aggregated according to the **World Bank income groups**;\n",
    "\n",
    "    - `CLASS.xlsx` downloaded from https://datahelpdesk.worldbank.org/knowledgebase/articles/906519-world-bank-country-and-lending-groups\n",
    "\n",
    "- Chart 3 – Contribution of individual **country** and **continent** GHG emissions to **total world** GHG emissions. "
   ]
  },
  {
   "cell_type": "markdown",
   "metadata": {},
   "source": [
    "For simplicity, and to make use of the power of Jupyter, we explain everything as we do it: run this Jupyter notebook (or copy and paste the code) to get interactive charts! \n",
    "\n",
    "### Import data and add required aggregates"
   ]
  },
  {
   "cell_type": "code",
   "execution_count": 1,
   "metadata": {},
   "outputs": [],
   "source": [
    "import pandas as pd\n",
    "import plotly.express as px\n",
    "\n",
    "COLORS = ['#003299', '#FFB400', '#FF4B00', '#65B800', '#00B1EA', '#8139C6', '#077C1D'] # ECB charts color scheme (unused, but noting it down)\n",
    "\n",
    "def add_aggregate(data_frame, aggregate_label, aggregate_name, aggregate_components): \n",
    "    data_frame_new = pd.DataFrame({aggregate_label: data_frame.loc[aggregate_components].sum()[1:]}).T\n",
    "    data_frame_new['Country'] = aggregate_name\n",
    "    data_frame_new = pd.concat([data_frame, data_frame_new])\n",
    "    return data_frame_new"
   ]
  },
  {
   "cell_type": "markdown",
   "metadata": {},
   "source": [
    "Importing GHG totals and computing Euro Area aggregate. Guadeloupe, French Guiana, Martinique and Réunion are included in the Euro Area: they are part of France and adopt the Euro."
   ]
  },
  {
   "cell_type": "code",
   "execution_count": 2,
   "metadata": {},
   "outputs": [],
   "source": [
    "EURO_AREA=[\n",
    "    'AUT', 'BEL', 'HRV', 'CYP', 'EST', 'FIN', 'FRA', 'DEU', 'GRC', 'IRL', 'ITA', 'LVA', 'LTU', 'LUX', 'MLT', 'NLD', 'PRT', 'SVK', 'SVN', 'ESP', 'GUF', 'GLP', 'MTQ', 'REU'\n",
    "]\n",
    "GHG_totals_by_country_original = pd.read_excel('EDGAR_2024_GHG_booklet_2024.xlsx', sheet_name='GHG_totals_by_country', index_col=0).dropna() # dropna to drop empty rows\n",
    "GHG_totals_by_country = add_aggregate(GHG_totals_by_country_original, 'EURO AREA', 'EURO AREA', EURO_AREA)"
   ]
  },
  {
   "cell_type": "markdown",
   "metadata": {},
   "source": [
    "Importing GHG per capita, the information from the World Bank, and computing the required aggregates.\n",
    "\n",
    "Income groups are plugged-in by hand (still using Python) to account for some slight labelling differences between the `CLASS.xlsx` file and the `EDGAR_2024_GHG_booklet_2024.xlsx` file. In particular: \n",
    "\n",
    "- The income groups of pacific island and microstates for which no data was present in the GHG file, or whose GHG data was grouped with a much larger nation were ignored (This applies to: Andorra, American Samoa, Channel Islands, Curaçao, Micronesia, Fed. Sts., Guam, Isle of Man, Liechtenstein, St. Martin (French part), Monaco, Marshall Islands, Northern Mariana Islands, Nauru, San Marino, South Sudan, Sint Maarten (Dutch part), Tuvalu, Virgin Islands (U.S.), Kosovo)\n",
    "\n",
    "- 'Guadeloupe', 'French Guiana', 'Martinique' and 'Réunion' are included among the high income countries as part of France\n",
    "\n",
    "- Other less relevant territories whose GHG are listed separately, but which are not part of an income group were also ignored (this applies to: 'Anguilla', 'Cook Islands', 'Western Sahara', 'Falkland Islands', 'Saint Helena, Ascension and Tristan da Cunha', 'Saint Pierre and Miquelon')\n",
    "\n",
    "- Curaçao has a different country code between the two files ('ANT' and 'CUW')\n",
    "\n",
    "- Venezuela is also not part of an income group. ('VEN')\n",
    "\n",
    "- Kosovo, Montenegro and Serbia are listed separately in the World Bank file, but in the GHG file they appear as \"Serbia and Montenegro\" ('SCG')\n",
    "\n",
    "- Sudan and South Sudan are listed separately in the World Bank file, but in the GHG file they appear as \"Sudan and South Sudan\" ('SDN')\n",
    "\n",
    "- Israel and Palestinian territories are listed separately in the World Bank file, but in the GHG file they appear as \"Israel and Palestine, State of\". The income level of Israel is kept for both due to the much larger population. ('ISR')\n",
    "\n",
    "- International Aviation and Shipping are ignored.  "
   ]
  },
  {
   "cell_type": "code",
   "execution_count": 3,
   "metadata": {},
   "outputs": [],
   "source": [
    "\n",
    "income_groups = {\n",
    "    'Low income' : ['AFG', 'BFA', 'BDI', 'CAF', 'TCD', 'COD', 'ERI', 'ETH', 'GMB', 'GNB', 'PRK', 'LBR', 'MDG', 'MWI', 'MLI', 'MOZ', 'NER', 'RWA', 'SLE', 'SOM', 'SDN', 'SYR', 'TGO', 'UGA', 'YEM'], \n",
    "    'Lower middle income': ['AGO', 'BGD', 'BEN', 'BTN', 'BOL', 'CPV', 'KHM', 'CMR', 'COM', 'COG', 'CIV', 'DJI', 'EGY', 'SWZ', 'GHA', 'GIN', 'HTI', 'HND', 'IND', 'JOR', 'KEN', 'KIR', 'KGZ', 'LAO', 'LBN', 'LSO', 'MRT', 'MAR', 'MMR', 'NPL', 'NIC', 'NGA', 'PAK', 'PNG', 'PHL', 'WSM', 'STP', 'SEN', 'SLB', 'LKA', 'TJK', 'TZA', 'TLS', 'TUN', 'UZB', 'VUT', 'VNM', 'ZMB', 'ZWE'], \n",
    "    'Upper middle income': ['ALB', 'DZA', 'ARG', 'ARM', 'AZE', 'BLR', 'BLZ', 'BIH', 'BWA', 'BRA', 'CHN', 'COL', 'CRI', 'CUB', 'DMA', 'DOM', 'ECU', 'SLV', 'GNQ', 'FJI', 'GAB', 'GEO', 'GRD', 'GTM', 'IDN', 'IRN', 'IRQ', 'JAM', 'KAZ', 'LBY', 'MYS', 'MDV', 'MUS', 'MEX', 'MDA', 'MNG', 'NAM', 'MKD', 'PRY', 'PER', 'SCG', 'ZAF', 'LCA', 'VCT', 'SUR', 'THA', 'TON', 'TUR', 'TKM', 'UKR'],\n",
    "    'High income': ['ATG', 'ABW', 'AUS', 'AUT', 'BHS', 'BHR', 'BRB', 'BEL', 'BMU', 'VGB', 'BRN', 'BGR', 'CAN', 'CYM', 'CHL', 'HRV', 'CYP', 'CZE', 'DNK', 'EST', 'FRO', 'FIN', 'FRA', 'PYF', 'DEU', 'GIB', 'GRC', 'GRL', 'GUY', 'HKG', 'HUN', 'ISL', 'IRL', 'ISR', 'ITA', 'JPN', 'KOR', 'KWT', 'LVA', 'LTU', 'LUX', 'MAC', 'MLT', 'NLD', 'NCL', 'NZL', 'NOR', 'OMN', 'PLW', 'PAN', 'POL', 'PRT', 'PRI', 'QAT', 'ROU', 'RUS', 'SAU', 'SYC', 'SGP', 'SVK', 'SVN', 'ESP', 'KNA', 'SWE', 'CHE', 'TWN', 'TTO', 'TCA', 'ARE', 'GBR', 'USA', 'URY', 'ANT', 'GUF', 'GLP', 'MTQ', 'REU']\n",
    "}\n",
    "income_groups_labels = {\n",
    "    'Low income' : 'LOW',\n",
    "    'Lower middle income': 'L_MID',\n",
    "    'Upper middle income': 'H_MID',\n",
    "    'High income': 'HIGH',\n",
    "}\n",
    "\n",
    "all_income_groups_CLASS = sum (income_groups.values(), [])\n",
    "GHG_per_capita_by_country = pd.read_excel('EDGAR_2024_GHG_booklet_2024.xlsx', sheet_name='GHG_per_capita_by_country', index_col=0).dropna() # dropna to drop empty rows\n",
    "CLASS = pd.read_excel('CLASS.xlsx', sheet_name='List of economies')\n",
    "\n",
    "years = [c for c in GHG_per_capita_by_country.columns if type(c)==int] \n",
    "populations = (GHG_totals_by_country[years] / GHG_per_capita_by_country[years]).dropna() # Coefficients proportional to a country's population"
   ]
  },
  {
   "cell_type": "markdown",
   "metadata": {},
   "source": [
    "A weighted average is necessary to get the right amounts:"
   ]
  },
  {
   "cell_type": "code",
   "execution_count": 4,
   "metadata": {},
   "outputs": [],
   "source": [
    "def aggregate_per_capita(data_frame, populations, aggregate_label, aggregate_name, aggregate_components):\n",
    "    new_data_frame = data_frame.loc[aggregate_components].copy()\n",
    "    populations_filter = populations.loc[aggregate_components].copy()\n",
    "    weighted_average = (new_data_frame[years] * populations_filter[years]).sum() / populations_filter[years].sum()\n",
    "    weighted_average = pd.DataFrame(weighted_average, ).T\n",
    "    weighted_average.index = [aggregate_label] \n",
    "    weighted_average['Country'] = aggregate_name\n",
    "    weighted_average = weighted_average[['Country']+years]\n",
    "    return pd.concat([data_frame, weighted_average])"
   ]
  },
  {
   "cell_type": "code",
   "execution_count": 5,
   "metadata": {},
   "outputs": [],
   "source": [
    "for income_group, income_group_countries in income_groups.items(): \n",
    "    GHG_per_capita_by_country = aggregate_per_capita(GHG_per_capita_by_country, populations, income_groups_labels[income_group], income_group, income_group_countries)"
   ]
  },
  {
   "cell_type": "markdown",
   "metadata": {},
   "source": [
    "Dividing countries by region. Using World Bank regions for consistency"
   ]
  },
  {
   "cell_type": "code",
   "execution_count": 6,
   "metadata": {},
   "outputs": [],
   "source": [
    "region_dictionary = {\n",
    "    region: CLASS[CLASS.Region==region].Code.to_list()\n",
    "    for region in CLASS.Region.unique()\n",
    "}\n",
    "\n",
    "region_dictionary_reverse={}\n",
    "for region in region_dictionary.keys():\n",
    "    for code in region_dictionary[region]:\n",
    "        region_dictionary_reverse[code] = region \n",
    "# Adding in missing data\n",
    "region_dictionary_reverse['AIA'] = 'Latin America & Caribbean'\n",
    "region_dictionary_reverse['AIR'] = 'International Aviation'\n",
    "region_dictionary_reverse['ANT'] = 'Latin America & Caribbean'\n",
    "region_dictionary_reverse['COK'] = 'East Asia & Pacific'\n",
    "region_dictionary_reverse['ESH'] = 'Middle East & North Africa'\n",
    "region_dictionary_reverse['FLK'] = 'Latin America & Caribbean'\n",
    "region_dictionary_reverse['GLP'] = 'Latin America & Caribbean'\n",
    "region_dictionary_reverse['GUF'] = 'Latin America & Caribbean'\n",
    "region_dictionary_reverse['MTQ'] = 'Latin America & Caribbean'\n",
    "region_dictionary_reverse['REU'] = 'Sub-Saharan Africa'\n",
    "region_dictionary_reverse['SCG'] = 'Europe & Central Asia'\n",
    "region_dictionary_reverse['SEA'] = 'International Shipping'\n",
    "region_dictionary_reverse['SHN'] = 'Sub-Saharan Africa'\n",
    "region_dictionary_reverse['SPM'] = 'North America'\n",
    "\n",
    "region_reverse_series = pd.Series(region_dictionary_reverse)\n",
    "\n",
    "region_dictionary = {\n",
    "        region : [code for code in region_reverse_series[region_reverse_series==region].index.to_list() if code in GHG_totals_by_country.index]\n",
    "        for region in region_reverse_series.unique()\n",
    "    }\n",
    "region_dictionary\n",
    "\n",
    "region_labels = {\n",
    "    'South Asia' :'SAS',\n",
    "    'Europe & Central Asia' :'ECS',\n",
    "    'Middle East & North Africa' :'MEA',\n",
    "    'East Asia & Pacific' :'EAS',\n",
    "    'Sub-Saharan Africa' :'SSF',\n",
    "    'Latin America & Caribbean' :'LCN',\n",
    "    'North America' :'NAC',\n",
    "    'International Aviation' :'AIR',\n",
    "    'International Shipping' :'SEA', \n",
    "    'GLOBAL TOTAL': 'GLOBAL TOTAL'\n",
    "}\n",
    "\n",
    "GHG_totals_by_country_continent = GHG_totals_by_country_original.copy()\n",
    "\n",
    "# for region in region_dictionary.keys():\n",
    "#     if region not in GHG_totals_by_country_continent.index:\n",
    "#         if region not in ['International Aviation', 'International Shipping']:\n",
    "#             GHG_totals_by_country_continent = add_aggregate(GHG_totals_by_country_continent, region_labels[region], region, region_dictionary[region])\n",
    "GHG_totals_by_country_continent\n",
    "GHG_totals_by_country_continent = GHG_totals_by_country_continent.drop('EU27')\n",
    "GHG_totals_by_country_continent = GHG_totals_by_country_continent.drop('GLOBAL TOTAL')\n",
    "# GHG_totals_by_country_continent = GHG_totals_by_country_continent.drop(dropping)\n",
    "# GHG_totals_by_country_continent['Region'] = [region_dictionary_reverse[index] if index not in region_labels.values() else ('GLOBAL TOTAL' if index != 'GLOBAL TOTAL' else '')  for index in GHG_totals_by_country_continent.index ]\n",
    "GHG_totals_by_country_continent['Region'] = [region_dictionary_reverse[index] if index not in region_labels.values() else 'International Aviation and Shipping'  for index in GHG_totals_by_country_continent.index ]\n",
    "dropping = GHG_totals_by_country_continent[GHG_totals_by_country_continent.Region.isin(['', 'GLOBAL TOTAL'])  & ~GHG_totals_by_country_continent.Country.isin(['International Shipping', 'International Aviation'])].index\n"
   ]
  },
  {
   "cell_type": "markdown",
   "metadata": {},
   "source": [
    "### Chart 1\n",
    "First, we compute the growth from the emission totals by differentiating. We cannot get information from the first period, as no data is present for 1969. Then, we plot the first chart"
   ]
  },
  {
   "cell_type": "code",
   "execution_count": 38,
   "metadata": {},
   "outputs": [
    {
     "data": {
      "application/vnd.plotly.v1+json": {
       "config": {
        "plotlyServerURL": "https://plot.ly"
       },
       "data": [
        {
         "alignmentgroup": "True",
         "hovertemplate": "Region=GLOBAL TOTAL<br>Year=%{x}<br>GHG Emissions (MtCO2e/yr)=%{y}<extra></extra>",
         "legendgroup": "GLOBAL TOTAL",
         "marker": {
          "color": "#003299",
          "pattern": {
           "shape": ""
          }
         },
         "name": "GLOBAL TOTAL",
         "offsetgroup": "GLOBAL TOTAL",
         "orientation": "v",
         "showlegend": true,
         "textposition": "auto",
         "type": "bar",
         "x": [
          1971,
          1972,
          1973,
          1974,
          1975,
          1976,
          1977,
          1978,
          1979,
          1980,
          1981,
          1982,
          1983,
          1984,
          1985,
          1986,
          1987,
          1988,
          1989,
          1990,
          1991,
          1992,
          1993,
          1994,
          1995,
          1996,
          1997,
          1998,
          1999,
          2000,
          2001,
          2002,
          2003,
          2004,
          2005,
          2006,
          2007,
          2008,
          2009,
          2010,
          2011,
          2012,
          2013,
          2014,
          2015,
          2016,
          2017,
          2018,
          2019,
          2020,
          2021,
          2022,
          2023
         ],
         "xaxis": "x",
         "y": [
          45.65648012600286,
          922.870509600998,
          1214.1399716859996,
          -3.270278217998566,
          12.355256849001307,
          1129.3551859009967,
          666.7894675160023,
          704.3976517339979,
          690.0606903910011,
          -290.2782370999994,
          -527.2381767240004,
          -211.84259450099853,
          226.8358476209978,
          790.2056066490004,
          299.48354800499874,
          478.3260226380007,
          735.9440424860004,
          949.0756800400013,
          565.9735975939984,
          324.63601338100125,
          52.47927772899857,
          -87.46258714599753,
          63.25488856299853,
          350.7970070790034,
          825.1568563689943,
          637.8183048499995,
          408.9090578890027,
          86.07613988700177,
          225.1220510610001,
          886.767320975996,
          284.3589061210005,
          439.33584726900153,
          1509.6481508619981,
          1575.5222500960008,
          1312.8734276640025,
          1174.8327338189993,
          1277.2233567360017,
          278.3840378639943,
          -422.86153268999624,
          2210.479868219001,
          1362.0529041350019,
          612.993397940998,
          797.909418342002,
          342.27773063799395,
          -121.40966003799986,
          249.67407971700595,
          820.2925524359962,
          1147.8936403949992,
          251.7204707300043,
          -1950.8090345500023,
          2240.7111469029987,
          400.221568535002,
          994.4292580619949
         ],
         "yaxis": "y"
        },
        {
         "alignmentgroup": "True",
         "hovertemplate": "Region=EU27<br>Year=%{x}<br>GHG Emissions (MtCO2e/yr)=%{y}<extra></extra>",
         "legendgroup": "EU27",
         "marker": {
          "color": "#FFB400",
          "pattern": {
           "shape": ""
          }
         },
         "name": "EU27",
         "offsetgroup": "EU27",
         "orientation": "v",
         "showlegend": true,
         "textposition": "auto",
         "type": "bar",
         "x": [
          1971,
          1972,
          1973,
          1974,
          1975,
          1976,
          1977,
          1978,
          1979,
          1980,
          1981,
          1982,
          1983,
          1984,
          1985,
          1986,
          1987,
          1988,
          1989,
          1990,
          1991,
          1992,
          1993,
          1994,
          1995,
          1996,
          1997,
          1998,
          1999,
          2000,
          2001,
          2002,
          2003,
          2004,
          2005,
          2006,
          2007,
          2008,
          2009,
          2010,
          2011,
          2012,
          2013,
          2014,
          2015,
          2016,
          2017,
          2018,
          2019,
          2020,
          2021,
          2022,
          2023
         ],
         "xaxis": "x",
         "y": [
          24.483558386599725,
          151.78029353040074,
          218.66212655219988,
          -40.13746490310041,
          -87.48747980379994,
          264.03569940980015,
          -11.26779848949991,
          169.29334887139976,
          159.27905493690014,
          -88.66594783989967,
          -205.92016202759987,
          -86.37446794000061,
          -22.484992414099906,
          39.66109700149991,
          3.3977599213003487,
          -1.7112939340004232,
          34.44341220000024,
          -18.951908058499612,
          -12.14436769960048,
          -204.02901805730016,
          -82.70446635010012,
          -178.62985737669987,
          -88.0010445165999,
          -13.755916941800024,
          50.4049381122004,
          112.13652031399943,
          -82.24814569459977,
          -48.8014204072997,
          -77.64376566989995,
          13.407731867800067,
          29.897850286200082,
          -17.120596571900023,
          92.05326561109996,
          3.1946060028994907,
          -35.91234557049938,
          -0.2822928731002321,
          -32.2797294576003,
          -110.16026848279944,
          -290.8470350132002,
          115.33033204249932,
          -108.5554416328996,
          -67.01743632929993,
          -87.57464758669994,
          -146.64658832480018,
          54.20043951080015,
          9.64824070809982,
          22.89225491370007,
          -81.61044861339997,
          -152.6424916781998,
          -289.73760513670004,
          188.7392295894997,
          -94.7075589868,
          -260.51584498409966
         ],
         "yaxis": "y"
        },
        {
         "alignmentgroup": "True",
         "hovertemplate": "Region=EURO AREA<br>Year=%{x}<br>GHG Emissions (MtCO2e/yr)=%{y}<extra></extra>",
         "legendgroup": "EURO AREA",
         "marker": {
          "color": "#FF4B00",
          "pattern": {
           "shape": ""
          }
         },
         "name": "EURO AREA",
         "offsetgroup": "EURO AREA",
         "orientation": "v",
         "showlegend": true,
         "textposition": "auto",
         "type": "bar",
         "x": [
          1971,
          1972,
          1973,
          1974,
          1975,
          1976,
          1977,
          1978,
          1979,
          1980,
          1981,
          1982,
          1983,
          1984,
          1985,
          1986,
          1987,
          1988,
          1989,
          1990,
          1991,
          1992,
          1993,
          1994,
          1995,
          1996,
          1997,
          1998,
          1999,
          2000,
          2001,
          2002,
          2003,
          2004,
          2005,
          2006,
          2007,
          2008,
          2009,
          2010,
          2011,
          2012,
          2013,
          2014,
          2015,
          2016,
          2017,
          2018,
          2019,
          2020,
          2021,
          2022,
          2023
         ],
         "xaxis": "x",
         "y": [
          17.98124858669553,
          120.37431578639598,
          173.01810397252302,
          -38.80499303761371,
          -141.71699793243988,
          199.52988405178303,
          -55.34934030075647,
          108.75958038872977,
          132.0161018247877,
          -74.92472600713927,
          -124.54530586254305,
          -105.0724181386895,
          -14.447539594101272,
          25.620760780620458,
          -12.040916095997545,
          -9.197055929485941,
          18.26269965874917,
          6.9672035116113875,
          43.86845111920775,
          -24.33159436873484,
          5.406610857164196,
          -121.05880965933784,
          -70.17254351537622,
          2.254047350576002,
          50.00768788202731,
          67.33908053180039,
          -36.16951604292262,
          21.30713684836701,
          -27.81195545992705,
          23.32053721975899,
          25.090356652877745,
          1.141847091685122,
          60.07098946780479,
          12.789439956246497,
          -23.5643070688011,
          -30.522404611190723,
          -23.751911147573082,
          -81.73012317672874,
          -222.9873439981311,
          86.88095973596683,
          -103.64369700861425,
          -38.209356658036086,
          -60.15194850325042,
          -127.24364480946178,
          44.800263787711174,
          -2.7655499507059176,
          2.2075625471334206,
          -74.46958728772688,
          -121.02600027549215,
          -246.69295364012305,
          139.79738205253125,
          -78.18970788946626,
          -195.7389324718306
         ],
         "yaxis": "y"
        }
       ],
       "layout": {
        "annotations": [
         {
          "font": {
           "color": "red",
           "size": 10
          },
          "showarrow": false,
          "text": "1973 Oil Crisis",
          "x": 1974.5,
          "xref": "x",
          "y": 1.05,
          "yref": "paper"
         },
         {
          "font": {
           "color": "red",
           "size": 10
          },
          "showarrow": false,
          "text": "Early 1980s Recession",
          "x": 1981,
          "xref": "x",
          "y": 1.05,
          "yref": "paper"
         },
         {
          "font": {
           "color": "red",
           "size": 10
          },
          "showarrow": false,
          "text": "Early 1990s Recession",
          "x": 1991,
          "xref": "x",
          "y": 1.05,
          "yref": "paper"
         },
         {
          "font": {
           "color": "red",
           "size": 10
          },
          "showarrow": false,
          "text": "Global Financial Crisis",
          "x": 2008.5,
          "xref": "x",
          "y": 1.05,
          "yref": "paper"
         },
         {
          "font": {
           "color": "red",
           "size": 10
          },
          "showarrow": false,
          "text": "COVID-19 Recession",
          "x": 2020.5,
          "xref": "x",
          "y": 1.05,
          "yref": "paper"
         }
        ],
        "barmode": "group",
        "height": 600,
        "legend": {
         "title": {
          "text": "Region"
         },
         "tracegroupgap": 0
        },
        "shapes": [
         {
          "fillcolor": "rgba(128, 128, 128, 0.2)",
          "line": {
           "width": 0
          },
          "type": "rect",
          "x0": "1973.5",
          "x1": "1975.5",
          "xref": "x",
          "y0": 0,
          "y1": 1,
          "yref": "paper"
         },
         {
          "fillcolor": "rgba(128, 128, 128, 0.2)",
          "line": {
           "width": 0
          },
          "type": "rect",
          "x0": "1979.5",
          "x1": "1982.5",
          "xref": "x",
          "y0": 0,
          "y1": 1,
          "yref": "paper"
         },
         {
          "fillcolor": "rgba(128, 128, 128, 0.2)",
          "line": {
           "width": 0
          },
          "type": "rect",
          "x0": "1990.5",
          "x1": "1991.5",
          "xref": "x",
          "y0": 0,
          "y1": 1,
          "yref": "paper"
         },
         {
          "fillcolor": "rgba(128, 128, 128, 0.2)",
          "line": {
           "width": 0
          },
          "type": "rect",
          "x0": "2007.5",
          "x1": "2009.5",
          "xref": "x",
          "y0": 0,
          "y1": 1,
          "yref": "paper"
         },
         {
          "fillcolor": "rgba(128, 128, 128, 0.2)",
          "line": {
           "width": 0
          },
          "type": "rect",
          "x0": "2019.5",
          "x1": "2021.5",
          "xref": "x",
          "y0": 0,
          "y1": 1,
          "yref": "paper"
         }
        ],
        "template": {
         "data": {
          "bar": [
           {
            "error_x": {
             "color": "#2a3f5f"
            },
            "error_y": {
             "color": "#2a3f5f"
            },
            "marker": {
             "line": {
              "color": "#E5ECF6",
              "width": 0.5
             },
             "pattern": {
              "fillmode": "overlay",
              "size": 10,
              "solidity": 0.2
             }
            },
            "type": "bar"
           }
          ],
          "barpolar": [
           {
            "marker": {
             "line": {
              "color": "#E5ECF6",
              "width": 0.5
             },
             "pattern": {
              "fillmode": "overlay",
              "size": 10,
              "solidity": 0.2
             }
            },
            "type": "barpolar"
           }
          ],
          "carpet": [
           {
            "aaxis": {
             "endlinecolor": "#2a3f5f",
             "gridcolor": "white",
             "linecolor": "white",
             "minorgridcolor": "white",
             "startlinecolor": "#2a3f5f"
            },
            "baxis": {
             "endlinecolor": "#2a3f5f",
             "gridcolor": "white",
             "linecolor": "white",
             "minorgridcolor": "white",
             "startlinecolor": "#2a3f5f"
            },
            "type": "carpet"
           }
          ],
          "choropleth": [
           {
            "colorbar": {
             "outlinewidth": 0,
             "ticks": ""
            },
            "type": "choropleth"
           }
          ],
          "contour": [
           {
            "colorbar": {
             "outlinewidth": 0,
             "ticks": ""
            },
            "colorscale": [
             [
              0,
              "#0d0887"
             ],
             [
              0.1111111111111111,
              "#46039f"
             ],
             [
              0.2222222222222222,
              "#7201a8"
             ],
             [
              0.3333333333333333,
              "#9c179e"
             ],
             [
              0.4444444444444444,
              "#bd3786"
             ],
             [
              0.5555555555555556,
              "#d8576b"
             ],
             [
              0.6666666666666666,
              "#ed7953"
             ],
             [
              0.7777777777777778,
              "#fb9f3a"
             ],
             [
              0.8888888888888888,
              "#fdca26"
             ],
             [
              1,
              "#f0f921"
             ]
            ],
            "type": "contour"
           }
          ],
          "contourcarpet": [
           {
            "colorbar": {
             "outlinewidth": 0,
             "ticks": ""
            },
            "type": "contourcarpet"
           }
          ],
          "heatmap": [
           {
            "colorbar": {
             "outlinewidth": 0,
             "ticks": ""
            },
            "colorscale": [
             [
              0,
              "#0d0887"
             ],
             [
              0.1111111111111111,
              "#46039f"
             ],
             [
              0.2222222222222222,
              "#7201a8"
             ],
             [
              0.3333333333333333,
              "#9c179e"
             ],
             [
              0.4444444444444444,
              "#bd3786"
             ],
             [
              0.5555555555555556,
              "#d8576b"
             ],
             [
              0.6666666666666666,
              "#ed7953"
             ],
             [
              0.7777777777777778,
              "#fb9f3a"
             ],
             [
              0.8888888888888888,
              "#fdca26"
             ],
             [
              1,
              "#f0f921"
             ]
            ],
            "type": "heatmap"
           }
          ],
          "heatmapgl": [
           {
            "colorbar": {
             "outlinewidth": 0,
             "ticks": ""
            },
            "colorscale": [
             [
              0,
              "#0d0887"
             ],
             [
              0.1111111111111111,
              "#46039f"
             ],
             [
              0.2222222222222222,
              "#7201a8"
             ],
             [
              0.3333333333333333,
              "#9c179e"
             ],
             [
              0.4444444444444444,
              "#bd3786"
             ],
             [
              0.5555555555555556,
              "#d8576b"
             ],
             [
              0.6666666666666666,
              "#ed7953"
             ],
             [
              0.7777777777777778,
              "#fb9f3a"
             ],
             [
              0.8888888888888888,
              "#fdca26"
             ],
             [
              1,
              "#f0f921"
             ]
            ],
            "type": "heatmapgl"
           }
          ],
          "histogram": [
           {
            "marker": {
             "pattern": {
              "fillmode": "overlay",
              "size": 10,
              "solidity": 0.2
             }
            },
            "type": "histogram"
           }
          ],
          "histogram2d": [
           {
            "colorbar": {
             "outlinewidth": 0,
             "ticks": ""
            },
            "colorscale": [
             [
              0,
              "#0d0887"
             ],
             [
              0.1111111111111111,
              "#46039f"
             ],
             [
              0.2222222222222222,
              "#7201a8"
             ],
             [
              0.3333333333333333,
              "#9c179e"
             ],
             [
              0.4444444444444444,
              "#bd3786"
             ],
             [
              0.5555555555555556,
              "#d8576b"
             ],
             [
              0.6666666666666666,
              "#ed7953"
             ],
             [
              0.7777777777777778,
              "#fb9f3a"
             ],
             [
              0.8888888888888888,
              "#fdca26"
             ],
             [
              1,
              "#f0f921"
             ]
            ],
            "type": "histogram2d"
           }
          ],
          "histogram2dcontour": [
           {
            "colorbar": {
             "outlinewidth": 0,
             "ticks": ""
            },
            "colorscale": [
             [
              0,
              "#0d0887"
             ],
             [
              0.1111111111111111,
              "#46039f"
             ],
             [
              0.2222222222222222,
              "#7201a8"
             ],
             [
              0.3333333333333333,
              "#9c179e"
             ],
             [
              0.4444444444444444,
              "#bd3786"
             ],
             [
              0.5555555555555556,
              "#d8576b"
             ],
             [
              0.6666666666666666,
              "#ed7953"
             ],
             [
              0.7777777777777778,
              "#fb9f3a"
             ],
             [
              0.8888888888888888,
              "#fdca26"
             ],
             [
              1,
              "#f0f921"
             ]
            ],
            "type": "histogram2dcontour"
           }
          ],
          "mesh3d": [
           {
            "colorbar": {
             "outlinewidth": 0,
             "ticks": ""
            },
            "type": "mesh3d"
           }
          ],
          "parcoords": [
           {
            "line": {
             "colorbar": {
              "outlinewidth": 0,
              "ticks": ""
             }
            },
            "type": "parcoords"
           }
          ],
          "pie": [
           {
            "automargin": true,
            "type": "pie"
           }
          ],
          "scatter": [
           {
            "fillpattern": {
             "fillmode": "overlay",
             "size": 10,
             "solidity": 0.2
            },
            "type": "scatter"
           }
          ],
          "scatter3d": [
           {
            "line": {
             "colorbar": {
              "outlinewidth": 0,
              "ticks": ""
             }
            },
            "marker": {
             "colorbar": {
              "outlinewidth": 0,
              "ticks": ""
             }
            },
            "type": "scatter3d"
           }
          ],
          "scattercarpet": [
           {
            "marker": {
             "colorbar": {
              "outlinewidth": 0,
              "ticks": ""
             }
            },
            "type": "scattercarpet"
           }
          ],
          "scattergeo": [
           {
            "marker": {
             "colorbar": {
              "outlinewidth": 0,
              "ticks": ""
             }
            },
            "type": "scattergeo"
           }
          ],
          "scattergl": [
           {
            "marker": {
             "colorbar": {
              "outlinewidth": 0,
              "ticks": ""
             }
            },
            "type": "scattergl"
           }
          ],
          "scattermapbox": [
           {
            "marker": {
             "colorbar": {
              "outlinewidth": 0,
              "ticks": ""
             }
            },
            "type": "scattermapbox"
           }
          ],
          "scatterpolar": [
           {
            "marker": {
             "colorbar": {
              "outlinewidth": 0,
              "ticks": ""
             }
            },
            "type": "scatterpolar"
           }
          ],
          "scatterpolargl": [
           {
            "marker": {
             "colorbar": {
              "outlinewidth": 0,
              "ticks": ""
             }
            },
            "type": "scatterpolargl"
           }
          ],
          "scatterternary": [
           {
            "marker": {
             "colorbar": {
              "outlinewidth": 0,
              "ticks": ""
             }
            },
            "type": "scatterternary"
           }
          ],
          "surface": [
           {
            "colorbar": {
             "outlinewidth": 0,
             "ticks": ""
            },
            "colorscale": [
             [
              0,
              "#0d0887"
             ],
             [
              0.1111111111111111,
              "#46039f"
             ],
             [
              0.2222222222222222,
              "#7201a8"
             ],
             [
              0.3333333333333333,
              "#9c179e"
             ],
             [
              0.4444444444444444,
              "#bd3786"
             ],
             [
              0.5555555555555556,
              "#d8576b"
             ],
             [
              0.6666666666666666,
              "#ed7953"
             ],
             [
              0.7777777777777778,
              "#fb9f3a"
             ],
             [
              0.8888888888888888,
              "#fdca26"
             ],
             [
              1,
              "#f0f921"
             ]
            ],
            "type": "surface"
           }
          ],
          "table": [
           {
            "cells": {
             "fill": {
              "color": "#EBF0F8"
             },
             "line": {
              "color": "white"
             }
            },
            "header": {
             "fill": {
              "color": "#C8D4E3"
             },
             "line": {
              "color": "white"
             }
            },
            "type": "table"
           }
          ]
         },
         "layout": {
          "annotationdefaults": {
           "arrowcolor": "#2a3f5f",
           "arrowhead": 0,
           "arrowwidth": 1
          },
          "autotypenumbers": "strict",
          "coloraxis": {
           "colorbar": {
            "outlinewidth": 0,
            "ticks": ""
           }
          },
          "colorscale": {
           "diverging": [
            [
             0,
             "#8e0152"
            ],
            [
             0.1,
             "#c51b7d"
            ],
            [
             0.2,
             "#de77ae"
            ],
            [
             0.3,
             "#f1b6da"
            ],
            [
             0.4,
             "#fde0ef"
            ],
            [
             0.5,
             "#f7f7f7"
            ],
            [
             0.6,
             "#e6f5d0"
            ],
            [
             0.7,
             "#b8e186"
            ],
            [
             0.8,
             "#7fbc41"
            ],
            [
             0.9,
             "#4d9221"
            ],
            [
             1,
             "#276419"
            ]
           ],
           "sequential": [
            [
             0,
             "#0d0887"
            ],
            [
             0.1111111111111111,
             "#46039f"
            ],
            [
             0.2222222222222222,
             "#7201a8"
            ],
            [
             0.3333333333333333,
             "#9c179e"
            ],
            [
             0.4444444444444444,
             "#bd3786"
            ],
            [
             0.5555555555555556,
             "#d8576b"
            ],
            [
             0.6666666666666666,
             "#ed7953"
            ],
            [
             0.7777777777777778,
             "#fb9f3a"
            ],
            [
             0.8888888888888888,
             "#fdca26"
            ],
            [
             1,
             "#f0f921"
            ]
           ],
           "sequentialminus": [
            [
             0,
             "#0d0887"
            ],
            [
             0.1111111111111111,
             "#46039f"
            ],
            [
             0.2222222222222222,
             "#7201a8"
            ],
            [
             0.3333333333333333,
             "#9c179e"
            ],
            [
             0.4444444444444444,
             "#bd3786"
            ],
            [
             0.5555555555555556,
             "#d8576b"
            ],
            [
             0.6666666666666666,
             "#ed7953"
            ],
            [
             0.7777777777777778,
             "#fb9f3a"
            ],
            [
             0.8888888888888888,
             "#fdca26"
            ],
            [
             1,
             "#f0f921"
            ]
           ]
          },
          "colorway": [
           "#636efa",
           "#EF553B",
           "#00cc96",
           "#ab63fa",
           "#FFA15A",
           "#19d3f3",
           "#FF6692",
           "#B6E880",
           "#FF97FF",
           "#FECB52"
          ],
          "font": {
           "color": "#2a3f5f"
          },
          "geo": {
           "bgcolor": "white",
           "lakecolor": "white",
           "landcolor": "#E5ECF6",
           "showlakes": true,
           "showland": true,
           "subunitcolor": "white"
          },
          "hoverlabel": {
           "align": "left"
          },
          "hovermode": "closest",
          "mapbox": {
           "style": "light"
          },
          "paper_bgcolor": "white",
          "plot_bgcolor": "#E5ECF6",
          "polar": {
           "angularaxis": {
            "gridcolor": "white",
            "linecolor": "white",
            "ticks": ""
           },
           "bgcolor": "#E5ECF6",
           "radialaxis": {
            "gridcolor": "white",
            "linecolor": "white",
            "ticks": ""
           }
          },
          "scene": {
           "xaxis": {
            "backgroundcolor": "#E5ECF6",
            "gridcolor": "white",
            "gridwidth": 2,
            "linecolor": "white",
            "showbackground": true,
            "ticks": "",
            "zerolinecolor": "white"
           },
           "yaxis": {
            "backgroundcolor": "#E5ECF6",
            "gridcolor": "white",
            "gridwidth": 2,
            "linecolor": "white",
            "showbackground": true,
            "ticks": "",
            "zerolinecolor": "white"
           },
           "zaxis": {
            "backgroundcolor": "#E5ECF6",
            "gridcolor": "white",
            "gridwidth": 2,
            "linecolor": "white",
            "showbackground": true,
            "ticks": "",
            "zerolinecolor": "white"
           }
          },
          "shapedefaults": {
           "line": {
            "color": "#2a3f5f"
           }
          },
          "ternary": {
           "aaxis": {
            "gridcolor": "white",
            "linecolor": "white",
            "ticks": ""
           },
           "baxis": {
            "gridcolor": "white",
            "linecolor": "white",
            "ticks": ""
           },
           "bgcolor": "#E5ECF6",
           "caxis": {
            "gridcolor": "white",
            "linecolor": "white",
            "ticks": ""
           }
          },
          "title": {
           "x": 0.05
          },
          "xaxis": {
           "automargin": true,
           "gridcolor": "white",
           "linecolor": "white",
           "ticks": "",
           "title": {
            "standoff": 15
           },
           "zerolinecolor": "white",
           "zerolinewidth": 2
          },
          "yaxis": {
           "automargin": true,
           "gridcolor": "white",
           "linecolor": "white",
           "ticks": "",
           "title": {
            "standoff": 15
           },
           "zerolinecolor": "white",
           "zerolinewidth": 2
          }
         }
        },
        "title": {
         "text": "Change in GHG Emissions for EU27, Euro Area and whole world (1970-2023)"
        },
        "width": 1350,
        "xaxis": {
         "anchor": "y",
         "domain": [
          0,
          1
         ],
         "range": [
          1970,
          2023.5
         ],
         "title": {
          "text": "Year"
         },
         "type": "linear"
        },
        "yaxis": {
         "anchor": "x",
         "autorange": true,
         "domain": [
          0,
          1
         ],
         "range": [
          -2183.6712668529467,
          2473.573379205943
         ],
         "title": {
          "text": "GHG Emissions (MtCO2e/yr)"
         },
         "type": "linear"
        }
       }
      },
      "image/png": "[encoded data removed]",
      "text/html": [
       "<div>                            <div id=\"de826fb5-fa01-45eb-b1e6-3dce37fb8a54\" class=\"plotly-graph-div\" style=\"height:600px; width:1350px;\"></div>            <script type=\"text/javascript\">                require([\"plotly\"], function(Plotly) {                    window.PLOTLYENV=window.PLOTLYENV || {};                                    if (document.getElementById(\"de826fb5-fa01-45eb-b1e6-3dce37fb8a54\")) {                    Plotly.newPlot(                        \"de826fb5-fa01-45eb-b1e6-3dce37fb8a54\",                        [{\"alignmentgroup\":\"True\",\"hovertemplate\":\"Region=GLOBAL TOTAL\\u003cbr\\u003eYear=%{x}\\u003cbr\\u003eGHG Emissions (MtCO2e\\u002fyr)=%{y}\\u003cextra\\u003e\\u003c\\u002fextra\\u003e\",\"legendgroup\":\"GLOBAL TOTAL\",\"marker\":{\"color\":\"#003299\",\"pattern\":{\"shape\":\"\"}},\"name\":\"GLOBAL TOTAL\",\"offsetgroup\":\"GLOBAL TOTAL\",\"orientation\":\"v\",\"showlegend\":true,\"textposition\":\"auto\",\"x\":[1971,1972,1973,1974,1975,1976,1977,1978,1979,1980,1981,1982,1983,1984,1985,1986,1987,1988,1989,1990,1991,1992,1993,1994,1995,1996,1997,1998,1999,2000,2001,2002,2003,2004,2005,2006,2007,2008,2009,2010,2011,2012,2013,2014,2015,2016,2017,2018,2019,2020,2021,2022,2023],\"xaxis\":\"x\",\"y\":[45.65648012600286,922.870509600998,1214.1399716859996,-3.270278217998566,12.355256849001307,1129.3551859009967,666.7894675160023,704.3976517339979,690.0606903910011,-290.2782370999994,-527.2381767240004,-211.84259450099853,226.8358476209978,790.2056066490004,299.48354800499874,478.3260226380007,735.9440424860004,949.0756800400013,565.9735975939984,324.63601338100125,52.47927772899857,-87.46258714599753,63.25488856299853,350.7970070790034,825.1568563689943,637.8183048499995,408.9090578890027,86.07613988700177,225.1220510610001,886.767320975996,284.3589061210005,439.33584726900153,1509.6481508619981,1575.5222500960008,1312.8734276640025,1174.8327338189993,1277.2233567360017,278.3840378639943,-422.86153268999624,2210.479868219001,1362.0529041350019,612.993397940998,797.909418342002,342.27773063799395,-121.40966003799986,249.67407971700595,820.2925524359962,1147.8936403949992,251.7204707300043,-1950.8090345500023,2240.7111469029987,400.221568535002,994.4292580619949],\"yaxis\":\"y\",\"type\":\"bar\"},{\"alignmentgroup\":\"True\",\"hovertemplate\":\"Region=EU27\\u003cbr\\u003eYear=%{x}\\u003cbr\\u003eGHG Emissions (MtCO2e\\u002fyr)=%{y}\\u003cextra\\u003e\\u003c\\u002fextra\\u003e\",\"legendgroup\":\"EU27\",\"marker\":{\"color\":\"#FFB400\",\"pattern\":{\"shape\":\"\"}},\"name\":\"EU27\",\"offsetgroup\":\"EU27\",\"orientation\":\"v\",\"showlegend\":true,\"textposition\":\"auto\",\"x\":[1971,1972,1973,1974,1975,1976,1977,1978,1979,1980,1981,1982,1983,1984,1985,1986,1987,1988,1989,1990,1991,1992,1993,1994,1995,1996,1997,1998,1999,2000,2001,2002,2003,2004,2005,2006,2007,2008,2009,2010,2011,2012,2013,2014,2015,2016,2017,2018,2019,2020,2021,2022,2023],\"xaxis\":\"x\",\"y\":[24.483558386599725,151.78029353040074,218.66212655219988,-40.13746490310041,-87.48747980379994,264.03569940980015,-11.26779848949991,169.29334887139976,159.27905493690014,-88.66594783989967,-205.92016202759987,-86.37446794000061,-22.484992414099906,39.66109700149991,3.3977599213003487,-1.7112939340004232,34.44341220000024,-18.951908058499612,-12.14436769960048,-204.02901805730016,-82.70446635010012,-178.62985737669987,-88.0010445165999,-13.755916941800024,50.4049381122004,112.13652031399943,-82.24814569459977,-48.8014204072997,-77.64376566989995,13.407731867800067,29.897850286200082,-17.120596571900023,92.05326561109996,3.1946060028994907,-35.91234557049938,-0.2822928731002321,-32.2797294576003,-110.16026848279944,-290.8470350132002,115.33033204249932,-108.5554416328996,-67.01743632929993,-87.57464758669994,-146.64658832480018,54.20043951080015,9.64824070809982,22.89225491370007,-81.61044861339997,-152.6424916781998,-289.73760513670004,188.7392295894997,-94.7075589868,-260.51584498409966],\"yaxis\":\"y\",\"type\":\"bar\"},{\"alignmentgroup\":\"True\",\"hovertemplate\":\"Region=EURO AREA\\u003cbr\\u003eYear=%{x}\\u003cbr\\u003eGHG Emissions (MtCO2e\\u002fyr)=%{y}\\u003cextra\\u003e\\u003c\\u002fextra\\u003e\",\"legendgroup\":\"EURO AREA\",\"marker\":{\"color\":\"#FF4B00\",\"pattern\":{\"shape\":\"\"}},\"name\":\"EURO AREA\",\"offsetgroup\":\"EURO AREA\",\"orientation\":\"v\",\"showlegend\":true,\"textposition\":\"auto\",\"x\":[1971,1972,1973,1974,1975,1976,1977,1978,1979,1980,1981,1982,1983,1984,1985,1986,1987,1988,1989,1990,1991,1992,1993,1994,1995,1996,1997,1998,1999,2000,2001,2002,2003,2004,2005,2006,2007,2008,2009,2010,2011,2012,2013,2014,2015,2016,2017,2018,2019,2020,2021,2022,2023],\"xaxis\":\"x\",\"y\":[17.98124858669553,120.37431578639598,173.01810397252302,-38.80499303761371,-141.71699793243988,199.52988405178303,-55.34934030075647,108.75958038872977,132.0161018247877,-74.92472600713927,-124.54530586254305,-105.0724181386895,-14.447539594101272,25.620760780620458,-12.040916095997545,-9.197055929485941,18.26269965874917,6.9672035116113875,43.86845111920775,-24.33159436873484,5.406610857164196,-121.05880965933784,-70.17254351537622,2.254047350576002,50.00768788202731,67.33908053180039,-36.16951604292262,21.30713684836701,-27.81195545992705,23.32053721975899,25.090356652877745,1.141847091685122,60.07098946780479,12.789439956246497,-23.5643070688011,-30.522404611190723,-23.751911147573082,-81.73012317672874,-222.9873439981311,86.88095973596683,-103.64369700861425,-38.209356658036086,-60.15194850325042,-127.24364480946178,44.800263787711174,-2.7655499507059176,2.2075625471334206,-74.46958728772688,-121.02600027549215,-246.69295364012305,139.79738205253125,-78.18970788946626,-195.7389324718306],\"yaxis\":\"y\",\"type\":\"bar\"}],                        {\"template\":{\"data\":{\"histogram2dcontour\":[{\"type\":\"histogram2dcontour\",\"colorbar\":{\"outlinewidth\":0,\"ticks\":\"\"},\"colorscale\":[[0.0,\"#0d0887\"],[0.1111111111111111,\"#46039f\"],[0.2222222222222222,\"#7201a8\"],[0.3333333333333333,\"#9c179e\"],[0.4444444444444444,\"#bd3786\"],[0.5555555555555556,\"#d8576b\"],[0.6666666666666666,\"#ed7953\"],[0.7777777777777778,\"#fb9f3a\"],[0.8888888888888888,\"#fdca26\"],[1.0,\"#f0f921\"]]}],\"choropleth\":[{\"type\":\"choropleth\",\"colorbar\":{\"outlinewidth\":0,\"ticks\":\"\"}}],\"histogram2d\":[{\"type\":\"histogram2d\",\"colorbar\":{\"outlinewidth\":0,\"ticks\":\"\"},\"colorscale\":[[0.0,\"#0d0887\"],[0.1111111111111111,\"#46039f\"],[0.2222222222222222,\"#7201a8\"],[0.3333333333333333,\"#9c179e\"],[0.4444444444444444,\"#bd3786\"],[0.5555555555555556,\"#d8576b\"],[0.6666666666666666,\"#ed7953\"],[0.7777777777777778,\"#fb9f3a\"],[0.8888888888888888,\"#fdca26\"],[1.0,\"#f0f921\"]]}],\"heatmap\":[{\"type\":\"heatmap\",\"colorbar\":{\"outlinewidth\":0,\"ticks\":\"\"},\"colorscale\":[[0.0,\"#0d0887\"],[0.1111111111111111,\"#46039f\"],[0.2222222222222222,\"#7201a8\"],[0.3333333333333333,\"#9c179e\"],[0.4444444444444444,\"#bd3786\"],[0.5555555555555556,\"#d8576b\"],[0.6666666666666666,\"#ed7953\"],[0.7777777777777778,\"#fb9f3a\"],[0.8888888888888888,\"#fdca26\"],[1.0,\"#f0f921\"]]}],\"heatmapgl\":[{\"type\":\"heatmapgl\",\"colorbar\":{\"outlinewidth\":0,\"ticks\":\"\"},\"colorscale\":[[0.0,\"#0d0887\"],[0.1111111111111111,\"#46039f\"],[0.2222222222222222,\"#7201a8\"],[0.3333333333333333,\"#9c179e\"],[0.4444444444444444,\"#bd3786\"],[0.5555555555555556,\"#d8576b\"],[0.6666666666666666,\"#ed7953\"],[0.7777777777777778,\"#fb9f3a\"],[0.8888888888888888,\"#fdca26\"],[1.0,\"#f0f921\"]]}],\"contourcarpet\":[{\"type\":\"contourcarpet\",\"colorbar\":{\"outlinewidth\":0,\"ticks\":\"\"}}],\"contour\":[{\"type\":\"contour\",\"colorbar\":{\"outlinewidth\":0,\"ticks\":\"\"},\"colorscale\":[[0.0,\"#0d0887\"],[0.1111111111111111,\"#46039f\"],[0.2222222222222222,\"#7201a8\"],[0.3333333333333333,\"#9c179e\"],[0.4444444444444444,\"#bd3786\"],[0.5555555555555556,\"#d8576b\"],[0.6666666666666666,\"#ed7953\"],[0.7777777777777778,\"#fb9f3a\"],[0.8888888888888888,\"#fdca26\"],[1.0,\"#f0f921\"]]}],\"surface\":[{\"type\":\"surface\",\"colorbar\":{\"outlinewidth\":0,\"ticks\":\"\"},\"colorscale\":[[0.0,\"#0d0887\"],[0.1111111111111111,\"#46039f\"],[0.2222222222222222,\"#7201a8\"],[0.3333333333333333,\"#9c179e\"],[0.4444444444444444,\"#bd3786\"],[0.5555555555555556,\"#d8576b\"],[0.6666666666666666,\"#ed7953\"],[0.7777777777777778,\"#fb9f3a\"],[0.8888888888888888,\"#fdca26\"],[1.0,\"#f0f921\"]]}],\"mesh3d\":[{\"type\":\"mesh3d\",\"colorbar\":{\"outlinewidth\":0,\"ticks\":\"\"}}],\"scatter\":[{\"fillpattern\":{\"fillmode\":\"overlay\",\"size\":10,\"solidity\":0.2},\"type\":\"scatter\"}],\"parcoords\":[{\"type\":\"parcoords\",\"line\":{\"colorbar\":{\"outlinewidth\":0,\"ticks\":\"\"}}}],\"scatterpolargl\":[{\"type\":\"scatterpolargl\",\"marker\":{\"colorbar\":{\"outlinewidth\":0,\"ticks\":\"\"}}}],\"bar\":[{\"error_x\":{\"color\":\"#2a3f5f\"},\"error_y\":{\"color\":\"#2a3f5f\"},\"marker\":{\"line\":{\"color\":\"#E5ECF6\",\"width\":0.5},\"pattern\":{\"fillmode\":\"overlay\",\"size\":10,\"solidity\":0.2}},\"type\":\"bar\"}],\"scattergeo\":[{\"type\":\"scattergeo\",\"marker\":{\"colorbar\":{\"outlinewidth\":0,\"ticks\":\"\"}}}],\"scatterpolar\":[{\"type\":\"scatterpolar\",\"marker\":{\"colorbar\":{\"outlinewidth\":0,\"ticks\":\"\"}}}],\"histogram\":[{\"marker\":{\"pattern\":{\"fillmode\":\"overlay\",\"size\":10,\"solidity\":0.2}},\"type\":\"histogram\"}],\"scattergl\":[{\"type\":\"scattergl\",\"marker\":{\"colorbar\":{\"outlinewidth\":0,\"ticks\":\"\"}}}],\"scatter3d\":[{\"type\":\"scatter3d\",\"line\":{\"colorbar\":{\"outlinewidth\":0,\"ticks\":\"\"}},\"marker\":{\"colorbar\":{\"outlinewidth\":0,\"ticks\":\"\"}}}],\"scattermapbox\":[{\"type\":\"scattermapbox\",\"marker\":{\"colorbar\":{\"outlinewidth\":0,\"ticks\":\"\"}}}],\"scatterternary\":[{\"type\":\"scatterternary\",\"marker\":{\"colorbar\":{\"outlinewidth\":0,\"ticks\":\"\"}}}],\"scattercarpet\":[{\"type\":\"scattercarpet\",\"marker\":{\"colorbar\":{\"outlinewidth\":0,\"ticks\":\"\"}}}],\"carpet\":[{\"aaxis\":{\"endlinecolor\":\"#2a3f5f\",\"gridcolor\":\"white\",\"linecolor\":\"white\",\"minorgridcolor\":\"white\",\"startlinecolor\":\"#2a3f5f\"},\"baxis\":{\"endlinecolor\":\"#2a3f5f\",\"gridcolor\":\"white\",\"linecolor\":\"white\",\"minorgridcolor\":\"white\",\"startlinecolor\":\"#2a3f5f\"},\"type\":\"carpet\"}],\"table\":[{\"cells\":{\"fill\":{\"color\":\"#EBF0F8\"},\"line\":{\"color\":\"white\"}},\"header\":{\"fill\":{\"color\":\"#C8D4E3\"},\"line\":{\"color\":\"white\"}},\"type\":\"table\"}],\"barpolar\":[{\"marker\":{\"line\":{\"color\":\"#E5ECF6\",\"width\":0.5},\"pattern\":{\"fillmode\":\"overlay\",\"size\":10,\"solidity\":0.2}},\"type\":\"barpolar\"}],\"pie\":[{\"automargin\":true,\"type\":\"pie\"}]},\"layout\":{\"autotypenumbers\":\"strict\",\"colorway\":[\"#636efa\",\"#EF553B\",\"#00cc96\",\"#ab63fa\",\"#FFA15A\",\"#19d3f3\",\"#FF6692\",\"#B6E880\",\"#FF97FF\",\"#FECB52\"],\"font\":{\"color\":\"#2a3f5f\"},\"hovermode\":\"closest\",\"hoverlabel\":{\"align\":\"left\"},\"paper_bgcolor\":\"white\",\"plot_bgcolor\":\"#E5ECF6\",\"polar\":{\"bgcolor\":\"#E5ECF6\",\"angularaxis\":{\"gridcolor\":\"white\",\"linecolor\":\"white\",\"ticks\":\"\"},\"radialaxis\":{\"gridcolor\":\"white\",\"linecolor\":\"white\",\"ticks\":\"\"}},\"ternary\":{\"bgcolor\":\"#E5ECF6\",\"aaxis\":{\"gridcolor\":\"white\",\"linecolor\":\"white\",\"ticks\":\"\"},\"baxis\":{\"gridcolor\":\"white\",\"linecolor\":\"white\",\"ticks\":\"\"},\"caxis\":{\"gridcolor\":\"white\",\"linecolor\":\"white\",\"ticks\":\"\"}},\"coloraxis\":{\"colorbar\":{\"outlinewidth\":0,\"ticks\":\"\"}},\"colorscale\":{\"sequential\":[[0.0,\"#0d0887\"],[0.1111111111111111,\"#46039f\"],[0.2222222222222222,\"#7201a8\"],[0.3333333333333333,\"#9c179e\"],[0.4444444444444444,\"#bd3786\"],[0.5555555555555556,\"#d8576b\"],[0.6666666666666666,\"#ed7953\"],[0.7777777777777778,\"#fb9f3a\"],[0.8888888888888888,\"#fdca26\"],[1.0,\"#f0f921\"]],\"sequentialminus\":[[0.0,\"#0d0887\"],[0.1111111111111111,\"#46039f\"],[0.2222222222222222,\"#7201a8\"],[0.3333333333333333,\"#9c179e\"],[0.4444444444444444,\"#bd3786\"],[0.5555555555555556,\"#d8576b\"],[0.6666666666666666,\"#ed7953\"],[0.7777777777777778,\"#fb9f3a\"],[0.8888888888888888,\"#fdca26\"],[1.0,\"#f0f921\"]],\"diverging\":[[0,\"#8e0152\"],[0.1,\"#c51b7d\"],[0.2,\"#de77ae\"],[0.3,\"#f1b6da\"],[0.4,\"#fde0ef\"],[0.5,\"#f7f7f7\"],[0.6,\"#e6f5d0\"],[0.7,\"#b8e186\"],[0.8,\"#7fbc41\"],[0.9,\"#4d9221\"],[1,\"#276419\"]]},\"xaxis\":{\"gridcolor\":\"white\",\"linecolor\":\"white\",\"ticks\":\"\",\"title\":{\"standoff\":15},\"zerolinecolor\":\"white\",\"automargin\":true,\"zerolinewidth\":2},\"yaxis\":{\"gridcolor\":\"white\",\"linecolor\":\"white\",\"ticks\":\"\",\"title\":{\"standoff\":15},\"zerolinecolor\":\"white\",\"automargin\":true,\"zerolinewidth\":2},\"scene\":{\"xaxis\":{\"backgroundcolor\":\"#E5ECF6\",\"gridcolor\":\"white\",\"linecolor\":\"white\",\"showbackground\":true,\"ticks\":\"\",\"zerolinecolor\":\"white\",\"gridwidth\":2},\"yaxis\":{\"backgroundcolor\":\"#E5ECF6\",\"gridcolor\":\"white\",\"linecolor\":\"white\",\"showbackground\":true,\"ticks\":\"\",\"zerolinecolor\":\"white\",\"gridwidth\":2},\"zaxis\":{\"backgroundcolor\":\"#E5ECF6\",\"gridcolor\":\"white\",\"linecolor\":\"white\",\"showbackground\":true,\"ticks\":\"\",\"zerolinecolor\":\"white\",\"gridwidth\":2}},\"shapedefaults\":{\"line\":{\"color\":\"#2a3f5f\"}},\"annotationdefaults\":{\"arrowcolor\":\"#2a3f5f\",\"arrowhead\":0,\"arrowwidth\":1},\"geo\":{\"bgcolor\":\"white\",\"landcolor\":\"#E5ECF6\",\"subunitcolor\":\"white\",\"showland\":true,\"showlakes\":true,\"lakecolor\":\"white\"},\"title\":{\"x\":0.05},\"mapbox\":{\"style\":\"light\"}}},\"xaxis\":{\"anchor\":\"y\",\"domain\":[0.0,1.0],\"title\":{\"text\":\"Year\"},\"range\":[1970,2023.5]},\"yaxis\":{\"anchor\":\"x\",\"domain\":[0.0,1.0],\"title\":{\"text\":\"GHG Emissions (MtCO2e\\u002fyr)\"}},\"legend\":{\"title\":{\"text\":\"Region\"},\"tracegroupgap\":0},\"title\":{\"text\":\"Change in GHG Emissions for EU27, Euro Area and whole world (1970-2023)\"},\"barmode\":\"group\",\"height\":600,\"width\":1350,\"shapes\":[{\"fillcolor\":\"rgba(128, 128, 128, 0.2)\",\"line\":{\"width\":0},\"type\":\"rect\",\"x0\":\"1973.5\",\"x1\":\"1975.5\",\"xref\":\"x\",\"y0\":0,\"y1\":1,\"yref\":\"paper\"},{\"fillcolor\":\"rgba(128, 128, 128, 0.2)\",\"line\":{\"width\":0},\"type\":\"rect\",\"x0\":\"1979.5\",\"x1\":\"1982.5\",\"xref\":\"x\",\"y0\":0,\"y1\":1,\"yref\":\"paper\"},{\"fillcolor\":\"rgba(128, 128, 128, 0.2)\",\"line\":{\"width\":0},\"type\":\"rect\",\"x0\":\"1990.5\",\"x1\":\"1991.5\",\"xref\":\"x\",\"y0\":0,\"y1\":1,\"yref\":\"paper\"},{\"fillcolor\":\"rgba(128, 128, 128, 0.2)\",\"line\":{\"width\":0},\"type\":\"rect\",\"x0\":\"2007.5\",\"x1\":\"2009.5\",\"xref\":\"x\",\"y0\":0,\"y1\":1,\"yref\":\"paper\"},{\"fillcolor\":\"rgba(128, 128, 128, 0.2)\",\"line\":{\"width\":0},\"type\":\"rect\",\"x0\":\"2019.5\",\"x1\":\"2021.5\",\"xref\":\"x\",\"y0\":0,\"y1\":1,\"yref\":\"paper\"}],\"annotations\":[{\"font\":{\"color\":\"red\",\"size\":10},\"showarrow\":false,\"text\":\"1973 Oil Crisis\",\"x\":1974.5,\"xref\":\"x\",\"y\":1.05,\"yref\":\"paper\"},{\"font\":{\"color\":\"red\",\"size\":10},\"showarrow\":false,\"text\":\"Early 1980s Recession\",\"x\":1981.0,\"xref\":\"x\",\"y\":1.05,\"yref\":\"paper\"},{\"font\":{\"color\":\"red\",\"size\":10},\"showarrow\":false,\"text\":\"Early 1990s Recession\",\"x\":1991.0,\"xref\":\"x\",\"y\":1.05,\"yref\":\"paper\"},{\"font\":{\"color\":\"red\",\"size\":10},\"showarrow\":false,\"text\":\"Global Financial Crisis\",\"x\":2008.5,\"xref\":\"x\",\"y\":1.05,\"yref\":\"paper\"},{\"font\":{\"color\":\"red\",\"size\":10},\"showarrow\":false,\"text\":\"COVID-19 Recession\",\"x\":2020.5,\"xref\":\"x\",\"y\":1.05,\"yref\":\"paper\"}]},                        {\"responsive\": true}                    ).then(function(){\n",
       "                            \n",
       "var gd = document.getElementById('de826fb5-fa01-45eb-b1e6-3dce37fb8a54');\n",
       "var x = new MutationObserver(function (mutations, observer) {{\n",
       "        var display = window.getComputedStyle(gd).display;\n",
       "        if (!display || display === 'none') {{\n",
       "            console.log([gd, 'removed!']);\n",
       "            Plotly.purge(gd);\n",
       "            observer.disconnect();\n",
       "        }}\n",
       "}});\n",
       "\n",
       "// Listen for the removal of the full notebook cells\n",
       "var notebookContainer = gd.closest('#notebook-container');\n",
       "if (notebookContainer) {{\n",
       "    x.observe(notebookContainer, {childList: true});\n",
       "}}\n",
       "\n",
       "// Listen for the clearing of the current output cell\n",
       "var outputEl = gd.closest('.output');\n",
       "if (outputEl) {{\n",
       "    x.observe(outputEl, {childList: true});\n",
       "}}\n",
       "\n",
       "                        })                };                });            </script>        </div>"
      ]
     },
     "metadata": {},
     "output_type": "display_data"
    }
   ],
   "source": [
    "recessions = [\n",
    "    {\"start\": \"1973\", \"end\": \"1975\", \"name\": \"1973 Oil Crisis\"},\n",
    "    {\"start\": \"1979\", \"end\": \"1982\", \"name\": \"Early 1980s Recession\"},\n",
    "    {\"start\": \"1990\", \"end\": \"1991\", \"name\": \"Early 1990s Recession\"},\n",
    "    {\"start\": \"2007\", \"end\": \"2009\", \"name\": \"Global Financial Crisis\"},\n",
    "    {\"start\": \"2019\", \"end\": \"2021\", \"name\": \"COVID-19 Recession\"}\n",
    "]\n",
    "\n",
    "\n",
    "# GHG growth from one year to the next\n",
    "GHG_growth_by_country = GHG_totals_by_country.drop(columns='Country').diff(periods=1, axis=1).iloc[:, 1:]\n",
    "GHG_growth_by_country.insert(0, 'Country', GHG_totals_by_country.Country)\n",
    "# Filter required columns \n",
    "df = GHG_growth_by_country.loc[['GLOBAL TOTAL', 'EU27', 'EURO AREA']]\n",
    "# # Plot (built-in function)\n",
    "# df = df.set_index('Country')\n",
    "# plt = df.T.plot(kind='bar', figsize=(18, 10), color={'GLOBAL TOTAL': '#003299', 'EU27': '#FFB400',  'EURO AREA':'#FF4B00', 'United States': '#65B800'}, grid=True)\n",
    "# plt.axhline(0, color='k', linestyle='dashed')\n",
    "# Melt\n",
    "df_long = df.melt(id_vars=[\"Country\"], var_name=\"Year\", value_name=\"Emissions\")\n",
    "\n",
    "fig = px.bar(\n",
    "    df_long,\n",
    "    x=\"Year\",                # Year on the x-axis\n",
    "    y=\"Emissions\",              # Emissions on the y-axis\n",
    "    color=\"Country\",       # Use income group for color differentiation\n",
    "    title=\"Change in GHG Emissions for EU27, Euro Area and whole world (1970-2023)\",\n",
    "    labels={\"Country\": \"Region\", \"Emissions\": \"GHG Emissions (MtCO2e/yr)\"},  # Axis labels\n",
    "    color_discrete_sequence=COLORS,\n",
    "    barmode=\"group\",             # Grouped bars for each year\n",
    "    height = 600,\n",
    "    width = 1350\n",
    ")\n",
    "\n",
    "\n",
    "# Add shaded rectangles and annotations for recessions\n",
    "for recession in recessions:\n",
    "    # Add shaded rectangle\n",
    "    fig.add_shape(\n",
    "        type=\"rect\",\n",
    "        x0=recession[\"start\"]+'.5',\n",
    "        x1=recession[\"end\"]+'.5',\n",
    "        y0=0,\n",
    "        y1=1,  \n",
    "        xref=\"x\",\n",
    "        yref=\"paper\",\n",
    "        fillcolor=\"rgba(128, 128, 128, 0.2)\",  # Transparent red\n",
    "        line=dict(width=0)  # No border\n",
    "    )\n",
    "    \n",
    "    # Add annotation\n",
    "    fig.add_annotation(\n",
    "        x=(int(recession[\"start\"]) + int(recession[\"end\"])) / 2 +0.5,  # Midpoint of the recession\n",
    "        y=1.05,  # Slightly above the top of the chart\n",
    "        xref=\"x\",\n",
    "        yref=\"paper\",\n",
    "        text=recession[\"name\"],\n",
    "        showarrow=False,\n",
    "        font=dict(size=10, color=\"red\")\n",
    "    )\n",
    "fig.update_layout(\n",
    "    xaxis=dict(range=[1970, df_long[\"Year\"].max() + 0.5]),  # Slightly extend x-axis range\n",
    ")\n",
    "# Export chart\n",
    "fig.write_image('./pdf/Chart1.pdf')\n",
    "# Show the chart\n",
    "fig.show()"
   ]
  },
  {
   "cell_type": "markdown",
   "metadata": {},
   "source": [
    "### Chart 2"
   ]
  },
  {
   "cell_type": "code",
   "execution_count": 34,
   "metadata": {},
   "outputs": [
    {
     "data": {
      "application/vnd.plotly.v1+json": {
       "config": {
        "plotlyServerURL": "https://plot.ly"
       },
       "data": [
        {
         "alignmentgroup": "True",
         "hovertemplate": "Income Group=High income<br>Year=%{x}<br>GHG Emissions (tCO2e/cap/yr)=%{y}<extra></extra>",
         "legendgroup": "High income",
         "marker": {
          "color": "#003299",
          "pattern": {
           "shape": ""
          }
         },
         "name": "High income",
         "offsetgroup": "High income",
         "orientation": "v",
         "showlegend": true,
         "textposition": "auto",
         "type": "bar",
         "x": [
          1970,
          1971,
          1972,
          1973,
          1974,
          1975,
          1976,
          1977,
          1978,
          1979,
          1980,
          1981,
          1982,
          1983,
          1984,
          1985,
          1986,
          1987,
          1988,
          1989,
          1990,
          1991,
          1992,
          1993,
          1994,
          1995,
          1996,
          1997,
          1998,
          1999,
          2000,
          2001,
          2002,
          2003,
          2004,
          2005,
          2006,
          2007,
          2008,
          2009,
          2010,
          2011,
          2012,
          2013,
          2014,
          2015,
          2016,
          2017,
          2018,
          2019,
          2020,
          2021,
          2022,
          2023
         ],
         "xaxis": "x",
         "y": [
          15.278702809404185,
          15.08110150862319,
          15.551111233521702,
          16.166213207162155,
          15.851782976715796,
          15.449517524388353,
          16.003809023842443,
          16.14940592756928,
          16.319457342968697,
          16.54709020742941,
          16.14568911397755,
          15.674240117455314,
          15.18716803375996,
          15.079283470701812,
          15.313024945740606,
          15.28281388790001,
          15.256058504603374,
          15.424356109519119,
          15.72970519770468,
          15.775175276673838,
          15.66751102332041,
          15.475493254110795,
          15.172028449040107,
          14.977477561151845,
          14.90518424195901,
          14.939951466295357,
          15.15731311562531,
          15.18906170808776,
          15.054758821603173,
          15.055619931560832,
          15.249036964099687,
          15.163328731314019,
          15.027739263855981,
          15.220086496203617,
          15.283597408018855,
          15.24016567622038,
          15.104278047621351,
          15.163416649531506,
          14.802290723255371,
          13.937822343496602,
          14.386073442817784,
          14.257355121434271,
          14.064453137489165,
          14.039445139321204,
          13.861904448906106,
          13.781029283949053,
          13.641391299693586,
          13.604827217302697,
          13.660176687683057,
          13.424093519740044,
          12.506370257942022,
          13.035381163132929,
          12.956535672333226,
          12.655064981060791
         ],
         "yaxis": "y"
        },
        {
         "alignmentgroup": "True",
         "hovertemplate": "Income Group=Upper middle income<br>Year=%{x}<br>GHG Emissions (tCO2e/cap/yr)=%{y}<extra></extra>",
         "legendgroup": "Upper middle income",
         "marker": {
          "color": "#FFB400",
          "pattern": {
           "shape": ""
          }
         },
         "name": "Upper middle income",
         "offsetgroup": "Upper middle income",
         "orientation": "v",
         "showlegend": true,
         "textposition": "auto",
         "type": "bar",
         "x": [
          1970,
          1971,
          1972,
          1973,
          1974,
          1975,
          1976,
          1977,
          1978,
          1979,
          1980,
          1981,
          1982,
          1983,
          1984,
          1985,
          1986,
          1987,
          1988,
          1989,
          1990,
          1991,
          1992,
          1993,
          1994,
          1995,
          1996,
          1997,
          1998,
          1999,
          2000,
          2001,
          2002,
          2003,
          2004,
          2005,
          2006,
          2007,
          2008,
          2009,
          2010,
          2011,
          2012,
          2013,
          2014,
          2015,
          2016,
          2017,
          2018,
          2019,
          2020,
          2021,
          2022,
          2023
         ],
         "xaxis": "x",
         "y": [
          3.7772094314672846,
          3.7446068840303393,
          3.7888097308607143,
          3.897829067484917,
          3.8977592887793033,
          4.01729949864297,
          4.119834344008713,
          4.222152463119436,
          4.336506371345287,
          4.34230656345009,
          4.258267899037817,
          4.114915563419586,
          4.137256710237802,
          4.150268580231406,
          4.230043941282202,
          4.2009723785432636,
          4.244296542542614,
          4.3283973831504134,
          4.394583182856979,
          4.431503642065486,
          4.486206136062371,
          4.448333434451009,
          4.419932445236796,
          4.425636661058627,
          4.45433080147524,
          4.625450601397496,
          4.602783555802085,
          4.626187726448131,
          4.614464894893573,
          4.5508726487461955,
          4.676790102815533,
          4.735908906638326,
          4.875841640033679,
          5.2478686700076596,
          5.642100254729125,
          6.0020583694492435,
          6.355117551974294,
          6.6183187564943555,
          6.7169526183776735,
          6.843055810059945,
          7.23922669468599,
          7.642282711357084,
          7.787133055318216,
          7.961888877442769,
          7.963287428664863,
          7.808938118715266,
          7.794956465569712,
          7.895435182726134,
          8.102886829757072,
          8.204098416054046,
          8.12636473340269,
          8.441009807925324,
          8.426011802209484,
          8.70902079387557
         ],
         "yaxis": "y"
        },
        {
         "alignmentgroup": "True",
         "hovertemplate": "Income Group=Lower middle income<br>Year=%{x}<br>GHG Emissions (tCO2e/cap/yr)=%{y}<extra></extra>",
         "legendgroup": "Lower middle income",
         "marker": {
          "color": "#FF4B00",
          "pattern": {
           "shape": ""
          }
         },
         "name": "Lower middle income",
         "offsetgroup": "Lower middle income",
         "orientation": "v",
         "showlegend": true,
         "textposition": "auto",
         "type": "bar",
         "x": [
          1970,
          1971,
          1972,
          1973,
          1974,
          1975,
          1976,
          1977,
          1978,
          1979,
          1980,
          1981,
          1982,
          1983,
          1984,
          1985,
          1986,
          1987,
          1988,
          1989,
          1990,
          1991,
          1992,
          1993,
          1994,
          1995,
          1996,
          1997,
          1998,
          1999,
          2000,
          2001,
          2002,
          2003,
          2004,
          2005,
          2006,
          2007,
          2008,
          2009,
          2010,
          2011,
          2012,
          2013,
          2014,
          2015,
          2016,
          2017,
          2018,
          2019,
          2020,
          2021,
          2022,
          2023
         ],
         "xaxis": "x",
         "y": [
          1.853612206423058,
          1.8247782060299198,
          1.837000646374338,
          1.8604311505775677,
          1.8796008060447027,
          1.8333721729807233,
          1.8432104188224785,
          1.830253546711849,
          1.8062911205499124,
          1.8461313563381472,
          1.815968409689902,
          1.7752203463400336,
          1.7560911143983533,
          1.7628900522060769,
          1.777556297560551,
          1.7870841496964116,
          1.8031851572440187,
          1.7980616756401755,
          1.8245645200530993,
          1.8498286871177054,
          1.8275431830699846,
          1.8342304647121592,
          1.8298504520040122,
          1.8242154259879888,
          1.8426482896435072,
          1.8831452341845194,
          1.930223367040706,
          1.9285738740035199,
          1.9135654601743235,
          1.9365991337086137,
          1.94475508628854,
          1.9430987555190808,
          1.9198028810464873,
          1.9423953857856004,
          1.9921058576591233,
          2.020949772117501,
          2.046124789775134,
          2.1001364673897367,
          2.14073788029687,
          2.176442208380785,
          2.232217443084718,
          2.2800531919914597,
          2.3349024127041824,
          2.3353703273579742,
          2.397570369956547,
          2.4071494814014547,
          2.43730307865404,
          2.4934515074806303,
          2.541283336246657,
          2.5318291886903537,
          2.420212106734486,
          2.508904208212837,
          2.5450442526278634,
          2.6170480249756625
         ],
         "yaxis": "y"
        },
        {
         "alignmentgroup": "True",
         "hovertemplate": "Income Group=Low income<br>Year=%{x}<br>GHG Emissions (tCO2e/cap/yr)=%{y}<extra></extra>",
         "legendgroup": "Low income",
         "marker": {
          "color": "#65B800",
          "pattern": {
           "shape": ""
          }
         },
         "name": "Low income",
         "offsetgroup": "Low income",
         "orientation": "v",
         "showlegend": true,
         "textposition": "auto",
         "type": "bar",
         "x": [
          1970,
          1971,
          1972,
          1973,
          1974,
          1975,
          1976,
          1977,
          1978,
          1979,
          1980,
          1981,
          1982,
          1983,
          1984,
          1985,
          1986,
          1987,
          1988,
          1989,
          1990,
          1991,
          1992,
          1993,
          1994,
          1995,
          1996,
          1997,
          1998,
          1999,
          2000,
          2001,
          2002,
          2003,
          2004,
          2005,
          2006,
          2007,
          2008,
          2009,
          2010,
          2011,
          2012,
          2013,
          2014,
          2015,
          2016,
          2017,
          2018,
          2019,
          2020,
          2021,
          2022,
          2023
         ],
         "xaxis": "x",
         "y": [
          2.082520858808311,
          2.0429681920690865,
          2.0058017673632333,
          1.9730467028372365,
          1.9663536646773698,
          1.9864468266657982,
          2.017918617964928,
          2.0243460583635082,
          2.048341022941708,
          2.089364847475647,
          2.0985939437589782,
          2.104080596955869,
          2.166634524333808,
          2.1690431149105254,
          2.1313667196540558,
          2.108301864722203,
          2.0677741744131084,
          2.0250607447576736,
          2.0341902432819983,
          2.0122317531980056,
          2.0005980244329993,
          1.9570097151000505,
          1.866558574657201,
          1.802327343379327,
          1.7726344250045951,
          1.7242778939366952,
          1.6995826380762087,
          1.669280130031385,
          1.6348111383544857,
          1.637253790245689,
          1.6437093817742787,
          1.6196649625925728,
          1.5965069215235268,
          1.6096698594230447,
          1.6045125613014908,
          1.6521041116861062,
          1.654605633085392,
          1.6344878953932158,
          1.6540799916533093,
          1.6394262082470963,
          1.6344803091599016,
          1.5671747990989668,
          1.5310852476001433,
          1.4867027565881497,
          1.4848793901343613,
          1.427193265330783,
          1.4352834202494114,
          1.4971840616449776,
          1.4897923497327326,
          1.5014294238236336,
          1.466336079871242,
          1.435847543952088,
          1.4259902064096204,
          1.4137771674512098
         ],
         "yaxis": "y"
        }
       ],
       "layout": {
        "barmode": "group",
        "height": 600,
        "legend": {
         "title": {
          "text": "Income Group"
         },
         "tracegroupgap": 0
        },
        "template": {
         "data": {
          "bar": [
           {
            "error_x": {
             "color": "#2a3f5f"
            },
            "error_y": {
             "color": "#2a3f5f"
            },
            "marker": {
             "line": {
              "color": "#E5ECF6",
              "width": 0.5
             },
             "pattern": {
              "fillmode": "overlay",
              "size": 10,
              "solidity": 0.2
             }
            },
            "type": "bar"
           }
          ],
          "barpolar": [
           {
            "marker": {
             "line": {
              "color": "#E5ECF6",
              "width": 0.5
             },
             "pattern": {
              "fillmode": "overlay",
              "size": 10,
              "solidity": 0.2
             }
            },
            "type": "barpolar"
           }
          ],
          "carpet": [
           {
            "aaxis": {
             "endlinecolor": "#2a3f5f",
             "gridcolor": "white",
             "linecolor": "white",
             "minorgridcolor": "white",
             "startlinecolor": "#2a3f5f"
            },
            "baxis": {
             "endlinecolor": "#2a3f5f",
             "gridcolor": "white",
             "linecolor": "white",
             "minorgridcolor": "white",
             "startlinecolor": "#2a3f5f"
            },
            "type": "carpet"
           }
          ],
          "choropleth": [
           {
            "colorbar": {
             "outlinewidth": 0,
             "ticks": ""
            },
            "type": "choropleth"
           }
          ],
          "contour": [
           {
            "colorbar": {
             "outlinewidth": 0,
             "ticks": ""
            },
            "colorscale": [
             [
              0,
              "#0d0887"
             ],
             [
              0.1111111111111111,
              "#46039f"
             ],
             [
              0.2222222222222222,
              "#7201a8"
             ],
             [
              0.3333333333333333,
              "#9c179e"
             ],
             [
              0.4444444444444444,
              "#bd3786"
             ],
             [
              0.5555555555555556,
              "#d8576b"
             ],
             [
              0.6666666666666666,
              "#ed7953"
             ],
             [
              0.7777777777777778,
              "#fb9f3a"
             ],
             [
              0.8888888888888888,
              "#fdca26"
             ],
             [
              1,
              "#f0f921"
             ]
            ],
            "type": "contour"
           }
          ],
          "contourcarpet": [
           {
            "colorbar": {
             "outlinewidth": 0,
             "ticks": ""
            },
            "type": "contourcarpet"
           }
          ],
          "heatmap": [
           {
            "colorbar": {
             "outlinewidth": 0,
             "ticks": ""
            },
            "colorscale": [
             [
              0,
              "#0d0887"
             ],
             [
              0.1111111111111111,
              "#46039f"
             ],
             [
              0.2222222222222222,
              "#7201a8"
             ],
             [
              0.3333333333333333,
              "#9c179e"
             ],
             [
              0.4444444444444444,
              "#bd3786"
             ],
             [
              0.5555555555555556,
              "#d8576b"
             ],
             [
              0.6666666666666666,
              "#ed7953"
             ],
             [
              0.7777777777777778,
              "#fb9f3a"
             ],
             [
              0.8888888888888888,
              "#fdca26"
             ],
             [
              1,
              "#f0f921"
             ]
            ],
            "type": "heatmap"
           }
          ],
          "heatmapgl": [
           {
            "colorbar": {
             "outlinewidth": 0,
             "ticks": ""
            },
            "colorscale": [
             [
              0,
              "#0d0887"
             ],
             [
              0.1111111111111111,
              "#46039f"
             ],
             [
              0.2222222222222222,
              "#7201a8"
             ],
             [
              0.3333333333333333,
              "#9c179e"
             ],
             [
              0.4444444444444444,
              "#bd3786"
             ],
             [
              0.5555555555555556,
              "#d8576b"
             ],
             [
              0.6666666666666666,
              "#ed7953"
             ],
             [
              0.7777777777777778,
              "#fb9f3a"
             ],
             [
              0.8888888888888888,
              "#fdca26"
             ],
             [
              1,
              "#f0f921"
             ]
            ],
            "type": "heatmapgl"
           }
          ],
          "histogram": [
           {
            "marker": {
             "pattern": {
              "fillmode": "overlay",
              "size": 10,
              "solidity": 0.2
             }
            },
            "type": "histogram"
           }
          ],
          "histogram2d": [
           {
            "colorbar": {
             "outlinewidth": 0,
             "ticks": ""
            },
            "colorscale": [
             [
              0,
              "#0d0887"
             ],
             [
              0.1111111111111111,
              "#46039f"
             ],
             [
              0.2222222222222222,
              "#7201a8"
             ],
             [
              0.3333333333333333,
              "#9c179e"
             ],
             [
              0.4444444444444444,
              "#bd3786"
             ],
             [
              0.5555555555555556,
              "#d8576b"
             ],
             [
              0.6666666666666666,
              "#ed7953"
             ],
             [
              0.7777777777777778,
              "#fb9f3a"
             ],
             [
              0.8888888888888888,
              "#fdca26"
             ],
             [
              1,
              "#f0f921"
             ]
            ],
            "type": "histogram2d"
           }
          ],
          "histogram2dcontour": [
           {
            "colorbar": {
             "outlinewidth": 0,
             "ticks": ""
            },
            "colorscale": [
             [
              0,
              "#0d0887"
             ],
             [
              0.1111111111111111,
              "#46039f"
             ],
             [
              0.2222222222222222,
              "#7201a8"
             ],
             [
              0.3333333333333333,
              "#9c179e"
             ],
             [
              0.4444444444444444,
              "#bd3786"
             ],
             [
              0.5555555555555556,
              "#d8576b"
             ],
             [
              0.6666666666666666,
              "#ed7953"
             ],
             [
              0.7777777777777778,
              "#fb9f3a"
             ],
             [
              0.8888888888888888,
              "#fdca26"
             ],
             [
              1,
              "#f0f921"
             ]
            ],
            "type": "histogram2dcontour"
           }
          ],
          "mesh3d": [
           {
            "colorbar": {
             "outlinewidth": 0,
             "ticks": ""
            },
            "type": "mesh3d"
           }
          ],
          "parcoords": [
           {
            "line": {
             "colorbar": {
              "outlinewidth": 0,
              "ticks": ""
             }
            },
            "type": "parcoords"
           }
          ],
          "pie": [
           {
            "automargin": true,
            "type": "pie"
           }
          ],
          "scatter": [
           {
            "fillpattern": {
             "fillmode": "overlay",
             "size": 10,
             "solidity": 0.2
            },
            "type": "scatter"
           }
          ],
          "scatter3d": [
           {
            "line": {
             "colorbar": {
              "outlinewidth": 0,
              "ticks": ""
             }
            },
            "marker": {
             "colorbar": {
              "outlinewidth": 0,
              "ticks": ""
             }
            },
            "type": "scatter3d"
           }
          ],
          "scattercarpet": [
           {
            "marker": {
             "colorbar": {
              "outlinewidth": 0,
              "ticks": ""
             }
            },
            "type": "scattercarpet"
           }
          ],
          "scattergeo": [
           {
            "marker": {
             "colorbar": {
              "outlinewidth": 0,
              "ticks": ""
             }
            },
            "type": "scattergeo"
           }
          ],
          "scattergl": [
           {
            "marker": {
             "colorbar": {
              "outlinewidth": 0,
              "ticks": ""
             }
            },
            "type": "scattergl"
           }
          ],
          "scattermapbox": [
           {
            "marker": {
             "colorbar": {
              "outlinewidth": 0,
              "ticks": ""
             }
            },
            "type": "scattermapbox"
           }
          ],
          "scatterpolar": [
           {
            "marker": {
             "colorbar": {
              "outlinewidth": 0,
              "ticks": ""
             }
            },
            "type": "scatterpolar"
           }
          ],
          "scatterpolargl": [
           {
            "marker": {
             "colorbar": {
              "outlinewidth": 0,
              "ticks": ""
             }
            },
            "type": "scatterpolargl"
           }
          ],
          "scatterternary": [
           {
            "marker": {
             "colorbar": {
              "outlinewidth": 0,
              "ticks": ""
             }
            },
            "type": "scatterternary"
           }
          ],
          "surface": [
           {
            "colorbar": {
             "outlinewidth": 0,
             "ticks": ""
            },
            "colorscale": [
             [
              0,
              "#0d0887"
             ],
             [
              0.1111111111111111,
              "#46039f"
             ],
             [
              0.2222222222222222,
              "#7201a8"
             ],
             [
              0.3333333333333333,
              "#9c179e"
             ],
             [
              0.4444444444444444,
              "#bd3786"
             ],
             [
              0.5555555555555556,
              "#d8576b"
             ],
             [
              0.6666666666666666,
              "#ed7953"
             ],
             [
              0.7777777777777778,
              "#fb9f3a"
             ],
             [
              0.8888888888888888,
              "#fdca26"
             ],
             [
              1,
              "#f0f921"
             ]
            ],
            "type": "surface"
           }
          ],
          "table": [
           {
            "cells": {
             "fill": {
              "color": "#EBF0F8"
             },
             "line": {
              "color": "white"
             }
            },
            "header": {
             "fill": {
              "color": "#C8D4E3"
             },
             "line": {
              "color": "white"
             }
            },
            "type": "table"
           }
          ]
         },
         "layout": {
          "annotationdefaults": {
           "arrowcolor": "#2a3f5f",
           "arrowhead": 0,
           "arrowwidth": 1
          },
          "autotypenumbers": "strict",
          "coloraxis": {
           "colorbar": {
            "outlinewidth": 0,
            "ticks": ""
           }
          },
          "colorscale": {
           "diverging": [
            [
             0,
             "#8e0152"
            ],
            [
             0.1,
             "#c51b7d"
            ],
            [
             0.2,
             "#de77ae"
            ],
            [
             0.3,
             "#f1b6da"
            ],
            [
             0.4,
             "#fde0ef"
            ],
            [
             0.5,
             "#f7f7f7"
            ],
            [
             0.6,
             "#e6f5d0"
            ],
            [
             0.7,
             "#b8e186"
            ],
            [
             0.8,
             "#7fbc41"
            ],
            [
             0.9,
             "#4d9221"
            ],
            [
             1,
             "#276419"
            ]
           ],
           "sequential": [
            [
             0,
             "#0d0887"
            ],
            [
             0.1111111111111111,
             "#46039f"
            ],
            [
             0.2222222222222222,
             "#7201a8"
            ],
            [
             0.3333333333333333,
             "#9c179e"
            ],
            [
             0.4444444444444444,
             "#bd3786"
            ],
            [
             0.5555555555555556,
             "#d8576b"
            ],
            [
             0.6666666666666666,
             "#ed7953"
            ],
            [
             0.7777777777777778,
             "#fb9f3a"
            ],
            [
             0.8888888888888888,
             "#fdca26"
            ],
            [
             1,
             "#f0f921"
            ]
           ],
           "sequentialminus": [
            [
             0,
             "#0d0887"
            ],
            [
             0.1111111111111111,
             "#46039f"
            ],
            [
             0.2222222222222222,
             "#7201a8"
            ],
            [
             0.3333333333333333,
             "#9c179e"
            ],
            [
             0.4444444444444444,
             "#bd3786"
            ],
            [
             0.5555555555555556,
             "#d8576b"
            ],
            [
             0.6666666666666666,
             "#ed7953"
            ],
            [
             0.7777777777777778,
             "#fb9f3a"
            ],
            [
             0.8888888888888888,
             "#fdca26"
            ],
            [
             1,
             "#f0f921"
            ]
           ]
          },
          "colorway": [
           "#636efa",
           "#EF553B",
           "#00cc96",
           "#ab63fa",
           "#FFA15A",
           "#19d3f3",
           "#FF6692",
           "#B6E880",
           "#FF97FF",
           "#FECB52"
          ],
          "font": {
           "color": "#2a3f5f"
          },
          "geo": {
           "bgcolor": "white",
           "lakecolor": "white",
           "landcolor": "#E5ECF6",
           "showlakes": true,
           "showland": true,
           "subunitcolor": "white"
          },
          "hoverlabel": {
           "align": "left"
          },
          "hovermode": "closest",
          "mapbox": {
           "style": "light"
          },
          "paper_bgcolor": "white",
          "plot_bgcolor": "#E5ECF6",
          "polar": {
           "angularaxis": {
            "gridcolor": "white",
            "linecolor": "white",
            "ticks": ""
           },
           "bgcolor": "#E5ECF6",
           "radialaxis": {
            "gridcolor": "white",
            "linecolor": "white",
            "ticks": ""
           }
          },
          "scene": {
           "xaxis": {
            "backgroundcolor": "#E5ECF6",
            "gridcolor": "white",
            "gridwidth": 2,
            "linecolor": "white",
            "showbackground": true,
            "ticks": "",
            "zerolinecolor": "white"
           },
           "yaxis": {
            "backgroundcolor": "#E5ECF6",
            "gridcolor": "white",
            "gridwidth": 2,
            "linecolor": "white",
            "showbackground": true,
            "ticks": "",
            "zerolinecolor": "white"
           },
           "zaxis": {
            "backgroundcolor": "#E5ECF6",
            "gridcolor": "white",
            "gridwidth": 2,
            "linecolor": "white",
            "showbackground": true,
            "ticks": "",
            "zerolinecolor": "white"
           }
          },
          "shapedefaults": {
           "line": {
            "color": "#2a3f5f"
           }
          },
          "ternary": {
           "aaxis": {
            "gridcolor": "white",
            "linecolor": "white",
            "ticks": ""
           },
           "baxis": {
            "gridcolor": "white",
            "linecolor": "white",
            "ticks": ""
           },
           "bgcolor": "#E5ECF6",
           "caxis": {
            "gridcolor": "white",
            "linecolor": "white",
            "ticks": ""
           }
          },
          "title": {
           "x": 0.05
          },
          "xaxis": {
           "automargin": true,
           "gridcolor": "white",
           "linecolor": "white",
           "ticks": "",
           "title": {
            "standoff": 15
           },
           "zerolinecolor": "white",
           "zerolinewidth": 2
          },
          "yaxis": {
           "automargin": true,
           "gridcolor": "white",
           "linecolor": "white",
           "ticks": "",
           "title": {
            "standoff": 15
           },
           "zerolinecolor": "white",
           "zerolinewidth": 2
          }
         }
        },
        "title": {
         "text": "GHG Emissions per capita by Income Group (1970-2023)"
        },
        "width": 1350,
        "xaxis": {
         "anchor": "y",
         "autorange": true,
         "domain": [
          0,
          1
         ],
         "range": [
          1969.5,
          2023.5
         ],
         "title": {
          "text": "Year"
         },
         "type": "linear"
        },
        "yaxis": {
         "anchor": "x",
         "autorange": true,
         "domain": [
          0,
          1
         ],
         "range": [
          0,
          17.417989692030957
         ],
         "title": {
          "text": "GHG Emissions (tCO2e/cap/yr)"
         },
         "type": "linear"
        }
       }
      },
      "image/png": "[encoded data removed]",
      "text/html": [
       "<div>                            <div id=\"cdc91cbe-1c1f-41b0-87ae-cbde89279e61\" class=\"plotly-graph-div\" style=\"height:600px; width:1350px;\"></div>            <script type=\"text/javascript\">                require([\"plotly\"], function(Plotly) {                    window.PLOTLYENV=window.PLOTLYENV || {};                                    if (document.getElementById(\"cdc91cbe-1c1f-41b0-87ae-cbde89279e61\")) {                    Plotly.newPlot(                        \"cdc91cbe-1c1f-41b0-87ae-cbde89279e61\",                        [{\"alignmentgroup\":\"True\",\"hovertemplate\":\"Income Group=High income\\u003cbr\\u003eYear=%{x}\\u003cbr\\u003eGHG Emissions (tCO2e\\u002fcap\\u002fyr)=%{y}\\u003cextra\\u003e\\u003c\\u002fextra\\u003e\",\"legendgroup\":\"High income\",\"marker\":{\"color\":\"#003299\",\"pattern\":{\"shape\":\"\"}},\"name\":\"High income\",\"offsetgroup\":\"High income\",\"orientation\":\"v\",\"showlegend\":true,\"textposition\":\"auto\",\"x\":[1970,1971,1972,1973,1974,1975,1976,1977,1978,1979,1980,1981,1982,1983,1984,1985,1986,1987,1988,1989,1990,1991,1992,1993,1994,1995,1996,1997,1998,1999,2000,2001,2002,2003,2004,2005,2006,2007,2008,2009,2010,2011,2012,2013,2014,2015,2016,2017,2018,2019,2020,2021,2022,2023],\"xaxis\":\"x\",\"y\":[15.278702809404185,15.08110150862319,15.551111233521702,16.166213207162155,15.851782976715796,15.449517524388353,16.003809023842443,16.14940592756928,16.319457342968697,16.54709020742941,16.14568911397755,15.674240117455314,15.18716803375996,15.079283470701812,15.313024945740606,15.28281388790001,15.256058504603374,15.424356109519119,15.72970519770468,15.775175276673838,15.66751102332041,15.475493254110795,15.172028449040107,14.977477561151845,14.90518424195901,14.939951466295357,15.15731311562531,15.18906170808776,15.054758821603173,15.055619931560832,15.249036964099687,15.163328731314019,15.027739263855981,15.220086496203617,15.283597408018855,15.24016567622038,15.104278047621351,15.163416649531506,14.802290723255371,13.937822343496602,14.386073442817784,14.257355121434271,14.064453137489165,14.039445139321204,13.861904448906106,13.781029283949053,13.641391299693586,13.604827217302697,13.660176687683057,13.424093519740044,12.506370257942022,13.035381163132929,12.956535672333226,12.655064981060791],\"yaxis\":\"y\",\"type\":\"bar\"},{\"alignmentgroup\":\"True\",\"hovertemplate\":\"Income Group=Upper middle income\\u003cbr\\u003eYear=%{x}\\u003cbr\\u003eGHG Emissions (tCO2e\\u002fcap\\u002fyr)=%{y}\\u003cextra\\u003e\\u003c\\u002fextra\\u003e\",\"legendgroup\":\"Upper middle income\",\"marker\":{\"color\":\"#FFB400\",\"pattern\":{\"shape\":\"\"}},\"name\":\"Upper middle income\",\"offsetgroup\":\"Upper middle income\",\"orientation\":\"v\",\"showlegend\":true,\"textposition\":\"auto\",\"x\":[1970,1971,1972,1973,1974,1975,1976,1977,1978,1979,1980,1981,1982,1983,1984,1985,1986,1987,1988,1989,1990,1991,1992,1993,1994,1995,1996,1997,1998,1999,2000,2001,2002,2003,2004,2005,2006,2007,2008,2009,2010,2011,2012,2013,2014,2015,2016,2017,2018,2019,2020,2021,2022,2023],\"xaxis\":\"x\",\"y\":[3.7772094314672846,3.7446068840303393,3.7888097308607143,3.897829067484917,3.8977592887793033,4.01729949864297,4.119834344008713,4.222152463119436,4.336506371345287,4.34230656345009,4.258267899037817,4.114915563419586,4.137256710237802,4.150268580231406,4.230043941282202,4.2009723785432636,4.244296542542614,4.3283973831504134,4.394583182856979,4.431503642065486,4.486206136062371,4.448333434451009,4.419932445236796,4.425636661058627,4.45433080147524,4.625450601397496,4.602783555802085,4.626187726448131,4.614464894893573,4.5508726487461955,4.676790102815533,4.735908906638326,4.875841640033679,5.2478686700076596,5.642100254729125,6.0020583694492435,6.355117551974294,6.6183187564943555,6.7169526183776735,6.843055810059945,7.23922669468599,7.642282711357084,7.787133055318216,7.961888877442769,7.963287428664863,7.808938118715266,7.794956465569712,7.895435182726134,8.102886829757072,8.204098416054046,8.12636473340269,8.441009807925324,8.426011802209484,8.70902079387557],\"yaxis\":\"y\",\"type\":\"bar\"},{\"alignmentgroup\":\"True\",\"hovertemplate\":\"Income Group=Lower middle income\\u003cbr\\u003eYear=%{x}\\u003cbr\\u003eGHG Emissions (tCO2e\\u002fcap\\u002fyr)=%{y}\\u003cextra\\u003e\\u003c\\u002fextra\\u003e\",\"legendgroup\":\"Lower middle income\",\"marker\":{\"color\":\"#FF4B00\",\"pattern\":{\"shape\":\"\"}},\"name\":\"Lower middle income\",\"offsetgroup\":\"Lower middle income\",\"orientation\":\"v\",\"showlegend\":true,\"textposition\":\"auto\",\"x\":[1970,1971,1972,1973,1974,1975,1976,1977,1978,1979,1980,1981,1982,1983,1984,1985,1986,1987,1988,1989,1990,1991,1992,1993,1994,1995,1996,1997,1998,1999,2000,2001,2002,2003,2004,2005,2006,2007,2008,2009,2010,2011,2012,2013,2014,2015,2016,2017,2018,2019,2020,2021,2022,2023],\"xaxis\":\"x\",\"y\":[1.853612206423058,1.8247782060299198,1.837000646374338,1.8604311505775677,1.8796008060447027,1.8333721729807233,1.8432104188224785,1.830253546711849,1.8062911205499124,1.8461313563381472,1.815968409689902,1.7752203463400336,1.7560911143983533,1.7628900522060769,1.777556297560551,1.7870841496964116,1.8031851572440187,1.7980616756401755,1.8245645200530993,1.8498286871177054,1.8275431830699846,1.8342304647121592,1.8298504520040122,1.8242154259879888,1.8426482896435072,1.8831452341845194,1.930223367040706,1.9285738740035199,1.9135654601743235,1.9365991337086137,1.94475508628854,1.9430987555190808,1.9198028810464873,1.9423953857856004,1.9921058576591233,2.020949772117501,2.046124789775134,2.1001364673897367,2.14073788029687,2.176442208380785,2.232217443084718,2.2800531919914597,2.3349024127041824,2.3353703273579742,2.397570369956547,2.4071494814014547,2.43730307865404,2.4934515074806303,2.541283336246657,2.5318291886903537,2.420212106734486,2.508904208212837,2.5450442526278634,2.6170480249756625],\"yaxis\":\"y\",\"type\":\"bar\"},{\"alignmentgroup\":\"True\",\"hovertemplate\":\"Income Group=Low income\\u003cbr\\u003eYear=%{x}\\u003cbr\\u003eGHG Emissions (tCO2e\\u002fcap\\u002fyr)=%{y}\\u003cextra\\u003e\\u003c\\u002fextra\\u003e\",\"legendgroup\":\"Low income\",\"marker\":{\"color\":\"#65B800\",\"pattern\":{\"shape\":\"\"}},\"name\":\"Low income\",\"offsetgroup\":\"Low income\",\"orientation\":\"v\",\"showlegend\":true,\"textposition\":\"auto\",\"x\":[1970,1971,1972,1973,1974,1975,1976,1977,1978,1979,1980,1981,1982,1983,1984,1985,1986,1987,1988,1989,1990,1991,1992,1993,1994,1995,1996,1997,1998,1999,2000,2001,2002,2003,2004,2005,2006,2007,2008,2009,2010,2011,2012,2013,2014,2015,2016,2017,2018,2019,2020,2021,2022,2023],\"xaxis\":\"x\",\"y\":[2.082520858808311,2.0429681920690865,2.0058017673632333,1.9730467028372365,1.9663536646773698,1.9864468266657982,2.017918617964928,2.0243460583635082,2.048341022941708,2.089364847475647,2.0985939437589782,2.104080596955869,2.166634524333808,2.1690431149105254,2.1313667196540558,2.108301864722203,2.0677741744131084,2.0250607447576736,2.0341902432819983,2.0122317531980056,2.0005980244329993,1.9570097151000505,1.866558574657201,1.802327343379327,1.7726344250045951,1.7242778939366952,1.6995826380762087,1.669280130031385,1.6348111383544857,1.637253790245689,1.6437093817742787,1.6196649625925728,1.5965069215235268,1.6096698594230447,1.6045125613014908,1.6521041116861062,1.654605633085392,1.6344878953932158,1.6540799916533093,1.6394262082470963,1.6344803091599016,1.5671747990989668,1.5310852476001433,1.4867027565881497,1.4848793901343613,1.427193265330783,1.4352834202494114,1.4971840616449776,1.4897923497327326,1.5014294238236336,1.466336079871242,1.435847543952088,1.4259902064096204,1.4137771674512098],\"yaxis\":\"y\",\"type\":\"bar\"}],                        {\"template\":{\"data\":{\"histogram2dcontour\":[{\"type\":\"histogram2dcontour\",\"colorbar\":{\"outlinewidth\":0,\"ticks\":\"\"},\"colorscale\":[[0.0,\"#0d0887\"],[0.1111111111111111,\"#46039f\"],[0.2222222222222222,\"#7201a8\"],[0.3333333333333333,\"#9c179e\"],[0.4444444444444444,\"#bd3786\"],[0.5555555555555556,\"#d8576b\"],[0.6666666666666666,\"#ed7953\"],[0.7777777777777778,\"#fb9f3a\"],[0.8888888888888888,\"#fdca26\"],[1.0,\"#f0f921\"]]}],\"choropleth\":[{\"type\":\"choropleth\",\"colorbar\":{\"outlinewidth\":0,\"ticks\":\"\"}}],\"histogram2d\":[{\"type\":\"histogram2d\",\"colorbar\":{\"outlinewidth\":0,\"ticks\":\"\"},\"colorscale\":[[0.0,\"#0d0887\"],[0.1111111111111111,\"#46039f\"],[0.2222222222222222,\"#7201a8\"],[0.3333333333333333,\"#9c179e\"],[0.4444444444444444,\"#bd3786\"],[0.5555555555555556,\"#d8576b\"],[0.6666666666666666,\"#ed7953\"],[0.7777777777777778,\"#fb9f3a\"],[0.8888888888888888,\"#fdca26\"],[1.0,\"#f0f921\"]]}],\"heatmap\":[{\"type\":\"heatmap\",\"colorbar\":{\"outlinewidth\":0,\"ticks\":\"\"},\"colorscale\":[[0.0,\"#0d0887\"],[0.1111111111111111,\"#46039f\"],[0.2222222222222222,\"#7201a8\"],[0.3333333333333333,\"#9c179e\"],[0.4444444444444444,\"#bd3786\"],[0.5555555555555556,\"#d8576b\"],[0.6666666666666666,\"#ed7953\"],[0.7777777777777778,\"#fb9f3a\"],[0.8888888888888888,\"#fdca26\"],[1.0,\"#f0f921\"]]}],\"heatmapgl\":[{\"type\":\"heatmapgl\",\"colorbar\":{\"outlinewidth\":0,\"ticks\":\"\"},\"colorscale\":[[0.0,\"#0d0887\"],[0.1111111111111111,\"#46039f\"],[0.2222222222222222,\"#7201a8\"],[0.3333333333333333,\"#9c179e\"],[0.4444444444444444,\"#bd3786\"],[0.5555555555555556,\"#d8576b\"],[0.6666666666666666,\"#ed7953\"],[0.7777777777777778,\"#fb9f3a\"],[0.8888888888888888,\"#fdca26\"],[1.0,\"#f0f921\"]]}],\"contourcarpet\":[{\"type\":\"contourcarpet\",\"colorbar\":{\"outlinewidth\":0,\"ticks\":\"\"}}],\"contour\":[{\"type\":\"contour\",\"colorbar\":{\"outlinewidth\":0,\"ticks\":\"\"},\"colorscale\":[[0.0,\"#0d0887\"],[0.1111111111111111,\"#46039f\"],[0.2222222222222222,\"#7201a8\"],[0.3333333333333333,\"#9c179e\"],[0.4444444444444444,\"#bd3786\"],[0.5555555555555556,\"#d8576b\"],[0.6666666666666666,\"#ed7953\"],[0.7777777777777778,\"#fb9f3a\"],[0.8888888888888888,\"#fdca26\"],[1.0,\"#f0f921\"]]}],\"surface\":[{\"type\":\"surface\",\"colorbar\":{\"outlinewidth\":0,\"ticks\":\"\"},\"colorscale\":[[0.0,\"#0d0887\"],[0.1111111111111111,\"#46039f\"],[0.2222222222222222,\"#7201a8\"],[0.3333333333333333,\"#9c179e\"],[0.4444444444444444,\"#bd3786\"],[0.5555555555555556,\"#d8576b\"],[0.6666666666666666,\"#ed7953\"],[0.7777777777777778,\"#fb9f3a\"],[0.8888888888888888,\"#fdca26\"],[1.0,\"#f0f921\"]]}],\"mesh3d\":[{\"type\":\"mesh3d\",\"colorbar\":{\"outlinewidth\":0,\"ticks\":\"\"}}],\"scatter\":[{\"fillpattern\":{\"fillmode\":\"overlay\",\"size\":10,\"solidity\":0.2},\"type\":\"scatter\"}],\"parcoords\":[{\"type\":\"parcoords\",\"line\":{\"colorbar\":{\"outlinewidth\":0,\"ticks\":\"\"}}}],\"scatterpolargl\":[{\"type\":\"scatterpolargl\",\"marker\":{\"colorbar\":{\"outlinewidth\":0,\"ticks\":\"\"}}}],\"bar\":[{\"error_x\":{\"color\":\"#2a3f5f\"},\"error_y\":{\"color\":\"#2a3f5f\"},\"marker\":{\"line\":{\"color\":\"#E5ECF6\",\"width\":0.5},\"pattern\":{\"fillmode\":\"overlay\",\"size\":10,\"solidity\":0.2}},\"type\":\"bar\"}],\"scattergeo\":[{\"type\":\"scattergeo\",\"marker\":{\"colorbar\":{\"outlinewidth\":0,\"ticks\":\"\"}}}],\"scatterpolar\":[{\"type\":\"scatterpolar\",\"marker\":{\"colorbar\":{\"outlinewidth\":0,\"ticks\":\"\"}}}],\"histogram\":[{\"marker\":{\"pattern\":{\"fillmode\":\"overlay\",\"size\":10,\"solidity\":0.2}},\"type\":\"histogram\"}],\"scattergl\":[{\"type\":\"scattergl\",\"marker\":{\"colorbar\":{\"outlinewidth\":0,\"ticks\":\"\"}}}],\"scatter3d\":[{\"type\":\"scatter3d\",\"line\":{\"colorbar\":{\"outlinewidth\":0,\"ticks\":\"\"}},\"marker\":{\"colorbar\":{\"outlinewidth\":0,\"ticks\":\"\"}}}],\"scattermapbox\":[{\"type\":\"scattermapbox\",\"marker\":{\"colorbar\":{\"outlinewidth\":0,\"ticks\":\"\"}}}],\"scatterternary\":[{\"type\":\"scatterternary\",\"marker\":{\"colorbar\":{\"outlinewidth\":0,\"ticks\":\"\"}}}],\"scattercarpet\":[{\"type\":\"scattercarpet\",\"marker\":{\"colorbar\":{\"outlinewidth\":0,\"ticks\":\"\"}}}],\"carpet\":[{\"aaxis\":{\"endlinecolor\":\"#2a3f5f\",\"gridcolor\":\"white\",\"linecolor\":\"white\",\"minorgridcolor\":\"white\",\"startlinecolor\":\"#2a3f5f\"},\"baxis\":{\"endlinecolor\":\"#2a3f5f\",\"gridcolor\":\"white\",\"linecolor\":\"white\",\"minorgridcolor\":\"white\",\"startlinecolor\":\"#2a3f5f\"},\"type\":\"carpet\"}],\"table\":[{\"cells\":{\"fill\":{\"color\":\"#EBF0F8\"},\"line\":{\"color\":\"white\"}},\"header\":{\"fill\":{\"color\":\"#C8D4E3\"},\"line\":{\"color\":\"white\"}},\"type\":\"table\"}],\"barpolar\":[{\"marker\":{\"line\":{\"color\":\"#E5ECF6\",\"width\":0.5},\"pattern\":{\"fillmode\":\"overlay\",\"size\":10,\"solidity\":0.2}},\"type\":\"barpolar\"}],\"pie\":[{\"automargin\":true,\"type\":\"pie\"}]},\"layout\":{\"autotypenumbers\":\"strict\",\"colorway\":[\"#636efa\",\"#EF553B\",\"#00cc96\",\"#ab63fa\",\"#FFA15A\",\"#19d3f3\",\"#FF6692\",\"#B6E880\",\"#FF97FF\",\"#FECB52\"],\"font\":{\"color\":\"#2a3f5f\"},\"hovermode\":\"closest\",\"hoverlabel\":{\"align\":\"left\"},\"paper_bgcolor\":\"white\",\"plot_bgcolor\":\"#E5ECF6\",\"polar\":{\"bgcolor\":\"#E5ECF6\",\"angularaxis\":{\"gridcolor\":\"white\",\"linecolor\":\"white\",\"ticks\":\"\"},\"radialaxis\":{\"gridcolor\":\"white\",\"linecolor\":\"white\",\"ticks\":\"\"}},\"ternary\":{\"bgcolor\":\"#E5ECF6\",\"aaxis\":{\"gridcolor\":\"white\",\"linecolor\":\"white\",\"ticks\":\"\"},\"baxis\":{\"gridcolor\":\"white\",\"linecolor\":\"white\",\"ticks\":\"\"},\"caxis\":{\"gridcolor\":\"white\",\"linecolor\":\"white\",\"ticks\":\"\"}},\"coloraxis\":{\"colorbar\":{\"outlinewidth\":0,\"ticks\":\"\"}},\"colorscale\":{\"sequential\":[[0.0,\"#0d0887\"],[0.1111111111111111,\"#46039f\"],[0.2222222222222222,\"#7201a8\"],[0.3333333333333333,\"#9c179e\"],[0.4444444444444444,\"#bd3786\"],[0.5555555555555556,\"#d8576b\"],[0.6666666666666666,\"#ed7953\"],[0.7777777777777778,\"#fb9f3a\"],[0.8888888888888888,\"#fdca26\"],[1.0,\"#f0f921\"]],\"sequentialminus\":[[0.0,\"#0d0887\"],[0.1111111111111111,\"#46039f\"],[0.2222222222222222,\"#7201a8\"],[0.3333333333333333,\"#9c179e\"],[0.4444444444444444,\"#bd3786\"],[0.5555555555555556,\"#d8576b\"],[0.6666666666666666,\"#ed7953\"],[0.7777777777777778,\"#fb9f3a\"],[0.8888888888888888,\"#fdca26\"],[1.0,\"#f0f921\"]],\"diverging\":[[0,\"#8e0152\"],[0.1,\"#c51b7d\"],[0.2,\"#de77ae\"],[0.3,\"#f1b6da\"],[0.4,\"#fde0ef\"],[0.5,\"#f7f7f7\"],[0.6,\"#e6f5d0\"],[0.7,\"#b8e186\"],[0.8,\"#7fbc41\"],[0.9,\"#4d9221\"],[1,\"#276419\"]]},\"xaxis\":{\"gridcolor\":\"white\",\"linecolor\":\"white\",\"ticks\":\"\",\"title\":{\"standoff\":15},\"zerolinecolor\":\"white\",\"automargin\":true,\"zerolinewidth\":2},\"yaxis\":{\"gridcolor\":\"white\",\"linecolor\":\"white\",\"ticks\":\"\",\"title\":{\"standoff\":15},\"zerolinecolor\":\"white\",\"automargin\":true,\"zerolinewidth\":2},\"scene\":{\"xaxis\":{\"backgroundcolor\":\"#E5ECF6\",\"gridcolor\":\"white\",\"linecolor\":\"white\",\"showbackground\":true,\"ticks\":\"\",\"zerolinecolor\":\"white\",\"gridwidth\":2},\"yaxis\":{\"backgroundcolor\":\"#E5ECF6\",\"gridcolor\":\"white\",\"linecolor\":\"white\",\"showbackground\":true,\"ticks\":\"\",\"zerolinecolor\":\"white\",\"gridwidth\":2},\"zaxis\":{\"backgroundcolor\":\"#E5ECF6\",\"gridcolor\":\"white\",\"linecolor\":\"white\",\"showbackground\":true,\"ticks\":\"\",\"zerolinecolor\":\"white\",\"gridwidth\":2}},\"shapedefaults\":{\"line\":{\"color\":\"#2a3f5f\"}},\"annotationdefaults\":{\"arrowcolor\":\"#2a3f5f\",\"arrowhead\":0,\"arrowwidth\":1},\"geo\":{\"bgcolor\":\"white\",\"landcolor\":\"#E5ECF6\",\"subunitcolor\":\"white\",\"showland\":true,\"showlakes\":true,\"lakecolor\":\"white\"},\"title\":{\"x\":0.05},\"mapbox\":{\"style\":\"light\"}}},\"xaxis\":{\"anchor\":\"y\",\"domain\":[0.0,1.0],\"title\":{\"text\":\"Year\"}},\"yaxis\":{\"anchor\":\"x\",\"domain\":[0.0,1.0],\"title\":{\"text\":\"GHG Emissions (tCO2e\\u002fcap\\u002fyr)\"}},\"legend\":{\"title\":{\"text\":\"Income Group\"},\"tracegroupgap\":0},\"title\":{\"text\":\"GHG Emissions per capita by Income Group (1970-2023)\"},\"barmode\":\"group\",\"height\":600,\"width\":1350},                        {\"responsive\": true}                    ).then(function(){\n",
       "                            \n",
       "var gd = document.getElementById('cdc91cbe-1c1f-41b0-87ae-cbde89279e61');\n",
       "var x = new MutationObserver(function (mutations, observer) {{\n",
       "        var display = window.getComputedStyle(gd).display;\n",
       "        if (!display || display === 'none') {{\n",
       "            console.log([gd, 'removed!']);\n",
       "            Plotly.purge(gd);\n",
       "            observer.disconnect();\n",
       "        }}\n",
       "}});\n",
       "\n",
       "// Listen for the removal of the full notebook cells\n",
       "var notebookContainer = gd.closest('#notebook-container');\n",
       "if (notebookContainer) {{\n",
       "    x.observe(notebookContainer, {childList: true});\n",
       "}}\n",
       "\n",
       "// Listen for the clearing of the current output cell\n",
       "var outputEl = gd.closest('.output');\n",
       "if (outputEl) {{\n",
       "    x.observe(outputEl, {childList: true});\n",
       "}}\n",
       "\n",
       "                        })                };                });            </script>        </div>"
      ]
     },
     "metadata": {},
     "output_type": "display_data"
    }
   ],
   "source": [
    "# Filter required columns \n",
    "df = GHG_per_capita_by_country.loc[['HIGH','H_MID', 'L_MID', 'LOW']]\n",
    "# # Plot (built-in function)\n",
    "# df = df.set_index('Country')\n",
    "# plt = df.T.plot(kind='bar', figsize=(30, 10), color={'High income': '#003299', 'Upper middle income': '#FFB400',  'Lower middle income':'#FF4B00', 'Low income': '#65B800'}, grid=True)\n",
    "# plt.axhline(0, color='k', linestyle='dashed')\n",
    "# Melt\n",
    "df_long = df.melt(id_vars=[\"Country\"], var_name=\"Year\", value_name=\"Emissions\")\n",
    "# Plot (plotly)\n",
    "fig = px.bar(\n",
    "    df_long,\n",
    "    x=\"Year\",                # Year on the x-axis\n",
    "    y=\"Emissions\",              # Emissions on the y-axis\n",
    "    color=\"Country\",       # Use income group for color differentiation\n",
    "    title=\"GHG Emissions per capita by Income Group (1970-2023)\",\n",
    "    labels={\"Country\": \"Income Group\", \"Emissions\": \"GHG Emissions (tCO2e/cap/yr)\"},  # Axis labels\n",
    "    color_discrete_map={'High income': COLORS[0], 'Upper middle income': COLORS[1],  'Lower middle income':COLORS[2], 'Low income': COLORS[3]},\n",
    "    barmode=\"group\",             # Grouped bars for each year\n",
    "    height = 600,\n",
    "    width = 1350\n",
    ")\n",
    "fig.write_image('./pdf/Chart2.pdf')\n",
    "fig.show()"
   ]
  },
  {
   "cell_type": "code",
   "execution_count": 36,
   "metadata": {},
   "outputs": [
    {
     "data": {
      "application/vnd.jupyter.widget-view+json": {
       "model_id": "86a85b5f626f448b88c82a98793ed5ce",
       "version_major": 2,
       "version_minor": 0
      },
      "text/plain": [
       "VBox(children=(IntSlider(value=2023, description='Year:', max=2023, min=1970), ToggleButtons(description='Char…"
      ]
     },
     "metadata": {},
     "output_type": "display_data"
    },
    {
     "data": {
      "application/vnd.jupyter.widget-view+json": {
       "model_id": "8d52e4ba27b44e539a2b146eece28ee4",
       "version_major": 2,
       "version_minor": 0
      },
      "text/plain": [
       "Output()"
      ]
     },
     "metadata": {},
     "output_type": "display_data"
    }
   ],
   "source": [
    "import ipywidgets as widgets\n",
    "from IPython.display import display\n",
    "\n",
    "# Create the IntSlider widget\n",
    "year_selector = widgets.IntSlider(value = 2023, min=1970, max=2023, description=\"Year:\")\n",
    "\n",
    "chart_type_selector = widgets.ToggleButtons(\n",
    "    options=['Treemap', 'Sunburst', 'Icicle'],\n",
    "    description=\"Chart Type:\",\n",
    "    value='Treemap'  # Default value\n",
    ")\n",
    "# Create an Output widget to display the chart\n",
    "out = widgets.Output()\n",
    "\n",
    "# Define the function to update the chart\n",
    "def update_chart(change = None):\n",
    "    with out:\n",
    "        out.clear_output()  # Clear previous output                \n",
    "        # Determine chart type\n",
    "        chart_type = chart_type_selector.value\n",
    "        year_value = year_selector.value\n",
    "        if chart_type == 'Icicle': \n",
    "            fig = px.icicle(\n",
    "                GHG_totals_by_country_continent,\n",
    "                path=[px.Constant(\"Global Total\"), 'Region', 'Country'],\n",
    "                values=year_value,  # Use the updated value from the slider\n",
    "                color='Region',\n",
    "                color_discrete_map={\n",
    "                    '(?)': 'lightgrey',\n",
    "                    'East Asia & Pacific': COLORS[0],\n",
    "                    'Europe & Central Asia': COLORS[1],\n",
    "                    'North America': COLORS[2],\n",
    "                    'South Asia': COLORS[3],\n",
    "                    'Middle East & North Africa': COLORS[4],\n",
    "                    'Latin America & Caribbean': COLORS[5],\n",
    "                    'Sub-Saharan Africa': COLORS[6],\n",
    "                },\n",
    "                width=1100,\n",
    "                height=1500,\n",
    "            )\n",
    "        elif chart_type == 'Sunburst': \n",
    "            fig = px.sunburst(\n",
    "                GHG_totals_by_country_continent,\n",
    "                path=[px.Constant(\"Global Total\"), 'Region', 'Country'],\n",
    "                values=year_value,  # Use the updated value from the slider\n",
    "                color='Region',\n",
    "                color_discrete_map={\n",
    "                    '(?)': 'lightgrey',\n",
    "                    'East Asia & Pacific': COLORS[0],\n",
    "                    'Europe & Central Asia': COLORS[1],\n",
    "                    'North America': COLORS[2],\n",
    "                    'South Asia': COLORS[3],\n",
    "                    'Middle East & North Africa': COLORS[4],\n",
    "                    'Latin America & Caribbean': COLORS[5],\n",
    "                    'Sub-Saharan Africa': COLORS[6],\n",
    "                },\n",
    "                width=1100,\n",
    "                height=1100,\n",
    "            )\n",
    "        elif chart_type == 'Treemap': \n",
    "            fig = px.treemap(\n",
    "                GHG_totals_by_country_continent,\n",
    "                path=[px.Constant(\"Global Total\"), 'Region', 'Country'],\n",
    "                values=year_value,  # Use the updated value from the slider\n",
    "                color='Region',\n",
    "                color_discrete_map={\n",
    "                    '(?)': 'lightgrey',\n",
    "                    'East Asia & Pacific': COLORS[0],\n",
    "                    'Europe & Central Asia': COLORS[1],\n",
    "                    'North America': COLORS[2],\n",
    "                    'South Asia': COLORS[3],\n",
    "                    'Middle East & North Africa': COLORS[4],\n",
    "                    'Latin America & Caribbean': COLORS[5],\n",
    "                    'Sub-Saharan Africa': COLORS[6],\n",
    "                },\n",
    "                width=1100,\n",
    "                height=1500,\n",
    "            )\n",
    "        fig.update_traces(root_color=\"lightgrey\")\n",
    "        fig.update_layout(margin=dict(t=30, l=0, r=0, b=0))\n",
    "        fig.update_layout(title=f\"Countries' contributions to total GHG emission in year {year_value}\")\n",
    "        fig.write_image('./pdf/Chart3.pdf')\n",
    "        fig.show()\n",
    "# Attach the update function to the widgets\n",
    "year_selector.observe(update_chart, names='value')\n",
    "chart_type_selector.observe(update_chart, names='value')\n",
    "\n",
    "# Display the slider and the chart\n",
    "display(widgets.VBox([year_selector, chart_type_selector]), out)\n",
    "\n",
    "update_chart()"
   ]
  },
  {
   "cell_type": "markdown",
   "metadata": {},
   "source": [
    "# Animated version\n",
    "\n",
    "Just for fun, the animated version of the previous chart"
   ]
  },
  {
   "cell_type": "code",
   "execution_count": 35,
   "metadata": {},
   "outputs": [
    {
     "data": {
      "application/vnd.jupyter.widget-view+json": {
       "model_id": "d878f6ebd7334a679cb5cc7a4107596a",
       "version_major": 2,
       "version_minor": 0
      },
      "text/plain": [
       "VBox(children=(ToggleButtons(description='Chart Type:', options=('Treemap', 'Sunburst', 'Icicle'), value='Tree…"
      ]
     },
     "metadata": {},
     "output_type": "display_data"
    },
    {
     "data": {
      "application/vnd.jupyter.widget-view+json": {
       "model_id": "0265035487ca43d68ea64d3fc39e8a99",
       "version_major": 2,
       "version_minor": 0
      },
      "text/plain": [
       "Output()"
      ]
     },
     "metadata": {},
     "output_type": "display_data"
    }
   ],
   "source": [
    "import ipywidgets as widgets\n",
    "from IPython.display import display\n",
    "import plotly.graph_objects as go\n",
    "\n",
    "chart_type_selector_2 = widgets.ToggleButtons(\n",
    "    options=['Treemap', 'Sunburst', 'Icicle'],\n",
    "    description=\"Chart Type:\",\n",
    "    value='Treemap'  # Default value\n",
    ")\n",
    "# Create an Output widget to display the chart\n",
    "out = widgets.Output()\n",
    "def return_chart(chart_type, year):\n",
    "    if chart_type == 'Icicle': \n",
    "        fig = px.icicle(\n",
    "            GHG_totals_by_country_continent,\n",
    "            path=[px.Constant(\"Global Total\"), 'Region', 'Country'],\n",
    "            values=year,  # Use the updated value from the slider\n",
    "            color='Region',\n",
    "            color_discrete_map={\n",
    "                '(?)': 'lightgrey',\n",
    "                'East Asia & Pacific': COLORS[0],\n",
    "                'Europe & Central Asia': COLORS[1],\n",
    "                'North America': COLORS[2],\n",
    "                'South Asia': COLORS[3],\n",
    "                'Middle East & North Africa': COLORS[4],\n",
    "                'Latin America & Caribbean': COLORS[5],\n",
    "                'Sub-Saharan Africa': COLORS[6],\n",
    "            },\n",
    "            width=900,\n",
    "            height=900,\n",
    "        )\n",
    "    elif chart_type == 'Sunburst': \n",
    "        fig = px.sunburst(\n",
    "            GHG_totals_by_country_continent,\n",
    "            path=[px.Constant(\"Global Total\"), 'Region', 'Country'],\n",
    "            values=year,  # Use the updated value from the slider\n",
    "            color='Region',\n",
    "            color_discrete_map={\n",
    "                '(?)': 'lightgrey',\n",
    "                'East Asia & Pacific': COLORS[0],\n",
    "                'Europe & Central Asia': COLORS[1],\n",
    "                'North America': COLORS[2],\n",
    "                'South Asia': COLORS[3],\n",
    "                'Middle East & North Africa': COLORS[4],\n",
    "                'Latin America & Caribbean': COLORS[5],\n",
    "                'Sub-Saharan Africa': COLORS[6],\n",
    "            },\n",
    "            width=900,\n",
    "            height=900,\n",
    "        )\n",
    "    elif chart_type == 'Treemap': \n",
    "        fig = px.treemap(\n",
    "            GHG_totals_by_country_continent,\n",
    "            path=[px.Constant(\"Global Total\"), 'Region', 'Country'],\n",
    "            values=year,  # Use the updated value from the slider\n",
    "            color='Region',\n",
    "            color_discrete_map={\n",
    "                '(?)': 'lightgrey',\n",
    "                'East Asia & Pacific': COLORS[0],\n",
    "                'Europe & Central Asia': COLORS[1],\n",
    "                'North America': COLORS[2],\n",
    "                'South Asia': COLORS[3],\n",
    "                'Middle East & North Africa': COLORS[4],\n",
    "                'Latin America & Caribbean': COLORS[5],\n",
    "                'Sub-Saharan Africa': COLORS[6],\n",
    "            },\n",
    "            width=900,\n",
    "            height=900,\n",
    "        )\n",
    "    fig.update_traces(root_color=\"lightgrey\")\n",
    "    fig.update_layout(margin=dict(t=30, l=0, r=0, b=0))\n",
    "    fig.update_layout(title=f\"Countries' contributions to total GHG emissions over time (animated)\")\n",
    "    return fig \n",
    "\n",
    "# Define the function to update the chart\n",
    "def update_chart(change = None):\n",
    "    with out:\n",
    "        out.clear_output()  # Clear previous output                \n",
    "        # Determine chart type\n",
    "        chart_type = chart_type_selector_2.value\n",
    "        fig = return_chart(chart_type, 1970)\n",
    "        fig.update(frames = [ go.Frame(data=return_chart(chart_type, year).data, name = year) for year in years ] )\n",
    "        \n",
    "        fig.update_layout(\n",
    "            updatemenus=[\n",
    "                {\n",
    "                    \"buttons\": [\n",
    "                        {\n",
    "                            \"args\": [None, {\"frame\": {\"duration\": 500, \"redraw\": False},\n",
    "                                            \"fromcurrent\": True, \"transition\": {\"duration\": 300,\n",
    "                                                                                \"easing\": \"quadratic-in-out\"}}],\n",
    "                            \"label\": \"Play\",\n",
    "                            \"method\": \"animate\"\n",
    "                        },\n",
    "                        {\n",
    "                            \"args\": [[None], {\"frame\": {\"duration\": 0, \"redraw\": False},\n",
    "                                              \"mode\": \"immediate\",\n",
    "                                              \"transition\": {\"duration\": 0}}],\n",
    "                            \"label\": \"Pause\",\n",
    "                            \"method\": \"animate\"\n",
    "                        }\n",
    "                    ],\n",
    "                    \"direction\": \"left\",\n",
    "                    \"pad\": {\"r\": 10, \"t\": 87},\n",
    "                    \"showactive\": False,\n",
    "                    \"type\": \"buttons\",\n",
    "                    \"x\": 0.1,\n",
    "                    \"xanchor\": \"right\",\n",
    "                    \"y\": 0,\n",
    "                    \"yanchor\": \"top\"\n",
    "                }\n",
    "            ],\n",
    "            sliders=[{\n",
    "                \"active\": 0,\n",
    "                \"yanchor\": \"top\",\n",
    "                \"xanchor\": \"left\",\n",
    "                \"currentvalue\": {\n",
    "                    \"font\": {\"size\": 20},\n",
    "                    \"prefix\": \"Year:\",\n",
    "                    \"visible\": True,\n",
    "                    \"xanchor\": \"right\"\n",
    "                },\n",
    "                \"transition\": {\"duration\": 300, \"easing\": \"cubic-in-out\"},\n",
    "                \"pad\": {\"b\": 10, \"t\": 50},\n",
    "                \"len\": 0.9,\n",
    "                \"x\": 0.1,\n",
    "                \"y\": 0,\n",
    "                \"steps\": [{\n",
    "                    \"args\": [\n",
    "                            [year],\n",
    "                            {\"frame\": {\"duration\": 300, \"redraw\": False},\n",
    "                             \"mode\": \"immediate\",\n",
    "                             \"transition\": {\"duration\": 300}}\n",
    "                        ],\n",
    "                    \"label\": year,\n",
    "                    \"method\": \"animate\"\n",
    "                } for year in years ]\n",
    "            }]\n",
    "        )\n",
    "        fig.show()\n",
    "# Attach the update function to the widgets\n",
    "chart_type_selector_2.observe(update_chart, names='value')\n",
    "\n",
    "# Display the slider and the chart\n",
    "display(widgets.VBox([chart_type_selector_2]), out)\n",
    "\n",
    "update_chart()"
   ]
  }
 ],
 "metadata": {
  "kernelspec": {
   "display_name": "Python 3 (ipykernel)",
   "language": "python",
   "name": "python3"
  },
  "language_info": {
   "codemirror_mode": {
    "name": "ipython",
    "version": 3
   },
   "file_extension": ".py",
   "mimetype": "text/x-python",
   "name": "python",
   "nbconvert_exporter": "python",
   "pygments_lexer": "ipython3",
   "version": "3.10.13"
  }
 },
 "nbformat": 4,
 "nbformat_minor": 4
}
