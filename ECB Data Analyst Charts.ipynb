{
 "cells": [
  {
   "cell_type": "markdown",
   "metadata": {},
   "source": [
    "The European Commission regularly publishes the Emissions Database for Global Atmospheric Research (EDGAR) report on the global greenhouse gas (GHG) emissions around the world. The latest data is published here: https://edgar.jrc.ec.europa.eu/report_2024?vis=ghgpop#data_download\n",
    "\n",
    "Using data from the above website – specifically, the data contained in the **EDGAR GHG emissions files** – prepare three charts (with the specifications described below) and, alongside each chart, provide a maximum of three bullet points explaining the main data trends.\n",
    "\n",
    "- Chart 1 – **Evolution** of **GHG growth** in the **euro area**, **European Union (EU27)** and **worldwide**;\n",
    "\n",
    "- Chart 2 – Comparison of countries’ GHG **emissions per capita** aggregated according to the **World Bank income groups**;\n",
    "\n",
    "    - `CLASS.xlsx` downloaded from https://datahelpdesk.worldbank.org/knowledgebase/articles/906519-world-bank-country-and-lending-groups\n",
    "\n",
    "- Chart 3 – Contribution of individual **country** and **continent** GHG emissions to **total world** GHG emissions. "
   ]
  },
  {
   "cell_type": "markdown",
   "metadata": {},
   "source": [
    "For simplicity, and to make use of the power of Jupyter, we explain everything as we do it: run this Jupyter notebook (or copy and paste the code) to get interactive charts! \n",
    "\n",
    "### Import data and add required aggregates"
   ]
  },
  {
   "cell_type": "code",
   "execution_count": 1,
   "metadata": {},
   "outputs": [],
   "source": [
    "import pandas as pd\n",
    "import plotly.express as px\n",
    "\n",
    "COLORS = ['#003299', '#FFB400', '#FF4B00', '#65B800', '#00B1EA', '#8139C6', '#077C1D'] # ECB charts color scheme (unused, but noting it down)\n",
    "\n",
    "def add_aggregate(data_frame, aggregate_label, aggregate_name, aggregate_components): \n",
    "    data_frame_new = pd.DataFrame({aggregate_label: data_frame.loc[aggregate_components].sum()[1:]}).T\n",
    "    data_frame_new['Country'] = aggregate_name\n",
    "    data_frame_new = pd.concat([data_frame, data_frame_new])\n",
    "    return data_frame_new"
   ]
  },
  {
   "cell_type": "markdown",
   "metadata": {},
   "source": [
    "Importing GHG totals and computing Euro Area aggregate. Guadeloupe, French Guiana, Martinique and Réunion are included in the Euro Area: they are part of France and adopt the Euro."
   ]
  },
  {
   "cell_type": "code",
   "execution_count": 2,
   "metadata": {},
   "outputs": [],
   "source": [
    "EURO_AREA=[\n",
    "    'AUT', 'BEL', 'HRV', 'CYP', 'EST', 'FIN', 'FRA', 'DEU', 'GRC', 'IRL', 'ITA', 'LVA', 'LTU', 'LUX', 'MLT', 'NLD', 'PRT', 'SVK', 'SVN', 'ESP', 'GUF', 'GLP', 'MTQ', 'REU'\n",
    "]\n",
    "GHG_totals_by_country_original = pd.read_excel('EDGAR_2024_GHG_booklet_2024.xlsx', sheet_name='GHG_totals_by_country', index_col=0).dropna() # dropna to drop empty rows\n",
    "GHG_totals_by_country = add_aggregate(GHG_totals_by_country_original, 'EURO AREA', 'EURO AREA', EURO_AREA)"
   ]
  },
  {
   "cell_type": "markdown",
   "metadata": {},
   "source": [
    "Importing GHG per capita, the information from the World Bank, and computing the required aggregates.\n",
    "\n",
    "Income groups are plugged-in by hand (still using Python) to account for some slight labelling differences between the `CLASS.xlsx` file and the `EDGAR_2024_GHG_booklet_2024.xlsx` file. In particular: \n",
    "\n",
    "- The income groups of pacific island and microstates for which no data was present in the GHG file, or whose GHG data was grouped with a much larger nation were ignored (This applies to: Andorra, American Samoa, Channel Islands, Curaçao, Micronesia, Fed. Sts., Guam, Isle of Man, Liechtenstein, St. Martin (French part), Monaco, Marshall Islands, Northern Mariana Islands, Nauru, San Marino, South Sudan, Sint Maarten (Dutch part), Tuvalu, Virgin Islands (U.S.), Kosovo)\n",
    "\n",
    "- 'Guadeloupe', 'French Guiana', 'Martinique' and 'Réunion' are included among the high income countries as part of France\n",
    "\n",
    "- Other less relevant territories whose GHG are listed separately, but which are not part of an income group were also ignored (this applies to: 'Anguilla', 'Cook Islands', 'Western Sahara', 'Falkland Islands', 'Saint Helena, Ascension and Tristan da Cunha', 'Saint Pierre and Miquelon')\n",
    "\n",
    "- Curaçao has a different country code between the two files ('ANT' and 'CUW')\n",
    "\n",
    "- Venezuela is also not part of an income group. ('VEN')\n",
    "\n",
    "- Kosovo, Montenegro and Serbia are listed separately in the World Bank file, but in the GHG file they appear as \"Serbia and Montenegro\" ('SCG')\n",
    "\n",
    "- Sudan and South Sudan are listed separately in the World Bank file, but in the GHG file they appear as \"Sudan and South Sudan\" ('SDN')\n",
    "\n",
    "- Israel and Palestinian territories are listed separately in the World Bank file, but in the GHG file they appear as \"Israel and Palestine, State of\". The income level of Israel is kept for both due to the much larger population. ('ISR')\n",
    "\n",
    "- International Aviation and Shipping are ignored.  "
   ]
  },
  {
   "cell_type": "code",
   "execution_count": 3,
   "metadata": {},
   "outputs": [],
   "source": [
    "\n",
    "income_groups = {\n",
    "    'Low income' : ['AFG', 'BFA', 'BDI', 'CAF', 'TCD', 'COD', 'ERI', 'ETH', 'GMB', 'GNB', 'PRK', 'LBR', 'MDG', 'MWI', 'MLI', 'MOZ', 'NER', 'RWA', 'SLE', 'SOM', 'SDN', 'SYR', 'TGO', 'UGA', 'YEM'], \n",
    "    'Lower middle income': ['AGO', 'BGD', 'BEN', 'BTN', 'BOL', 'CPV', 'KHM', 'CMR', 'COM', 'COG', 'CIV', 'DJI', 'EGY', 'SWZ', 'GHA', 'GIN', 'HTI', 'HND', 'IND', 'JOR', 'KEN', 'KIR', 'KGZ', 'LAO', 'LBN', 'LSO', 'MRT', 'MAR', 'MMR', 'NPL', 'NIC', 'NGA', 'PAK', 'PNG', 'PHL', 'WSM', 'STP', 'SEN', 'SLB', 'LKA', 'TJK', 'TZA', 'TLS', 'TUN', 'UZB', 'VUT', 'VNM', 'ZMB', 'ZWE'], \n",
    "    'Upper middle income': ['ALB', 'DZA', 'ARG', 'ARM', 'AZE', 'BLR', 'BLZ', 'BIH', 'BWA', 'BRA', 'CHN', 'COL', 'CRI', 'CUB', 'DMA', 'DOM', 'ECU', 'SLV', 'GNQ', 'FJI', 'GAB', 'GEO', 'GRD', 'GTM', 'IDN', 'IRN', 'IRQ', 'JAM', 'KAZ', 'LBY', 'MYS', 'MDV', 'MUS', 'MEX', 'MDA', 'MNG', 'NAM', 'MKD', 'PRY', 'PER', 'SCG', 'ZAF', 'LCA', 'VCT', 'SUR', 'THA', 'TON', 'TUR', 'TKM', 'UKR'],\n",
    "    'High income': ['ATG', 'ABW', 'AUS', 'AUT', 'BHS', 'BHR', 'BRB', 'BEL', 'BMU', 'VGB', 'BRN', 'BGR', 'CAN', 'CYM', 'CHL', 'HRV', 'CYP', 'CZE', 'DNK', 'EST', 'FRO', 'FIN', 'FRA', 'PYF', 'DEU', 'GIB', 'GRC', 'GRL', 'GUY', 'HKG', 'HUN', 'ISL', 'IRL', 'ISR', 'ITA', 'JPN', 'KOR', 'KWT', 'LVA', 'LTU', 'LUX', 'MAC', 'MLT', 'NLD', 'NCL', 'NZL', 'NOR', 'OMN', 'PLW', 'PAN', 'POL', 'PRT', 'PRI', 'QAT', 'ROU', 'RUS', 'SAU', 'SYC', 'SGP', 'SVK', 'SVN', 'ESP', 'KNA', 'SWE', 'CHE', 'TWN', 'TTO', 'TCA', 'ARE', 'GBR', 'USA', 'URY', 'ANT', 'GUF', 'GLP', 'MTQ', 'REU']\n",
    "}\n",
    "income_groups_labels = {\n",
    "    'Low income' : 'LOW',\n",
    "    'Lower middle income': 'L_MID',\n",
    "    'Upper middle income': 'H_MID',\n",
    "    'High income': 'HIGH',\n",
    "}\n",
    "\n",
    "all_income_groups_CLASS = sum (income_groups.values(), [])\n",
    "GHG_per_capita_by_country = pd.read_excel('EDGAR_2024_GHG_booklet_2024.xlsx', sheet_name='GHG_per_capita_by_country', index_col=0).dropna() # dropna to drop empty rows\n",
    "CLASS = pd.read_excel('CLASS.xlsx', sheet_name='List of economies')\n",
    "\n",
    "for income_group, income_group_countries in income_groups.items(): \n",
    "    GHG_per_capita_by_country = add_aggregate(GHG_per_capita_by_country, income_groups_labels[income_group], income_group, income_group_countries)\n"
   ]
  },
  {
   "cell_type": "markdown",
   "metadata": {},
   "source": [
    "Dividing countries by region. Using World Bank regions for consistency"
   ]
  },
  {
   "cell_type": "code",
   "execution_count": 4,
   "metadata": {},
   "outputs": [],
   "source": [
    "region_dictionary = {\n",
    "    region: CLASS[CLASS.Region==region].Code.to_list()\n",
    "    for region in CLASS.Region.unique()\n",
    "}\n",
    "\n",
    "region_dictionary_reverse={}\n",
    "for region in region_dictionary.keys():\n",
    "    for code in region_dictionary[region]:\n",
    "        region_dictionary_reverse[code] = region \n",
    "# Adding in missing data\n",
    "region_dictionary_reverse['AIA'] = 'Latin America & Caribbean'\n",
    "region_dictionary_reverse['AIR'] = 'International Aviation'\n",
    "region_dictionary_reverse['ANT'] = 'Latin America & Caribbean'\n",
    "region_dictionary_reverse['COK'] = 'East Asia & Pacific'\n",
    "region_dictionary_reverse['ESH'] = 'Middle East & North Africa'\n",
    "region_dictionary_reverse['FLK'] = 'Latin America & Caribbean'\n",
    "region_dictionary_reverse['GLP'] = 'Latin America & Caribbean'\n",
    "region_dictionary_reverse['GUF'] = 'Latin America & Caribbean'\n",
    "region_dictionary_reverse['MTQ'] = 'Latin America & Caribbean'\n",
    "region_dictionary_reverse['REU'] = 'Sub-Saharan Africa'\n",
    "region_dictionary_reverse['SCG'] = 'Europe & Central Asia'\n",
    "region_dictionary_reverse['SEA'] = 'International Shipping'\n",
    "region_dictionary_reverse['SHN'] = 'Sub-Saharan Africa'\n",
    "region_dictionary_reverse['SPM'] = 'North America'\n",
    "\n",
    "region_reverse_series = pd.Series(region_dictionary_reverse)\n",
    "\n",
    "region_dictionary = {\n",
    "        region : [code for code in region_reverse_series[region_reverse_series==region].index.to_list() if code in GHG_totals_by_country.index]\n",
    "        for region in region_reverse_series.unique()\n",
    "    }\n",
    "region_dictionary\n",
    "\n",
    "region_labels = {\n",
    "    'South Asia' :'SAS',\n",
    "    'Europe & Central Asia' :'ECS',\n",
    "    'Middle East & North Africa' :'MEA',\n",
    "    'East Asia & Pacific' :'EAS',\n",
    "    'Sub-Saharan Africa' :'SSF',\n",
    "    'Latin America & Caribbean' :'LCN',\n",
    "    'North America' :'NAC',\n",
    "    'International Aviation' :'AIR',\n",
    "    'International Shipping' :'SEA', \n",
    "    'GLOBAL TOTAL': 'GLOBAL TOTAL'\n",
    "}\n",
    "\n",
    "GHG_totals_by_country_continent = GHG_totals_by_country_original.copy()\n",
    "\n",
    "# for region in region_dictionary.keys():\n",
    "#     if region not in GHG_totals_by_country_continent.index:\n",
    "#         if region not in ['International Aviation', 'International Shipping']:\n",
    "#             GHG_totals_by_country_continent = add_aggregate(GHG_totals_by_country_continent, region_labels[region], region, region_dictionary[region])\n",
    "GHG_totals_by_country_continent\n",
    "GHG_totals_by_country_continent = GHG_totals_by_country_continent.drop('EU27')\n",
    "GHG_totals_by_country_continent = GHG_totals_by_country_continent.drop('GLOBAL TOTAL')\n",
    "# GHG_totals_by_country_continent = GHG_totals_by_country_continent.drop(dropping)\n",
    "# GHG_totals_by_country_continent['Region'] = [region_dictionary_reverse[index] if index not in region_labels.values() else ('GLOBAL TOTAL' if index != 'GLOBAL TOTAL' else '')  for index in GHG_totals_by_country_continent.index ]\n",
    "GHG_totals_by_country_continent['Region'] = [region_dictionary_reverse[index] if index not in region_labels.values() else 'International Aviation and Shipping'  for index in GHG_totals_by_country_continent.index ]\n",
    "dropping = GHG_totals_by_country_continent[GHG_totals_by_country_continent.Region.isin(['', 'GLOBAL TOTAL'])  & ~GHG_totals_by_country_continent.Country.isin(['International Shipping', 'International Aviation'])].index\n"
   ]
  },
  {
   "cell_type": "markdown",
   "metadata": {},
   "source": [
    "### Chart 1\n",
    "First, we compute the growth from the emission totals by differentiating. We cannot get information from the first period, as no data is present for 1969. Then, we plot the first chart"
   ]
  },
  {
   "cell_type": "code",
   "execution_count": 16,
   "metadata": {},
   "outputs": [
    {
     "data": {
      "application/vnd.plotly.v1+json": {
       "config": {
        "plotlyServerURL": "https://plot.ly"
       },
       "data": [
        {
         "alignmentgroup": "True",
         "hovertemplate": "Region=GLOBAL TOTAL<br>Year=%{x}<br>GHG Emissions (MtCO2e)=%{y}<extra></extra>",
         "legendgroup": "GLOBAL TOTAL",
         "marker": {
          "color": "#003299",
          "pattern": {
           "shape": ""
          }
         },
         "name": "GLOBAL TOTAL",
         "offsetgroup": "GLOBAL TOTAL",
         "orientation": "v",
         "showlegend": true,
         "textposition": "auto",
         "type": "bar",
         "x": [
          1971,
          1972,
          1973,
          1974,
          1975,
          1976,
          1977,
          1978,
          1979,
          1980,
          1981,
          1982,
          1983,
          1984,
          1985,
          1986,
          1987,
          1988,
          1989,
          1990,
          1991,
          1992,
          1993,
          1994,
          1995,
          1996,
          1997,
          1998,
          1999,
          2000,
          2001,
          2002,
          2003,
          2004,
          2005,
          2006,
          2007,
          2008,
          2009,
          2010,
          2011,
          2012,
          2013,
          2014,
          2015,
          2016,
          2017,
          2018,
          2019,
          2020,
          2021,
          2022,
          2023
         ],
         "xaxis": "x",
         "y": [
          45.65648012600286,
          922.870509600998,
          1214.1399716859996,
          -3.270278217998566,
          12.355256849001307,
          1129.3551859009967,
          666.7894675160023,
          704.3976517339979,
          690.0606903910011,
          -290.2782370999994,
          -527.2381767240004,
          -211.84259450099853,
          226.8358476209978,
          790.2056066490004,
          299.48354800499874,
          478.3260226380007,
          735.9440424860004,
          949.0756800400013,
          565.9735975939984,
          324.63601338100125,
          52.47927772899857,
          -87.46258714599753,
          63.25488856299853,
          350.7970070790034,
          825.1568563689943,
          637.8183048499995,
          408.9090578890027,
          86.07613988700177,
          225.1220510610001,
          886.767320975996,
          284.3589061210005,
          439.33584726900153,
          1509.6481508619981,
          1575.5222500960008,
          1312.8734276640025,
          1174.8327338189993,
          1277.2233567360017,
          278.3840378639943,
          -422.86153268999624,
          2210.479868219001,
          1362.0529041350019,
          612.993397940998,
          797.909418342002,
          342.27773063799395,
          -121.40966003799986,
          249.67407971700595,
          820.2925524359962,
          1147.8936403949992,
          251.7204707300043,
          -1950.8090345500023,
          2240.7111469029987,
          400.221568535002,
          994.4292580619949
         ],
         "yaxis": "y"
        },
        {
         "alignmentgroup": "True",
         "hovertemplate": "Region=EU27<br>Year=%{x}<br>GHG Emissions (MtCO2e)=%{y}<extra></extra>",
         "legendgroup": "EU27",
         "marker": {
          "color": "#FFB400",
          "pattern": {
           "shape": ""
          }
         },
         "name": "EU27",
         "offsetgroup": "EU27",
         "orientation": "v",
         "showlegend": true,
         "textposition": "auto",
         "type": "bar",
         "x": [
          1971,
          1972,
          1973,
          1974,
          1975,
          1976,
          1977,
          1978,
          1979,
          1980,
          1981,
          1982,
          1983,
          1984,
          1985,
          1986,
          1987,
          1988,
          1989,
          1990,
          1991,
          1992,
          1993,
          1994,
          1995,
          1996,
          1997,
          1998,
          1999,
          2000,
          2001,
          2002,
          2003,
          2004,
          2005,
          2006,
          2007,
          2008,
          2009,
          2010,
          2011,
          2012,
          2013,
          2014,
          2015,
          2016,
          2017,
          2018,
          2019,
          2020,
          2021,
          2022,
          2023
         ],
         "xaxis": "x",
         "y": [
          24.483558386599725,
          151.78029353040074,
          218.66212655219988,
          -40.13746490310041,
          -87.48747980379994,
          264.03569940980015,
          -11.26779848949991,
          169.29334887139976,
          159.27905493690014,
          -88.66594783989967,
          -205.92016202759987,
          -86.37446794000061,
          -22.484992414099906,
          39.66109700149991,
          3.3977599213003487,
          -1.7112939340004232,
          34.44341220000024,
          -18.951908058499612,
          -12.14436769960048,
          -204.02901805730016,
          -82.70446635010012,
          -178.62985737669987,
          -88.0010445165999,
          -13.755916941800024,
          50.4049381122004,
          112.13652031399943,
          -82.24814569459977,
          -48.8014204072997,
          -77.64376566989995,
          13.407731867800067,
          29.897850286200082,
          -17.120596571900023,
          92.05326561109996,
          3.1946060028994907,
          -35.91234557049938,
          -0.2822928731002321,
          -32.2797294576003,
          -110.16026848279944,
          -290.8470350132002,
          115.33033204249932,
          -108.5554416328996,
          -67.01743632929993,
          -87.57464758669994,
          -146.64658832480018,
          54.20043951080015,
          9.64824070809982,
          22.89225491370007,
          -81.61044861339997,
          -152.6424916781998,
          -289.73760513670004,
          188.7392295894997,
          -94.7075589868,
          -260.51584498409966
         ],
         "yaxis": "y"
        },
        {
         "alignmentgroup": "True",
         "hovertemplate": "Region=EURO AREA<br>Year=%{x}<br>GHG Emissions (MtCO2e)=%{y}<extra></extra>",
         "legendgroup": "EURO AREA",
         "marker": {
          "color": "#FF4B00",
          "pattern": {
           "shape": ""
          }
         },
         "name": "EURO AREA",
         "offsetgroup": "EURO AREA",
         "orientation": "v",
         "showlegend": true,
         "textposition": "auto",
         "type": "bar",
         "x": [
          1971,
          1972,
          1973,
          1974,
          1975,
          1976,
          1977,
          1978,
          1979,
          1980,
          1981,
          1982,
          1983,
          1984,
          1985,
          1986,
          1987,
          1988,
          1989,
          1990,
          1991,
          1992,
          1993,
          1994,
          1995,
          1996,
          1997,
          1998,
          1999,
          2000,
          2001,
          2002,
          2003,
          2004,
          2005,
          2006,
          2007,
          2008,
          2009,
          2010,
          2011,
          2012,
          2013,
          2014,
          2015,
          2016,
          2017,
          2018,
          2019,
          2020,
          2021,
          2022,
          2023
         ],
         "xaxis": "x",
         "y": [
          17.98124858669553,
          120.37431578639598,
          173.01810397252302,
          -38.80499303761371,
          -141.71699793243988,
          199.52988405178303,
          -55.34934030075647,
          108.75958038872977,
          132.0161018247877,
          -74.92472600713927,
          -124.54530586254305,
          -105.0724181386895,
          -14.447539594101272,
          25.620760780620458,
          -12.040916095997545,
          -9.197055929485941,
          18.26269965874917,
          6.9672035116113875,
          43.86845111920775,
          -24.33159436873484,
          5.406610857164196,
          -121.05880965933784,
          -70.17254351537622,
          2.254047350576002,
          50.00768788202731,
          67.33908053180039,
          -36.16951604292262,
          21.30713684836701,
          -27.81195545992705,
          23.32053721975899,
          25.090356652877745,
          1.141847091685122,
          60.07098946780479,
          12.789439956246497,
          -23.5643070688011,
          -30.522404611190723,
          -23.751911147573082,
          -81.73012317672874,
          -222.9873439981311,
          86.88095973596683,
          -103.64369700861425,
          -38.209356658036086,
          -60.15194850325042,
          -127.24364480946178,
          44.800263787711174,
          -2.7655499507059176,
          2.2075625471334206,
          -74.46958728772688,
          -121.02600027549215,
          -246.69295364012305,
          139.79738205253125,
          -78.18970788946626,
          -195.7389324718306
         ],
         "yaxis": "y"
        }
       ],
       "layout": {
        "annotations": [
         {
          "font": {
           "color": "red",
           "size": 10
          },
          "showarrow": false,
          "text": "1973 Oil Crisis",
          "x": 1974,
          "xref": "x",
          "y": 1.05,
          "yref": "paper"
         },
         {
          "font": {
           "color": "red",
           "size": 10
          },
          "showarrow": false,
          "text": "Early 1980s Recession",
          "x": 1980.5,
          "xref": "x",
          "y": 1.05,
          "yref": "paper"
         },
         {
          "font": {
           "color": "red",
           "size": 10
          },
          "showarrow": false,
          "text": "Early 1990s Recession",
          "x": 1990.5,
          "xref": "x",
          "y": 1.05,
          "yref": "paper"
         },
         {
          "font": {
           "color": "red",
           "size": 10
          },
          "showarrow": false,
          "text": "Global Financial Crisis",
          "x": 2008,
          "xref": "x",
          "y": 1.05,
          "yref": "paper"
         },
         {
          "font": {
           "color": "red",
           "size": 10
          },
          "showarrow": false,
          "text": "COVID-19 Recession",
          "x": 2020,
          "xref": "x",
          "y": 1.05,
          "yref": "paper"
         }
        ],
        "barmode": "group",
        "height": 600,
        "legend": {
         "title": {
          "text": "Region"
         },
         "tracegroupgap": 0
        },
        "shapes": [
         {
          "fillcolor": "rgba(128, 128, 128, 0.2)",
          "line": {
           "width": 0
          },
          "type": "rect",
          "x0": "1973.5",
          "x1": "1975.5",
          "xref": "x",
          "y0": 0,
          "y1": 1,
          "yref": "paper"
         },
         {
          "fillcolor": "rgba(128, 128, 128, 0.2)",
          "line": {
           "width": 0
          },
          "type": "rect",
          "x0": "1979.5",
          "x1": "1982.5",
          "xref": "x",
          "y0": 0,
          "y1": 1,
          "yref": "paper"
         },
         {
          "fillcolor": "rgba(128, 128, 128, 0.2)",
          "line": {
           "width": 0
          },
          "type": "rect",
          "x0": "1990.5",
          "x1": "1991.5",
          "xref": "x",
          "y0": 0,
          "y1": 1,
          "yref": "paper"
         },
         {
          "fillcolor": "rgba(128, 128, 128, 0.2)",
          "line": {
           "width": 0
          },
          "type": "rect",
          "x0": "2007.5",
          "x1": "2009.5",
          "xref": "x",
          "y0": 0,
          "y1": 1,
          "yref": "paper"
         },
         {
          "fillcolor": "rgba(128, 128, 128, 0.2)",
          "line": {
           "width": 0
          },
          "type": "rect",
          "x0": "2019.5",
          "x1": "2021.5",
          "xref": "x",
          "y0": 0,
          "y1": 1,
          "yref": "paper"
         }
        ],
        "template": {
         "data": {
          "bar": [
           {
            "error_x": {
             "color": "#2a3f5f"
            },
            "error_y": {
             "color": "#2a3f5f"
            },
            "marker": {
             "line": {
              "color": "#E5ECF6",
              "width": 0.5
             },
             "pattern": {
              "fillmode": "overlay",
              "size": 10,
              "solidity": 0.2
             }
            },
            "type": "bar"
           }
          ],
          "barpolar": [
           {
            "marker": {
             "line": {
              "color": "#E5ECF6",
              "width": 0.5
             },
             "pattern": {
              "fillmode": "overlay",
              "size": 10,
              "solidity": 0.2
             }
            },
            "type": "barpolar"
           }
          ],
          "carpet": [
           {
            "aaxis": {
             "endlinecolor": "#2a3f5f",
             "gridcolor": "white",
             "linecolor": "white",
             "minorgridcolor": "white",
             "startlinecolor": "#2a3f5f"
            },
            "baxis": {
             "endlinecolor": "#2a3f5f",
             "gridcolor": "white",
             "linecolor": "white",
             "minorgridcolor": "white",
             "startlinecolor": "#2a3f5f"
            },
            "type": "carpet"
           }
          ],
          "choropleth": [
           {
            "colorbar": {
             "outlinewidth": 0,
             "ticks": ""
            },
            "type": "choropleth"
           }
          ],
          "contour": [
           {
            "colorbar": {
             "outlinewidth": 0,
             "ticks": ""
            },
            "colorscale": [
             [
              0,
              "#0d0887"
             ],
             [
              0.1111111111111111,
              "#46039f"
             ],
             [
              0.2222222222222222,
              "#7201a8"
             ],
             [
              0.3333333333333333,
              "#9c179e"
             ],
             [
              0.4444444444444444,
              "#bd3786"
             ],
             [
              0.5555555555555556,
              "#d8576b"
             ],
             [
              0.6666666666666666,
              "#ed7953"
             ],
             [
              0.7777777777777778,
              "#fb9f3a"
             ],
             [
              0.8888888888888888,
              "#fdca26"
             ],
             [
              1,
              "#f0f921"
             ]
            ],
            "type": "contour"
           }
          ],
          "contourcarpet": [
           {
            "colorbar": {
             "outlinewidth": 0,
             "ticks": ""
            },
            "type": "contourcarpet"
           }
          ],
          "heatmap": [
           {
            "colorbar": {
             "outlinewidth": 0,
             "ticks": ""
            },
            "colorscale": [
             [
              0,
              "#0d0887"
             ],
             [
              0.1111111111111111,
              "#46039f"
             ],
             [
              0.2222222222222222,
              "#7201a8"
             ],
             [
              0.3333333333333333,
              "#9c179e"
             ],
             [
              0.4444444444444444,
              "#bd3786"
             ],
             [
              0.5555555555555556,
              "#d8576b"
             ],
             [
              0.6666666666666666,
              "#ed7953"
             ],
             [
              0.7777777777777778,
              "#fb9f3a"
             ],
             [
              0.8888888888888888,
              "#fdca26"
             ],
             [
              1,
              "#f0f921"
             ]
            ],
            "type": "heatmap"
           }
          ],
          "heatmapgl": [
           {
            "colorbar": {
             "outlinewidth": 0,
             "ticks": ""
            },
            "colorscale": [
             [
              0,
              "#0d0887"
             ],
             [
              0.1111111111111111,
              "#46039f"
             ],
             [
              0.2222222222222222,
              "#7201a8"
             ],
             [
              0.3333333333333333,
              "#9c179e"
             ],
             [
              0.4444444444444444,
              "#bd3786"
             ],
             [
              0.5555555555555556,
              "#d8576b"
             ],
             [
              0.6666666666666666,
              "#ed7953"
             ],
             [
              0.7777777777777778,
              "#fb9f3a"
             ],
             [
              0.8888888888888888,
              "#fdca26"
             ],
             [
              1,
              "#f0f921"
             ]
            ],
            "type": "heatmapgl"
           }
          ],
          "histogram": [
           {
            "marker": {
             "pattern": {
              "fillmode": "overlay",
              "size": 10,
              "solidity": 0.2
             }
            },
            "type": "histogram"
           }
          ],
          "histogram2d": [
           {
            "colorbar": {
             "outlinewidth": 0,
             "ticks": ""
            },
            "colorscale": [
             [
              0,
              "#0d0887"
             ],
             [
              0.1111111111111111,
              "#46039f"
             ],
             [
              0.2222222222222222,
              "#7201a8"
             ],
             [
              0.3333333333333333,
              "#9c179e"
             ],
             [
              0.4444444444444444,
              "#bd3786"
             ],
             [
              0.5555555555555556,
              "#d8576b"
             ],
             [
              0.6666666666666666,
              "#ed7953"
             ],
             [
              0.7777777777777778,
              "#fb9f3a"
             ],
             [
              0.8888888888888888,
              "#fdca26"
             ],
             [
              1,
              "#f0f921"
             ]
            ],
            "type": "histogram2d"
           }
          ],
          "histogram2dcontour": [
           {
            "colorbar": {
             "outlinewidth": 0,
             "ticks": ""
            },
            "colorscale": [
             [
              0,
              "#0d0887"
             ],
             [
              0.1111111111111111,
              "#46039f"
             ],
             [
              0.2222222222222222,
              "#7201a8"
             ],
             [
              0.3333333333333333,
              "#9c179e"
             ],
             [
              0.4444444444444444,
              "#bd3786"
             ],
             [
              0.5555555555555556,
              "#d8576b"
             ],
             [
              0.6666666666666666,
              "#ed7953"
             ],
             [
              0.7777777777777778,
              "#fb9f3a"
             ],
             [
              0.8888888888888888,
              "#fdca26"
             ],
             [
              1,
              "#f0f921"
             ]
            ],
            "type": "histogram2dcontour"
           }
          ],
          "mesh3d": [
           {
            "colorbar": {
             "outlinewidth": 0,
             "ticks": ""
            },
            "type": "mesh3d"
           }
          ],
          "parcoords": [
           {
            "line": {
             "colorbar": {
              "outlinewidth": 0,
              "ticks": ""
             }
            },
            "type": "parcoords"
           }
          ],
          "pie": [
           {
            "automargin": true,
            "type": "pie"
           }
          ],
          "scatter": [
           {
            "fillpattern": {
             "fillmode": "overlay",
             "size": 10,
             "solidity": 0.2
            },
            "type": "scatter"
           }
          ],
          "scatter3d": [
           {
            "line": {
             "colorbar": {
              "outlinewidth": 0,
              "ticks": ""
             }
            },
            "marker": {
             "colorbar": {
              "outlinewidth": 0,
              "ticks": ""
             }
            },
            "type": "scatter3d"
           }
          ],
          "scattercarpet": [
           {
            "marker": {
             "colorbar": {
              "outlinewidth": 0,
              "ticks": ""
             }
            },
            "type": "scattercarpet"
           }
          ],
          "scattergeo": [
           {
            "marker": {
             "colorbar": {
              "outlinewidth": 0,
              "ticks": ""
             }
            },
            "type": "scattergeo"
           }
          ],
          "scattergl": [
           {
            "marker": {
             "colorbar": {
              "outlinewidth": 0,
              "ticks": ""
             }
            },
            "type": "scattergl"
           }
          ],
          "scattermapbox": [
           {
            "marker": {
             "colorbar": {
              "outlinewidth": 0,
              "ticks": ""
             }
            },
            "type": "scattermapbox"
           }
          ],
          "scatterpolar": [
           {
            "marker": {
             "colorbar": {
              "outlinewidth": 0,
              "ticks": ""
             }
            },
            "type": "scatterpolar"
           }
          ],
          "scatterpolargl": [
           {
            "marker": {
             "colorbar": {
              "outlinewidth": 0,
              "ticks": ""
             }
            },
            "type": "scatterpolargl"
           }
          ],
          "scatterternary": [
           {
            "marker": {
             "colorbar": {
              "outlinewidth": 0,
              "ticks": ""
             }
            },
            "type": "scatterternary"
           }
          ],
          "surface": [
           {
            "colorbar": {
             "outlinewidth": 0,
             "ticks": ""
            },
            "colorscale": [
             [
              0,
              "#0d0887"
             ],
             [
              0.1111111111111111,
              "#46039f"
             ],
             [
              0.2222222222222222,
              "#7201a8"
             ],
             [
              0.3333333333333333,
              "#9c179e"
             ],
             [
              0.4444444444444444,
              "#bd3786"
             ],
             [
              0.5555555555555556,
              "#d8576b"
             ],
             [
              0.6666666666666666,
              "#ed7953"
             ],
             [
              0.7777777777777778,
              "#fb9f3a"
             ],
             [
              0.8888888888888888,
              "#fdca26"
             ],
             [
              1,
              "#f0f921"
             ]
            ],
            "type": "surface"
           }
          ],
          "table": [
           {
            "cells": {
             "fill": {
              "color": "#EBF0F8"
             },
             "line": {
              "color": "white"
             }
            },
            "header": {
             "fill": {
              "color": "#C8D4E3"
             },
             "line": {
              "color": "white"
             }
            },
            "type": "table"
           }
          ]
         },
         "layout": {
          "annotationdefaults": {
           "arrowcolor": "#2a3f5f",
           "arrowhead": 0,
           "arrowwidth": 1
          },
          "autotypenumbers": "strict",
          "coloraxis": {
           "colorbar": {
            "outlinewidth": 0,
            "ticks": ""
           }
          },
          "colorscale": {
           "diverging": [
            [
             0,
             "#8e0152"
            ],
            [
             0.1,
             "#c51b7d"
            ],
            [
             0.2,
             "#de77ae"
            ],
            [
             0.3,
             "#f1b6da"
            ],
            [
             0.4,
             "#fde0ef"
            ],
            [
             0.5,
             "#f7f7f7"
            ],
            [
             0.6,
             "#e6f5d0"
            ],
            [
             0.7,
             "#b8e186"
            ],
            [
             0.8,
             "#7fbc41"
            ],
            [
             0.9,
             "#4d9221"
            ],
            [
             1,
             "#276419"
            ]
           ],
           "sequential": [
            [
             0,
             "#0d0887"
            ],
            [
             0.1111111111111111,
             "#46039f"
            ],
            [
             0.2222222222222222,
             "#7201a8"
            ],
            [
             0.3333333333333333,
             "#9c179e"
            ],
            [
             0.4444444444444444,
             "#bd3786"
            ],
            [
             0.5555555555555556,
             "#d8576b"
            ],
            [
             0.6666666666666666,
             "#ed7953"
            ],
            [
             0.7777777777777778,
             "#fb9f3a"
            ],
            [
             0.8888888888888888,
             "#fdca26"
            ],
            [
             1,
             "#f0f921"
            ]
           ],
           "sequentialminus": [
            [
             0,
             "#0d0887"
            ],
            [
             0.1111111111111111,
             "#46039f"
            ],
            [
             0.2222222222222222,
             "#7201a8"
            ],
            [
             0.3333333333333333,
             "#9c179e"
            ],
            [
             0.4444444444444444,
             "#bd3786"
            ],
            [
             0.5555555555555556,
             "#d8576b"
            ],
            [
             0.6666666666666666,
             "#ed7953"
            ],
            [
             0.7777777777777778,
             "#fb9f3a"
            ],
            [
             0.8888888888888888,
             "#fdca26"
            ],
            [
             1,
             "#f0f921"
            ]
           ]
          },
          "colorway": [
           "#636efa",
           "#EF553B",
           "#00cc96",
           "#ab63fa",
           "#FFA15A",
           "#19d3f3",
           "#FF6692",
           "#B6E880",
           "#FF97FF",
           "#FECB52"
          ],
          "font": {
           "color": "#2a3f5f"
          },
          "geo": {
           "bgcolor": "white",
           "lakecolor": "white",
           "landcolor": "#E5ECF6",
           "showlakes": true,
           "showland": true,
           "subunitcolor": "white"
          },
          "hoverlabel": {
           "align": "left"
          },
          "hovermode": "closest",
          "mapbox": {
           "style": "light"
          },
          "paper_bgcolor": "white",
          "plot_bgcolor": "#E5ECF6",
          "polar": {
           "angularaxis": {
            "gridcolor": "white",
            "linecolor": "white",
            "ticks": ""
           },
           "bgcolor": "#E5ECF6",
           "radialaxis": {
            "gridcolor": "white",
            "linecolor": "white",
            "ticks": ""
           }
          },
          "scene": {
           "xaxis": {
            "backgroundcolor": "#E5ECF6",
            "gridcolor": "white",
            "gridwidth": 2,
            "linecolor": "white",
            "showbackground": true,
            "ticks": "",
            "zerolinecolor": "white"
           },
           "yaxis": {
            "backgroundcolor": "#E5ECF6",
            "gridcolor": "white",
            "gridwidth": 2,
            "linecolor": "white",
            "showbackground": true,
            "ticks": "",
            "zerolinecolor": "white"
           },
           "zaxis": {
            "backgroundcolor": "#E5ECF6",
            "gridcolor": "white",
            "gridwidth": 2,
            "linecolor": "white",
            "showbackground": true,
            "ticks": "",
            "zerolinecolor": "white"
           }
          },
          "shapedefaults": {
           "line": {
            "color": "#2a3f5f"
           }
          },
          "ternary": {
           "aaxis": {
            "gridcolor": "white",
            "linecolor": "white",
            "ticks": ""
           },
           "baxis": {
            "gridcolor": "white",
            "linecolor": "white",
            "ticks": ""
           },
           "bgcolor": "#E5ECF6",
           "caxis": {
            "gridcolor": "white",
            "linecolor": "white",
            "ticks": ""
           }
          },
          "title": {
           "x": 0.05
          },
          "xaxis": {
           "automargin": true,
           "gridcolor": "white",
           "linecolor": "white",
           "ticks": "",
           "title": {
            "standoff": 15
           },
           "zerolinecolor": "white",
           "zerolinewidth": 2
          },
          "yaxis": {
           "automargin": true,
           "gridcolor": "white",
           "linecolor": "white",
           "ticks": "",
           "title": {
            "standoff": 15
           },
           "zerolinecolor": "white",
           "zerolinewidth": 2
          }
         }
        },
        "title": {
         "text": "Change in GHG Emissions for EU27, Euro Area and whole world (1970-2023)"
        },
        "width": 1350,
        "xaxis": {
         "anchor": "y",
         "domain": [
          0,
          1
         ],
         "title": {
          "text": "Year"
         }
        },
        "yaxis": {
         "anchor": "x",
         "domain": [
          0,
          1
         ],
         "title": {
          "text": "GHG Emissions (MtCO2e)"
         }
        }
       }
      }
     },
     "metadata": {},
     "output_type": "display_data"
    }
   ],
   "source": [
    "recessions = [\n",
    "    {\"start\": \"1973\", \"end\": \"1975\", \"name\": \"1973 Oil Crisis\"},\n",
    "    {\"start\": \"1979\", \"end\": \"1982\", \"name\": \"Early 1980s Recession\"},\n",
    "    {\"start\": \"1990\", \"end\": \"1991\", \"name\": \"Early 1990s Recession\"},\n",
    "    {\"start\": \"2007\", \"end\": \"2009\", \"name\": \"Global Financial Crisis\"},\n",
    "    {\"start\": \"2019\", \"end\": \"2021\", \"name\": \"COVID-19 Recession\"}\n",
    "]\n",
    "\n",
    "\n",
    "# GHG growth from one year to the next\n",
    "GHG_growth_by_country = GHG_totals_by_country.drop(columns='Country').diff(periods=1, axis=1).iloc[:, 1:]\n",
    "GHG_growth_by_country.insert(0, 'Country', GHG_totals_by_country.Country)\n",
    "# Filter required columns \n",
    "df = GHG_growth_by_country.loc[['GLOBAL TOTAL', 'EU27', 'EURO AREA']]\n",
    "# # Plot (built-in function)\n",
    "# df = df.set_index('Country')\n",
    "# plt = df.T.plot(kind='bar', figsize=(18, 10), color={'GLOBAL TOTAL': '#003299', 'EU27': '#FFB400',  'EURO AREA':'#FF4B00', 'United States': '#65B800'}, grid=True)\n",
    "# plt.axhline(0, color='k', linestyle='dashed')\n",
    "# Melt\n",
    "df_long = df.melt(id_vars=[\"Country\"], var_name=\"Year\", value_name=\"Emissions\")\n",
    "\n",
    "fig = px.bar(\n",
    "    df_long,\n",
    "    x=\"Year\",                # Year on the x-axis\n",
    "    y=\"Emissions\",              # Emissions on the y-axis\n",
    "    color=\"Country\",       # Use income group for color differentiation\n",
    "    title=\"Change in GHG Emissions for EU27, Euro Area and whole world (1970-2023)\",\n",
    "    labels={\"Country\": \"Region\", \"Emissions\": \"GHG Emissions (MtCO2e)\"},  # Axis labels\n",
    "    color_discrete_sequence=COLORS,\n",
    "    barmode=\"group\",             # Grouped bars for each year\n",
    "    height = 600,\n",
    "    width = 1350\n",
    ")\n",
    "\n",
    "\n",
    "# Add shaded rectangles and annotations for recessions\n",
    "for recession in recessions:\n",
    "    # Add shaded rectangle\n",
    "    fig.add_shape(\n",
    "        type=\"rect\",\n",
    "        x0=recession[\"start\"]+'.5',\n",
    "        x1=recession[\"end\"]+'.5',\n",
    "        y0=0,\n",
    "        y1=1,  # Use `yref=\"paper\"` to make it relative to the plot height\n",
    "        xref=\"x\",\n",
    "        yref=\"paper\",\n",
    "        fillcolor=\"rgba(128, 128, 128, 0.2)\",  # Transparent red\n",
    "        line=dict(width=0)  # No border\n",
    "    )\n",
    "    \n",
    "    # Add annotation\n",
    "    fig.add_annotation(\n",
    "        x=(int(recession[\"start\"]) + int(recession[\"end\"])) / 2,  # Midpoint of the recession\n",
    "        y=1.05,  # Slightly above the top of the chart\n",
    "        xref=\"x\",\n",
    "        yref=\"paper\",\n",
    "        text=recession[\"name\"],\n",
    "        showarrow=False,\n",
    "        font=dict(size=10, color=\"red\")\n",
    "    )\n",
    "\n",
    "# Show the chart\n",
    "fig.show()"
   ]
  },
  {
   "cell_type": "markdown",
   "metadata": {},
   "source": [
    "#### KEY TRENDS\n",
    "\n",
    "- Global greenhouse gas (GHG) emissions have shown a consistent upward trend between 1971 and 2023.\n",
    "\n",
    "- The European Union (EU) and the Euro Area have made significant progress in reducing GHG emissions, with a clear downward trend. However, these efforts alone are insufficient to drive a meaningful global impact. \n",
    "\n",
    "- Within the European Union, the Euro Area is responsible for the majority of the observed changes in GHG emissions."
   ]
  },
  {
   "cell_type": "markdown",
   "metadata": {},
   "source": [
    "### Chart 2"
   ]
  },
  {
   "cell_type": "code",
   "execution_count": 6,
   "metadata": {},
   "outputs": [
    {
     "data": {
      "application/vnd.plotly.v1+json": {
       "config": {
        "plotlyServerURL": "https://plot.ly"
       },
       "data": [
        {
         "alignmentgroup": "True",
         "hovertemplate": "Income Group=High income<br>Year=%{x}<br>GHG Emissions (MtCO2e)=%{y}<extra></extra>",
         "legendgroup": "High income",
         "marker": {
          "color": "#003299",
          "pattern": {
           "shape": ""
          }
         },
         "name": "High income",
         "offsetgroup": "High income",
         "orientation": "v",
         "showlegend": true,
         "textposition": "auto",
         "type": "bar",
         "x": [
          1970,
          1971,
          1972,
          1973,
          1974,
          1975,
          1976,
          1977,
          1978,
          1979,
          1980,
          1981,
          1982,
          1983,
          1984,
          1985,
          1986,
          1987,
          1988,
          1989,
          1990,
          1991,
          1992,
          1993,
          1994,
          1995,
          1996,
          1997,
          1998,
          1999,
          2000,
          2001,
          2002,
          2003,
          2004,
          2005,
          2006,
          2007,
          2008,
          2009,
          2010,
          2011,
          2012,
          2013,
          2014,
          2015,
          2016,
          2017,
          2018,
          2019,
          2020,
          2021,
          2022,
          2023
         ],
         "xaxis": "x",
         "y": [
          1532.4317136287696,
          1527.0821138123788,
          1553.0862359850726,
          1602.0660180045916,
          1488.304388153288,
          1393.4736625379674,
          1401.5378274712368,
          1373.6210097758885,
          1369.2677537700504,
          1339.2781398040206,
          1277.1519260905484,
          1192.3541861969193,
          1141.336846469325,
          1117.182158080945,
          1153.9997826367212,
          1084.140619190361,
          1098.670993240809,
          1102.8497684046465,
          1104.5434779946006,
          1113.3022374700668,
          1083.0772612352905,
          1077.9786441915617,
          1040.991186845873,
          1047.4654458464863,
          1118.3333337053568,
          1062.1269816301017,
          1076.543109493456,
          1129.6253062449198,
          1108.5553115632663,
          1117.398824721766,
          1103.2594196803734,
          1116.3508384764789,
          1060.2208990990355,
          1099.3329631654299,
          1094.7755787915737,
          1098.4796023627791,
          1098.2621067043567,
          1072.008418490263,
          1057.426411270347,
          1042.2396001720115,
          1040.4176170877565,
          1044.384127374534,
          1092.7952065455236,
          998.2334639672283,
          968.9486146250615,
          962.3146560112913,
          950.9282122333542,
          941.2524769360664,
          934.2220147815647,
          923.8622107207226,
          876.8476487927496,
          895.8062858979839,
          890.6502362760058,
          884.8878945653174
         ],
         "yaxis": "y"
        },
        {
         "alignmentgroup": "True",
         "hovertemplate": "Income Group=Upper middle income<br>Year=%{x}<br>GHG Emissions (MtCO2e)=%{y}<extra></extra>",
         "legendgroup": "Upper middle income",
         "marker": {
          "color": "#FFB400",
          "pattern": {
           "shape": ""
          }
         },
         "name": "Upper middle income",
         "offsetgroup": "Upper middle income",
         "orientation": "v",
         "showlegend": true,
         "textposition": "auto",
         "type": "bar",
         "x": [
          1970,
          1971,
          1972,
          1973,
          1974,
          1975,
          1976,
          1977,
          1978,
          1979,
          1980,
          1981,
          1982,
          1983,
          1984,
          1985,
          1986,
          1987,
          1988,
          1989,
          1990,
          1991,
          1992,
          1993,
          1994,
          1995,
          1996,
          1997,
          1998,
          1999,
          2000,
          2001,
          2002,
          2003,
          2004,
          2005,
          2006,
          2007,
          2008,
          2009,
          2010,
          2011,
          2012,
          2013,
          2014,
          2015,
          2016,
          2017,
          2018,
          2019,
          2020,
          2021,
          2022,
          2023
         ],
         "xaxis": "x",
         "y": [
          313.204073851281,
          303.90250338436994,
          295.1761738608734,
          309.8446547512255,
          305.4423124743052,
          309.41085972364976,
          322.88924832319765,
          326.7727915004322,
          328.32675217571654,
          332.0332296574385,
          322.09038714491885,
          301.4221508242889,
          299.5304380517103,
          294.8574771154807,
          296.2056251734828,
          295.5010842103305,
          293.5839748280031,
          292.77351402897295,
          297.40212298633463,
          300.4907486709339,
          313.636972541161,
          296.4921149400882,
          280.0915898745631,
          267.66324809414726,
          266.7219267146504,
          269.15012221251004,
          272.12713426593615,
          272.9144103564072,
          277.22638711366176,
          274.26125310619204,
          281.7945683362643,
          280.9014708072921,
          274.51149926924467,
          287.4007484275555,
          296.4079683324825,
          300.18451124914435,
          305.8372895687729,
          308.34699938646884,
          312.4337154093611,
          299.0576367250471,
          309.19307188565716,
          308.04805667582417,
          315.24829941340687,
          315.60452021410595,
          311.36955421956947,
          304.3597553638439,
          307.5020248080266,
          309.2883068154425,
          309.71309006442334,
          313.4719651772849,
          295.52692469199354,
          304.8301773675672,
          303.917869242962,
          310.8648665392081
         ],
         "yaxis": "y"
        },
        {
         "alignmentgroup": "True",
         "hovertemplate": "Income Group=Lower middle income<br>Year=%{x}<br>GHG Emissions (MtCO2e)=%{y}<extra></extra>",
         "legendgroup": "Lower middle income",
         "marker": {
          "color": "#FF4B00",
          "pattern": {
           "shape": ""
          }
         },
         "name": "Lower middle income",
         "offsetgroup": "Lower middle income",
         "orientation": "v",
         "showlegend": true,
         "textposition": "auto",
         "type": "bar",
         "x": [
          1970,
          1971,
          1972,
          1973,
          1974,
          1975,
          1976,
          1977,
          1978,
          1979,
          1980,
          1981,
          1982,
          1983,
          1984,
          1985,
          1986,
          1987,
          1988,
          1989,
          1990,
          1991,
          1992,
          1993,
          1994,
          1995,
          1996,
          1997,
          1998,
          1999,
          2000,
          2001,
          2002,
          2003,
          2004,
          2005,
          2006,
          2007,
          2008,
          2009,
          2010,
          2011,
          2012,
          2013,
          2014,
          2015,
          2016,
          2017,
          2018,
          2019,
          2020,
          2021,
          2022,
          2023
         ],
         "xaxis": "x",
         "y": [
          119.59893949384765,
          117.38058485981969,
          117.21012146484924,
          124.1368623379999,
          126.81049320261582,
          120.69943187167993,
          119.52969434429777,
          115.0396635903854,
          115.40261396394435,
          115.32568496827491,
          116.34392182592073,
          113.41456436889055,
          111.28008186389522,
          110.07942467086669,
          108.5125846128864,
          109.25078565936107,
          107.26275055005678,
          108.80303741716895,
          107.48622856635731,
          107.88413988612193,
          108.87279129325577,
          107.68376958965806,
          104.43867773302561,
          102.75774971217054,
          102.11138389311043,
          102.22284388675737,
          104.50093706774913,
          105.15976527254962,
          106.55080833525454,
          107.03716416515866,
          106.60452203580226,
          105.83514355834416,
          103.83782115017394,
          104.18832104187689,
          105.93869488092683,
          108.40038435328228,
          108.99501111809293,
          108.93172224845844,
          109.88152095006552,
          109.56633002072518,
          111.37802658572157,
          112.3012989302569,
          112.98232246397754,
          112.02106955353821,
          112.80139511296122,
          114.39431044668359,
          115.94463328920867,
          117.3833527014111,
          118.14811900302143,
          119.05725834404736,
          115.08553102326887,
          116.38003311723412,
          116.3867496840823,
          117.09070481866036
         ],
         "yaxis": "y"
        },
        {
         "alignmentgroup": "True",
         "hovertemplate": "Income Group=Low income<br>Year=%{x}<br>GHG Emissions (MtCO2e)=%{y}<extra></extra>",
         "legendgroup": "Low income",
         "marker": {
          "color": "#65B800",
          "pattern": {
           "shape": ""
          }
         },
         "name": "Low income",
         "offsetgroup": "Low income",
         "orientation": "v",
         "showlegend": true,
         "textposition": "auto",
         "type": "bar",
         "x": [
          1970,
          1971,
          1972,
          1973,
          1974,
          1975,
          1976,
          1977,
          1978,
          1979,
          1980,
          1981,
          1982,
          1983,
          1984,
          1985,
          1986,
          1987,
          1988,
          1989,
          1990,
          1991,
          1992,
          1993,
          1994,
          1995,
          1996,
          1997,
          1998,
          1999,
          2000,
          2001,
          2002,
          2003,
          2004,
          2005,
          2006,
          2007,
          2008,
          2009,
          2010,
          2011,
          2012,
          2013,
          2014,
          2015,
          2016,
          2017,
          2018,
          2019,
          2020,
          2021,
          2022,
          2023
         ],
         "xaxis": "x",
         "y": [
          46.557355458688946,
          45.799085986448546,
          45.17504817044449,
          43.780139550703154,
          43.407189176893176,
          44.24601363152399,
          44.329459550203595,
          44.286344284916694,
          44.534485911354366,
          45.18826878368618,
          45.18051337492653,
          45.361578781766234,
          47.76600161264487,
          47.370917095045,
          45.82352947819259,
          45.08404252170528,
          44.737351971008344,
          44.82805020305004,
          45.292029318361195,
          45.20617860724456,
          45.56068947090916,
          45.20300880191008,
          43.36177301814014,
          42.39398063266347,
          42.48114918597505,
          41.9405750739716,
          41.90223322585254,
          41.17179067006693,
          40.599041766216494,
          40.67805786237553,
          40.89906201992121,
          40.25839078600301,
          39.42372828252504,
          40.33184791010207,
          40.26570760046816,
          41.55653638507659,
          41.55198244647471,
          41.02959806707528,
          41.370963635739216,
          41.29161388701291,
          41.375145806475366,
          40.336805526227295,
          39.49747193992634,
          38.43793810183172,
          38.21743723339553,
          37.16173651547108,
          37.52312072163947,
          38.844461131475484,
          38.84246626593491,
          38.92451049991533,
          38.1554360507891,
          37.740129904883105,
          37.57826320076898,
          37.190687169020514
         ],
         "yaxis": "y"
        }
       ],
       "layout": {
        "barmode": "group",
        "height": 600,
        "legend": {
         "title": {
          "text": "Income Group"
         },
         "tracegroupgap": 0
        },
        "template": {
         "data": {
          "bar": [
           {
            "error_x": {
             "color": "#2a3f5f"
            },
            "error_y": {
             "color": "#2a3f5f"
            },
            "marker": {
             "line": {
              "color": "#E5ECF6",
              "width": 0.5
             },
             "pattern": {
              "fillmode": "overlay",
              "size": 10,
              "solidity": 0.2
             }
            },
            "type": "bar"
           }
          ],
          "barpolar": [
           {
            "marker": {
             "line": {
              "color": "#E5ECF6",
              "width": 0.5
             },
             "pattern": {
              "fillmode": "overlay",
              "size": 10,
              "solidity": 0.2
             }
            },
            "type": "barpolar"
           }
          ],
          "carpet": [
           {
            "aaxis": {
             "endlinecolor": "#2a3f5f",
             "gridcolor": "white",
             "linecolor": "white",
             "minorgridcolor": "white",
             "startlinecolor": "#2a3f5f"
            },
            "baxis": {
             "endlinecolor": "#2a3f5f",
             "gridcolor": "white",
             "linecolor": "white",
             "minorgridcolor": "white",
             "startlinecolor": "#2a3f5f"
            },
            "type": "carpet"
           }
          ],
          "choropleth": [
           {
            "colorbar": {
             "outlinewidth": 0,
             "ticks": ""
            },
            "type": "choropleth"
           }
          ],
          "contour": [
           {
            "colorbar": {
             "outlinewidth": 0,
             "ticks": ""
            },
            "colorscale": [
             [
              0,
              "#0d0887"
             ],
             [
              0.1111111111111111,
              "#46039f"
             ],
             [
              0.2222222222222222,
              "#7201a8"
             ],
             [
              0.3333333333333333,
              "#9c179e"
             ],
             [
              0.4444444444444444,
              "#bd3786"
             ],
             [
              0.5555555555555556,
              "#d8576b"
             ],
             [
              0.6666666666666666,
              "#ed7953"
             ],
             [
              0.7777777777777778,
              "#fb9f3a"
             ],
             [
              0.8888888888888888,
              "#fdca26"
             ],
             [
              1,
              "#f0f921"
             ]
            ],
            "type": "contour"
           }
          ],
          "contourcarpet": [
           {
            "colorbar": {
             "outlinewidth": 0,
             "ticks": ""
            },
            "type": "contourcarpet"
           }
          ],
          "heatmap": [
           {
            "colorbar": {
             "outlinewidth": 0,
             "ticks": ""
            },
            "colorscale": [
             [
              0,
              "#0d0887"
             ],
             [
              0.1111111111111111,
              "#46039f"
             ],
             [
              0.2222222222222222,
              "#7201a8"
             ],
             [
              0.3333333333333333,
              "#9c179e"
             ],
             [
              0.4444444444444444,
              "#bd3786"
             ],
             [
              0.5555555555555556,
              "#d8576b"
             ],
             [
              0.6666666666666666,
              "#ed7953"
             ],
             [
              0.7777777777777778,
              "#fb9f3a"
             ],
             [
              0.8888888888888888,
              "#fdca26"
             ],
             [
              1,
              "#f0f921"
             ]
            ],
            "type": "heatmap"
           }
          ],
          "heatmapgl": [
           {
            "colorbar": {
             "outlinewidth": 0,
             "ticks": ""
            },
            "colorscale": [
             [
              0,
              "#0d0887"
             ],
             [
              0.1111111111111111,
              "#46039f"
             ],
             [
              0.2222222222222222,
              "#7201a8"
             ],
             [
              0.3333333333333333,
              "#9c179e"
             ],
             [
              0.4444444444444444,
              "#bd3786"
             ],
             [
              0.5555555555555556,
              "#d8576b"
             ],
             [
              0.6666666666666666,
              "#ed7953"
             ],
             [
              0.7777777777777778,
              "#fb9f3a"
             ],
             [
              0.8888888888888888,
              "#fdca26"
             ],
             [
              1,
              "#f0f921"
             ]
            ],
            "type": "heatmapgl"
           }
          ],
          "histogram": [
           {
            "marker": {
             "pattern": {
              "fillmode": "overlay",
              "size": 10,
              "solidity": 0.2
             }
            },
            "type": "histogram"
           }
          ],
          "histogram2d": [
           {
            "colorbar": {
             "outlinewidth": 0,
             "ticks": ""
            },
            "colorscale": [
             [
              0,
              "#0d0887"
             ],
             [
              0.1111111111111111,
              "#46039f"
             ],
             [
              0.2222222222222222,
              "#7201a8"
             ],
             [
              0.3333333333333333,
              "#9c179e"
             ],
             [
              0.4444444444444444,
              "#bd3786"
             ],
             [
              0.5555555555555556,
              "#d8576b"
             ],
             [
              0.6666666666666666,
              "#ed7953"
             ],
             [
              0.7777777777777778,
              "#fb9f3a"
             ],
             [
              0.8888888888888888,
              "#fdca26"
             ],
             [
              1,
              "#f0f921"
             ]
            ],
            "type": "histogram2d"
           }
          ],
          "histogram2dcontour": [
           {
            "colorbar": {
             "outlinewidth": 0,
             "ticks": ""
            },
            "colorscale": [
             [
              0,
              "#0d0887"
             ],
             [
              0.1111111111111111,
              "#46039f"
             ],
             [
              0.2222222222222222,
              "#7201a8"
             ],
             [
              0.3333333333333333,
              "#9c179e"
             ],
             [
              0.4444444444444444,
              "#bd3786"
             ],
             [
              0.5555555555555556,
              "#d8576b"
             ],
             [
              0.6666666666666666,
              "#ed7953"
             ],
             [
              0.7777777777777778,
              "#fb9f3a"
             ],
             [
              0.8888888888888888,
              "#fdca26"
             ],
             [
              1,
              "#f0f921"
             ]
            ],
            "type": "histogram2dcontour"
           }
          ],
          "mesh3d": [
           {
            "colorbar": {
             "outlinewidth": 0,
             "ticks": ""
            },
            "type": "mesh3d"
           }
          ],
          "parcoords": [
           {
            "line": {
             "colorbar": {
              "outlinewidth": 0,
              "ticks": ""
             }
            },
            "type": "parcoords"
           }
          ],
          "pie": [
           {
            "automargin": true,
            "type": "pie"
           }
          ],
          "scatter": [
           {
            "fillpattern": {
             "fillmode": "overlay",
             "size": 10,
             "solidity": 0.2
            },
            "type": "scatter"
           }
          ],
          "scatter3d": [
           {
            "line": {
             "colorbar": {
              "outlinewidth": 0,
              "ticks": ""
             }
            },
            "marker": {
             "colorbar": {
              "outlinewidth": 0,
              "ticks": ""
             }
            },
            "type": "scatter3d"
           }
          ],
          "scattercarpet": [
           {
            "marker": {
             "colorbar": {
              "outlinewidth": 0,
              "ticks": ""
             }
            },
            "type": "scattercarpet"
           }
          ],
          "scattergeo": [
           {
            "marker": {
             "colorbar": {
              "outlinewidth": 0,
              "ticks": ""
             }
            },
            "type": "scattergeo"
           }
          ],
          "scattergl": [
           {
            "marker": {
             "colorbar": {
              "outlinewidth": 0,
              "ticks": ""
             }
            },
            "type": "scattergl"
           }
          ],
          "scattermapbox": [
           {
            "marker": {
             "colorbar": {
              "outlinewidth": 0,
              "ticks": ""
             }
            },
            "type": "scattermapbox"
           }
          ],
          "scatterpolar": [
           {
            "marker": {
             "colorbar": {
              "outlinewidth": 0,
              "ticks": ""
             }
            },
            "type": "scatterpolar"
           }
          ],
          "scatterpolargl": [
           {
            "marker": {
             "colorbar": {
              "outlinewidth": 0,
              "ticks": ""
             }
            },
            "type": "scatterpolargl"
           }
          ],
          "scatterternary": [
           {
            "marker": {
             "colorbar": {
              "outlinewidth": 0,
              "ticks": ""
             }
            },
            "type": "scatterternary"
           }
          ],
          "surface": [
           {
            "colorbar": {
             "outlinewidth": 0,
             "ticks": ""
            },
            "colorscale": [
             [
              0,
              "#0d0887"
             ],
             [
              0.1111111111111111,
              "#46039f"
             ],
             [
              0.2222222222222222,
              "#7201a8"
             ],
             [
              0.3333333333333333,
              "#9c179e"
             ],
             [
              0.4444444444444444,
              "#bd3786"
             ],
             [
              0.5555555555555556,
              "#d8576b"
             ],
             [
              0.6666666666666666,
              "#ed7953"
             ],
             [
              0.7777777777777778,
              "#fb9f3a"
             ],
             [
              0.8888888888888888,
              "#fdca26"
             ],
             [
              1,
              "#f0f921"
             ]
            ],
            "type": "surface"
           }
          ],
          "table": [
           {
            "cells": {
             "fill": {
              "color": "#EBF0F8"
             },
             "line": {
              "color": "white"
             }
            },
            "header": {
             "fill": {
              "color": "#C8D4E3"
             },
             "line": {
              "color": "white"
             }
            },
            "type": "table"
           }
          ]
         },
         "layout": {
          "annotationdefaults": {
           "arrowcolor": "#2a3f5f",
           "arrowhead": 0,
           "arrowwidth": 1
          },
          "autotypenumbers": "strict",
          "coloraxis": {
           "colorbar": {
            "outlinewidth": 0,
            "ticks": ""
           }
          },
          "colorscale": {
           "diverging": [
            [
             0,
             "#8e0152"
            ],
            [
             0.1,
             "#c51b7d"
            ],
            [
             0.2,
             "#de77ae"
            ],
            [
             0.3,
             "#f1b6da"
            ],
            [
             0.4,
             "#fde0ef"
            ],
            [
             0.5,
             "#f7f7f7"
            ],
            [
             0.6,
             "#e6f5d0"
            ],
            [
             0.7,
             "#b8e186"
            ],
            [
             0.8,
             "#7fbc41"
            ],
            [
             0.9,
             "#4d9221"
            ],
            [
             1,
             "#276419"
            ]
           ],
           "sequential": [
            [
             0,
             "#0d0887"
            ],
            [
             0.1111111111111111,
             "#46039f"
            ],
            [
             0.2222222222222222,
             "#7201a8"
            ],
            [
             0.3333333333333333,
             "#9c179e"
            ],
            [
             0.4444444444444444,
             "#bd3786"
            ],
            [
             0.5555555555555556,
             "#d8576b"
            ],
            [
             0.6666666666666666,
             "#ed7953"
            ],
            [
             0.7777777777777778,
             "#fb9f3a"
            ],
            [
             0.8888888888888888,
             "#fdca26"
            ],
            [
             1,
             "#f0f921"
            ]
           ],
           "sequentialminus": [
            [
             0,
             "#0d0887"
            ],
            [
             0.1111111111111111,
             "#46039f"
            ],
            [
             0.2222222222222222,
             "#7201a8"
            ],
            [
             0.3333333333333333,
             "#9c179e"
            ],
            [
             0.4444444444444444,
             "#bd3786"
            ],
            [
             0.5555555555555556,
             "#d8576b"
            ],
            [
             0.6666666666666666,
             "#ed7953"
            ],
            [
             0.7777777777777778,
             "#fb9f3a"
            ],
            [
             0.8888888888888888,
             "#fdca26"
            ],
            [
             1,
             "#f0f921"
            ]
           ]
          },
          "colorway": [
           "#636efa",
           "#EF553B",
           "#00cc96",
           "#ab63fa",
           "#FFA15A",
           "#19d3f3",
           "#FF6692",
           "#B6E880",
           "#FF97FF",
           "#FECB52"
          ],
          "font": {
           "color": "#2a3f5f"
          },
          "geo": {
           "bgcolor": "white",
           "lakecolor": "white",
           "landcolor": "#E5ECF6",
           "showlakes": true,
           "showland": true,
           "subunitcolor": "white"
          },
          "hoverlabel": {
           "align": "left"
          },
          "hovermode": "closest",
          "mapbox": {
           "style": "light"
          },
          "paper_bgcolor": "white",
          "plot_bgcolor": "#E5ECF6",
          "polar": {
           "angularaxis": {
            "gridcolor": "white",
            "linecolor": "white",
            "ticks": ""
           },
           "bgcolor": "#E5ECF6",
           "radialaxis": {
            "gridcolor": "white",
            "linecolor": "white",
            "ticks": ""
           }
          },
          "scene": {
           "xaxis": {
            "backgroundcolor": "#E5ECF6",
            "gridcolor": "white",
            "gridwidth": 2,
            "linecolor": "white",
            "showbackground": true,
            "ticks": "",
            "zerolinecolor": "white"
           },
           "yaxis": {
            "backgroundcolor": "#E5ECF6",
            "gridcolor": "white",
            "gridwidth": 2,
            "linecolor": "white",
            "showbackground": true,
            "ticks": "",
            "zerolinecolor": "white"
           },
           "zaxis": {
            "backgroundcolor": "#E5ECF6",
            "gridcolor": "white",
            "gridwidth": 2,
            "linecolor": "white",
            "showbackground": true,
            "ticks": "",
            "zerolinecolor": "white"
           }
          },
          "shapedefaults": {
           "line": {
            "color": "#2a3f5f"
           }
          },
          "ternary": {
           "aaxis": {
            "gridcolor": "white",
            "linecolor": "white",
            "ticks": ""
           },
           "baxis": {
            "gridcolor": "white",
            "linecolor": "white",
            "ticks": ""
           },
           "bgcolor": "#E5ECF6",
           "caxis": {
            "gridcolor": "white",
            "linecolor": "white",
            "ticks": ""
           }
          },
          "title": {
           "x": 0.05
          },
          "xaxis": {
           "automargin": true,
           "gridcolor": "white",
           "linecolor": "white",
           "ticks": "",
           "title": {
            "standoff": 15
           },
           "zerolinecolor": "white",
           "zerolinewidth": 2
          },
          "yaxis": {
           "automargin": true,
           "gridcolor": "white",
           "linecolor": "white",
           "ticks": "",
           "title": {
            "standoff": 15
           },
           "zerolinecolor": "white",
           "zerolinewidth": 2
          }
         }
        },
        "title": {
         "text": "GHG Emissions per capita by Income Group (1970-2023)"
        },
        "width": 1350,
        "xaxis": {
         "anchor": "y",
         "domain": [
          0,
          1
         ],
         "title": {
          "text": "Year"
         }
        },
        "yaxis": {
         "anchor": "x",
         "domain": [
          0,
          1
         ],
         "title": {
          "text": "GHG Emissions (MtCO2e)"
         }
        }
       }
      }
     },
     "metadata": {},
     "output_type": "display_data"
    }
   ],
   "source": [
    "# Filter required columns \n",
    "df = GHG_per_capita_by_country.loc[['HIGH','H_MID', 'L_MID', 'LOW']]\n",
    "# # Plot (built-in function)\n",
    "# df = df.set_index('Country')\n",
    "# plt = df.T.plot(kind='bar', figsize=(30, 10), color={'High income': '#003299', 'Upper middle income': '#FFB400',  'Lower middle income':'#FF4B00', 'Low income': '#65B800'}, grid=True)\n",
    "# plt.axhline(0, color='k', linestyle='dashed')\n",
    "# Melt\n",
    "df_long = df.melt(id_vars=[\"Country\"], var_name=\"Year\", value_name=\"Emissions\")\n",
    "# Plot (plotly)\n",
    "fig = px.bar(\n",
    "    df_long,\n",
    "    x=\"Year\",                # Year on the x-axis\n",
    "    y=\"Emissions\",              # Emissions on the y-axis\n",
    "    color=\"Country\",       # Use income group for color differentiation\n",
    "    title=\"GHG Emissions per capita by Income Group (1970-2023)\",\n",
    "    labels={\"Country\": \"Income Group\", \"Emissions\": \"GHG Emissions (MtCO2e)\"},  # Axis labels\n",
    "    color_discrete_map={'High income': COLORS[0], 'Upper middle income': COLORS[1],  'Lower middle income':COLORS[2], 'Low income': COLORS[3]},\n",
    "    barmode=\"group\",             # Grouped bars for each year\n",
    "    height = 600,\n",
    "    width = 1350\n",
    ")\n",
    "fig.show()"
   ]
  },
  {
   "cell_type": "markdown",
   "metadata": {},
   "source": [
    "#### KEY TRENDS\n",
    "\n",
    "- Greenhouse gas (GHG) emissions per capita in high-income countries have been declining steadily since the 1970-80s, potentially due to advancements in clean technologies and stricter environmental policies.\n",
    "\n",
    "- GHG emissions in other income  countries have stayed re\n",
    "\n",
    "- While GHG emissions in lower-middle-income and low-income countries have risen during the same period, their comparatively lower levels remain less concerning for now."
   ]
  },
  {
   "cell_type": "markdown",
   "metadata": {},
   "source": [
    "### Chart 3"
   ]
  },
  {
   "cell_type": "code",
   "execution_count": 7,
   "metadata": {},
   "outputs": [
    {
     "data": {
      "application/vnd.jupyter.widget-view+json": {
       "model_id": "0b501d3b259c4265a3e63ef40d57c7b5",
       "version_major": 2,
       "version_minor": 0
      },
      "text/plain": [
       "VBox(children=(IntSlider(value=2023, description='Year:', max=2023, min=1970), ToggleButtons(description='Char…"
      ]
     },
     "metadata": {},
     "output_type": "display_data"
    },
    {
     "data": {
      "application/vnd.jupyter.widget-view+json": {
       "model_id": "e0a5421b5936414da974ac5d1b3f84b4",
       "version_major": 2,
       "version_minor": 0
      },
      "text/plain": [
       "Output()"
      ]
     },
     "metadata": {},
     "output_type": "display_data"
    },
    {
     "data": {
      "application/vnd.plotly.v1+json": {
       "config": {
        "plotlyServerURL": "https://plot.ly"
       },
       "data": [
        {
         "branchvalues": "total",
         "customdata": [
          [
           "Middle East & North Africa"
          ],
          [
           "East Asia & Pacific"
          ],
          [
           "Europe & Central Asia"
          ],
          [
           "Middle East & North Africa"
          ],
          [
           "Sub-Saharan Africa"
          ],
          [
           "Sub-Saharan Africa"
          ],
          [
           "East Asia & Pacific"
          ],
          [
           "Sub-Saharan Africa"
          ],
          [
           "Sub-Saharan Africa"
          ],
          [
           "Europe & Central Asia"
          ],
          [
           "Sub-Saharan Africa"
          ],
          [
           "Sub-Saharan Africa"
          ],
          [
           "Latin America & Caribbean"
          ],
          [
           "Sub-Saharan Africa"
          ],
          [
           "Europe & Central Asia"
          ],
          [
           "East Asia & Pacific"
          ],
          [
           "East Asia & Pacific"
          ],
          [
           "East Asia & Pacific"
          ],
          [
           "Sub-Saharan Africa"
          ],
          [
           "South Asia"
          ],
          [
           "Sub-Saharan Africa"
          ],
          [
           "Latin America & Caribbean"
          ],
          [
           "East Asia & Pacific"
          ],
          [
           "Latin America & Caribbean"
          ],
          [
           "East Asia & Pacific"
          ],
          [
           "East Asia & Pacific"
          ],
          [
           "East Asia & Pacific"
          ],
          [
           "Europe & Central Asia"
          ],
          [
           "South Asia"
          ],
          [
           "Middle East & North Africa"
          ],
          [
           "Europe & Central Asia"
          ],
          [
           "Europe & Central Asia"
          ],
          [
           "Middle East & North Africa"
          ],
          [
           "Latin America & Caribbean"
          ],
          [
           "Sub-Saharan Africa"
          ],
          [
           "Europe & Central Asia"
          ],
          [
           "Sub-Saharan Africa"
          ],
          [
           "Middle East & North Africa"
          ],
          [
           "Sub-Saharan Africa"
          ],
          [
           "Latin America & Caribbean"
          ],
          [
           "Middle East & North Africa"
          ],
          [
           "Sub-Saharan Africa"
          ],
          [
           "Europe & Central Asia"
          ],
          [
           "East Asia & Pacific"
          ],
          [
           "Europe & Central Asia"
          ],
          [
           "Latin America & Caribbean"
          ],
          [
           "East Asia & Pacific"
          ],
          [
           "International Aviation and Shipping"
          ],
          [
           "Latin America & Caribbean"
          ],
          [
           "East Asia & Pacific"
          ],
          [
           "Sub-Saharan Africa"
          ],
          [
           "Europe & Central Asia"
          ],
          [
           "East Asia & Pacific"
          ],
          [
           "Middle East & North Africa"
          ],
          [
           "Europe & Central Asia"
          ],
          [
           "Sub-Saharan Africa"
          ],
          [
           "Latin America & Caribbean"
          ],
          [
           "Latin America & Caribbean"
          ],
          [
           "East Asia & Pacific"
          ],
          [
           "Europe & Central Asia"
          ],
          [
           "Latin America & Caribbean"
          ],
          [
           "Middle East & North Africa"
          ],
          [
           "Latin America & Caribbean"
          ],
          [
           "Sub-Saharan Africa"
          ],
          [
           "Middle East & North Africa"
          ],
          [
           "Sub-Saharan Africa"
          ],
          [
           "Latin America & Caribbean"
          ],
          [
           "Europe & Central Asia"
          ],
          [
           "Middle East & North Africa"
          ],
          [
           "East Asia & Pacific"
          ],
          [
           "Latin America & Caribbean"
          ],
          [
           "Sub-Saharan Africa"
          ],
          [
           "Sub-Saharan Africa"
          ],
          [
           "Europe & Central Asia"
          ],
          [
           "Europe & Central Asia"
          ],
          [
           "Europe & Central Asia"
          ],
          [
           "South Asia"
          ],
          [
           "Latin America & Caribbean"
          ],
          [
           "North America"
          ],
          [
           "Middle East & North Africa"
          ],
          [
           "Middle East & North Africa"
          ],
          [
           "North America"
          ],
          [
           "Latin America & Caribbean"
          ],
          [
           "Europe & Central Asia"
          ],
          [
           "Sub-Saharan Africa"
          ],
          [
           "Latin America & Caribbean"
          ],
          [
           "Europe & Central Asia"
          ],
          [
           "Europe & Central Asia"
          ],
          [
           "Latin America & Caribbean"
          ],
          [
           "North America"
          ],
          [
           "Latin America & Caribbean"
          ],
          [
           "Europe & Central Asia"
          ],
          [
           "South Asia"
          ],
          [
           "Europe & Central Asia"
          ],
          [
           "Sub-Saharan Africa"
          ],
          [
           "Sub-Saharan Africa"
          ],
          [
           "East Asia & Pacific"
          ],
          [
           "Europe & Central Asia"
          ],
          [
           "East Asia & Pacific"
          ],
          [
           "Middle East & North Africa"
          ],
          [
           "Europe & Central Asia"
          ],
          [
           "South Asia"
          ],
          [
           "Europe & Central Asia"
          ],
          [
           "Latin America & Caribbean"
          ],
          [
           "Latin America & Caribbean"
          ],
          [
           "Europe & Central Asia"
          ],
          [
           "Sub-Saharan Africa"
          ],
          [
           "Latin America & Caribbean"
          ],
          [
           "Latin America & Caribbean"
          ],
          [
           "Sub-Saharan Africa"
          ],
          [
           "Latin America & Caribbean"
          ],
          [
           "Latin America & Caribbean"
          ],
          [
           "Europe & Central Asia"
          ],
          [
           "East Asia & Pacific"
          ],
          [
           "Sub-Saharan Africa"
          ],
          [
           "Latin America & Caribbean"
          ],
          [
           "Sub-Saharan Africa"
          ],
          [
           "Europe & Central Asia"
          ],
          [
           "Europe & Central Asia"
          ],
          [
           "Sub-Saharan Africa"
          ],
          [
           "Latin America & Caribbean"
          ],
          [
           "Latin America & Caribbean"
          ],
          [
           "Europe & Central Asia"
          ],
          [
           "Latin America & Caribbean"
          ],
          [
           "South Asia"
          ],
          [
           "Sub-Saharan Africa"
          ],
          [
           "Latin America & Caribbean"
          ],
          [
           "Europe & Central Asia"
          ],
          [
           "Latin America & Caribbean"
          ],
          [
           "East Asia & Pacific"
          ],
          [
           "Middle East & North Africa"
          ],
          [
           "Sub-Saharan Africa"
          ],
          [
           "Europe & Central Asia"
          ],
          [
           "Sub-Saharan Africa"
          ],
          [
           "Sub-Saharan Africa"
          ],
          [
           "Middle East & North Africa"
          ],
          [
           "Latin America & Caribbean"
          ],
          [
           "Middle East & North Africa"
          ],
          [
           "Latin America & Caribbean"
          ],
          [
           "North America"
          ],
          [
           "Latin America & Caribbean"
          ],
          [
           "Middle East & North Africa"
          ],
          [
           "Sub-Saharan Africa"
          ],
          [
           "East Asia & Pacific"
          ],
          [
           "Sub-Saharan Africa"
          ],
          [
           "International Aviation and Shipping"
          ],
          [
           "Europe & Central Asia"
          ],
          [
           "Europe & Central Asia"
          ],
          [
           "Middle East & North Africa"
          ],
          [
           "Sub-Saharan Africa"
          ],
          [
           "Middle East & North Africa"
          ],
          [
           "Sub-Saharan Africa"
          ],
          [
           "Latin America & Caribbean"
          ],
          [
           "Europe & Central Asia"
          ],
          [
           "East Asia & Pacific"
          ],
          [
           "Europe & Central Asia"
          ],
          [
           "Sub-Saharan Africa"
          ],
          [
           "Sub-Saharan Africa"
          ],
          [
           "Latin America & Caribbean"
          ],
          [
           "South Asia"
          ],
          [
           "East Asia & Pacific"
          ],
          [
           "Latin America & Caribbean"
          ],
          [
           "East Asia & Pacific"
          ],
          [
           "Europe & Central Asia"
          ],
          [
           "Europe & Central Asia"
          ],
          [
           "Europe & Central Asia"
          ],
          [
           "Europe & Central Asia"
          ],
          [
           "Sub-Saharan Africa"
          ],
          [
           "Latin America & Caribbean"
          ],
          [
           "Europe & Central Asia"
          ],
          [
           "Europe & Central Asia"
          ],
          [
           "South Asia"
          ],
          [
           "Middle East & North Africa"
          ],
          [
           "Sub-Saharan Africa"
          ],
          [
           "Middle East & North Africa"
          ],
          [
           "East Asia & Pacific"
          ],
          [
           "Sub-Saharan Africa"
          ],
          [
           "Sub-Saharan Africa"
          ],
          [
           "Europe & Central Asia"
          ],
          [
           "East Asia & Pacific"
          ],
          [
           "Sub-Saharan Africa"
          ],
          [
           "Latin America & Caribbean"
          ],
          [
           "Sub-Saharan Africa"
          ],
          [
           "Latin America & Caribbean"
          ],
          [
           "Europe & Central Asia"
          ],
          [
           "East Asia & Pacific"
          ],
          [
           "Europe & Central Asia"
          ],
          [
           "Sub-Saharan Africa"
          ],
          [
           "East Asia & Pacific"
          ],
          [
           "Europe & Central Asia"
          ],
          [
           "Europe & Central Asia"
          ],
          [
           "Latin America & Caribbean"
          ],
          [
           "Europe & Central Asia"
          ],
          [
           "Latin America & Caribbean"
          ],
          [
           "East Asia & Pacific"
          ],
          [
           "Latin America & Caribbean"
          ],
          [
           "Europe & Central Asia"
          ],
          [
           "Latin America & Caribbean"
          ],
          [
           "Sub-Saharan Africa"
          ],
          [
           "East Asia & Pacific"
          ],
          [
           "Sub-Saharan Africa"
          ],
          [
           "Latin America & Caribbean"
          ],
          [
           "East Asia & Pacific"
          ],
          [
           "Sub-Saharan Africa"
          ],
          [
           "Europe & Central Asia"
          ],
          [
           "Europe & Central Asia"
          ],
          [
           "Sub-Saharan Africa"
          ],
          [
           "East Asia & Pacific"
          ],
          [
           "East Asia & Pacific"
          ],
          [
           "Sub-Saharan Africa"
          ],
          [
           "East Asia & Pacific"
          ],
          [
           "Europe & Central Asia"
          ],
          [
           "International Aviation and Shipping"
          ],
          [
           "Latin America & Caribbean"
          ],
          [
           "Middle East & North Africa"
          ],
          [
           "North America"
          ],
          [
           "South Asia"
          ],
          [
           "Sub-Saharan Africa"
          ],
          [
           "(?)"
          ]
         ],
         "domain": {
          "x": [
           0,
           1
          ],
          "y": [
           0,
           1
          ]
         },
         "hovertemplate": "labels=%{label}<br>2023=%{value}<br>parent=%{parent}<br>id=%{id}<br>Region=%{customdata[0]}<extra></extra>",
         "ids": [
          "Global Total/Middle East & North Africa/Kuwait",
          "Global Total/East Asia & Pacific/Timor-Leste",
          "Global Total/Europe & Central Asia/Poland",
          "Global Total/Middle East & North Africa/Morocco",
          "Global Total/Sub-Saharan Africa/Burkina Faso",
          "Global Total/Sub-Saharan Africa/Mozambique",
          "Global Total/East Asia & Pacific/New Zealand",
          "Global Total/Sub-Saharan Africa/Niger",
          "Global Total/Sub-Saharan Africa/Central African Republic",
          "Global Total/Europe & Central Asia/Slovakia",
          "Global Total/Sub-Saharan Africa/Sierra Leone",
          "Global Total/Sub-Saharan Africa/Comoros",
          "Global Total/Latin America & Caribbean/Falkland Islands",
          "Global Total/Sub-Saharan Africa/Réunion",
          "Global Total/Europe & Central Asia/Romania",
          "Global Total/East Asia & Pacific/Japan",
          "Global Total/East Asia & Pacific/Palau",
          "Global Total/East Asia & Pacific/Philippines",
          "Global Total/Sub-Saharan Africa/Togo",
          "Global Total/South Asia/Maldives",
          "Global Total/Sub-Saharan Africa/Tanzania",
          "Global Total/Latin America & Caribbean/Haiti",
          "Global Total/East Asia & Pacific/Viet Nam",
          "Global Total/Latin America & Caribbean/Venezuela",
          "Global Total/East Asia & Pacific/Vanuatu",
          "Global Total/East Asia & Pacific/Kiribati",
          "Global Total/East Asia & Pacific/Laos",
          "Global Total/Europe & Central Asia/Azerbaijan",
          "Global Total/South Asia/India",
          "Global Total/Middle East & North Africa/Lebanon",
          "Global Total/Europe & Central Asia/Portugal",
          "Global Total/Europe & Central Asia/Turkmenistan",
          "Global Total/Middle East & North Africa/Malta",
          "Global Total/Latin America & Caribbean/Guatemala",
          "Global Total/Sub-Saharan Africa/Eritrea",
          "Global Total/Europe & Central Asia/Estonia",
          "Global Total/Sub-Saharan Africa/Kenya",
          "Global Total/Middle East & North Africa/Oman",
          "Global Total/Sub-Saharan Africa/Ethiopia",
          "Global Total/Latin America & Caribbean/Grenada",
          "Global Total/Middle East & North Africa/Israel and Palestine, State of",
          "Global Total/Sub-Saharan Africa/Madagascar",
          "Global Total/Europe & Central Asia/Iceland",
          "Global Total/East Asia & Pacific/Fiji",
          "Global Total/Europe & Central Asia/Finland",
          "Global Total/Latin America & Caribbean/Mexico",
          "Global Total/East Asia & Pacific/Malaysia",
          "Global Total/International Aviation and Shipping/International Aviation",
          "Global Total/Latin America & Caribbean/French Guiana",
          "Global Total/East Asia & Pacific/French Polynesia",
          "Global Total/Sub-Saharan Africa/Malawi",
          "Global Total/Europe & Central Asia/Georgia",
          "Global Total/East Asia & Pacific/Hong Kong",
          "Global Total/Middle East & North Africa/Iraq",
          "Global Total/Europe & Central Asia/Norway",
          "Global Total/Sub-Saharan Africa/Côte d’Ivoire",
          "Global Total/Latin America & Caribbean/Puerto Rico",
          "Global Total/Latin America & Caribbean/Antigua and Barbuda",
          "Global Total/East Asia & Pacific/Australia",
          "Global Total/Europe & Central Asia/United Kingdom",
          "Global Total/Latin America & Caribbean/Bahamas",
          "Global Total/Middle East & North Africa/Bahrain",
          "Global Total/Latin America & Caribbean/Barbados",
          "Global Total/Sub-Saharan Africa/Uganda",
          "Global Total/Middle East & North Africa/Tunisia",
          "Global Total/Sub-Saharan Africa/Benin",
          "Global Total/Latin America & Caribbean/Bolivia",
          "Global Total/Europe & Central Asia/Bosnia and Herzegovina",
          "Global Total/Middle East & North Africa/Djibouti",
          "Global Total/East Asia & Pacific/Thailand",
          "Global Total/Latin America & Caribbean/Suriname",
          "Global Total/Sub-Saharan Africa/Sudan and South Sudan",
          "Global Total/Sub-Saharan Africa/The Gambia",
          "Global Total/Europe & Central Asia/Russia",
          "Global Total/Europe & Central Asia/Czechia",
          "Global Total/Europe & Central Asia/Cyprus",
          "Global Total/South Asia/Sri Lanka",
          "Global Total/Latin America & Caribbean/Saint Lucia",
          "Global Total/North America/Saint Pierre and Miquelon",
          "Global Total/Middle East & North Africa/Saudi Arabia",
          "Global Total/Middle East & North Africa/Jordan",
          "Global Total/North America/Canada",
          "Global Total/Latin America & Caribbean/Anguilla",
          "Global Total/Europe & Central Asia/Serbia and Montenegro",
          "Global Total/Sub-Saharan Africa/Mauritius",
          "Global Total/Latin America & Caribbean/Peru",
          "Global Total/Europe & Central Asia/Uzbekistan",
          "Global Total/Europe & Central Asia/Kyrgyzstan",
          "Global Total/Latin America & Caribbean/Uruguay",
          "Global Total/North America/United States",
          "Global Total/Latin America & Caribbean/Paraguay",
          "Global Total/Europe & Central Asia/Lithuania",
          "Global Total/South Asia/Nepal",
          "Global Total/Europe & Central Asia/Ukraine",
          "Global Total/Sub-Saharan Africa/São Tomé and Príncipe",
          "Global Total/Sub-Saharan Africa/Rwanda",
          "Global Total/East Asia & Pacific/Solomon Islands",
          "Global Total/Europe & Central Asia/North Macedonia",
          "Global Total/East Asia & Pacific/Tonga",
          "Global Total/Middle East & North Africa/Qatar",
          "Global Total/Europe & Central Asia/Spain and Andorra",
          "Global Total/South Asia/Afghanistan",
          "Global Total/Europe & Central Asia/Croatia",
          "Global Total/Latin America & Caribbean/Ecuador",
          "Global Total/Latin America & Caribbean/Dominica",
          "Global Total/Europe & Central Asia/Denmark",
          "Global Total/Sub-Saharan Africa/Ghana",
          "Global Total/Latin America & Caribbean/Curaçao",
          "Global Total/Latin America & Caribbean/Cuba",
          "Global Total/Sub-Saharan Africa/Congo",
          "Global Total/Latin America & Caribbean/Cayman Islands",
          "Global Total/Latin America & Caribbean/Guadeloupe",
          "Global Total/Europe & Central Asia/Bulgaria",
          "Global Total/East Asia & Pacific/Brunei",
          "Global Total/Sub-Saharan Africa/Guinea-Bissau",
          "Global Total/Latin America & Caribbean/Guyana",
          "Global Total/Sub-Saharan Africa/Guinea",
          "Global Total/Europe & Central Asia/Hungary",
          "Global Total/Europe & Central Asia/Italy, San Marino and the Holy See",
          "Global Total/Sub-Saharan Africa/Angola",
          "Global Total/Latin America & Caribbean/Argentina",
          "Global Total/Latin America & Caribbean/Honduras",
          "Global Total/Europe & Central Asia/Austria",
          "Global Total/Latin America & Caribbean/Aruba",
          "Global Total/South Asia/Bhutan",
          "Global Total/Sub-Saharan Africa/Botswana",
          "Global Total/Latin America & Caribbean/British Virgin Islands",
          "Global Total/Europe & Central Asia/Faroes",
          "Global Total/Latin America & Caribbean/Trinidad and Tobago",
          "Global Total/East Asia & Pacific/Samoa",
          "Global Total/Middle East & North Africa/Syria",
          "Global Total/Sub-Saharan Africa/Saint Helena, Ascension and Tristan da Cunha",
          "Global Total/Europe & Central Asia/Armenia",
          "Global Total/Sub-Saharan Africa/Democratic Republic of the Congo",
          "Global Total/Sub-Saharan Africa/Equatorial Guinea",
          "Global Total/Middle East & North Africa/Western Sahara",
          "Global Total/Latin America & Caribbean/Dominican Republic",
          "Global Total/Middle East & North Africa/Egypt",
          "Global Total/Latin America & Caribbean/Panama",
          "Global Total/North America/Bermuda",
          "Global Total/Latin America & Caribbean/Jamaica",
          "Global Total/Middle East & North Africa/Libya",
          "Global Total/Sub-Saharan Africa/Mali",
          "Global Total/East Asia & Pacific/Mongolia",
          "Global Total/Sub-Saharan Africa/Lesotho",
          "Global Total/International Aviation and Shipping/International Shipping",
          "Global Total/Europe & Central Asia/Latvia",
          "Global Total/Europe & Central Asia/Ireland",
          "Global Total/Middle East & North Africa/Iran",
          "Global Total/Sub-Saharan Africa/Cameroon",
          "Global Total/Middle East & North Africa/United Arab Emirates",
          "Global Total/Sub-Saharan Africa/South Africa",
          "Global Total/Latin America & Caribbean/Brazil",
          "Global Total/Europe & Central Asia/Albania",
          "Global Total/East Asia & Pacific/Papua New Guinea",
          "Global Total/Europe & Central Asia/Luxembourg",
          "Global Total/Sub-Saharan Africa/Mauritania",
          "Global Total/Sub-Saharan Africa/Burundi",
          "Global Total/Latin America & Caribbean/Belize",
          "Global Total/South Asia/Pakistan",
          "Global Total/East Asia & Pacific/Indonesia",
          "Global Total/Latin America & Caribbean/Martinique",
          "Global Total/East Asia & Pacific/Taiwan",
          "Global Total/Europe & Central Asia/Tajikistan",
          "Global Total/Europe & Central Asia/Sweden",
          "Global Total/Europe & Central Asia/Switzerland and Liechtenstein",
          "Global Total/Europe & Central Asia/Belgium",
          "Global Total/Sub-Saharan Africa/Liberia",
          "Global Total/Latin America & Caribbean/Turks and Caicos Islands",
          "Global Total/Europe & Central Asia/Türkiye",
          "Global Total/Europe & Central Asia/Belarus",
          "Global Total/South Asia/Bangladesh",
          "Global Total/Middle East & North Africa/Algeria",
          "Global Total/Sub-Saharan Africa/Zambia",
          "Global Total/Middle East & North Africa/Yemen",
          "Global Total/East Asia & Pacific/Macao",
          "Global Total/Sub-Saharan Africa/Cabo Verde",
          "Global Total/Sub-Saharan Africa/Eswatini",
          "Global Total/Europe & Central Asia/France and Monaco",
          "Global Total/East Asia & Pacific/North Korea",
          "Global Total/Sub-Saharan Africa/Nigeria",
          "Global Total/Latin America & Caribbean/El Salvador",
          "Global Total/Sub-Saharan Africa/Gabon",
          "Global Total/Latin America & Caribbean/Nicaragua",
          "Global Total/Europe & Central Asia/Germany",
          "Global Total/East Asia & Pacific/New Caledonia",
          "Global Total/Europe & Central Asia/Netherlands",
          "Global Total/Sub-Saharan Africa/Namibia",
          "Global Total/East Asia & Pacific/Myanmar/Burma",
          "Global Total/Europe & Central Asia/Gibraltar",
          "Global Total/Europe & Central Asia/Kazakhstan",
          "Global Total/Latin America & Caribbean/Costa Rica",
          "Global Total/Europe & Central Asia/Greece",
          "Global Total/Latin America & Caribbean/Saint Kitts and Nevis",
          "Global Total/East Asia & Pacific/Cook Islands",
          "Global Total/Latin America & Caribbean/Saint Vincent and the Grenadines",
          "Global Total/Europe & Central Asia/Moldova",
          "Global Total/Latin America & Caribbean/Colombia",
          "Global Total/Sub-Saharan Africa/Senegal",
          "Global Total/East Asia & Pacific/China",
          "Global Total/Sub-Saharan Africa/Seychelles",
          "Global Total/Latin America & Caribbean/Chile",
          "Global Total/East Asia & Pacific/Singapore",
          "Global Total/Sub-Saharan Africa/Chad",
          "Global Total/Europe & Central Asia/Slovenia",
          "Global Total/Europe & Central Asia/Greenland",
          "Global Total/Sub-Saharan Africa/Somalia",
          "Global Total/East Asia & Pacific/South Korea",
          "Global Total/East Asia & Pacific/Cambodia",
          "Global Total/Sub-Saharan Africa/Zimbabwe",
          "Global Total/East Asia & Pacific",
          "Global Total/Europe & Central Asia",
          "Global Total/International Aviation and Shipping",
          "Global Total/Latin America & Caribbean",
          "Global Total/Middle East & North Africa",
          "Global Total/North America",
          "Global Total/South Asia",
          "Global Total/Sub-Saharan Africa",
          "Global Total"
         ],
         "labels": [
          "Kuwait",
          "Timor-Leste",
          "Poland",
          "Morocco",
          "Burkina Faso",
          "Mozambique",
          "New Zealand",
          "Niger",
          "Central African Republic",
          "Slovakia",
          "Sierra Leone",
          "Comoros",
          "Falkland Islands",
          "Réunion",
          "Romania",
          "Japan",
          "Palau",
          "Philippines",
          "Togo",
          "Maldives",
          "Tanzania",
          "Haiti",
          "Viet Nam",
          "Venezuela",
          "Vanuatu",
          "Kiribati",
          "Laos",
          "Azerbaijan",
          "India",
          "Lebanon",
          "Portugal",
          "Turkmenistan",
          "Malta",
          "Guatemala",
          "Eritrea",
          "Estonia",
          "Kenya",
          "Oman",
          "Ethiopia",
          "Grenada",
          "Israel and Palestine, State of",
          "Madagascar",
          "Iceland",
          "Fiji",
          "Finland",
          "Mexico",
          "Malaysia",
          "International Aviation",
          "French Guiana",
          "French Polynesia",
          "Malawi",
          "Georgia",
          "Hong Kong",
          "Iraq",
          "Norway",
          "Côte d’Ivoire",
          "Puerto Rico",
          "Antigua and Barbuda",
          "Australia",
          "United Kingdom",
          "Bahamas",
          "Bahrain",
          "Barbados",
          "Uganda",
          "Tunisia",
          "Benin",
          "Bolivia",
          "Bosnia and Herzegovina",
          "Djibouti",
          "Thailand",
          "Suriname",
          "Sudan and South Sudan",
          "The Gambia",
          "Russia",
          "Czechia",
          "Cyprus",
          "Sri Lanka",
          "Saint Lucia",
          "Saint Pierre and Miquelon",
          "Saudi Arabia",
          "Jordan",
          "Canada",
          "Anguilla",
          "Serbia and Montenegro",
          "Mauritius",
          "Peru",
          "Uzbekistan",
          "Kyrgyzstan",
          "Uruguay",
          "United States",
          "Paraguay",
          "Lithuania",
          "Nepal",
          "Ukraine",
          "São Tomé and Príncipe",
          "Rwanda",
          "Solomon Islands",
          "North Macedonia",
          "Tonga",
          "Qatar",
          "Spain and Andorra",
          "Afghanistan",
          "Croatia",
          "Ecuador",
          "Dominica",
          "Denmark",
          "Ghana",
          "Curaçao",
          "Cuba",
          "Congo",
          "Cayman Islands",
          "Guadeloupe",
          "Bulgaria",
          "Brunei",
          "Guinea-Bissau",
          "Guyana",
          "Guinea",
          "Hungary",
          "Italy, San Marino and the Holy See",
          "Angola",
          "Argentina",
          "Honduras",
          "Austria",
          "Aruba",
          "Bhutan",
          "Botswana",
          "British Virgin Islands",
          "Faroes",
          "Trinidad and Tobago",
          "Samoa",
          "Syria",
          "Saint Helena, Ascension and Tristan da Cunha",
          "Armenia",
          "Democratic Republic of the Congo",
          "Equatorial Guinea",
          "Western Sahara",
          "Dominican Republic",
          "Egypt",
          "Panama",
          "Bermuda",
          "Jamaica",
          "Libya",
          "Mali",
          "Mongolia",
          "Lesotho",
          "International Shipping",
          "Latvia",
          "Ireland",
          "Iran",
          "Cameroon",
          "United Arab Emirates",
          "South Africa",
          "Brazil",
          "Albania",
          "Papua New Guinea",
          "Luxembourg",
          "Mauritania",
          "Burundi",
          "Belize",
          "Pakistan",
          "Indonesia",
          "Martinique",
          "Taiwan",
          "Tajikistan",
          "Sweden",
          "Switzerland and Liechtenstein",
          "Belgium",
          "Liberia",
          "Turks and Caicos Islands",
          "Türkiye",
          "Belarus",
          "Bangladesh",
          "Algeria",
          "Zambia",
          "Yemen",
          "Macao",
          "Cabo Verde",
          "Eswatini",
          "France and Monaco",
          "North Korea",
          "Nigeria",
          "El Salvador",
          "Gabon",
          "Nicaragua",
          "Germany",
          "New Caledonia",
          "Netherlands",
          "Namibia",
          "Myanmar/Burma",
          "Gibraltar",
          "Kazakhstan",
          "Costa Rica",
          "Greece",
          "Saint Kitts and Nevis",
          "Cook Islands",
          "Saint Vincent and the Grenadines",
          "Moldova",
          "Colombia",
          "Senegal",
          "China",
          "Seychelles",
          "Chile",
          "Singapore",
          "Chad",
          "Slovenia",
          "Greenland",
          "Somalia",
          "South Korea",
          "Cambodia",
          "Zimbabwe",
          "East Asia & Pacific",
          "Europe & Central Asia",
          "International Aviation and Shipping",
          "Latin America & Caribbean",
          "Middle East & North Africa",
          "North America",
          "South Asia",
          "Sub-Saharan Africa",
          "Global Total"
         ],
         "marker": {
          "colors": [
           "#00B1EA",
           "#003299",
           "#FFB400",
           "#00B1EA",
           "#077C1D",
           "#077C1D",
           "#003299",
           "#077C1D",
           "#077C1D",
           "#FFB400",
           "#077C1D",
           "#077C1D",
           "#8139C6",
           "#077C1D",
           "#FFB400",
           "#003299",
           "#003299",
           "#003299",
           "#077C1D",
           "#65B800",
           "#077C1D",
           "#8139C6",
           "#003299",
           "#8139C6",
           "#003299",
           "#003299",
           "#003299",
           "#FFB400",
           "#65B800",
           "#00B1EA",
           "#FFB400",
           "#FFB400",
           "#00B1EA",
           "#8139C6",
           "#077C1D",
           "#FFB400",
           "#077C1D",
           "#00B1EA",
           "#077C1D",
           "#8139C6",
           "#00B1EA",
           "#077C1D",
           "#FFB400",
           "#003299",
           "#FFB400",
           "#8139C6",
           "#003299",
           "#FF97FF",
           "#8139C6",
           "#003299",
           "#077C1D",
           "#FFB400",
           "#003299",
           "#00B1EA",
           "#FFB400",
           "#077C1D",
           "#8139C6",
           "#8139C6",
           "#003299",
           "#FFB400",
           "#8139C6",
           "#00B1EA",
           "#8139C6",
           "#077C1D",
           "#00B1EA",
           "#077C1D",
           "#8139C6",
           "#FFB400",
           "#00B1EA",
           "#003299",
           "#8139C6",
           "#077C1D",
           "#077C1D",
           "#FFB400",
           "#FFB400",
           "#FFB400",
           "#65B800",
           "#8139C6",
           "#FF4B00",
           "#00B1EA",
           "#00B1EA",
           "#FF4B00",
           "#8139C6",
           "#FFB400",
           "#077C1D",
           "#8139C6",
           "#FFB400",
           "#FFB400",
           "#8139C6",
           "#FF4B00",
           "#8139C6",
           "#FFB400",
           "#65B800",
           "#FFB400",
           "#077C1D",
           "#077C1D",
           "#003299",
           "#FFB400",
           "#003299",
           "#00B1EA",
           "#FFB400",
           "#65B800",
           "#FFB400",
           "#8139C6",
           "#8139C6",
           "#FFB400",
           "#077C1D",
           "#8139C6",
           "#8139C6",
           "#077C1D",
           "#8139C6",
           "#8139C6",
           "#FFB400",
           "#003299",
           "#077C1D",
           "#8139C6",
           "#077C1D",
           "#FFB400",
           "#FFB400",
           "#077C1D",
           "#8139C6",
           "#8139C6",
           "#FFB400",
           "#8139C6",
           "#65B800",
           "#077C1D",
           "#8139C6",
           "#FFB400",
           "#8139C6",
           "#003299",
           "#00B1EA",
           "#077C1D",
           "#FFB400",
           "#077C1D",
           "#077C1D",
           "#00B1EA",
           "#8139C6",
           "#00B1EA",
           "#8139C6",
           "#FF4B00",
           "#8139C6",
           "#00B1EA",
           "#077C1D",
           "#003299",
           "#077C1D",
           "#FF97FF",
           "#FFB400",
           "#FFB400",
           "#00B1EA",
           "#077C1D",
           "#00B1EA",
           "#077C1D",
           "#8139C6",
           "#FFB400",
           "#003299",
           "#FFB400",
           "#077C1D",
           "#077C1D",
           "#8139C6",
           "#65B800",
           "#003299",
           "#8139C6",
           "#003299",
           "#FFB400",
           "#FFB400",
           "#FFB400",
           "#FFB400",
           "#077C1D",
           "#8139C6",
           "#FFB400",
           "#FFB400",
           "#65B800",
           "#00B1EA",
           "#077C1D",
           "#00B1EA",
           "#003299",
           "#077C1D",
           "#077C1D",
           "#FFB400",
           "#003299",
           "#077C1D",
           "#8139C6",
           "#077C1D",
           "#8139C6",
           "#FFB400",
           "#003299",
           "#FFB400",
           "#077C1D",
           "#003299",
           "#FFB400",
           "#FFB400",
           "#8139C6",
           "#FFB400",
           "#8139C6",
           "#003299",
           "#8139C6",
           "#FFB400",
           "#8139C6",
           "#077C1D",
           "#003299",
           "#077C1D",
           "#8139C6",
           "#003299",
           "#077C1D",
           "#FFB400",
           "#FFB400",
           "#077C1D",
           "#003299",
           "#003299",
           "#077C1D",
           "#003299",
           "#FFB400",
           "#FF97FF",
           "#8139C6",
           "#00B1EA",
           "#FF4B00",
           "#65B800",
           "#077C1D",
           "lightgrey"
          ]
         },
         "name": "",
         "parents": [
          "Global Total/Middle East & North Africa",
          "Global Total/East Asia & Pacific",
          "Global Total/Europe & Central Asia",
          "Global Total/Middle East & North Africa",
          "Global Total/Sub-Saharan Africa",
          "Global Total/Sub-Saharan Africa",
          "Global Total/East Asia & Pacific",
          "Global Total/Sub-Saharan Africa",
          "Global Total/Sub-Saharan Africa",
          "Global Total/Europe & Central Asia",
          "Global Total/Sub-Saharan Africa",
          "Global Total/Sub-Saharan Africa",
          "Global Total/Latin America & Caribbean",
          "Global Total/Sub-Saharan Africa",
          "Global Total/Europe & Central Asia",
          "Global Total/East Asia & Pacific",
          "Global Total/East Asia & Pacific",
          "Global Total/East Asia & Pacific",
          "Global Total/Sub-Saharan Africa",
          "Global Total/South Asia",
          "Global Total/Sub-Saharan Africa",
          "Global Total/Latin America & Caribbean",
          "Global Total/East Asia & Pacific",
          "Global Total/Latin America & Caribbean",
          "Global Total/East Asia & Pacific",
          "Global Total/East Asia & Pacific",
          "Global Total/East Asia & Pacific",
          "Global Total/Europe & Central Asia",
          "Global Total/South Asia",
          "Global Total/Middle East & North Africa",
          "Global Total/Europe & Central Asia",
          "Global Total/Europe & Central Asia",
          "Global Total/Middle East & North Africa",
          "Global Total/Latin America & Caribbean",
          "Global Total/Sub-Saharan Africa",
          "Global Total/Europe & Central Asia",
          "Global Total/Sub-Saharan Africa",
          "Global Total/Middle East & North Africa",
          "Global Total/Sub-Saharan Africa",
          "Global Total/Latin America & Caribbean",
          "Global Total/Middle East & North Africa",
          "Global Total/Sub-Saharan Africa",
          "Global Total/Europe & Central Asia",
          "Global Total/East Asia & Pacific",
          "Global Total/Europe & Central Asia",
          "Global Total/Latin America & Caribbean",
          "Global Total/East Asia & Pacific",
          "Global Total/International Aviation and Shipping",
          "Global Total/Latin America & Caribbean",
          "Global Total/East Asia & Pacific",
          "Global Total/Sub-Saharan Africa",
          "Global Total/Europe & Central Asia",
          "Global Total/East Asia & Pacific",
          "Global Total/Middle East & North Africa",
          "Global Total/Europe & Central Asia",
          "Global Total/Sub-Saharan Africa",
          "Global Total/Latin America & Caribbean",
          "Global Total/Latin America & Caribbean",
          "Global Total/East Asia & Pacific",
          "Global Total/Europe & Central Asia",
          "Global Total/Latin America & Caribbean",
          "Global Total/Middle East & North Africa",
          "Global Total/Latin America & Caribbean",
          "Global Total/Sub-Saharan Africa",
          "Global Total/Middle East & North Africa",
          "Global Total/Sub-Saharan Africa",
          "Global Total/Latin America & Caribbean",
          "Global Total/Europe & Central Asia",
          "Global Total/Middle East & North Africa",
          "Global Total/East Asia & Pacific",
          "Global Total/Latin America & Caribbean",
          "Global Total/Sub-Saharan Africa",
          "Global Total/Sub-Saharan Africa",
          "Global Total/Europe & Central Asia",
          "Global Total/Europe & Central Asia",
          "Global Total/Europe & Central Asia",
          "Global Total/South Asia",
          "Global Total/Latin America & Caribbean",
          "Global Total/North America",
          "Global Total/Middle East & North Africa",
          "Global Total/Middle East & North Africa",
          "Global Total/North America",
          "Global Total/Latin America & Caribbean",
          "Global Total/Europe & Central Asia",
          "Global Total/Sub-Saharan Africa",
          "Global Total/Latin America & Caribbean",
          "Global Total/Europe & Central Asia",
          "Global Total/Europe & Central Asia",
          "Global Total/Latin America & Caribbean",
          "Global Total/North America",
          "Global Total/Latin America & Caribbean",
          "Global Total/Europe & Central Asia",
          "Global Total/South Asia",
          "Global Total/Europe & Central Asia",
          "Global Total/Sub-Saharan Africa",
          "Global Total/Sub-Saharan Africa",
          "Global Total/East Asia & Pacific",
          "Global Total/Europe & Central Asia",
          "Global Total/East Asia & Pacific",
          "Global Total/Middle East & North Africa",
          "Global Total/Europe & Central Asia",
          "Global Total/South Asia",
          "Global Total/Europe & Central Asia",
          "Global Total/Latin America & Caribbean",
          "Global Total/Latin America & Caribbean",
          "Global Total/Europe & Central Asia",
          "Global Total/Sub-Saharan Africa",
          "Global Total/Latin America & Caribbean",
          "Global Total/Latin America & Caribbean",
          "Global Total/Sub-Saharan Africa",
          "Global Total/Latin America & Caribbean",
          "Global Total/Latin America & Caribbean",
          "Global Total/Europe & Central Asia",
          "Global Total/East Asia & Pacific",
          "Global Total/Sub-Saharan Africa",
          "Global Total/Latin America & Caribbean",
          "Global Total/Sub-Saharan Africa",
          "Global Total/Europe & Central Asia",
          "Global Total/Europe & Central Asia",
          "Global Total/Sub-Saharan Africa",
          "Global Total/Latin America & Caribbean",
          "Global Total/Latin America & Caribbean",
          "Global Total/Europe & Central Asia",
          "Global Total/Latin America & Caribbean",
          "Global Total/South Asia",
          "Global Total/Sub-Saharan Africa",
          "Global Total/Latin America & Caribbean",
          "Global Total/Europe & Central Asia",
          "Global Total/Latin America & Caribbean",
          "Global Total/East Asia & Pacific",
          "Global Total/Middle East & North Africa",
          "Global Total/Sub-Saharan Africa",
          "Global Total/Europe & Central Asia",
          "Global Total/Sub-Saharan Africa",
          "Global Total/Sub-Saharan Africa",
          "Global Total/Middle East & North Africa",
          "Global Total/Latin America & Caribbean",
          "Global Total/Middle East & North Africa",
          "Global Total/Latin America & Caribbean",
          "Global Total/North America",
          "Global Total/Latin America & Caribbean",
          "Global Total/Middle East & North Africa",
          "Global Total/Sub-Saharan Africa",
          "Global Total/East Asia & Pacific",
          "Global Total/Sub-Saharan Africa",
          "Global Total/International Aviation and Shipping",
          "Global Total/Europe & Central Asia",
          "Global Total/Europe & Central Asia",
          "Global Total/Middle East & North Africa",
          "Global Total/Sub-Saharan Africa",
          "Global Total/Middle East & North Africa",
          "Global Total/Sub-Saharan Africa",
          "Global Total/Latin America & Caribbean",
          "Global Total/Europe & Central Asia",
          "Global Total/East Asia & Pacific",
          "Global Total/Europe & Central Asia",
          "Global Total/Sub-Saharan Africa",
          "Global Total/Sub-Saharan Africa",
          "Global Total/Latin America & Caribbean",
          "Global Total/South Asia",
          "Global Total/East Asia & Pacific",
          "Global Total/Latin America & Caribbean",
          "Global Total/East Asia & Pacific",
          "Global Total/Europe & Central Asia",
          "Global Total/Europe & Central Asia",
          "Global Total/Europe & Central Asia",
          "Global Total/Europe & Central Asia",
          "Global Total/Sub-Saharan Africa",
          "Global Total/Latin America & Caribbean",
          "Global Total/Europe & Central Asia",
          "Global Total/Europe & Central Asia",
          "Global Total/South Asia",
          "Global Total/Middle East & North Africa",
          "Global Total/Sub-Saharan Africa",
          "Global Total/Middle East & North Africa",
          "Global Total/East Asia & Pacific",
          "Global Total/Sub-Saharan Africa",
          "Global Total/Sub-Saharan Africa",
          "Global Total/Europe & Central Asia",
          "Global Total/East Asia & Pacific",
          "Global Total/Sub-Saharan Africa",
          "Global Total/Latin America & Caribbean",
          "Global Total/Sub-Saharan Africa",
          "Global Total/Latin America & Caribbean",
          "Global Total/Europe & Central Asia",
          "Global Total/East Asia & Pacific",
          "Global Total/Europe & Central Asia",
          "Global Total/Sub-Saharan Africa",
          "Global Total/East Asia & Pacific",
          "Global Total/Europe & Central Asia",
          "Global Total/Europe & Central Asia",
          "Global Total/Latin America & Caribbean",
          "Global Total/Europe & Central Asia",
          "Global Total/Latin America & Caribbean",
          "Global Total/East Asia & Pacific",
          "Global Total/Latin America & Caribbean",
          "Global Total/Europe & Central Asia",
          "Global Total/Latin America & Caribbean",
          "Global Total/Sub-Saharan Africa",
          "Global Total/East Asia & Pacific",
          "Global Total/Sub-Saharan Africa",
          "Global Total/Latin America & Caribbean",
          "Global Total/East Asia & Pacific",
          "Global Total/Sub-Saharan Africa",
          "Global Total/Europe & Central Asia",
          "Global Total/Europe & Central Asia",
          "Global Total/Sub-Saharan Africa",
          "Global Total/East Asia & Pacific",
          "Global Total/East Asia & Pacific",
          "Global Total/Sub-Saharan Africa",
          "Global Total",
          "Global Total",
          "Global Total",
          "Global Total",
          "Global Total",
          "Global Total",
          "Global Total",
          "Global Total",
          ""
         ],
         "root": {
          "color": "lightgrey"
         },
         "type": "sunburst",
         "values": [
          167.91576883104,
          2.0071829501919,
          363.79425000758,
          106.60223103187,
          34.456815083211,
          33.953984042408,
          84.209811532415,
          42.334092053639,
          12.502621395351,
          44.775610890682,
          6.9377160598998,
          0.76176779618891,
          0.17239134049142,
          2.9206981620469,
          105.85240058122,
          1041.0128248687,
          1.5016528321032,
          256.14715481705,
          10.612911987181,
          3.0879519663505,
          89.815439405641,
          13.656955798463,
          524.13346380418,
          152.38992311311,
          0.67021230161327,
          0.13017626101136,
          42.056212706049,
          62.550294041306,
          4133.5543557465,
          24.672324496902,
          53.004607295263,
          98.79411982866,
          2.0338652584277,
          43.981074467992,
          6.4018203690061,
          14.363974872585,
          107.97690921511,
          127.44302070563,
          170.03385065137,
          0.20040725685748,
          79.578174881426,
          33.150776404127,
          4.171936013462,
          3.4009927758626,
          43.45353679725,
          712.10209803987,
          325.40584765842,
          498.17811441525,
          0.57338749677229,
          1.3745553234525,
          19.714051394182,
          19.049153820466,
          40.16776057819,
          362.78479656291,
          56.717099715738,
          32.184005493065,
          16.063991058379,
          0.38855617147726,
          571.83984854671,
          379.31858785213,
          2.0502828926945,
          63.733860649409,
          0.98904380539195,
          53.370989410157,
          43.578530969544,
          16.699491601107,
          55.185652756247,
          29.397991348246,
          2.1324079847022,
          440.78301465571,
          3.7377177696646,
          138.74157453584,
          1.8888012914382,
          2672.0394366031,
          114.43841612936,
          10.324656394181,
          38.403849844142,
          0.45126691251345,
          0.046573728277142,
          805.15810845823,
          33.407709056244,
          747.67802680902,
          0.026210752219878,
          67.214992478558,
          6.1987377637869,
          94.048681371836,
          214.53138443861,
          21.698229839443,
          41.634111747759,
          5960.8043799939,
          41.6245592458,
          20.683656998446,
          56.830982733611,
          216.09280539526,
          0.30345441468402,
          7.4932661090211,
          0.7208177463664,
          11.370029305485,
          0.34210672521812,
          154.38356524031,
          285.38389989719,
          29.460052109846,
          25.013482276387,
          73.604607615068,
          0.14691940907449,
          41.831473036828,
          48.265926450338,
          2.5321443120251,
          39.400331633766,
          23.702014388194,
          0.39013759296906,
          1.4622285867384,
          53.372279020841,
          12.157942508343,
          2.9974771167324,
          8.190988601015,
          28.634657504101,
          60.92677185673,
          374.12419472876,
          67.700756247715,
          365.68461861929,
          22.920141542444,
          72.921492529812,
          0.56149760455405,
          3.2548573740653,
          12.712755146957,
          0.09106902611319,
          0.050700306537543,
          34.187024015247,
          0.64614359538246,
          41.21058254401,
          0.021271020996457,
          10.836336950669,
          56.105911645373,
          6.9820980789903,
          0.68479507293985,
          48.396213040658,
          335.96804878176,
          21.281689073781,
          0.37883791454079,
          8.1629239257775,
          95.929766915197,
          45.4630975003,
          83.704559899687,
          2.6019212840001,
          746.94368210501,
          10.957491923456,
          57.853266947361,
          996.7526808229,
          39.377188823331,
          267.82319378586,
          522.11549112331,
          1300.1688666752,
          7.6736715330197,
          9.6409981982956,
          7.8609330392057,
          16.509274363264,
          7.0491399156994,
          0.92034733748831,
          532.37448361892,
          1200.1997867973,
          1.2184203684901,
          308.00043191949,
          21.438119694098,
          49.118373633418,
          43.446393813877,
          106.37018790875,
          4.5323879353986,
          0.11025472286272,
          606.42985584791,
          84.277601484293,
          281.38053496815,
          256.79213126858,
          30.484449374284,
          32.242871779425,
          3.1190096511524,
          1.2315183876125,
          3.2895503749739,
          385.52011950564,
          90.148479942173,
          385.11288377147,
          13.051313657078,
          21.402080428809,
          20.628271187746,
          681.81032815187,
          6.6142165933615,
          150.74579824257,
          12.885675050293,
          115.07725289766,
          0.71237260220074,
          320.34998496393,
          16.468143919331,
          69.266029551595,
          0.17447409234332,
          0.1543181744716,
          0.15077509193013,
          13.54241150505,
          223.96663405241,
          28.843732000256,
          15943.986552905,
          1.3387084460449,
          121.46313217391,
          74.290132466078,
          95.377319649136,
          15.993517423122,
          0.64726465731155,
          32.499935850652,
          653.8461399874,
          48.77483220475,
          31.019306383582,
          21886.264433823788,
          8182.111523679463,
          1245.12179652026,
          3504.609479874849,
          4000.8284350973167,
          6708.907818445738,
          5078.347068361584,
          2356.7103029002747,
          52962.90085870327
         ]
        }
       ],
       "layout": {
        "height": 1500,
        "legend": {
         "tracegroupgap": 0
        },
        "margin": {
         "b": 0,
         "l": 0,
         "r": 0,
         "t": 30
        },
        "template": {
         "data": {
          "bar": [
           {
            "error_x": {
             "color": "#2a3f5f"
            },
            "error_y": {
             "color": "#2a3f5f"
            },
            "marker": {
             "line": {
              "color": "#E5ECF6",
              "width": 0.5
             },
             "pattern": {
              "fillmode": "overlay",
              "size": 10,
              "solidity": 0.2
             }
            },
            "type": "bar"
           }
          ],
          "barpolar": [
           {
            "marker": {
             "line": {
              "color": "#E5ECF6",
              "width": 0.5
             },
             "pattern": {
              "fillmode": "overlay",
              "size": 10,
              "solidity": 0.2
             }
            },
            "type": "barpolar"
           }
          ],
          "carpet": [
           {
            "aaxis": {
             "endlinecolor": "#2a3f5f",
             "gridcolor": "white",
             "linecolor": "white",
             "minorgridcolor": "white",
             "startlinecolor": "#2a3f5f"
            },
            "baxis": {
             "endlinecolor": "#2a3f5f",
             "gridcolor": "white",
             "linecolor": "white",
             "minorgridcolor": "white",
             "startlinecolor": "#2a3f5f"
            },
            "type": "carpet"
           }
          ],
          "choropleth": [
           {
            "colorbar": {
             "outlinewidth": 0,
             "ticks": ""
            },
            "type": "choropleth"
           }
          ],
          "contour": [
           {
            "colorbar": {
             "outlinewidth": 0,
             "ticks": ""
            },
            "colorscale": [
             [
              0,
              "#0d0887"
             ],
             [
              0.1111111111111111,
              "#46039f"
             ],
             [
              0.2222222222222222,
              "#7201a8"
             ],
             [
              0.3333333333333333,
              "#9c179e"
             ],
             [
              0.4444444444444444,
              "#bd3786"
             ],
             [
              0.5555555555555556,
              "#d8576b"
             ],
             [
              0.6666666666666666,
              "#ed7953"
             ],
             [
              0.7777777777777778,
              "#fb9f3a"
             ],
             [
              0.8888888888888888,
              "#fdca26"
             ],
             [
              1,
              "#f0f921"
             ]
            ],
            "type": "contour"
           }
          ],
          "contourcarpet": [
           {
            "colorbar": {
             "outlinewidth": 0,
             "ticks": ""
            },
            "type": "contourcarpet"
           }
          ],
          "heatmap": [
           {
            "colorbar": {
             "outlinewidth": 0,
             "ticks": ""
            },
            "colorscale": [
             [
              0,
              "#0d0887"
             ],
             [
              0.1111111111111111,
              "#46039f"
             ],
             [
              0.2222222222222222,
              "#7201a8"
             ],
             [
              0.3333333333333333,
              "#9c179e"
             ],
             [
              0.4444444444444444,
              "#bd3786"
             ],
             [
              0.5555555555555556,
              "#d8576b"
             ],
             [
              0.6666666666666666,
              "#ed7953"
             ],
             [
              0.7777777777777778,
              "#fb9f3a"
             ],
             [
              0.8888888888888888,
              "#fdca26"
             ],
             [
              1,
              "#f0f921"
             ]
            ],
            "type": "heatmap"
           }
          ],
          "heatmapgl": [
           {
            "colorbar": {
             "outlinewidth": 0,
             "ticks": ""
            },
            "colorscale": [
             [
              0,
              "#0d0887"
             ],
             [
              0.1111111111111111,
              "#46039f"
             ],
             [
              0.2222222222222222,
              "#7201a8"
             ],
             [
              0.3333333333333333,
              "#9c179e"
             ],
             [
              0.4444444444444444,
              "#bd3786"
             ],
             [
              0.5555555555555556,
              "#d8576b"
             ],
             [
              0.6666666666666666,
              "#ed7953"
             ],
             [
              0.7777777777777778,
              "#fb9f3a"
             ],
             [
              0.8888888888888888,
              "#fdca26"
             ],
             [
              1,
              "#f0f921"
             ]
            ],
            "type": "heatmapgl"
           }
          ],
          "histogram": [
           {
            "marker": {
             "pattern": {
              "fillmode": "overlay",
              "size": 10,
              "solidity": 0.2
             }
            },
            "type": "histogram"
           }
          ],
          "histogram2d": [
           {
            "colorbar": {
             "outlinewidth": 0,
             "ticks": ""
            },
            "colorscale": [
             [
              0,
              "#0d0887"
             ],
             [
              0.1111111111111111,
              "#46039f"
             ],
             [
              0.2222222222222222,
              "#7201a8"
             ],
             [
              0.3333333333333333,
              "#9c179e"
             ],
             [
              0.4444444444444444,
              "#bd3786"
             ],
             [
              0.5555555555555556,
              "#d8576b"
             ],
             [
              0.6666666666666666,
              "#ed7953"
             ],
             [
              0.7777777777777778,
              "#fb9f3a"
             ],
             [
              0.8888888888888888,
              "#fdca26"
             ],
             [
              1,
              "#f0f921"
             ]
            ],
            "type": "histogram2d"
           }
          ],
          "histogram2dcontour": [
           {
            "colorbar": {
             "outlinewidth": 0,
             "ticks": ""
            },
            "colorscale": [
             [
              0,
              "#0d0887"
             ],
             [
              0.1111111111111111,
              "#46039f"
             ],
             [
              0.2222222222222222,
              "#7201a8"
             ],
             [
              0.3333333333333333,
              "#9c179e"
             ],
             [
              0.4444444444444444,
              "#bd3786"
             ],
             [
              0.5555555555555556,
              "#d8576b"
             ],
             [
              0.6666666666666666,
              "#ed7953"
             ],
             [
              0.7777777777777778,
              "#fb9f3a"
             ],
             [
              0.8888888888888888,
              "#fdca26"
             ],
             [
              1,
              "#f0f921"
             ]
            ],
            "type": "histogram2dcontour"
           }
          ],
          "mesh3d": [
           {
            "colorbar": {
             "outlinewidth": 0,
             "ticks": ""
            },
            "type": "mesh3d"
           }
          ],
          "parcoords": [
           {
            "line": {
             "colorbar": {
              "outlinewidth": 0,
              "ticks": ""
             }
            },
            "type": "parcoords"
           }
          ],
          "pie": [
           {
            "automargin": true,
            "type": "pie"
           }
          ],
          "scatter": [
           {
            "fillpattern": {
             "fillmode": "overlay",
             "size": 10,
             "solidity": 0.2
            },
            "type": "scatter"
           }
          ],
          "scatter3d": [
           {
            "line": {
             "colorbar": {
              "outlinewidth": 0,
              "ticks": ""
             }
            },
            "marker": {
             "colorbar": {
              "outlinewidth": 0,
              "ticks": ""
             }
            },
            "type": "scatter3d"
           }
          ],
          "scattercarpet": [
           {
            "marker": {
             "colorbar": {
              "outlinewidth": 0,
              "ticks": ""
             }
            },
            "type": "scattercarpet"
           }
          ],
          "scattergeo": [
           {
            "marker": {
             "colorbar": {
              "outlinewidth": 0,
              "ticks": ""
             }
            },
            "type": "scattergeo"
           }
          ],
          "scattergl": [
           {
            "marker": {
             "colorbar": {
              "outlinewidth": 0,
              "ticks": ""
             }
            },
            "type": "scattergl"
           }
          ],
          "scattermapbox": [
           {
            "marker": {
             "colorbar": {
              "outlinewidth": 0,
              "ticks": ""
             }
            },
            "type": "scattermapbox"
           }
          ],
          "scatterpolar": [
           {
            "marker": {
             "colorbar": {
              "outlinewidth": 0,
              "ticks": ""
             }
            },
            "type": "scatterpolar"
           }
          ],
          "scatterpolargl": [
           {
            "marker": {
             "colorbar": {
              "outlinewidth": 0,
              "ticks": ""
             }
            },
            "type": "scatterpolargl"
           }
          ],
          "scatterternary": [
           {
            "marker": {
             "colorbar": {
              "outlinewidth": 0,
              "ticks": ""
             }
            },
            "type": "scatterternary"
           }
          ],
          "surface": [
           {
            "colorbar": {
             "outlinewidth": 0,
             "ticks": ""
            },
            "colorscale": [
             [
              0,
              "#0d0887"
             ],
             [
              0.1111111111111111,
              "#46039f"
             ],
             [
              0.2222222222222222,
              "#7201a8"
             ],
             [
              0.3333333333333333,
              "#9c179e"
             ],
             [
              0.4444444444444444,
              "#bd3786"
             ],
             [
              0.5555555555555556,
              "#d8576b"
             ],
             [
              0.6666666666666666,
              "#ed7953"
             ],
             [
              0.7777777777777778,
              "#fb9f3a"
             ],
             [
              0.8888888888888888,
              "#fdca26"
             ],
             [
              1,
              "#f0f921"
             ]
            ],
            "type": "surface"
           }
          ],
          "table": [
           {
            "cells": {
             "fill": {
              "color": "#EBF0F8"
             },
             "line": {
              "color": "white"
             }
            },
            "header": {
             "fill": {
              "color": "#C8D4E3"
             },
             "line": {
              "color": "white"
             }
            },
            "type": "table"
           }
          ]
         },
         "layout": {
          "annotationdefaults": {
           "arrowcolor": "#2a3f5f",
           "arrowhead": 0,
           "arrowwidth": 1
          },
          "autotypenumbers": "strict",
          "coloraxis": {
           "colorbar": {
            "outlinewidth": 0,
            "ticks": ""
           }
          },
          "colorscale": {
           "diverging": [
            [
             0,
             "#8e0152"
            ],
            [
             0.1,
             "#c51b7d"
            ],
            [
             0.2,
             "#de77ae"
            ],
            [
             0.3,
             "#f1b6da"
            ],
            [
             0.4,
             "#fde0ef"
            ],
            [
             0.5,
             "#f7f7f7"
            ],
            [
             0.6,
             "#e6f5d0"
            ],
            [
             0.7,
             "#b8e186"
            ],
            [
             0.8,
             "#7fbc41"
            ],
            [
             0.9,
             "#4d9221"
            ],
            [
             1,
             "#276419"
            ]
           ],
           "sequential": [
            [
             0,
             "#0d0887"
            ],
            [
             0.1111111111111111,
             "#46039f"
            ],
            [
             0.2222222222222222,
             "#7201a8"
            ],
            [
             0.3333333333333333,
             "#9c179e"
            ],
            [
             0.4444444444444444,
             "#bd3786"
            ],
            [
             0.5555555555555556,
             "#d8576b"
            ],
            [
             0.6666666666666666,
             "#ed7953"
            ],
            [
             0.7777777777777778,
             "#fb9f3a"
            ],
            [
             0.8888888888888888,
             "#fdca26"
            ],
            [
             1,
             "#f0f921"
            ]
           ],
           "sequentialminus": [
            [
             0,
             "#0d0887"
            ],
            [
             0.1111111111111111,
             "#46039f"
            ],
            [
             0.2222222222222222,
             "#7201a8"
            ],
            [
             0.3333333333333333,
             "#9c179e"
            ],
            [
             0.4444444444444444,
             "#bd3786"
            ],
            [
             0.5555555555555556,
             "#d8576b"
            ],
            [
             0.6666666666666666,
             "#ed7953"
            ],
            [
             0.7777777777777778,
             "#fb9f3a"
            ],
            [
             0.8888888888888888,
             "#fdca26"
            ],
            [
             1,
             "#f0f921"
            ]
           ]
          },
          "colorway": [
           "#636efa",
           "#EF553B",
           "#00cc96",
           "#ab63fa",
           "#FFA15A",
           "#19d3f3",
           "#FF6692",
           "#B6E880",
           "#FF97FF",
           "#FECB52"
          ],
          "font": {
           "color": "#2a3f5f"
          },
          "geo": {
           "bgcolor": "white",
           "lakecolor": "white",
           "landcolor": "#E5ECF6",
           "showlakes": true,
           "showland": true,
           "subunitcolor": "white"
          },
          "hoverlabel": {
           "align": "left"
          },
          "hovermode": "closest",
          "mapbox": {
           "style": "light"
          },
          "paper_bgcolor": "white",
          "plot_bgcolor": "#E5ECF6",
          "polar": {
           "angularaxis": {
            "gridcolor": "white",
            "linecolor": "white",
            "ticks": ""
           },
           "bgcolor": "#E5ECF6",
           "radialaxis": {
            "gridcolor": "white",
            "linecolor": "white",
            "ticks": ""
           }
          },
          "scene": {
           "xaxis": {
            "backgroundcolor": "#E5ECF6",
            "gridcolor": "white",
            "gridwidth": 2,
            "linecolor": "white",
            "showbackground": true,
            "ticks": "",
            "zerolinecolor": "white"
           },
           "yaxis": {
            "backgroundcolor": "#E5ECF6",
            "gridcolor": "white",
            "gridwidth": 2,
            "linecolor": "white",
            "showbackground": true,
            "ticks": "",
            "zerolinecolor": "white"
           },
           "zaxis": {
            "backgroundcolor": "#E5ECF6",
            "gridcolor": "white",
            "gridwidth": 2,
            "linecolor": "white",
            "showbackground": true,
            "ticks": "",
            "zerolinecolor": "white"
           }
          },
          "shapedefaults": {
           "line": {
            "color": "#2a3f5f"
           }
          },
          "ternary": {
           "aaxis": {
            "gridcolor": "white",
            "linecolor": "white",
            "ticks": ""
           },
           "baxis": {
            "gridcolor": "white",
            "linecolor": "white",
            "ticks": ""
           },
           "bgcolor": "#E5ECF6",
           "caxis": {
            "gridcolor": "white",
            "linecolor": "white",
            "ticks": ""
           }
          },
          "title": {
           "x": 0.05
          },
          "xaxis": {
           "automargin": true,
           "gridcolor": "white",
           "linecolor": "white",
           "ticks": "",
           "title": {
            "standoff": 15
           },
           "zerolinecolor": "white",
           "zerolinewidth": 2
          },
          "yaxis": {
           "automargin": true,
           "gridcolor": "white",
           "linecolor": "white",
           "ticks": "",
           "title": {
            "standoff": 15
           },
           "zerolinecolor": "white",
           "zerolinewidth": 2
          }
         }
        },
        "title": {
         "text": "Countries' contributions to GHG emission in year 2023"
        },
        "width": 1100
       }
      }
     },
     "metadata": {},
     "output_type": "display_data"
    },
    {
     "data": {
      "application/vnd.plotly.v1+json": {
       "config": {
        "plotlyServerURL": "https://plot.ly"
       },
       "data": [
        {
         "branchvalues": "total",
         "customdata": [
          [
           "Middle East & North Africa"
          ],
          [
           "East Asia & Pacific"
          ],
          [
           "Europe & Central Asia"
          ],
          [
           "Middle East & North Africa"
          ],
          [
           "Sub-Saharan Africa"
          ],
          [
           "Sub-Saharan Africa"
          ],
          [
           "East Asia & Pacific"
          ],
          [
           "Sub-Saharan Africa"
          ],
          [
           "Sub-Saharan Africa"
          ],
          [
           "Europe & Central Asia"
          ],
          [
           "Sub-Saharan Africa"
          ],
          [
           "Sub-Saharan Africa"
          ],
          [
           "Latin America & Caribbean"
          ],
          [
           "Sub-Saharan Africa"
          ],
          [
           "Europe & Central Asia"
          ],
          [
           "East Asia & Pacific"
          ],
          [
           "East Asia & Pacific"
          ],
          [
           "East Asia & Pacific"
          ],
          [
           "Sub-Saharan Africa"
          ],
          [
           "South Asia"
          ],
          [
           "Sub-Saharan Africa"
          ],
          [
           "Latin America & Caribbean"
          ],
          [
           "East Asia & Pacific"
          ],
          [
           "Latin America & Caribbean"
          ],
          [
           "East Asia & Pacific"
          ],
          [
           "East Asia & Pacific"
          ],
          [
           "East Asia & Pacific"
          ],
          [
           "Europe & Central Asia"
          ],
          [
           "South Asia"
          ],
          [
           "Middle East & North Africa"
          ],
          [
           "Europe & Central Asia"
          ],
          [
           "Europe & Central Asia"
          ],
          [
           "Middle East & North Africa"
          ],
          [
           "Latin America & Caribbean"
          ],
          [
           "Sub-Saharan Africa"
          ],
          [
           "Europe & Central Asia"
          ],
          [
           "Sub-Saharan Africa"
          ],
          [
           "Middle East & North Africa"
          ],
          [
           "Sub-Saharan Africa"
          ],
          [
           "Latin America & Caribbean"
          ],
          [
           "Middle East & North Africa"
          ],
          [
           "Sub-Saharan Africa"
          ],
          [
           "Europe & Central Asia"
          ],
          [
           "East Asia & Pacific"
          ],
          [
           "Europe & Central Asia"
          ],
          [
           "Latin America & Caribbean"
          ],
          [
           "East Asia & Pacific"
          ],
          [
           "International Aviation and Shipping"
          ],
          [
           "Latin America & Caribbean"
          ],
          [
           "East Asia & Pacific"
          ],
          [
           "Sub-Saharan Africa"
          ],
          [
           "Europe & Central Asia"
          ],
          [
           "East Asia & Pacific"
          ],
          [
           "Middle East & North Africa"
          ],
          [
           "Europe & Central Asia"
          ],
          [
           "Sub-Saharan Africa"
          ],
          [
           "Latin America & Caribbean"
          ],
          [
           "Latin America & Caribbean"
          ],
          [
           "East Asia & Pacific"
          ],
          [
           "Europe & Central Asia"
          ],
          [
           "Latin America & Caribbean"
          ],
          [
           "Middle East & North Africa"
          ],
          [
           "Latin America & Caribbean"
          ],
          [
           "Sub-Saharan Africa"
          ],
          [
           "Middle East & North Africa"
          ],
          [
           "Sub-Saharan Africa"
          ],
          [
           "Latin America & Caribbean"
          ],
          [
           "Europe & Central Asia"
          ],
          [
           "Middle East & North Africa"
          ],
          [
           "East Asia & Pacific"
          ],
          [
           "Latin America & Caribbean"
          ],
          [
           "Sub-Saharan Africa"
          ],
          [
           "Sub-Saharan Africa"
          ],
          [
           "Europe & Central Asia"
          ],
          [
           "Europe & Central Asia"
          ],
          [
           "Europe & Central Asia"
          ],
          [
           "South Asia"
          ],
          [
           "Latin America & Caribbean"
          ],
          [
           "North America"
          ],
          [
           "Middle East & North Africa"
          ],
          [
           "Middle East & North Africa"
          ],
          [
           "North America"
          ],
          [
           "Latin America & Caribbean"
          ],
          [
           "Europe & Central Asia"
          ],
          [
           "Sub-Saharan Africa"
          ],
          [
           "Latin America & Caribbean"
          ],
          [
           "Europe & Central Asia"
          ],
          [
           "Europe & Central Asia"
          ],
          [
           "Latin America & Caribbean"
          ],
          [
           "North America"
          ],
          [
           "Latin America & Caribbean"
          ],
          [
           "Europe & Central Asia"
          ],
          [
           "South Asia"
          ],
          [
           "Europe & Central Asia"
          ],
          [
           "Sub-Saharan Africa"
          ],
          [
           "Sub-Saharan Africa"
          ],
          [
           "East Asia & Pacific"
          ],
          [
           "Europe & Central Asia"
          ],
          [
           "East Asia & Pacific"
          ],
          [
           "Middle East & North Africa"
          ],
          [
           "Europe & Central Asia"
          ],
          [
           "South Asia"
          ],
          [
           "Europe & Central Asia"
          ],
          [
           "Latin America & Caribbean"
          ],
          [
           "Latin America & Caribbean"
          ],
          [
           "Europe & Central Asia"
          ],
          [
           "Sub-Saharan Africa"
          ],
          [
           "Latin America & Caribbean"
          ],
          [
           "Latin America & Caribbean"
          ],
          [
           "Sub-Saharan Africa"
          ],
          [
           "Latin America & Caribbean"
          ],
          [
           "Latin America & Caribbean"
          ],
          [
           "Europe & Central Asia"
          ],
          [
           "East Asia & Pacific"
          ],
          [
           "Sub-Saharan Africa"
          ],
          [
           "Latin America & Caribbean"
          ],
          [
           "Sub-Saharan Africa"
          ],
          [
           "Europe & Central Asia"
          ],
          [
           "Europe & Central Asia"
          ],
          [
           "Sub-Saharan Africa"
          ],
          [
           "Latin America & Caribbean"
          ],
          [
           "Latin America & Caribbean"
          ],
          [
           "Europe & Central Asia"
          ],
          [
           "Latin America & Caribbean"
          ],
          [
           "South Asia"
          ],
          [
           "Sub-Saharan Africa"
          ],
          [
           "Latin America & Caribbean"
          ],
          [
           "Europe & Central Asia"
          ],
          [
           "Latin America & Caribbean"
          ],
          [
           "East Asia & Pacific"
          ],
          [
           "Middle East & North Africa"
          ],
          [
           "Sub-Saharan Africa"
          ],
          [
           "Europe & Central Asia"
          ],
          [
           "Sub-Saharan Africa"
          ],
          [
           "Sub-Saharan Africa"
          ],
          [
           "Middle East & North Africa"
          ],
          [
           "Latin America & Caribbean"
          ],
          [
           "Middle East & North Africa"
          ],
          [
           "Latin America & Caribbean"
          ],
          [
           "North America"
          ],
          [
           "Latin America & Caribbean"
          ],
          [
           "Middle East & North Africa"
          ],
          [
           "Sub-Saharan Africa"
          ],
          [
           "East Asia & Pacific"
          ],
          [
           "Sub-Saharan Africa"
          ],
          [
           "International Aviation and Shipping"
          ],
          [
           "Europe & Central Asia"
          ],
          [
           "Europe & Central Asia"
          ],
          [
           "Middle East & North Africa"
          ],
          [
           "Sub-Saharan Africa"
          ],
          [
           "Middle East & North Africa"
          ],
          [
           "Sub-Saharan Africa"
          ],
          [
           "Latin America & Caribbean"
          ],
          [
           "Europe & Central Asia"
          ],
          [
           "East Asia & Pacific"
          ],
          [
           "Europe & Central Asia"
          ],
          [
           "Sub-Saharan Africa"
          ],
          [
           "Sub-Saharan Africa"
          ],
          [
           "Latin America & Caribbean"
          ],
          [
           "South Asia"
          ],
          [
           "East Asia & Pacific"
          ],
          [
           "Latin America & Caribbean"
          ],
          [
           "East Asia & Pacific"
          ],
          [
           "Europe & Central Asia"
          ],
          [
           "Europe & Central Asia"
          ],
          [
           "Europe & Central Asia"
          ],
          [
           "Europe & Central Asia"
          ],
          [
           "Sub-Saharan Africa"
          ],
          [
           "Latin America & Caribbean"
          ],
          [
           "Europe & Central Asia"
          ],
          [
           "Europe & Central Asia"
          ],
          [
           "South Asia"
          ],
          [
           "Middle East & North Africa"
          ],
          [
           "Sub-Saharan Africa"
          ],
          [
           "Middle East & North Africa"
          ],
          [
           "East Asia & Pacific"
          ],
          [
           "Sub-Saharan Africa"
          ],
          [
           "Sub-Saharan Africa"
          ],
          [
           "Europe & Central Asia"
          ],
          [
           "East Asia & Pacific"
          ],
          [
           "Sub-Saharan Africa"
          ],
          [
           "Latin America & Caribbean"
          ],
          [
           "Sub-Saharan Africa"
          ],
          [
           "Latin America & Caribbean"
          ],
          [
           "Europe & Central Asia"
          ],
          [
           "East Asia & Pacific"
          ],
          [
           "Europe & Central Asia"
          ],
          [
           "Sub-Saharan Africa"
          ],
          [
           "East Asia & Pacific"
          ],
          [
           "Europe & Central Asia"
          ],
          [
           "Europe & Central Asia"
          ],
          [
           "Latin America & Caribbean"
          ],
          [
           "Europe & Central Asia"
          ],
          [
           "Latin America & Caribbean"
          ],
          [
           "East Asia & Pacific"
          ],
          [
           "Latin America & Caribbean"
          ],
          [
           "Europe & Central Asia"
          ],
          [
           "Latin America & Caribbean"
          ],
          [
           "Sub-Saharan Africa"
          ],
          [
           "East Asia & Pacific"
          ],
          [
           "Sub-Saharan Africa"
          ],
          [
           "Latin America & Caribbean"
          ],
          [
           "East Asia & Pacific"
          ],
          [
           "Sub-Saharan Africa"
          ],
          [
           "Europe & Central Asia"
          ],
          [
           "Europe & Central Asia"
          ],
          [
           "Sub-Saharan Africa"
          ],
          [
           "East Asia & Pacific"
          ],
          [
           "East Asia & Pacific"
          ],
          [
           "Sub-Saharan Africa"
          ],
          [
           "East Asia & Pacific"
          ],
          [
           "Europe & Central Asia"
          ],
          [
           "International Aviation and Shipping"
          ],
          [
           "Latin America & Caribbean"
          ],
          [
           "Middle East & North Africa"
          ],
          [
           "North America"
          ],
          [
           "South Asia"
          ],
          [
           "Sub-Saharan Africa"
          ],
          [
           "(?)"
          ]
         ],
         "domain": {
          "x": [
           0,
           1
          ],
          "y": [
           0,
           1
          ]
         },
         "hovertemplate": "labels=%{label}<br>2023=%{value}<br>parent=%{parent}<br>id=%{id}<br>Region=%{customdata[0]}<extra></extra>",
         "ids": [
          "Global Total/Middle East & North Africa/Kuwait",
          "Global Total/East Asia & Pacific/Timor-Leste",
          "Global Total/Europe & Central Asia/Poland",
          "Global Total/Middle East & North Africa/Morocco",
          "Global Total/Sub-Saharan Africa/Burkina Faso",
          "Global Total/Sub-Saharan Africa/Mozambique",
          "Global Total/East Asia & Pacific/New Zealand",
          "Global Total/Sub-Saharan Africa/Niger",
          "Global Total/Sub-Saharan Africa/Central African Republic",
          "Global Total/Europe & Central Asia/Slovakia",
          "Global Total/Sub-Saharan Africa/Sierra Leone",
          "Global Total/Sub-Saharan Africa/Comoros",
          "Global Total/Latin America & Caribbean/Falkland Islands",
          "Global Total/Sub-Saharan Africa/Réunion",
          "Global Total/Europe & Central Asia/Romania",
          "Global Total/East Asia & Pacific/Japan",
          "Global Total/East Asia & Pacific/Palau",
          "Global Total/East Asia & Pacific/Philippines",
          "Global Total/Sub-Saharan Africa/Togo",
          "Global Total/South Asia/Maldives",
          "Global Total/Sub-Saharan Africa/Tanzania",
          "Global Total/Latin America & Caribbean/Haiti",
          "Global Total/East Asia & Pacific/Viet Nam",
          "Global Total/Latin America & Caribbean/Venezuela",
          "Global Total/East Asia & Pacific/Vanuatu",
          "Global Total/East Asia & Pacific/Kiribati",
          "Global Total/East Asia & Pacific/Laos",
          "Global Total/Europe & Central Asia/Azerbaijan",
          "Global Total/South Asia/India",
          "Global Total/Middle East & North Africa/Lebanon",
          "Global Total/Europe & Central Asia/Portugal",
          "Global Total/Europe & Central Asia/Turkmenistan",
          "Global Total/Middle East & North Africa/Malta",
          "Global Total/Latin America & Caribbean/Guatemala",
          "Global Total/Sub-Saharan Africa/Eritrea",
          "Global Total/Europe & Central Asia/Estonia",
          "Global Total/Sub-Saharan Africa/Kenya",
          "Global Total/Middle East & North Africa/Oman",
          "Global Total/Sub-Saharan Africa/Ethiopia",
          "Global Total/Latin America & Caribbean/Grenada",
          "Global Total/Middle East & North Africa/Israel and Palestine, State of",
          "Global Total/Sub-Saharan Africa/Madagascar",
          "Global Total/Europe & Central Asia/Iceland",
          "Global Total/East Asia & Pacific/Fiji",
          "Global Total/Europe & Central Asia/Finland",
          "Global Total/Latin America & Caribbean/Mexico",
          "Global Total/East Asia & Pacific/Malaysia",
          "Global Total/International Aviation and Shipping/International Aviation",
          "Global Total/Latin America & Caribbean/French Guiana",
          "Global Total/East Asia & Pacific/French Polynesia",
          "Global Total/Sub-Saharan Africa/Malawi",
          "Global Total/Europe & Central Asia/Georgia",
          "Global Total/East Asia & Pacific/Hong Kong",
          "Global Total/Middle East & North Africa/Iraq",
          "Global Total/Europe & Central Asia/Norway",
          "Global Total/Sub-Saharan Africa/Côte d’Ivoire",
          "Global Total/Latin America & Caribbean/Puerto Rico",
          "Global Total/Latin America & Caribbean/Antigua and Barbuda",
          "Global Total/East Asia & Pacific/Australia",
          "Global Total/Europe & Central Asia/United Kingdom",
          "Global Total/Latin America & Caribbean/Bahamas",
          "Global Total/Middle East & North Africa/Bahrain",
          "Global Total/Latin America & Caribbean/Barbados",
          "Global Total/Sub-Saharan Africa/Uganda",
          "Global Total/Middle East & North Africa/Tunisia",
          "Global Total/Sub-Saharan Africa/Benin",
          "Global Total/Latin America & Caribbean/Bolivia",
          "Global Total/Europe & Central Asia/Bosnia and Herzegovina",
          "Global Total/Middle East & North Africa/Djibouti",
          "Global Total/East Asia & Pacific/Thailand",
          "Global Total/Latin America & Caribbean/Suriname",
          "Global Total/Sub-Saharan Africa/Sudan and South Sudan",
          "Global Total/Sub-Saharan Africa/The Gambia",
          "Global Total/Europe & Central Asia/Russia",
          "Global Total/Europe & Central Asia/Czechia",
          "Global Total/Europe & Central Asia/Cyprus",
          "Global Total/South Asia/Sri Lanka",
          "Global Total/Latin America & Caribbean/Saint Lucia",
          "Global Total/North America/Saint Pierre and Miquelon",
          "Global Total/Middle East & North Africa/Saudi Arabia",
          "Global Total/Middle East & North Africa/Jordan",
          "Global Total/North America/Canada",
          "Global Total/Latin America & Caribbean/Anguilla",
          "Global Total/Europe & Central Asia/Serbia and Montenegro",
          "Global Total/Sub-Saharan Africa/Mauritius",
          "Global Total/Latin America & Caribbean/Peru",
          "Global Total/Europe & Central Asia/Uzbekistan",
          "Global Total/Europe & Central Asia/Kyrgyzstan",
          "Global Total/Latin America & Caribbean/Uruguay",
          "Global Total/North America/United States",
          "Global Total/Latin America & Caribbean/Paraguay",
          "Global Total/Europe & Central Asia/Lithuania",
          "Global Total/South Asia/Nepal",
          "Global Total/Europe & Central Asia/Ukraine",
          "Global Total/Sub-Saharan Africa/São Tomé and Príncipe",
          "Global Total/Sub-Saharan Africa/Rwanda",
          "Global Total/East Asia & Pacific/Solomon Islands",
          "Global Total/Europe & Central Asia/North Macedonia",
          "Global Total/East Asia & Pacific/Tonga",
          "Global Total/Middle East & North Africa/Qatar",
          "Global Total/Europe & Central Asia/Spain and Andorra",
          "Global Total/South Asia/Afghanistan",
          "Global Total/Europe & Central Asia/Croatia",
          "Global Total/Latin America & Caribbean/Ecuador",
          "Global Total/Latin America & Caribbean/Dominica",
          "Global Total/Europe & Central Asia/Denmark",
          "Global Total/Sub-Saharan Africa/Ghana",
          "Global Total/Latin America & Caribbean/Curaçao",
          "Global Total/Latin America & Caribbean/Cuba",
          "Global Total/Sub-Saharan Africa/Congo",
          "Global Total/Latin America & Caribbean/Cayman Islands",
          "Global Total/Latin America & Caribbean/Guadeloupe",
          "Global Total/Europe & Central Asia/Bulgaria",
          "Global Total/East Asia & Pacific/Brunei",
          "Global Total/Sub-Saharan Africa/Guinea-Bissau",
          "Global Total/Latin America & Caribbean/Guyana",
          "Global Total/Sub-Saharan Africa/Guinea",
          "Global Total/Europe & Central Asia/Hungary",
          "Global Total/Europe & Central Asia/Italy, San Marino and the Holy See",
          "Global Total/Sub-Saharan Africa/Angola",
          "Global Total/Latin America & Caribbean/Argentina",
          "Global Total/Latin America & Caribbean/Honduras",
          "Global Total/Europe & Central Asia/Austria",
          "Global Total/Latin America & Caribbean/Aruba",
          "Global Total/South Asia/Bhutan",
          "Global Total/Sub-Saharan Africa/Botswana",
          "Global Total/Latin America & Caribbean/British Virgin Islands",
          "Global Total/Europe & Central Asia/Faroes",
          "Global Total/Latin America & Caribbean/Trinidad and Tobago",
          "Global Total/East Asia & Pacific/Samoa",
          "Global Total/Middle East & North Africa/Syria",
          "Global Total/Sub-Saharan Africa/Saint Helena, Ascension and Tristan da Cunha",
          "Global Total/Europe & Central Asia/Armenia",
          "Global Total/Sub-Saharan Africa/Democratic Republic of the Congo",
          "Global Total/Sub-Saharan Africa/Equatorial Guinea",
          "Global Total/Middle East & North Africa/Western Sahara",
          "Global Total/Latin America & Caribbean/Dominican Republic",
          "Global Total/Middle East & North Africa/Egypt",
          "Global Total/Latin America & Caribbean/Panama",
          "Global Total/North America/Bermuda",
          "Global Total/Latin America & Caribbean/Jamaica",
          "Global Total/Middle East & North Africa/Libya",
          "Global Total/Sub-Saharan Africa/Mali",
          "Global Total/East Asia & Pacific/Mongolia",
          "Global Total/Sub-Saharan Africa/Lesotho",
          "Global Total/International Aviation and Shipping/International Shipping",
          "Global Total/Europe & Central Asia/Latvia",
          "Global Total/Europe & Central Asia/Ireland",
          "Global Total/Middle East & North Africa/Iran",
          "Global Total/Sub-Saharan Africa/Cameroon",
          "Global Total/Middle East & North Africa/United Arab Emirates",
          "Global Total/Sub-Saharan Africa/South Africa",
          "Global Total/Latin America & Caribbean/Brazil",
          "Global Total/Europe & Central Asia/Albania",
          "Global Total/East Asia & Pacific/Papua New Guinea",
          "Global Total/Europe & Central Asia/Luxembourg",
          "Global Total/Sub-Saharan Africa/Mauritania",
          "Global Total/Sub-Saharan Africa/Burundi",
          "Global Total/Latin America & Caribbean/Belize",
          "Global Total/South Asia/Pakistan",
          "Global Total/East Asia & Pacific/Indonesia",
          "Global Total/Latin America & Caribbean/Martinique",
          "Global Total/East Asia & Pacific/Taiwan",
          "Global Total/Europe & Central Asia/Tajikistan",
          "Global Total/Europe & Central Asia/Sweden",
          "Global Total/Europe & Central Asia/Switzerland and Liechtenstein",
          "Global Total/Europe & Central Asia/Belgium",
          "Global Total/Sub-Saharan Africa/Liberia",
          "Global Total/Latin America & Caribbean/Turks and Caicos Islands",
          "Global Total/Europe & Central Asia/Türkiye",
          "Global Total/Europe & Central Asia/Belarus",
          "Global Total/South Asia/Bangladesh",
          "Global Total/Middle East & North Africa/Algeria",
          "Global Total/Sub-Saharan Africa/Zambia",
          "Global Total/Middle East & North Africa/Yemen",
          "Global Total/East Asia & Pacific/Macao",
          "Global Total/Sub-Saharan Africa/Cabo Verde",
          "Global Total/Sub-Saharan Africa/Eswatini",
          "Global Total/Europe & Central Asia/France and Monaco",
          "Global Total/East Asia & Pacific/North Korea",
          "Global Total/Sub-Saharan Africa/Nigeria",
          "Global Total/Latin America & Caribbean/El Salvador",
          "Global Total/Sub-Saharan Africa/Gabon",
          "Global Total/Latin America & Caribbean/Nicaragua",
          "Global Total/Europe & Central Asia/Germany",
          "Global Total/East Asia & Pacific/New Caledonia",
          "Global Total/Europe & Central Asia/Netherlands",
          "Global Total/Sub-Saharan Africa/Namibia",
          "Global Total/East Asia & Pacific/Myanmar/Burma",
          "Global Total/Europe & Central Asia/Gibraltar",
          "Global Total/Europe & Central Asia/Kazakhstan",
          "Global Total/Latin America & Caribbean/Costa Rica",
          "Global Total/Europe & Central Asia/Greece",
          "Global Total/Latin America & Caribbean/Saint Kitts and Nevis",
          "Global Total/East Asia & Pacific/Cook Islands",
          "Global Total/Latin America & Caribbean/Saint Vincent and the Grenadines",
          "Global Total/Europe & Central Asia/Moldova",
          "Global Total/Latin America & Caribbean/Colombia",
          "Global Total/Sub-Saharan Africa/Senegal",
          "Global Total/East Asia & Pacific/China",
          "Global Total/Sub-Saharan Africa/Seychelles",
          "Global Total/Latin America & Caribbean/Chile",
          "Global Total/East Asia & Pacific/Singapore",
          "Global Total/Sub-Saharan Africa/Chad",
          "Global Total/Europe & Central Asia/Slovenia",
          "Global Total/Europe & Central Asia/Greenland",
          "Global Total/Sub-Saharan Africa/Somalia",
          "Global Total/East Asia & Pacific/South Korea",
          "Global Total/East Asia & Pacific/Cambodia",
          "Global Total/Sub-Saharan Africa/Zimbabwe",
          "Global Total/East Asia & Pacific",
          "Global Total/Europe & Central Asia",
          "Global Total/International Aviation and Shipping",
          "Global Total/Latin America & Caribbean",
          "Global Total/Middle East & North Africa",
          "Global Total/North America",
          "Global Total/South Asia",
          "Global Total/Sub-Saharan Africa",
          "Global Total"
         ],
         "labels": [
          "Kuwait",
          "Timor-Leste",
          "Poland",
          "Morocco",
          "Burkina Faso",
          "Mozambique",
          "New Zealand",
          "Niger",
          "Central African Republic",
          "Slovakia",
          "Sierra Leone",
          "Comoros",
          "Falkland Islands",
          "Réunion",
          "Romania",
          "Japan",
          "Palau",
          "Philippines",
          "Togo",
          "Maldives",
          "Tanzania",
          "Haiti",
          "Viet Nam",
          "Venezuela",
          "Vanuatu",
          "Kiribati",
          "Laos",
          "Azerbaijan",
          "India",
          "Lebanon",
          "Portugal",
          "Turkmenistan",
          "Malta",
          "Guatemala",
          "Eritrea",
          "Estonia",
          "Kenya",
          "Oman",
          "Ethiopia",
          "Grenada",
          "Israel and Palestine, State of",
          "Madagascar",
          "Iceland",
          "Fiji",
          "Finland",
          "Mexico",
          "Malaysia",
          "International Aviation",
          "French Guiana",
          "French Polynesia",
          "Malawi",
          "Georgia",
          "Hong Kong",
          "Iraq",
          "Norway",
          "Côte d’Ivoire",
          "Puerto Rico",
          "Antigua and Barbuda",
          "Australia",
          "United Kingdom",
          "Bahamas",
          "Bahrain",
          "Barbados",
          "Uganda",
          "Tunisia",
          "Benin",
          "Bolivia",
          "Bosnia and Herzegovina",
          "Djibouti",
          "Thailand",
          "Suriname",
          "Sudan and South Sudan",
          "The Gambia",
          "Russia",
          "Czechia",
          "Cyprus",
          "Sri Lanka",
          "Saint Lucia",
          "Saint Pierre and Miquelon",
          "Saudi Arabia",
          "Jordan",
          "Canada",
          "Anguilla",
          "Serbia and Montenegro",
          "Mauritius",
          "Peru",
          "Uzbekistan",
          "Kyrgyzstan",
          "Uruguay",
          "United States",
          "Paraguay",
          "Lithuania",
          "Nepal",
          "Ukraine",
          "São Tomé and Príncipe",
          "Rwanda",
          "Solomon Islands",
          "North Macedonia",
          "Tonga",
          "Qatar",
          "Spain and Andorra",
          "Afghanistan",
          "Croatia",
          "Ecuador",
          "Dominica",
          "Denmark",
          "Ghana",
          "Curaçao",
          "Cuba",
          "Congo",
          "Cayman Islands",
          "Guadeloupe",
          "Bulgaria",
          "Brunei",
          "Guinea-Bissau",
          "Guyana",
          "Guinea",
          "Hungary",
          "Italy, San Marino and the Holy See",
          "Angola",
          "Argentina",
          "Honduras",
          "Austria",
          "Aruba",
          "Bhutan",
          "Botswana",
          "British Virgin Islands",
          "Faroes",
          "Trinidad and Tobago",
          "Samoa",
          "Syria",
          "Saint Helena, Ascension and Tristan da Cunha",
          "Armenia",
          "Democratic Republic of the Congo",
          "Equatorial Guinea",
          "Western Sahara",
          "Dominican Republic",
          "Egypt",
          "Panama",
          "Bermuda",
          "Jamaica",
          "Libya",
          "Mali",
          "Mongolia",
          "Lesotho",
          "International Shipping",
          "Latvia",
          "Ireland",
          "Iran",
          "Cameroon",
          "United Arab Emirates",
          "South Africa",
          "Brazil",
          "Albania",
          "Papua New Guinea",
          "Luxembourg",
          "Mauritania",
          "Burundi",
          "Belize",
          "Pakistan",
          "Indonesia",
          "Martinique",
          "Taiwan",
          "Tajikistan",
          "Sweden",
          "Switzerland and Liechtenstein",
          "Belgium",
          "Liberia",
          "Turks and Caicos Islands",
          "Türkiye",
          "Belarus",
          "Bangladesh",
          "Algeria",
          "Zambia",
          "Yemen",
          "Macao",
          "Cabo Verde",
          "Eswatini",
          "France and Monaco",
          "North Korea",
          "Nigeria",
          "El Salvador",
          "Gabon",
          "Nicaragua",
          "Germany",
          "New Caledonia",
          "Netherlands",
          "Namibia",
          "Myanmar/Burma",
          "Gibraltar",
          "Kazakhstan",
          "Costa Rica",
          "Greece",
          "Saint Kitts and Nevis",
          "Cook Islands",
          "Saint Vincent and the Grenadines",
          "Moldova",
          "Colombia",
          "Senegal",
          "China",
          "Seychelles",
          "Chile",
          "Singapore",
          "Chad",
          "Slovenia",
          "Greenland",
          "Somalia",
          "South Korea",
          "Cambodia",
          "Zimbabwe",
          "East Asia & Pacific",
          "Europe & Central Asia",
          "International Aviation and Shipping",
          "Latin America & Caribbean",
          "Middle East & North Africa",
          "North America",
          "South Asia",
          "Sub-Saharan Africa",
          "Global Total"
         ],
         "marker": {
          "colors": [
           "#00B1EA",
           "#003299",
           "#FFB400",
           "#00B1EA",
           "#077C1D",
           "#077C1D",
           "#003299",
           "#077C1D",
           "#077C1D",
           "#FFB400",
           "#077C1D",
           "#077C1D",
           "#8139C6",
           "#077C1D",
           "#FFB400",
           "#003299",
           "#003299",
           "#003299",
           "#077C1D",
           "#65B800",
           "#077C1D",
           "#8139C6",
           "#003299",
           "#8139C6",
           "#003299",
           "#003299",
           "#003299",
           "#FFB400",
           "#65B800",
           "#00B1EA",
           "#FFB400",
           "#FFB400",
           "#00B1EA",
           "#8139C6",
           "#077C1D",
           "#FFB400",
           "#077C1D",
           "#00B1EA",
           "#077C1D",
           "#8139C6",
           "#00B1EA",
           "#077C1D",
           "#FFB400",
           "#003299",
           "#FFB400",
           "#8139C6",
           "#003299",
           "#FF97FF",
           "#8139C6",
           "#003299",
           "#077C1D",
           "#FFB400",
           "#003299",
           "#00B1EA",
           "#FFB400",
           "#077C1D",
           "#8139C6",
           "#8139C6",
           "#003299",
           "#FFB400",
           "#8139C6",
           "#00B1EA",
           "#8139C6",
           "#077C1D",
           "#00B1EA",
           "#077C1D",
           "#8139C6",
           "#FFB400",
           "#00B1EA",
           "#003299",
           "#8139C6",
           "#077C1D",
           "#077C1D",
           "#FFB400",
           "#FFB400",
           "#FFB400",
           "#65B800",
           "#8139C6",
           "#FF4B00",
           "#00B1EA",
           "#00B1EA",
           "#FF4B00",
           "#8139C6",
           "#FFB400",
           "#077C1D",
           "#8139C6",
           "#FFB400",
           "#FFB400",
           "#8139C6",
           "#FF4B00",
           "#8139C6",
           "#FFB400",
           "#65B800",
           "#FFB400",
           "#077C1D",
           "#077C1D",
           "#003299",
           "#FFB400",
           "#003299",
           "#00B1EA",
           "#FFB400",
           "#65B800",
           "#FFB400",
           "#8139C6",
           "#8139C6",
           "#FFB400",
           "#077C1D",
           "#8139C6",
           "#8139C6",
           "#077C1D",
           "#8139C6",
           "#8139C6",
           "#FFB400",
           "#003299",
           "#077C1D",
           "#8139C6",
           "#077C1D",
           "#FFB400",
           "#FFB400",
           "#077C1D",
           "#8139C6",
           "#8139C6",
           "#FFB400",
           "#8139C6",
           "#65B800",
           "#077C1D",
           "#8139C6",
           "#FFB400",
           "#8139C6",
           "#003299",
           "#00B1EA",
           "#077C1D",
           "#FFB400",
           "#077C1D",
           "#077C1D",
           "#00B1EA",
           "#8139C6",
           "#00B1EA",
           "#8139C6",
           "#FF4B00",
           "#8139C6",
           "#00B1EA",
           "#077C1D",
           "#003299",
           "#077C1D",
           "#FF97FF",
           "#FFB400",
           "#FFB400",
           "#00B1EA",
           "#077C1D",
           "#00B1EA",
           "#077C1D",
           "#8139C6",
           "#FFB400",
           "#003299",
           "#FFB400",
           "#077C1D",
           "#077C1D",
           "#8139C6",
           "#65B800",
           "#003299",
           "#8139C6",
           "#003299",
           "#FFB400",
           "#FFB400",
           "#FFB400",
           "#FFB400",
           "#077C1D",
           "#8139C6",
           "#FFB400",
           "#FFB400",
           "#65B800",
           "#00B1EA",
           "#077C1D",
           "#00B1EA",
           "#003299",
           "#077C1D",
           "#077C1D",
           "#FFB400",
           "#003299",
           "#077C1D",
           "#8139C6",
           "#077C1D",
           "#8139C6",
           "#FFB400",
           "#003299",
           "#FFB400",
           "#077C1D",
           "#003299",
           "#FFB400",
           "#FFB400",
           "#8139C6",
           "#FFB400",
           "#8139C6",
           "#003299",
           "#8139C6",
           "#FFB400",
           "#8139C6",
           "#077C1D",
           "#003299",
           "#077C1D",
           "#8139C6",
           "#003299",
           "#077C1D",
           "#FFB400",
           "#FFB400",
           "#077C1D",
           "#003299",
           "#003299",
           "#077C1D",
           "#003299",
           "#FFB400",
           "#FF97FF",
           "#8139C6",
           "#00B1EA",
           "#FF4B00",
           "#65B800",
           "#077C1D",
           "lightgrey"
          ]
         },
         "name": "",
         "parents": [
          "Global Total/Middle East & North Africa",
          "Global Total/East Asia & Pacific",
          "Global Total/Europe & Central Asia",
          "Global Total/Middle East & North Africa",
          "Global Total/Sub-Saharan Africa",
          "Global Total/Sub-Saharan Africa",
          "Global Total/East Asia & Pacific",
          "Global Total/Sub-Saharan Africa",
          "Global Total/Sub-Saharan Africa",
          "Global Total/Europe & Central Asia",
          "Global Total/Sub-Saharan Africa",
          "Global Total/Sub-Saharan Africa",
          "Global Total/Latin America & Caribbean",
          "Global Total/Sub-Saharan Africa",
          "Global Total/Europe & Central Asia",
          "Global Total/East Asia & Pacific",
          "Global Total/East Asia & Pacific",
          "Global Total/East Asia & Pacific",
          "Global Total/Sub-Saharan Africa",
          "Global Total/South Asia",
          "Global Total/Sub-Saharan Africa",
          "Global Total/Latin America & Caribbean",
          "Global Total/East Asia & Pacific",
          "Global Total/Latin America & Caribbean",
          "Global Total/East Asia & Pacific",
          "Global Total/East Asia & Pacific",
          "Global Total/East Asia & Pacific",
          "Global Total/Europe & Central Asia",
          "Global Total/South Asia",
          "Global Total/Middle East & North Africa",
          "Global Total/Europe & Central Asia",
          "Global Total/Europe & Central Asia",
          "Global Total/Middle East & North Africa",
          "Global Total/Latin America & Caribbean",
          "Global Total/Sub-Saharan Africa",
          "Global Total/Europe & Central Asia",
          "Global Total/Sub-Saharan Africa",
          "Global Total/Middle East & North Africa",
          "Global Total/Sub-Saharan Africa",
          "Global Total/Latin America & Caribbean",
          "Global Total/Middle East & North Africa",
          "Global Total/Sub-Saharan Africa",
          "Global Total/Europe & Central Asia",
          "Global Total/East Asia & Pacific",
          "Global Total/Europe & Central Asia",
          "Global Total/Latin America & Caribbean",
          "Global Total/East Asia & Pacific",
          "Global Total/International Aviation and Shipping",
          "Global Total/Latin America & Caribbean",
          "Global Total/East Asia & Pacific",
          "Global Total/Sub-Saharan Africa",
          "Global Total/Europe & Central Asia",
          "Global Total/East Asia & Pacific",
          "Global Total/Middle East & North Africa",
          "Global Total/Europe & Central Asia",
          "Global Total/Sub-Saharan Africa",
          "Global Total/Latin America & Caribbean",
          "Global Total/Latin America & Caribbean",
          "Global Total/East Asia & Pacific",
          "Global Total/Europe & Central Asia",
          "Global Total/Latin America & Caribbean",
          "Global Total/Middle East & North Africa",
          "Global Total/Latin America & Caribbean",
          "Global Total/Sub-Saharan Africa",
          "Global Total/Middle East & North Africa",
          "Global Total/Sub-Saharan Africa",
          "Global Total/Latin America & Caribbean",
          "Global Total/Europe & Central Asia",
          "Global Total/Middle East & North Africa",
          "Global Total/East Asia & Pacific",
          "Global Total/Latin America & Caribbean",
          "Global Total/Sub-Saharan Africa",
          "Global Total/Sub-Saharan Africa",
          "Global Total/Europe & Central Asia",
          "Global Total/Europe & Central Asia",
          "Global Total/Europe & Central Asia",
          "Global Total/South Asia",
          "Global Total/Latin America & Caribbean",
          "Global Total/North America",
          "Global Total/Middle East & North Africa",
          "Global Total/Middle East & North Africa",
          "Global Total/North America",
          "Global Total/Latin America & Caribbean",
          "Global Total/Europe & Central Asia",
          "Global Total/Sub-Saharan Africa",
          "Global Total/Latin America & Caribbean",
          "Global Total/Europe & Central Asia",
          "Global Total/Europe & Central Asia",
          "Global Total/Latin America & Caribbean",
          "Global Total/North America",
          "Global Total/Latin America & Caribbean",
          "Global Total/Europe & Central Asia",
          "Global Total/South Asia",
          "Global Total/Europe & Central Asia",
          "Global Total/Sub-Saharan Africa",
          "Global Total/Sub-Saharan Africa",
          "Global Total/East Asia & Pacific",
          "Global Total/Europe & Central Asia",
          "Global Total/East Asia & Pacific",
          "Global Total/Middle East & North Africa",
          "Global Total/Europe & Central Asia",
          "Global Total/South Asia",
          "Global Total/Europe & Central Asia",
          "Global Total/Latin America & Caribbean",
          "Global Total/Latin America & Caribbean",
          "Global Total/Europe & Central Asia",
          "Global Total/Sub-Saharan Africa",
          "Global Total/Latin America & Caribbean",
          "Global Total/Latin America & Caribbean",
          "Global Total/Sub-Saharan Africa",
          "Global Total/Latin America & Caribbean",
          "Global Total/Latin America & Caribbean",
          "Global Total/Europe & Central Asia",
          "Global Total/East Asia & Pacific",
          "Global Total/Sub-Saharan Africa",
          "Global Total/Latin America & Caribbean",
          "Global Total/Sub-Saharan Africa",
          "Global Total/Europe & Central Asia",
          "Global Total/Europe & Central Asia",
          "Global Total/Sub-Saharan Africa",
          "Global Total/Latin America & Caribbean",
          "Global Total/Latin America & Caribbean",
          "Global Total/Europe & Central Asia",
          "Global Total/Latin America & Caribbean",
          "Global Total/South Asia",
          "Global Total/Sub-Saharan Africa",
          "Global Total/Latin America & Caribbean",
          "Global Total/Europe & Central Asia",
          "Global Total/Latin America & Caribbean",
          "Global Total/East Asia & Pacific",
          "Global Total/Middle East & North Africa",
          "Global Total/Sub-Saharan Africa",
          "Global Total/Europe & Central Asia",
          "Global Total/Sub-Saharan Africa",
          "Global Total/Sub-Saharan Africa",
          "Global Total/Middle East & North Africa",
          "Global Total/Latin America & Caribbean",
          "Global Total/Middle East & North Africa",
          "Global Total/Latin America & Caribbean",
          "Global Total/North America",
          "Global Total/Latin America & Caribbean",
          "Global Total/Middle East & North Africa",
          "Global Total/Sub-Saharan Africa",
          "Global Total/East Asia & Pacific",
          "Global Total/Sub-Saharan Africa",
          "Global Total/International Aviation and Shipping",
          "Global Total/Europe & Central Asia",
          "Global Total/Europe & Central Asia",
          "Global Total/Middle East & North Africa",
          "Global Total/Sub-Saharan Africa",
          "Global Total/Middle East & North Africa",
          "Global Total/Sub-Saharan Africa",
          "Global Total/Latin America & Caribbean",
          "Global Total/Europe & Central Asia",
          "Global Total/East Asia & Pacific",
          "Global Total/Europe & Central Asia",
          "Global Total/Sub-Saharan Africa",
          "Global Total/Sub-Saharan Africa",
          "Global Total/Latin America & Caribbean",
          "Global Total/South Asia",
          "Global Total/East Asia & Pacific",
          "Global Total/Latin America & Caribbean",
          "Global Total/East Asia & Pacific",
          "Global Total/Europe & Central Asia",
          "Global Total/Europe & Central Asia",
          "Global Total/Europe & Central Asia",
          "Global Total/Europe & Central Asia",
          "Global Total/Sub-Saharan Africa",
          "Global Total/Latin America & Caribbean",
          "Global Total/Europe & Central Asia",
          "Global Total/Europe & Central Asia",
          "Global Total/South Asia",
          "Global Total/Middle East & North Africa",
          "Global Total/Sub-Saharan Africa",
          "Global Total/Middle East & North Africa",
          "Global Total/East Asia & Pacific",
          "Global Total/Sub-Saharan Africa",
          "Global Total/Sub-Saharan Africa",
          "Global Total/Europe & Central Asia",
          "Global Total/East Asia & Pacific",
          "Global Total/Sub-Saharan Africa",
          "Global Total/Latin America & Caribbean",
          "Global Total/Sub-Saharan Africa",
          "Global Total/Latin America & Caribbean",
          "Global Total/Europe & Central Asia",
          "Global Total/East Asia & Pacific",
          "Global Total/Europe & Central Asia",
          "Global Total/Sub-Saharan Africa",
          "Global Total/East Asia & Pacific",
          "Global Total/Europe & Central Asia",
          "Global Total/Europe & Central Asia",
          "Global Total/Latin America & Caribbean",
          "Global Total/Europe & Central Asia",
          "Global Total/Latin America & Caribbean",
          "Global Total/East Asia & Pacific",
          "Global Total/Latin America & Caribbean",
          "Global Total/Europe & Central Asia",
          "Global Total/Latin America & Caribbean",
          "Global Total/Sub-Saharan Africa",
          "Global Total/East Asia & Pacific",
          "Global Total/Sub-Saharan Africa",
          "Global Total/Latin America & Caribbean",
          "Global Total/East Asia & Pacific",
          "Global Total/Sub-Saharan Africa",
          "Global Total/Europe & Central Asia",
          "Global Total/Europe & Central Asia",
          "Global Total/Sub-Saharan Africa",
          "Global Total/East Asia & Pacific",
          "Global Total/East Asia & Pacific",
          "Global Total/Sub-Saharan Africa",
          "Global Total",
          "Global Total",
          "Global Total",
          "Global Total",
          "Global Total",
          "Global Total",
          "Global Total",
          "Global Total",
          ""
         ],
         "root": {
          "color": "lightgrey"
         },
         "type": "treemap",
         "values": [
          167.91576883104,
          2.0071829501919,
          363.79425000758,
          106.60223103187,
          34.456815083211,
          33.953984042408,
          84.209811532415,
          42.334092053639,
          12.502621395351,
          44.775610890682,
          6.9377160598998,
          0.76176779618891,
          0.17239134049142,
          2.9206981620469,
          105.85240058122,
          1041.0128248687,
          1.5016528321032,
          256.14715481705,
          10.612911987181,
          3.0879519663505,
          89.815439405641,
          13.656955798463,
          524.13346380418,
          152.38992311311,
          0.67021230161327,
          0.13017626101136,
          42.056212706049,
          62.550294041306,
          4133.5543557465,
          24.672324496902,
          53.004607295263,
          98.79411982866,
          2.0338652584277,
          43.981074467992,
          6.4018203690061,
          14.363974872585,
          107.97690921511,
          127.44302070563,
          170.03385065137,
          0.20040725685748,
          79.578174881426,
          33.150776404127,
          4.171936013462,
          3.4009927758626,
          43.45353679725,
          712.10209803987,
          325.40584765842,
          498.17811441525,
          0.57338749677229,
          1.3745553234525,
          19.714051394182,
          19.049153820466,
          40.16776057819,
          362.78479656291,
          56.717099715738,
          32.184005493065,
          16.063991058379,
          0.38855617147726,
          571.83984854671,
          379.31858785213,
          2.0502828926945,
          63.733860649409,
          0.98904380539195,
          53.370989410157,
          43.578530969544,
          16.699491601107,
          55.185652756247,
          29.397991348246,
          2.1324079847022,
          440.78301465571,
          3.7377177696646,
          138.74157453584,
          1.8888012914382,
          2672.0394366031,
          114.43841612936,
          10.324656394181,
          38.403849844142,
          0.45126691251345,
          0.046573728277142,
          805.15810845823,
          33.407709056244,
          747.67802680902,
          0.026210752219878,
          67.214992478558,
          6.1987377637869,
          94.048681371836,
          214.53138443861,
          21.698229839443,
          41.634111747759,
          5960.8043799939,
          41.6245592458,
          20.683656998446,
          56.830982733611,
          216.09280539526,
          0.30345441468402,
          7.4932661090211,
          0.7208177463664,
          11.370029305485,
          0.34210672521812,
          154.38356524031,
          285.38389989719,
          29.460052109846,
          25.013482276387,
          73.604607615068,
          0.14691940907449,
          41.831473036828,
          48.265926450338,
          2.5321443120251,
          39.400331633766,
          23.702014388194,
          0.39013759296906,
          1.4622285867384,
          53.372279020841,
          12.157942508343,
          2.9974771167324,
          8.190988601015,
          28.634657504101,
          60.92677185673,
          374.12419472876,
          67.700756247715,
          365.68461861929,
          22.920141542444,
          72.921492529812,
          0.56149760455405,
          3.2548573740653,
          12.712755146957,
          0.09106902611319,
          0.050700306537543,
          34.187024015247,
          0.64614359538246,
          41.21058254401,
          0.021271020996457,
          10.836336950669,
          56.105911645373,
          6.9820980789903,
          0.68479507293985,
          48.396213040658,
          335.96804878176,
          21.281689073781,
          0.37883791454079,
          8.1629239257775,
          95.929766915197,
          45.4630975003,
          83.704559899687,
          2.6019212840001,
          746.94368210501,
          10.957491923456,
          57.853266947361,
          996.7526808229,
          39.377188823331,
          267.82319378586,
          522.11549112331,
          1300.1688666752,
          7.6736715330197,
          9.6409981982956,
          7.8609330392057,
          16.509274363264,
          7.0491399156994,
          0.92034733748831,
          532.37448361892,
          1200.1997867973,
          1.2184203684901,
          308.00043191949,
          21.438119694098,
          49.118373633418,
          43.446393813877,
          106.37018790875,
          4.5323879353986,
          0.11025472286272,
          606.42985584791,
          84.277601484293,
          281.38053496815,
          256.79213126858,
          30.484449374284,
          32.242871779425,
          3.1190096511524,
          1.2315183876125,
          3.2895503749739,
          385.52011950564,
          90.148479942173,
          385.11288377147,
          13.051313657078,
          21.402080428809,
          20.628271187746,
          681.81032815187,
          6.6142165933615,
          150.74579824257,
          12.885675050293,
          115.07725289766,
          0.71237260220074,
          320.34998496393,
          16.468143919331,
          69.266029551595,
          0.17447409234332,
          0.1543181744716,
          0.15077509193013,
          13.54241150505,
          223.96663405241,
          28.843732000256,
          15943.986552905,
          1.3387084460449,
          121.46313217391,
          74.290132466078,
          95.377319649136,
          15.993517423122,
          0.64726465731155,
          32.499935850652,
          653.8461399874,
          48.77483220475,
          31.019306383582,
          21886.264433823788,
          8182.111523679463,
          1245.12179652026,
          3504.609479874849,
          4000.8284350973167,
          6708.907818445738,
          5078.347068361584,
          2356.7103029002747,
          52962.90085870327
         ]
        }
       ],
       "layout": {
        "height": 1500,
        "legend": {
         "tracegroupgap": 0
        },
        "margin": {
         "b": 0,
         "l": 0,
         "r": 0,
         "t": 30
        },
        "template": {
         "data": {
          "bar": [
           {
            "error_x": {
             "color": "#2a3f5f"
            },
            "error_y": {
             "color": "#2a3f5f"
            },
            "marker": {
             "line": {
              "color": "#E5ECF6",
              "width": 0.5
             },
             "pattern": {
              "fillmode": "overlay",
              "size": 10,
              "solidity": 0.2
             }
            },
            "type": "bar"
           }
          ],
          "barpolar": [
           {
            "marker": {
             "line": {
              "color": "#E5ECF6",
              "width": 0.5
             },
             "pattern": {
              "fillmode": "overlay",
              "size": 10,
              "solidity": 0.2
             }
            },
            "type": "barpolar"
           }
          ],
          "carpet": [
           {
            "aaxis": {
             "endlinecolor": "#2a3f5f",
             "gridcolor": "white",
             "linecolor": "white",
             "minorgridcolor": "white",
             "startlinecolor": "#2a3f5f"
            },
            "baxis": {
             "endlinecolor": "#2a3f5f",
             "gridcolor": "white",
             "linecolor": "white",
             "minorgridcolor": "white",
             "startlinecolor": "#2a3f5f"
            },
            "type": "carpet"
           }
          ],
          "choropleth": [
           {
            "colorbar": {
             "outlinewidth": 0,
             "ticks": ""
            },
            "type": "choropleth"
           }
          ],
          "contour": [
           {
            "colorbar": {
             "outlinewidth": 0,
             "ticks": ""
            },
            "colorscale": [
             [
              0,
              "#0d0887"
             ],
             [
              0.1111111111111111,
              "#46039f"
             ],
             [
              0.2222222222222222,
              "#7201a8"
             ],
             [
              0.3333333333333333,
              "#9c179e"
             ],
             [
              0.4444444444444444,
              "#bd3786"
             ],
             [
              0.5555555555555556,
              "#d8576b"
             ],
             [
              0.6666666666666666,
              "#ed7953"
             ],
             [
              0.7777777777777778,
              "#fb9f3a"
             ],
             [
              0.8888888888888888,
              "#fdca26"
             ],
             [
              1,
              "#f0f921"
             ]
            ],
            "type": "contour"
           }
          ],
          "contourcarpet": [
           {
            "colorbar": {
             "outlinewidth": 0,
             "ticks": ""
            },
            "type": "contourcarpet"
           }
          ],
          "heatmap": [
           {
            "colorbar": {
             "outlinewidth": 0,
             "ticks": ""
            },
            "colorscale": [
             [
              0,
              "#0d0887"
             ],
             [
              0.1111111111111111,
              "#46039f"
             ],
             [
              0.2222222222222222,
              "#7201a8"
             ],
             [
              0.3333333333333333,
              "#9c179e"
             ],
             [
              0.4444444444444444,
              "#bd3786"
             ],
             [
              0.5555555555555556,
              "#d8576b"
             ],
             [
              0.6666666666666666,
              "#ed7953"
             ],
             [
              0.7777777777777778,
              "#fb9f3a"
             ],
             [
              0.8888888888888888,
              "#fdca26"
             ],
             [
              1,
              "#f0f921"
             ]
            ],
            "type": "heatmap"
           }
          ],
          "heatmapgl": [
           {
            "colorbar": {
             "outlinewidth": 0,
             "ticks": ""
            },
            "colorscale": [
             [
              0,
              "#0d0887"
             ],
             [
              0.1111111111111111,
              "#46039f"
             ],
             [
              0.2222222222222222,
              "#7201a8"
             ],
             [
              0.3333333333333333,
              "#9c179e"
             ],
             [
              0.4444444444444444,
              "#bd3786"
             ],
             [
              0.5555555555555556,
              "#d8576b"
             ],
             [
              0.6666666666666666,
              "#ed7953"
             ],
             [
              0.7777777777777778,
              "#fb9f3a"
             ],
             [
              0.8888888888888888,
              "#fdca26"
             ],
             [
              1,
              "#f0f921"
             ]
            ],
            "type": "heatmapgl"
           }
          ],
          "histogram": [
           {
            "marker": {
             "pattern": {
              "fillmode": "overlay",
              "size": 10,
              "solidity": 0.2
             }
            },
            "type": "histogram"
           }
          ],
          "histogram2d": [
           {
            "colorbar": {
             "outlinewidth": 0,
             "ticks": ""
            },
            "colorscale": [
             [
              0,
              "#0d0887"
             ],
             [
              0.1111111111111111,
              "#46039f"
             ],
             [
              0.2222222222222222,
              "#7201a8"
             ],
             [
              0.3333333333333333,
              "#9c179e"
             ],
             [
              0.4444444444444444,
              "#bd3786"
             ],
             [
              0.5555555555555556,
              "#d8576b"
             ],
             [
              0.6666666666666666,
              "#ed7953"
             ],
             [
              0.7777777777777778,
              "#fb9f3a"
             ],
             [
              0.8888888888888888,
              "#fdca26"
             ],
             [
              1,
              "#f0f921"
             ]
            ],
            "type": "histogram2d"
           }
          ],
          "histogram2dcontour": [
           {
            "colorbar": {
             "outlinewidth": 0,
             "ticks": ""
            },
            "colorscale": [
             [
              0,
              "#0d0887"
             ],
             [
              0.1111111111111111,
              "#46039f"
             ],
             [
              0.2222222222222222,
              "#7201a8"
             ],
             [
              0.3333333333333333,
              "#9c179e"
             ],
             [
              0.4444444444444444,
              "#bd3786"
             ],
             [
              0.5555555555555556,
              "#d8576b"
             ],
             [
              0.6666666666666666,
              "#ed7953"
             ],
             [
              0.7777777777777778,
              "#fb9f3a"
             ],
             [
              0.8888888888888888,
              "#fdca26"
             ],
             [
              1,
              "#f0f921"
             ]
            ],
            "type": "histogram2dcontour"
           }
          ],
          "mesh3d": [
           {
            "colorbar": {
             "outlinewidth": 0,
             "ticks": ""
            },
            "type": "mesh3d"
           }
          ],
          "parcoords": [
           {
            "line": {
             "colorbar": {
              "outlinewidth": 0,
              "ticks": ""
             }
            },
            "type": "parcoords"
           }
          ],
          "pie": [
           {
            "automargin": true,
            "type": "pie"
           }
          ],
          "scatter": [
           {
            "fillpattern": {
             "fillmode": "overlay",
             "size": 10,
             "solidity": 0.2
            },
            "type": "scatter"
           }
          ],
          "scatter3d": [
           {
            "line": {
             "colorbar": {
              "outlinewidth": 0,
              "ticks": ""
             }
            },
            "marker": {
             "colorbar": {
              "outlinewidth": 0,
              "ticks": ""
             }
            },
            "type": "scatter3d"
           }
          ],
          "scattercarpet": [
           {
            "marker": {
             "colorbar": {
              "outlinewidth": 0,
              "ticks": ""
             }
            },
            "type": "scattercarpet"
           }
          ],
          "scattergeo": [
           {
            "marker": {
             "colorbar": {
              "outlinewidth": 0,
              "ticks": ""
             }
            },
            "type": "scattergeo"
           }
          ],
          "scattergl": [
           {
            "marker": {
             "colorbar": {
              "outlinewidth": 0,
              "ticks": ""
             }
            },
            "type": "scattergl"
           }
          ],
          "scattermapbox": [
           {
            "marker": {
             "colorbar": {
              "outlinewidth": 0,
              "ticks": ""
             }
            },
            "type": "scattermapbox"
           }
          ],
          "scatterpolar": [
           {
            "marker": {
             "colorbar": {
              "outlinewidth": 0,
              "ticks": ""
             }
            },
            "type": "scatterpolar"
           }
          ],
          "scatterpolargl": [
           {
            "marker": {
             "colorbar": {
              "outlinewidth": 0,
              "ticks": ""
             }
            },
            "type": "scatterpolargl"
           }
          ],
          "scatterternary": [
           {
            "marker": {
             "colorbar": {
              "outlinewidth": 0,
              "ticks": ""
             }
            },
            "type": "scatterternary"
           }
          ],
          "surface": [
           {
            "colorbar": {
             "outlinewidth": 0,
             "ticks": ""
            },
            "colorscale": [
             [
              0,
              "#0d0887"
             ],
             [
              0.1111111111111111,
              "#46039f"
             ],
             [
              0.2222222222222222,
              "#7201a8"
             ],
             [
              0.3333333333333333,
              "#9c179e"
             ],
             [
              0.4444444444444444,
              "#bd3786"
             ],
             [
              0.5555555555555556,
              "#d8576b"
             ],
             [
              0.6666666666666666,
              "#ed7953"
             ],
             [
              0.7777777777777778,
              "#fb9f3a"
             ],
             [
              0.8888888888888888,
              "#fdca26"
             ],
             [
              1,
              "#f0f921"
             ]
            ],
            "type": "surface"
           }
          ],
          "table": [
           {
            "cells": {
             "fill": {
              "color": "#EBF0F8"
             },
             "line": {
              "color": "white"
             }
            },
            "header": {
             "fill": {
              "color": "#C8D4E3"
             },
             "line": {
              "color": "white"
             }
            },
            "type": "table"
           }
          ]
         },
         "layout": {
          "annotationdefaults": {
           "arrowcolor": "#2a3f5f",
           "arrowhead": 0,
           "arrowwidth": 1
          },
          "autotypenumbers": "strict",
          "coloraxis": {
           "colorbar": {
            "outlinewidth": 0,
            "ticks": ""
           }
          },
          "colorscale": {
           "diverging": [
            [
             0,
             "#8e0152"
            ],
            [
             0.1,
             "#c51b7d"
            ],
            [
             0.2,
             "#de77ae"
            ],
            [
             0.3,
             "#f1b6da"
            ],
            [
             0.4,
             "#fde0ef"
            ],
            [
             0.5,
             "#f7f7f7"
            ],
            [
             0.6,
             "#e6f5d0"
            ],
            [
             0.7,
             "#b8e186"
            ],
            [
             0.8,
             "#7fbc41"
            ],
            [
             0.9,
             "#4d9221"
            ],
            [
             1,
             "#276419"
            ]
           ],
           "sequential": [
            [
             0,
             "#0d0887"
            ],
            [
             0.1111111111111111,
             "#46039f"
            ],
            [
             0.2222222222222222,
             "#7201a8"
            ],
            [
             0.3333333333333333,
             "#9c179e"
            ],
            [
             0.4444444444444444,
             "#bd3786"
            ],
            [
             0.5555555555555556,
             "#d8576b"
            ],
            [
             0.6666666666666666,
             "#ed7953"
            ],
            [
             0.7777777777777778,
             "#fb9f3a"
            ],
            [
             0.8888888888888888,
             "#fdca26"
            ],
            [
             1,
             "#f0f921"
            ]
           ],
           "sequentialminus": [
            [
             0,
             "#0d0887"
            ],
            [
             0.1111111111111111,
             "#46039f"
            ],
            [
             0.2222222222222222,
             "#7201a8"
            ],
            [
             0.3333333333333333,
             "#9c179e"
            ],
            [
             0.4444444444444444,
             "#bd3786"
            ],
            [
             0.5555555555555556,
             "#d8576b"
            ],
            [
             0.6666666666666666,
             "#ed7953"
            ],
            [
             0.7777777777777778,
             "#fb9f3a"
            ],
            [
             0.8888888888888888,
             "#fdca26"
            ],
            [
             1,
             "#f0f921"
            ]
           ]
          },
          "colorway": [
           "#636efa",
           "#EF553B",
           "#00cc96",
           "#ab63fa",
           "#FFA15A",
           "#19d3f3",
           "#FF6692",
           "#B6E880",
           "#FF97FF",
           "#FECB52"
          ],
          "font": {
           "color": "#2a3f5f"
          },
          "geo": {
           "bgcolor": "white",
           "lakecolor": "white",
           "landcolor": "#E5ECF6",
           "showlakes": true,
           "showland": true,
           "subunitcolor": "white"
          },
          "hoverlabel": {
           "align": "left"
          },
          "hovermode": "closest",
          "mapbox": {
           "style": "light"
          },
          "paper_bgcolor": "white",
          "plot_bgcolor": "#E5ECF6",
          "polar": {
           "angularaxis": {
            "gridcolor": "white",
            "linecolor": "white",
            "ticks": ""
           },
           "bgcolor": "#E5ECF6",
           "radialaxis": {
            "gridcolor": "white",
            "linecolor": "white",
            "ticks": ""
           }
          },
          "scene": {
           "xaxis": {
            "backgroundcolor": "#E5ECF6",
            "gridcolor": "white",
            "gridwidth": 2,
            "linecolor": "white",
            "showbackground": true,
            "ticks": "",
            "zerolinecolor": "white"
           },
           "yaxis": {
            "backgroundcolor": "#E5ECF6",
            "gridcolor": "white",
            "gridwidth": 2,
            "linecolor": "white",
            "showbackground": true,
            "ticks": "",
            "zerolinecolor": "white"
           },
           "zaxis": {
            "backgroundcolor": "#E5ECF6",
            "gridcolor": "white",
            "gridwidth": 2,
            "linecolor": "white",
            "showbackground": true,
            "ticks": "",
            "zerolinecolor": "white"
           }
          },
          "shapedefaults": {
           "line": {
            "color": "#2a3f5f"
           }
          },
          "ternary": {
           "aaxis": {
            "gridcolor": "white",
            "linecolor": "white",
            "ticks": ""
           },
           "baxis": {
            "gridcolor": "white",
            "linecolor": "white",
            "ticks": ""
           },
           "bgcolor": "#E5ECF6",
           "caxis": {
            "gridcolor": "white",
            "linecolor": "white",
            "ticks": ""
           }
          },
          "title": {
           "x": 0.05
          },
          "xaxis": {
           "automargin": true,
           "gridcolor": "white",
           "linecolor": "white",
           "ticks": "",
           "title": {
            "standoff": 15
           },
           "zerolinecolor": "white",
           "zerolinewidth": 2
          },
          "yaxis": {
           "automargin": true,
           "gridcolor": "white",
           "linecolor": "white",
           "ticks": "",
           "title": {
            "standoff": 15
           },
           "zerolinecolor": "white",
           "zerolinewidth": 2
          }
         }
        },
        "title": {
         "text": "Countries' contributions to GHG emission in year 2023"
        },
        "width": 1100
       }
      }
     },
     "metadata": {},
     "output_type": "display_data"
    },
    {
     "data": {
      "application/vnd.plotly.v1+json": {
       "config": {
        "plotlyServerURL": "https://plot.ly"
       },
       "data": [
        {
         "branchvalues": "total",
         "customdata": [
          [
           "Middle East & North Africa"
          ],
          [
           "East Asia & Pacific"
          ],
          [
           "Europe & Central Asia"
          ],
          [
           "Middle East & North Africa"
          ],
          [
           "Sub-Saharan Africa"
          ],
          [
           "Sub-Saharan Africa"
          ],
          [
           "East Asia & Pacific"
          ],
          [
           "Sub-Saharan Africa"
          ],
          [
           "Sub-Saharan Africa"
          ],
          [
           "Europe & Central Asia"
          ],
          [
           "Sub-Saharan Africa"
          ],
          [
           "Sub-Saharan Africa"
          ],
          [
           "Latin America & Caribbean"
          ],
          [
           "Sub-Saharan Africa"
          ],
          [
           "Europe & Central Asia"
          ],
          [
           "East Asia & Pacific"
          ],
          [
           "East Asia & Pacific"
          ],
          [
           "East Asia & Pacific"
          ],
          [
           "Sub-Saharan Africa"
          ],
          [
           "South Asia"
          ],
          [
           "Sub-Saharan Africa"
          ],
          [
           "Latin America & Caribbean"
          ],
          [
           "East Asia & Pacific"
          ],
          [
           "Latin America & Caribbean"
          ],
          [
           "East Asia & Pacific"
          ],
          [
           "East Asia & Pacific"
          ],
          [
           "East Asia & Pacific"
          ],
          [
           "Europe & Central Asia"
          ],
          [
           "South Asia"
          ],
          [
           "Middle East & North Africa"
          ],
          [
           "Europe & Central Asia"
          ],
          [
           "Europe & Central Asia"
          ],
          [
           "Middle East & North Africa"
          ],
          [
           "Latin America & Caribbean"
          ],
          [
           "Sub-Saharan Africa"
          ],
          [
           "Europe & Central Asia"
          ],
          [
           "Sub-Saharan Africa"
          ],
          [
           "Middle East & North Africa"
          ],
          [
           "Sub-Saharan Africa"
          ],
          [
           "Latin America & Caribbean"
          ],
          [
           "Middle East & North Africa"
          ],
          [
           "Sub-Saharan Africa"
          ],
          [
           "Europe & Central Asia"
          ],
          [
           "East Asia & Pacific"
          ],
          [
           "Europe & Central Asia"
          ],
          [
           "Latin America & Caribbean"
          ],
          [
           "East Asia & Pacific"
          ],
          [
           "International Aviation and Shipping"
          ],
          [
           "Latin America & Caribbean"
          ],
          [
           "East Asia & Pacific"
          ],
          [
           "Sub-Saharan Africa"
          ],
          [
           "Europe & Central Asia"
          ],
          [
           "East Asia & Pacific"
          ],
          [
           "Middle East & North Africa"
          ],
          [
           "Europe & Central Asia"
          ],
          [
           "Sub-Saharan Africa"
          ],
          [
           "Latin America & Caribbean"
          ],
          [
           "Latin America & Caribbean"
          ],
          [
           "East Asia & Pacific"
          ],
          [
           "Europe & Central Asia"
          ],
          [
           "Latin America & Caribbean"
          ],
          [
           "Middle East & North Africa"
          ],
          [
           "Latin America & Caribbean"
          ],
          [
           "Sub-Saharan Africa"
          ],
          [
           "Middle East & North Africa"
          ],
          [
           "Sub-Saharan Africa"
          ],
          [
           "Latin America & Caribbean"
          ],
          [
           "Europe & Central Asia"
          ],
          [
           "Middle East & North Africa"
          ],
          [
           "East Asia & Pacific"
          ],
          [
           "Latin America & Caribbean"
          ],
          [
           "Sub-Saharan Africa"
          ],
          [
           "Sub-Saharan Africa"
          ],
          [
           "Europe & Central Asia"
          ],
          [
           "Europe & Central Asia"
          ],
          [
           "Europe & Central Asia"
          ],
          [
           "South Asia"
          ],
          [
           "Latin America & Caribbean"
          ],
          [
           "North America"
          ],
          [
           "Middle East & North Africa"
          ],
          [
           "Middle East & North Africa"
          ],
          [
           "North America"
          ],
          [
           "Latin America & Caribbean"
          ],
          [
           "Europe & Central Asia"
          ],
          [
           "Sub-Saharan Africa"
          ],
          [
           "Latin America & Caribbean"
          ],
          [
           "Europe & Central Asia"
          ],
          [
           "Europe & Central Asia"
          ],
          [
           "Latin America & Caribbean"
          ],
          [
           "North America"
          ],
          [
           "Latin America & Caribbean"
          ],
          [
           "Europe & Central Asia"
          ],
          [
           "South Asia"
          ],
          [
           "Europe & Central Asia"
          ],
          [
           "Sub-Saharan Africa"
          ],
          [
           "Sub-Saharan Africa"
          ],
          [
           "East Asia & Pacific"
          ],
          [
           "Europe & Central Asia"
          ],
          [
           "East Asia & Pacific"
          ],
          [
           "Middle East & North Africa"
          ],
          [
           "Europe & Central Asia"
          ],
          [
           "South Asia"
          ],
          [
           "Europe & Central Asia"
          ],
          [
           "Latin America & Caribbean"
          ],
          [
           "Latin America & Caribbean"
          ],
          [
           "Europe & Central Asia"
          ],
          [
           "Sub-Saharan Africa"
          ],
          [
           "Latin America & Caribbean"
          ],
          [
           "Latin America & Caribbean"
          ],
          [
           "Sub-Saharan Africa"
          ],
          [
           "Latin America & Caribbean"
          ],
          [
           "Latin America & Caribbean"
          ],
          [
           "Europe & Central Asia"
          ],
          [
           "East Asia & Pacific"
          ],
          [
           "Sub-Saharan Africa"
          ],
          [
           "Latin America & Caribbean"
          ],
          [
           "Sub-Saharan Africa"
          ],
          [
           "Europe & Central Asia"
          ],
          [
           "Europe & Central Asia"
          ],
          [
           "Sub-Saharan Africa"
          ],
          [
           "Latin America & Caribbean"
          ],
          [
           "Latin America & Caribbean"
          ],
          [
           "Europe & Central Asia"
          ],
          [
           "Latin America & Caribbean"
          ],
          [
           "South Asia"
          ],
          [
           "Sub-Saharan Africa"
          ],
          [
           "Latin America & Caribbean"
          ],
          [
           "Europe & Central Asia"
          ],
          [
           "Latin America & Caribbean"
          ],
          [
           "East Asia & Pacific"
          ],
          [
           "Middle East & North Africa"
          ],
          [
           "Sub-Saharan Africa"
          ],
          [
           "Europe & Central Asia"
          ],
          [
           "Sub-Saharan Africa"
          ],
          [
           "Sub-Saharan Africa"
          ],
          [
           "Middle East & North Africa"
          ],
          [
           "Latin America & Caribbean"
          ],
          [
           "Middle East & North Africa"
          ],
          [
           "Latin America & Caribbean"
          ],
          [
           "North America"
          ],
          [
           "Latin America & Caribbean"
          ],
          [
           "Middle East & North Africa"
          ],
          [
           "Sub-Saharan Africa"
          ],
          [
           "East Asia & Pacific"
          ],
          [
           "Sub-Saharan Africa"
          ],
          [
           "International Aviation and Shipping"
          ],
          [
           "Europe & Central Asia"
          ],
          [
           "Europe & Central Asia"
          ],
          [
           "Middle East & North Africa"
          ],
          [
           "Sub-Saharan Africa"
          ],
          [
           "Middle East & North Africa"
          ],
          [
           "Sub-Saharan Africa"
          ],
          [
           "Latin America & Caribbean"
          ],
          [
           "Europe & Central Asia"
          ],
          [
           "East Asia & Pacific"
          ],
          [
           "Europe & Central Asia"
          ],
          [
           "Sub-Saharan Africa"
          ],
          [
           "Sub-Saharan Africa"
          ],
          [
           "Latin America & Caribbean"
          ],
          [
           "South Asia"
          ],
          [
           "East Asia & Pacific"
          ],
          [
           "Latin America & Caribbean"
          ],
          [
           "East Asia & Pacific"
          ],
          [
           "Europe & Central Asia"
          ],
          [
           "Europe & Central Asia"
          ],
          [
           "Europe & Central Asia"
          ],
          [
           "Europe & Central Asia"
          ],
          [
           "Sub-Saharan Africa"
          ],
          [
           "Latin America & Caribbean"
          ],
          [
           "Europe & Central Asia"
          ],
          [
           "Europe & Central Asia"
          ],
          [
           "South Asia"
          ],
          [
           "Middle East & North Africa"
          ],
          [
           "Sub-Saharan Africa"
          ],
          [
           "Middle East & North Africa"
          ],
          [
           "East Asia & Pacific"
          ],
          [
           "Sub-Saharan Africa"
          ],
          [
           "Sub-Saharan Africa"
          ],
          [
           "Europe & Central Asia"
          ],
          [
           "East Asia & Pacific"
          ],
          [
           "Sub-Saharan Africa"
          ],
          [
           "Latin America & Caribbean"
          ],
          [
           "Sub-Saharan Africa"
          ],
          [
           "Latin America & Caribbean"
          ],
          [
           "Europe & Central Asia"
          ],
          [
           "East Asia & Pacific"
          ],
          [
           "Europe & Central Asia"
          ],
          [
           "Sub-Saharan Africa"
          ],
          [
           "East Asia & Pacific"
          ],
          [
           "Europe & Central Asia"
          ],
          [
           "Europe & Central Asia"
          ],
          [
           "Latin America & Caribbean"
          ],
          [
           "Europe & Central Asia"
          ],
          [
           "Latin America & Caribbean"
          ],
          [
           "East Asia & Pacific"
          ],
          [
           "Latin America & Caribbean"
          ],
          [
           "Europe & Central Asia"
          ],
          [
           "Latin America & Caribbean"
          ],
          [
           "Sub-Saharan Africa"
          ],
          [
           "East Asia & Pacific"
          ],
          [
           "Sub-Saharan Africa"
          ],
          [
           "Latin America & Caribbean"
          ],
          [
           "East Asia & Pacific"
          ],
          [
           "Sub-Saharan Africa"
          ],
          [
           "Europe & Central Asia"
          ],
          [
           "Europe & Central Asia"
          ],
          [
           "Sub-Saharan Africa"
          ],
          [
           "East Asia & Pacific"
          ],
          [
           "East Asia & Pacific"
          ],
          [
           "Sub-Saharan Africa"
          ],
          [
           "East Asia & Pacific"
          ],
          [
           "Europe & Central Asia"
          ],
          [
           "International Aviation and Shipping"
          ],
          [
           "Latin America & Caribbean"
          ],
          [
           "Middle East & North Africa"
          ],
          [
           "North America"
          ],
          [
           "South Asia"
          ],
          [
           "Sub-Saharan Africa"
          ],
          [
           "(?)"
          ]
         ],
         "domain": {
          "x": [
           0,
           1
          ],
          "y": [
           0,
           1
          ]
         },
         "hovertemplate": "labels=%{label}<br>2023=%{value}<br>parent=%{parent}<br>id=%{id}<br>Region=%{customdata[0]}<extra></extra>",
         "ids": [
          "Global Total/Middle East & North Africa/Kuwait",
          "Global Total/East Asia & Pacific/Timor-Leste",
          "Global Total/Europe & Central Asia/Poland",
          "Global Total/Middle East & North Africa/Morocco",
          "Global Total/Sub-Saharan Africa/Burkina Faso",
          "Global Total/Sub-Saharan Africa/Mozambique",
          "Global Total/East Asia & Pacific/New Zealand",
          "Global Total/Sub-Saharan Africa/Niger",
          "Global Total/Sub-Saharan Africa/Central African Republic",
          "Global Total/Europe & Central Asia/Slovakia",
          "Global Total/Sub-Saharan Africa/Sierra Leone",
          "Global Total/Sub-Saharan Africa/Comoros",
          "Global Total/Latin America & Caribbean/Falkland Islands",
          "Global Total/Sub-Saharan Africa/Réunion",
          "Global Total/Europe & Central Asia/Romania",
          "Global Total/East Asia & Pacific/Japan",
          "Global Total/East Asia & Pacific/Palau",
          "Global Total/East Asia & Pacific/Philippines",
          "Global Total/Sub-Saharan Africa/Togo",
          "Global Total/South Asia/Maldives",
          "Global Total/Sub-Saharan Africa/Tanzania",
          "Global Total/Latin America & Caribbean/Haiti",
          "Global Total/East Asia & Pacific/Viet Nam",
          "Global Total/Latin America & Caribbean/Venezuela",
          "Global Total/East Asia & Pacific/Vanuatu",
          "Global Total/East Asia & Pacific/Kiribati",
          "Global Total/East Asia & Pacific/Laos",
          "Global Total/Europe & Central Asia/Azerbaijan",
          "Global Total/South Asia/India",
          "Global Total/Middle East & North Africa/Lebanon",
          "Global Total/Europe & Central Asia/Portugal",
          "Global Total/Europe & Central Asia/Turkmenistan",
          "Global Total/Middle East & North Africa/Malta",
          "Global Total/Latin America & Caribbean/Guatemala",
          "Global Total/Sub-Saharan Africa/Eritrea",
          "Global Total/Europe & Central Asia/Estonia",
          "Global Total/Sub-Saharan Africa/Kenya",
          "Global Total/Middle East & North Africa/Oman",
          "Global Total/Sub-Saharan Africa/Ethiopia",
          "Global Total/Latin America & Caribbean/Grenada",
          "Global Total/Middle East & North Africa/Israel and Palestine, State of",
          "Global Total/Sub-Saharan Africa/Madagascar",
          "Global Total/Europe & Central Asia/Iceland",
          "Global Total/East Asia & Pacific/Fiji",
          "Global Total/Europe & Central Asia/Finland",
          "Global Total/Latin America & Caribbean/Mexico",
          "Global Total/East Asia & Pacific/Malaysia",
          "Global Total/International Aviation and Shipping/International Aviation",
          "Global Total/Latin America & Caribbean/French Guiana",
          "Global Total/East Asia & Pacific/French Polynesia",
          "Global Total/Sub-Saharan Africa/Malawi",
          "Global Total/Europe & Central Asia/Georgia",
          "Global Total/East Asia & Pacific/Hong Kong",
          "Global Total/Middle East & North Africa/Iraq",
          "Global Total/Europe & Central Asia/Norway",
          "Global Total/Sub-Saharan Africa/Côte d’Ivoire",
          "Global Total/Latin America & Caribbean/Puerto Rico",
          "Global Total/Latin America & Caribbean/Antigua and Barbuda",
          "Global Total/East Asia & Pacific/Australia",
          "Global Total/Europe & Central Asia/United Kingdom",
          "Global Total/Latin America & Caribbean/Bahamas",
          "Global Total/Middle East & North Africa/Bahrain",
          "Global Total/Latin America & Caribbean/Barbados",
          "Global Total/Sub-Saharan Africa/Uganda",
          "Global Total/Middle East & North Africa/Tunisia",
          "Global Total/Sub-Saharan Africa/Benin",
          "Global Total/Latin America & Caribbean/Bolivia",
          "Global Total/Europe & Central Asia/Bosnia and Herzegovina",
          "Global Total/Middle East & North Africa/Djibouti",
          "Global Total/East Asia & Pacific/Thailand",
          "Global Total/Latin America & Caribbean/Suriname",
          "Global Total/Sub-Saharan Africa/Sudan and South Sudan",
          "Global Total/Sub-Saharan Africa/The Gambia",
          "Global Total/Europe & Central Asia/Russia",
          "Global Total/Europe & Central Asia/Czechia",
          "Global Total/Europe & Central Asia/Cyprus",
          "Global Total/South Asia/Sri Lanka",
          "Global Total/Latin America & Caribbean/Saint Lucia",
          "Global Total/North America/Saint Pierre and Miquelon",
          "Global Total/Middle East & North Africa/Saudi Arabia",
          "Global Total/Middle East & North Africa/Jordan",
          "Global Total/North America/Canada",
          "Global Total/Latin America & Caribbean/Anguilla",
          "Global Total/Europe & Central Asia/Serbia and Montenegro",
          "Global Total/Sub-Saharan Africa/Mauritius",
          "Global Total/Latin America & Caribbean/Peru",
          "Global Total/Europe & Central Asia/Uzbekistan",
          "Global Total/Europe & Central Asia/Kyrgyzstan",
          "Global Total/Latin America & Caribbean/Uruguay",
          "Global Total/North America/United States",
          "Global Total/Latin America & Caribbean/Paraguay",
          "Global Total/Europe & Central Asia/Lithuania",
          "Global Total/South Asia/Nepal",
          "Global Total/Europe & Central Asia/Ukraine",
          "Global Total/Sub-Saharan Africa/São Tomé and Príncipe",
          "Global Total/Sub-Saharan Africa/Rwanda",
          "Global Total/East Asia & Pacific/Solomon Islands",
          "Global Total/Europe & Central Asia/North Macedonia",
          "Global Total/East Asia & Pacific/Tonga",
          "Global Total/Middle East & North Africa/Qatar",
          "Global Total/Europe & Central Asia/Spain and Andorra",
          "Global Total/South Asia/Afghanistan",
          "Global Total/Europe & Central Asia/Croatia",
          "Global Total/Latin America & Caribbean/Ecuador",
          "Global Total/Latin America & Caribbean/Dominica",
          "Global Total/Europe & Central Asia/Denmark",
          "Global Total/Sub-Saharan Africa/Ghana",
          "Global Total/Latin America & Caribbean/Curaçao",
          "Global Total/Latin America & Caribbean/Cuba",
          "Global Total/Sub-Saharan Africa/Congo",
          "Global Total/Latin America & Caribbean/Cayman Islands",
          "Global Total/Latin America & Caribbean/Guadeloupe",
          "Global Total/Europe & Central Asia/Bulgaria",
          "Global Total/East Asia & Pacific/Brunei",
          "Global Total/Sub-Saharan Africa/Guinea-Bissau",
          "Global Total/Latin America & Caribbean/Guyana",
          "Global Total/Sub-Saharan Africa/Guinea",
          "Global Total/Europe & Central Asia/Hungary",
          "Global Total/Europe & Central Asia/Italy, San Marino and the Holy See",
          "Global Total/Sub-Saharan Africa/Angola",
          "Global Total/Latin America & Caribbean/Argentina",
          "Global Total/Latin America & Caribbean/Honduras",
          "Global Total/Europe & Central Asia/Austria",
          "Global Total/Latin America & Caribbean/Aruba",
          "Global Total/South Asia/Bhutan",
          "Global Total/Sub-Saharan Africa/Botswana",
          "Global Total/Latin America & Caribbean/British Virgin Islands",
          "Global Total/Europe & Central Asia/Faroes",
          "Global Total/Latin America & Caribbean/Trinidad and Tobago",
          "Global Total/East Asia & Pacific/Samoa",
          "Global Total/Middle East & North Africa/Syria",
          "Global Total/Sub-Saharan Africa/Saint Helena, Ascension and Tristan da Cunha",
          "Global Total/Europe & Central Asia/Armenia",
          "Global Total/Sub-Saharan Africa/Democratic Republic of the Congo",
          "Global Total/Sub-Saharan Africa/Equatorial Guinea",
          "Global Total/Middle East & North Africa/Western Sahara",
          "Global Total/Latin America & Caribbean/Dominican Republic",
          "Global Total/Middle East & North Africa/Egypt",
          "Global Total/Latin America & Caribbean/Panama",
          "Global Total/North America/Bermuda",
          "Global Total/Latin America & Caribbean/Jamaica",
          "Global Total/Middle East & North Africa/Libya",
          "Global Total/Sub-Saharan Africa/Mali",
          "Global Total/East Asia & Pacific/Mongolia",
          "Global Total/Sub-Saharan Africa/Lesotho",
          "Global Total/International Aviation and Shipping/International Shipping",
          "Global Total/Europe & Central Asia/Latvia",
          "Global Total/Europe & Central Asia/Ireland",
          "Global Total/Middle East & North Africa/Iran",
          "Global Total/Sub-Saharan Africa/Cameroon",
          "Global Total/Middle East & North Africa/United Arab Emirates",
          "Global Total/Sub-Saharan Africa/South Africa",
          "Global Total/Latin America & Caribbean/Brazil",
          "Global Total/Europe & Central Asia/Albania",
          "Global Total/East Asia & Pacific/Papua New Guinea",
          "Global Total/Europe & Central Asia/Luxembourg",
          "Global Total/Sub-Saharan Africa/Mauritania",
          "Global Total/Sub-Saharan Africa/Burundi",
          "Global Total/Latin America & Caribbean/Belize",
          "Global Total/South Asia/Pakistan",
          "Global Total/East Asia & Pacific/Indonesia",
          "Global Total/Latin America & Caribbean/Martinique",
          "Global Total/East Asia & Pacific/Taiwan",
          "Global Total/Europe & Central Asia/Tajikistan",
          "Global Total/Europe & Central Asia/Sweden",
          "Global Total/Europe & Central Asia/Switzerland and Liechtenstein",
          "Global Total/Europe & Central Asia/Belgium",
          "Global Total/Sub-Saharan Africa/Liberia",
          "Global Total/Latin America & Caribbean/Turks and Caicos Islands",
          "Global Total/Europe & Central Asia/Türkiye",
          "Global Total/Europe & Central Asia/Belarus",
          "Global Total/South Asia/Bangladesh",
          "Global Total/Middle East & North Africa/Algeria",
          "Global Total/Sub-Saharan Africa/Zambia",
          "Global Total/Middle East & North Africa/Yemen",
          "Global Total/East Asia & Pacific/Macao",
          "Global Total/Sub-Saharan Africa/Cabo Verde",
          "Global Total/Sub-Saharan Africa/Eswatini",
          "Global Total/Europe & Central Asia/France and Monaco",
          "Global Total/East Asia & Pacific/North Korea",
          "Global Total/Sub-Saharan Africa/Nigeria",
          "Global Total/Latin America & Caribbean/El Salvador",
          "Global Total/Sub-Saharan Africa/Gabon",
          "Global Total/Latin America & Caribbean/Nicaragua",
          "Global Total/Europe & Central Asia/Germany",
          "Global Total/East Asia & Pacific/New Caledonia",
          "Global Total/Europe & Central Asia/Netherlands",
          "Global Total/Sub-Saharan Africa/Namibia",
          "Global Total/East Asia & Pacific/Myanmar/Burma",
          "Global Total/Europe & Central Asia/Gibraltar",
          "Global Total/Europe & Central Asia/Kazakhstan",
          "Global Total/Latin America & Caribbean/Costa Rica",
          "Global Total/Europe & Central Asia/Greece",
          "Global Total/Latin America & Caribbean/Saint Kitts and Nevis",
          "Global Total/East Asia & Pacific/Cook Islands",
          "Global Total/Latin America & Caribbean/Saint Vincent and the Grenadines",
          "Global Total/Europe & Central Asia/Moldova",
          "Global Total/Latin America & Caribbean/Colombia",
          "Global Total/Sub-Saharan Africa/Senegal",
          "Global Total/East Asia & Pacific/China",
          "Global Total/Sub-Saharan Africa/Seychelles",
          "Global Total/Latin America & Caribbean/Chile",
          "Global Total/East Asia & Pacific/Singapore",
          "Global Total/Sub-Saharan Africa/Chad",
          "Global Total/Europe & Central Asia/Slovenia",
          "Global Total/Europe & Central Asia/Greenland",
          "Global Total/Sub-Saharan Africa/Somalia",
          "Global Total/East Asia & Pacific/South Korea",
          "Global Total/East Asia & Pacific/Cambodia",
          "Global Total/Sub-Saharan Africa/Zimbabwe",
          "Global Total/East Asia & Pacific",
          "Global Total/Europe & Central Asia",
          "Global Total/International Aviation and Shipping",
          "Global Total/Latin America & Caribbean",
          "Global Total/Middle East & North Africa",
          "Global Total/North America",
          "Global Total/South Asia",
          "Global Total/Sub-Saharan Africa",
          "Global Total"
         ],
         "labels": [
          "Kuwait",
          "Timor-Leste",
          "Poland",
          "Morocco",
          "Burkina Faso",
          "Mozambique",
          "New Zealand",
          "Niger",
          "Central African Republic",
          "Slovakia",
          "Sierra Leone",
          "Comoros",
          "Falkland Islands",
          "Réunion",
          "Romania",
          "Japan",
          "Palau",
          "Philippines",
          "Togo",
          "Maldives",
          "Tanzania",
          "Haiti",
          "Viet Nam",
          "Venezuela",
          "Vanuatu",
          "Kiribati",
          "Laos",
          "Azerbaijan",
          "India",
          "Lebanon",
          "Portugal",
          "Turkmenistan",
          "Malta",
          "Guatemala",
          "Eritrea",
          "Estonia",
          "Kenya",
          "Oman",
          "Ethiopia",
          "Grenada",
          "Israel and Palestine, State of",
          "Madagascar",
          "Iceland",
          "Fiji",
          "Finland",
          "Mexico",
          "Malaysia",
          "International Aviation",
          "French Guiana",
          "French Polynesia",
          "Malawi",
          "Georgia",
          "Hong Kong",
          "Iraq",
          "Norway",
          "Côte d’Ivoire",
          "Puerto Rico",
          "Antigua and Barbuda",
          "Australia",
          "United Kingdom",
          "Bahamas",
          "Bahrain",
          "Barbados",
          "Uganda",
          "Tunisia",
          "Benin",
          "Bolivia",
          "Bosnia and Herzegovina",
          "Djibouti",
          "Thailand",
          "Suriname",
          "Sudan and South Sudan",
          "The Gambia",
          "Russia",
          "Czechia",
          "Cyprus",
          "Sri Lanka",
          "Saint Lucia",
          "Saint Pierre and Miquelon",
          "Saudi Arabia",
          "Jordan",
          "Canada",
          "Anguilla",
          "Serbia and Montenegro",
          "Mauritius",
          "Peru",
          "Uzbekistan",
          "Kyrgyzstan",
          "Uruguay",
          "United States",
          "Paraguay",
          "Lithuania",
          "Nepal",
          "Ukraine",
          "São Tomé and Príncipe",
          "Rwanda",
          "Solomon Islands",
          "North Macedonia",
          "Tonga",
          "Qatar",
          "Spain and Andorra",
          "Afghanistan",
          "Croatia",
          "Ecuador",
          "Dominica",
          "Denmark",
          "Ghana",
          "Curaçao",
          "Cuba",
          "Congo",
          "Cayman Islands",
          "Guadeloupe",
          "Bulgaria",
          "Brunei",
          "Guinea-Bissau",
          "Guyana",
          "Guinea",
          "Hungary",
          "Italy, San Marino and the Holy See",
          "Angola",
          "Argentina",
          "Honduras",
          "Austria",
          "Aruba",
          "Bhutan",
          "Botswana",
          "British Virgin Islands",
          "Faroes",
          "Trinidad and Tobago",
          "Samoa",
          "Syria",
          "Saint Helena, Ascension and Tristan da Cunha",
          "Armenia",
          "Democratic Republic of the Congo",
          "Equatorial Guinea",
          "Western Sahara",
          "Dominican Republic",
          "Egypt",
          "Panama",
          "Bermuda",
          "Jamaica",
          "Libya",
          "Mali",
          "Mongolia",
          "Lesotho",
          "International Shipping",
          "Latvia",
          "Ireland",
          "Iran",
          "Cameroon",
          "United Arab Emirates",
          "South Africa",
          "Brazil",
          "Albania",
          "Papua New Guinea",
          "Luxembourg",
          "Mauritania",
          "Burundi",
          "Belize",
          "Pakistan",
          "Indonesia",
          "Martinique",
          "Taiwan",
          "Tajikistan",
          "Sweden",
          "Switzerland and Liechtenstein",
          "Belgium",
          "Liberia",
          "Turks and Caicos Islands",
          "Türkiye",
          "Belarus",
          "Bangladesh",
          "Algeria",
          "Zambia",
          "Yemen",
          "Macao",
          "Cabo Verde",
          "Eswatini",
          "France and Monaco",
          "North Korea",
          "Nigeria",
          "El Salvador",
          "Gabon",
          "Nicaragua",
          "Germany",
          "New Caledonia",
          "Netherlands",
          "Namibia",
          "Myanmar/Burma",
          "Gibraltar",
          "Kazakhstan",
          "Costa Rica",
          "Greece",
          "Saint Kitts and Nevis",
          "Cook Islands",
          "Saint Vincent and the Grenadines",
          "Moldova",
          "Colombia",
          "Senegal",
          "China",
          "Seychelles",
          "Chile",
          "Singapore",
          "Chad",
          "Slovenia",
          "Greenland",
          "Somalia",
          "South Korea",
          "Cambodia",
          "Zimbabwe",
          "East Asia & Pacific",
          "Europe & Central Asia",
          "International Aviation and Shipping",
          "Latin America & Caribbean",
          "Middle East & North Africa",
          "North America",
          "South Asia",
          "Sub-Saharan Africa",
          "Global Total"
         ],
         "marker": {
          "colors": [
           "#00B1EA",
           "#003299",
           "#FFB400",
           "#00B1EA",
           "#077C1D",
           "#077C1D",
           "#003299",
           "#077C1D",
           "#077C1D",
           "#FFB400",
           "#077C1D",
           "#077C1D",
           "#8139C6",
           "#077C1D",
           "#FFB400",
           "#003299",
           "#003299",
           "#003299",
           "#077C1D",
           "#65B800",
           "#077C1D",
           "#8139C6",
           "#003299",
           "#8139C6",
           "#003299",
           "#003299",
           "#003299",
           "#FFB400",
           "#65B800",
           "#00B1EA",
           "#FFB400",
           "#FFB400",
           "#00B1EA",
           "#8139C6",
           "#077C1D",
           "#FFB400",
           "#077C1D",
           "#00B1EA",
           "#077C1D",
           "#8139C6",
           "#00B1EA",
           "#077C1D",
           "#FFB400",
           "#003299",
           "#FFB400",
           "#8139C6",
           "#003299",
           "#FF97FF",
           "#8139C6",
           "#003299",
           "#077C1D",
           "#FFB400",
           "#003299",
           "#00B1EA",
           "#FFB400",
           "#077C1D",
           "#8139C6",
           "#8139C6",
           "#003299",
           "#FFB400",
           "#8139C6",
           "#00B1EA",
           "#8139C6",
           "#077C1D",
           "#00B1EA",
           "#077C1D",
           "#8139C6",
           "#FFB400",
           "#00B1EA",
           "#003299",
           "#8139C6",
           "#077C1D",
           "#077C1D",
           "#FFB400",
           "#FFB400",
           "#FFB400",
           "#65B800",
           "#8139C6",
           "#FF4B00",
           "#00B1EA",
           "#00B1EA",
           "#FF4B00",
           "#8139C6",
           "#FFB400",
           "#077C1D",
           "#8139C6",
           "#FFB400",
           "#FFB400",
           "#8139C6",
           "#FF4B00",
           "#8139C6",
           "#FFB400",
           "#65B800",
           "#FFB400",
           "#077C1D",
           "#077C1D",
           "#003299",
           "#FFB400",
           "#003299",
           "#00B1EA",
           "#FFB400",
           "#65B800",
           "#FFB400",
           "#8139C6",
           "#8139C6",
           "#FFB400",
           "#077C1D",
           "#8139C6",
           "#8139C6",
           "#077C1D",
           "#8139C6",
           "#8139C6",
           "#FFB400",
           "#003299",
           "#077C1D",
           "#8139C6",
           "#077C1D",
           "#FFB400",
           "#FFB400",
           "#077C1D",
           "#8139C6",
           "#8139C6",
           "#FFB400",
           "#8139C6",
           "#65B800",
           "#077C1D",
           "#8139C6",
           "#FFB400",
           "#8139C6",
           "#003299",
           "#00B1EA",
           "#077C1D",
           "#FFB400",
           "#077C1D",
           "#077C1D",
           "#00B1EA",
           "#8139C6",
           "#00B1EA",
           "#8139C6",
           "#FF4B00",
           "#8139C6",
           "#00B1EA",
           "#077C1D",
           "#003299",
           "#077C1D",
           "#FF97FF",
           "#FFB400",
           "#FFB400",
           "#00B1EA",
           "#077C1D",
           "#00B1EA",
           "#077C1D",
           "#8139C6",
           "#FFB400",
           "#003299",
           "#FFB400",
           "#077C1D",
           "#077C1D",
           "#8139C6",
           "#65B800",
           "#003299",
           "#8139C6",
           "#003299",
           "#FFB400",
           "#FFB400",
           "#FFB400",
           "#FFB400",
           "#077C1D",
           "#8139C6",
           "#FFB400",
           "#FFB400",
           "#65B800",
           "#00B1EA",
           "#077C1D",
           "#00B1EA",
           "#003299",
           "#077C1D",
           "#077C1D",
           "#FFB400",
           "#003299",
           "#077C1D",
           "#8139C6",
           "#077C1D",
           "#8139C6",
           "#FFB400",
           "#003299",
           "#FFB400",
           "#077C1D",
           "#003299",
           "#FFB400",
           "#FFB400",
           "#8139C6",
           "#FFB400",
           "#8139C6",
           "#003299",
           "#8139C6",
           "#FFB400",
           "#8139C6",
           "#077C1D",
           "#003299",
           "#077C1D",
           "#8139C6",
           "#003299",
           "#077C1D",
           "#FFB400",
           "#FFB400",
           "#077C1D",
           "#003299",
           "#003299",
           "#077C1D",
           "#003299",
           "#FFB400",
           "#FF97FF",
           "#8139C6",
           "#00B1EA",
           "#FF4B00",
           "#65B800",
           "#077C1D",
           "lightgrey"
          ]
         },
         "name": "",
         "parents": [
          "Global Total/Middle East & North Africa",
          "Global Total/East Asia & Pacific",
          "Global Total/Europe & Central Asia",
          "Global Total/Middle East & North Africa",
          "Global Total/Sub-Saharan Africa",
          "Global Total/Sub-Saharan Africa",
          "Global Total/East Asia & Pacific",
          "Global Total/Sub-Saharan Africa",
          "Global Total/Sub-Saharan Africa",
          "Global Total/Europe & Central Asia",
          "Global Total/Sub-Saharan Africa",
          "Global Total/Sub-Saharan Africa",
          "Global Total/Latin America & Caribbean",
          "Global Total/Sub-Saharan Africa",
          "Global Total/Europe & Central Asia",
          "Global Total/East Asia & Pacific",
          "Global Total/East Asia & Pacific",
          "Global Total/East Asia & Pacific",
          "Global Total/Sub-Saharan Africa",
          "Global Total/South Asia",
          "Global Total/Sub-Saharan Africa",
          "Global Total/Latin America & Caribbean",
          "Global Total/East Asia & Pacific",
          "Global Total/Latin America & Caribbean",
          "Global Total/East Asia & Pacific",
          "Global Total/East Asia & Pacific",
          "Global Total/East Asia & Pacific",
          "Global Total/Europe & Central Asia",
          "Global Total/South Asia",
          "Global Total/Middle East & North Africa",
          "Global Total/Europe & Central Asia",
          "Global Total/Europe & Central Asia",
          "Global Total/Middle East & North Africa",
          "Global Total/Latin America & Caribbean",
          "Global Total/Sub-Saharan Africa",
          "Global Total/Europe & Central Asia",
          "Global Total/Sub-Saharan Africa",
          "Global Total/Middle East & North Africa",
          "Global Total/Sub-Saharan Africa",
          "Global Total/Latin America & Caribbean",
          "Global Total/Middle East & North Africa",
          "Global Total/Sub-Saharan Africa",
          "Global Total/Europe & Central Asia",
          "Global Total/East Asia & Pacific",
          "Global Total/Europe & Central Asia",
          "Global Total/Latin America & Caribbean",
          "Global Total/East Asia & Pacific",
          "Global Total/International Aviation and Shipping",
          "Global Total/Latin America & Caribbean",
          "Global Total/East Asia & Pacific",
          "Global Total/Sub-Saharan Africa",
          "Global Total/Europe & Central Asia",
          "Global Total/East Asia & Pacific",
          "Global Total/Middle East & North Africa",
          "Global Total/Europe & Central Asia",
          "Global Total/Sub-Saharan Africa",
          "Global Total/Latin America & Caribbean",
          "Global Total/Latin America & Caribbean",
          "Global Total/East Asia & Pacific",
          "Global Total/Europe & Central Asia",
          "Global Total/Latin America & Caribbean",
          "Global Total/Middle East & North Africa",
          "Global Total/Latin America & Caribbean",
          "Global Total/Sub-Saharan Africa",
          "Global Total/Middle East & North Africa",
          "Global Total/Sub-Saharan Africa",
          "Global Total/Latin America & Caribbean",
          "Global Total/Europe & Central Asia",
          "Global Total/Middle East & North Africa",
          "Global Total/East Asia & Pacific",
          "Global Total/Latin America & Caribbean",
          "Global Total/Sub-Saharan Africa",
          "Global Total/Sub-Saharan Africa",
          "Global Total/Europe & Central Asia",
          "Global Total/Europe & Central Asia",
          "Global Total/Europe & Central Asia",
          "Global Total/South Asia",
          "Global Total/Latin America & Caribbean",
          "Global Total/North America",
          "Global Total/Middle East & North Africa",
          "Global Total/Middle East & North Africa",
          "Global Total/North America",
          "Global Total/Latin America & Caribbean",
          "Global Total/Europe & Central Asia",
          "Global Total/Sub-Saharan Africa",
          "Global Total/Latin America & Caribbean",
          "Global Total/Europe & Central Asia",
          "Global Total/Europe & Central Asia",
          "Global Total/Latin America & Caribbean",
          "Global Total/North America",
          "Global Total/Latin America & Caribbean",
          "Global Total/Europe & Central Asia",
          "Global Total/South Asia",
          "Global Total/Europe & Central Asia",
          "Global Total/Sub-Saharan Africa",
          "Global Total/Sub-Saharan Africa",
          "Global Total/East Asia & Pacific",
          "Global Total/Europe & Central Asia",
          "Global Total/East Asia & Pacific",
          "Global Total/Middle East & North Africa",
          "Global Total/Europe & Central Asia",
          "Global Total/South Asia",
          "Global Total/Europe & Central Asia",
          "Global Total/Latin America & Caribbean",
          "Global Total/Latin America & Caribbean",
          "Global Total/Europe & Central Asia",
          "Global Total/Sub-Saharan Africa",
          "Global Total/Latin America & Caribbean",
          "Global Total/Latin America & Caribbean",
          "Global Total/Sub-Saharan Africa",
          "Global Total/Latin America & Caribbean",
          "Global Total/Latin America & Caribbean",
          "Global Total/Europe & Central Asia",
          "Global Total/East Asia & Pacific",
          "Global Total/Sub-Saharan Africa",
          "Global Total/Latin America & Caribbean",
          "Global Total/Sub-Saharan Africa",
          "Global Total/Europe & Central Asia",
          "Global Total/Europe & Central Asia",
          "Global Total/Sub-Saharan Africa",
          "Global Total/Latin America & Caribbean",
          "Global Total/Latin America & Caribbean",
          "Global Total/Europe & Central Asia",
          "Global Total/Latin America & Caribbean",
          "Global Total/South Asia",
          "Global Total/Sub-Saharan Africa",
          "Global Total/Latin America & Caribbean",
          "Global Total/Europe & Central Asia",
          "Global Total/Latin America & Caribbean",
          "Global Total/East Asia & Pacific",
          "Global Total/Middle East & North Africa",
          "Global Total/Sub-Saharan Africa",
          "Global Total/Europe & Central Asia",
          "Global Total/Sub-Saharan Africa",
          "Global Total/Sub-Saharan Africa",
          "Global Total/Middle East & North Africa",
          "Global Total/Latin America & Caribbean",
          "Global Total/Middle East & North Africa",
          "Global Total/Latin America & Caribbean",
          "Global Total/North America",
          "Global Total/Latin America & Caribbean",
          "Global Total/Middle East & North Africa",
          "Global Total/Sub-Saharan Africa",
          "Global Total/East Asia & Pacific",
          "Global Total/Sub-Saharan Africa",
          "Global Total/International Aviation and Shipping",
          "Global Total/Europe & Central Asia",
          "Global Total/Europe & Central Asia",
          "Global Total/Middle East & North Africa",
          "Global Total/Sub-Saharan Africa",
          "Global Total/Middle East & North Africa",
          "Global Total/Sub-Saharan Africa",
          "Global Total/Latin America & Caribbean",
          "Global Total/Europe & Central Asia",
          "Global Total/East Asia & Pacific",
          "Global Total/Europe & Central Asia",
          "Global Total/Sub-Saharan Africa",
          "Global Total/Sub-Saharan Africa",
          "Global Total/Latin America & Caribbean",
          "Global Total/South Asia",
          "Global Total/East Asia & Pacific",
          "Global Total/Latin America & Caribbean",
          "Global Total/East Asia & Pacific",
          "Global Total/Europe & Central Asia",
          "Global Total/Europe & Central Asia",
          "Global Total/Europe & Central Asia",
          "Global Total/Europe & Central Asia",
          "Global Total/Sub-Saharan Africa",
          "Global Total/Latin America & Caribbean",
          "Global Total/Europe & Central Asia",
          "Global Total/Europe & Central Asia",
          "Global Total/South Asia",
          "Global Total/Middle East & North Africa",
          "Global Total/Sub-Saharan Africa",
          "Global Total/Middle East & North Africa",
          "Global Total/East Asia & Pacific",
          "Global Total/Sub-Saharan Africa",
          "Global Total/Sub-Saharan Africa",
          "Global Total/Europe & Central Asia",
          "Global Total/East Asia & Pacific",
          "Global Total/Sub-Saharan Africa",
          "Global Total/Latin America & Caribbean",
          "Global Total/Sub-Saharan Africa",
          "Global Total/Latin America & Caribbean",
          "Global Total/Europe & Central Asia",
          "Global Total/East Asia & Pacific",
          "Global Total/Europe & Central Asia",
          "Global Total/Sub-Saharan Africa",
          "Global Total/East Asia & Pacific",
          "Global Total/Europe & Central Asia",
          "Global Total/Europe & Central Asia",
          "Global Total/Latin America & Caribbean",
          "Global Total/Europe & Central Asia",
          "Global Total/Latin America & Caribbean",
          "Global Total/East Asia & Pacific",
          "Global Total/Latin America & Caribbean",
          "Global Total/Europe & Central Asia",
          "Global Total/Latin America & Caribbean",
          "Global Total/Sub-Saharan Africa",
          "Global Total/East Asia & Pacific",
          "Global Total/Sub-Saharan Africa",
          "Global Total/Latin America & Caribbean",
          "Global Total/East Asia & Pacific",
          "Global Total/Sub-Saharan Africa",
          "Global Total/Europe & Central Asia",
          "Global Total/Europe & Central Asia",
          "Global Total/Sub-Saharan Africa",
          "Global Total/East Asia & Pacific",
          "Global Total/East Asia & Pacific",
          "Global Total/Sub-Saharan Africa",
          "Global Total",
          "Global Total",
          "Global Total",
          "Global Total",
          "Global Total",
          "Global Total",
          "Global Total",
          "Global Total",
          ""
         ],
         "root": {
          "color": "lightgrey"
         },
         "type": "sunburst",
         "values": [
          167.91576883104,
          2.0071829501919,
          363.79425000758,
          106.60223103187,
          34.456815083211,
          33.953984042408,
          84.209811532415,
          42.334092053639,
          12.502621395351,
          44.775610890682,
          6.9377160598998,
          0.76176779618891,
          0.17239134049142,
          2.9206981620469,
          105.85240058122,
          1041.0128248687,
          1.5016528321032,
          256.14715481705,
          10.612911987181,
          3.0879519663505,
          89.815439405641,
          13.656955798463,
          524.13346380418,
          152.38992311311,
          0.67021230161327,
          0.13017626101136,
          42.056212706049,
          62.550294041306,
          4133.5543557465,
          24.672324496902,
          53.004607295263,
          98.79411982866,
          2.0338652584277,
          43.981074467992,
          6.4018203690061,
          14.363974872585,
          107.97690921511,
          127.44302070563,
          170.03385065137,
          0.20040725685748,
          79.578174881426,
          33.150776404127,
          4.171936013462,
          3.4009927758626,
          43.45353679725,
          712.10209803987,
          325.40584765842,
          498.17811441525,
          0.57338749677229,
          1.3745553234525,
          19.714051394182,
          19.049153820466,
          40.16776057819,
          362.78479656291,
          56.717099715738,
          32.184005493065,
          16.063991058379,
          0.38855617147726,
          571.83984854671,
          379.31858785213,
          2.0502828926945,
          63.733860649409,
          0.98904380539195,
          53.370989410157,
          43.578530969544,
          16.699491601107,
          55.185652756247,
          29.397991348246,
          2.1324079847022,
          440.78301465571,
          3.7377177696646,
          138.74157453584,
          1.8888012914382,
          2672.0394366031,
          114.43841612936,
          10.324656394181,
          38.403849844142,
          0.45126691251345,
          0.046573728277142,
          805.15810845823,
          33.407709056244,
          747.67802680902,
          0.026210752219878,
          67.214992478558,
          6.1987377637869,
          94.048681371836,
          214.53138443861,
          21.698229839443,
          41.634111747759,
          5960.8043799939,
          41.6245592458,
          20.683656998446,
          56.830982733611,
          216.09280539526,
          0.30345441468402,
          7.4932661090211,
          0.7208177463664,
          11.370029305485,
          0.34210672521812,
          154.38356524031,
          285.38389989719,
          29.460052109846,
          25.013482276387,
          73.604607615068,
          0.14691940907449,
          41.831473036828,
          48.265926450338,
          2.5321443120251,
          39.400331633766,
          23.702014388194,
          0.39013759296906,
          1.4622285867384,
          53.372279020841,
          12.157942508343,
          2.9974771167324,
          8.190988601015,
          28.634657504101,
          60.92677185673,
          374.12419472876,
          67.700756247715,
          365.68461861929,
          22.920141542444,
          72.921492529812,
          0.56149760455405,
          3.2548573740653,
          12.712755146957,
          0.09106902611319,
          0.050700306537543,
          34.187024015247,
          0.64614359538246,
          41.21058254401,
          0.021271020996457,
          10.836336950669,
          56.105911645373,
          6.9820980789903,
          0.68479507293985,
          48.396213040658,
          335.96804878176,
          21.281689073781,
          0.37883791454079,
          8.1629239257775,
          95.929766915197,
          45.4630975003,
          83.704559899687,
          2.6019212840001,
          746.94368210501,
          10.957491923456,
          57.853266947361,
          996.7526808229,
          39.377188823331,
          267.82319378586,
          522.11549112331,
          1300.1688666752,
          7.6736715330197,
          9.6409981982956,
          7.8609330392057,
          16.509274363264,
          7.0491399156994,
          0.92034733748831,
          532.37448361892,
          1200.1997867973,
          1.2184203684901,
          308.00043191949,
          21.438119694098,
          49.118373633418,
          43.446393813877,
          106.37018790875,
          4.5323879353986,
          0.11025472286272,
          606.42985584791,
          84.277601484293,
          281.38053496815,
          256.79213126858,
          30.484449374284,
          32.242871779425,
          3.1190096511524,
          1.2315183876125,
          3.2895503749739,
          385.52011950564,
          90.148479942173,
          385.11288377147,
          13.051313657078,
          21.402080428809,
          20.628271187746,
          681.81032815187,
          6.6142165933615,
          150.74579824257,
          12.885675050293,
          115.07725289766,
          0.71237260220074,
          320.34998496393,
          16.468143919331,
          69.266029551595,
          0.17447409234332,
          0.1543181744716,
          0.15077509193013,
          13.54241150505,
          223.96663405241,
          28.843732000256,
          15943.986552905,
          1.3387084460449,
          121.46313217391,
          74.290132466078,
          95.377319649136,
          15.993517423122,
          0.64726465731155,
          32.499935850652,
          653.8461399874,
          48.77483220475,
          31.019306383582,
          21886.264433823788,
          8182.111523679463,
          1245.12179652026,
          3504.609479874849,
          4000.8284350973167,
          6708.907818445738,
          5078.347068361584,
          2356.7103029002747,
          52962.90085870327
         ]
        }
       ],
       "layout": {
        "height": 1500,
        "legend": {
         "tracegroupgap": 0
        },
        "margin": {
         "b": 0,
         "l": 0,
         "r": 0,
         "t": 30
        },
        "template": {
         "data": {
          "bar": [
           {
            "error_x": {
             "color": "#2a3f5f"
            },
            "error_y": {
             "color": "#2a3f5f"
            },
            "marker": {
             "line": {
              "color": "#E5ECF6",
              "width": 0.5
             },
             "pattern": {
              "fillmode": "overlay",
              "size": 10,
              "solidity": 0.2
             }
            },
            "type": "bar"
           }
          ],
          "barpolar": [
           {
            "marker": {
             "line": {
              "color": "#E5ECF6",
              "width": 0.5
             },
             "pattern": {
              "fillmode": "overlay",
              "size": 10,
              "solidity": 0.2
             }
            },
            "type": "barpolar"
           }
          ],
          "carpet": [
           {
            "aaxis": {
             "endlinecolor": "#2a3f5f",
             "gridcolor": "white",
             "linecolor": "white",
             "minorgridcolor": "white",
             "startlinecolor": "#2a3f5f"
            },
            "baxis": {
             "endlinecolor": "#2a3f5f",
             "gridcolor": "white",
             "linecolor": "white",
             "minorgridcolor": "white",
             "startlinecolor": "#2a3f5f"
            },
            "type": "carpet"
           }
          ],
          "choropleth": [
           {
            "colorbar": {
             "outlinewidth": 0,
             "ticks": ""
            },
            "type": "choropleth"
           }
          ],
          "contour": [
           {
            "colorbar": {
             "outlinewidth": 0,
             "ticks": ""
            },
            "colorscale": [
             [
              0,
              "#0d0887"
             ],
             [
              0.1111111111111111,
              "#46039f"
             ],
             [
              0.2222222222222222,
              "#7201a8"
             ],
             [
              0.3333333333333333,
              "#9c179e"
             ],
             [
              0.4444444444444444,
              "#bd3786"
             ],
             [
              0.5555555555555556,
              "#d8576b"
             ],
             [
              0.6666666666666666,
              "#ed7953"
             ],
             [
              0.7777777777777778,
              "#fb9f3a"
             ],
             [
              0.8888888888888888,
              "#fdca26"
             ],
             [
              1,
              "#f0f921"
             ]
            ],
            "type": "contour"
           }
          ],
          "contourcarpet": [
           {
            "colorbar": {
             "outlinewidth": 0,
             "ticks": ""
            },
            "type": "contourcarpet"
           }
          ],
          "heatmap": [
           {
            "colorbar": {
             "outlinewidth": 0,
             "ticks": ""
            },
            "colorscale": [
             [
              0,
              "#0d0887"
             ],
             [
              0.1111111111111111,
              "#46039f"
             ],
             [
              0.2222222222222222,
              "#7201a8"
             ],
             [
              0.3333333333333333,
              "#9c179e"
             ],
             [
              0.4444444444444444,
              "#bd3786"
             ],
             [
              0.5555555555555556,
              "#d8576b"
             ],
             [
              0.6666666666666666,
              "#ed7953"
             ],
             [
              0.7777777777777778,
              "#fb9f3a"
             ],
             [
              0.8888888888888888,
              "#fdca26"
             ],
             [
              1,
              "#f0f921"
             ]
            ],
            "type": "heatmap"
           }
          ],
          "heatmapgl": [
           {
            "colorbar": {
             "outlinewidth": 0,
             "ticks": ""
            },
            "colorscale": [
             [
              0,
              "#0d0887"
             ],
             [
              0.1111111111111111,
              "#46039f"
             ],
             [
              0.2222222222222222,
              "#7201a8"
             ],
             [
              0.3333333333333333,
              "#9c179e"
             ],
             [
              0.4444444444444444,
              "#bd3786"
             ],
             [
              0.5555555555555556,
              "#d8576b"
             ],
             [
              0.6666666666666666,
              "#ed7953"
             ],
             [
              0.7777777777777778,
              "#fb9f3a"
             ],
             [
              0.8888888888888888,
              "#fdca26"
             ],
             [
              1,
              "#f0f921"
             ]
            ],
            "type": "heatmapgl"
           }
          ],
          "histogram": [
           {
            "marker": {
             "pattern": {
              "fillmode": "overlay",
              "size": 10,
              "solidity": 0.2
             }
            },
            "type": "histogram"
           }
          ],
          "histogram2d": [
           {
            "colorbar": {
             "outlinewidth": 0,
             "ticks": ""
            },
            "colorscale": [
             [
              0,
              "#0d0887"
             ],
             [
              0.1111111111111111,
              "#46039f"
             ],
             [
              0.2222222222222222,
              "#7201a8"
             ],
             [
              0.3333333333333333,
              "#9c179e"
             ],
             [
              0.4444444444444444,
              "#bd3786"
             ],
             [
              0.5555555555555556,
              "#d8576b"
             ],
             [
              0.6666666666666666,
              "#ed7953"
             ],
             [
              0.7777777777777778,
              "#fb9f3a"
             ],
             [
              0.8888888888888888,
              "#fdca26"
             ],
             [
              1,
              "#f0f921"
             ]
            ],
            "type": "histogram2d"
           }
          ],
          "histogram2dcontour": [
           {
            "colorbar": {
             "outlinewidth": 0,
             "ticks": ""
            },
            "colorscale": [
             [
              0,
              "#0d0887"
             ],
             [
              0.1111111111111111,
              "#46039f"
             ],
             [
              0.2222222222222222,
              "#7201a8"
             ],
             [
              0.3333333333333333,
              "#9c179e"
             ],
             [
              0.4444444444444444,
              "#bd3786"
             ],
             [
              0.5555555555555556,
              "#d8576b"
             ],
             [
              0.6666666666666666,
              "#ed7953"
             ],
             [
              0.7777777777777778,
              "#fb9f3a"
             ],
             [
              0.8888888888888888,
              "#fdca26"
             ],
             [
              1,
              "#f0f921"
             ]
            ],
            "type": "histogram2dcontour"
           }
          ],
          "mesh3d": [
           {
            "colorbar": {
             "outlinewidth": 0,
             "ticks": ""
            },
            "type": "mesh3d"
           }
          ],
          "parcoords": [
           {
            "line": {
             "colorbar": {
              "outlinewidth": 0,
              "ticks": ""
             }
            },
            "type": "parcoords"
           }
          ],
          "pie": [
           {
            "automargin": true,
            "type": "pie"
           }
          ],
          "scatter": [
           {
            "fillpattern": {
             "fillmode": "overlay",
             "size": 10,
             "solidity": 0.2
            },
            "type": "scatter"
           }
          ],
          "scatter3d": [
           {
            "line": {
             "colorbar": {
              "outlinewidth": 0,
              "ticks": ""
             }
            },
            "marker": {
             "colorbar": {
              "outlinewidth": 0,
              "ticks": ""
             }
            },
            "type": "scatter3d"
           }
          ],
          "scattercarpet": [
           {
            "marker": {
             "colorbar": {
              "outlinewidth": 0,
              "ticks": ""
             }
            },
            "type": "scattercarpet"
           }
          ],
          "scattergeo": [
           {
            "marker": {
             "colorbar": {
              "outlinewidth": 0,
              "ticks": ""
             }
            },
            "type": "scattergeo"
           }
          ],
          "scattergl": [
           {
            "marker": {
             "colorbar": {
              "outlinewidth": 0,
              "ticks": ""
             }
            },
            "type": "scattergl"
           }
          ],
          "scattermapbox": [
           {
            "marker": {
             "colorbar": {
              "outlinewidth": 0,
              "ticks": ""
             }
            },
            "type": "scattermapbox"
           }
          ],
          "scatterpolar": [
           {
            "marker": {
             "colorbar": {
              "outlinewidth": 0,
              "ticks": ""
             }
            },
            "type": "scatterpolar"
           }
          ],
          "scatterpolargl": [
           {
            "marker": {
             "colorbar": {
              "outlinewidth": 0,
              "ticks": ""
             }
            },
            "type": "scatterpolargl"
           }
          ],
          "scatterternary": [
           {
            "marker": {
             "colorbar": {
              "outlinewidth": 0,
              "ticks": ""
             }
            },
            "type": "scatterternary"
           }
          ],
          "surface": [
           {
            "colorbar": {
             "outlinewidth": 0,
             "ticks": ""
            },
            "colorscale": [
             [
              0,
              "#0d0887"
             ],
             [
              0.1111111111111111,
              "#46039f"
             ],
             [
              0.2222222222222222,
              "#7201a8"
             ],
             [
              0.3333333333333333,
              "#9c179e"
             ],
             [
              0.4444444444444444,
              "#bd3786"
             ],
             [
              0.5555555555555556,
              "#d8576b"
             ],
             [
              0.6666666666666666,
              "#ed7953"
             ],
             [
              0.7777777777777778,
              "#fb9f3a"
             ],
             [
              0.8888888888888888,
              "#fdca26"
             ],
             [
              1,
              "#f0f921"
             ]
            ],
            "type": "surface"
           }
          ],
          "table": [
           {
            "cells": {
             "fill": {
              "color": "#EBF0F8"
             },
             "line": {
              "color": "white"
             }
            },
            "header": {
             "fill": {
              "color": "#C8D4E3"
             },
             "line": {
              "color": "white"
             }
            },
            "type": "table"
           }
          ]
         },
         "layout": {
          "annotationdefaults": {
           "arrowcolor": "#2a3f5f",
           "arrowhead": 0,
           "arrowwidth": 1
          },
          "autotypenumbers": "strict",
          "coloraxis": {
           "colorbar": {
            "outlinewidth": 0,
            "ticks": ""
           }
          },
          "colorscale": {
           "diverging": [
            [
             0,
             "#8e0152"
            ],
            [
             0.1,
             "#c51b7d"
            ],
            [
             0.2,
             "#de77ae"
            ],
            [
             0.3,
             "#f1b6da"
            ],
            [
             0.4,
             "#fde0ef"
            ],
            [
             0.5,
             "#f7f7f7"
            ],
            [
             0.6,
             "#e6f5d0"
            ],
            [
             0.7,
             "#b8e186"
            ],
            [
             0.8,
             "#7fbc41"
            ],
            [
             0.9,
             "#4d9221"
            ],
            [
             1,
             "#276419"
            ]
           ],
           "sequential": [
            [
             0,
             "#0d0887"
            ],
            [
             0.1111111111111111,
             "#46039f"
            ],
            [
             0.2222222222222222,
             "#7201a8"
            ],
            [
             0.3333333333333333,
             "#9c179e"
            ],
            [
             0.4444444444444444,
             "#bd3786"
            ],
            [
             0.5555555555555556,
             "#d8576b"
            ],
            [
             0.6666666666666666,
             "#ed7953"
            ],
            [
             0.7777777777777778,
             "#fb9f3a"
            ],
            [
             0.8888888888888888,
             "#fdca26"
            ],
            [
             1,
             "#f0f921"
            ]
           ],
           "sequentialminus": [
            [
             0,
             "#0d0887"
            ],
            [
             0.1111111111111111,
             "#46039f"
            ],
            [
             0.2222222222222222,
             "#7201a8"
            ],
            [
             0.3333333333333333,
             "#9c179e"
            ],
            [
             0.4444444444444444,
             "#bd3786"
            ],
            [
             0.5555555555555556,
             "#d8576b"
            ],
            [
             0.6666666666666666,
             "#ed7953"
            ],
            [
             0.7777777777777778,
             "#fb9f3a"
            ],
            [
             0.8888888888888888,
             "#fdca26"
            ],
            [
             1,
             "#f0f921"
            ]
           ]
          },
          "colorway": [
           "#636efa",
           "#EF553B",
           "#00cc96",
           "#ab63fa",
           "#FFA15A",
           "#19d3f3",
           "#FF6692",
           "#B6E880",
           "#FF97FF",
           "#FECB52"
          ],
          "font": {
           "color": "#2a3f5f"
          },
          "geo": {
           "bgcolor": "white",
           "lakecolor": "white",
           "landcolor": "#E5ECF6",
           "showlakes": true,
           "showland": true,
           "subunitcolor": "white"
          },
          "hoverlabel": {
           "align": "left"
          },
          "hovermode": "closest",
          "mapbox": {
           "style": "light"
          },
          "paper_bgcolor": "white",
          "plot_bgcolor": "#E5ECF6",
          "polar": {
           "angularaxis": {
            "gridcolor": "white",
            "linecolor": "white",
            "ticks": ""
           },
           "bgcolor": "#E5ECF6",
           "radialaxis": {
            "gridcolor": "white",
            "linecolor": "white",
            "ticks": ""
           }
          },
          "scene": {
           "xaxis": {
            "backgroundcolor": "#E5ECF6",
            "gridcolor": "white",
            "gridwidth": 2,
            "linecolor": "white",
            "showbackground": true,
            "ticks": "",
            "zerolinecolor": "white"
           },
           "yaxis": {
            "backgroundcolor": "#E5ECF6",
            "gridcolor": "white",
            "gridwidth": 2,
            "linecolor": "white",
            "showbackground": true,
            "ticks": "",
            "zerolinecolor": "white"
           },
           "zaxis": {
            "backgroundcolor": "#E5ECF6",
            "gridcolor": "white",
            "gridwidth": 2,
            "linecolor": "white",
            "showbackground": true,
            "ticks": "",
            "zerolinecolor": "white"
           }
          },
          "shapedefaults": {
           "line": {
            "color": "#2a3f5f"
           }
          },
          "ternary": {
           "aaxis": {
            "gridcolor": "white",
            "linecolor": "white",
            "ticks": ""
           },
           "baxis": {
            "gridcolor": "white",
            "linecolor": "white",
            "ticks": ""
           },
           "bgcolor": "#E5ECF6",
           "caxis": {
            "gridcolor": "white",
            "linecolor": "white",
            "ticks": ""
           }
          },
          "title": {
           "x": 0.05
          },
          "xaxis": {
           "automargin": true,
           "gridcolor": "white",
           "linecolor": "white",
           "ticks": "",
           "title": {
            "standoff": 15
           },
           "zerolinecolor": "white",
           "zerolinewidth": 2
          },
          "yaxis": {
           "automargin": true,
           "gridcolor": "white",
           "linecolor": "white",
           "ticks": "",
           "title": {
            "standoff": 15
           },
           "zerolinecolor": "white",
           "zerolinewidth": 2
          }
         }
        },
        "title": {
         "text": "Countries' contributions to GHG emission in year 2023"
        },
        "width": 1100
       }
      }
     },
     "metadata": {},
     "output_type": "display_data"
    },
    {
     "data": {
      "application/vnd.plotly.v1+json": {
       "config": {
        "plotlyServerURL": "https://plot.ly"
       },
       "data": [
        {
         "branchvalues": "total",
         "customdata": [
          [
           "Middle East & North Africa"
          ],
          [
           "East Asia & Pacific"
          ],
          [
           "Europe & Central Asia"
          ],
          [
           "Middle East & North Africa"
          ],
          [
           "Sub-Saharan Africa"
          ],
          [
           "Sub-Saharan Africa"
          ],
          [
           "East Asia & Pacific"
          ],
          [
           "Sub-Saharan Africa"
          ],
          [
           "Sub-Saharan Africa"
          ],
          [
           "Europe & Central Asia"
          ],
          [
           "Sub-Saharan Africa"
          ],
          [
           "Sub-Saharan Africa"
          ],
          [
           "Latin America & Caribbean"
          ],
          [
           "Sub-Saharan Africa"
          ],
          [
           "Europe & Central Asia"
          ],
          [
           "East Asia & Pacific"
          ],
          [
           "East Asia & Pacific"
          ],
          [
           "East Asia & Pacific"
          ],
          [
           "Sub-Saharan Africa"
          ],
          [
           "South Asia"
          ],
          [
           "Sub-Saharan Africa"
          ],
          [
           "Latin America & Caribbean"
          ],
          [
           "East Asia & Pacific"
          ],
          [
           "Latin America & Caribbean"
          ],
          [
           "East Asia & Pacific"
          ],
          [
           "East Asia & Pacific"
          ],
          [
           "East Asia & Pacific"
          ],
          [
           "Europe & Central Asia"
          ],
          [
           "South Asia"
          ],
          [
           "Middle East & North Africa"
          ],
          [
           "Europe & Central Asia"
          ],
          [
           "Europe & Central Asia"
          ],
          [
           "Middle East & North Africa"
          ],
          [
           "Latin America & Caribbean"
          ],
          [
           "Sub-Saharan Africa"
          ],
          [
           "Europe & Central Asia"
          ],
          [
           "Sub-Saharan Africa"
          ],
          [
           "Middle East & North Africa"
          ],
          [
           "Sub-Saharan Africa"
          ],
          [
           "Latin America & Caribbean"
          ],
          [
           "Middle East & North Africa"
          ],
          [
           "Sub-Saharan Africa"
          ],
          [
           "Europe & Central Asia"
          ],
          [
           "East Asia & Pacific"
          ],
          [
           "Europe & Central Asia"
          ],
          [
           "Latin America & Caribbean"
          ],
          [
           "East Asia & Pacific"
          ],
          [
           "International Aviation and Shipping"
          ],
          [
           "Latin America & Caribbean"
          ],
          [
           "East Asia & Pacific"
          ],
          [
           "Sub-Saharan Africa"
          ],
          [
           "Europe & Central Asia"
          ],
          [
           "East Asia & Pacific"
          ],
          [
           "Middle East & North Africa"
          ],
          [
           "Europe & Central Asia"
          ],
          [
           "Sub-Saharan Africa"
          ],
          [
           "Latin America & Caribbean"
          ],
          [
           "Latin America & Caribbean"
          ],
          [
           "East Asia & Pacific"
          ],
          [
           "Europe & Central Asia"
          ],
          [
           "Latin America & Caribbean"
          ],
          [
           "Middle East & North Africa"
          ],
          [
           "Latin America & Caribbean"
          ],
          [
           "Sub-Saharan Africa"
          ],
          [
           "Middle East & North Africa"
          ],
          [
           "Sub-Saharan Africa"
          ],
          [
           "Latin America & Caribbean"
          ],
          [
           "Europe & Central Asia"
          ],
          [
           "Middle East & North Africa"
          ],
          [
           "East Asia & Pacific"
          ],
          [
           "Latin America & Caribbean"
          ],
          [
           "Sub-Saharan Africa"
          ],
          [
           "Sub-Saharan Africa"
          ],
          [
           "Europe & Central Asia"
          ],
          [
           "Europe & Central Asia"
          ],
          [
           "Europe & Central Asia"
          ],
          [
           "South Asia"
          ],
          [
           "Latin America & Caribbean"
          ],
          [
           "North America"
          ],
          [
           "Middle East & North Africa"
          ],
          [
           "Middle East & North Africa"
          ],
          [
           "North America"
          ],
          [
           "Latin America & Caribbean"
          ],
          [
           "Europe & Central Asia"
          ],
          [
           "Sub-Saharan Africa"
          ],
          [
           "Latin America & Caribbean"
          ],
          [
           "Europe & Central Asia"
          ],
          [
           "Europe & Central Asia"
          ],
          [
           "Latin America & Caribbean"
          ],
          [
           "North America"
          ],
          [
           "Latin America & Caribbean"
          ],
          [
           "Europe & Central Asia"
          ],
          [
           "South Asia"
          ],
          [
           "Europe & Central Asia"
          ],
          [
           "Sub-Saharan Africa"
          ],
          [
           "Sub-Saharan Africa"
          ],
          [
           "East Asia & Pacific"
          ],
          [
           "Europe & Central Asia"
          ],
          [
           "East Asia & Pacific"
          ],
          [
           "Middle East & North Africa"
          ],
          [
           "Europe & Central Asia"
          ],
          [
           "South Asia"
          ],
          [
           "Europe & Central Asia"
          ],
          [
           "Latin America & Caribbean"
          ],
          [
           "Latin America & Caribbean"
          ],
          [
           "Europe & Central Asia"
          ],
          [
           "Sub-Saharan Africa"
          ],
          [
           "Latin America & Caribbean"
          ],
          [
           "Latin America & Caribbean"
          ],
          [
           "Sub-Saharan Africa"
          ],
          [
           "Latin America & Caribbean"
          ],
          [
           "Latin America & Caribbean"
          ],
          [
           "Europe & Central Asia"
          ],
          [
           "East Asia & Pacific"
          ],
          [
           "Sub-Saharan Africa"
          ],
          [
           "Latin America & Caribbean"
          ],
          [
           "Sub-Saharan Africa"
          ],
          [
           "Europe & Central Asia"
          ],
          [
           "Europe & Central Asia"
          ],
          [
           "Sub-Saharan Africa"
          ],
          [
           "Latin America & Caribbean"
          ],
          [
           "Latin America & Caribbean"
          ],
          [
           "Europe & Central Asia"
          ],
          [
           "Latin America & Caribbean"
          ],
          [
           "South Asia"
          ],
          [
           "Sub-Saharan Africa"
          ],
          [
           "Latin America & Caribbean"
          ],
          [
           "Europe & Central Asia"
          ],
          [
           "Latin America & Caribbean"
          ],
          [
           "East Asia & Pacific"
          ],
          [
           "Middle East & North Africa"
          ],
          [
           "Sub-Saharan Africa"
          ],
          [
           "Europe & Central Asia"
          ],
          [
           "Sub-Saharan Africa"
          ],
          [
           "Sub-Saharan Africa"
          ],
          [
           "Middle East & North Africa"
          ],
          [
           "Latin America & Caribbean"
          ],
          [
           "Middle East & North Africa"
          ],
          [
           "Latin America & Caribbean"
          ],
          [
           "North America"
          ],
          [
           "Latin America & Caribbean"
          ],
          [
           "Middle East & North Africa"
          ],
          [
           "Sub-Saharan Africa"
          ],
          [
           "East Asia & Pacific"
          ],
          [
           "Sub-Saharan Africa"
          ],
          [
           "International Aviation and Shipping"
          ],
          [
           "Europe & Central Asia"
          ],
          [
           "Europe & Central Asia"
          ],
          [
           "Middle East & North Africa"
          ],
          [
           "Sub-Saharan Africa"
          ],
          [
           "Middle East & North Africa"
          ],
          [
           "Sub-Saharan Africa"
          ],
          [
           "Latin America & Caribbean"
          ],
          [
           "Europe & Central Asia"
          ],
          [
           "East Asia & Pacific"
          ],
          [
           "Europe & Central Asia"
          ],
          [
           "Sub-Saharan Africa"
          ],
          [
           "Sub-Saharan Africa"
          ],
          [
           "Latin America & Caribbean"
          ],
          [
           "South Asia"
          ],
          [
           "East Asia & Pacific"
          ],
          [
           "Latin America & Caribbean"
          ],
          [
           "East Asia & Pacific"
          ],
          [
           "Europe & Central Asia"
          ],
          [
           "Europe & Central Asia"
          ],
          [
           "Europe & Central Asia"
          ],
          [
           "Europe & Central Asia"
          ],
          [
           "Sub-Saharan Africa"
          ],
          [
           "Latin America & Caribbean"
          ],
          [
           "Europe & Central Asia"
          ],
          [
           "Europe & Central Asia"
          ],
          [
           "South Asia"
          ],
          [
           "Middle East & North Africa"
          ],
          [
           "Sub-Saharan Africa"
          ],
          [
           "Middle East & North Africa"
          ],
          [
           "East Asia & Pacific"
          ],
          [
           "Sub-Saharan Africa"
          ],
          [
           "Sub-Saharan Africa"
          ],
          [
           "Europe & Central Asia"
          ],
          [
           "East Asia & Pacific"
          ],
          [
           "Sub-Saharan Africa"
          ],
          [
           "Latin America & Caribbean"
          ],
          [
           "Sub-Saharan Africa"
          ],
          [
           "Latin America & Caribbean"
          ],
          [
           "Europe & Central Asia"
          ],
          [
           "East Asia & Pacific"
          ],
          [
           "Europe & Central Asia"
          ],
          [
           "Sub-Saharan Africa"
          ],
          [
           "East Asia & Pacific"
          ],
          [
           "Europe & Central Asia"
          ],
          [
           "Europe & Central Asia"
          ],
          [
           "Latin America & Caribbean"
          ],
          [
           "Europe & Central Asia"
          ],
          [
           "Latin America & Caribbean"
          ],
          [
           "East Asia & Pacific"
          ],
          [
           "Latin America & Caribbean"
          ],
          [
           "Europe & Central Asia"
          ],
          [
           "Latin America & Caribbean"
          ],
          [
           "Sub-Saharan Africa"
          ],
          [
           "East Asia & Pacific"
          ],
          [
           "Sub-Saharan Africa"
          ],
          [
           "Latin America & Caribbean"
          ],
          [
           "East Asia & Pacific"
          ],
          [
           "Sub-Saharan Africa"
          ],
          [
           "Europe & Central Asia"
          ],
          [
           "Europe & Central Asia"
          ],
          [
           "Sub-Saharan Africa"
          ],
          [
           "East Asia & Pacific"
          ],
          [
           "East Asia & Pacific"
          ],
          [
           "Sub-Saharan Africa"
          ],
          [
           "East Asia & Pacific"
          ],
          [
           "Europe & Central Asia"
          ],
          [
           "International Aviation and Shipping"
          ],
          [
           "Latin America & Caribbean"
          ],
          [
           "Middle East & North Africa"
          ],
          [
           "North America"
          ],
          [
           "South Asia"
          ],
          [
           "Sub-Saharan Africa"
          ],
          [
           "(?)"
          ]
         ],
         "domain": {
          "x": [
           0,
           1
          ],
          "y": [
           0,
           1
          ]
         },
         "hovertemplate": "labels=%{label}<br>2023=%{value}<br>parent=%{parent}<br>id=%{id}<br>Region=%{customdata[0]}<extra></extra>",
         "ids": [
          "Global Total/Middle East & North Africa/Kuwait",
          "Global Total/East Asia & Pacific/Timor-Leste",
          "Global Total/Europe & Central Asia/Poland",
          "Global Total/Middle East & North Africa/Morocco",
          "Global Total/Sub-Saharan Africa/Burkina Faso",
          "Global Total/Sub-Saharan Africa/Mozambique",
          "Global Total/East Asia & Pacific/New Zealand",
          "Global Total/Sub-Saharan Africa/Niger",
          "Global Total/Sub-Saharan Africa/Central African Republic",
          "Global Total/Europe & Central Asia/Slovakia",
          "Global Total/Sub-Saharan Africa/Sierra Leone",
          "Global Total/Sub-Saharan Africa/Comoros",
          "Global Total/Latin America & Caribbean/Falkland Islands",
          "Global Total/Sub-Saharan Africa/Réunion",
          "Global Total/Europe & Central Asia/Romania",
          "Global Total/East Asia & Pacific/Japan",
          "Global Total/East Asia & Pacific/Palau",
          "Global Total/East Asia & Pacific/Philippines",
          "Global Total/Sub-Saharan Africa/Togo",
          "Global Total/South Asia/Maldives",
          "Global Total/Sub-Saharan Africa/Tanzania",
          "Global Total/Latin America & Caribbean/Haiti",
          "Global Total/East Asia & Pacific/Viet Nam",
          "Global Total/Latin America & Caribbean/Venezuela",
          "Global Total/East Asia & Pacific/Vanuatu",
          "Global Total/East Asia & Pacific/Kiribati",
          "Global Total/East Asia & Pacific/Laos",
          "Global Total/Europe & Central Asia/Azerbaijan",
          "Global Total/South Asia/India",
          "Global Total/Middle East & North Africa/Lebanon",
          "Global Total/Europe & Central Asia/Portugal",
          "Global Total/Europe & Central Asia/Turkmenistan",
          "Global Total/Middle East & North Africa/Malta",
          "Global Total/Latin America & Caribbean/Guatemala",
          "Global Total/Sub-Saharan Africa/Eritrea",
          "Global Total/Europe & Central Asia/Estonia",
          "Global Total/Sub-Saharan Africa/Kenya",
          "Global Total/Middle East & North Africa/Oman",
          "Global Total/Sub-Saharan Africa/Ethiopia",
          "Global Total/Latin America & Caribbean/Grenada",
          "Global Total/Middle East & North Africa/Israel and Palestine, State of",
          "Global Total/Sub-Saharan Africa/Madagascar",
          "Global Total/Europe & Central Asia/Iceland",
          "Global Total/East Asia & Pacific/Fiji",
          "Global Total/Europe & Central Asia/Finland",
          "Global Total/Latin America & Caribbean/Mexico",
          "Global Total/East Asia & Pacific/Malaysia",
          "Global Total/International Aviation and Shipping/International Aviation",
          "Global Total/Latin America & Caribbean/French Guiana",
          "Global Total/East Asia & Pacific/French Polynesia",
          "Global Total/Sub-Saharan Africa/Malawi",
          "Global Total/Europe & Central Asia/Georgia",
          "Global Total/East Asia & Pacific/Hong Kong",
          "Global Total/Middle East & North Africa/Iraq",
          "Global Total/Europe & Central Asia/Norway",
          "Global Total/Sub-Saharan Africa/Côte d’Ivoire",
          "Global Total/Latin America & Caribbean/Puerto Rico",
          "Global Total/Latin America & Caribbean/Antigua and Barbuda",
          "Global Total/East Asia & Pacific/Australia",
          "Global Total/Europe & Central Asia/United Kingdom",
          "Global Total/Latin America & Caribbean/Bahamas",
          "Global Total/Middle East & North Africa/Bahrain",
          "Global Total/Latin America & Caribbean/Barbados",
          "Global Total/Sub-Saharan Africa/Uganda",
          "Global Total/Middle East & North Africa/Tunisia",
          "Global Total/Sub-Saharan Africa/Benin",
          "Global Total/Latin America & Caribbean/Bolivia",
          "Global Total/Europe & Central Asia/Bosnia and Herzegovina",
          "Global Total/Middle East & North Africa/Djibouti",
          "Global Total/East Asia & Pacific/Thailand",
          "Global Total/Latin America & Caribbean/Suriname",
          "Global Total/Sub-Saharan Africa/Sudan and South Sudan",
          "Global Total/Sub-Saharan Africa/The Gambia",
          "Global Total/Europe & Central Asia/Russia",
          "Global Total/Europe & Central Asia/Czechia",
          "Global Total/Europe & Central Asia/Cyprus",
          "Global Total/South Asia/Sri Lanka",
          "Global Total/Latin America & Caribbean/Saint Lucia",
          "Global Total/North America/Saint Pierre and Miquelon",
          "Global Total/Middle East & North Africa/Saudi Arabia",
          "Global Total/Middle East & North Africa/Jordan",
          "Global Total/North America/Canada",
          "Global Total/Latin America & Caribbean/Anguilla",
          "Global Total/Europe & Central Asia/Serbia and Montenegro",
          "Global Total/Sub-Saharan Africa/Mauritius",
          "Global Total/Latin America & Caribbean/Peru",
          "Global Total/Europe & Central Asia/Uzbekistan",
          "Global Total/Europe & Central Asia/Kyrgyzstan",
          "Global Total/Latin America & Caribbean/Uruguay",
          "Global Total/North America/United States",
          "Global Total/Latin America & Caribbean/Paraguay",
          "Global Total/Europe & Central Asia/Lithuania",
          "Global Total/South Asia/Nepal",
          "Global Total/Europe & Central Asia/Ukraine",
          "Global Total/Sub-Saharan Africa/São Tomé and Príncipe",
          "Global Total/Sub-Saharan Africa/Rwanda",
          "Global Total/East Asia & Pacific/Solomon Islands",
          "Global Total/Europe & Central Asia/North Macedonia",
          "Global Total/East Asia & Pacific/Tonga",
          "Global Total/Middle East & North Africa/Qatar",
          "Global Total/Europe & Central Asia/Spain and Andorra",
          "Global Total/South Asia/Afghanistan",
          "Global Total/Europe & Central Asia/Croatia",
          "Global Total/Latin America & Caribbean/Ecuador",
          "Global Total/Latin America & Caribbean/Dominica",
          "Global Total/Europe & Central Asia/Denmark",
          "Global Total/Sub-Saharan Africa/Ghana",
          "Global Total/Latin America & Caribbean/Curaçao",
          "Global Total/Latin America & Caribbean/Cuba",
          "Global Total/Sub-Saharan Africa/Congo",
          "Global Total/Latin America & Caribbean/Cayman Islands",
          "Global Total/Latin America & Caribbean/Guadeloupe",
          "Global Total/Europe & Central Asia/Bulgaria",
          "Global Total/East Asia & Pacific/Brunei",
          "Global Total/Sub-Saharan Africa/Guinea-Bissau",
          "Global Total/Latin America & Caribbean/Guyana",
          "Global Total/Sub-Saharan Africa/Guinea",
          "Global Total/Europe & Central Asia/Hungary",
          "Global Total/Europe & Central Asia/Italy, San Marino and the Holy See",
          "Global Total/Sub-Saharan Africa/Angola",
          "Global Total/Latin America & Caribbean/Argentina",
          "Global Total/Latin America & Caribbean/Honduras",
          "Global Total/Europe & Central Asia/Austria",
          "Global Total/Latin America & Caribbean/Aruba",
          "Global Total/South Asia/Bhutan",
          "Global Total/Sub-Saharan Africa/Botswana",
          "Global Total/Latin America & Caribbean/British Virgin Islands",
          "Global Total/Europe & Central Asia/Faroes",
          "Global Total/Latin America & Caribbean/Trinidad and Tobago",
          "Global Total/East Asia & Pacific/Samoa",
          "Global Total/Middle East & North Africa/Syria",
          "Global Total/Sub-Saharan Africa/Saint Helena, Ascension and Tristan da Cunha",
          "Global Total/Europe & Central Asia/Armenia",
          "Global Total/Sub-Saharan Africa/Democratic Republic of the Congo",
          "Global Total/Sub-Saharan Africa/Equatorial Guinea",
          "Global Total/Middle East & North Africa/Western Sahara",
          "Global Total/Latin America & Caribbean/Dominican Republic",
          "Global Total/Middle East & North Africa/Egypt",
          "Global Total/Latin America & Caribbean/Panama",
          "Global Total/North America/Bermuda",
          "Global Total/Latin America & Caribbean/Jamaica",
          "Global Total/Middle East & North Africa/Libya",
          "Global Total/Sub-Saharan Africa/Mali",
          "Global Total/East Asia & Pacific/Mongolia",
          "Global Total/Sub-Saharan Africa/Lesotho",
          "Global Total/International Aviation and Shipping/International Shipping",
          "Global Total/Europe & Central Asia/Latvia",
          "Global Total/Europe & Central Asia/Ireland",
          "Global Total/Middle East & North Africa/Iran",
          "Global Total/Sub-Saharan Africa/Cameroon",
          "Global Total/Middle East & North Africa/United Arab Emirates",
          "Global Total/Sub-Saharan Africa/South Africa",
          "Global Total/Latin America & Caribbean/Brazil",
          "Global Total/Europe & Central Asia/Albania",
          "Global Total/East Asia & Pacific/Papua New Guinea",
          "Global Total/Europe & Central Asia/Luxembourg",
          "Global Total/Sub-Saharan Africa/Mauritania",
          "Global Total/Sub-Saharan Africa/Burundi",
          "Global Total/Latin America & Caribbean/Belize",
          "Global Total/South Asia/Pakistan",
          "Global Total/East Asia & Pacific/Indonesia",
          "Global Total/Latin America & Caribbean/Martinique",
          "Global Total/East Asia & Pacific/Taiwan",
          "Global Total/Europe & Central Asia/Tajikistan",
          "Global Total/Europe & Central Asia/Sweden",
          "Global Total/Europe & Central Asia/Switzerland and Liechtenstein",
          "Global Total/Europe & Central Asia/Belgium",
          "Global Total/Sub-Saharan Africa/Liberia",
          "Global Total/Latin America & Caribbean/Turks and Caicos Islands",
          "Global Total/Europe & Central Asia/Türkiye",
          "Global Total/Europe & Central Asia/Belarus",
          "Global Total/South Asia/Bangladesh",
          "Global Total/Middle East & North Africa/Algeria",
          "Global Total/Sub-Saharan Africa/Zambia",
          "Global Total/Middle East & North Africa/Yemen",
          "Global Total/East Asia & Pacific/Macao",
          "Global Total/Sub-Saharan Africa/Cabo Verde",
          "Global Total/Sub-Saharan Africa/Eswatini",
          "Global Total/Europe & Central Asia/France and Monaco",
          "Global Total/East Asia & Pacific/North Korea",
          "Global Total/Sub-Saharan Africa/Nigeria",
          "Global Total/Latin America & Caribbean/El Salvador",
          "Global Total/Sub-Saharan Africa/Gabon",
          "Global Total/Latin America & Caribbean/Nicaragua",
          "Global Total/Europe & Central Asia/Germany",
          "Global Total/East Asia & Pacific/New Caledonia",
          "Global Total/Europe & Central Asia/Netherlands",
          "Global Total/Sub-Saharan Africa/Namibia",
          "Global Total/East Asia & Pacific/Myanmar/Burma",
          "Global Total/Europe & Central Asia/Gibraltar",
          "Global Total/Europe & Central Asia/Kazakhstan",
          "Global Total/Latin America & Caribbean/Costa Rica",
          "Global Total/Europe & Central Asia/Greece",
          "Global Total/Latin America & Caribbean/Saint Kitts and Nevis",
          "Global Total/East Asia & Pacific/Cook Islands",
          "Global Total/Latin America & Caribbean/Saint Vincent and the Grenadines",
          "Global Total/Europe & Central Asia/Moldova",
          "Global Total/Latin America & Caribbean/Colombia",
          "Global Total/Sub-Saharan Africa/Senegal",
          "Global Total/East Asia & Pacific/China",
          "Global Total/Sub-Saharan Africa/Seychelles",
          "Global Total/Latin America & Caribbean/Chile",
          "Global Total/East Asia & Pacific/Singapore",
          "Global Total/Sub-Saharan Africa/Chad",
          "Global Total/Europe & Central Asia/Slovenia",
          "Global Total/Europe & Central Asia/Greenland",
          "Global Total/Sub-Saharan Africa/Somalia",
          "Global Total/East Asia & Pacific/South Korea",
          "Global Total/East Asia & Pacific/Cambodia",
          "Global Total/Sub-Saharan Africa/Zimbabwe",
          "Global Total/East Asia & Pacific",
          "Global Total/Europe & Central Asia",
          "Global Total/International Aviation and Shipping",
          "Global Total/Latin America & Caribbean",
          "Global Total/Middle East & North Africa",
          "Global Total/North America",
          "Global Total/South Asia",
          "Global Total/Sub-Saharan Africa",
          "Global Total"
         ],
         "labels": [
          "Kuwait",
          "Timor-Leste",
          "Poland",
          "Morocco",
          "Burkina Faso",
          "Mozambique",
          "New Zealand",
          "Niger",
          "Central African Republic",
          "Slovakia",
          "Sierra Leone",
          "Comoros",
          "Falkland Islands",
          "Réunion",
          "Romania",
          "Japan",
          "Palau",
          "Philippines",
          "Togo",
          "Maldives",
          "Tanzania",
          "Haiti",
          "Viet Nam",
          "Venezuela",
          "Vanuatu",
          "Kiribati",
          "Laos",
          "Azerbaijan",
          "India",
          "Lebanon",
          "Portugal",
          "Turkmenistan",
          "Malta",
          "Guatemala",
          "Eritrea",
          "Estonia",
          "Kenya",
          "Oman",
          "Ethiopia",
          "Grenada",
          "Israel and Palestine, State of",
          "Madagascar",
          "Iceland",
          "Fiji",
          "Finland",
          "Mexico",
          "Malaysia",
          "International Aviation",
          "French Guiana",
          "French Polynesia",
          "Malawi",
          "Georgia",
          "Hong Kong",
          "Iraq",
          "Norway",
          "Côte d’Ivoire",
          "Puerto Rico",
          "Antigua and Barbuda",
          "Australia",
          "United Kingdom",
          "Bahamas",
          "Bahrain",
          "Barbados",
          "Uganda",
          "Tunisia",
          "Benin",
          "Bolivia",
          "Bosnia and Herzegovina",
          "Djibouti",
          "Thailand",
          "Suriname",
          "Sudan and South Sudan",
          "The Gambia",
          "Russia",
          "Czechia",
          "Cyprus",
          "Sri Lanka",
          "Saint Lucia",
          "Saint Pierre and Miquelon",
          "Saudi Arabia",
          "Jordan",
          "Canada",
          "Anguilla",
          "Serbia and Montenegro",
          "Mauritius",
          "Peru",
          "Uzbekistan",
          "Kyrgyzstan",
          "Uruguay",
          "United States",
          "Paraguay",
          "Lithuania",
          "Nepal",
          "Ukraine",
          "São Tomé and Príncipe",
          "Rwanda",
          "Solomon Islands",
          "North Macedonia",
          "Tonga",
          "Qatar",
          "Spain and Andorra",
          "Afghanistan",
          "Croatia",
          "Ecuador",
          "Dominica",
          "Denmark",
          "Ghana",
          "Curaçao",
          "Cuba",
          "Congo",
          "Cayman Islands",
          "Guadeloupe",
          "Bulgaria",
          "Brunei",
          "Guinea-Bissau",
          "Guyana",
          "Guinea",
          "Hungary",
          "Italy, San Marino and the Holy See",
          "Angola",
          "Argentina",
          "Honduras",
          "Austria",
          "Aruba",
          "Bhutan",
          "Botswana",
          "British Virgin Islands",
          "Faroes",
          "Trinidad and Tobago",
          "Samoa",
          "Syria",
          "Saint Helena, Ascension and Tristan da Cunha",
          "Armenia",
          "Democratic Republic of the Congo",
          "Equatorial Guinea",
          "Western Sahara",
          "Dominican Republic",
          "Egypt",
          "Panama",
          "Bermuda",
          "Jamaica",
          "Libya",
          "Mali",
          "Mongolia",
          "Lesotho",
          "International Shipping",
          "Latvia",
          "Ireland",
          "Iran",
          "Cameroon",
          "United Arab Emirates",
          "South Africa",
          "Brazil",
          "Albania",
          "Papua New Guinea",
          "Luxembourg",
          "Mauritania",
          "Burundi",
          "Belize",
          "Pakistan",
          "Indonesia",
          "Martinique",
          "Taiwan",
          "Tajikistan",
          "Sweden",
          "Switzerland and Liechtenstein",
          "Belgium",
          "Liberia",
          "Turks and Caicos Islands",
          "Türkiye",
          "Belarus",
          "Bangladesh",
          "Algeria",
          "Zambia",
          "Yemen",
          "Macao",
          "Cabo Verde",
          "Eswatini",
          "France and Monaco",
          "North Korea",
          "Nigeria",
          "El Salvador",
          "Gabon",
          "Nicaragua",
          "Germany",
          "New Caledonia",
          "Netherlands",
          "Namibia",
          "Myanmar/Burma",
          "Gibraltar",
          "Kazakhstan",
          "Costa Rica",
          "Greece",
          "Saint Kitts and Nevis",
          "Cook Islands",
          "Saint Vincent and the Grenadines",
          "Moldova",
          "Colombia",
          "Senegal",
          "China",
          "Seychelles",
          "Chile",
          "Singapore",
          "Chad",
          "Slovenia",
          "Greenland",
          "Somalia",
          "South Korea",
          "Cambodia",
          "Zimbabwe",
          "East Asia & Pacific",
          "Europe & Central Asia",
          "International Aviation and Shipping",
          "Latin America & Caribbean",
          "Middle East & North Africa",
          "North America",
          "South Asia",
          "Sub-Saharan Africa",
          "Global Total"
         ],
         "marker": {
          "colors": [
           "#00B1EA",
           "#003299",
           "#FFB400",
           "#00B1EA",
           "#077C1D",
           "#077C1D",
           "#003299",
           "#077C1D",
           "#077C1D",
           "#FFB400",
           "#077C1D",
           "#077C1D",
           "#8139C6",
           "#077C1D",
           "#FFB400",
           "#003299",
           "#003299",
           "#003299",
           "#077C1D",
           "#65B800",
           "#077C1D",
           "#8139C6",
           "#003299",
           "#8139C6",
           "#003299",
           "#003299",
           "#003299",
           "#FFB400",
           "#65B800",
           "#00B1EA",
           "#FFB400",
           "#FFB400",
           "#00B1EA",
           "#8139C6",
           "#077C1D",
           "#FFB400",
           "#077C1D",
           "#00B1EA",
           "#077C1D",
           "#8139C6",
           "#00B1EA",
           "#077C1D",
           "#FFB400",
           "#003299",
           "#FFB400",
           "#8139C6",
           "#003299",
           "#FF97FF",
           "#8139C6",
           "#003299",
           "#077C1D",
           "#FFB400",
           "#003299",
           "#00B1EA",
           "#FFB400",
           "#077C1D",
           "#8139C6",
           "#8139C6",
           "#003299",
           "#FFB400",
           "#8139C6",
           "#00B1EA",
           "#8139C6",
           "#077C1D",
           "#00B1EA",
           "#077C1D",
           "#8139C6",
           "#FFB400",
           "#00B1EA",
           "#003299",
           "#8139C6",
           "#077C1D",
           "#077C1D",
           "#FFB400",
           "#FFB400",
           "#FFB400",
           "#65B800",
           "#8139C6",
           "#FF4B00",
           "#00B1EA",
           "#00B1EA",
           "#FF4B00",
           "#8139C6",
           "#FFB400",
           "#077C1D",
           "#8139C6",
           "#FFB400",
           "#FFB400",
           "#8139C6",
           "#FF4B00",
           "#8139C6",
           "#FFB400",
           "#65B800",
           "#FFB400",
           "#077C1D",
           "#077C1D",
           "#003299",
           "#FFB400",
           "#003299",
           "#00B1EA",
           "#FFB400",
           "#65B800",
           "#FFB400",
           "#8139C6",
           "#8139C6",
           "#FFB400",
           "#077C1D",
           "#8139C6",
           "#8139C6",
           "#077C1D",
           "#8139C6",
           "#8139C6",
           "#FFB400",
           "#003299",
           "#077C1D",
           "#8139C6",
           "#077C1D",
           "#FFB400",
           "#FFB400",
           "#077C1D",
           "#8139C6",
           "#8139C6",
           "#FFB400",
           "#8139C6",
           "#65B800",
           "#077C1D",
           "#8139C6",
           "#FFB400",
           "#8139C6",
           "#003299",
           "#00B1EA",
           "#077C1D",
           "#FFB400",
           "#077C1D",
           "#077C1D",
           "#00B1EA",
           "#8139C6",
           "#00B1EA",
           "#8139C6",
           "#FF4B00",
           "#8139C6",
           "#00B1EA",
           "#077C1D",
           "#003299",
           "#077C1D",
           "#FF97FF",
           "#FFB400",
           "#FFB400",
           "#00B1EA",
           "#077C1D",
           "#00B1EA",
           "#077C1D",
           "#8139C6",
           "#FFB400",
           "#003299",
           "#FFB400",
           "#077C1D",
           "#077C1D",
           "#8139C6",
           "#65B800",
           "#003299",
           "#8139C6",
           "#003299",
           "#FFB400",
           "#FFB400",
           "#FFB400",
           "#FFB400",
           "#077C1D",
           "#8139C6",
           "#FFB400",
           "#FFB400",
           "#65B800",
           "#00B1EA",
           "#077C1D",
           "#00B1EA",
           "#003299",
           "#077C1D",
           "#077C1D",
           "#FFB400",
           "#003299",
           "#077C1D",
           "#8139C6",
           "#077C1D",
           "#8139C6",
           "#FFB400",
           "#003299",
           "#FFB400",
           "#077C1D",
           "#003299",
           "#FFB400",
           "#FFB400",
           "#8139C6",
           "#FFB400",
           "#8139C6",
           "#003299",
           "#8139C6",
           "#FFB400",
           "#8139C6",
           "#077C1D",
           "#003299",
           "#077C1D",
           "#8139C6",
           "#003299",
           "#077C1D",
           "#FFB400",
           "#FFB400",
           "#077C1D",
           "#003299",
           "#003299",
           "#077C1D",
           "#003299",
           "#FFB400",
           "#FF97FF",
           "#8139C6",
           "#00B1EA",
           "#FF4B00",
           "#65B800",
           "#077C1D",
           "lightgrey"
          ]
         },
         "name": "",
         "parents": [
          "Global Total/Middle East & North Africa",
          "Global Total/East Asia & Pacific",
          "Global Total/Europe & Central Asia",
          "Global Total/Middle East & North Africa",
          "Global Total/Sub-Saharan Africa",
          "Global Total/Sub-Saharan Africa",
          "Global Total/East Asia & Pacific",
          "Global Total/Sub-Saharan Africa",
          "Global Total/Sub-Saharan Africa",
          "Global Total/Europe & Central Asia",
          "Global Total/Sub-Saharan Africa",
          "Global Total/Sub-Saharan Africa",
          "Global Total/Latin America & Caribbean",
          "Global Total/Sub-Saharan Africa",
          "Global Total/Europe & Central Asia",
          "Global Total/East Asia & Pacific",
          "Global Total/East Asia & Pacific",
          "Global Total/East Asia & Pacific",
          "Global Total/Sub-Saharan Africa",
          "Global Total/South Asia",
          "Global Total/Sub-Saharan Africa",
          "Global Total/Latin America & Caribbean",
          "Global Total/East Asia & Pacific",
          "Global Total/Latin America & Caribbean",
          "Global Total/East Asia & Pacific",
          "Global Total/East Asia & Pacific",
          "Global Total/East Asia & Pacific",
          "Global Total/Europe & Central Asia",
          "Global Total/South Asia",
          "Global Total/Middle East & North Africa",
          "Global Total/Europe & Central Asia",
          "Global Total/Europe & Central Asia",
          "Global Total/Middle East & North Africa",
          "Global Total/Latin America & Caribbean",
          "Global Total/Sub-Saharan Africa",
          "Global Total/Europe & Central Asia",
          "Global Total/Sub-Saharan Africa",
          "Global Total/Middle East & North Africa",
          "Global Total/Sub-Saharan Africa",
          "Global Total/Latin America & Caribbean",
          "Global Total/Middle East & North Africa",
          "Global Total/Sub-Saharan Africa",
          "Global Total/Europe & Central Asia",
          "Global Total/East Asia & Pacific",
          "Global Total/Europe & Central Asia",
          "Global Total/Latin America & Caribbean",
          "Global Total/East Asia & Pacific",
          "Global Total/International Aviation and Shipping",
          "Global Total/Latin America & Caribbean",
          "Global Total/East Asia & Pacific",
          "Global Total/Sub-Saharan Africa",
          "Global Total/Europe & Central Asia",
          "Global Total/East Asia & Pacific",
          "Global Total/Middle East & North Africa",
          "Global Total/Europe & Central Asia",
          "Global Total/Sub-Saharan Africa",
          "Global Total/Latin America & Caribbean",
          "Global Total/Latin America & Caribbean",
          "Global Total/East Asia & Pacific",
          "Global Total/Europe & Central Asia",
          "Global Total/Latin America & Caribbean",
          "Global Total/Middle East & North Africa",
          "Global Total/Latin America & Caribbean",
          "Global Total/Sub-Saharan Africa",
          "Global Total/Middle East & North Africa",
          "Global Total/Sub-Saharan Africa",
          "Global Total/Latin America & Caribbean",
          "Global Total/Europe & Central Asia",
          "Global Total/Middle East & North Africa",
          "Global Total/East Asia & Pacific",
          "Global Total/Latin America & Caribbean",
          "Global Total/Sub-Saharan Africa",
          "Global Total/Sub-Saharan Africa",
          "Global Total/Europe & Central Asia",
          "Global Total/Europe & Central Asia",
          "Global Total/Europe & Central Asia",
          "Global Total/South Asia",
          "Global Total/Latin America & Caribbean",
          "Global Total/North America",
          "Global Total/Middle East & North Africa",
          "Global Total/Middle East & North Africa",
          "Global Total/North America",
          "Global Total/Latin America & Caribbean",
          "Global Total/Europe & Central Asia",
          "Global Total/Sub-Saharan Africa",
          "Global Total/Latin America & Caribbean",
          "Global Total/Europe & Central Asia",
          "Global Total/Europe & Central Asia",
          "Global Total/Latin America & Caribbean",
          "Global Total/North America",
          "Global Total/Latin America & Caribbean",
          "Global Total/Europe & Central Asia",
          "Global Total/South Asia",
          "Global Total/Europe & Central Asia",
          "Global Total/Sub-Saharan Africa",
          "Global Total/Sub-Saharan Africa",
          "Global Total/East Asia & Pacific",
          "Global Total/Europe & Central Asia",
          "Global Total/East Asia & Pacific",
          "Global Total/Middle East & North Africa",
          "Global Total/Europe & Central Asia",
          "Global Total/South Asia",
          "Global Total/Europe & Central Asia",
          "Global Total/Latin America & Caribbean",
          "Global Total/Latin America & Caribbean",
          "Global Total/Europe & Central Asia",
          "Global Total/Sub-Saharan Africa",
          "Global Total/Latin America & Caribbean",
          "Global Total/Latin America & Caribbean",
          "Global Total/Sub-Saharan Africa",
          "Global Total/Latin America & Caribbean",
          "Global Total/Latin America & Caribbean",
          "Global Total/Europe & Central Asia",
          "Global Total/East Asia & Pacific",
          "Global Total/Sub-Saharan Africa",
          "Global Total/Latin America & Caribbean",
          "Global Total/Sub-Saharan Africa",
          "Global Total/Europe & Central Asia",
          "Global Total/Europe & Central Asia",
          "Global Total/Sub-Saharan Africa",
          "Global Total/Latin America & Caribbean",
          "Global Total/Latin America & Caribbean",
          "Global Total/Europe & Central Asia",
          "Global Total/Latin America & Caribbean",
          "Global Total/South Asia",
          "Global Total/Sub-Saharan Africa",
          "Global Total/Latin America & Caribbean",
          "Global Total/Europe & Central Asia",
          "Global Total/Latin America & Caribbean",
          "Global Total/East Asia & Pacific",
          "Global Total/Middle East & North Africa",
          "Global Total/Sub-Saharan Africa",
          "Global Total/Europe & Central Asia",
          "Global Total/Sub-Saharan Africa",
          "Global Total/Sub-Saharan Africa",
          "Global Total/Middle East & North Africa",
          "Global Total/Latin America & Caribbean",
          "Global Total/Middle East & North Africa",
          "Global Total/Latin America & Caribbean",
          "Global Total/North America",
          "Global Total/Latin America & Caribbean",
          "Global Total/Middle East & North Africa",
          "Global Total/Sub-Saharan Africa",
          "Global Total/East Asia & Pacific",
          "Global Total/Sub-Saharan Africa",
          "Global Total/International Aviation and Shipping",
          "Global Total/Europe & Central Asia",
          "Global Total/Europe & Central Asia",
          "Global Total/Middle East & North Africa",
          "Global Total/Sub-Saharan Africa",
          "Global Total/Middle East & North Africa",
          "Global Total/Sub-Saharan Africa",
          "Global Total/Latin America & Caribbean",
          "Global Total/Europe & Central Asia",
          "Global Total/East Asia & Pacific",
          "Global Total/Europe & Central Asia",
          "Global Total/Sub-Saharan Africa",
          "Global Total/Sub-Saharan Africa",
          "Global Total/Latin America & Caribbean",
          "Global Total/South Asia",
          "Global Total/East Asia & Pacific",
          "Global Total/Latin America & Caribbean",
          "Global Total/East Asia & Pacific",
          "Global Total/Europe & Central Asia",
          "Global Total/Europe & Central Asia",
          "Global Total/Europe & Central Asia",
          "Global Total/Europe & Central Asia",
          "Global Total/Sub-Saharan Africa",
          "Global Total/Latin America & Caribbean",
          "Global Total/Europe & Central Asia",
          "Global Total/Europe & Central Asia",
          "Global Total/South Asia",
          "Global Total/Middle East & North Africa",
          "Global Total/Sub-Saharan Africa",
          "Global Total/Middle East & North Africa",
          "Global Total/East Asia & Pacific",
          "Global Total/Sub-Saharan Africa",
          "Global Total/Sub-Saharan Africa",
          "Global Total/Europe & Central Asia",
          "Global Total/East Asia & Pacific",
          "Global Total/Sub-Saharan Africa",
          "Global Total/Latin America & Caribbean",
          "Global Total/Sub-Saharan Africa",
          "Global Total/Latin America & Caribbean",
          "Global Total/Europe & Central Asia",
          "Global Total/East Asia & Pacific",
          "Global Total/Europe & Central Asia",
          "Global Total/Sub-Saharan Africa",
          "Global Total/East Asia & Pacific",
          "Global Total/Europe & Central Asia",
          "Global Total/Europe & Central Asia",
          "Global Total/Latin America & Caribbean",
          "Global Total/Europe & Central Asia",
          "Global Total/Latin America & Caribbean",
          "Global Total/East Asia & Pacific",
          "Global Total/Latin America & Caribbean",
          "Global Total/Europe & Central Asia",
          "Global Total/Latin America & Caribbean",
          "Global Total/Sub-Saharan Africa",
          "Global Total/East Asia & Pacific",
          "Global Total/Sub-Saharan Africa",
          "Global Total/Latin America & Caribbean",
          "Global Total/East Asia & Pacific",
          "Global Total/Sub-Saharan Africa",
          "Global Total/Europe & Central Asia",
          "Global Total/Europe & Central Asia",
          "Global Total/Sub-Saharan Africa",
          "Global Total/East Asia & Pacific",
          "Global Total/East Asia & Pacific",
          "Global Total/Sub-Saharan Africa",
          "Global Total",
          "Global Total",
          "Global Total",
          "Global Total",
          "Global Total",
          "Global Total",
          "Global Total",
          "Global Total",
          ""
         ],
         "root": {
          "color": "lightgrey"
         },
         "type": "icicle",
         "values": [
          167.91576883104,
          2.0071829501919,
          363.79425000758,
          106.60223103187,
          34.456815083211,
          33.953984042408,
          84.209811532415,
          42.334092053639,
          12.502621395351,
          44.775610890682,
          6.9377160598998,
          0.76176779618891,
          0.17239134049142,
          2.9206981620469,
          105.85240058122,
          1041.0128248687,
          1.5016528321032,
          256.14715481705,
          10.612911987181,
          3.0879519663505,
          89.815439405641,
          13.656955798463,
          524.13346380418,
          152.38992311311,
          0.67021230161327,
          0.13017626101136,
          42.056212706049,
          62.550294041306,
          4133.5543557465,
          24.672324496902,
          53.004607295263,
          98.79411982866,
          2.0338652584277,
          43.981074467992,
          6.4018203690061,
          14.363974872585,
          107.97690921511,
          127.44302070563,
          170.03385065137,
          0.20040725685748,
          79.578174881426,
          33.150776404127,
          4.171936013462,
          3.4009927758626,
          43.45353679725,
          712.10209803987,
          325.40584765842,
          498.17811441525,
          0.57338749677229,
          1.3745553234525,
          19.714051394182,
          19.049153820466,
          40.16776057819,
          362.78479656291,
          56.717099715738,
          32.184005493065,
          16.063991058379,
          0.38855617147726,
          571.83984854671,
          379.31858785213,
          2.0502828926945,
          63.733860649409,
          0.98904380539195,
          53.370989410157,
          43.578530969544,
          16.699491601107,
          55.185652756247,
          29.397991348246,
          2.1324079847022,
          440.78301465571,
          3.7377177696646,
          138.74157453584,
          1.8888012914382,
          2672.0394366031,
          114.43841612936,
          10.324656394181,
          38.403849844142,
          0.45126691251345,
          0.046573728277142,
          805.15810845823,
          33.407709056244,
          747.67802680902,
          0.026210752219878,
          67.214992478558,
          6.1987377637869,
          94.048681371836,
          214.53138443861,
          21.698229839443,
          41.634111747759,
          5960.8043799939,
          41.6245592458,
          20.683656998446,
          56.830982733611,
          216.09280539526,
          0.30345441468402,
          7.4932661090211,
          0.7208177463664,
          11.370029305485,
          0.34210672521812,
          154.38356524031,
          285.38389989719,
          29.460052109846,
          25.013482276387,
          73.604607615068,
          0.14691940907449,
          41.831473036828,
          48.265926450338,
          2.5321443120251,
          39.400331633766,
          23.702014388194,
          0.39013759296906,
          1.4622285867384,
          53.372279020841,
          12.157942508343,
          2.9974771167324,
          8.190988601015,
          28.634657504101,
          60.92677185673,
          374.12419472876,
          67.700756247715,
          365.68461861929,
          22.920141542444,
          72.921492529812,
          0.56149760455405,
          3.2548573740653,
          12.712755146957,
          0.09106902611319,
          0.050700306537543,
          34.187024015247,
          0.64614359538246,
          41.21058254401,
          0.021271020996457,
          10.836336950669,
          56.105911645373,
          6.9820980789903,
          0.68479507293985,
          48.396213040658,
          335.96804878176,
          21.281689073781,
          0.37883791454079,
          8.1629239257775,
          95.929766915197,
          45.4630975003,
          83.704559899687,
          2.6019212840001,
          746.94368210501,
          10.957491923456,
          57.853266947361,
          996.7526808229,
          39.377188823331,
          267.82319378586,
          522.11549112331,
          1300.1688666752,
          7.6736715330197,
          9.6409981982956,
          7.8609330392057,
          16.509274363264,
          7.0491399156994,
          0.92034733748831,
          532.37448361892,
          1200.1997867973,
          1.2184203684901,
          308.00043191949,
          21.438119694098,
          49.118373633418,
          43.446393813877,
          106.37018790875,
          4.5323879353986,
          0.11025472286272,
          606.42985584791,
          84.277601484293,
          281.38053496815,
          256.79213126858,
          30.484449374284,
          32.242871779425,
          3.1190096511524,
          1.2315183876125,
          3.2895503749739,
          385.52011950564,
          90.148479942173,
          385.11288377147,
          13.051313657078,
          21.402080428809,
          20.628271187746,
          681.81032815187,
          6.6142165933615,
          150.74579824257,
          12.885675050293,
          115.07725289766,
          0.71237260220074,
          320.34998496393,
          16.468143919331,
          69.266029551595,
          0.17447409234332,
          0.1543181744716,
          0.15077509193013,
          13.54241150505,
          223.96663405241,
          28.843732000256,
          15943.986552905,
          1.3387084460449,
          121.46313217391,
          74.290132466078,
          95.377319649136,
          15.993517423122,
          0.64726465731155,
          32.499935850652,
          653.8461399874,
          48.77483220475,
          31.019306383582,
          21886.264433823788,
          8182.111523679463,
          1245.12179652026,
          3504.609479874849,
          4000.8284350973167,
          6708.907818445738,
          5078.347068361584,
          2356.7103029002747,
          52962.90085870327
         ]
        }
       ],
       "layout": {
        "height": 1500,
        "legend": {
         "tracegroupgap": 0
        },
        "margin": {
         "b": 0,
         "l": 0,
         "r": 0,
         "t": 30
        },
        "template": {
         "data": {
          "bar": [
           {
            "error_x": {
             "color": "#2a3f5f"
            },
            "error_y": {
             "color": "#2a3f5f"
            },
            "marker": {
             "line": {
              "color": "#E5ECF6",
              "width": 0.5
             },
             "pattern": {
              "fillmode": "overlay",
              "size": 10,
              "solidity": 0.2
             }
            },
            "type": "bar"
           }
          ],
          "barpolar": [
           {
            "marker": {
             "line": {
              "color": "#E5ECF6",
              "width": 0.5
             },
             "pattern": {
              "fillmode": "overlay",
              "size": 10,
              "solidity": 0.2
             }
            },
            "type": "barpolar"
           }
          ],
          "carpet": [
           {
            "aaxis": {
             "endlinecolor": "#2a3f5f",
             "gridcolor": "white",
             "linecolor": "white",
             "minorgridcolor": "white",
             "startlinecolor": "#2a3f5f"
            },
            "baxis": {
             "endlinecolor": "#2a3f5f",
             "gridcolor": "white",
             "linecolor": "white",
             "minorgridcolor": "white",
             "startlinecolor": "#2a3f5f"
            },
            "type": "carpet"
           }
          ],
          "choropleth": [
           {
            "colorbar": {
             "outlinewidth": 0,
             "ticks": ""
            },
            "type": "choropleth"
           }
          ],
          "contour": [
           {
            "colorbar": {
             "outlinewidth": 0,
             "ticks": ""
            },
            "colorscale": [
             [
              0,
              "#0d0887"
             ],
             [
              0.1111111111111111,
              "#46039f"
             ],
             [
              0.2222222222222222,
              "#7201a8"
             ],
             [
              0.3333333333333333,
              "#9c179e"
             ],
             [
              0.4444444444444444,
              "#bd3786"
             ],
             [
              0.5555555555555556,
              "#d8576b"
             ],
             [
              0.6666666666666666,
              "#ed7953"
             ],
             [
              0.7777777777777778,
              "#fb9f3a"
             ],
             [
              0.8888888888888888,
              "#fdca26"
             ],
             [
              1,
              "#f0f921"
             ]
            ],
            "type": "contour"
           }
          ],
          "contourcarpet": [
           {
            "colorbar": {
             "outlinewidth": 0,
             "ticks": ""
            },
            "type": "contourcarpet"
           }
          ],
          "heatmap": [
           {
            "colorbar": {
             "outlinewidth": 0,
             "ticks": ""
            },
            "colorscale": [
             [
              0,
              "#0d0887"
             ],
             [
              0.1111111111111111,
              "#46039f"
             ],
             [
              0.2222222222222222,
              "#7201a8"
             ],
             [
              0.3333333333333333,
              "#9c179e"
             ],
             [
              0.4444444444444444,
              "#bd3786"
             ],
             [
              0.5555555555555556,
              "#d8576b"
             ],
             [
              0.6666666666666666,
              "#ed7953"
             ],
             [
              0.7777777777777778,
              "#fb9f3a"
             ],
             [
              0.8888888888888888,
              "#fdca26"
             ],
             [
              1,
              "#f0f921"
             ]
            ],
            "type": "heatmap"
           }
          ],
          "heatmapgl": [
           {
            "colorbar": {
             "outlinewidth": 0,
             "ticks": ""
            },
            "colorscale": [
             [
              0,
              "#0d0887"
             ],
             [
              0.1111111111111111,
              "#46039f"
             ],
             [
              0.2222222222222222,
              "#7201a8"
             ],
             [
              0.3333333333333333,
              "#9c179e"
             ],
             [
              0.4444444444444444,
              "#bd3786"
             ],
             [
              0.5555555555555556,
              "#d8576b"
             ],
             [
              0.6666666666666666,
              "#ed7953"
             ],
             [
              0.7777777777777778,
              "#fb9f3a"
             ],
             [
              0.8888888888888888,
              "#fdca26"
             ],
             [
              1,
              "#f0f921"
             ]
            ],
            "type": "heatmapgl"
           }
          ],
          "histogram": [
           {
            "marker": {
             "pattern": {
              "fillmode": "overlay",
              "size": 10,
              "solidity": 0.2
             }
            },
            "type": "histogram"
           }
          ],
          "histogram2d": [
           {
            "colorbar": {
             "outlinewidth": 0,
             "ticks": ""
            },
            "colorscale": [
             [
              0,
              "#0d0887"
             ],
             [
              0.1111111111111111,
              "#46039f"
             ],
             [
              0.2222222222222222,
              "#7201a8"
             ],
             [
              0.3333333333333333,
              "#9c179e"
             ],
             [
              0.4444444444444444,
              "#bd3786"
             ],
             [
              0.5555555555555556,
              "#d8576b"
             ],
             [
              0.6666666666666666,
              "#ed7953"
             ],
             [
              0.7777777777777778,
              "#fb9f3a"
             ],
             [
              0.8888888888888888,
              "#fdca26"
             ],
             [
              1,
              "#f0f921"
             ]
            ],
            "type": "histogram2d"
           }
          ],
          "histogram2dcontour": [
           {
            "colorbar": {
             "outlinewidth": 0,
             "ticks": ""
            },
            "colorscale": [
             [
              0,
              "#0d0887"
             ],
             [
              0.1111111111111111,
              "#46039f"
             ],
             [
              0.2222222222222222,
              "#7201a8"
             ],
             [
              0.3333333333333333,
              "#9c179e"
             ],
             [
              0.4444444444444444,
              "#bd3786"
             ],
             [
              0.5555555555555556,
              "#d8576b"
             ],
             [
              0.6666666666666666,
              "#ed7953"
             ],
             [
              0.7777777777777778,
              "#fb9f3a"
             ],
             [
              0.8888888888888888,
              "#fdca26"
             ],
             [
              1,
              "#f0f921"
             ]
            ],
            "type": "histogram2dcontour"
           }
          ],
          "mesh3d": [
           {
            "colorbar": {
             "outlinewidth": 0,
             "ticks": ""
            },
            "type": "mesh3d"
           }
          ],
          "parcoords": [
           {
            "line": {
             "colorbar": {
              "outlinewidth": 0,
              "ticks": ""
             }
            },
            "type": "parcoords"
           }
          ],
          "pie": [
           {
            "automargin": true,
            "type": "pie"
           }
          ],
          "scatter": [
           {
            "fillpattern": {
             "fillmode": "overlay",
             "size": 10,
             "solidity": 0.2
            },
            "type": "scatter"
           }
          ],
          "scatter3d": [
           {
            "line": {
             "colorbar": {
              "outlinewidth": 0,
              "ticks": ""
             }
            },
            "marker": {
             "colorbar": {
              "outlinewidth": 0,
              "ticks": ""
             }
            },
            "type": "scatter3d"
           }
          ],
          "scattercarpet": [
           {
            "marker": {
             "colorbar": {
              "outlinewidth": 0,
              "ticks": ""
             }
            },
            "type": "scattercarpet"
           }
          ],
          "scattergeo": [
           {
            "marker": {
             "colorbar": {
              "outlinewidth": 0,
              "ticks": ""
             }
            },
            "type": "scattergeo"
           }
          ],
          "scattergl": [
           {
            "marker": {
             "colorbar": {
              "outlinewidth": 0,
              "ticks": ""
             }
            },
            "type": "scattergl"
           }
          ],
          "scattermapbox": [
           {
            "marker": {
             "colorbar": {
              "outlinewidth": 0,
              "ticks": ""
             }
            },
            "type": "scattermapbox"
           }
          ],
          "scatterpolar": [
           {
            "marker": {
             "colorbar": {
              "outlinewidth": 0,
              "ticks": ""
             }
            },
            "type": "scatterpolar"
           }
          ],
          "scatterpolargl": [
           {
            "marker": {
             "colorbar": {
              "outlinewidth": 0,
              "ticks": ""
             }
            },
            "type": "scatterpolargl"
           }
          ],
          "scatterternary": [
           {
            "marker": {
             "colorbar": {
              "outlinewidth": 0,
              "ticks": ""
             }
            },
            "type": "scatterternary"
           }
          ],
          "surface": [
           {
            "colorbar": {
             "outlinewidth": 0,
             "ticks": ""
            },
            "colorscale": [
             [
              0,
              "#0d0887"
             ],
             [
              0.1111111111111111,
              "#46039f"
             ],
             [
              0.2222222222222222,
              "#7201a8"
             ],
             [
              0.3333333333333333,
              "#9c179e"
             ],
             [
              0.4444444444444444,
              "#bd3786"
             ],
             [
              0.5555555555555556,
              "#d8576b"
             ],
             [
              0.6666666666666666,
              "#ed7953"
             ],
             [
              0.7777777777777778,
              "#fb9f3a"
             ],
             [
              0.8888888888888888,
              "#fdca26"
             ],
             [
              1,
              "#f0f921"
             ]
            ],
            "type": "surface"
           }
          ],
          "table": [
           {
            "cells": {
             "fill": {
              "color": "#EBF0F8"
             },
             "line": {
              "color": "white"
             }
            },
            "header": {
             "fill": {
              "color": "#C8D4E3"
             },
             "line": {
              "color": "white"
             }
            },
            "type": "table"
           }
          ]
         },
         "layout": {
          "annotationdefaults": {
           "arrowcolor": "#2a3f5f",
           "arrowhead": 0,
           "arrowwidth": 1
          },
          "autotypenumbers": "strict",
          "coloraxis": {
           "colorbar": {
            "outlinewidth": 0,
            "ticks": ""
           }
          },
          "colorscale": {
           "diverging": [
            [
             0,
             "#8e0152"
            ],
            [
             0.1,
             "#c51b7d"
            ],
            [
             0.2,
             "#de77ae"
            ],
            [
             0.3,
             "#f1b6da"
            ],
            [
             0.4,
             "#fde0ef"
            ],
            [
             0.5,
             "#f7f7f7"
            ],
            [
             0.6,
             "#e6f5d0"
            ],
            [
             0.7,
             "#b8e186"
            ],
            [
             0.8,
             "#7fbc41"
            ],
            [
             0.9,
             "#4d9221"
            ],
            [
             1,
             "#276419"
            ]
           ],
           "sequential": [
            [
             0,
             "#0d0887"
            ],
            [
             0.1111111111111111,
             "#46039f"
            ],
            [
             0.2222222222222222,
             "#7201a8"
            ],
            [
             0.3333333333333333,
             "#9c179e"
            ],
            [
             0.4444444444444444,
             "#bd3786"
            ],
            [
             0.5555555555555556,
             "#d8576b"
            ],
            [
             0.6666666666666666,
             "#ed7953"
            ],
            [
             0.7777777777777778,
             "#fb9f3a"
            ],
            [
             0.8888888888888888,
             "#fdca26"
            ],
            [
             1,
             "#f0f921"
            ]
           ],
           "sequentialminus": [
            [
             0,
             "#0d0887"
            ],
            [
             0.1111111111111111,
             "#46039f"
            ],
            [
             0.2222222222222222,
             "#7201a8"
            ],
            [
             0.3333333333333333,
             "#9c179e"
            ],
            [
             0.4444444444444444,
             "#bd3786"
            ],
            [
             0.5555555555555556,
             "#d8576b"
            ],
            [
             0.6666666666666666,
             "#ed7953"
            ],
            [
             0.7777777777777778,
             "#fb9f3a"
            ],
            [
             0.8888888888888888,
             "#fdca26"
            ],
            [
             1,
             "#f0f921"
            ]
           ]
          },
          "colorway": [
           "#636efa",
           "#EF553B",
           "#00cc96",
           "#ab63fa",
           "#FFA15A",
           "#19d3f3",
           "#FF6692",
           "#B6E880",
           "#FF97FF",
           "#FECB52"
          ],
          "font": {
           "color": "#2a3f5f"
          },
          "geo": {
           "bgcolor": "white",
           "lakecolor": "white",
           "landcolor": "#E5ECF6",
           "showlakes": true,
           "showland": true,
           "subunitcolor": "white"
          },
          "hoverlabel": {
           "align": "left"
          },
          "hovermode": "closest",
          "mapbox": {
           "style": "light"
          },
          "paper_bgcolor": "white",
          "plot_bgcolor": "#E5ECF6",
          "polar": {
           "angularaxis": {
            "gridcolor": "white",
            "linecolor": "white",
            "ticks": ""
           },
           "bgcolor": "#E5ECF6",
           "radialaxis": {
            "gridcolor": "white",
            "linecolor": "white",
            "ticks": ""
           }
          },
          "scene": {
           "xaxis": {
            "backgroundcolor": "#E5ECF6",
            "gridcolor": "white",
            "gridwidth": 2,
            "linecolor": "white",
            "showbackground": true,
            "ticks": "",
            "zerolinecolor": "white"
           },
           "yaxis": {
            "backgroundcolor": "#E5ECF6",
            "gridcolor": "white",
            "gridwidth": 2,
            "linecolor": "white",
            "showbackground": true,
            "ticks": "",
            "zerolinecolor": "white"
           },
           "zaxis": {
            "backgroundcolor": "#E5ECF6",
            "gridcolor": "white",
            "gridwidth": 2,
            "linecolor": "white",
            "showbackground": true,
            "ticks": "",
            "zerolinecolor": "white"
           }
          },
          "shapedefaults": {
           "line": {
            "color": "#2a3f5f"
           }
          },
          "ternary": {
           "aaxis": {
            "gridcolor": "white",
            "linecolor": "white",
            "ticks": ""
           },
           "baxis": {
            "gridcolor": "white",
            "linecolor": "white",
            "ticks": ""
           },
           "bgcolor": "#E5ECF6",
           "caxis": {
            "gridcolor": "white",
            "linecolor": "white",
            "ticks": ""
           }
          },
          "title": {
           "x": 0.05
          },
          "xaxis": {
           "automargin": true,
           "gridcolor": "white",
           "linecolor": "white",
           "ticks": "",
           "title": {
            "standoff": 15
           },
           "zerolinecolor": "white",
           "zerolinewidth": 2
          },
          "yaxis": {
           "automargin": true,
           "gridcolor": "white",
           "linecolor": "white",
           "ticks": "",
           "title": {
            "standoff": 15
           },
           "zerolinecolor": "white",
           "zerolinewidth": 2
          }
         }
        },
        "title": {
         "text": "Countries' contributions to GHG emission in year 2023"
        },
        "width": 1100
       }
      }
     },
     "metadata": {},
     "output_type": "display_data"
    },
    {
     "data": {
      "application/vnd.plotly.v1+json": {
       "config": {
        "plotlyServerURL": "https://plot.ly"
       },
       "data": [
        {
         "branchvalues": "total",
         "customdata": [
          [
           "Middle East & North Africa"
          ],
          [
           "East Asia & Pacific"
          ],
          [
           "Europe & Central Asia"
          ],
          [
           "Middle East & North Africa"
          ],
          [
           "Sub-Saharan Africa"
          ],
          [
           "Sub-Saharan Africa"
          ],
          [
           "East Asia & Pacific"
          ],
          [
           "Sub-Saharan Africa"
          ],
          [
           "Sub-Saharan Africa"
          ],
          [
           "Europe & Central Asia"
          ],
          [
           "Sub-Saharan Africa"
          ],
          [
           "Sub-Saharan Africa"
          ],
          [
           "Latin America & Caribbean"
          ],
          [
           "Sub-Saharan Africa"
          ],
          [
           "Europe & Central Asia"
          ],
          [
           "East Asia & Pacific"
          ],
          [
           "East Asia & Pacific"
          ],
          [
           "East Asia & Pacific"
          ],
          [
           "Sub-Saharan Africa"
          ],
          [
           "South Asia"
          ],
          [
           "Sub-Saharan Africa"
          ],
          [
           "Latin America & Caribbean"
          ],
          [
           "East Asia & Pacific"
          ],
          [
           "Latin America & Caribbean"
          ],
          [
           "East Asia & Pacific"
          ],
          [
           "East Asia & Pacific"
          ],
          [
           "East Asia & Pacific"
          ],
          [
           "Europe & Central Asia"
          ],
          [
           "South Asia"
          ],
          [
           "Middle East & North Africa"
          ],
          [
           "Europe & Central Asia"
          ],
          [
           "Europe & Central Asia"
          ],
          [
           "Middle East & North Africa"
          ],
          [
           "Latin America & Caribbean"
          ],
          [
           "Sub-Saharan Africa"
          ],
          [
           "Europe & Central Asia"
          ],
          [
           "Sub-Saharan Africa"
          ],
          [
           "Middle East & North Africa"
          ],
          [
           "Sub-Saharan Africa"
          ],
          [
           "Latin America & Caribbean"
          ],
          [
           "Middle East & North Africa"
          ],
          [
           "Sub-Saharan Africa"
          ],
          [
           "Europe & Central Asia"
          ],
          [
           "East Asia & Pacific"
          ],
          [
           "Europe & Central Asia"
          ],
          [
           "Latin America & Caribbean"
          ],
          [
           "East Asia & Pacific"
          ],
          [
           "International Aviation and Shipping"
          ],
          [
           "Latin America & Caribbean"
          ],
          [
           "East Asia & Pacific"
          ],
          [
           "Sub-Saharan Africa"
          ],
          [
           "Europe & Central Asia"
          ],
          [
           "East Asia & Pacific"
          ],
          [
           "Middle East & North Africa"
          ],
          [
           "Europe & Central Asia"
          ],
          [
           "Sub-Saharan Africa"
          ],
          [
           "Latin America & Caribbean"
          ],
          [
           "Latin America & Caribbean"
          ],
          [
           "East Asia & Pacific"
          ],
          [
           "Europe & Central Asia"
          ],
          [
           "Latin America & Caribbean"
          ],
          [
           "Middle East & North Africa"
          ],
          [
           "Latin America & Caribbean"
          ],
          [
           "Sub-Saharan Africa"
          ],
          [
           "Middle East & North Africa"
          ],
          [
           "Sub-Saharan Africa"
          ],
          [
           "Latin America & Caribbean"
          ],
          [
           "Europe & Central Asia"
          ],
          [
           "Middle East & North Africa"
          ],
          [
           "East Asia & Pacific"
          ],
          [
           "Latin America & Caribbean"
          ],
          [
           "Sub-Saharan Africa"
          ],
          [
           "Sub-Saharan Africa"
          ],
          [
           "Europe & Central Asia"
          ],
          [
           "Europe & Central Asia"
          ],
          [
           "Europe & Central Asia"
          ],
          [
           "South Asia"
          ],
          [
           "Latin America & Caribbean"
          ],
          [
           "North America"
          ],
          [
           "Middle East & North Africa"
          ],
          [
           "Middle East & North Africa"
          ],
          [
           "North America"
          ],
          [
           "Latin America & Caribbean"
          ],
          [
           "Europe & Central Asia"
          ],
          [
           "Sub-Saharan Africa"
          ],
          [
           "Latin America & Caribbean"
          ],
          [
           "Europe & Central Asia"
          ],
          [
           "Europe & Central Asia"
          ],
          [
           "Latin America & Caribbean"
          ],
          [
           "North America"
          ],
          [
           "Latin America & Caribbean"
          ],
          [
           "Europe & Central Asia"
          ],
          [
           "South Asia"
          ],
          [
           "Europe & Central Asia"
          ],
          [
           "Sub-Saharan Africa"
          ],
          [
           "Sub-Saharan Africa"
          ],
          [
           "East Asia & Pacific"
          ],
          [
           "Europe & Central Asia"
          ],
          [
           "East Asia & Pacific"
          ],
          [
           "Middle East & North Africa"
          ],
          [
           "Europe & Central Asia"
          ],
          [
           "South Asia"
          ],
          [
           "Europe & Central Asia"
          ],
          [
           "Latin America & Caribbean"
          ],
          [
           "Latin America & Caribbean"
          ],
          [
           "Europe & Central Asia"
          ],
          [
           "Sub-Saharan Africa"
          ],
          [
           "Latin America & Caribbean"
          ],
          [
           "Latin America & Caribbean"
          ],
          [
           "Sub-Saharan Africa"
          ],
          [
           "Latin America & Caribbean"
          ],
          [
           "Latin America & Caribbean"
          ],
          [
           "Europe & Central Asia"
          ],
          [
           "East Asia & Pacific"
          ],
          [
           "Sub-Saharan Africa"
          ],
          [
           "Latin America & Caribbean"
          ],
          [
           "Sub-Saharan Africa"
          ],
          [
           "Europe & Central Asia"
          ],
          [
           "Europe & Central Asia"
          ],
          [
           "Sub-Saharan Africa"
          ],
          [
           "Latin America & Caribbean"
          ],
          [
           "Latin America & Caribbean"
          ],
          [
           "Europe & Central Asia"
          ],
          [
           "Latin America & Caribbean"
          ],
          [
           "South Asia"
          ],
          [
           "Sub-Saharan Africa"
          ],
          [
           "Latin America & Caribbean"
          ],
          [
           "Europe & Central Asia"
          ],
          [
           "Latin America & Caribbean"
          ],
          [
           "East Asia & Pacific"
          ],
          [
           "Middle East & North Africa"
          ],
          [
           "Sub-Saharan Africa"
          ],
          [
           "Europe & Central Asia"
          ],
          [
           "Sub-Saharan Africa"
          ],
          [
           "Sub-Saharan Africa"
          ],
          [
           "Middle East & North Africa"
          ],
          [
           "Latin America & Caribbean"
          ],
          [
           "Middle East & North Africa"
          ],
          [
           "Latin America & Caribbean"
          ],
          [
           "North America"
          ],
          [
           "Latin America & Caribbean"
          ],
          [
           "Middle East & North Africa"
          ],
          [
           "Sub-Saharan Africa"
          ],
          [
           "East Asia & Pacific"
          ],
          [
           "Sub-Saharan Africa"
          ],
          [
           "International Aviation and Shipping"
          ],
          [
           "Europe & Central Asia"
          ],
          [
           "Europe & Central Asia"
          ],
          [
           "Middle East & North Africa"
          ],
          [
           "Sub-Saharan Africa"
          ],
          [
           "Middle East & North Africa"
          ],
          [
           "Sub-Saharan Africa"
          ],
          [
           "Latin America & Caribbean"
          ],
          [
           "Europe & Central Asia"
          ],
          [
           "East Asia & Pacific"
          ],
          [
           "Europe & Central Asia"
          ],
          [
           "Sub-Saharan Africa"
          ],
          [
           "Sub-Saharan Africa"
          ],
          [
           "Latin America & Caribbean"
          ],
          [
           "South Asia"
          ],
          [
           "East Asia & Pacific"
          ],
          [
           "Latin America & Caribbean"
          ],
          [
           "East Asia & Pacific"
          ],
          [
           "Europe & Central Asia"
          ],
          [
           "Europe & Central Asia"
          ],
          [
           "Europe & Central Asia"
          ],
          [
           "Europe & Central Asia"
          ],
          [
           "Sub-Saharan Africa"
          ],
          [
           "Latin America & Caribbean"
          ],
          [
           "Europe & Central Asia"
          ],
          [
           "Europe & Central Asia"
          ],
          [
           "South Asia"
          ],
          [
           "Middle East & North Africa"
          ],
          [
           "Sub-Saharan Africa"
          ],
          [
           "Middle East & North Africa"
          ],
          [
           "East Asia & Pacific"
          ],
          [
           "Sub-Saharan Africa"
          ],
          [
           "Sub-Saharan Africa"
          ],
          [
           "Europe & Central Asia"
          ],
          [
           "East Asia & Pacific"
          ],
          [
           "Sub-Saharan Africa"
          ],
          [
           "Latin America & Caribbean"
          ],
          [
           "Sub-Saharan Africa"
          ],
          [
           "Latin America & Caribbean"
          ],
          [
           "Europe & Central Asia"
          ],
          [
           "East Asia & Pacific"
          ],
          [
           "Europe & Central Asia"
          ],
          [
           "Sub-Saharan Africa"
          ],
          [
           "East Asia & Pacific"
          ],
          [
           "Europe & Central Asia"
          ],
          [
           "Europe & Central Asia"
          ],
          [
           "Latin America & Caribbean"
          ],
          [
           "Europe & Central Asia"
          ],
          [
           "Latin America & Caribbean"
          ],
          [
           "East Asia & Pacific"
          ],
          [
           "Latin America & Caribbean"
          ],
          [
           "Europe & Central Asia"
          ],
          [
           "Latin America & Caribbean"
          ],
          [
           "Sub-Saharan Africa"
          ],
          [
           "East Asia & Pacific"
          ],
          [
           "Sub-Saharan Africa"
          ],
          [
           "Latin America & Caribbean"
          ],
          [
           "East Asia & Pacific"
          ],
          [
           "Sub-Saharan Africa"
          ],
          [
           "Europe & Central Asia"
          ],
          [
           "Europe & Central Asia"
          ],
          [
           "Sub-Saharan Africa"
          ],
          [
           "East Asia & Pacific"
          ],
          [
           "East Asia & Pacific"
          ],
          [
           "Sub-Saharan Africa"
          ],
          [
           "East Asia & Pacific"
          ],
          [
           "Europe & Central Asia"
          ],
          [
           "International Aviation and Shipping"
          ],
          [
           "Latin America & Caribbean"
          ],
          [
           "Middle East & North Africa"
          ],
          [
           "North America"
          ],
          [
           "South Asia"
          ],
          [
           "Sub-Saharan Africa"
          ],
          [
           "(?)"
          ]
         ],
         "domain": {
          "x": [
           0,
           1
          ],
          "y": [
           0,
           1
          ]
         },
         "hovertemplate": "labels=%{label}<br>2023=%{value}<br>parent=%{parent}<br>id=%{id}<br>Region=%{customdata[0]}<extra></extra>",
         "ids": [
          "Global Total/Middle East & North Africa/Kuwait",
          "Global Total/East Asia & Pacific/Timor-Leste",
          "Global Total/Europe & Central Asia/Poland",
          "Global Total/Middle East & North Africa/Morocco",
          "Global Total/Sub-Saharan Africa/Burkina Faso",
          "Global Total/Sub-Saharan Africa/Mozambique",
          "Global Total/East Asia & Pacific/New Zealand",
          "Global Total/Sub-Saharan Africa/Niger",
          "Global Total/Sub-Saharan Africa/Central African Republic",
          "Global Total/Europe & Central Asia/Slovakia",
          "Global Total/Sub-Saharan Africa/Sierra Leone",
          "Global Total/Sub-Saharan Africa/Comoros",
          "Global Total/Latin America & Caribbean/Falkland Islands",
          "Global Total/Sub-Saharan Africa/Réunion",
          "Global Total/Europe & Central Asia/Romania",
          "Global Total/East Asia & Pacific/Japan",
          "Global Total/East Asia & Pacific/Palau",
          "Global Total/East Asia & Pacific/Philippines",
          "Global Total/Sub-Saharan Africa/Togo",
          "Global Total/South Asia/Maldives",
          "Global Total/Sub-Saharan Africa/Tanzania",
          "Global Total/Latin America & Caribbean/Haiti",
          "Global Total/East Asia & Pacific/Viet Nam",
          "Global Total/Latin America & Caribbean/Venezuela",
          "Global Total/East Asia & Pacific/Vanuatu",
          "Global Total/East Asia & Pacific/Kiribati",
          "Global Total/East Asia & Pacific/Laos",
          "Global Total/Europe & Central Asia/Azerbaijan",
          "Global Total/South Asia/India",
          "Global Total/Middle East & North Africa/Lebanon",
          "Global Total/Europe & Central Asia/Portugal",
          "Global Total/Europe & Central Asia/Turkmenistan",
          "Global Total/Middle East & North Africa/Malta",
          "Global Total/Latin America & Caribbean/Guatemala",
          "Global Total/Sub-Saharan Africa/Eritrea",
          "Global Total/Europe & Central Asia/Estonia",
          "Global Total/Sub-Saharan Africa/Kenya",
          "Global Total/Middle East & North Africa/Oman",
          "Global Total/Sub-Saharan Africa/Ethiopia",
          "Global Total/Latin America & Caribbean/Grenada",
          "Global Total/Middle East & North Africa/Israel and Palestine, State of",
          "Global Total/Sub-Saharan Africa/Madagascar",
          "Global Total/Europe & Central Asia/Iceland",
          "Global Total/East Asia & Pacific/Fiji",
          "Global Total/Europe & Central Asia/Finland",
          "Global Total/Latin America & Caribbean/Mexico",
          "Global Total/East Asia & Pacific/Malaysia",
          "Global Total/International Aviation and Shipping/International Aviation",
          "Global Total/Latin America & Caribbean/French Guiana",
          "Global Total/East Asia & Pacific/French Polynesia",
          "Global Total/Sub-Saharan Africa/Malawi",
          "Global Total/Europe & Central Asia/Georgia",
          "Global Total/East Asia & Pacific/Hong Kong",
          "Global Total/Middle East & North Africa/Iraq",
          "Global Total/Europe & Central Asia/Norway",
          "Global Total/Sub-Saharan Africa/Côte d’Ivoire",
          "Global Total/Latin America & Caribbean/Puerto Rico",
          "Global Total/Latin America & Caribbean/Antigua and Barbuda",
          "Global Total/East Asia & Pacific/Australia",
          "Global Total/Europe & Central Asia/United Kingdom",
          "Global Total/Latin America & Caribbean/Bahamas",
          "Global Total/Middle East & North Africa/Bahrain",
          "Global Total/Latin America & Caribbean/Barbados",
          "Global Total/Sub-Saharan Africa/Uganda",
          "Global Total/Middle East & North Africa/Tunisia",
          "Global Total/Sub-Saharan Africa/Benin",
          "Global Total/Latin America & Caribbean/Bolivia",
          "Global Total/Europe & Central Asia/Bosnia and Herzegovina",
          "Global Total/Middle East & North Africa/Djibouti",
          "Global Total/East Asia & Pacific/Thailand",
          "Global Total/Latin America & Caribbean/Suriname",
          "Global Total/Sub-Saharan Africa/Sudan and South Sudan",
          "Global Total/Sub-Saharan Africa/The Gambia",
          "Global Total/Europe & Central Asia/Russia",
          "Global Total/Europe & Central Asia/Czechia",
          "Global Total/Europe & Central Asia/Cyprus",
          "Global Total/South Asia/Sri Lanka",
          "Global Total/Latin America & Caribbean/Saint Lucia",
          "Global Total/North America/Saint Pierre and Miquelon",
          "Global Total/Middle East & North Africa/Saudi Arabia",
          "Global Total/Middle East & North Africa/Jordan",
          "Global Total/North America/Canada",
          "Global Total/Latin America & Caribbean/Anguilla",
          "Global Total/Europe & Central Asia/Serbia and Montenegro",
          "Global Total/Sub-Saharan Africa/Mauritius",
          "Global Total/Latin America & Caribbean/Peru",
          "Global Total/Europe & Central Asia/Uzbekistan",
          "Global Total/Europe & Central Asia/Kyrgyzstan",
          "Global Total/Latin America & Caribbean/Uruguay",
          "Global Total/North America/United States",
          "Global Total/Latin America & Caribbean/Paraguay",
          "Global Total/Europe & Central Asia/Lithuania",
          "Global Total/South Asia/Nepal",
          "Global Total/Europe & Central Asia/Ukraine",
          "Global Total/Sub-Saharan Africa/São Tomé and Príncipe",
          "Global Total/Sub-Saharan Africa/Rwanda",
          "Global Total/East Asia & Pacific/Solomon Islands",
          "Global Total/Europe & Central Asia/North Macedonia",
          "Global Total/East Asia & Pacific/Tonga",
          "Global Total/Middle East & North Africa/Qatar",
          "Global Total/Europe & Central Asia/Spain and Andorra",
          "Global Total/South Asia/Afghanistan",
          "Global Total/Europe & Central Asia/Croatia",
          "Global Total/Latin America & Caribbean/Ecuador",
          "Global Total/Latin America & Caribbean/Dominica",
          "Global Total/Europe & Central Asia/Denmark",
          "Global Total/Sub-Saharan Africa/Ghana",
          "Global Total/Latin America & Caribbean/Curaçao",
          "Global Total/Latin America & Caribbean/Cuba",
          "Global Total/Sub-Saharan Africa/Congo",
          "Global Total/Latin America & Caribbean/Cayman Islands",
          "Global Total/Latin America & Caribbean/Guadeloupe",
          "Global Total/Europe & Central Asia/Bulgaria",
          "Global Total/East Asia & Pacific/Brunei",
          "Global Total/Sub-Saharan Africa/Guinea-Bissau",
          "Global Total/Latin America & Caribbean/Guyana",
          "Global Total/Sub-Saharan Africa/Guinea",
          "Global Total/Europe & Central Asia/Hungary",
          "Global Total/Europe & Central Asia/Italy, San Marino and the Holy See",
          "Global Total/Sub-Saharan Africa/Angola",
          "Global Total/Latin America & Caribbean/Argentina",
          "Global Total/Latin America & Caribbean/Honduras",
          "Global Total/Europe & Central Asia/Austria",
          "Global Total/Latin America & Caribbean/Aruba",
          "Global Total/South Asia/Bhutan",
          "Global Total/Sub-Saharan Africa/Botswana",
          "Global Total/Latin America & Caribbean/British Virgin Islands",
          "Global Total/Europe & Central Asia/Faroes",
          "Global Total/Latin America & Caribbean/Trinidad and Tobago",
          "Global Total/East Asia & Pacific/Samoa",
          "Global Total/Middle East & North Africa/Syria",
          "Global Total/Sub-Saharan Africa/Saint Helena, Ascension and Tristan da Cunha",
          "Global Total/Europe & Central Asia/Armenia",
          "Global Total/Sub-Saharan Africa/Democratic Republic of the Congo",
          "Global Total/Sub-Saharan Africa/Equatorial Guinea",
          "Global Total/Middle East & North Africa/Western Sahara",
          "Global Total/Latin America & Caribbean/Dominican Republic",
          "Global Total/Middle East & North Africa/Egypt",
          "Global Total/Latin America & Caribbean/Panama",
          "Global Total/North America/Bermuda",
          "Global Total/Latin America & Caribbean/Jamaica",
          "Global Total/Middle East & North Africa/Libya",
          "Global Total/Sub-Saharan Africa/Mali",
          "Global Total/East Asia & Pacific/Mongolia",
          "Global Total/Sub-Saharan Africa/Lesotho",
          "Global Total/International Aviation and Shipping/International Shipping",
          "Global Total/Europe & Central Asia/Latvia",
          "Global Total/Europe & Central Asia/Ireland",
          "Global Total/Middle East & North Africa/Iran",
          "Global Total/Sub-Saharan Africa/Cameroon",
          "Global Total/Middle East & North Africa/United Arab Emirates",
          "Global Total/Sub-Saharan Africa/South Africa",
          "Global Total/Latin America & Caribbean/Brazil",
          "Global Total/Europe & Central Asia/Albania",
          "Global Total/East Asia & Pacific/Papua New Guinea",
          "Global Total/Europe & Central Asia/Luxembourg",
          "Global Total/Sub-Saharan Africa/Mauritania",
          "Global Total/Sub-Saharan Africa/Burundi",
          "Global Total/Latin America & Caribbean/Belize",
          "Global Total/South Asia/Pakistan",
          "Global Total/East Asia & Pacific/Indonesia",
          "Global Total/Latin America & Caribbean/Martinique",
          "Global Total/East Asia & Pacific/Taiwan",
          "Global Total/Europe & Central Asia/Tajikistan",
          "Global Total/Europe & Central Asia/Sweden",
          "Global Total/Europe & Central Asia/Switzerland and Liechtenstein",
          "Global Total/Europe & Central Asia/Belgium",
          "Global Total/Sub-Saharan Africa/Liberia",
          "Global Total/Latin America & Caribbean/Turks and Caicos Islands",
          "Global Total/Europe & Central Asia/Türkiye",
          "Global Total/Europe & Central Asia/Belarus",
          "Global Total/South Asia/Bangladesh",
          "Global Total/Middle East & North Africa/Algeria",
          "Global Total/Sub-Saharan Africa/Zambia",
          "Global Total/Middle East & North Africa/Yemen",
          "Global Total/East Asia & Pacific/Macao",
          "Global Total/Sub-Saharan Africa/Cabo Verde",
          "Global Total/Sub-Saharan Africa/Eswatini",
          "Global Total/Europe & Central Asia/France and Monaco",
          "Global Total/East Asia & Pacific/North Korea",
          "Global Total/Sub-Saharan Africa/Nigeria",
          "Global Total/Latin America & Caribbean/El Salvador",
          "Global Total/Sub-Saharan Africa/Gabon",
          "Global Total/Latin America & Caribbean/Nicaragua",
          "Global Total/Europe & Central Asia/Germany",
          "Global Total/East Asia & Pacific/New Caledonia",
          "Global Total/Europe & Central Asia/Netherlands",
          "Global Total/Sub-Saharan Africa/Namibia",
          "Global Total/East Asia & Pacific/Myanmar/Burma",
          "Global Total/Europe & Central Asia/Gibraltar",
          "Global Total/Europe & Central Asia/Kazakhstan",
          "Global Total/Latin America & Caribbean/Costa Rica",
          "Global Total/Europe & Central Asia/Greece",
          "Global Total/Latin America & Caribbean/Saint Kitts and Nevis",
          "Global Total/East Asia & Pacific/Cook Islands",
          "Global Total/Latin America & Caribbean/Saint Vincent and the Grenadines",
          "Global Total/Europe & Central Asia/Moldova",
          "Global Total/Latin America & Caribbean/Colombia",
          "Global Total/Sub-Saharan Africa/Senegal",
          "Global Total/East Asia & Pacific/China",
          "Global Total/Sub-Saharan Africa/Seychelles",
          "Global Total/Latin America & Caribbean/Chile",
          "Global Total/East Asia & Pacific/Singapore",
          "Global Total/Sub-Saharan Africa/Chad",
          "Global Total/Europe & Central Asia/Slovenia",
          "Global Total/Europe & Central Asia/Greenland",
          "Global Total/Sub-Saharan Africa/Somalia",
          "Global Total/East Asia & Pacific/South Korea",
          "Global Total/East Asia & Pacific/Cambodia",
          "Global Total/Sub-Saharan Africa/Zimbabwe",
          "Global Total/East Asia & Pacific",
          "Global Total/Europe & Central Asia",
          "Global Total/International Aviation and Shipping",
          "Global Total/Latin America & Caribbean",
          "Global Total/Middle East & North Africa",
          "Global Total/North America",
          "Global Total/South Asia",
          "Global Total/Sub-Saharan Africa",
          "Global Total"
         ],
         "labels": [
          "Kuwait",
          "Timor-Leste",
          "Poland",
          "Morocco",
          "Burkina Faso",
          "Mozambique",
          "New Zealand",
          "Niger",
          "Central African Republic",
          "Slovakia",
          "Sierra Leone",
          "Comoros",
          "Falkland Islands",
          "Réunion",
          "Romania",
          "Japan",
          "Palau",
          "Philippines",
          "Togo",
          "Maldives",
          "Tanzania",
          "Haiti",
          "Viet Nam",
          "Venezuela",
          "Vanuatu",
          "Kiribati",
          "Laos",
          "Azerbaijan",
          "India",
          "Lebanon",
          "Portugal",
          "Turkmenistan",
          "Malta",
          "Guatemala",
          "Eritrea",
          "Estonia",
          "Kenya",
          "Oman",
          "Ethiopia",
          "Grenada",
          "Israel and Palestine, State of",
          "Madagascar",
          "Iceland",
          "Fiji",
          "Finland",
          "Mexico",
          "Malaysia",
          "International Aviation",
          "French Guiana",
          "French Polynesia",
          "Malawi",
          "Georgia",
          "Hong Kong",
          "Iraq",
          "Norway",
          "Côte d’Ivoire",
          "Puerto Rico",
          "Antigua and Barbuda",
          "Australia",
          "United Kingdom",
          "Bahamas",
          "Bahrain",
          "Barbados",
          "Uganda",
          "Tunisia",
          "Benin",
          "Bolivia",
          "Bosnia and Herzegovina",
          "Djibouti",
          "Thailand",
          "Suriname",
          "Sudan and South Sudan",
          "The Gambia",
          "Russia",
          "Czechia",
          "Cyprus",
          "Sri Lanka",
          "Saint Lucia",
          "Saint Pierre and Miquelon",
          "Saudi Arabia",
          "Jordan",
          "Canada",
          "Anguilla",
          "Serbia and Montenegro",
          "Mauritius",
          "Peru",
          "Uzbekistan",
          "Kyrgyzstan",
          "Uruguay",
          "United States",
          "Paraguay",
          "Lithuania",
          "Nepal",
          "Ukraine",
          "São Tomé and Príncipe",
          "Rwanda",
          "Solomon Islands",
          "North Macedonia",
          "Tonga",
          "Qatar",
          "Spain and Andorra",
          "Afghanistan",
          "Croatia",
          "Ecuador",
          "Dominica",
          "Denmark",
          "Ghana",
          "Curaçao",
          "Cuba",
          "Congo",
          "Cayman Islands",
          "Guadeloupe",
          "Bulgaria",
          "Brunei",
          "Guinea-Bissau",
          "Guyana",
          "Guinea",
          "Hungary",
          "Italy, San Marino and the Holy See",
          "Angola",
          "Argentina",
          "Honduras",
          "Austria",
          "Aruba",
          "Bhutan",
          "Botswana",
          "British Virgin Islands",
          "Faroes",
          "Trinidad and Tobago",
          "Samoa",
          "Syria",
          "Saint Helena, Ascension and Tristan da Cunha",
          "Armenia",
          "Democratic Republic of the Congo",
          "Equatorial Guinea",
          "Western Sahara",
          "Dominican Republic",
          "Egypt",
          "Panama",
          "Bermuda",
          "Jamaica",
          "Libya",
          "Mali",
          "Mongolia",
          "Lesotho",
          "International Shipping",
          "Latvia",
          "Ireland",
          "Iran",
          "Cameroon",
          "United Arab Emirates",
          "South Africa",
          "Brazil",
          "Albania",
          "Papua New Guinea",
          "Luxembourg",
          "Mauritania",
          "Burundi",
          "Belize",
          "Pakistan",
          "Indonesia",
          "Martinique",
          "Taiwan",
          "Tajikistan",
          "Sweden",
          "Switzerland and Liechtenstein",
          "Belgium",
          "Liberia",
          "Turks and Caicos Islands",
          "Türkiye",
          "Belarus",
          "Bangladesh",
          "Algeria",
          "Zambia",
          "Yemen",
          "Macao",
          "Cabo Verde",
          "Eswatini",
          "France and Monaco",
          "North Korea",
          "Nigeria",
          "El Salvador",
          "Gabon",
          "Nicaragua",
          "Germany",
          "New Caledonia",
          "Netherlands",
          "Namibia",
          "Myanmar/Burma",
          "Gibraltar",
          "Kazakhstan",
          "Costa Rica",
          "Greece",
          "Saint Kitts and Nevis",
          "Cook Islands",
          "Saint Vincent and the Grenadines",
          "Moldova",
          "Colombia",
          "Senegal",
          "China",
          "Seychelles",
          "Chile",
          "Singapore",
          "Chad",
          "Slovenia",
          "Greenland",
          "Somalia",
          "South Korea",
          "Cambodia",
          "Zimbabwe",
          "East Asia & Pacific",
          "Europe & Central Asia",
          "International Aviation and Shipping",
          "Latin America & Caribbean",
          "Middle East & North Africa",
          "North America",
          "South Asia",
          "Sub-Saharan Africa",
          "Global Total"
         ],
         "marker": {
          "colors": [
           "#00B1EA",
           "#003299",
           "#FFB400",
           "#00B1EA",
           "#077C1D",
           "#077C1D",
           "#003299",
           "#077C1D",
           "#077C1D",
           "#FFB400",
           "#077C1D",
           "#077C1D",
           "#8139C6",
           "#077C1D",
           "#FFB400",
           "#003299",
           "#003299",
           "#003299",
           "#077C1D",
           "#65B800",
           "#077C1D",
           "#8139C6",
           "#003299",
           "#8139C6",
           "#003299",
           "#003299",
           "#003299",
           "#FFB400",
           "#65B800",
           "#00B1EA",
           "#FFB400",
           "#FFB400",
           "#00B1EA",
           "#8139C6",
           "#077C1D",
           "#FFB400",
           "#077C1D",
           "#00B1EA",
           "#077C1D",
           "#8139C6",
           "#00B1EA",
           "#077C1D",
           "#FFB400",
           "#003299",
           "#FFB400",
           "#8139C6",
           "#003299",
           "#FF97FF",
           "#8139C6",
           "#003299",
           "#077C1D",
           "#FFB400",
           "#003299",
           "#00B1EA",
           "#FFB400",
           "#077C1D",
           "#8139C6",
           "#8139C6",
           "#003299",
           "#FFB400",
           "#8139C6",
           "#00B1EA",
           "#8139C6",
           "#077C1D",
           "#00B1EA",
           "#077C1D",
           "#8139C6",
           "#FFB400",
           "#00B1EA",
           "#003299",
           "#8139C6",
           "#077C1D",
           "#077C1D",
           "#FFB400",
           "#FFB400",
           "#FFB400",
           "#65B800",
           "#8139C6",
           "#FF4B00",
           "#00B1EA",
           "#00B1EA",
           "#FF4B00",
           "#8139C6",
           "#FFB400",
           "#077C1D",
           "#8139C6",
           "#FFB400",
           "#FFB400",
           "#8139C6",
           "#FF4B00",
           "#8139C6",
           "#FFB400",
           "#65B800",
           "#FFB400",
           "#077C1D",
           "#077C1D",
           "#003299",
           "#FFB400",
           "#003299",
           "#00B1EA",
           "#FFB400",
           "#65B800",
           "#FFB400",
           "#8139C6",
           "#8139C6",
           "#FFB400",
           "#077C1D",
           "#8139C6",
           "#8139C6",
           "#077C1D",
           "#8139C6",
           "#8139C6",
           "#FFB400",
           "#003299",
           "#077C1D",
           "#8139C6",
           "#077C1D",
           "#FFB400",
           "#FFB400",
           "#077C1D",
           "#8139C6",
           "#8139C6",
           "#FFB400",
           "#8139C6",
           "#65B800",
           "#077C1D",
           "#8139C6",
           "#FFB400",
           "#8139C6",
           "#003299",
           "#00B1EA",
           "#077C1D",
           "#FFB400",
           "#077C1D",
           "#077C1D",
           "#00B1EA",
           "#8139C6",
           "#00B1EA",
           "#8139C6",
           "#FF4B00",
           "#8139C6",
           "#00B1EA",
           "#077C1D",
           "#003299",
           "#077C1D",
           "#FF97FF",
           "#FFB400",
           "#FFB400",
           "#00B1EA",
           "#077C1D",
           "#00B1EA",
           "#077C1D",
           "#8139C6",
           "#FFB400",
           "#003299",
           "#FFB400",
           "#077C1D",
           "#077C1D",
           "#8139C6",
           "#65B800",
           "#003299",
           "#8139C6",
           "#003299",
           "#FFB400",
           "#FFB400",
           "#FFB400",
           "#FFB400",
           "#077C1D",
           "#8139C6",
           "#FFB400",
           "#FFB400",
           "#65B800",
           "#00B1EA",
           "#077C1D",
           "#00B1EA",
           "#003299",
           "#077C1D",
           "#077C1D",
           "#FFB400",
           "#003299",
           "#077C1D",
           "#8139C6",
           "#077C1D",
           "#8139C6",
           "#FFB400",
           "#003299",
           "#FFB400",
           "#077C1D",
           "#003299",
           "#FFB400",
           "#FFB400",
           "#8139C6",
           "#FFB400",
           "#8139C6",
           "#003299",
           "#8139C6",
           "#FFB400",
           "#8139C6",
           "#077C1D",
           "#003299",
           "#077C1D",
           "#8139C6",
           "#003299",
           "#077C1D",
           "#FFB400",
           "#FFB400",
           "#077C1D",
           "#003299",
           "#003299",
           "#077C1D",
           "#003299",
           "#FFB400",
           "#FF97FF",
           "#8139C6",
           "#00B1EA",
           "#FF4B00",
           "#65B800",
           "#077C1D",
           "lightgrey"
          ]
         },
         "name": "",
         "parents": [
          "Global Total/Middle East & North Africa",
          "Global Total/East Asia & Pacific",
          "Global Total/Europe & Central Asia",
          "Global Total/Middle East & North Africa",
          "Global Total/Sub-Saharan Africa",
          "Global Total/Sub-Saharan Africa",
          "Global Total/East Asia & Pacific",
          "Global Total/Sub-Saharan Africa",
          "Global Total/Sub-Saharan Africa",
          "Global Total/Europe & Central Asia",
          "Global Total/Sub-Saharan Africa",
          "Global Total/Sub-Saharan Africa",
          "Global Total/Latin America & Caribbean",
          "Global Total/Sub-Saharan Africa",
          "Global Total/Europe & Central Asia",
          "Global Total/East Asia & Pacific",
          "Global Total/East Asia & Pacific",
          "Global Total/East Asia & Pacific",
          "Global Total/Sub-Saharan Africa",
          "Global Total/South Asia",
          "Global Total/Sub-Saharan Africa",
          "Global Total/Latin America & Caribbean",
          "Global Total/East Asia & Pacific",
          "Global Total/Latin America & Caribbean",
          "Global Total/East Asia & Pacific",
          "Global Total/East Asia & Pacific",
          "Global Total/East Asia & Pacific",
          "Global Total/Europe & Central Asia",
          "Global Total/South Asia",
          "Global Total/Middle East & North Africa",
          "Global Total/Europe & Central Asia",
          "Global Total/Europe & Central Asia",
          "Global Total/Middle East & North Africa",
          "Global Total/Latin America & Caribbean",
          "Global Total/Sub-Saharan Africa",
          "Global Total/Europe & Central Asia",
          "Global Total/Sub-Saharan Africa",
          "Global Total/Middle East & North Africa",
          "Global Total/Sub-Saharan Africa",
          "Global Total/Latin America & Caribbean",
          "Global Total/Middle East & North Africa",
          "Global Total/Sub-Saharan Africa",
          "Global Total/Europe & Central Asia",
          "Global Total/East Asia & Pacific",
          "Global Total/Europe & Central Asia",
          "Global Total/Latin America & Caribbean",
          "Global Total/East Asia & Pacific",
          "Global Total/International Aviation and Shipping",
          "Global Total/Latin America & Caribbean",
          "Global Total/East Asia & Pacific",
          "Global Total/Sub-Saharan Africa",
          "Global Total/Europe & Central Asia",
          "Global Total/East Asia & Pacific",
          "Global Total/Middle East & North Africa",
          "Global Total/Europe & Central Asia",
          "Global Total/Sub-Saharan Africa",
          "Global Total/Latin America & Caribbean",
          "Global Total/Latin America & Caribbean",
          "Global Total/East Asia & Pacific",
          "Global Total/Europe & Central Asia",
          "Global Total/Latin America & Caribbean",
          "Global Total/Middle East & North Africa",
          "Global Total/Latin America & Caribbean",
          "Global Total/Sub-Saharan Africa",
          "Global Total/Middle East & North Africa",
          "Global Total/Sub-Saharan Africa",
          "Global Total/Latin America & Caribbean",
          "Global Total/Europe & Central Asia",
          "Global Total/Middle East & North Africa",
          "Global Total/East Asia & Pacific",
          "Global Total/Latin America & Caribbean",
          "Global Total/Sub-Saharan Africa",
          "Global Total/Sub-Saharan Africa",
          "Global Total/Europe & Central Asia",
          "Global Total/Europe & Central Asia",
          "Global Total/Europe & Central Asia",
          "Global Total/South Asia",
          "Global Total/Latin America & Caribbean",
          "Global Total/North America",
          "Global Total/Middle East & North Africa",
          "Global Total/Middle East & North Africa",
          "Global Total/North America",
          "Global Total/Latin America & Caribbean",
          "Global Total/Europe & Central Asia",
          "Global Total/Sub-Saharan Africa",
          "Global Total/Latin America & Caribbean",
          "Global Total/Europe & Central Asia",
          "Global Total/Europe & Central Asia",
          "Global Total/Latin America & Caribbean",
          "Global Total/North America",
          "Global Total/Latin America & Caribbean",
          "Global Total/Europe & Central Asia",
          "Global Total/South Asia",
          "Global Total/Europe & Central Asia",
          "Global Total/Sub-Saharan Africa",
          "Global Total/Sub-Saharan Africa",
          "Global Total/East Asia & Pacific",
          "Global Total/Europe & Central Asia",
          "Global Total/East Asia & Pacific",
          "Global Total/Middle East & North Africa",
          "Global Total/Europe & Central Asia",
          "Global Total/South Asia",
          "Global Total/Europe & Central Asia",
          "Global Total/Latin America & Caribbean",
          "Global Total/Latin America & Caribbean",
          "Global Total/Europe & Central Asia",
          "Global Total/Sub-Saharan Africa",
          "Global Total/Latin America & Caribbean",
          "Global Total/Latin America & Caribbean",
          "Global Total/Sub-Saharan Africa",
          "Global Total/Latin America & Caribbean",
          "Global Total/Latin America & Caribbean",
          "Global Total/Europe & Central Asia",
          "Global Total/East Asia & Pacific",
          "Global Total/Sub-Saharan Africa",
          "Global Total/Latin America & Caribbean",
          "Global Total/Sub-Saharan Africa",
          "Global Total/Europe & Central Asia",
          "Global Total/Europe & Central Asia",
          "Global Total/Sub-Saharan Africa",
          "Global Total/Latin America & Caribbean",
          "Global Total/Latin America & Caribbean",
          "Global Total/Europe & Central Asia",
          "Global Total/Latin America & Caribbean",
          "Global Total/South Asia",
          "Global Total/Sub-Saharan Africa",
          "Global Total/Latin America & Caribbean",
          "Global Total/Europe & Central Asia",
          "Global Total/Latin America & Caribbean",
          "Global Total/East Asia & Pacific",
          "Global Total/Middle East & North Africa",
          "Global Total/Sub-Saharan Africa",
          "Global Total/Europe & Central Asia",
          "Global Total/Sub-Saharan Africa",
          "Global Total/Sub-Saharan Africa",
          "Global Total/Middle East & North Africa",
          "Global Total/Latin America & Caribbean",
          "Global Total/Middle East & North Africa",
          "Global Total/Latin America & Caribbean",
          "Global Total/North America",
          "Global Total/Latin America & Caribbean",
          "Global Total/Middle East & North Africa",
          "Global Total/Sub-Saharan Africa",
          "Global Total/East Asia & Pacific",
          "Global Total/Sub-Saharan Africa",
          "Global Total/International Aviation and Shipping",
          "Global Total/Europe & Central Asia",
          "Global Total/Europe & Central Asia",
          "Global Total/Middle East & North Africa",
          "Global Total/Sub-Saharan Africa",
          "Global Total/Middle East & North Africa",
          "Global Total/Sub-Saharan Africa",
          "Global Total/Latin America & Caribbean",
          "Global Total/Europe & Central Asia",
          "Global Total/East Asia & Pacific",
          "Global Total/Europe & Central Asia",
          "Global Total/Sub-Saharan Africa",
          "Global Total/Sub-Saharan Africa",
          "Global Total/Latin America & Caribbean",
          "Global Total/South Asia",
          "Global Total/East Asia & Pacific",
          "Global Total/Latin America & Caribbean",
          "Global Total/East Asia & Pacific",
          "Global Total/Europe & Central Asia",
          "Global Total/Europe & Central Asia",
          "Global Total/Europe & Central Asia",
          "Global Total/Europe & Central Asia",
          "Global Total/Sub-Saharan Africa",
          "Global Total/Latin America & Caribbean",
          "Global Total/Europe & Central Asia",
          "Global Total/Europe & Central Asia",
          "Global Total/South Asia",
          "Global Total/Middle East & North Africa",
          "Global Total/Sub-Saharan Africa",
          "Global Total/Middle East & North Africa",
          "Global Total/East Asia & Pacific",
          "Global Total/Sub-Saharan Africa",
          "Global Total/Sub-Saharan Africa",
          "Global Total/Europe & Central Asia",
          "Global Total/East Asia & Pacific",
          "Global Total/Sub-Saharan Africa",
          "Global Total/Latin America & Caribbean",
          "Global Total/Sub-Saharan Africa",
          "Global Total/Latin America & Caribbean",
          "Global Total/Europe & Central Asia",
          "Global Total/East Asia & Pacific",
          "Global Total/Europe & Central Asia",
          "Global Total/Sub-Saharan Africa",
          "Global Total/East Asia & Pacific",
          "Global Total/Europe & Central Asia",
          "Global Total/Europe & Central Asia",
          "Global Total/Latin America & Caribbean",
          "Global Total/Europe & Central Asia",
          "Global Total/Latin America & Caribbean",
          "Global Total/East Asia & Pacific",
          "Global Total/Latin America & Caribbean",
          "Global Total/Europe & Central Asia",
          "Global Total/Latin America & Caribbean",
          "Global Total/Sub-Saharan Africa",
          "Global Total/East Asia & Pacific",
          "Global Total/Sub-Saharan Africa",
          "Global Total/Latin America & Caribbean",
          "Global Total/East Asia & Pacific",
          "Global Total/Sub-Saharan Africa",
          "Global Total/Europe & Central Asia",
          "Global Total/Europe & Central Asia",
          "Global Total/Sub-Saharan Africa",
          "Global Total/East Asia & Pacific",
          "Global Total/East Asia & Pacific",
          "Global Total/Sub-Saharan Africa",
          "Global Total",
          "Global Total",
          "Global Total",
          "Global Total",
          "Global Total",
          "Global Total",
          "Global Total",
          "Global Total",
          ""
         ],
         "root": {
          "color": "lightgrey"
         },
         "type": "sunburst",
         "values": [
          167.91576883104,
          2.0071829501919,
          363.79425000758,
          106.60223103187,
          34.456815083211,
          33.953984042408,
          84.209811532415,
          42.334092053639,
          12.502621395351,
          44.775610890682,
          6.9377160598998,
          0.76176779618891,
          0.17239134049142,
          2.9206981620469,
          105.85240058122,
          1041.0128248687,
          1.5016528321032,
          256.14715481705,
          10.612911987181,
          3.0879519663505,
          89.815439405641,
          13.656955798463,
          524.13346380418,
          152.38992311311,
          0.67021230161327,
          0.13017626101136,
          42.056212706049,
          62.550294041306,
          4133.5543557465,
          24.672324496902,
          53.004607295263,
          98.79411982866,
          2.0338652584277,
          43.981074467992,
          6.4018203690061,
          14.363974872585,
          107.97690921511,
          127.44302070563,
          170.03385065137,
          0.20040725685748,
          79.578174881426,
          33.150776404127,
          4.171936013462,
          3.4009927758626,
          43.45353679725,
          712.10209803987,
          325.40584765842,
          498.17811441525,
          0.57338749677229,
          1.3745553234525,
          19.714051394182,
          19.049153820466,
          40.16776057819,
          362.78479656291,
          56.717099715738,
          32.184005493065,
          16.063991058379,
          0.38855617147726,
          571.83984854671,
          379.31858785213,
          2.0502828926945,
          63.733860649409,
          0.98904380539195,
          53.370989410157,
          43.578530969544,
          16.699491601107,
          55.185652756247,
          29.397991348246,
          2.1324079847022,
          440.78301465571,
          3.7377177696646,
          138.74157453584,
          1.8888012914382,
          2672.0394366031,
          114.43841612936,
          10.324656394181,
          38.403849844142,
          0.45126691251345,
          0.046573728277142,
          805.15810845823,
          33.407709056244,
          747.67802680902,
          0.026210752219878,
          67.214992478558,
          6.1987377637869,
          94.048681371836,
          214.53138443861,
          21.698229839443,
          41.634111747759,
          5960.8043799939,
          41.6245592458,
          20.683656998446,
          56.830982733611,
          216.09280539526,
          0.30345441468402,
          7.4932661090211,
          0.7208177463664,
          11.370029305485,
          0.34210672521812,
          154.38356524031,
          285.38389989719,
          29.460052109846,
          25.013482276387,
          73.604607615068,
          0.14691940907449,
          41.831473036828,
          48.265926450338,
          2.5321443120251,
          39.400331633766,
          23.702014388194,
          0.39013759296906,
          1.4622285867384,
          53.372279020841,
          12.157942508343,
          2.9974771167324,
          8.190988601015,
          28.634657504101,
          60.92677185673,
          374.12419472876,
          67.700756247715,
          365.68461861929,
          22.920141542444,
          72.921492529812,
          0.56149760455405,
          3.2548573740653,
          12.712755146957,
          0.09106902611319,
          0.050700306537543,
          34.187024015247,
          0.64614359538246,
          41.21058254401,
          0.021271020996457,
          10.836336950669,
          56.105911645373,
          6.9820980789903,
          0.68479507293985,
          48.396213040658,
          335.96804878176,
          21.281689073781,
          0.37883791454079,
          8.1629239257775,
          95.929766915197,
          45.4630975003,
          83.704559899687,
          2.6019212840001,
          746.94368210501,
          10.957491923456,
          57.853266947361,
          996.7526808229,
          39.377188823331,
          267.82319378586,
          522.11549112331,
          1300.1688666752,
          7.6736715330197,
          9.6409981982956,
          7.8609330392057,
          16.509274363264,
          7.0491399156994,
          0.92034733748831,
          532.37448361892,
          1200.1997867973,
          1.2184203684901,
          308.00043191949,
          21.438119694098,
          49.118373633418,
          43.446393813877,
          106.37018790875,
          4.5323879353986,
          0.11025472286272,
          606.42985584791,
          84.277601484293,
          281.38053496815,
          256.79213126858,
          30.484449374284,
          32.242871779425,
          3.1190096511524,
          1.2315183876125,
          3.2895503749739,
          385.52011950564,
          90.148479942173,
          385.11288377147,
          13.051313657078,
          21.402080428809,
          20.628271187746,
          681.81032815187,
          6.6142165933615,
          150.74579824257,
          12.885675050293,
          115.07725289766,
          0.71237260220074,
          320.34998496393,
          16.468143919331,
          69.266029551595,
          0.17447409234332,
          0.1543181744716,
          0.15077509193013,
          13.54241150505,
          223.96663405241,
          28.843732000256,
          15943.986552905,
          1.3387084460449,
          121.46313217391,
          74.290132466078,
          95.377319649136,
          15.993517423122,
          0.64726465731155,
          32.499935850652,
          653.8461399874,
          48.77483220475,
          31.019306383582,
          21886.264433823788,
          8182.111523679463,
          1245.12179652026,
          3504.609479874849,
          4000.8284350973167,
          6708.907818445738,
          5078.347068361584,
          2356.7103029002747,
          52962.90085870327
         ]
        }
       ],
       "layout": {
        "height": 1500,
        "legend": {
         "tracegroupgap": 0
        },
        "margin": {
         "b": 0,
         "l": 0,
         "r": 0,
         "t": 30
        },
        "template": {
         "data": {
          "bar": [
           {
            "error_x": {
             "color": "#2a3f5f"
            },
            "error_y": {
             "color": "#2a3f5f"
            },
            "marker": {
             "line": {
              "color": "#E5ECF6",
              "width": 0.5
             },
             "pattern": {
              "fillmode": "overlay",
              "size": 10,
              "solidity": 0.2
             }
            },
            "type": "bar"
           }
          ],
          "barpolar": [
           {
            "marker": {
             "line": {
              "color": "#E5ECF6",
              "width": 0.5
             },
             "pattern": {
              "fillmode": "overlay",
              "size": 10,
              "solidity": 0.2
             }
            },
            "type": "barpolar"
           }
          ],
          "carpet": [
           {
            "aaxis": {
             "endlinecolor": "#2a3f5f",
             "gridcolor": "white",
             "linecolor": "white",
             "minorgridcolor": "white",
             "startlinecolor": "#2a3f5f"
            },
            "baxis": {
             "endlinecolor": "#2a3f5f",
             "gridcolor": "white",
             "linecolor": "white",
             "minorgridcolor": "white",
             "startlinecolor": "#2a3f5f"
            },
            "type": "carpet"
           }
          ],
          "choropleth": [
           {
            "colorbar": {
             "outlinewidth": 0,
             "ticks": ""
            },
            "type": "choropleth"
           }
          ],
          "contour": [
           {
            "colorbar": {
             "outlinewidth": 0,
             "ticks": ""
            },
            "colorscale": [
             [
              0,
              "#0d0887"
             ],
             [
              0.1111111111111111,
              "#46039f"
             ],
             [
              0.2222222222222222,
              "#7201a8"
             ],
             [
              0.3333333333333333,
              "#9c179e"
             ],
             [
              0.4444444444444444,
              "#bd3786"
             ],
             [
              0.5555555555555556,
              "#d8576b"
             ],
             [
              0.6666666666666666,
              "#ed7953"
             ],
             [
              0.7777777777777778,
              "#fb9f3a"
             ],
             [
              0.8888888888888888,
              "#fdca26"
             ],
             [
              1,
              "#f0f921"
             ]
            ],
            "type": "contour"
           }
          ],
          "contourcarpet": [
           {
            "colorbar": {
             "outlinewidth": 0,
             "ticks": ""
            },
            "type": "contourcarpet"
           }
          ],
          "heatmap": [
           {
            "colorbar": {
             "outlinewidth": 0,
             "ticks": ""
            },
            "colorscale": [
             [
              0,
              "#0d0887"
             ],
             [
              0.1111111111111111,
              "#46039f"
             ],
             [
              0.2222222222222222,
              "#7201a8"
             ],
             [
              0.3333333333333333,
              "#9c179e"
             ],
             [
              0.4444444444444444,
              "#bd3786"
             ],
             [
              0.5555555555555556,
              "#d8576b"
             ],
             [
              0.6666666666666666,
              "#ed7953"
             ],
             [
              0.7777777777777778,
              "#fb9f3a"
             ],
             [
              0.8888888888888888,
              "#fdca26"
             ],
             [
              1,
              "#f0f921"
             ]
            ],
            "type": "heatmap"
           }
          ],
          "heatmapgl": [
           {
            "colorbar": {
             "outlinewidth": 0,
             "ticks": ""
            },
            "colorscale": [
             [
              0,
              "#0d0887"
             ],
             [
              0.1111111111111111,
              "#46039f"
             ],
             [
              0.2222222222222222,
              "#7201a8"
             ],
             [
              0.3333333333333333,
              "#9c179e"
             ],
             [
              0.4444444444444444,
              "#bd3786"
             ],
             [
              0.5555555555555556,
              "#d8576b"
             ],
             [
              0.6666666666666666,
              "#ed7953"
             ],
             [
              0.7777777777777778,
              "#fb9f3a"
             ],
             [
              0.8888888888888888,
              "#fdca26"
             ],
             [
              1,
              "#f0f921"
             ]
            ],
            "type": "heatmapgl"
           }
          ],
          "histogram": [
           {
            "marker": {
             "pattern": {
              "fillmode": "overlay",
              "size": 10,
              "solidity": 0.2
             }
            },
            "type": "histogram"
           }
          ],
          "histogram2d": [
           {
            "colorbar": {
             "outlinewidth": 0,
             "ticks": ""
            },
            "colorscale": [
             [
              0,
              "#0d0887"
             ],
             [
              0.1111111111111111,
              "#46039f"
             ],
             [
              0.2222222222222222,
              "#7201a8"
             ],
             [
              0.3333333333333333,
              "#9c179e"
             ],
             [
              0.4444444444444444,
              "#bd3786"
             ],
             [
              0.5555555555555556,
              "#d8576b"
             ],
             [
              0.6666666666666666,
              "#ed7953"
             ],
             [
              0.7777777777777778,
              "#fb9f3a"
             ],
             [
              0.8888888888888888,
              "#fdca26"
             ],
             [
              1,
              "#f0f921"
             ]
            ],
            "type": "histogram2d"
           }
          ],
          "histogram2dcontour": [
           {
            "colorbar": {
             "outlinewidth": 0,
             "ticks": ""
            },
            "colorscale": [
             [
              0,
              "#0d0887"
             ],
             [
              0.1111111111111111,
              "#46039f"
             ],
             [
              0.2222222222222222,
              "#7201a8"
             ],
             [
              0.3333333333333333,
              "#9c179e"
             ],
             [
              0.4444444444444444,
              "#bd3786"
             ],
             [
              0.5555555555555556,
              "#d8576b"
             ],
             [
              0.6666666666666666,
              "#ed7953"
             ],
             [
              0.7777777777777778,
              "#fb9f3a"
             ],
             [
              0.8888888888888888,
              "#fdca26"
             ],
             [
              1,
              "#f0f921"
             ]
            ],
            "type": "histogram2dcontour"
           }
          ],
          "mesh3d": [
           {
            "colorbar": {
             "outlinewidth": 0,
             "ticks": ""
            },
            "type": "mesh3d"
           }
          ],
          "parcoords": [
           {
            "line": {
             "colorbar": {
              "outlinewidth": 0,
              "ticks": ""
             }
            },
            "type": "parcoords"
           }
          ],
          "pie": [
           {
            "automargin": true,
            "type": "pie"
           }
          ],
          "scatter": [
           {
            "fillpattern": {
             "fillmode": "overlay",
             "size": 10,
             "solidity": 0.2
            },
            "type": "scatter"
           }
          ],
          "scatter3d": [
           {
            "line": {
             "colorbar": {
              "outlinewidth": 0,
              "ticks": ""
             }
            },
            "marker": {
             "colorbar": {
              "outlinewidth": 0,
              "ticks": ""
             }
            },
            "type": "scatter3d"
           }
          ],
          "scattercarpet": [
           {
            "marker": {
             "colorbar": {
              "outlinewidth": 0,
              "ticks": ""
             }
            },
            "type": "scattercarpet"
           }
          ],
          "scattergeo": [
           {
            "marker": {
             "colorbar": {
              "outlinewidth": 0,
              "ticks": ""
             }
            },
            "type": "scattergeo"
           }
          ],
          "scattergl": [
           {
            "marker": {
             "colorbar": {
              "outlinewidth": 0,
              "ticks": ""
             }
            },
            "type": "scattergl"
           }
          ],
          "scattermapbox": [
           {
            "marker": {
             "colorbar": {
              "outlinewidth": 0,
              "ticks": ""
             }
            },
            "type": "scattermapbox"
           }
          ],
          "scatterpolar": [
           {
            "marker": {
             "colorbar": {
              "outlinewidth": 0,
              "ticks": ""
             }
            },
            "type": "scatterpolar"
           }
          ],
          "scatterpolargl": [
           {
            "marker": {
             "colorbar": {
              "outlinewidth": 0,
              "ticks": ""
             }
            },
            "type": "scatterpolargl"
           }
          ],
          "scatterternary": [
           {
            "marker": {
             "colorbar": {
              "outlinewidth": 0,
              "ticks": ""
             }
            },
            "type": "scatterternary"
           }
          ],
          "surface": [
           {
            "colorbar": {
             "outlinewidth": 0,
             "ticks": ""
            },
            "colorscale": [
             [
              0,
              "#0d0887"
             ],
             [
              0.1111111111111111,
              "#46039f"
             ],
             [
              0.2222222222222222,
              "#7201a8"
             ],
             [
              0.3333333333333333,
              "#9c179e"
             ],
             [
              0.4444444444444444,
              "#bd3786"
             ],
             [
              0.5555555555555556,
              "#d8576b"
             ],
             [
              0.6666666666666666,
              "#ed7953"
             ],
             [
              0.7777777777777778,
              "#fb9f3a"
             ],
             [
              0.8888888888888888,
              "#fdca26"
             ],
             [
              1,
              "#f0f921"
             ]
            ],
            "type": "surface"
           }
          ],
          "table": [
           {
            "cells": {
             "fill": {
              "color": "#EBF0F8"
             },
             "line": {
              "color": "white"
             }
            },
            "header": {
             "fill": {
              "color": "#C8D4E3"
             },
             "line": {
              "color": "white"
             }
            },
            "type": "table"
           }
          ]
         },
         "layout": {
          "annotationdefaults": {
           "arrowcolor": "#2a3f5f",
           "arrowhead": 0,
           "arrowwidth": 1
          },
          "autotypenumbers": "strict",
          "coloraxis": {
           "colorbar": {
            "outlinewidth": 0,
            "ticks": ""
           }
          },
          "colorscale": {
           "diverging": [
            [
             0,
             "#8e0152"
            ],
            [
             0.1,
             "#c51b7d"
            ],
            [
             0.2,
             "#de77ae"
            ],
            [
             0.3,
             "#f1b6da"
            ],
            [
             0.4,
             "#fde0ef"
            ],
            [
             0.5,
             "#f7f7f7"
            ],
            [
             0.6,
             "#e6f5d0"
            ],
            [
             0.7,
             "#b8e186"
            ],
            [
             0.8,
             "#7fbc41"
            ],
            [
             0.9,
             "#4d9221"
            ],
            [
             1,
             "#276419"
            ]
           ],
           "sequential": [
            [
             0,
             "#0d0887"
            ],
            [
             0.1111111111111111,
             "#46039f"
            ],
            [
             0.2222222222222222,
             "#7201a8"
            ],
            [
             0.3333333333333333,
             "#9c179e"
            ],
            [
             0.4444444444444444,
             "#bd3786"
            ],
            [
             0.5555555555555556,
             "#d8576b"
            ],
            [
             0.6666666666666666,
             "#ed7953"
            ],
            [
             0.7777777777777778,
             "#fb9f3a"
            ],
            [
             0.8888888888888888,
             "#fdca26"
            ],
            [
             1,
             "#f0f921"
            ]
           ],
           "sequentialminus": [
            [
             0,
             "#0d0887"
            ],
            [
             0.1111111111111111,
             "#46039f"
            ],
            [
             0.2222222222222222,
             "#7201a8"
            ],
            [
             0.3333333333333333,
             "#9c179e"
            ],
            [
             0.4444444444444444,
             "#bd3786"
            ],
            [
             0.5555555555555556,
             "#d8576b"
            ],
            [
             0.6666666666666666,
             "#ed7953"
            ],
            [
             0.7777777777777778,
             "#fb9f3a"
            ],
            [
             0.8888888888888888,
             "#fdca26"
            ],
            [
             1,
             "#f0f921"
            ]
           ]
          },
          "colorway": [
           "#636efa",
           "#EF553B",
           "#00cc96",
           "#ab63fa",
           "#FFA15A",
           "#19d3f3",
           "#FF6692",
           "#B6E880",
           "#FF97FF",
           "#FECB52"
          ],
          "font": {
           "color": "#2a3f5f"
          },
          "geo": {
           "bgcolor": "white",
           "lakecolor": "white",
           "landcolor": "#E5ECF6",
           "showlakes": true,
           "showland": true,
           "subunitcolor": "white"
          },
          "hoverlabel": {
           "align": "left"
          },
          "hovermode": "closest",
          "mapbox": {
           "style": "light"
          },
          "paper_bgcolor": "white",
          "plot_bgcolor": "#E5ECF6",
          "polar": {
           "angularaxis": {
            "gridcolor": "white",
            "linecolor": "white",
            "ticks": ""
           },
           "bgcolor": "#E5ECF6",
           "radialaxis": {
            "gridcolor": "white",
            "linecolor": "white",
            "ticks": ""
           }
          },
          "scene": {
           "xaxis": {
            "backgroundcolor": "#E5ECF6",
            "gridcolor": "white",
            "gridwidth": 2,
            "linecolor": "white",
            "showbackground": true,
            "ticks": "",
            "zerolinecolor": "white"
           },
           "yaxis": {
            "backgroundcolor": "#E5ECF6",
            "gridcolor": "white",
            "gridwidth": 2,
            "linecolor": "white",
            "showbackground": true,
            "ticks": "",
            "zerolinecolor": "white"
           },
           "zaxis": {
            "backgroundcolor": "#E5ECF6",
            "gridcolor": "white",
            "gridwidth": 2,
            "linecolor": "white",
            "showbackground": true,
            "ticks": "",
            "zerolinecolor": "white"
           }
          },
          "shapedefaults": {
           "line": {
            "color": "#2a3f5f"
           }
          },
          "ternary": {
           "aaxis": {
            "gridcolor": "white",
            "linecolor": "white",
            "ticks": ""
           },
           "baxis": {
            "gridcolor": "white",
            "linecolor": "white",
            "ticks": ""
           },
           "bgcolor": "#E5ECF6",
           "caxis": {
            "gridcolor": "white",
            "linecolor": "white",
            "ticks": ""
           }
          },
          "title": {
           "x": 0.05
          },
          "xaxis": {
           "automargin": true,
           "gridcolor": "white",
           "linecolor": "white",
           "ticks": "",
           "title": {
            "standoff": 15
           },
           "zerolinecolor": "white",
           "zerolinewidth": 2
          },
          "yaxis": {
           "automargin": true,
           "gridcolor": "white",
           "linecolor": "white",
           "ticks": "",
           "title": {
            "standoff": 15
           },
           "zerolinecolor": "white",
           "zerolinewidth": 2
          }
         }
        },
        "title": {
         "text": "Countries' contributions to GHG emission in year 2023"
        },
        "width": 1100
       }
      }
     },
     "metadata": {},
     "output_type": "display_data"
    },
    {
     "data": {
      "application/vnd.plotly.v1+json": {
       "config": {
        "plotlyServerURL": "https://plot.ly"
       },
       "data": [
        {
         "branchvalues": "total",
         "customdata": [
          [
           "Middle East & North Africa"
          ],
          [
           "East Asia & Pacific"
          ],
          [
           "Europe & Central Asia"
          ],
          [
           "Middle East & North Africa"
          ],
          [
           "Sub-Saharan Africa"
          ],
          [
           "Sub-Saharan Africa"
          ],
          [
           "East Asia & Pacific"
          ],
          [
           "Sub-Saharan Africa"
          ],
          [
           "Sub-Saharan Africa"
          ],
          [
           "Europe & Central Asia"
          ],
          [
           "Sub-Saharan Africa"
          ],
          [
           "Sub-Saharan Africa"
          ],
          [
           "Latin America & Caribbean"
          ],
          [
           "Sub-Saharan Africa"
          ],
          [
           "Europe & Central Asia"
          ],
          [
           "East Asia & Pacific"
          ],
          [
           "East Asia & Pacific"
          ],
          [
           "East Asia & Pacific"
          ],
          [
           "Sub-Saharan Africa"
          ],
          [
           "South Asia"
          ],
          [
           "Sub-Saharan Africa"
          ],
          [
           "Latin America & Caribbean"
          ],
          [
           "East Asia & Pacific"
          ],
          [
           "Latin America & Caribbean"
          ],
          [
           "East Asia & Pacific"
          ],
          [
           "East Asia & Pacific"
          ],
          [
           "East Asia & Pacific"
          ],
          [
           "Europe & Central Asia"
          ],
          [
           "South Asia"
          ],
          [
           "Middle East & North Africa"
          ],
          [
           "Europe & Central Asia"
          ],
          [
           "Europe & Central Asia"
          ],
          [
           "Middle East & North Africa"
          ],
          [
           "Latin America & Caribbean"
          ],
          [
           "Sub-Saharan Africa"
          ],
          [
           "Europe & Central Asia"
          ],
          [
           "Sub-Saharan Africa"
          ],
          [
           "Middle East & North Africa"
          ],
          [
           "Sub-Saharan Africa"
          ],
          [
           "Latin America & Caribbean"
          ],
          [
           "Middle East & North Africa"
          ],
          [
           "Sub-Saharan Africa"
          ],
          [
           "Europe & Central Asia"
          ],
          [
           "East Asia & Pacific"
          ],
          [
           "Europe & Central Asia"
          ],
          [
           "Latin America & Caribbean"
          ],
          [
           "East Asia & Pacific"
          ],
          [
           "International Aviation and Shipping"
          ],
          [
           "Latin America & Caribbean"
          ],
          [
           "East Asia & Pacific"
          ],
          [
           "Sub-Saharan Africa"
          ],
          [
           "Europe & Central Asia"
          ],
          [
           "East Asia & Pacific"
          ],
          [
           "Middle East & North Africa"
          ],
          [
           "Europe & Central Asia"
          ],
          [
           "Sub-Saharan Africa"
          ],
          [
           "Latin America & Caribbean"
          ],
          [
           "Latin America & Caribbean"
          ],
          [
           "East Asia & Pacific"
          ],
          [
           "Europe & Central Asia"
          ],
          [
           "Latin America & Caribbean"
          ],
          [
           "Middle East & North Africa"
          ],
          [
           "Latin America & Caribbean"
          ],
          [
           "Sub-Saharan Africa"
          ],
          [
           "Middle East & North Africa"
          ],
          [
           "Sub-Saharan Africa"
          ],
          [
           "Latin America & Caribbean"
          ],
          [
           "Europe & Central Asia"
          ],
          [
           "Middle East & North Africa"
          ],
          [
           "East Asia & Pacific"
          ],
          [
           "Latin America & Caribbean"
          ],
          [
           "Sub-Saharan Africa"
          ],
          [
           "Sub-Saharan Africa"
          ],
          [
           "Europe & Central Asia"
          ],
          [
           "Europe & Central Asia"
          ],
          [
           "Europe & Central Asia"
          ],
          [
           "South Asia"
          ],
          [
           "Latin America & Caribbean"
          ],
          [
           "North America"
          ],
          [
           "Middle East & North Africa"
          ],
          [
           "Middle East & North Africa"
          ],
          [
           "North America"
          ],
          [
           "Latin America & Caribbean"
          ],
          [
           "Europe & Central Asia"
          ],
          [
           "Sub-Saharan Africa"
          ],
          [
           "Latin America & Caribbean"
          ],
          [
           "Europe & Central Asia"
          ],
          [
           "Europe & Central Asia"
          ],
          [
           "Latin America & Caribbean"
          ],
          [
           "North America"
          ],
          [
           "Latin America & Caribbean"
          ],
          [
           "Europe & Central Asia"
          ],
          [
           "South Asia"
          ],
          [
           "Europe & Central Asia"
          ],
          [
           "Sub-Saharan Africa"
          ],
          [
           "Sub-Saharan Africa"
          ],
          [
           "East Asia & Pacific"
          ],
          [
           "Europe & Central Asia"
          ],
          [
           "East Asia & Pacific"
          ],
          [
           "Middle East & North Africa"
          ],
          [
           "Europe & Central Asia"
          ],
          [
           "South Asia"
          ],
          [
           "Europe & Central Asia"
          ],
          [
           "Latin America & Caribbean"
          ],
          [
           "Latin America & Caribbean"
          ],
          [
           "Europe & Central Asia"
          ],
          [
           "Sub-Saharan Africa"
          ],
          [
           "Latin America & Caribbean"
          ],
          [
           "Latin America & Caribbean"
          ],
          [
           "Sub-Saharan Africa"
          ],
          [
           "Latin America & Caribbean"
          ],
          [
           "Latin America & Caribbean"
          ],
          [
           "Europe & Central Asia"
          ],
          [
           "East Asia & Pacific"
          ],
          [
           "Sub-Saharan Africa"
          ],
          [
           "Latin America & Caribbean"
          ],
          [
           "Sub-Saharan Africa"
          ],
          [
           "Europe & Central Asia"
          ],
          [
           "Europe & Central Asia"
          ],
          [
           "Sub-Saharan Africa"
          ],
          [
           "Latin America & Caribbean"
          ],
          [
           "Latin America & Caribbean"
          ],
          [
           "Europe & Central Asia"
          ],
          [
           "Latin America & Caribbean"
          ],
          [
           "South Asia"
          ],
          [
           "Sub-Saharan Africa"
          ],
          [
           "Latin America & Caribbean"
          ],
          [
           "Europe & Central Asia"
          ],
          [
           "Latin America & Caribbean"
          ],
          [
           "East Asia & Pacific"
          ],
          [
           "Middle East & North Africa"
          ],
          [
           "Sub-Saharan Africa"
          ],
          [
           "Europe & Central Asia"
          ],
          [
           "Sub-Saharan Africa"
          ],
          [
           "Sub-Saharan Africa"
          ],
          [
           "Middle East & North Africa"
          ],
          [
           "Latin America & Caribbean"
          ],
          [
           "Middle East & North Africa"
          ],
          [
           "Latin America & Caribbean"
          ],
          [
           "North America"
          ],
          [
           "Latin America & Caribbean"
          ],
          [
           "Middle East & North Africa"
          ],
          [
           "Sub-Saharan Africa"
          ],
          [
           "East Asia & Pacific"
          ],
          [
           "Sub-Saharan Africa"
          ],
          [
           "International Aviation and Shipping"
          ],
          [
           "Europe & Central Asia"
          ],
          [
           "Europe & Central Asia"
          ],
          [
           "Middle East & North Africa"
          ],
          [
           "Sub-Saharan Africa"
          ],
          [
           "Middle East & North Africa"
          ],
          [
           "Sub-Saharan Africa"
          ],
          [
           "Latin America & Caribbean"
          ],
          [
           "Europe & Central Asia"
          ],
          [
           "East Asia & Pacific"
          ],
          [
           "Europe & Central Asia"
          ],
          [
           "Sub-Saharan Africa"
          ],
          [
           "Sub-Saharan Africa"
          ],
          [
           "Latin America & Caribbean"
          ],
          [
           "South Asia"
          ],
          [
           "East Asia & Pacific"
          ],
          [
           "Latin America & Caribbean"
          ],
          [
           "East Asia & Pacific"
          ],
          [
           "Europe & Central Asia"
          ],
          [
           "Europe & Central Asia"
          ],
          [
           "Europe & Central Asia"
          ],
          [
           "Europe & Central Asia"
          ],
          [
           "Sub-Saharan Africa"
          ],
          [
           "Latin America & Caribbean"
          ],
          [
           "Europe & Central Asia"
          ],
          [
           "Europe & Central Asia"
          ],
          [
           "South Asia"
          ],
          [
           "Middle East & North Africa"
          ],
          [
           "Sub-Saharan Africa"
          ],
          [
           "Middle East & North Africa"
          ],
          [
           "East Asia & Pacific"
          ],
          [
           "Sub-Saharan Africa"
          ],
          [
           "Sub-Saharan Africa"
          ],
          [
           "Europe & Central Asia"
          ],
          [
           "East Asia & Pacific"
          ],
          [
           "Sub-Saharan Africa"
          ],
          [
           "Latin America & Caribbean"
          ],
          [
           "Sub-Saharan Africa"
          ],
          [
           "Latin America & Caribbean"
          ],
          [
           "Europe & Central Asia"
          ],
          [
           "East Asia & Pacific"
          ],
          [
           "Europe & Central Asia"
          ],
          [
           "Sub-Saharan Africa"
          ],
          [
           "East Asia & Pacific"
          ],
          [
           "Europe & Central Asia"
          ],
          [
           "Europe & Central Asia"
          ],
          [
           "Latin America & Caribbean"
          ],
          [
           "Europe & Central Asia"
          ],
          [
           "Latin America & Caribbean"
          ],
          [
           "East Asia & Pacific"
          ],
          [
           "Latin America & Caribbean"
          ],
          [
           "Europe & Central Asia"
          ],
          [
           "Latin America & Caribbean"
          ],
          [
           "Sub-Saharan Africa"
          ],
          [
           "East Asia & Pacific"
          ],
          [
           "Sub-Saharan Africa"
          ],
          [
           "Latin America & Caribbean"
          ],
          [
           "East Asia & Pacific"
          ],
          [
           "Sub-Saharan Africa"
          ],
          [
           "Europe & Central Asia"
          ],
          [
           "Europe & Central Asia"
          ],
          [
           "Sub-Saharan Africa"
          ],
          [
           "East Asia & Pacific"
          ],
          [
           "East Asia & Pacific"
          ],
          [
           "Sub-Saharan Africa"
          ],
          [
           "East Asia & Pacific"
          ],
          [
           "Europe & Central Asia"
          ],
          [
           "International Aviation and Shipping"
          ],
          [
           "Latin America & Caribbean"
          ],
          [
           "Middle East & North Africa"
          ],
          [
           "North America"
          ],
          [
           "South Asia"
          ],
          [
           "Sub-Saharan Africa"
          ],
          [
           "(?)"
          ]
         ],
         "domain": {
          "x": [
           0,
           1
          ],
          "y": [
           0,
           1
          ]
         },
         "hovertemplate": "labels=%{label}<br>2023=%{value}<br>parent=%{parent}<br>id=%{id}<br>Region=%{customdata[0]}<extra></extra>",
         "ids": [
          "Global Total/Middle East & North Africa/Kuwait",
          "Global Total/East Asia & Pacific/Timor-Leste",
          "Global Total/Europe & Central Asia/Poland",
          "Global Total/Middle East & North Africa/Morocco",
          "Global Total/Sub-Saharan Africa/Burkina Faso",
          "Global Total/Sub-Saharan Africa/Mozambique",
          "Global Total/East Asia & Pacific/New Zealand",
          "Global Total/Sub-Saharan Africa/Niger",
          "Global Total/Sub-Saharan Africa/Central African Republic",
          "Global Total/Europe & Central Asia/Slovakia",
          "Global Total/Sub-Saharan Africa/Sierra Leone",
          "Global Total/Sub-Saharan Africa/Comoros",
          "Global Total/Latin America & Caribbean/Falkland Islands",
          "Global Total/Sub-Saharan Africa/Réunion",
          "Global Total/Europe & Central Asia/Romania",
          "Global Total/East Asia & Pacific/Japan",
          "Global Total/East Asia & Pacific/Palau",
          "Global Total/East Asia & Pacific/Philippines",
          "Global Total/Sub-Saharan Africa/Togo",
          "Global Total/South Asia/Maldives",
          "Global Total/Sub-Saharan Africa/Tanzania",
          "Global Total/Latin America & Caribbean/Haiti",
          "Global Total/East Asia & Pacific/Viet Nam",
          "Global Total/Latin America & Caribbean/Venezuela",
          "Global Total/East Asia & Pacific/Vanuatu",
          "Global Total/East Asia & Pacific/Kiribati",
          "Global Total/East Asia & Pacific/Laos",
          "Global Total/Europe & Central Asia/Azerbaijan",
          "Global Total/South Asia/India",
          "Global Total/Middle East & North Africa/Lebanon",
          "Global Total/Europe & Central Asia/Portugal",
          "Global Total/Europe & Central Asia/Turkmenistan",
          "Global Total/Middle East & North Africa/Malta",
          "Global Total/Latin America & Caribbean/Guatemala",
          "Global Total/Sub-Saharan Africa/Eritrea",
          "Global Total/Europe & Central Asia/Estonia",
          "Global Total/Sub-Saharan Africa/Kenya",
          "Global Total/Middle East & North Africa/Oman",
          "Global Total/Sub-Saharan Africa/Ethiopia",
          "Global Total/Latin America & Caribbean/Grenada",
          "Global Total/Middle East & North Africa/Israel and Palestine, State of",
          "Global Total/Sub-Saharan Africa/Madagascar",
          "Global Total/Europe & Central Asia/Iceland",
          "Global Total/East Asia & Pacific/Fiji",
          "Global Total/Europe & Central Asia/Finland",
          "Global Total/Latin America & Caribbean/Mexico",
          "Global Total/East Asia & Pacific/Malaysia",
          "Global Total/International Aviation and Shipping/International Aviation",
          "Global Total/Latin America & Caribbean/French Guiana",
          "Global Total/East Asia & Pacific/French Polynesia",
          "Global Total/Sub-Saharan Africa/Malawi",
          "Global Total/Europe & Central Asia/Georgia",
          "Global Total/East Asia & Pacific/Hong Kong",
          "Global Total/Middle East & North Africa/Iraq",
          "Global Total/Europe & Central Asia/Norway",
          "Global Total/Sub-Saharan Africa/Côte d’Ivoire",
          "Global Total/Latin America & Caribbean/Puerto Rico",
          "Global Total/Latin America & Caribbean/Antigua and Barbuda",
          "Global Total/East Asia & Pacific/Australia",
          "Global Total/Europe & Central Asia/United Kingdom",
          "Global Total/Latin America & Caribbean/Bahamas",
          "Global Total/Middle East & North Africa/Bahrain",
          "Global Total/Latin America & Caribbean/Barbados",
          "Global Total/Sub-Saharan Africa/Uganda",
          "Global Total/Middle East & North Africa/Tunisia",
          "Global Total/Sub-Saharan Africa/Benin",
          "Global Total/Latin America & Caribbean/Bolivia",
          "Global Total/Europe & Central Asia/Bosnia and Herzegovina",
          "Global Total/Middle East & North Africa/Djibouti",
          "Global Total/East Asia & Pacific/Thailand",
          "Global Total/Latin America & Caribbean/Suriname",
          "Global Total/Sub-Saharan Africa/Sudan and South Sudan",
          "Global Total/Sub-Saharan Africa/The Gambia",
          "Global Total/Europe & Central Asia/Russia",
          "Global Total/Europe & Central Asia/Czechia",
          "Global Total/Europe & Central Asia/Cyprus",
          "Global Total/South Asia/Sri Lanka",
          "Global Total/Latin America & Caribbean/Saint Lucia",
          "Global Total/North America/Saint Pierre and Miquelon",
          "Global Total/Middle East & North Africa/Saudi Arabia",
          "Global Total/Middle East & North Africa/Jordan",
          "Global Total/North America/Canada",
          "Global Total/Latin America & Caribbean/Anguilla",
          "Global Total/Europe & Central Asia/Serbia and Montenegro",
          "Global Total/Sub-Saharan Africa/Mauritius",
          "Global Total/Latin America & Caribbean/Peru",
          "Global Total/Europe & Central Asia/Uzbekistan",
          "Global Total/Europe & Central Asia/Kyrgyzstan",
          "Global Total/Latin America & Caribbean/Uruguay",
          "Global Total/North America/United States",
          "Global Total/Latin America & Caribbean/Paraguay",
          "Global Total/Europe & Central Asia/Lithuania",
          "Global Total/South Asia/Nepal",
          "Global Total/Europe & Central Asia/Ukraine",
          "Global Total/Sub-Saharan Africa/São Tomé and Príncipe",
          "Global Total/Sub-Saharan Africa/Rwanda",
          "Global Total/East Asia & Pacific/Solomon Islands",
          "Global Total/Europe & Central Asia/North Macedonia",
          "Global Total/East Asia & Pacific/Tonga",
          "Global Total/Middle East & North Africa/Qatar",
          "Global Total/Europe & Central Asia/Spain and Andorra",
          "Global Total/South Asia/Afghanistan",
          "Global Total/Europe & Central Asia/Croatia",
          "Global Total/Latin America & Caribbean/Ecuador",
          "Global Total/Latin America & Caribbean/Dominica",
          "Global Total/Europe & Central Asia/Denmark",
          "Global Total/Sub-Saharan Africa/Ghana",
          "Global Total/Latin America & Caribbean/Curaçao",
          "Global Total/Latin America & Caribbean/Cuba",
          "Global Total/Sub-Saharan Africa/Congo",
          "Global Total/Latin America & Caribbean/Cayman Islands",
          "Global Total/Latin America & Caribbean/Guadeloupe",
          "Global Total/Europe & Central Asia/Bulgaria",
          "Global Total/East Asia & Pacific/Brunei",
          "Global Total/Sub-Saharan Africa/Guinea-Bissau",
          "Global Total/Latin America & Caribbean/Guyana",
          "Global Total/Sub-Saharan Africa/Guinea",
          "Global Total/Europe & Central Asia/Hungary",
          "Global Total/Europe & Central Asia/Italy, San Marino and the Holy See",
          "Global Total/Sub-Saharan Africa/Angola",
          "Global Total/Latin America & Caribbean/Argentina",
          "Global Total/Latin America & Caribbean/Honduras",
          "Global Total/Europe & Central Asia/Austria",
          "Global Total/Latin America & Caribbean/Aruba",
          "Global Total/South Asia/Bhutan",
          "Global Total/Sub-Saharan Africa/Botswana",
          "Global Total/Latin America & Caribbean/British Virgin Islands",
          "Global Total/Europe & Central Asia/Faroes",
          "Global Total/Latin America & Caribbean/Trinidad and Tobago",
          "Global Total/East Asia & Pacific/Samoa",
          "Global Total/Middle East & North Africa/Syria",
          "Global Total/Sub-Saharan Africa/Saint Helena, Ascension and Tristan da Cunha",
          "Global Total/Europe & Central Asia/Armenia",
          "Global Total/Sub-Saharan Africa/Democratic Republic of the Congo",
          "Global Total/Sub-Saharan Africa/Equatorial Guinea",
          "Global Total/Middle East & North Africa/Western Sahara",
          "Global Total/Latin America & Caribbean/Dominican Republic",
          "Global Total/Middle East & North Africa/Egypt",
          "Global Total/Latin America & Caribbean/Panama",
          "Global Total/North America/Bermuda",
          "Global Total/Latin America & Caribbean/Jamaica",
          "Global Total/Middle East & North Africa/Libya",
          "Global Total/Sub-Saharan Africa/Mali",
          "Global Total/East Asia & Pacific/Mongolia",
          "Global Total/Sub-Saharan Africa/Lesotho",
          "Global Total/International Aviation and Shipping/International Shipping",
          "Global Total/Europe & Central Asia/Latvia",
          "Global Total/Europe & Central Asia/Ireland",
          "Global Total/Middle East & North Africa/Iran",
          "Global Total/Sub-Saharan Africa/Cameroon",
          "Global Total/Middle East & North Africa/United Arab Emirates",
          "Global Total/Sub-Saharan Africa/South Africa",
          "Global Total/Latin America & Caribbean/Brazil",
          "Global Total/Europe & Central Asia/Albania",
          "Global Total/East Asia & Pacific/Papua New Guinea",
          "Global Total/Europe & Central Asia/Luxembourg",
          "Global Total/Sub-Saharan Africa/Mauritania",
          "Global Total/Sub-Saharan Africa/Burundi",
          "Global Total/Latin America & Caribbean/Belize",
          "Global Total/South Asia/Pakistan",
          "Global Total/East Asia & Pacific/Indonesia",
          "Global Total/Latin America & Caribbean/Martinique",
          "Global Total/East Asia & Pacific/Taiwan",
          "Global Total/Europe & Central Asia/Tajikistan",
          "Global Total/Europe & Central Asia/Sweden",
          "Global Total/Europe & Central Asia/Switzerland and Liechtenstein",
          "Global Total/Europe & Central Asia/Belgium",
          "Global Total/Sub-Saharan Africa/Liberia",
          "Global Total/Latin America & Caribbean/Turks and Caicos Islands",
          "Global Total/Europe & Central Asia/Türkiye",
          "Global Total/Europe & Central Asia/Belarus",
          "Global Total/South Asia/Bangladesh",
          "Global Total/Middle East & North Africa/Algeria",
          "Global Total/Sub-Saharan Africa/Zambia",
          "Global Total/Middle East & North Africa/Yemen",
          "Global Total/East Asia & Pacific/Macao",
          "Global Total/Sub-Saharan Africa/Cabo Verde",
          "Global Total/Sub-Saharan Africa/Eswatini",
          "Global Total/Europe & Central Asia/France and Monaco",
          "Global Total/East Asia & Pacific/North Korea",
          "Global Total/Sub-Saharan Africa/Nigeria",
          "Global Total/Latin America & Caribbean/El Salvador",
          "Global Total/Sub-Saharan Africa/Gabon",
          "Global Total/Latin America & Caribbean/Nicaragua",
          "Global Total/Europe & Central Asia/Germany",
          "Global Total/East Asia & Pacific/New Caledonia",
          "Global Total/Europe & Central Asia/Netherlands",
          "Global Total/Sub-Saharan Africa/Namibia",
          "Global Total/East Asia & Pacific/Myanmar/Burma",
          "Global Total/Europe & Central Asia/Gibraltar",
          "Global Total/Europe & Central Asia/Kazakhstan",
          "Global Total/Latin America & Caribbean/Costa Rica",
          "Global Total/Europe & Central Asia/Greece",
          "Global Total/Latin America & Caribbean/Saint Kitts and Nevis",
          "Global Total/East Asia & Pacific/Cook Islands",
          "Global Total/Latin America & Caribbean/Saint Vincent and the Grenadines",
          "Global Total/Europe & Central Asia/Moldova",
          "Global Total/Latin America & Caribbean/Colombia",
          "Global Total/Sub-Saharan Africa/Senegal",
          "Global Total/East Asia & Pacific/China",
          "Global Total/Sub-Saharan Africa/Seychelles",
          "Global Total/Latin America & Caribbean/Chile",
          "Global Total/East Asia & Pacific/Singapore",
          "Global Total/Sub-Saharan Africa/Chad",
          "Global Total/Europe & Central Asia/Slovenia",
          "Global Total/Europe & Central Asia/Greenland",
          "Global Total/Sub-Saharan Africa/Somalia",
          "Global Total/East Asia & Pacific/South Korea",
          "Global Total/East Asia & Pacific/Cambodia",
          "Global Total/Sub-Saharan Africa/Zimbabwe",
          "Global Total/East Asia & Pacific",
          "Global Total/Europe & Central Asia",
          "Global Total/International Aviation and Shipping",
          "Global Total/Latin America & Caribbean",
          "Global Total/Middle East & North Africa",
          "Global Total/North America",
          "Global Total/South Asia",
          "Global Total/Sub-Saharan Africa",
          "Global Total"
         ],
         "labels": [
          "Kuwait",
          "Timor-Leste",
          "Poland",
          "Morocco",
          "Burkina Faso",
          "Mozambique",
          "New Zealand",
          "Niger",
          "Central African Republic",
          "Slovakia",
          "Sierra Leone",
          "Comoros",
          "Falkland Islands",
          "Réunion",
          "Romania",
          "Japan",
          "Palau",
          "Philippines",
          "Togo",
          "Maldives",
          "Tanzania",
          "Haiti",
          "Viet Nam",
          "Venezuela",
          "Vanuatu",
          "Kiribati",
          "Laos",
          "Azerbaijan",
          "India",
          "Lebanon",
          "Portugal",
          "Turkmenistan",
          "Malta",
          "Guatemala",
          "Eritrea",
          "Estonia",
          "Kenya",
          "Oman",
          "Ethiopia",
          "Grenada",
          "Israel and Palestine, State of",
          "Madagascar",
          "Iceland",
          "Fiji",
          "Finland",
          "Mexico",
          "Malaysia",
          "International Aviation",
          "French Guiana",
          "French Polynesia",
          "Malawi",
          "Georgia",
          "Hong Kong",
          "Iraq",
          "Norway",
          "Côte d’Ivoire",
          "Puerto Rico",
          "Antigua and Barbuda",
          "Australia",
          "United Kingdom",
          "Bahamas",
          "Bahrain",
          "Barbados",
          "Uganda",
          "Tunisia",
          "Benin",
          "Bolivia",
          "Bosnia and Herzegovina",
          "Djibouti",
          "Thailand",
          "Suriname",
          "Sudan and South Sudan",
          "The Gambia",
          "Russia",
          "Czechia",
          "Cyprus",
          "Sri Lanka",
          "Saint Lucia",
          "Saint Pierre and Miquelon",
          "Saudi Arabia",
          "Jordan",
          "Canada",
          "Anguilla",
          "Serbia and Montenegro",
          "Mauritius",
          "Peru",
          "Uzbekistan",
          "Kyrgyzstan",
          "Uruguay",
          "United States",
          "Paraguay",
          "Lithuania",
          "Nepal",
          "Ukraine",
          "São Tomé and Príncipe",
          "Rwanda",
          "Solomon Islands",
          "North Macedonia",
          "Tonga",
          "Qatar",
          "Spain and Andorra",
          "Afghanistan",
          "Croatia",
          "Ecuador",
          "Dominica",
          "Denmark",
          "Ghana",
          "Curaçao",
          "Cuba",
          "Congo",
          "Cayman Islands",
          "Guadeloupe",
          "Bulgaria",
          "Brunei",
          "Guinea-Bissau",
          "Guyana",
          "Guinea",
          "Hungary",
          "Italy, San Marino and the Holy See",
          "Angola",
          "Argentina",
          "Honduras",
          "Austria",
          "Aruba",
          "Bhutan",
          "Botswana",
          "British Virgin Islands",
          "Faroes",
          "Trinidad and Tobago",
          "Samoa",
          "Syria",
          "Saint Helena, Ascension and Tristan da Cunha",
          "Armenia",
          "Democratic Republic of the Congo",
          "Equatorial Guinea",
          "Western Sahara",
          "Dominican Republic",
          "Egypt",
          "Panama",
          "Bermuda",
          "Jamaica",
          "Libya",
          "Mali",
          "Mongolia",
          "Lesotho",
          "International Shipping",
          "Latvia",
          "Ireland",
          "Iran",
          "Cameroon",
          "United Arab Emirates",
          "South Africa",
          "Brazil",
          "Albania",
          "Papua New Guinea",
          "Luxembourg",
          "Mauritania",
          "Burundi",
          "Belize",
          "Pakistan",
          "Indonesia",
          "Martinique",
          "Taiwan",
          "Tajikistan",
          "Sweden",
          "Switzerland and Liechtenstein",
          "Belgium",
          "Liberia",
          "Turks and Caicos Islands",
          "Türkiye",
          "Belarus",
          "Bangladesh",
          "Algeria",
          "Zambia",
          "Yemen",
          "Macao",
          "Cabo Verde",
          "Eswatini",
          "France and Monaco",
          "North Korea",
          "Nigeria",
          "El Salvador",
          "Gabon",
          "Nicaragua",
          "Germany",
          "New Caledonia",
          "Netherlands",
          "Namibia",
          "Myanmar/Burma",
          "Gibraltar",
          "Kazakhstan",
          "Costa Rica",
          "Greece",
          "Saint Kitts and Nevis",
          "Cook Islands",
          "Saint Vincent and the Grenadines",
          "Moldova",
          "Colombia",
          "Senegal",
          "China",
          "Seychelles",
          "Chile",
          "Singapore",
          "Chad",
          "Slovenia",
          "Greenland",
          "Somalia",
          "South Korea",
          "Cambodia",
          "Zimbabwe",
          "East Asia & Pacific",
          "Europe & Central Asia",
          "International Aviation and Shipping",
          "Latin America & Caribbean",
          "Middle East & North Africa",
          "North America",
          "South Asia",
          "Sub-Saharan Africa",
          "Global Total"
         ],
         "marker": {
          "colors": [
           "#00B1EA",
           "#003299",
           "#FFB400",
           "#00B1EA",
           "#077C1D",
           "#077C1D",
           "#003299",
           "#077C1D",
           "#077C1D",
           "#FFB400",
           "#077C1D",
           "#077C1D",
           "#8139C6",
           "#077C1D",
           "#FFB400",
           "#003299",
           "#003299",
           "#003299",
           "#077C1D",
           "#65B800",
           "#077C1D",
           "#8139C6",
           "#003299",
           "#8139C6",
           "#003299",
           "#003299",
           "#003299",
           "#FFB400",
           "#65B800",
           "#00B1EA",
           "#FFB400",
           "#FFB400",
           "#00B1EA",
           "#8139C6",
           "#077C1D",
           "#FFB400",
           "#077C1D",
           "#00B1EA",
           "#077C1D",
           "#8139C6",
           "#00B1EA",
           "#077C1D",
           "#FFB400",
           "#003299",
           "#FFB400",
           "#8139C6",
           "#003299",
           "#FF97FF",
           "#8139C6",
           "#003299",
           "#077C1D",
           "#FFB400",
           "#003299",
           "#00B1EA",
           "#FFB400",
           "#077C1D",
           "#8139C6",
           "#8139C6",
           "#003299",
           "#FFB400",
           "#8139C6",
           "#00B1EA",
           "#8139C6",
           "#077C1D",
           "#00B1EA",
           "#077C1D",
           "#8139C6",
           "#FFB400",
           "#00B1EA",
           "#003299",
           "#8139C6",
           "#077C1D",
           "#077C1D",
           "#FFB400",
           "#FFB400",
           "#FFB400",
           "#65B800",
           "#8139C6",
           "#FF4B00",
           "#00B1EA",
           "#00B1EA",
           "#FF4B00",
           "#8139C6",
           "#FFB400",
           "#077C1D",
           "#8139C6",
           "#FFB400",
           "#FFB400",
           "#8139C6",
           "#FF4B00",
           "#8139C6",
           "#FFB400",
           "#65B800",
           "#FFB400",
           "#077C1D",
           "#077C1D",
           "#003299",
           "#FFB400",
           "#003299",
           "#00B1EA",
           "#FFB400",
           "#65B800",
           "#FFB400",
           "#8139C6",
           "#8139C6",
           "#FFB400",
           "#077C1D",
           "#8139C6",
           "#8139C6",
           "#077C1D",
           "#8139C6",
           "#8139C6",
           "#FFB400",
           "#003299",
           "#077C1D",
           "#8139C6",
           "#077C1D",
           "#FFB400",
           "#FFB400",
           "#077C1D",
           "#8139C6",
           "#8139C6",
           "#FFB400",
           "#8139C6",
           "#65B800",
           "#077C1D",
           "#8139C6",
           "#FFB400",
           "#8139C6",
           "#003299",
           "#00B1EA",
           "#077C1D",
           "#FFB400",
           "#077C1D",
           "#077C1D",
           "#00B1EA",
           "#8139C6",
           "#00B1EA",
           "#8139C6",
           "#FF4B00",
           "#8139C6",
           "#00B1EA",
           "#077C1D",
           "#003299",
           "#077C1D",
           "#FF97FF",
           "#FFB400",
           "#FFB400",
           "#00B1EA",
           "#077C1D",
           "#00B1EA",
           "#077C1D",
           "#8139C6",
           "#FFB400",
           "#003299",
           "#FFB400",
           "#077C1D",
           "#077C1D",
           "#8139C6",
           "#65B800",
           "#003299",
           "#8139C6",
           "#003299",
           "#FFB400",
           "#FFB400",
           "#FFB400",
           "#FFB400",
           "#077C1D",
           "#8139C6",
           "#FFB400",
           "#FFB400",
           "#65B800",
           "#00B1EA",
           "#077C1D",
           "#00B1EA",
           "#003299",
           "#077C1D",
           "#077C1D",
           "#FFB400",
           "#003299",
           "#077C1D",
           "#8139C6",
           "#077C1D",
           "#8139C6",
           "#FFB400",
           "#003299",
           "#FFB400",
           "#077C1D",
           "#003299",
           "#FFB400",
           "#FFB400",
           "#8139C6",
           "#FFB400",
           "#8139C6",
           "#003299",
           "#8139C6",
           "#FFB400",
           "#8139C6",
           "#077C1D",
           "#003299",
           "#077C1D",
           "#8139C6",
           "#003299",
           "#077C1D",
           "#FFB400",
           "#FFB400",
           "#077C1D",
           "#003299",
           "#003299",
           "#077C1D",
           "#003299",
           "#FFB400",
           "#FF97FF",
           "#8139C6",
           "#00B1EA",
           "#FF4B00",
           "#65B800",
           "#077C1D",
           "lightgrey"
          ]
         },
         "name": "",
         "parents": [
          "Global Total/Middle East & North Africa",
          "Global Total/East Asia & Pacific",
          "Global Total/Europe & Central Asia",
          "Global Total/Middle East & North Africa",
          "Global Total/Sub-Saharan Africa",
          "Global Total/Sub-Saharan Africa",
          "Global Total/East Asia & Pacific",
          "Global Total/Sub-Saharan Africa",
          "Global Total/Sub-Saharan Africa",
          "Global Total/Europe & Central Asia",
          "Global Total/Sub-Saharan Africa",
          "Global Total/Sub-Saharan Africa",
          "Global Total/Latin America & Caribbean",
          "Global Total/Sub-Saharan Africa",
          "Global Total/Europe & Central Asia",
          "Global Total/East Asia & Pacific",
          "Global Total/East Asia & Pacific",
          "Global Total/East Asia & Pacific",
          "Global Total/Sub-Saharan Africa",
          "Global Total/South Asia",
          "Global Total/Sub-Saharan Africa",
          "Global Total/Latin America & Caribbean",
          "Global Total/East Asia & Pacific",
          "Global Total/Latin America & Caribbean",
          "Global Total/East Asia & Pacific",
          "Global Total/East Asia & Pacific",
          "Global Total/East Asia & Pacific",
          "Global Total/Europe & Central Asia",
          "Global Total/South Asia",
          "Global Total/Middle East & North Africa",
          "Global Total/Europe & Central Asia",
          "Global Total/Europe & Central Asia",
          "Global Total/Middle East & North Africa",
          "Global Total/Latin America & Caribbean",
          "Global Total/Sub-Saharan Africa",
          "Global Total/Europe & Central Asia",
          "Global Total/Sub-Saharan Africa",
          "Global Total/Middle East & North Africa",
          "Global Total/Sub-Saharan Africa",
          "Global Total/Latin America & Caribbean",
          "Global Total/Middle East & North Africa",
          "Global Total/Sub-Saharan Africa",
          "Global Total/Europe & Central Asia",
          "Global Total/East Asia & Pacific",
          "Global Total/Europe & Central Asia",
          "Global Total/Latin America & Caribbean",
          "Global Total/East Asia & Pacific",
          "Global Total/International Aviation and Shipping",
          "Global Total/Latin America & Caribbean",
          "Global Total/East Asia & Pacific",
          "Global Total/Sub-Saharan Africa",
          "Global Total/Europe & Central Asia",
          "Global Total/East Asia & Pacific",
          "Global Total/Middle East & North Africa",
          "Global Total/Europe & Central Asia",
          "Global Total/Sub-Saharan Africa",
          "Global Total/Latin America & Caribbean",
          "Global Total/Latin America & Caribbean",
          "Global Total/East Asia & Pacific",
          "Global Total/Europe & Central Asia",
          "Global Total/Latin America & Caribbean",
          "Global Total/Middle East & North Africa",
          "Global Total/Latin America & Caribbean",
          "Global Total/Sub-Saharan Africa",
          "Global Total/Middle East & North Africa",
          "Global Total/Sub-Saharan Africa",
          "Global Total/Latin America & Caribbean",
          "Global Total/Europe & Central Asia",
          "Global Total/Middle East & North Africa",
          "Global Total/East Asia & Pacific",
          "Global Total/Latin America & Caribbean",
          "Global Total/Sub-Saharan Africa",
          "Global Total/Sub-Saharan Africa",
          "Global Total/Europe & Central Asia",
          "Global Total/Europe & Central Asia",
          "Global Total/Europe & Central Asia",
          "Global Total/South Asia",
          "Global Total/Latin America & Caribbean",
          "Global Total/North America",
          "Global Total/Middle East & North Africa",
          "Global Total/Middle East & North Africa",
          "Global Total/North America",
          "Global Total/Latin America & Caribbean",
          "Global Total/Europe & Central Asia",
          "Global Total/Sub-Saharan Africa",
          "Global Total/Latin America & Caribbean",
          "Global Total/Europe & Central Asia",
          "Global Total/Europe & Central Asia",
          "Global Total/Latin America & Caribbean",
          "Global Total/North America",
          "Global Total/Latin America & Caribbean",
          "Global Total/Europe & Central Asia",
          "Global Total/South Asia",
          "Global Total/Europe & Central Asia",
          "Global Total/Sub-Saharan Africa",
          "Global Total/Sub-Saharan Africa",
          "Global Total/East Asia & Pacific",
          "Global Total/Europe & Central Asia",
          "Global Total/East Asia & Pacific",
          "Global Total/Middle East & North Africa",
          "Global Total/Europe & Central Asia",
          "Global Total/South Asia",
          "Global Total/Europe & Central Asia",
          "Global Total/Latin America & Caribbean",
          "Global Total/Latin America & Caribbean",
          "Global Total/Europe & Central Asia",
          "Global Total/Sub-Saharan Africa",
          "Global Total/Latin America & Caribbean",
          "Global Total/Latin America & Caribbean",
          "Global Total/Sub-Saharan Africa",
          "Global Total/Latin America & Caribbean",
          "Global Total/Latin America & Caribbean",
          "Global Total/Europe & Central Asia",
          "Global Total/East Asia & Pacific",
          "Global Total/Sub-Saharan Africa",
          "Global Total/Latin America & Caribbean",
          "Global Total/Sub-Saharan Africa",
          "Global Total/Europe & Central Asia",
          "Global Total/Europe & Central Asia",
          "Global Total/Sub-Saharan Africa",
          "Global Total/Latin America & Caribbean",
          "Global Total/Latin America & Caribbean",
          "Global Total/Europe & Central Asia",
          "Global Total/Latin America & Caribbean",
          "Global Total/South Asia",
          "Global Total/Sub-Saharan Africa",
          "Global Total/Latin America & Caribbean",
          "Global Total/Europe & Central Asia",
          "Global Total/Latin America & Caribbean",
          "Global Total/East Asia & Pacific",
          "Global Total/Middle East & North Africa",
          "Global Total/Sub-Saharan Africa",
          "Global Total/Europe & Central Asia",
          "Global Total/Sub-Saharan Africa",
          "Global Total/Sub-Saharan Africa",
          "Global Total/Middle East & North Africa",
          "Global Total/Latin America & Caribbean",
          "Global Total/Middle East & North Africa",
          "Global Total/Latin America & Caribbean",
          "Global Total/North America",
          "Global Total/Latin America & Caribbean",
          "Global Total/Middle East & North Africa",
          "Global Total/Sub-Saharan Africa",
          "Global Total/East Asia & Pacific",
          "Global Total/Sub-Saharan Africa",
          "Global Total/International Aviation and Shipping",
          "Global Total/Europe & Central Asia",
          "Global Total/Europe & Central Asia",
          "Global Total/Middle East & North Africa",
          "Global Total/Sub-Saharan Africa",
          "Global Total/Middle East & North Africa",
          "Global Total/Sub-Saharan Africa",
          "Global Total/Latin America & Caribbean",
          "Global Total/Europe & Central Asia",
          "Global Total/East Asia & Pacific",
          "Global Total/Europe & Central Asia",
          "Global Total/Sub-Saharan Africa",
          "Global Total/Sub-Saharan Africa",
          "Global Total/Latin America & Caribbean",
          "Global Total/South Asia",
          "Global Total/East Asia & Pacific",
          "Global Total/Latin America & Caribbean",
          "Global Total/East Asia & Pacific",
          "Global Total/Europe & Central Asia",
          "Global Total/Europe & Central Asia",
          "Global Total/Europe & Central Asia",
          "Global Total/Europe & Central Asia",
          "Global Total/Sub-Saharan Africa",
          "Global Total/Latin America & Caribbean",
          "Global Total/Europe & Central Asia",
          "Global Total/Europe & Central Asia",
          "Global Total/South Asia",
          "Global Total/Middle East & North Africa",
          "Global Total/Sub-Saharan Africa",
          "Global Total/Middle East & North Africa",
          "Global Total/East Asia & Pacific",
          "Global Total/Sub-Saharan Africa",
          "Global Total/Sub-Saharan Africa",
          "Global Total/Europe & Central Asia",
          "Global Total/East Asia & Pacific",
          "Global Total/Sub-Saharan Africa",
          "Global Total/Latin America & Caribbean",
          "Global Total/Sub-Saharan Africa",
          "Global Total/Latin America & Caribbean",
          "Global Total/Europe & Central Asia",
          "Global Total/East Asia & Pacific",
          "Global Total/Europe & Central Asia",
          "Global Total/Sub-Saharan Africa",
          "Global Total/East Asia & Pacific",
          "Global Total/Europe & Central Asia",
          "Global Total/Europe & Central Asia",
          "Global Total/Latin America & Caribbean",
          "Global Total/Europe & Central Asia",
          "Global Total/Latin America & Caribbean",
          "Global Total/East Asia & Pacific",
          "Global Total/Latin America & Caribbean",
          "Global Total/Europe & Central Asia",
          "Global Total/Latin America & Caribbean",
          "Global Total/Sub-Saharan Africa",
          "Global Total/East Asia & Pacific",
          "Global Total/Sub-Saharan Africa",
          "Global Total/Latin America & Caribbean",
          "Global Total/East Asia & Pacific",
          "Global Total/Sub-Saharan Africa",
          "Global Total/Europe & Central Asia",
          "Global Total/Europe & Central Asia",
          "Global Total/Sub-Saharan Africa",
          "Global Total/East Asia & Pacific",
          "Global Total/East Asia & Pacific",
          "Global Total/Sub-Saharan Africa",
          "Global Total",
          "Global Total",
          "Global Total",
          "Global Total",
          "Global Total",
          "Global Total",
          "Global Total",
          "Global Total",
          ""
         ],
         "root": {
          "color": "lightgrey"
         },
         "type": "treemap",
         "values": [
          167.91576883104,
          2.0071829501919,
          363.79425000758,
          106.60223103187,
          34.456815083211,
          33.953984042408,
          84.209811532415,
          42.334092053639,
          12.502621395351,
          44.775610890682,
          6.9377160598998,
          0.76176779618891,
          0.17239134049142,
          2.9206981620469,
          105.85240058122,
          1041.0128248687,
          1.5016528321032,
          256.14715481705,
          10.612911987181,
          3.0879519663505,
          89.815439405641,
          13.656955798463,
          524.13346380418,
          152.38992311311,
          0.67021230161327,
          0.13017626101136,
          42.056212706049,
          62.550294041306,
          4133.5543557465,
          24.672324496902,
          53.004607295263,
          98.79411982866,
          2.0338652584277,
          43.981074467992,
          6.4018203690061,
          14.363974872585,
          107.97690921511,
          127.44302070563,
          170.03385065137,
          0.20040725685748,
          79.578174881426,
          33.150776404127,
          4.171936013462,
          3.4009927758626,
          43.45353679725,
          712.10209803987,
          325.40584765842,
          498.17811441525,
          0.57338749677229,
          1.3745553234525,
          19.714051394182,
          19.049153820466,
          40.16776057819,
          362.78479656291,
          56.717099715738,
          32.184005493065,
          16.063991058379,
          0.38855617147726,
          571.83984854671,
          379.31858785213,
          2.0502828926945,
          63.733860649409,
          0.98904380539195,
          53.370989410157,
          43.578530969544,
          16.699491601107,
          55.185652756247,
          29.397991348246,
          2.1324079847022,
          440.78301465571,
          3.7377177696646,
          138.74157453584,
          1.8888012914382,
          2672.0394366031,
          114.43841612936,
          10.324656394181,
          38.403849844142,
          0.45126691251345,
          0.046573728277142,
          805.15810845823,
          33.407709056244,
          747.67802680902,
          0.026210752219878,
          67.214992478558,
          6.1987377637869,
          94.048681371836,
          214.53138443861,
          21.698229839443,
          41.634111747759,
          5960.8043799939,
          41.6245592458,
          20.683656998446,
          56.830982733611,
          216.09280539526,
          0.30345441468402,
          7.4932661090211,
          0.7208177463664,
          11.370029305485,
          0.34210672521812,
          154.38356524031,
          285.38389989719,
          29.460052109846,
          25.013482276387,
          73.604607615068,
          0.14691940907449,
          41.831473036828,
          48.265926450338,
          2.5321443120251,
          39.400331633766,
          23.702014388194,
          0.39013759296906,
          1.4622285867384,
          53.372279020841,
          12.157942508343,
          2.9974771167324,
          8.190988601015,
          28.634657504101,
          60.92677185673,
          374.12419472876,
          67.700756247715,
          365.68461861929,
          22.920141542444,
          72.921492529812,
          0.56149760455405,
          3.2548573740653,
          12.712755146957,
          0.09106902611319,
          0.050700306537543,
          34.187024015247,
          0.64614359538246,
          41.21058254401,
          0.021271020996457,
          10.836336950669,
          56.105911645373,
          6.9820980789903,
          0.68479507293985,
          48.396213040658,
          335.96804878176,
          21.281689073781,
          0.37883791454079,
          8.1629239257775,
          95.929766915197,
          45.4630975003,
          83.704559899687,
          2.6019212840001,
          746.94368210501,
          10.957491923456,
          57.853266947361,
          996.7526808229,
          39.377188823331,
          267.82319378586,
          522.11549112331,
          1300.1688666752,
          7.6736715330197,
          9.6409981982956,
          7.8609330392057,
          16.509274363264,
          7.0491399156994,
          0.92034733748831,
          532.37448361892,
          1200.1997867973,
          1.2184203684901,
          308.00043191949,
          21.438119694098,
          49.118373633418,
          43.446393813877,
          106.37018790875,
          4.5323879353986,
          0.11025472286272,
          606.42985584791,
          84.277601484293,
          281.38053496815,
          256.79213126858,
          30.484449374284,
          32.242871779425,
          3.1190096511524,
          1.2315183876125,
          3.2895503749739,
          385.52011950564,
          90.148479942173,
          385.11288377147,
          13.051313657078,
          21.402080428809,
          20.628271187746,
          681.81032815187,
          6.6142165933615,
          150.74579824257,
          12.885675050293,
          115.07725289766,
          0.71237260220074,
          320.34998496393,
          16.468143919331,
          69.266029551595,
          0.17447409234332,
          0.1543181744716,
          0.15077509193013,
          13.54241150505,
          223.96663405241,
          28.843732000256,
          15943.986552905,
          1.3387084460449,
          121.46313217391,
          74.290132466078,
          95.377319649136,
          15.993517423122,
          0.64726465731155,
          32.499935850652,
          653.8461399874,
          48.77483220475,
          31.019306383582,
          21886.264433823788,
          8182.111523679463,
          1245.12179652026,
          3504.609479874849,
          4000.8284350973167,
          6708.907818445738,
          5078.347068361584,
          2356.7103029002747,
          52962.90085870327
         ]
        }
       ],
       "layout": {
        "height": 1500,
        "legend": {
         "tracegroupgap": 0
        },
        "margin": {
         "b": 0,
         "l": 0,
         "r": 0,
         "t": 30
        },
        "template": {
         "data": {
          "bar": [
           {
            "error_x": {
             "color": "#2a3f5f"
            },
            "error_y": {
             "color": "#2a3f5f"
            },
            "marker": {
             "line": {
              "color": "#E5ECF6",
              "width": 0.5
             },
             "pattern": {
              "fillmode": "overlay",
              "size": 10,
              "solidity": 0.2
             }
            },
            "type": "bar"
           }
          ],
          "barpolar": [
           {
            "marker": {
             "line": {
              "color": "#E5ECF6",
              "width": 0.5
             },
             "pattern": {
              "fillmode": "overlay",
              "size": 10,
              "solidity": 0.2
             }
            },
            "type": "barpolar"
           }
          ],
          "carpet": [
           {
            "aaxis": {
             "endlinecolor": "#2a3f5f",
             "gridcolor": "white",
             "linecolor": "white",
             "minorgridcolor": "white",
             "startlinecolor": "#2a3f5f"
            },
            "baxis": {
             "endlinecolor": "#2a3f5f",
             "gridcolor": "white",
             "linecolor": "white",
             "minorgridcolor": "white",
             "startlinecolor": "#2a3f5f"
            },
            "type": "carpet"
           }
          ],
          "choropleth": [
           {
            "colorbar": {
             "outlinewidth": 0,
             "ticks": ""
            },
            "type": "choropleth"
           }
          ],
          "contour": [
           {
            "colorbar": {
             "outlinewidth": 0,
             "ticks": ""
            },
            "colorscale": [
             [
              0,
              "#0d0887"
             ],
             [
              0.1111111111111111,
              "#46039f"
             ],
             [
              0.2222222222222222,
              "#7201a8"
             ],
             [
              0.3333333333333333,
              "#9c179e"
             ],
             [
              0.4444444444444444,
              "#bd3786"
             ],
             [
              0.5555555555555556,
              "#d8576b"
             ],
             [
              0.6666666666666666,
              "#ed7953"
             ],
             [
              0.7777777777777778,
              "#fb9f3a"
             ],
             [
              0.8888888888888888,
              "#fdca26"
             ],
             [
              1,
              "#f0f921"
             ]
            ],
            "type": "contour"
           }
          ],
          "contourcarpet": [
           {
            "colorbar": {
             "outlinewidth": 0,
             "ticks": ""
            },
            "type": "contourcarpet"
           }
          ],
          "heatmap": [
           {
            "colorbar": {
             "outlinewidth": 0,
             "ticks": ""
            },
            "colorscale": [
             [
              0,
              "#0d0887"
             ],
             [
              0.1111111111111111,
              "#46039f"
             ],
             [
              0.2222222222222222,
              "#7201a8"
             ],
             [
              0.3333333333333333,
              "#9c179e"
             ],
             [
              0.4444444444444444,
              "#bd3786"
             ],
             [
              0.5555555555555556,
              "#d8576b"
             ],
             [
              0.6666666666666666,
              "#ed7953"
             ],
             [
              0.7777777777777778,
              "#fb9f3a"
             ],
             [
              0.8888888888888888,
              "#fdca26"
             ],
             [
              1,
              "#f0f921"
             ]
            ],
            "type": "heatmap"
           }
          ],
          "heatmapgl": [
           {
            "colorbar": {
             "outlinewidth": 0,
             "ticks": ""
            },
            "colorscale": [
             [
              0,
              "#0d0887"
             ],
             [
              0.1111111111111111,
              "#46039f"
             ],
             [
              0.2222222222222222,
              "#7201a8"
             ],
             [
              0.3333333333333333,
              "#9c179e"
             ],
             [
              0.4444444444444444,
              "#bd3786"
             ],
             [
              0.5555555555555556,
              "#d8576b"
             ],
             [
              0.6666666666666666,
              "#ed7953"
             ],
             [
              0.7777777777777778,
              "#fb9f3a"
             ],
             [
              0.8888888888888888,
              "#fdca26"
             ],
             [
              1,
              "#f0f921"
             ]
            ],
            "type": "heatmapgl"
           }
          ],
          "histogram": [
           {
            "marker": {
             "pattern": {
              "fillmode": "overlay",
              "size": 10,
              "solidity": 0.2
             }
            },
            "type": "histogram"
           }
          ],
          "histogram2d": [
           {
            "colorbar": {
             "outlinewidth": 0,
             "ticks": ""
            },
            "colorscale": [
             [
              0,
              "#0d0887"
             ],
             [
              0.1111111111111111,
              "#46039f"
             ],
             [
              0.2222222222222222,
              "#7201a8"
             ],
             [
              0.3333333333333333,
              "#9c179e"
             ],
             [
              0.4444444444444444,
              "#bd3786"
             ],
             [
              0.5555555555555556,
              "#d8576b"
             ],
             [
              0.6666666666666666,
              "#ed7953"
             ],
             [
              0.7777777777777778,
              "#fb9f3a"
             ],
             [
              0.8888888888888888,
              "#fdca26"
             ],
             [
              1,
              "#f0f921"
             ]
            ],
            "type": "histogram2d"
           }
          ],
          "histogram2dcontour": [
           {
            "colorbar": {
             "outlinewidth": 0,
             "ticks": ""
            },
            "colorscale": [
             [
              0,
              "#0d0887"
             ],
             [
              0.1111111111111111,
              "#46039f"
             ],
             [
              0.2222222222222222,
              "#7201a8"
             ],
             [
              0.3333333333333333,
              "#9c179e"
             ],
             [
              0.4444444444444444,
              "#bd3786"
             ],
             [
              0.5555555555555556,
              "#d8576b"
             ],
             [
              0.6666666666666666,
              "#ed7953"
             ],
             [
              0.7777777777777778,
              "#fb9f3a"
             ],
             [
              0.8888888888888888,
              "#fdca26"
             ],
             [
              1,
              "#f0f921"
             ]
            ],
            "type": "histogram2dcontour"
           }
          ],
          "mesh3d": [
           {
            "colorbar": {
             "outlinewidth": 0,
             "ticks": ""
            },
            "type": "mesh3d"
           }
          ],
          "parcoords": [
           {
            "line": {
             "colorbar": {
              "outlinewidth": 0,
              "ticks": ""
             }
            },
            "type": "parcoords"
           }
          ],
          "pie": [
           {
            "automargin": true,
            "type": "pie"
           }
          ],
          "scatter": [
           {
            "fillpattern": {
             "fillmode": "overlay",
             "size": 10,
             "solidity": 0.2
            },
            "type": "scatter"
           }
          ],
          "scatter3d": [
           {
            "line": {
             "colorbar": {
              "outlinewidth": 0,
              "ticks": ""
             }
            },
            "marker": {
             "colorbar": {
              "outlinewidth": 0,
              "ticks": ""
             }
            },
            "type": "scatter3d"
           }
          ],
          "scattercarpet": [
           {
            "marker": {
             "colorbar": {
              "outlinewidth": 0,
              "ticks": ""
             }
            },
            "type": "scattercarpet"
           }
          ],
          "scattergeo": [
           {
            "marker": {
             "colorbar": {
              "outlinewidth": 0,
              "ticks": ""
             }
            },
            "type": "scattergeo"
           }
          ],
          "scattergl": [
           {
            "marker": {
             "colorbar": {
              "outlinewidth": 0,
              "ticks": ""
             }
            },
            "type": "scattergl"
           }
          ],
          "scattermapbox": [
           {
            "marker": {
             "colorbar": {
              "outlinewidth": 0,
              "ticks": ""
             }
            },
            "type": "scattermapbox"
           }
          ],
          "scatterpolar": [
           {
            "marker": {
             "colorbar": {
              "outlinewidth": 0,
              "ticks": ""
             }
            },
            "type": "scatterpolar"
           }
          ],
          "scatterpolargl": [
           {
            "marker": {
             "colorbar": {
              "outlinewidth": 0,
              "ticks": ""
             }
            },
            "type": "scatterpolargl"
           }
          ],
          "scatterternary": [
           {
            "marker": {
             "colorbar": {
              "outlinewidth": 0,
              "ticks": ""
             }
            },
            "type": "scatterternary"
           }
          ],
          "surface": [
           {
            "colorbar": {
             "outlinewidth": 0,
             "ticks": ""
            },
            "colorscale": [
             [
              0,
              "#0d0887"
             ],
             [
              0.1111111111111111,
              "#46039f"
             ],
             [
              0.2222222222222222,
              "#7201a8"
             ],
             [
              0.3333333333333333,
              "#9c179e"
             ],
             [
              0.4444444444444444,
              "#bd3786"
             ],
             [
              0.5555555555555556,
              "#d8576b"
             ],
             [
              0.6666666666666666,
              "#ed7953"
             ],
             [
              0.7777777777777778,
              "#fb9f3a"
             ],
             [
              0.8888888888888888,
              "#fdca26"
             ],
             [
              1,
              "#f0f921"
             ]
            ],
            "type": "surface"
           }
          ],
          "table": [
           {
            "cells": {
             "fill": {
              "color": "#EBF0F8"
             },
             "line": {
              "color": "white"
             }
            },
            "header": {
             "fill": {
              "color": "#C8D4E3"
             },
             "line": {
              "color": "white"
             }
            },
            "type": "table"
           }
          ]
         },
         "layout": {
          "annotationdefaults": {
           "arrowcolor": "#2a3f5f",
           "arrowhead": 0,
           "arrowwidth": 1
          },
          "autotypenumbers": "strict",
          "coloraxis": {
           "colorbar": {
            "outlinewidth": 0,
            "ticks": ""
           }
          },
          "colorscale": {
           "diverging": [
            [
             0,
             "#8e0152"
            ],
            [
             0.1,
             "#c51b7d"
            ],
            [
             0.2,
             "#de77ae"
            ],
            [
             0.3,
             "#f1b6da"
            ],
            [
             0.4,
             "#fde0ef"
            ],
            [
             0.5,
             "#f7f7f7"
            ],
            [
             0.6,
             "#e6f5d0"
            ],
            [
             0.7,
             "#b8e186"
            ],
            [
             0.8,
             "#7fbc41"
            ],
            [
             0.9,
             "#4d9221"
            ],
            [
             1,
             "#276419"
            ]
           ],
           "sequential": [
            [
             0,
             "#0d0887"
            ],
            [
             0.1111111111111111,
             "#46039f"
            ],
            [
             0.2222222222222222,
             "#7201a8"
            ],
            [
             0.3333333333333333,
             "#9c179e"
            ],
            [
             0.4444444444444444,
             "#bd3786"
            ],
            [
             0.5555555555555556,
             "#d8576b"
            ],
            [
             0.6666666666666666,
             "#ed7953"
            ],
            [
             0.7777777777777778,
             "#fb9f3a"
            ],
            [
             0.8888888888888888,
             "#fdca26"
            ],
            [
             1,
             "#f0f921"
            ]
           ],
           "sequentialminus": [
            [
             0,
             "#0d0887"
            ],
            [
             0.1111111111111111,
             "#46039f"
            ],
            [
             0.2222222222222222,
             "#7201a8"
            ],
            [
             0.3333333333333333,
             "#9c179e"
            ],
            [
             0.4444444444444444,
             "#bd3786"
            ],
            [
             0.5555555555555556,
             "#d8576b"
            ],
            [
             0.6666666666666666,
             "#ed7953"
            ],
            [
             0.7777777777777778,
             "#fb9f3a"
            ],
            [
             0.8888888888888888,
             "#fdca26"
            ],
            [
             1,
             "#f0f921"
            ]
           ]
          },
          "colorway": [
           "#636efa",
           "#EF553B",
           "#00cc96",
           "#ab63fa",
           "#FFA15A",
           "#19d3f3",
           "#FF6692",
           "#B6E880",
           "#FF97FF",
           "#FECB52"
          ],
          "font": {
           "color": "#2a3f5f"
          },
          "geo": {
           "bgcolor": "white",
           "lakecolor": "white",
           "landcolor": "#E5ECF6",
           "showlakes": true,
           "showland": true,
           "subunitcolor": "white"
          },
          "hoverlabel": {
           "align": "left"
          },
          "hovermode": "closest",
          "mapbox": {
           "style": "light"
          },
          "paper_bgcolor": "white",
          "plot_bgcolor": "#E5ECF6",
          "polar": {
           "angularaxis": {
            "gridcolor": "white",
            "linecolor": "white",
            "ticks": ""
           },
           "bgcolor": "#E5ECF6",
           "radialaxis": {
            "gridcolor": "white",
            "linecolor": "white",
            "ticks": ""
           }
          },
          "scene": {
           "xaxis": {
            "backgroundcolor": "#E5ECF6",
            "gridcolor": "white",
            "gridwidth": 2,
            "linecolor": "white",
            "showbackground": true,
            "ticks": "",
            "zerolinecolor": "white"
           },
           "yaxis": {
            "backgroundcolor": "#E5ECF6",
            "gridcolor": "white",
            "gridwidth": 2,
            "linecolor": "white",
            "showbackground": true,
            "ticks": "",
            "zerolinecolor": "white"
           },
           "zaxis": {
            "backgroundcolor": "#E5ECF6",
            "gridcolor": "white",
            "gridwidth": 2,
            "linecolor": "white",
            "showbackground": true,
            "ticks": "",
            "zerolinecolor": "white"
           }
          },
          "shapedefaults": {
           "line": {
            "color": "#2a3f5f"
           }
          },
          "ternary": {
           "aaxis": {
            "gridcolor": "white",
            "linecolor": "white",
            "ticks": ""
           },
           "baxis": {
            "gridcolor": "white",
            "linecolor": "white",
            "ticks": ""
           },
           "bgcolor": "#E5ECF6",
           "caxis": {
            "gridcolor": "white",
            "linecolor": "white",
            "ticks": ""
           }
          },
          "title": {
           "x": 0.05
          },
          "xaxis": {
           "automargin": true,
           "gridcolor": "white",
           "linecolor": "white",
           "ticks": "",
           "title": {
            "standoff": 15
           },
           "zerolinecolor": "white",
           "zerolinewidth": 2
          },
          "yaxis": {
           "automargin": true,
           "gridcolor": "white",
           "linecolor": "white",
           "ticks": "",
           "title": {
            "standoff": 15
           },
           "zerolinecolor": "white",
           "zerolinewidth": 2
          }
         }
        },
        "title": {
         "text": "Countries' contributions to GHG emission in year 2023"
        },
        "width": 1100
       }
      }
     },
     "metadata": {},
     "output_type": "display_data"
    }
   ],
   "source": [
    "import ipywidgets as widgets\n",
    "from IPython.display import display\n",
    "\n",
    "# Create the IntSlider widget\n",
    "year_selector = widgets.IntSlider(value = 2023, min=1970, max=2023, description=\"Year:\")\n",
    "\n",
    "chart_type_selector = widgets.ToggleButtons(\n",
    "    options=['Treemap', 'Sunburst', 'Icicle'],\n",
    "    description=\"Chart Type:\",\n",
    "    value='Treemap'  # Default value\n",
    ")\n",
    "# Create an Output widget to display the chart\n",
    "out = widgets.Output()\n",
    "\n",
    "# Define the function to update the chart\n",
    "def update_chart(change = None):\n",
    "    with out:\n",
    "        out.clear_output()  # Clear previous output                \n",
    "        # Determine chart type\n",
    "        chart_type = chart_type_selector.value\n",
    "        year_value = year_selector.value\n",
    "        if chart_type == 'Icicle': \n",
    "            fig = px.icicle(\n",
    "                GHG_totals_by_country_continent,\n",
    "                path=[px.Constant(\"Global Total\"), 'Region', 'Country'],\n",
    "                values=year_value,  # Use the updated value from the slider\n",
    "                color='Region',\n",
    "                color_discrete_map={\n",
    "                    '(?)': 'lightgrey',\n",
    "                    'East Asia & Pacific': COLORS[0],\n",
    "                    'Europe & Central Asia': COLORS[1],\n",
    "                    'North America': COLORS[2],\n",
    "                    'South Asia': COLORS[3],\n",
    "                    'Middle East & North Africa': COLORS[4],\n",
    "                    'Latin America & Caribbean': COLORS[5],\n",
    "                    'Sub-Saharan Africa': COLORS[6],\n",
    "                },\n",
    "                width=1100,\n",
    "                height=1500,\n",
    "            )\n",
    "        elif chart_type == 'Sunburst': \n",
    "            fig = px.sunburst(\n",
    "                GHG_totals_by_country_continent,\n",
    "                path=[px.Constant(\"Global Total\"), 'Region', 'Country'],\n",
    "                values=year_value,  # Use the updated value from the slider\n",
    "                color='Region',\n",
    "                color_discrete_map={\n",
    "                    '(?)': 'lightgrey',\n",
    "                    'East Asia & Pacific': COLORS[0],\n",
    "                    'Europe & Central Asia': COLORS[1],\n",
    "                    'North America': COLORS[2],\n",
    "                    'South Asia': COLORS[3],\n",
    "                    'Middle East & North Africa': COLORS[4],\n",
    "                    'Latin America & Caribbean': COLORS[5],\n",
    "                    'Sub-Saharan Africa': COLORS[6],\n",
    "                },\n",
    "                width=1100,\n",
    "                height=1500,\n",
    "            )\n",
    "        elif chart_type == 'Treemap': \n",
    "            fig = px.treemap(\n",
    "                GHG_totals_by_country_continent,\n",
    "                path=[px.Constant(\"Global Total\"), 'Region', 'Country'],\n",
    "                values=year_value,  # Use the updated value from the slider\n",
    "                color='Region',\n",
    "                color_discrete_map={\n",
    "                    '(?)': 'lightgrey',\n",
    "                    'East Asia & Pacific': COLORS[0],\n",
    "                    'Europe & Central Asia': COLORS[1],\n",
    "                    'North America': COLORS[2],\n",
    "                    'South Asia': COLORS[3],\n",
    "                    'Middle East & North Africa': COLORS[4],\n",
    "                    'Latin America & Caribbean': COLORS[5],\n",
    "                    'Sub-Saharan Africa': COLORS[6],\n",
    "                },\n",
    "                width=1100,\n",
    "                height=1500,\n",
    "            )\n",
    "        fig.update_traces(root_color=\"lightgrey\")\n",
    "        fig.update_layout(margin=dict(t=30, l=0, r=0, b=0))\n",
    "        fig.update_layout(title=f\"Countries' contributions to GHG emission in year {year_value}\")\n",
    "        fig.show()\n",
    "# Attach the update function to the widgets\n",
    "year_selector.observe(update_chart, names='value')\n",
    "chart_type_selector.observe(update_chart, names='value')\n",
    "\n",
    "# Display the slider and the chart\n",
    "display(widgets.VBox([year_selector, chart_type_selector]), out)\n",
    "\n",
    "update_chart()"
   ]
  },
  {
   "cell_type": "markdown",
   "metadata": {},
   "source": [
    "## KEY TRENDS\n",
    "\n",
    "- China significantly contributes to global greenhouse gas (GHG) emissions, dominating the \"East Asia & Pacific\" region and the global total.\n",
    "\n",
    "- Different regions contribute unevenly to global GHG emissions. \"East Asia & Pacific,\" \"North America,\" and \"Europe & Central Asia\" are prominent contributors compared to regions like \"Sub-Saharan Africa\" and \"Latin America & Caribbean.\"\n",
    "\n",
    "- Countries like Brazil, Indonesia, and Saudi Arabia are noteworthy contributors in their respective regions, reflecting the environmental impact of emerging economies. "
   ]
  }
 ],
 "metadata": {
  "kernelspec": {
   "display_name": "base",
   "language": "python",
   "name": "python3"
  },
  "language_info": {
   "codemirror_mode": {
    "name": "ipython",
    "version": 3
   },
   "file_extension": ".py",
   "mimetype": "text/x-python",
   "name": "python",
   "nbconvert_exporter": "python",
   "pygments_lexer": "ipython3",
   "version": "3.12.3"
  }
 },
 "nbformat": 4,
 "nbformat_minor": 4
}
