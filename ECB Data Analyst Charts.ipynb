{
 "cells": [
  {
   "cell_type": "markdown",
   "metadata": {},
   "source": [
    "The European Commission regularly publishes the Emissions Database for Global Atmospheric Research (EDGAR) report on the global greenhouse gas (GHG) emissions around the world. The latest data is published here: https://edgar.jrc.ec.europa.eu/report_2024?vis=ghgpop#data_download\n",
    "\n",
    "Using data from the above website – specifically, the data contained in the **EDGAR GHG emissions files** – prepare three charts (with the specifications described below) and, alongside each chart, provide a maximum of three bullet points explaining the main data trends.\n",
    "\n",
    "- Chart 1 – **Evolution** of **GHG growth** in the **euro area**, **European Union (EU27)** and **worldwide**;\n",
    "\n",
    "- Chart 2 – Comparison of countries’ GHG **emissions per capita** aggregated according to the **World Bank income groups**;\n",
    "\n",
    "    - `CLASS.xlsx` downloaded from https://datahelpdesk.worldbank.org/knowledgebase/articles/906519-world-bank-country-and-lending-groups\n",
    "\n",
    "- Chart 3 – Contribution of individual **country** and **continent** GHG emissions to **total world** GHG emissions. "
   ]
  },
  {
   "cell_type": "markdown",
   "metadata": {},
   "source": [
    "For simplicity, and to make use of the power of Jupyter, we explain everything as we do it: run this Jupyter notebook (or copy and paste the code) to get interactive charts! \n",
    "\n",
    "### Import data and add required aggregates\n",
    "\n",
    "Guadeloupe, French Guiana, Martinique and Réunion are included in the Euro Area: they are part of France and adopt the Euro"
   ]
  },
  {
   "cell_type": "code",
   "execution_count": 1,
   "metadata": {},
   "outputs": [],
   "source": [
    "import pandas as pd\n",
    "import plotly.express as px\n",
    "\n",
    "COLORS = ['#003299', '#FFB400', '#FF4B00', '#65B800', '#00B1EA', '#8139C6', '#077C1D'] # ECB charts color scheme (unused, but noting it down)\n",
    "\n",
    "def add_aggregate(data_frame, aggregate_label, aggregate_name, aggregate_components): \n",
    "    data_frame_new = pd.DataFrame({aggregate_label: data_frame.loc[aggregate_components].sum()[1:]}).T\n",
    "    data_frame_new['Country'] = aggregate_name\n",
    "    data_frame_new = pd.concat([data_frame, data_frame_new])\n",
    "    return data_frame_new"
   ]
  },
  {
   "cell_type": "markdown",
   "metadata": {},
   "source": [
    "Importing GHG totals and computing Euro Area aggregate"
   ]
  },
  {
   "cell_type": "code",
   "execution_count": 2,
   "metadata": {},
   "outputs": [],
   "source": [
    "EURO_AREA=[\n",
    "    'AUT', 'BEL', 'HRV', 'CYP', 'EST', 'FIN', 'FRA', 'DEU', 'GRC', 'IRL', 'ITA', 'LVA', 'LTU', 'LUX', 'MLT', 'NLD', 'PRT', 'SVK', 'SVN', 'ESP', 'GUF', 'GLP', 'MTQ', 'REU'\n",
    "]\n",
    "GHG_totals_by_country_original = pd.read_excel('EDGAR_2024_GHG_booklet_2024.xlsx', sheet_name='GHG_totals_by_country', index_col=0).dropna() # dropna to drop empty rows\n",
    "GHG_totals_by_country = add_aggregate(GHG_totals_by_country_original, 'EURO AREA', 'EURO AREA', EURO_AREA)"
   ]
  },
  {
   "cell_type": "markdown",
   "metadata": {},
   "source": [
    "Importing GHG per capita, the information from the World Bank, and computing the required aggregates.\n",
    "\n",
    "Income groups are plugged-in by hand (still using Python) to account for some slight labelling differences between the `CLASS.xlsx` file and the `EDGAR_2024_GHG_booklet_2024.xlsx` file. In particular: \n",
    "\n",
    "- The income groups of pacific island and microstates for which no data was present in the GHG file, or whose GHG data was grouped with a much larger nation were ignored (This applies to: Andorra, American Samoa, Channel Islands, Curaçao, Micronesia, Fed. Sts., Guam, Isle of Man, Liechtenstein, St. Martin (French part), Monaco, Marshall Islands, Northern Mariana Islands, Nauru, San Marino, South Sudan, Sint Maarten (Dutch part), Tuvalu, Virgin Islands (U.S.), Kosovo)\n",
    "\n",
    "- 'Guadeloupe', 'French Guiana', 'Martinique' and 'Réunion' are included among the high income countries as part of France\n",
    "\n",
    "- Other less relevant territories whose GHG are listed separately, but which are not part of an income group were also ignored (this applies to: 'Anguilla', 'Cook Islands', 'Western Sahara', 'Falkland Islands', 'Saint Helena, Ascension and Tristan da Cunha', 'Saint Pierre and Miquelon')\n",
    "\n",
    "- Curaçao has a different country code between the two files ('ANT' and 'CUW')\n",
    "\n",
    "- Venezuela is also not part of an income group. ('VEN')\n",
    "\n",
    "- Kosovo, Montenegro and Serbia are listed separately in the World Bank file, but in the GHG file they appear as \"Serbia and Montenegro\" ('SCG')\n",
    "\n",
    "- Sudan and South Sudan are listed separately in the World Bank file, but in the GHG file they appear as \"Sudan and South Sudan\" ('SDN')\n",
    "\n",
    "- Israel and Palestinian territories are listed separately in the World Bank file, but in the GHG file they appear as \"Israel and Palestine, State of\". The income level of Israel is kept for both due to the much larger population. ('ISR')\n",
    "\n",
    "- International Aviation and Shipping are ignored.  "
   ]
  },
  {
   "cell_type": "code",
   "execution_count": 3,
   "metadata": {},
   "outputs": [],
   "source": [
    "\n",
    "income_groups = {\n",
    "    'Low income' : ['AFG', 'BFA', 'BDI', 'CAF', 'TCD', 'COD', 'ERI', 'ETH', 'GMB', 'GNB', 'PRK', 'LBR', 'MDG', 'MWI', 'MLI', 'MOZ', 'NER', 'RWA', 'SLE', 'SOM', 'SDN', 'SYR', 'TGO', 'UGA', 'YEM'], \n",
    "    'Lower middle income': ['AGO', 'BGD', 'BEN', 'BTN', 'BOL', 'CPV', 'KHM', 'CMR', 'COM', 'COG', 'CIV', 'DJI', 'EGY', 'SWZ', 'GHA', 'GIN', 'HTI', 'HND', 'IND', 'JOR', 'KEN', 'KIR', 'KGZ', 'LAO', 'LBN', 'LSO', 'MRT', 'MAR', 'MMR', 'NPL', 'NIC', 'NGA', 'PAK', 'PNG', 'PHL', 'WSM', 'STP', 'SEN', 'SLB', 'LKA', 'TJK', 'TZA', 'TLS', 'TUN', 'UZB', 'VUT', 'VNM', 'ZMB', 'ZWE'], \n",
    "    'Upper middle income': ['ALB', 'DZA', 'ARG', 'ARM', 'AZE', 'BLR', 'BLZ', 'BIH', 'BWA', 'BRA', 'CHN', 'COL', 'CRI', 'CUB', 'DMA', 'DOM', 'ECU', 'SLV', 'GNQ', 'FJI', 'GAB', 'GEO', 'GRD', 'GTM', 'IDN', 'IRN', 'IRQ', 'JAM', 'KAZ', 'LBY', 'MYS', 'MDV', 'MUS', 'MEX', 'MDA', 'MNG', 'NAM', 'MKD', 'PRY', 'PER', 'SCG', 'ZAF', 'LCA', 'VCT', 'SUR', 'THA', 'TON', 'TUR', 'TKM', 'UKR'],\n",
    "    'High income': ['ATG', 'ABW', 'AUS', 'AUT', 'BHS', 'BHR', 'BRB', 'BEL', 'BMU', 'VGB', 'BRN', 'BGR', 'CAN', 'CYM', 'CHL', 'HRV', 'CYP', 'CZE', 'DNK', 'EST', 'FRO', 'FIN', 'FRA', 'PYF', 'DEU', 'GIB', 'GRC', 'GRL', 'GUY', 'HKG', 'HUN', 'ISL', 'IRL', 'ISR', 'ITA', 'JPN', 'KOR', 'KWT', 'LVA', 'LTU', 'LUX', 'MAC', 'MLT', 'NLD', 'NCL', 'NZL', 'NOR', 'OMN', 'PLW', 'PAN', 'POL', 'PRT', 'PRI', 'QAT', 'ROU', 'RUS', 'SAU', 'SYC', 'SGP', 'SVK', 'SVN', 'ESP', 'KNA', 'SWE', 'CHE', 'TWN', 'TTO', 'TCA', 'ARE', 'GBR', 'USA', 'URY', 'ANT', 'GUF', 'GLP', 'MTQ', 'REU']\n",
    "}\n",
    "income_groups_labels = {\n",
    "    'Low income' : 'LOW',\n",
    "    'Lower middle income': 'L_MID',\n",
    "    'Upper middle income': 'H_MID',\n",
    "    'High income': 'HIGH',\n",
    "}\n",
    "\n",
    "all_income_groups_CLASS = sum (income_groups.values(), [])\n",
    "GHG_per_capita_by_country = pd.read_excel('EDGAR_2024_GHG_booklet_2024.xlsx', sheet_name='GHG_per_capita_by_country', index_col=0).dropna() # dropna to drop empty rows\n",
    "CLASS = pd.read_excel('CLASS.xlsx', sheet_name='List of economies')\n",
    "\n",
    "for income_group, income_group_countries in income_groups.items(): \n",
    "    GHG_totals_by_country = add_aggregate(GHG_totals_by_country, income_groups_labels[income_group], income_group, income_group_countries)\n"
   ]
  },
  {
   "cell_type": "markdown",
   "metadata": {},
   "source": [
    "Dividing countries by region. Using World Bank regions for consistency"
   ]
  },
  {
   "cell_type": "code",
   "execution_count": 19,
   "metadata": {},
   "outputs": [],
   "source": [
    "region_dictionary = {\n",
    "    region: CLASS[CLASS.Region==region].Code.to_list()\n",
    "    for region in CLASS.Region.unique()\n",
    "}\n",
    "\n",
    "region_dictionary_reverse={}\n",
    "for region in region_dictionary.keys():\n",
    "    for code in region_dictionary[region]:\n",
    "        region_dictionary_reverse[code] = region \n",
    "# Adding in missing data\n",
    "region_dictionary_reverse['AIA'] = 'Latin America & Caribbean'\n",
    "region_dictionary_reverse['AIR'] = 'International Aviation'\n",
    "region_dictionary_reverse['ANT'] = 'Latin America & Caribbean'\n",
    "region_dictionary_reverse['COK'] = 'East Asia & Pacific'\n",
    "region_dictionary_reverse['ESH'] = 'Middle East & North Africa'\n",
    "region_dictionary_reverse['FLK'] = 'Latin America & Caribbean'\n",
    "region_dictionary_reverse['GLP'] = 'Latin America & Caribbean'\n",
    "region_dictionary_reverse['GUF'] = 'Latin America & Caribbean'\n",
    "region_dictionary_reverse['MTQ'] = 'Latin America & Caribbean'\n",
    "region_dictionary_reverse['REU'] = 'Sub-Saharan Africa'\n",
    "region_dictionary_reverse['SCG'] = 'Europe & Central Asia'\n",
    "region_dictionary_reverse['SEA'] = 'International Shipping'\n",
    "region_dictionary_reverse['SHN'] = 'Sub-Saharan Africa'\n",
    "region_dictionary_reverse['SPM'] = 'North America'\n",
    "\n",
    "region_reverse_series = pd.Series(region_dictionary_reverse)\n",
    "\n",
    "region_dictionary = {\n",
    "        region : [code for code in region_reverse_series[region_reverse_series==region].index.to_list() if code in GHG_totals_by_country.index]\n",
    "        for region in region_reverse_series.unique()\n",
    "    }\n",
    "region_dictionary\n",
    "\n",
    "region_labels = {\n",
    "    'South Asia' :'SAS',\n",
    "    'Europe & Central Asia' :'ECS',\n",
    "    'Middle East & North Africa' :'MEA',\n",
    "    'East Asia & Pacific' :'EAS',\n",
    "    'Sub-Saharan Africa' :'SSF',\n",
    "    'Latin America & Caribbean' :'LCN',\n",
    "    'North America' :'NAC',\n",
    "    'International Aviation' :'AIR',\n",
    "    'International Shipping' :'SEA', \n",
    "    'GLOBAL TOTAL': 'GLOBAL TOTAL'\n",
    "}\n",
    "\n",
    "GHG_totals_by_country_continent = GHG_totals_by_country_original.copy()\n",
    "\n",
    "# for region in region_dictionary.keys():\n",
    "#     if region not in GHG_totals_by_country_continent.index:\n",
    "#         if region not in ['International Aviation', 'International Shipping']:\n",
    "#             GHG_totals_by_country_continent = add_aggregate(GHG_totals_by_country_continent, region_labels[region], region, region_dictionary[region])\n",
    "GHG_totals_by_country_continent\n",
    "GHG_totals_by_country_continent = GHG_totals_by_country_continent.drop('EU27')\n",
    "GHG_totals_by_country_continent = GHG_totals_by_country_continent.drop('GLOBAL TOTAL')\n",
    "# GHG_totals_by_country_continent = GHG_totals_by_country_continent.drop(dropping)\n",
    "# GHG_totals_by_country_continent['Region'] = [region_dictionary_reverse[index] if index not in region_labels.values() else ('GLOBAL TOTAL' if index != 'GLOBAL TOTAL' else '')  for index in GHG_totals_by_country_continent.index ]\n",
    "GHG_totals_by_country_continent['Region'] = [region_dictionary_reverse[index] if index not in region_labels.values() else 'International Aviation and Shipping'  for index in GHG_totals_by_country_continent.index ]\n",
    "dropping = GHG_totals_by_country_continent[GHG_totals_by_country_continent.Region.isin(['', 'GLOBAL TOTAL'])  & ~GHG_totals_by_country_continent.Country.isin(['International Shipping', 'International Aviation'])].index\n"
   ]
  },
  {
   "cell_type": "markdown",
   "metadata": {},
   "source": [
    "### Chart 1\n",
    "First, we compute the growth from the emission totals by differentiating. We cannot get information from the first period, as no data is present for 1969. Then, we plot the first chart"
   ]
  },
  {
   "cell_type": "code",
   "execution_count": 24,
   "metadata": {},
   "outputs": [
    {
     "data": {
      "application/vnd.plotly.v1+json": {
       "config": {
        "plotlyServerURL": "https://plot.ly"
       },
       "data": [
        {
         "alignmentgroup": "True",
         "hovertemplate": "Region=GLOBAL TOTAL<br>Year=%{x}<br>GHG Emissions (MtCO2e)=%{y}<extra></extra>",
         "legendgroup": "GLOBAL TOTAL",
         "marker": {
          "color": "#003299",
          "pattern": {
           "shape": ""
          }
         },
         "name": "GLOBAL TOTAL",
         "offsetgroup": "GLOBAL TOTAL",
         "orientation": "v",
         "showlegend": true,
         "textposition": "auto",
         "type": "bar",
         "x": [
          1971,
          1972,
          1973,
          1974,
          1975,
          1976,
          1977,
          1978,
          1979,
          1980,
          1981,
          1982,
          1983,
          1984,
          1985,
          1986,
          1987,
          1988,
          1989,
          1990,
          1991,
          1992,
          1993,
          1994,
          1995,
          1996,
          1997,
          1998,
          1999,
          2000,
          2001,
          2002,
          2003,
          2004,
          2005,
          2006,
          2007,
          2008,
          2009,
          2010,
          2011,
          2012,
          2013,
          2014,
          2015,
          2016,
          2017,
          2018,
          2019,
          2020,
          2021,
          2022,
          2023
         ],
         "xaxis": "x",
         "y": [
          45.65648012600286,
          922.870509600998,
          1214.1399716859996,
          -3.270278217998566,
          12.355256849001307,
          1129.3551859009967,
          666.7894675160023,
          704.3976517339979,
          690.0606903910011,
          -290.2782370999994,
          -527.2381767240004,
          -211.84259450099853,
          226.8358476209978,
          790.2056066490004,
          299.48354800499874,
          478.3260226380007,
          735.9440424860004,
          949.0756800400013,
          565.9735975939984,
          324.63601338100125,
          52.47927772899857,
          -87.46258714599753,
          63.25488856299853,
          350.7970070790034,
          825.1568563689943,
          637.8183048499995,
          408.9090578890027,
          86.07613988700177,
          225.1220510610001,
          886.767320975996,
          284.3589061210005,
          439.33584726900153,
          1509.6481508619981,
          1575.5222500960008,
          1312.8734276640025,
          1174.8327338189993,
          1277.2233567360017,
          278.3840378639943,
          -422.86153268999624,
          2210.479868219001,
          1362.0529041350019,
          612.993397940998,
          797.909418342002,
          342.27773063799395,
          -121.40966003799986,
          249.67407971700595,
          820.2925524359962,
          1147.8936403949992,
          251.7204707300043,
          -1950.8090345500023,
          2240.7111469029987,
          400.221568535002,
          994.4292580619949
         ],
         "yaxis": "y"
        },
        {
         "alignmentgroup": "True",
         "hovertemplate": "Region=EU27<br>Year=%{x}<br>GHG Emissions (MtCO2e)=%{y}<extra></extra>",
         "legendgroup": "EU27",
         "marker": {
          "color": "#FFB400",
          "pattern": {
           "shape": ""
          }
         },
         "name": "EU27",
         "offsetgroup": "EU27",
         "orientation": "v",
         "showlegend": true,
         "textposition": "auto",
         "type": "bar",
         "x": [
          1971,
          1972,
          1973,
          1974,
          1975,
          1976,
          1977,
          1978,
          1979,
          1980,
          1981,
          1982,
          1983,
          1984,
          1985,
          1986,
          1987,
          1988,
          1989,
          1990,
          1991,
          1992,
          1993,
          1994,
          1995,
          1996,
          1997,
          1998,
          1999,
          2000,
          2001,
          2002,
          2003,
          2004,
          2005,
          2006,
          2007,
          2008,
          2009,
          2010,
          2011,
          2012,
          2013,
          2014,
          2015,
          2016,
          2017,
          2018,
          2019,
          2020,
          2021,
          2022,
          2023
         ],
         "xaxis": "x",
         "y": [
          24.483558386599725,
          151.78029353040074,
          218.66212655219988,
          -40.13746490310041,
          -87.48747980379994,
          264.03569940980015,
          -11.26779848949991,
          169.29334887139976,
          159.27905493690014,
          -88.66594783989967,
          -205.92016202759987,
          -86.37446794000061,
          -22.484992414099906,
          39.66109700149991,
          3.3977599213003487,
          -1.7112939340004232,
          34.44341220000024,
          -18.951908058499612,
          -12.14436769960048,
          -204.02901805730016,
          -82.70446635010012,
          -178.62985737669987,
          -88.0010445165999,
          -13.755916941800024,
          50.4049381122004,
          112.13652031399943,
          -82.24814569459977,
          -48.8014204072997,
          -77.64376566989995,
          13.407731867800067,
          29.897850286200082,
          -17.120596571900023,
          92.05326561109996,
          3.1946060028994907,
          -35.91234557049938,
          -0.2822928731002321,
          -32.2797294576003,
          -110.16026848279944,
          -290.8470350132002,
          115.33033204249932,
          -108.5554416328996,
          -67.01743632929993,
          -87.57464758669994,
          -146.64658832480018,
          54.20043951080015,
          9.64824070809982,
          22.89225491370007,
          -81.61044861339997,
          -152.6424916781998,
          -289.73760513670004,
          188.7392295894997,
          -94.7075589868,
          -260.51584498409966
         ],
         "yaxis": "y"
        },
        {
         "alignmentgroup": "True",
         "hovertemplate": "Region=EURO AREA<br>Year=%{x}<br>GHG Emissions (MtCO2e)=%{y}<extra></extra>",
         "legendgroup": "EURO AREA",
         "marker": {
          "color": "#FF4B00",
          "pattern": {
           "shape": ""
          }
         },
         "name": "EURO AREA",
         "offsetgroup": "EURO AREA",
         "orientation": "v",
         "showlegend": true,
         "textposition": "auto",
         "type": "bar",
         "x": [
          1971,
          1972,
          1973,
          1974,
          1975,
          1976,
          1977,
          1978,
          1979,
          1980,
          1981,
          1982,
          1983,
          1984,
          1985,
          1986,
          1987,
          1988,
          1989,
          1990,
          1991,
          1992,
          1993,
          1994,
          1995,
          1996,
          1997,
          1998,
          1999,
          2000,
          2001,
          2002,
          2003,
          2004,
          2005,
          2006,
          2007,
          2008,
          2009,
          2010,
          2011,
          2012,
          2013,
          2014,
          2015,
          2016,
          2017,
          2018,
          2019,
          2020,
          2021,
          2022,
          2023
         ],
         "xaxis": "x",
         "y": [
          17.98124858669553,
          120.37431578639598,
          173.01810397252302,
          -38.80499303761371,
          -141.71699793243988,
          199.52988405178303,
          -55.34934030075647,
          108.75958038872977,
          132.0161018247877,
          -74.92472600713927,
          -124.54530586254305,
          -105.0724181386895,
          -14.447539594101272,
          25.620760780620458,
          -12.040916095997545,
          -9.197055929485941,
          18.26269965874917,
          6.9672035116113875,
          43.86845111920775,
          -24.33159436873484,
          5.406610857164196,
          -121.05880965933784,
          -70.17254351537622,
          2.254047350576002,
          50.00768788202731,
          67.33908053180039,
          -36.16951604292262,
          21.30713684836701,
          -27.81195545992705,
          23.32053721975899,
          25.090356652877745,
          1.141847091685122,
          60.07098946780479,
          12.789439956246497,
          -23.5643070688011,
          -30.522404611190723,
          -23.751911147573082,
          -81.73012317672874,
          -222.9873439981311,
          86.88095973596683,
          -103.64369700861425,
          -38.209356658036086,
          -60.15194850325042,
          -127.24364480946178,
          44.800263787711174,
          -2.7655499507059176,
          2.2075625471334206,
          -74.46958728772688,
          -121.02600027549215,
          -246.69295364012305,
          139.79738205253125,
          -78.18970788946626,
          -195.7389324718306
         ],
         "yaxis": "y"
        }
       ],
       "layout": {
        "barmode": "group",
        "height": 600,
        "legend": {
         "title": {
          "text": "Region"
         },
         "tracegroupgap": 0
        },
        "template": {
         "data": {
          "bar": [
           {
            "error_x": {
             "color": "#2a3f5f"
            },
            "error_y": {
             "color": "#2a3f5f"
            },
            "marker": {
             "line": {
              "color": "#E5ECF6",
              "width": 0.5
             },
             "pattern": {
              "fillmode": "overlay",
              "size": 10,
              "solidity": 0.2
             }
            },
            "type": "bar"
           }
          ],
          "barpolar": [
           {
            "marker": {
             "line": {
              "color": "#E5ECF6",
              "width": 0.5
             },
             "pattern": {
              "fillmode": "overlay",
              "size": 10,
              "solidity": 0.2
             }
            },
            "type": "barpolar"
           }
          ],
          "carpet": [
           {
            "aaxis": {
             "endlinecolor": "#2a3f5f",
             "gridcolor": "white",
             "linecolor": "white",
             "minorgridcolor": "white",
             "startlinecolor": "#2a3f5f"
            },
            "baxis": {
             "endlinecolor": "#2a3f5f",
             "gridcolor": "white",
             "linecolor": "white",
             "minorgridcolor": "white",
             "startlinecolor": "#2a3f5f"
            },
            "type": "carpet"
           }
          ],
          "choropleth": [
           {
            "colorbar": {
             "outlinewidth": 0,
             "ticks": ""
            },
            "type": "choropleth"
           }
          ],
          "contour": [
           {
            "colorbar": {
             "outlinewidth": 0,
             "ticks": ""
            },
            "colorscale": [
             [
              0,
              "#0d0887"
             ],
             [
              0.1111111111111111,
              "#46039f"
             ],
             [
              0.2222222222222222,
              "#7201a8"
             ],
             [
              0.3333333333333333,
              "#9c179e"
             ],
             [
              0.4444444444444444,
              "#bd3786"
             ],
             [
              0.5555555555555556,
              "#d8576b"
             ],
             [
              0.6666666666666666,
              "#ed7953"
             ],
             [
              0.7777777777777778,
              "#fb9f3a"
             ],
             [
              0.8888888888888888,
              "#fdca26"
             ],
             [
              1,
              "#f0f921"
             ]
            ],
            "type": "contour"
           }
          ],
          "contourcarpet": [
           {
            "colorbar": {
             "outlinewidth": 0,
             "ticks": ""
            },
            "type": "contourcarpet"
           }
          ],
          "heatmap": [
           {
            "colorbar": {
             "outlinewidth": 0,
             "ticks": ""
            },
            "colorscale": [
             [
              0,
              "#0d0887"
             ],
             [
              0.1111111111111111,
              "#46039f"
             ],
             [
              0.2222222222222222,
              "#7201a8"
             ],
             [
              0.3333333333333333,
              "#9c179e"
             ],
             [
              0.4444444444444444,
              "#bd3786"
             ],
             [
              0.5555555555555556,
              "#d8576b"
             ],
             [
              0.6666666666666666,
              "#ed7953"
             ],
             [
              0.7777777777777778,
              "#fb9f3a"
             ],
             [
              0.8888888888888888,
              "#fdca26"
             ],
             [
              1,
              "#f0f921"
             ]
            ],
            "type": "heatmap"
           }
          ],
          "heatmapgl": [
           {
            "colorbar": {
             "outlinewidth": 0,
             "ticks": ""
            },
            "colorscale": [
             [
              0,
              "#0d0887"
             ],
             [
              0.1111111111111111,
              "#46039f"
             ],
             [
              0.2222222222222222,
              "#7201a8"
             ],
             [
              0.3333333333333333,
              "#9c179e"
             ],
             [
              0.4444444444444444,
              "#bd3786"
             ],
             [
              0.5555555555555556,
              "#d8576b"
             ],
             [
              0.6666666666666666,
              "#ed7953"
             ],
             [
              0.7777777777777778,
              "#fb9f3a"
             ],
             [
              0.8888888888888888,
              "#fdca26"
             ],
             [
              1,
              "#f0f921"
             ]
            ],
            "type": "heatmapgl"
           }
          ],
          "histogram": [
           {
            "marker": {
             "pattern": {
              "fillmode": "overlay",
              "size": 10,
              "solidity": 0.2
             }
            },
            "type": "histogram"
           }
          ],
          "histogram2d": [
           {
            "colorbar": {
             "outlinewidth": 0,
             "ticks": ""
            },
            "colorscale": [
             [
              0,
              "#0d0887"
             ],
             [
              0.1111111111111111,
              "#46039f"
             ],
             [
              0.2222222222222222,
              "#7201a8"
             ],
             [
              0.3333333333333333,
              "#9c179e"
             ],
             [
              0.4444444444444444,
              "#bd3786"
             ],
             [
              0.5555555555555556,
              "#d8576b"
             ],
             [
              0.6666666666666666,
              "#ed7953"
             ],
             [
              0.7777777777777778,
              "#fb9f3a"
             ],
             [
              0.8888888888888888,
              "#fdca26"
             ],
             [
              1,
              "#f0f921"
             ]
            ],
            "type": "histogram2d"
           }
          ],
          "histogram2dcontour": [
           {
            "colorbar": {
             "outlinewidth": 0,
             "ticks": ""
            },
            "colorscale": [
             [
              0,
              "#0d0887"
             ],
             [
              0.1111111111111111,
              "#46039f"
             ],
             [
              0.2222222222222222,
              "#7201a8"
             ],
             [
              0.3333333333333333,
              "#9c179e"
             ],
             [
              0.4444444444444444,
              "#bd3786"
             ],
             [
              0.5555555555555556,
              "#d8576b"
             ],
             [
              0.6666666666666666,
              "#ed7953"
             ],
             [
              0.7777777777777778,
              "#fb9f3a"
             ],
             [
              0.8888888888888888,
              "#fdca26"
             ],
             [
              1,
              "#f0f921"
             ]
            ],
            "type": "histogram2dcontour"
           }
          ],
          "mesh3d": [
           {
            "colorbar": {
             "outlinewidth": 0,
             "ticks": ""
            },
            "type": "mesh3d"
           }
          ],
          "parcoords": [
           {
            "line": {
             "colorbar": {
              "outlinewidth": 0,
              "ticks": ""
             }
            },
            "type": "parcoords"
           }
          ],
          "pie": [
           {
            "automargin": true,
            "type": "pie"
           }
          ],
          "scatter": [
           {
            "fillpattern": {
             "fillmode": "overlay",
             "size": 10,
             "solidity": 0.2
            },
            "type": "scatter"
           }
          ],
          "scatter3d": [
           {
            "line": {
             "colorbar": {
              "outlinewidth": 0,
              "ticks": ""
             }
            },
            "marker": {
             "colorbar": {
              "outlinewidth": 0,
              "ticks": ""
             }
            },
            "type": "scatter3d"
           }
          ],
          "scattercarpet": [
           {
            "marker": {
             "colorbar": {
              "outlinewidth": 0,
              "ticks": ""
             }
            },
            "type": "scattercarpet"
           }
          ],
          "scattergeo": [
           {
            "marker": {
             "colorbar": {
              "outlinewidth": 0,
              "ticks": ""
             }
            },
            "type": "scattergeo"
           }
          ],
          "scattergl": [
           {
            "marker": {
             "colorbar": {
              "outlinewidth": 0,
              "ticks": ""
             }
            },
            "type": "scattergl"
           }
          ],
          "scattermapbox": [
           {
            "marker": {
             "colorbar": {
              "outlinewidth": 0,
              "ticks": ""
             }
            },
            "type": "scattermapbox"
           }
          ],
          "scatterpolar": [
           {
            "marker": {
             "colorbar": {
              "outlinewidth": 0,
              "ticks": ""
             }
            },
            "type": "scatterpolar"
           }
          ],
          "scatterpolargl": [
           {
            "marker": {
             "colorbar": {
              "outlinewidth": 0,
              "ticks": ""
             }
            },
            "type": "scatterpolargl"
           }
          ],
          "scatterternary": [
           {
            "marker": {
             "colorbar": {
              "outlinewidth": 0,
              "ticks": ""
             }
            },
            "type": "scatterternary"
           }
          ],
          "surface": [
           {
            "colorbar": {
             "outlinewidth": 0,
             "ticks": ""
            },
            "colorscale": [
             [
              0,
              "#0d0887"
             ],
             [
              0.1111111111111111,
              "#46039f"
             ],
             [
              0.2222222222222222,
              "#7201a8"
             ],
             [
              0.3333333333333333,
              "#9c179e"
             ],
             [
              0.4444444444444444,
              "#bd3786"
             ],
             [
              0.5555555555555556,
              "#d8576b"
             ],
             [
              0.6666666666666666,
              "#ed7953"
             ],
             [
              0.7777777777777778,
              "#fb9f3a"
             ],
             [
              0.8888888888888888,
              "#fdca26"
             ],
             [
              1,
              "#f0f921"
             ]
            ],
            "type": "surface"
           }
          ],
          "table": [
           {
            "cells": {
             "fill": {
              "color": "#EBF0F8"
             },
             "line": {
              "color": "white"
             }
            },
            "header": {
             "fill": {
              "color": "#C8D4E3"
             },
             "line": {
              "color": "white"
             }
            },
            "type": "table"
           }
          ]
         },
         "layout": {
          "annotationdefaults": {
           "arrowcolor": "#2a3f5f",
           "arrowhead": 0,
           "arrowwidth": 1
          },
          "autotypenumbers": "strict",
          "coloraxis": {
           "colorbar": {
            "outlinewidth": 0,
            "ticks": ""
           }
          },
          "colorscale": {
           "diverging": [
            [
             0,
             "#8e0152"
            ],
            [
             0.1,
             "#c51b7d"
            ],
            [
             0.2,
             "#de77ae"
            ],
            [
             0.3,
             "#f1b6da"
            ],
            [
             0.4,
             "#fde0ef"
            ],
            [
             0.5,
             "#f7f7f7"
            ],
            [
             0.6,
             "#e6f5d0"
            ],
            [
             0.7,
             "#b8e186"
            ],
            [
             0.8,
             "#7fbc41"
            ],
            [
             0.9,
             "#4d9221"
            ],
            [
             1,
             "#276419"
            ]
           ],
           "sequential": [
            [
             0,
             "#0d0887"
            ],
            [
             0.1111111111111111,
             "#46039f"
            ],
            [
             0.2222222222222222,
             "#7201a8"
            ],
            [
             0.3333333333333333,
             "#9c179e"
            ],
            [
             0.4444444444444444,
             "#bd3786"
            ],
            [
             0.5555555555555556,
             "#d8576b"
            ],
            [
             0.6666666666666666,
             "#ed7953"
            ],
            [
             0.7777777777777778,
             "#fb9f3a"
            ],
            [
             0.8888888888888888,
             "#fdca26"
            ],
            [
             1,
             "#f0f921"
            ]
           ],
           "sequentialminus": [
            [
             0,
             "#0d0887"
            ],
            [
             0.1111111111111111,
             "#46039f"
            ],
            [
             0.2222222222222222,
             "#7201a8"
            ],
            [
             0.3333333333333333,
             "#9c179e"
            ],
            [
             0.4444444444444444,
             "#bd3786"
            ],
            [
             0.5555555555555556,
             "#d8576b"
            ],
            [
             0.6666666666666666,
             "#ed7953"
            ],
            [
             0.7777777777777778,
             "#fb9f3a"
            ],
            [
             0.8888888888888888,
             "#fdca26"
            ],
            [
             1,
             "#f0f921"
            ]
           ]
          },
          "colorway": [
           "#636efa",
           "#EF553B",
           "#00cc96",
           "#ab63fa",
           "#FFA15A",
           "#19d3f3",
           "#FF6692",
           "#B6E880",
           "#FF97FF",
           "#FECB52"
          ],
          "font": {
           "color": "#2a3f5f"
          },
          "geo": {
           "bgcolor": "white",
           "lakecolor": "white",
           "landcolor": "#E5ECF6",
           "showlakes": true,
           "showland": true,
           "subunitcolor": "white"
          },
          "hoverlabel": {
           "align": "left"
          },
          "hovermode": "closest",
          "mapbox": {
           "style": "light"
          },
          "paper_bgcolor": "white",
          "plot_bgcolor": "#E5ECF6",
          "polar": {
           "angularaxis": {
            "gridcolor": "white",
            "linecolor": "white",
            "ticks": ""
           },
           "bgcolor": "#E5ECF6",
           "radialaxis": {
            "gridcolor": "white",
            "linecolor": "white",
            "ticks": ""
           }
          },
          "scene": {
           "xaxis": {
            "backgroundcolor": "#E5ECF6",
            "gridcolor": "white",
            "gridwidth": 2,
            "linecolor": "white",
            "showbackground": true,
            "ticks": "",
            "zerolinecolor": "white"
           },
           "yaxis": {
            "backgroundcolor": "#E5ECF6",
            "gridcolor": "white",
            "gridwidth": 2,
            "linecolor": "white",
            "showbackground": true,
            "ticks": "",
            "zerolinecolor": "white"
           },
           "zaxis": {
            "backgroundcolor": "#E5ECF6",
            "gridcolor": "white",
            "gridwidth": 2,
            "linecolor": "white",
            "showbackground": true,
            "ticks": "",
            "zerolinecolor": "white"
           }
          },
          "shapedefaults": {
           "line": {
            "color": "#2a3f5f"
           }
          },
          "ternary": {
           "aaxis": {
            "gridcolor": "white",
            "linecolor": "white",
            "ticks": ""
           },
           "baxis": {
            "gridcolor": "white",
            "linecolor": "white",
            "ticks": ""
           },
           "bgcolor": "#E5ECF6",
           "caxis": {
            "gridcolor": "white",
            "linecolor": "white",
            "ticks": ""
           }
          },
          "title": {
           "x": 0.05
          },
          "xaxis": {
           "automargin": true,
           "gridcolor": "white",
           "linecolor": "white",
           "ticks": "",
           "title": {
            "standoff": 15
           },
           "zerolinecolor": "white",
           "zerolinewidth": 2
          },
          "yaxis": {
           "automargin": true,
           "gridcolor": "white",
           "linecolor": "white",
           "ticks": "",
           "title": {
            "standoff": 15
           },
           "zerolinecolor": "white",
           "zerolinewidth": 2
          }
         }
        },
        "title": {
         "text": "Change in GHG Emissions for EU27, Euro Area and whole world (1970-2023)"
        },
        "width": 1350,
        "xaxis": {
         "anchor": "y",
         "autorange": true,
         "domain": [
          0,
          1
         ],
         "range": [
          1970.5,
          2023.5
         ],
         "title": {
          "text": "Year"
         },
         "type": "linear"
        },
        "yaxis": {
         "anchor": "x",
         "autorange": true,
         "domain": [
          0,
          1
         ],
         "range": [
          -2183.6712668529467,
          2473.573379205943
         ],
         "title": {
          "text": "GHG Emissions (MtCO2e)"
         },
         "type": "linear"
        }
       }
      },
      "image/png": "[encoded data removed]",
      "text/html": [
       "<div>                            <div id=\"ccb497f0-2bde-41e6-851b-d150356eb667\" class=\"plotly-graph-div\" style=\"height:600px; width:1350px;\"></div>            <script type=\"text/javascript\">                require([\"plotly\"], function(Plotly) {                    window.PLOTLYENV=window.PLOTLYENV || {};                                    if (document.getElementById(\"ccb497f0-2bde-41e6-851b-d150356eb667\")) {                    Plotly.newPlot(                        \"ccb497f0-2bde-41e6-851b-d150356eb667\",                        [{\"alignmentgroup\":\"True\",\"hovertemplate\":\"Region=GLOBAL TOTAL\\u003cbr\\u003eYear=%{x}\\u003cbr\\u003eGHG Emissions (MtCO2e)=%{y}\\u003cextra\\u003e\\u003c\\u002fextra\\u003e\",\"legendgroup\":\"GLOBAL TOTAL\",\"marker\":{\"color\":\"#003299\",\"pattern\":{\"shape\":\"\"}},\"name\":\"GLOBAL TOTAL\",\"offsetgroup\":\"GLOBAL TOTAL\",\"orientation\":\"v\",\"showlegend\":true,\"textposition\":\"auto\",\"x\":[1971,1972,1973,1974,1975,1976,1977,1978,1979,1980,1981,1982,1983,1984,1985,1986,1987,1988,1989,1990,1991,1992,1993,1994,1995,1996,1997,1998,1999,2000,2001,2002,2003,2004,2005,2006,2007,2008,2009,2010,2011,2012,2013,2014,2015,2016,2017,2018,2019,2020,2021,2022,2023],\"xaxis\":\"x\",\"y\":[45.65648012600286,922.870509600998,1214.1399716859996,-3.270278217998566,12.355256849001307,1129.3551859009967,666.7894675160023,704.3976517339979,690.0606903910011,-290.2782370999994,-527.2381767240004,-211.84259450099853,226.8358476209978,790.2056066490004,299.48354800499874,478.3260226380007,735.9440424860004,949.0756800400013,565.9735975939984,324.63601338100125,52.47927772899857,-87.46258714599753,63.25488856299853,350.7970070790034,825.1568563689943,637.8183048499995,408.9090578890027,86.07613988700177,225.1220510610001,886.767320975996,284.3589061210005,439.33584726900153,1509.6481508619981,1575.5222500960008,1312.8734276640025,1174.8327338189993,1277.2233567360017,278.3840378639943,-422.86153268999624,2210.479868219001,1362.0529041350019,612.993397940998,797.909418342002,342.27773063799395,-121.40966003799986,249.67407971700595,820.2925524359962,1147.8936403949992,251.7204707300043,-1950.8090345500023,2240.7111469029987,400.221568535002,994.4292580619949],\"yaxis\":\"y\",\"type\":\"bar\"},{\"alignmentgroup\":\"True\",\"hovertemplate\":\"Region=EU27\\u003cbr\\u003eYear=%{x}\\u003cbr\\u003eGHG Emissions (MtCO2e)=%{y}\\u003cextra\\u003e\\u003c\\u002fextra\\u003e\",\"legendgroup\":\"EU27\",\"marker\":{\"color\":\"#FFB400\",\"pattern\":{\"shape\":\"\"}},\"name\":\"EU27\",\"offsetgroup\":\"EU27\",\"orientation\":\"v\",\"showlegend\":true,\"textposition\":\"auto\",\"x\":[1971,1972,1973,1974,1975,1976,1977,1978,1979,1980,1981,1982,1983,1984,1985,1986,1987,1988,1989,1990,1991,1992,1993,1994,1995,1996,1997,1998,1999,2000,2001,2002,2003,2004,2005,2006,2007,2008,2009,2010,2011,2012,2013,2014,2015,2016,2017,2018,2019,2020,2021,2022,2023],\"xaxis\":\"x\",\"y\":[24.483558386599725,151.78029353040074,218.66212655219988,-40.13746490310041,-87.48747980379994,264.03569940980015,-11.26779848949991,169.29334887139976,159.27905493690014,-88.66594783989967,-205.92016202759987,-86.37446794000061,-22.484992414099906,39.66109700149991,3.3977599213003487,-1.7112939340004232,34.44341220000024,-18.951908058499612,-12.14436769960048,-204.02901805730016,-82.70446635010012,-178.62985737669987,-88.0010445165999,-13.755916941800024,50.4049381122004,112.13652031399943,-82.24814569459977,-48.8014204072997,-77.64376566989995,13.407731867800067,29.897850286200082,-17.120596571900023,92.05326561109996,3.1946060028994907,-35.91234557049938,-0.2822928731002321,-32.2797294576003,-110.16026848279944,-290.8470350132002,115.33033204249932,-108.5554416328996,-67.01743632929993,-87.57464758669994,-146.64658832480018,54.20043951080015,9.64824070809982,22.89225491370007,-81.61044861339997,-152.6424916781998,-289.73760513670004,188.7392295894997,-94.7075589868,-260.51584498409966],\"yaxis\":\"y\",\"type\":\"bar\"},{\"alignmentgroup\":\"True\",\"hovertemplate\":\"Region=EURO AREA\\u003cbr\\u003eYear=%{x}\\u003cbr\\u003eGHG Emissions (MtCO2e)=%{y}\\u003cextra\\u003e\\u003c\\u002fextra\\u003e\",\"legendgroup\":\"EURO AREA\",\"marker\":{\"color\":\"#FF4B00\",\"pattern\":{\"shape\":\"\"}},\"name\":\"EURO AREA\",\"offsetgroup\":\"EURO AREA\",\"orientation\":\"v\",\"showlegend\":true,\"textposition\":\"auto\",\"x\":[1971,1972,1973,1974,1975,1976,1977,1978,1979,1980,1981,1982,1983,1984,1985,1986,1987,1988,1989,1990,1991,1992,1993,1994,1995,1996,1997,1998,1999,2000,2001,2002,2003,2004,2005,2006,2007,2008,2009,2010,2011,2012,2013,2014,2015,2016,2017,2018,2019,2020,2021,2022,2023],\"xaxis\":\"x\",\"y\":[17.98124858669553,120.37431578639598,173.01810397252302,-38.80499303761371,-141.71699793243988,199.52988405178303,-55.34934030075647,108.75958038872977,132.0161018247877,-74.92472600713927,-124.54530586254305,-105.0724181386895,-14.447539594101272,25.620760780620458,-12.040916095997545,-9.197055929485941,18.26269965874917,6.9672035116113875,43.86845111920775,-24.33159436873484,5.406610857164196,-121.05880965933784,-70.17254351537622,2.254047350576002,50.00768788202731,67.33908053180039,-36.16951604292262,21.30713684836701,-27.81195545992705,23.32053721975899,25.090356652877745,1.141847091685122,60.07098946780479,12.789439956246497,-23.5643070688011,-30.522404611190723,-23.751911147573082,-81.73012317672874,-222.9873439981311,86.88095973596683,-103.64369700861425,-38.209356658036086,-60.15194850325042,-127.24364480946178,44.800263787711174,-2.7655499507059176,2.2075625471334206,-74.46958728772688,-121.02600027549215,-246.69295364012305,139.79738205253125,-78.18970788946626,-195.7389324718306],\"yaxis\":\"y\",\"type\":\"bar\"}],                        {\"template\":{\"data\":{\"histogram2dcontour\":[{\"type\":\"histogram2dcontour\",\"colorbar\":{\"outlinewidth\":0,\"ticks\":\"\"},\"colorscale\":[[0.0,\"#0d0887\"],[0.1111111111111111,\"#46039f\"],[0.2222222222222222,\"#7201a8\"],[0.3333333333333333,\"#9c179e\"],[0.4444444444444444,\"#bd3786\"],[0.5555555555555556,\"#d8576b\"],[0.6666666666666666,\"#ed7953\"],[0.7777777777777778,\"#fb9f3a\"],[0.8888888888888888,\"#fdca26\"],[1.0,\"#f0f921\"]]}],\"choropleth\":[{\"type\":\"choropleth\",\"colorbar\":{\"outlinewidth\":0,\"ticks\":\"\"}}],\"histogram2d\":[{\"type\":\"histogram2d\",\"colorbar\":{\"outlinewidth\":0,\"ticks\":\"\"},\"colorscale\":[[0.0,\"#0d0887\"],[0.1111111111111111,\"#46039f\"],[0.2222222222222222,\"#7201a8\"],[0.3333333333333333,\"#9c179e\"],[0.4444444444444444,\"#bd3786\"],[0.5555555555555556,\"#d8576b\"],[0.6666666666666666,\"#ed7953\"],[0.7777777777777778,\"#fb9f3a\"],[0.8888888888888888,\"#fdca26\"],[1.0,\"#f0f921\"]]}],\"heatmap\":[{\"type\":\"heatmap\",\"colorbar\":{\"outlinewidth\":0,\"ticks\":\"\"},\"colorscale\":[[0.0,\"#0d0887\"],[0.1111111111111111,\"#46039f\"],[0.2222222222222222,\"#7201a8\"],[0.3333333333333333,\"#9c179e\"],[0.4444444444444444,\"#bd3786\"],[0.5555555555555556,\"#d8576b\"],[0.6666666666666666,\"#ed7953\"],[0.7777777777777778,\"#fb9f3a\"],[0.8888888888888888,\"#fdca26\"],[1.0,\"#f0f921\"]]}],\"heatmapgl\":[{\"type\":\"heatmapgl\",\"colorbar\":{\"outlinewidth\":0,\"ticks\":\"\"},\"colorscale\":[[0.0,\"#0d0887\"],[0.1111111111111111,\"#46039f\"],[0.2222222222222222,\"#7201a8\"],[0.3333333333333333,\"#9c179e\"],[0.4444444444444444,\"#bd3786\"],[0.5555555555555556,\"#d8576b\"],[0.6666666666666666,\"#ed7953\"],[0.7777777777777778,\"#fb9f3a\"],[0.8888888888888888,\"#fdca26\"],[1.0,\"#f0f921\"]]}],\"contourcarpet\":[{\"type\":\"contourcarpet\",\"colorbar\":{\"outlinewidth\":0,\"ticks\":\"\"}}],\"contour\":[{\"type\":\"contour\",\"colorbar\":{\"outlinewidth\":0,\"ticks\":\"\"},\"colorscale\":[[0.0,\"#0d0887\"],[0.1111111111111111,\"#46039f\"],[0.2222222222222222,\"#7201a8\"],[0.3333333333333333,\"#9c179e\"],[0.4444444444444444,\"#bd3786\"],[0.5555555555555556,\"#d8576b\"],[0.6666666666666666,\"#ed7953\"],[0.7777777777777778,\"#fb9f3a\"],[0.8888888888888888,\"#fdca26\"],[1.0,\"#f0f921\"]]}],\"surface\":[{\"type\":\"surface\",\"colorbar\":{\"outlinewidth\":0,\"ticks\":\"\"},\"colorscale\":[[0.0,\"#0d0887\"],[0.1111111111111111,\"#46039f\"],[0.2222222222222222,\"#7201a8\"],[0.3333333333333333,\"#9c179e\"],[0.4444444444444444,\"#bd3786\"],[0.5555555555555556,\"#d8576b\"],[0.6666666666666666,\"#ed7953\"],[0.7777777777777778,\"#fb9f3a\"],[0.8888888888888888,\"#fdca26\"],[1.0,\"#f0f921\"]]}],\"mesh3d\":[{\"type\":\"mesh3d\",\"colorbar\":{\"outlinewidth\":0,\"ticks\":\"\"}}],\"scatter\":[{\"fillpattern\":{\"fillmode\":\"overlay\",\"size\":10,\"solidity\":0.2},\"type\":\"scatter\"}],\"parcoords\":[{\"type\":\"parcoords\",\"line\":{\"colorbar\":{\"outlinewidth\":0,\"ticks\":\"\"}}}],\"scatterpolargl\":[{\"type\":\"scatterpolargl\",\"marker\":{\"colorbar\":{\"outlinewidth\":0,\"ticks\":\"\"}}}],\"bar\":[{\"error_x\":{\"color\":\"#2a3f5f\"},\"error_y\":{\"color\":\"#2a3f5f\"},\"marker\":{\"line\":{\"color\":\"#E5ECF6\",\"width\":0.5},\"pattern\":{\"fillmode\":\"overlay\",\"size\":10,\"solidity\":0.2}},\"type\":\"bar\"}],\"scattergeo\":[{\"type\":\"scattergeo\",\"marker\":{\"colorbar\":{\"outlinewidth\":0,\"ticks\":\"\"}}}],\"scatterpolar\":[{\"type\":\"scatterpolar\",\"marker\":{\"colorbar\":{\"outlinewidth\":0,\"ticks\":\"\"}}}],\"histogram\":[{\"marker\":{\"pattern\":{\"fillmode\":\"overlay\",\"size\":10,\"solidity\":0.2}},\"type\":\"histogram\"}],\"scattergl\":[{\"type\":\"scattergl\",\"marker\":{\"colorbar\":{\"outlinewidth\":0,\"ticks\":\"\"}}}],\"scatter3d\":[{\"type\":\"scatter3d\",\"line\":{\"colorbar\":{\"outlinewidth\":0,\"ticks\":\"\"}},\"marker\":{\"colorbar\":{\"outlinewidth\":0,\"ticks\":\"\"}}}],\"scattermapbox\":[{\"type\":\"scattermapbox\",\"marker\":{\"colorbar\":{\"outlinewidth\":0,\"ticks\":\"\"}}}],\"scatterternary\":[{\"type\":\"scatterternary\",\"marker\":{\"colorbar\":{\"outlinewidth\":0,\"ticks\":\"\"}}}],\"scattercarpet\":[{\"type\":\"scattercarpet\",\"marker\":{\"colorbar\":{\"outlinewidth\":0,\"ticks\":\"\"}}}],\"carpet\":[{\"aaxis\":{\"endlinecolor\":\"#2a3f5f\",\"gridcolor\":\"white\",\"linecolor\":\"white\",\"minorgridcolor\":\"white\",\"startlinecolor\":\"#2a3f5f\"},\"baxis\":{\"endlinecolor\":\"#2a3f5f\",\"gridcolor\":\"white\",\"linecolor\":\"white\",\"minorgridcolor\":\"white\",\"startlinecolor\":\"#2a3f5f\"},\"type\":\"carpet\"}],\"table\":[{\"cells\":{\"fill\":{\"color\":\"#EBF0F8\"},\"line\":{\"color\":\"white\"}},\"header\":{\"fill\":{\"color\":\"#C8D4E3\"},\"line\":{\"color\":\"white\"}},\"type\":\"table\"}],\"barpolar\":[{\"marker\":{\"line\":{\"color\":\"#E5ECF6\",\"width\":0.5},\"pattern\":{\"fillmode\":\"overlay\",\"size\":10,\"solidity\":0.2}},\"type\":\"barpolar\"}],\"pie\":[{\"automargin\":true,\"type\":\"pie\"}]},\"layout\":{\"autotypenumbers\":\"strict\",\"colorway\":[\"#636efa\",\"#EF553B\",\"#00cc96\",\"#ab63fa\",\"#FFA15A\",\"#19d3f3\",\"#FF6692\",\"#B6E880\",\"#FF97FF\",\"#FECB52\"],\"font\":{\"color\":\"#2a3f5f\"},\"hovermode\":\"closest\",\"hoverlabel\":{\"align\":\"left\"},\"paper_bgcolor\":\"white\",\"plot_bgcolor\":\"#E5ECF6\",\"polar\":{\"bgcolor\":\"#E5ECF6\",\"angularaxis\":{\"gridcolor\":\"white\",\"linecolor\":\"white\",\"ticks\":\"\"},\"radialaxis\":{\"gridcolor\":\"white\",\"linecolor\":\"white\",\"ticks\":\"\"}},\"ternary\":{\"bgcolor\":\"#E5ECF6\",\"aaxis\":{\"gridcolor\":\"white\",\"linecolor\":\"white\",\"ticks\":\"\"},\"baxis\":{\"gridcolor\":\"white\",\"linecolor\":\"white\",\"ticks\":\"\"},\"caxis\":{\"gridcolor\":\"white\",\"linecolor\":\"white\",\"ticks\":\"\"}},\"coloraxis\":{\"colorbar\":{\"outlinewidth\":0,\"ticks\":\"\"}},\"colorscale\":{\"sequential\":[[0.0,\"#0d0887\"],[0.1111111111111111,\"#46039f\"],[0.2222222222222222,\"#7201a8\"],[0.3333333333333333,\"#9c179e\"],[0.4444444444444444,\"#bd3786\"],[0.5555555555555556,\"#d8576b\"],[0.6666666666666666,\"#ed7953\"],[0.7777777777777778,\"#fb9f3a\"],[0.8888888888888888,\"#fdca26\"],[1.0,\"#f0f921\"]],\"sequentialminus\":[[0.0,\"#0d0887\"],[0.1111111111111111,\"#46039f\"],[0.2222222222222222,\"#7201a8\"],[0.3333333333333333,\"#9c179e\"],[0.4444444444444444,\"#bd3786\"],[0.5555555555555556,\"#d8576b\"],[0.6666666666666666,\"#ed7953\"],[0.7777777777777778,\"#fb9f3a\"],[0.8888888888888888,\"#fdca26\"],[1.0,\"#f0f921\"]],\"diverging\":[[0,\"#8e0152\"],[0.1,\"#c51b7d\"],[0.2,\"#de77ae\"],[0.3,\"#f1b6da\"],[0.4,\"#fde0ef\"],[0.5,\"#f7f7f7\"],[0.6,\"#e6f5d0\"],[0.7,\"#b8e186\"],[0.8,\"#7fbc41\"],[0.9,\"#4d9221\"],[1,\"#276419\"]]},\"xaxis\":{\"gridcolor\":\"white\",\"linecolor\":\"white\",\"ticks\":\"\",\"title\":{\"standoff\":15},\"zerolinecolor\":\"white\",\"automargin\":true,\"zerolinewidth\":2},\"yaxis\":{\"gridcolor\":\"white\",\"linecolor\":\"white\",\"ticks\":\"\",\"title\":{\"standoff\":15},\"zerolinecolor\":\"white\",\"automargin\":true,\"zerolinewidth\":2},\"scene\":{\"xaxis\":{\"backgroundcolor\":\"#E5ECF6\",\"gridcolor\":\"white\",\"linecolor\":\"white\",\"showbackground\":true,\"ticks\":\"\",\"zerolinecolor\":\"white\",\"gridwidth\":2},\"yaxis\":{\"backgroundcolor\":\"#E5ECF6\",\"gridcolor\":\"white\",\"linecolor\":\"white\",\"showbackground\":true,\"ticks\":\"\",\"zerolinecolor\":\"white\",\"gridwidth\":2},\"zaxis\":{\"backgroundcolor\":\"#E5ECF6\",\"gridcolor\":\"white\",\"linecolor\":\"white\",\"showbackground\":true,\"ticks\":\"\",\"zerolinecolor\":\"white\",\"gridwidth\":2}},\"shapedefaults\":{\"line\":{\"color\":\"#2a3f5f\"}},\"annotationdefaults\":{\"arrowcolor\":\"#2a3f5f\",\"arrowhead\":0,\"arrowwidth\":1},\"geo\":{\"bgcolor\":\"white\",\"landcolor\":\"#E5ECF6\",\"subunitcolor\":\"white\",\"showland\":true,\"showlakes\":true,\"lakecolor\":\"white\"},\"title\":{\"x\":0.05},\"mapbox\":{\"style\":\"light\"}}},\"xaxis\":{\"anchor\":\"y\",\"domain\":[0.0,1.0],\"title\":{\"text\":\"Year\"}},\"yaxis\":{\"anchor\":\"x\",\"domain\":[0.0,1.0],\"title\":{\"text\":\"GHG Emissions (MtCO2e)\"}},\"legend\":{\"title\":{\"text\":\"Region\"},\"tracegroupgap\":0},\"title\":{\"text\":\"Change in GHG Emissions for EU27, Euro Area and whole world (1970-2023)\"},\"barmode\":\"group\",\"height\":600,\"width\":1350},                        {\"responsive\": true}                    ).then(function(){\n",
       "                            \n",
       "var gd = document.getElementById('ccb497f0-2bde-41e6-851b-d150356eb667');\n",
       "var x = new MutationObserver(function (mutations, observer) {{\n",
       "        var display = window.getComputedStyle(gd).display;\n",
       "        if (!display || display === 'none') {{\n",
       "            console.log([gd, 'removed!']);\n",
       "            Plotly.purge(gd);\n",
       "            observer.disconnect();\n",
       "        }}\n",
       "}});\n",
       "\n",
       "// Listen for the removal of the full notebook cells\n",
       "var notebookContainer = gd.closest('#notebook-container');\n",
       "if (notebookContainer) {{\n",
       "    x.observe(notebookContainer, {childList: true});\n",
       "}}\n",
       "\n",
       "// Listen for the clearing of the current output cell\n",
       "var outputEl = gd.closest('.output');\n",
       "if (outputEl) {{\n",
       "    x.observe(outputEl, {childList: true});\n",
       "}}\n",
       "\n",
       "                        })                };                });            </script>        </div>"
      ]
     },
     "metadata": {},
     "output_type": "display_data"
    }
   ],
   "source": [
    "\n",
    "# GHG growth from one year to the next\n",
    "GHG_growth_by_country = GHG_totals_by_country.drop(columns='Country').diff(periods=1, axis=1).iloc[:, 1:]\n",
    "GHG_growth_by_country.insert(0, 'Country', GHG_totals_by_country.Country)\n",
    "# Filter required columns \n",
    "df = GHG_growth_by_country.loc[['GLOBAL TOTAL', 'EU27', 'EURO AREA']]\n",
    "# # Plot (built-in function)\n",
    "# df = df.set_index('Country')\n",
    "# plt = df.T.plot(kind='bar', figsize=(18, 10), color={'GLOBAL TOTAL': '#003299', 'EU27': '#FFB400',  'EURO AREA':'#FF4B00', 'United States': '#65B800'}, grid=True)\n",
    "# plt.axhline(0, color='k', linestyle='dashed')\n",
    "# Melt\n",
    "df_long = df.melt(id_vars=[\"Country\"], var_name=\"Year\", value_name=\"Emissions\")\n",
    "\n",
    "fig = px.bar(\n",
    "    df_long,\n",
    "    x=\"Year\",                # Year on the x-axis\n",
    "    y=\"Emissions\",              # Emissions on the y-axis\n",
    "    color=\"Country\",       # Use income group for color differentiation\n",
    "    title=\"Change in GHG Emissions for EU27, Euro Area and whole world (1970-2023)\",\n",
    "    labels={\"Country\": \"Region\", \"Emissions\": \"GHG Emissions (MtCO2e)\"},  # Axis labels\n",
    "    color_discrete_sequence=COLORS,\n",
    "    barmode=\"group\",             # Grouped bars for each year\n",
    "    height = 600,\n",
    "    width = 1350\n",
    ")\n",
    "fig.show()"
   ]
  },
  {
   "cell_type": "markdown",
   "metadata": {},
   "source": [
    "#### KEY TRENDS\n",
    "\n",
    "- Global greenhouse gas (GHG) emissions have shown a consistent upward trend between 1971 and 2023.\n",
    "\n",
    "- The European Union (EU) and the Euro Area have made significant progress in reducing GHG emissions, with a clear downward trend. However, these efforts alone are insufficient to drive a meaningful global impact. \n",
    "\n",
    "- Within the European Union, the Euro Area is responsible for the majority of the observed changes in GHG emissions."
   ]
  },
  {
   "cell_type": "markdown",
   "metadata": {},
   "source": [
    "### Chart 2"
   ]
  },
  {
   "cell_type": "code",
   "execution_count": 6,
   "metadata": {},
   "outputs": [
    {
     "data": {
      "application/vnd.plotly.v1+json": {
       "config": {
        "plotlyServerURL": "https://plot.ly"
       },
       "data": [
        {
         "alignmentgroup": "True",
         "hovertemplate": "Income Group=High income<br>Year=%{x}<br>GHG Emissions (MtCO2e)=%{y}<extra></extra>",
         "legendgroup": "High income",
         "marker": {
          "color": "#003299",
          "pattern": {
           "shape": ""
          }
         },
         "name": "High income",
         "offsetgroup": "High income",
         "orientation": "v",
         "showlegend": true,
         "textposition": "auto",
         "type": "bar",
         "x": [
          1970,
          1971,
          1972,
          1973,
          1974,
          1975,
          1976,
          1977,
          1978,
          1979,
          1980,
          1981,
          1982,
          1983,
          1984,
          1985,
          1986,
          1987,
          1988,
          1989,
          1990,
          1991,
          1992,
          1993,
          1994,
          1995,
          1996,
          1997,
          1998,
          1999,
          2000,
          2001,
          2002,
          2003,
          2004,
          2005,
          2006,
          2007,
          2008,
          2009,
          2010,
          2011,
          2012,
          2013,
          2014,
          2015,
          2016,
          2017,
          2018,
          2019,
          2020,
          2021,
          2022,
          2023
         ],
         "xaxis": "x",
         "y": [
          15568.868798103897,
          15510.517731968766,
          16142.461226434783,
          16935.17354240516,
          16754.71354849054,
          16471.076763968125,
          17204.6010138366,
          17501.58995311373,
          17825.054395807805,
          18213.089985651543,
          17906.399035621012,
          17513.870099095642,
          17094.988267731227,
          17097.44921590337,
          17488.26369136946,
          17579.48577053697,
          17674.734262878927,
          17997.261424529042,
          18482.72356389122,
          18663.278558910777,
          18658.681161514207,
          18547.62880991013,
          18295.931478118488,
          18168.7474418588,
          18185.004138631495,
          18328.94017138628,
          18696.10571156611,
          18833.814950590666,
          18763.465506742417,
          18860.107549748773,
          19199.37893406344,
          19187.737238574664,
          19111.80439854193,
          19455.77772651276,
          19642.160558164498,
          19698.42594590767,
          19642.17035435413,
          19845.83165697085,
          19499.56974377299,
          18476.868608787532,
          19183.895600595384,
          19115.518096140557,
          18951.326547992678,
          19006.06547748594,
          18849.879021472654,
          18822.322992124627,
          18712.299113498895,
          18740.86918309962,
          18893.909721978285,
          18639.68797847148,
          17429.272229981536,
          18229.23614512939,
          18177.932026885,
          17809.551510490266
         ],
         "yaxis": "y"
        },
        {
         "alignmentgroup": "True",
         "hovertemplate": "Income Group=Upper middle income<br>Year=%{x}<br>GHG Emissions (MtCO2e)=%{y}<extra></extra>",
         "legendgroup": "Upper middle income",
         "marker": {
          "color": "#FFB400",
          "pattern": {
           "shape": ""
          }
         },
         "name": "Upper middle income",
         "offsetgroup": "Upper middle income",
         "orientation": "v",
         "showlegend": true,
         "textposition": "auto",
         "type": "bar",
         "x": [
          1970,
          1971,
          1972,
          1973,
          1974,
          1975,
          1976,
          1977,
          1978,
          1979,
          1980,
          1981,
          1982,
          1983,
          1984,
          1985,
          1986,
          1987,
          1988,
          1989,
          1990,
          1991,
          1992,
          1993,
          1994,
          1995,
          1996,
          1997,
          1998,
          1999,
          2000,
          2001,
          2002,
          2003,
          2004,
          2005,
          2006,
          2007,
          2008,
          2009,
          2010,
          2011,
          2012,
          2013,
          2014,
          2015,
          2016,
          2017,
          2018,
          2019,
          2020,
          2021,
          2022,
          2023
         ],
         "xaxis": "x",
         "y": [
          5482.095957209576,
          5568.625522526431,
          5768.892981522091,
          6071.222360402062,
          6204.263001877649,
          6527.783676752193,
          6826.2886097383625,
          7126.562305513989,
          7451.225741244056,
          7593.045874634009,
          7577.483846010731,
          7451.2703917404615,
          7622.939939248929,
          7781.900333008905,
          8074.530032983294,
          8167.515908284693,
          8409.382844087622,
          8742.905042316119,
          9047.377945212203,
          9290.061541053077,
          9562.839829623112,
          9626.546238359364,
          9697.56648801115,
          9833.27162739244,
          10014.236164674303,
          10516.003122389502,
          10576.558311234114,
          10738.240384433318,
          10814.836592722786,
          10765.520095562266,
          11163.992681580834,
          11405.758764969703,
          11845.47575888416,
          12859.24120681261,
          13943.35775813642,
          14958.609552412698,
          15971.894785771136,
          16772.77311899972,
          17165.51114554864,
          17635.278755979347,
          18815.016184552285,
          20033.21303892607,
          20589.099014954612,
          21231.281719365394,
          21412.15836979053,
          21165.44620649265,
          21289.331357397896,
          21721.340376178905,
          22446.650350102416,
          22875.94619032506,
          22798.86741603398,
          23817.972051993198,
          23903.179912885756,
          24829.31377508974
         ],
         "yaxis": "y"
        },
        {
         "alignmentgroup": "True",
         "hovertemplate": "Income Group=Lower middle income<br>Year=%{x}<br>GHG Emissions (MtCO2e)=%{y}<extra></extra>",
         "legendgroup": "Lower middle income",
         "marker": {
          "color": "#FF4B00",
          "pattern": {
           "shape": ""
          }
         },
         "name": "Lower middle income",
         "offsetgroup": "Lower middle income",
         "orientation": "v",
         "showlegend": true,
         "textposition": "auto",
         "type": "bar",
         "x": [
          1970,
          1971,
          1972,
          1973,
          1974,
          1975,
          1976,
          1977,
          1978,
          1979,
          1980,
          1981,
          1982,
          1983,
          1984,
          1985,
          1986,
          1987,
          1988,
          1989,
          1990,
          1991,
          1992,
          1993,
          1994,
          1995,
          1996,
          1997,
          1998,
          1999,
          2000,
          2001,
          2002,
          2003,
          2004,
          2005,
          2006,
          2007,
          2008,
          2009,
          2010,
          2011,
          2012,
          2013,
          2014,
          2015,
          2016,
          2017,
          2018,
          2019,
          2020,
          2021,
          2022,
          2023
         ],
         "xaxis": "x",
         "y": [
          1939.3600328046464,
          1955.0542078089707,
          2015.4360085992491,
          2090.270024182727,
          2162.830396997517,
          2160.8778871555137,
          2225.457657099078,
          2263.9036714847057,
          2289.3032917586975,
          2398.008279435624,
          2418.161652258769,
          2423.984378527931,
          2459.2230179149874,
          2531.965145115783,
          2617.989462019369,
          2698.2074922837946,
          2790.041098990763,
          2850.1533623111236,
          2961.813551022353,
          3073.963013378675,
          3107.641247754039,
          3190.328899123432,
          3254.1117278404045,
          3315.4249211760985,
          3421.033902695906,
          3569.894099509253,
          3734.5747354149084,
          3806.6646345765494,
          3851.682212030924,
          3973.646225051266,
          4066.396882479311,
          4139.043537713708,
          4164.761301640095,
          4290.1239571692295,
          4478.323259479949,
          4622.793638783812,
          4761.043542423604,
          4969.6180039721285,
          5150.629023608685,
          5323.690346590474,
          5550.63082481253,
          5763.302900126258,
          5999.029817897219,
          6098.052970878829,
          6361.115797789528,
          6487.331981392131,
          6670.289761177042,
          6927.634161492648,
          7165.834556277677,
          7243.789851963037,
          7024.196389711822,
          7384.703628645281,
          7595.223918958209,
          7916.737766624928
         ],
         "yaxis": "y"
        },
        {
         "alignmentgroup": "True",
         "hovertemplate": "Income Group=Low income<br>Year=%{x}<br>GHG Emissions (MtCO2e)=%{y}<extra></extra>",
         "legendgroup": "Low income",
         "marker": {
          "color": "#65B800",
          "pattern": {
           "shape": ""
          }
         },
         "name": "Low income",
         "offsetgroup": "Low income",
         "orientation": "v",
         "showlegend": true,
         "textposition": "auto",
         "type": "bar",
         "x": [
          1970,
          1971,
          1972,
          1973,
          1974,
          1975,
          1976,
          1977,
          1978,
          1979,
          1980,
          1981,
          1982,
          1983,
          1984,
          1985,
          1986,
          1987,
          1988,
          1989,
          1990,
          1991,
          1992,
          1993,
          1994,
          1995,
          1996,
          1997,
          1998,
          1999,
          2000,
          2001,
          2002,
          2003,
          2004,
          2005,
          2006,
          2007,
          2008,
          2009,
          2010,
          2011,
          2012,
          2013,
          2014,
          2015,
          2016,
          2017,
          2018,
          2019,
          2020,
          2021,
          2022,
          2023
         ],
         "xaxis": "x",
         "y": [
          357.1292737647667,
          359.50871873073356,
          362.17073026910424,
          365.53275650124107,
          373.7919863465875,
          387.4849749593962,
          403.9679272211255,
          415.930400498266,
          431.8903306571472,
          451.9199030729095,
          465.41534657850383,
          478.21225668627744,
          504.4796246473431,
          517.3803727444576,
          520.9923807383159,
          528.4358163599567,
          531.7502252091447,
          534.5909359984161,
          551.5782923233841,
          560.7932700610252,
          573.4099253404546,
          577.2542200757546,
          566.921563309828,
          563.7872058477268,
          570.9725962964313,
          571.6514744359229,
          579.6451536913012,
          585.4287006444777,
          589.4882500870609,
          607.1143724428206,
          627.0430225961942,
          635.8921437033059,
          645.2418394455613,
          669.7947818990458,
          687.3834886537709,
          728.6012095898485,
          751.0958473880436,
          763.6054242466939,
          795.0425428713586,
          810.2945612122503,
          830.172164440116,
          817.4357110023735,
          819.6722074183851,
          816.590483185775,
          836.6596237989858,
          824.9455790012044,
          851.087412889856,
          910.7579414457686,
          929.7685821619293,
          961.4758418494613,
          963.6664495940307,
          972.1807833639987,
          991.1658647495526,
          1008.6805267755765
         ],
         "yaxis": "y"
        }
       ],
       "layout": {
        "barmode": "group",
        "height": 600,
        "legend": {
         "title": {
          "text": "Income Group"
         },
         "tracegroupgap": 0
        },
        "template": {
         "data": {
          "bar": [
           {
            "error_x": {
             "color": "#2a3f5f"
            },
            "error_y": {
             "color": "#2a3f5f"
            },
            "marker": {
             "line": {
              "color": "#E5ECF6",
              "width": 0.5
             },
             "pattern": {
              "fillmode": "overlay",
              "size": 10,
              "solidity": 0.2
             }
            },
            "type": "bar"
           }
          ],
          "barpolar": [
           {
            "marker": {
             "line": {
              "color": "#E5ECF6",
              "width": 0.5
             },
             "pattern": {
              "fillmode": "overlay",
              "size": 10,
              "solidity": 0.2
             }
            },
            "type": "barpolar"
           }
          ],
          "carpet": [
           {
            "aaxis": {
             "endlinecolor": "#2a3f5f",
             "gridcolor": "white",
             "linecolor": "white",
             "minorgridcolor": "white",
             "startlinecolor": "#2a3f5f"
            },
            "baxis": {
             "endlinecolor": "#2a3f5f",
             "gridcolor": "white",
             "linecolor": "white",
             "minorgridcolor": "white",
             "startlinecolor": "#2a3f5f"
            },
            "type": "carpet"
           }
          ],
          "choropleth": [
           {
            "colorbar": {
             "outlinewidth": 0,
             "ticks": ""
            },
            "type": "choropleth"
           }
          ],
          "contour": [
           {
            "colorbar": {
             "outlinewidth": 0,
             "ticks": ""
            },
            "colorscale": [
             [
              0,
              "#0d0887"
             ],
             [
              0.1111111111111111,
              "#46039f"
             ],
             [
              0.2222222222222222,
              "#7201a8"
             ],
             [
              0.3333333333333333,
              "#9c179e"
             ],
             [
              0.4444444444444444,
              "#bd3786"
             ],
             [
              0.5555555555555556,
              "#d8576b"
             ],
             [
              0.6666666666666666,
              "#ed7953"
             ],
             [
              0.7777777777777778,
              "#fb9f3a"
             ],
             [
              0.8888888888888888,
              "#fdca26"
             ],
             [
              1,
              "#f0f921"
             ]
            ],
            "type": "contour"
           }
          ],
          "contourcarpet": [
           {
            "colorbar": {
             "outlinewidth": 0,
             "ticks": ""
            },
            "type": "contourcarpet"
           }
          ],
          "heatmap": [
           {
            "colorbar": {
             "outlinewidth": 0,
             "ticks": ""
            },
            "colorscale": [
             [
              0,
              "#0d0887"
             ],
             [
              0.1111111111111111,
              "#46039f"
             ],
             [
              0.2222222222222222,
              "#7201a8"
             ],
             [
              0.3333333333333333,
              "#9c179e"
             ],
             [
              0.4444444444444444,
              "#bd3786"
             ],
             [
              0.5555555555555556,
              "#d8576b"
             ],
             [
              0.6666666666666666,
              "#ed7953"
             ],
             [
              0.7777777777777778,
              "#fb9f3a"
             ],
             [
              0.8888888888888888,
              "#fdca26"
             ],
             [
              1,
              "#f0f921"
             ]
            ],
            "type": "heatmap"
           }
          ],
          "heatmapgl": [
           {
            "colorbar": {
             "outlinewidth": 0,
             "ticks": ""
            },
            "colorscale": [
             [
              0,
              "#0d0887"
             ],
             [
              0.1111111111111111,
              "#46039f"
             ],
             [
              0.2222222222222222,
              "#7201a8"
             ],
             [
              0.3333333333333333,
              "#9c179e"
             ],
             [
              0.4444444444444444,
              "#bd3786"
             ],
             [
              0.5555555555555556,
              "#d8576b"
             ],
             [
              0.6666666666666666,
              "#ed7953"
             ],
             [
              0.7777777777777778,
              "#fb9f3a"
             ],
             [
              0.8888888888888888,
              "#fdca26"
             ],
             [
              1,
              "#f0f921"
             ]
            ],
            "type": "heatmapgl"
           }
          ],
          "histogram": [
           {
            "marker": {
             "pattern": {
              "fillmode": "overlay",
              "size": 10,
              "solidity": 0.2
             }
            },
            "type": "histogram"
           }
          ],
          "histogram2d": [
           {
            "colorbar": {
             "outlinewidth": 0,
             "ticks": ""
            },
            "colorscale": [
             [
              0,
              "#0d0887"
             ],
             [
              0.1111111111111111,
              "#46039f"
             ],
             [
              0.2222222222222222,
              "#7201a8"
             ],
             [
              0.3333333333333333,
              "#9c179e"
             ],
             [
              0.4444444444444444,
              "#bd3786"
             ],
             [
              0.5555555555555556,
              "#d8576b"
             ],
             [
              0.6666666666666666,
              "#ed7953"
             ],
             [
              0.7777777777777778,
              "#fb9f3a"
             ],
             [
              0.8888888888888888,
              "#fdca26"
             ],
             [
              1,
              "#f0f921"
             ]
            ],
            "type": "histogram2d"
           }
          ],
          "histogram2dcontour": [
           {
            "colorbar": {
             "outlinewidth": 0,
             "ticks": ""
            },
            "colorscale": [
             [
              0,
              "#0d0887"
             ],
             [
              0.1111111111111111,
              "#46039f"
             ],
             [
              0.2222222222222222,
              "#7201a8"
             ],
             [
              0.3333333333333333,
              "#9c179e"
             ],
             [
              0.4444444444444444,
              "#bd3786"
             ],
             [
              0.5555555555555556,
              "#d8576b"
             ],
             [
              0.6666666666666666,
              "#ed7953"
             ],
             [
              0.7777777777777778,
              "#fb9f3a"
             ],
             [
              0.8888888888888888,
              "#fdca26"
             ],
             [
              1,
              "#f0f921"
             ]
            ],
            "type": "histogram2dcontour"
           }
          ],
          "mesh3d": [
           {
            "colorbar": {
             "outlinewidth": 0,
             "ticks": ""
            },
            "type": "mesh3d"
           }
          ],
          "parcoords": [
           {
            "line": {
             "colorbar": {
              "outlinewidth": 0,
              "ticks": ""
             }
            },
            "type": "parcoords"
           }
          ],
          "pie": [
           {
            "automargin": true,
            "type": "pie"
           }
          ],
          "scatter": [
           {
            "fillpattern": {
             "fillmode": "overlay",
             "size": 10,
             "solidity": 0.2
            },
            "type": "scatter"
           }
          ],
          "scatter3d": [
           {
            "line": {
             "colorbar": {
              "outlinewidth": 0,
              "ticks": ""
             }
            },
            "marker": {
             "colorbar": {
              "outlinewidth": 0,
              "ticks": ""
             }
            },
            "type": "scatter3d"
           }
          ],
          "scattercarpet": [
           {
            "marker": {
             "colorbar": {
              "outlinewidth": 0,
              "ticks": ""
             }
            },
            "type": "scattercarpet"
           }
          ],
          "scattergeo": [
           {
            "marker": {
             "colorbar": {
              "outlinewidth": 0,
              "ticks": ""
             }
            },
            "type": "scattergeo"
           }
          ],
          "scattergl": [
           {
            "marker": {
             "colorbar": {
              "outlinewidth": 0,
              "ticks": ""
             }
            },
            "type": "scattergl"
           }
          ],
          "scattermapbox": [
           {
            "marker": {
             "colorbar": {
              "outlinewidth": 0,
              "ticks": ""
             }
            },
            "type": "scattermapbox"
           }
          ],
          "scatterpolar": [
           {
            "marker": {
             "colorbar": {
              "outlinewidth": 0,
              "ticks": ""
             }
            },
            "type": "scatterpolar"
           }
          ],
          "scatterpolargl": [
           {
            "marker": {
             "colorbar": {
              "outlinewidth": 0,
              "ticks": ""
             }
            },
            "type": "scatterpolargl"
           }
          ],
          "scatterternary": [
           {
            "marker": {
             "colorbar": {
              "outlinewidth": 0,
              "ticks": ""
             }
            },
            "type": "scatterternary"
           }
          ],
          "surface": [
           {
            "colorbar": {
             "outlinewidth": 0,
             "ticks": ""
            },
            "colorscale": [
             [
              0,
              "#0d0887"
             ],
             [
              0.1111111111111111,
              "#46039f"
             ],
             [
              0.2222222222222222,
              "#7201a8"
             ],
             [
              0.3333333333333333,
              "#9c179e"
             ],
             [
              0.4444444444444444,
              "#bd3786"
             ],
             [
              0.5555555555555556,
              "#d8576b"
             ],
             [
              0.6666666666666666,
              "#ed7953"
             ],
             [
              0.7777777777777778,
              "#fb9f3a"
             ],
             [
              0.8888888888888888,
              "#fdca26"
             ],
             [
              1,
              "#f0f921"
             ]
            ],
            "type": "surface"
           }
          ],
          "table": [
           {
            "cells": {
             "fill": {
              "color": "#EBF0F8"
             },
             "line": {
              "color": "white"
             }
            },
            "header": {
             "fill": {
              "color": "#C8D4E3"
             },
             "line": {
              "color": "white"
             }
            },
            "type": "table"
           }
          ]
         },
         "layout": {
          "annotationdefaults": {
           "arrowcolor": "#2a3f5f",
           "arrowhead": 0,
           "arrowwidth": 1
          },
          "autotypenumbers": "strict",
          "coloraxis": {
           "colorbar": {
            "outlinewidth": 0,
            "ticks": ""
           }
          },
          "colorscale": {
           "diverging": [
            [
             0,
             "#8e0152"
            ],
            [
             0.1,
             "#c51b7d"
            ],
            [
             0.2,
             "#de77ae"
            ],
            [
             0.3,
             "#f1b6da"
            ],
            [
             0.4,
             "#fde0ef"
            ],
            [
             0.5,
             "#f7f7f7"
            ],
            [
             0.6,
             "#e6f5d0"
            ],
            [
             0.7,
             "#b8e186"
            ],
            [
             0.8,
             "#7fbc41"
            ],
            [
             0.9,
             "#4d9221"
            ],
            [
             1,
             "#276419"
            ]
           ],
           "sequential": [
            [
             0,
             "#0d0887"
            ],
            [
             0.1111111111111111,
             "#46039f"
            ],
            [
             0.2222222222222222,
             "#7201a8"
            ],
            [
             0.3333333333333333,
             "#9c179e"
            ],
            [
             0.4444444444444444,
             "#bd3786"
            ],
            [
             0.5555555555555556,
             "#d8576b"
            ],
            [
             0.6666666666666666,
             "#ed7953"
            ],
            [
             0.7777777777777778,
             "#fb9f3a"
            ],
            [
             0.8888888888888888,
             "#fdca26"
            ],
            [
             1,
             "#f0f921"
            ]
           ],
           "sequentialminus": [
            [
             0,
             "#0d0887"
            ],
            [
             0.1111111111111111,
             "#46039f"
            ],
            [
             0.2222222222222222,
             "#7201a8"
            ],
            [
             0.3333333333333333,
             "#9c179e"
            ],
            [
             0.4444444444444444,
             "#bd3786"
            ],
            [
             0.5555555555555556,
             "#d8576b"
            ],
            [
             0.6666666666666666,
             "#ed7953"
            ],
            [
             0.7777777777777778,
             "#fb9f3a"
            ],
            [
             0.8888888888888888,
             "#fdca26"
            ],
            [
             1,
             "#f0f921"
            ]
           ]
          },
          "colorway": [
           "#636efa",
           "#EF553B",
           "#00cc96",
           "#ab63fa",
           "#FFA15A",
           "#19d3f3",
           "#FF6692",
           "#B6E880",
           "#FF97FF",
           "#FECB52"
          ],
          "font": {
           "color": "#2a3f5f"
          },
          "geo": {
           "bgcolor": "white",
           "lakecolor": "white",
           "landcolor": "#E5ECF6",
           "showlakes": true,
           "showland": true,
           "subunitcolor": "white"
          },
          "hoverlabel": {
           "align": "left"
          },
          "hovermode": "closest",
          "mapbox": {
           "style": "light"
          },
          "paper_bgcolor": "white",
          "plot_bgcolor": "#E5ECF6",
          "polar": {
           "angularaxis": {
            "gridcolor": "white",
            "linecolor": "white",
            "ticks": ""
           },
           "bgcolor": "#E5ECF6",
           "radialaxis": {
            "gridcolor": "white",
            "linecolor": "white",
            "ticks": ""
           }
          },
          "scene": {
           "xaxis": {
            "backgroundcolor": "#E5ECF6",
            "gridcolor": "white",
            "gridwidth": 2,
            "linecolor": "white",
            "showbackground": true,
            "ticks": "",
            "zerolinecolor": "white"
           },
           "yaxis": {
            "backgroundcolor": "#E5ECF6",
            "gridcolor": "white",
            "gridwidth": 2,
            "linecolor": "white",
            "showbackground": true,
            "ticks": "",
            "zerolinecolor": "white"
           },
           "zaxis": {
            "backgroundcolor": "#E5ECF6",
            "gridcolor": "white",
            "gridwidth": 2,
            "linecolor": "white",
            "showbackground": true,
            "ticks": "",
            "zerolinecolor": "white"
           }
          },
          "shapedefaults": {
           "line": {
            "color": "#2a3f5f"
           }
          },
          "ternary": {
           "aaxis": {
            "gridcolor": "white",
            "linecolor": "white",
            "ticks": ""
           },
           "baxis": {
            "gridcolor": "white",
            "linecolor": "white",
            "ticks": ""
           },
           "bgcolor": "#E5ECF6",
           "caxis": {
            "gridcolor": "white",
            "linecolor": "white",
            "ticks": ""
           }
          },
          "title": {
           "x": 0.05
          },
          "xaxis": {
           "automargin": true,
           "gridcolor": "white",
           "linecolor": "white",
           "ticks": "",
           "title": {
            "standoff": 15
           },
           "zerolinecolor": "white",
           "zerolinewidth": 2
          },
          "yaxis": {
           "automargin": true,
           "gridcolor": "white",
           "linecolor": "white",
           "ticks": "",
           "title": {
            "standoff": 15
           },
           "zerolinecolor": "white",
           "zerolinewidth": 2
          }
         }
        },
        "title": {
         "text": "GHG Emissions by Income Group (1970-2023)"
        },
        "width": 1350,
        "xaxis": {
         "anchor": "y",
         "autorange": true,
         "domain": [
          0,
          1
         ],
         "range": [
          1969.5,
          2023.5
         ],
         "title": {
          "text": "Year"
         },
         "type": "linear"
        },
        "yaxis": {
         "anchor": "x",
         "autorange": true,
         "domain": [
          0,
          1
         ],
         "range": [
          0,
          26136.119763252358
         ],
         "title": {
          "text": "GHG Emissions (MtCO2e)"
         },
         "type": "linear"
        }
       }
      },
      "image/png": "[encoded data removed]",
      "text/html": [
       "<div>                            <div id=\"778c0d86-4a29-45ee-a9e5-80c33eded800\" class=\"plotly-graph-div\" style=\"height:600px; width:1350px;\"></div>            <script type=\"text/javascript\">                require([\"plotly\"], function(Plotly) {                    window.PLOTLYENV=window.PLOTLYENV || {};                                    if (document.getElementById(\"778c0d86-4a29-45ee-a9e5-80c33eded800\")) {                    Plotly.newPlot(                        \"778c0d86-4a29-45ee-a9e5-80c33eded800\",                        [{\"alignmentgroup\":\"True\",\"hovertemplate\":\"Income Group=High income\\u003cbr\\u003eYear=%{x}\\u003cbr\\u003eGHG Emissions (MtCO2e)=%{y}\\u003cextra\\u003e\\u003c\\u002fextra\\u003e\",\"legendgroup\":\"High income\",\"marker\":{\"color\":\"#003299\",\"pattern\":{\"shape\":\"\"}},\"name\":\"High income\",\"offsetgroup\":\"High income\",\"orientation\":\"v\",\"showlegend\":true,\"textposition\":\"auto\",\"x\":[1970,1971,1972,1973,1974,1975,1976,1977,1978,1979,1980,1981,1982,1983,1984,1985,1986,1987,1988,1989,1990,1991,1992,1993,1994,1995,1996,1997,1998,1999,2000,2001,2002,2003,2004,2005,2006,2007,2008,2009,2010,2011,2012,2013,2014,2015,2016,2017,2018,2019,2020,2021,2022,2023],\"xaxis\":\"x\",\"y\":[15568.868798103897,15510.517731968766,16142.461226434783,16935.17354240516,16754.71354849054,16471.076763968125,17204.6010138366,17501.58995311373,17825.054395807805,18213.089985651543,17906.399035621012,17513.870099095642,17094.988267731227,17097.44921590337,17488.26369136946,17579.48577053697,17674.734262878927,17997.261424529042,18482.72356389122,18663.278558910777,18658.681161514207,18547.62880991013,18295.931478118488,18168.7474418588,18185.004138631495,18328.94017138628,18696.10571156611,18833.814950590666,18763.465506742417,18860.107549748773,19199.37893406344,19187.737238574664,19111.80439854193,19455.77772651276,19642.160558164498,19698.42594590767,19642.17035435413,19845.83165697085,19499.56974377299,18476.868608787532,19183.895600595384,19115.518096140557,18951.326547992678,19006.06547748594,18849.879021472654,18822.322992124627,18712.299113498895,18740.86918309962,18893.909721978285,18639.68797847148,17429.272229981536,18229.23614512939,18177.932026885,17809.551510490266],\"yaxis\":\"y\",\"type\":\"bar\"},{\"alignmentgroup\":\"True\",\"hovertemplate\":\"Income Group=Upper middle income\\u003cbr\\u003eYear=%{x}\\u003cbr\\u003eGHG Emissions (MtCO2e)=%{y}\\u003cextra\\u003e\\u003c\\u002fextra\\u003e\",\"legendgroup\":\"Upper middle income\",\"marker\":{\"color\":\"#FFB400\",\"pattern\":{\"shape\":\"\"}},\"name\":\"Upper middle income\",\"offsetgroup\":\"Upper middle income\",\"orientation\":\"v\",\"showlegend\":true,\"textposition\":\"auto\",\"x\":[1970,1971,1972,1973,1974,1975,1976,1977,1978,1979,1980,1981,1982,1983,1984,1985,1986,1987,1988,1989,1990,1991,1992,1993,1994,1995,1996,1997,1998,1999,2000,2001,2002,2003,2004,2005,2006,2007,2008,2009,2010,2011,2012,2013,2014,2015,2016,2017,2018,2019,2020,2021,2022,2023],\"xaxis\":\"x\",\"y\":[5482.095957209576,5568.625522526431,5768.892981522091,6071.222360402062,6204.263001877649,6527.783676752193,6826.2886097383625,7126.562305513989,7451.225741244056,7593.045874634009,7577.483846010731,7451.2703917404615,7622.939939248929,7781.900333008905,8074.530032983294,8167.515908284693,8409.382844087622,8742.905042316119,9047.377945212203,9290.061541053077,9562.839829623112,9626.546238359364,9697.56648801115,9833.27162739244,10014.236164674303,10516.003122389502,10576.558311234114,10738.240384433318,10814.836592722786,10765.520095562266,11163.992681580834,11405.758764969703,11845.47575888416,12859.24120681261,13943.35775813642,14958.609552412698,15971.894785771136,16772.77311899972,17165.51114554864,17635.278755979347,18815.016184552285,20033.21303892607,20589.099014954612,21231.281719365394,21412.15836979053,21165.44620649265,21289.331357397896,21721.340376178905,22446.650350102416,22875.94619032506,22798.86741603398,23817.972051993198,23903.179912885756,24829.31377508974],\"yaxis\":\"y\",\"type\":\"bar\"},{\"alignmentgroup\":\"True\",\"hovertemplate\":\"Income Group=Lower middle income\\u003cbr\\u003eYear=%{x}\\u003cbr\\u003eGHG Emissions (MtCO2e)=%{y}\\u003cextra\\u003e\\u003c\\u002fextra\\u003e\",\"legendgroup\":\"Lower middle income\",\"marker\":{\"color\":\"#FF4B00\",\"pattern\":{\"shape\":\"\"}},\"name\":\"Lower middle income\",\"offsetgroup\":\"Lower middle income\",\"orientation\":\"v\",\"showlegend\":true,\"textposition\":\"auto\",\"x\":[1970,1971,1972,1973,1974,1975,1976,1977,1978,1979,1980,1981,1982,1983,1984,1985,1986,1987,1988,1989,1990,1991,1992,1993,1994,1995,1996,1997,1998,1999,2000,2001,2002,2003,2004,2005,2006,2007,2008,2009,2010,2011,2012,2013,2014,2015,2016,2017,2018,2019,2020,2021,2022,2023],\"xaxis\":\"x\",\"y\":[1939.3600328046464,1955.0542078089707,2015.4360085992491,2090.270024182727,2162.830396997517,2160.8778871555137,2225.457657099078,2263.9036714847057,2289.3032917586975,2398.008279435624,2418.161652258769,2423.984378527931,2459.2230179149874,2531.965145115783,2617.989462019369,2698.2074922837946,2790.041098990763,2850.1533623111236,2961.813551022353,3073.963013378675,3107.641247754039,3190.328899123432,3254.1117278404045,3315.4249211760985,3421.033902695906,3569.894099509253,3734.5747354149084,3806.6646345765494,3851.682212030924,3973.646225051266,4066.396882479311,4139.043537713708,4164.761301640095,4290.1239571692295,4478.323259479949,4622.793638783812,4761.043542423604,4969.6180039721285,5150.629023608685,5323.690346590474,5550.63082481253,5763.302900126258,5999.029817897219,6098.052970878829,6361.115797789528,6487.331981392131,6670.289761177042,6927.634161492648,7165.834556277677,7243.789851963037,7024.196389711822,7384.703628645281,7595.223918958209,7916.737766624928],\"yaxis\":\"y\",\"type\":\"bar\"},{\"alignmentgroup\":\"True\",\"hovertemplate\":\"Income Group=Low income\\u003cbr\\u003eYear=%{x}\\u003cbr\\u003eGHG Emissions (MtCO2e)=%{y}\\u003cextra\\u003e\\u003c\\u002fextra\\u003e\",\"legendgroup\":\"Low income\",\"marker\":{\"color\":\"#65B800\",\"pattern\":{\"shape\":\"\"}},\"name\":\"Low income\",\"offsetgroup\":\"Low income\",\"orientation\":\"v\",\"showlegend\":true,\"textposition\":\"auto\",\"x\":[1970,1971,1972,1973,1974,1975,1976,1977,1978,1979,1980,1981,1982,1983,1984,1985,1986,1987,1988,1989,1990,1991,1992,1993,1994,1995,1996,1997,1998,1999,2000,2001,2002,2003,2004,2005,2006,2007,2008,2009,2010,2011,2012,2013,2014,2015,2016,2017,2018,2019,2020,2021,2022,2023],\"xaxis\":\"x\",\"y\":[357.1292737647667,359.50871873073356,362.17073026910424,365.53275650124107,373.7919863465875,387.4849749593962,403.9679272211255,415.930400498266,431.8903306571472,451.9199030729095,465.41534657850383,478.21225668627744,504.4796246473431,517.3803727444576,520.9923807383159,528.4358163599567,531.7502252091447,534.5909359984161,551.5782923233841,560.7932700610252,573.4099253404546,577.2542200757546,566.921563309828,563.7872058477268,570.9725962964313,571.6514744359229,579.6451536913012,585.4287006444777,589.4882500870609,607.1143724428206,627.0430225961942,635.8921437033059,645.2418394455613,669.7947818990458,687.3834886537709,728.6012095898485,751.0958473880436,763.6054242466939,795.0425428713586,810.2945612122503,830.172164440116,817.4357110023735,819.6722074183851,816.590483185775,836.6596237989858,824.9455790012044,851.087412889856,910.7579414457686,929.7685821619293,961.4758418494613,963.6664495940307,972.1807833639987,991.1658647495526,1008.6805267755765],\"yaxis\":\"y\",\"type\":\"bar\"}],                        {\"template\":{\"data\":{\"histogram2dcontour\":[{\"type\":\"histogram2dcontour\",\"colorbar\":{\"outlinewidth\":0,\"ticks\":\"\"},\"colorscale\":[[0.0,\"#0d0887\"],[0.1111111111111111,\"#46039f\"],[0.2222222222222222,\"#7201a8\"],[0.3333333333333333,\"#9c179e\"],[0.4444444444444444,\"#bd3786\"],[0.5555555555555556,\"#d8576b\"],[0.6666666666666666,\"#ed7953\"],[0.7777777777777778,\"#fb9f3a\"],[0.8888888888888888,\"#fdca26\"],[1.0,\"#f0f921\"]]}],\"choropleth\":[{\"type\":\"choropleth\",\"colorbar\":{\"outlinewidth\":0,\"ticks\":\"\"}}],\"histogram2d\":[{\"type\":\"histogram2d\",\"colorbar\":{\"outlinewidth\":0,\"ticks\":\"\"},\"colorscale\":[[0.0,\"#0d0887\"],[0.1111111111111111,\"#46039f\"],[0.2222222222222222,\"#7201a8\"],[0.3333333333333333,\"#9c179e\"],[0.4444444444444444,\"#bd3786\"],[0.5555555555555556,\"#d8576b\"],[0.6666666666666666,\"#ed7953\"],[0.7777777777777778,\"#fb9f3a\"],[0.8888888888888888,\"#fdca26\"],[1.0,\"#f0f921\"]]}],\"heatmap\":[{\"type\":\"heatmap\",\"colorbar\":{\"outlinewidth\":0,\"ticks\":\"\"},\"colorscale\":[[0.0,\"#0d0887\"],[0.1111111111111111,\"#46039f\"],[0.2222222222222222,\"#7201a8\"],[0.3333333333333333,\"#9c179e\"],[0.4444444444444444,\"#bd3786\"],[0.5555555555555556,\"#d8576b\"],[0.6666666666666666,\"#ed7953\"],[0.7777777777777778,\"#fb9f3a\"],[0.8888888888888888,\"#fdca26\"],[1.0,\"#f0f921\"]]}],\"heatmapgl\":[{\"type\":\"heatmapgl\",\"colorbar\":{\"outlinewidth\":0,\"ticks\":\"\"},\"colorscale\":[[0.0,\"#0d0887\"],[0.1111111111111111,\"#46039f\"],[0.2222222222222222,\"#7201a8\"],[0.3333333333333333,\"#9c179e\"],[0.4444444444444444,\"#bd3786\"],[0.5555555555555556,\"#d8576b\"],[0.6666666666666666,\"#ed7953\"],[0.7777777777777778,\"#fb9f3a\"],[0.8888888888888888,\"#fdca26\"],[1.0,\"#f0f921\"]]}],\"contourcarpet\":[{\"type\":\"contourcarpet\",\"colorbar\":{\"outlinewidth\":0,\"ticks\":\"\"}}],\"contour\":[{\"type\":\"contour\",\"colorbar\":{\"outlinewidth\":0,\"ticks\":\"\"},\"colorscale\":[[0.0,\"#0d0887\"],[0.1111111111111111,\"#46039f\"],[0.2222222222222222,\"#7201a8\"],[0.3333333333333333,\"#9c179e\"],[0.4444444444444444,\"#bd3786\"],[0.5555555555555556,\"#d8576b\"],[0.6666666666666666,\"#ed7953\"],[0.7777777777777778,\"#fb9f3a\"],[0.8888888888888888,\"#fdca26\"],[1.0,\"#f0f921\"]]}],\"surface\":[{\"type\":\"surface\",\"colorbar\":{\"outlinewidth\":0,\"ticks\":\"\"},\"colorscale\":[[0.0,\"#0d0887\"],[0.1111111111111111,\"#46039f\"],[0.2222222222222222,\"#7201a8\"],[0.3333333333333333,\"#9c179e\"],[0.4444444444444444,\"#bd3786\"],[0.5555555555555556,\"#d8576b\"],[0.6666666666666666,\"#ed7953\"],[0.7777777777777778,\"#fb9f3a\"],[0.8888888888888888,\"#fdca26\"],[1.0,\"#f0f921\"]]}],\"mesh3d\":[{\"type\":\"mesh3d\",\"colorbar\":{\"outlinewidth\":0,\"ticks\":\"\"}}],\"scatter\":[{\"fillpattern\":{\"fillmode\":\"overlay\",\"size\":10,\"solidity\":0.2},\"type\":\"scatter\"}],\"parcoords\":[{\"type\":\"parcoords\",\"line\":{\"colorbar\":{\"outlinewidth\":0,\"ticks\":\"\"}}}],\"scatterpolargl\":[{\"type\":\"scatterpolargl\",\"marker\":{\"colorbar\":{\"outlinewidth\":0,\"ticks\":\"\"}}}],\"bar\":[{\"error_x\":{\"color\":\"#2a3f5f\"},\"error_y\":{\"color\":\"#2a3f5f\"},\"marker\":{\"line\":{\"color\":\"#E5ECF6\",\"width\":0.5},\"pattern\":{\"fillmode\":\"overlay\",\"size\":10,\"solidity\":0.2}},\"type\":\"bar\"}],\"scattergeo\":[{\"type\":\"scattergeo\",\"marker\":{\"colorbar\":{\"outlinewidth\":0,\"ticks\":\"\"}}}],\"scatterpolar\":[{\"type\":\"scatterpolar\",\"marker\":{\"colorbar\":{\"outlinewidth\":0,\"ticks\":\"\"}}}],\"histogram\":[{\"marker\":{\"pattern\":{\"fillmode\":\"overlay\",\"size\":10,\"solidity\":0.2}},\"type\":\"histogram\"}],\"scattergl\":[{\"type\":\"scattergl\",\"marker\":{\"colorbar\":{\"outlinewidth\":0,\"ticks\":\"\"}}}],\"scatter3d\":[{\"type\":\"scatter3d\",\"line\":{\"colorbar\":{\"outlinewidth\":0,\"ticks\":\"\"}},\"marker\":{\"colorbar\":{\"outlinewidth\":0,\"ticks\":\"\"}}}],\"scattermapbox\":[{\"type\":\"scattermapbox\",\"marker\":{\"colorbar\":{\"outlinewidth\":0,\"ticks\":\"\"}}}],\"scatterternary\":[{\"type\":\"scatterternary\",\"marker\":{\"colorbar\":{\"outlinewidth\":0,\"ticks\":\"\"}}}],\"scattercarpet\":[{\"type\":\"scattercarpet\",\"marker\":{\"colorbar\":{\"outlinewidth\":0,\"ticks\":\"\"}}}],\"carpet\":[{\"aaxis\":{\"endlinecolor\":\"#2a3f5f\",\"gridcolor\":\"white\",\"linecolor\":\"white\",\"minorgridcolor\":\"white\",\"startlinecolor\":\"#2a3f5f\"},\"baxis\":{\"endlinecolor\":\"#2a3f5f\",\"gridcolor\":\"white\",\"linecolor\":\"white\",\"minorgridcolor\":\"white\",\"startlinecolor\":\"#2a3f5f\"},\"type\":\"carpet\"}],\"table\":[{\"cells\":{\"fill\":{\"color\":\"#EBF0F8\"},\"line\":{\"color\":\"white\"}},\"header\":{\"fill\":{\"color\":\"#C8D4E3\"},\"line\":{\"color\":\"white\"}},\"type\":\"table\"}],\"barpolar\":[{\"marker\":{\"line\":{\"color\":\"#E5ECF6\",\"width\":0.5},\"pattern\":{\"fillmode\":\"overlay\",\"size\":10,\"solidity\":0.2}},\"type\":\"barpolar\"}],\"pie\":[{\"automargin\":true,\"type\":\"pie\"}]},\"layout\":{\"autotypenumbers\":\"strict\",\"colorway\":[\"#636efa\",\"#EF553B\",\"#00cc96\",\"#ab63fa\",\"#FFA15A\",\"#19d3f3\",\"#FF6692\",\"#B6E880\",\"#FF97FF\",\"#FECB52\"],\"font\":{\"color\":\"#2a3f5f\"},\"hovermode\":\"closest\",\"hoverlabel\":{\"align\":\"left\"},\"paper_bgcolor\":\"white\",\"plot_bgcolor\":\"#E5ECF6\",\"polar\":{\"bgcolor\":\"#E5ECF6\",\"angularaxis\":{\"gridcolor\":\"white\",\"linecolor\":\"white\",\"ticks\":\"\"},\"radialaxis\":{\"gridcolor\":\"white\",\"linecolor\":\"white\",\"ticks\":\"\"}},\"ternary\":{\"bgcolor\":\"#E5ECF6\",\"aaxis\":{\"gridcolor\":\"white\",\"linecolor\":\"white\",\"ticks\":\"\"},\"baxis\":{\"gridcolor\":\"white\",\"linecolor\":\"white\",\"ticks\":\"\"},\"caxis\":{\"gridcolor\":\"white\",\"linecolor\":\"white\",\"ticks\":\"\"}},\"coloraxis\":{\"colorbar\":{\"outlinewidth\":0,\"ticks\":\"\"}},\"colorscale\":{\"sequential\":[[0.0,\"#0d0887\"],[0.1111111111111111,\"#46039f\"],[0.2222222222222222,\"#7201a8\"],[0.3333333333333333,\"#9c179e\"],[0.4444444444444444,\"#bd3786\"],[0.5555555555555556,\"#d8576b\"],[0.6666666666666666,\"#ed7953\"],[0.7777777777777778,\"#fb9f3a\"],[0.8888888888888888,\"#fdca26\"],[1.0,\"#f0f921\"]],\"sequentialminus\":[[0.0,\"#0d0887\"],[0.1111111111111111,\"#46039f\"],[0.2222222222222222,\"#7201a8\"],[0.3333333333333333,\"#9c179e\"],[0.4444444444444444,\"#bd3786\"],[0.5555555555555556,\"#d8576b\"],[0.6666666666666666,\"#ed7953\"],[0.7777777777777778,\"#fb9f3a\"],[0.8888888888888888,\"#fdca26\"],[1.0,\"#f0f921\"]],\"diverging\":[[0,\"#8e0152\"],[0.1,\"#c51b7d\"],[0.2,\"#de77ae\"],[0.3,\"#f1b6da\"],[0.4,\"#fde0ef\"],[0.5,\"#f7f7f7\"],[0.6,\"#e6f5d0\"],[0.7,\"#b8e186\"],[0.8,\"#7fbc41\"],[0.9,\"#4d9221\"],[1,\"#276419\"]]},\"xaxis\":{\"gridcolor\":\"white\",\"linecolor\":\"white\",\"ticks\":\"\",\"title\":{\"standoff\":15},\"zerolinecolor\":\"white\",\"automargin\":true,\"zerolinewidth\":2},\"yaxis\":{\"gridcolor\":\"white\",\"linecolor\":\"white\",\"ticks\":\"\",\"title\":{\"standoff\":15},\"zerolinecolor\":\"white\",\"automargin\":true,\"zerolinewidth\":2},\"scene\":{\"xaxis\":{\"backgroundcolor\":\"#E5ECF6\",\"gridcolor\":\"white\",\"linecolor\":\"white\",\"showbackground\":true,\"ticks\":\"\",\"zerolinecolor\":\"white\",\"gridwidth\":2},\"yaxis\":{\"backgroundcolor\":\"#E5ECF6\",\"gridcolor\":\"white\",\"linecolor\":\"white\",\"showbackground\":true,\"ticks\":\"\",\"zerolinecolor\":\"white\",\"gridwidth\":2},\"zaxis\":{\"backgroundcolor\":\"#E5ECF6\",\"gridcolor\":\"white\",\"linecolor\":\"white\",\"showbackground\":true,\"ticks\":\"\",\"zerolinecolor\":\"white\",\"gridwidth\":2}},\"shapedefaults\":{\"line\":{\"color\":\"#2a3f5f\"}},\"annotationdefaults\":{\"arrowcolor\":\"#2a3f5f\",\"arrowhead\":0,\"arrowwidth\":1},\"geo\":{\"bgcolor\":\"white\",\"landcolor\":\"#E5ECF6\",\"subunitcolor\":\"white\",\"showland\":true,\"showlakes\":true,\"lakecolor\":\"white\"},\"title\":{\"x\":0.05},\"mapbox\":{\"style\":\"light\"}}},\"xaxis\":{\"anchor\":\"y\",\"domain\":[0.0,1.0],\"title\":{\"text\":\"Year\"}},\"yaxis\":{\"anchor\":\"x\",\"domain\":[0.0,1.0],\"title\":{\"text\":\"GHG Emissions (MtCO2e)\"}},\"legend\":{\"title\":{\"text\":\"Income Group\"},\"tracegroupgap\":0},\"title\":{\"text\":\"GHG Emissions by Income Group (1970-2023)\"},\"barmode\":\"group\",\"height\":600,\"width\":1350},                        {\"responsive\": true}                    ).then(function(){\n",
       "                            \n",
       "var gd = document.getElementById('778c0d86-4a29-45ee-a9e5-80c33eded800');\n",
       "var x = new MutationObserver(function (mutations, observer) {{\n",
       "        var display = window.getComputedStyle(gd).display;\n",
       "        if (!display || display === 'none') {{\n",
       "            console.log([gd, 'removed!']);\n",
       "            Plotly.purge(gd);\n",
       "            observer.disconnect();\n",
       "        }}\n",
       "}});\n",
       "\n",
       "// Listen for the removal of the full notebook cells\n",
       "var notebookContainer = gd.closest('#notebook-container');\n",
       "if (notebookContainer) {{\n",
       "    x.observe(notebookContainer, {childList: true});\n",
       "}}\n",
       "\n",
       "// Listen for the clearing of the current output cell\n",
       "var outputEl = gd.closest('.output');\n",
       "if (outputEl) {{\n",
       "    x.observe(outputEl, {childList: true});\n",
       "}}\n",
       "\n",
       "                        })                };                });            </script>        </div>"
      ]
     },
     "metadata": {},
     "output_type": "display_data"
    }
   ],
   "source": [
    "# Filter required columns \n",
    "df = GHG_totals_by_country.loc[['HIGH','H_MID', 'L_MID', 'LOW']]\n",
    "# # Plot (built-in function)\n",
    "# df = df.set_index('Country')\n",
    "# plt = df.T.plot(kind='bar', figsize=(30, 10), color={'High income': '#003299', 'Upper middle income': '#FFB400',  'Lower middle income':'#FF4B00', 'Low income': '#65B800'}, grid=True)\n",
    "# plt.axhline(0, color='k', linestyle='dashed')\n",
    "# Melt\n",
    "df_long = df.melt(id_vars=[\"Country\"], var_name=\"Year\", value_name=\"Emissions\")\n",
    "# Plot (plotly)\n",
    "fig = px.bar(\n",
    "    df_long,\n",
    "    x=\"Year\",                # Year on the x-axis\n",
    "    y=\"Emissions\",              # Emissions on the y-axis\n",
    "    color=\"Country\",       # Use income group for color differentiation\n",
    "    title=\"GHG Emissions by Income Group (1970-2023)\",\n",
    "    labels={\"Country\": \"Income Group\", \"Emissions\": \"GHG Emissions (MtCO2e)\"},  # Axis labels\n",
    "    color_discrete_map={'High income': COLORS[0], 'Upper middle income': COLORS[1],  'Lower middle income':COLORS[2], 'Low income': COLORS[3]},\n",
    "    barmode=\"group\",             # Grouped bars for each year\n",
    "    height = 600,\n",
    "    width = 1350\n",
    ")\n",
    "fig.show()"
   ]
  },
  {
   "cell_type": "markdown",
   "metadata": {},
   "source": [
    "#### KEY TRENDS\n",
    "\n",
    "- Greenhouse gas (GHG) emissions in high-income countries have remained relatively stable over the period analyzed, with a notable downward trend beginning in 2007.\n",
    "\n",
    "- GHG emissions in upper-middle-income countries have surged significantly since 1971, with rapid acceleration around 2000, making them the largest contributors to global emissions by 2010.\n",
    "\n",
    "- While GHG emissions in lower-middle-income and low-income countries have risen during the same period, their comparatively lower levels remain less concerning for now."
   ]
  },
  {
   "cell_type": "markdown",
   "metadata": {},
   "source": [
    "### Chart 3"
   ]
  },
  {
   "cell_type": "code",
   "execution_count": 20,
   "metadata": {},
   "outputs": [
    {
     "data": {
      "application/vnd.jupyter.widget-view+json": {
       "model_id": "675fffc4dfd44069b3fd63d2f87a2bab",
       "version_major": 2,
       "version_minor": 0
      },
      "text/plain": [
       "VBox(children=(IntSlider(value=2023, description='Year:', max=2023, min=1970), ToggleButtons(description='Char…"
      ]
     },
     "metadata": {},
     "output_type": "display_data"
    },
    {
     "data": {
      "application/vnd.jupyter.widget-view+json": {
       "model_id": "63d00d3429ec4ae2a0717f83230556bd",
       "version_major": 2,
       "version_minor": 0
      },
      "text/plain": [
       "Output()"
      ]
     },
     "metadata": {},
     "output_type": "display_data"
    }
   ],
   "source": [
    "import ipywidgets as widgets\n",
    "from IPython.display import display\n",
    "\n",
    "# Create the IntSlider widget\n",
    "year_selector = widgets.IntSlider(value = 2023, min=1970, max=2023, description=\"Year:\")\n",
    "\n",
    "chart_type_selector = widgets.ToggleButtons(\n",
    "    options=['Treemap', 'Sunburst', 'Icicle'],\n",
    "    description=\"Chart Type:\",\n",
    "    value='Treemap'  # Default value\n",
    ")\n",
    "# Create an Output widget to display the chart\n",
    "out = widgets.Output()\n",
    "\n",
    "# Define the function to update the chart\n",
    "def update_chart(change = None):\n",
    "    with out:\n",
    "        out.clear_output()  # Clear previous output                \n",
    "        # Determine chart type\n",
    "        chart_type = chart_type_selector.value\n",
    "        year_value = year_selector.value\n",
    "        if chart_type == 'Icicle': \n",
    "            fig = px.icicle(\n",
    "                GHG_totals_by_country_continent,\n",
    "                path=[px.Constant(\"Global Total\"), 'Region', 'Country'],\n",
    "                values=year_value,  # Use the updated value from the slider\n",
    "                color='Region',\n",
    "                color_discrete_map={\n",
    "                    '(?)': 'lightgrey',\n",
    "                    'East Asia & Pacific': COLORS[0],\n",
    "                    'Europe & Central Asia': COLORS[1],\n",
    "                    'North America': COLORS[2],\n",
    "                    'South Asia': COLORS[3],\n",
    "                    'Middle East & North Africa': COLORS[4],\n",
    "                    'Latin America & Caribbean': COLORS[5],\n",
    "                    'Sub-Saharan Africa': COLORS[6],\n",
    "                },\n",
    "                width=1100,\n",
    "                height=1500,\n",
    "            )\n",
    "        elif chart_type == 'Sunburst': \n",
    "            fig = px.sunburst(\n",
    "                GHG_totals_by_country_continent,\n",
    "                path=[px.Constant(\"Global Total\"), 'Region', 'Country'],\n",
    "                values=year_value,  # Use the updated value from the slider\n",
    "                color='Region',\n",
    "                color_discrete_map={\n",
    "                    '(?)': 'lightgrey',\n",
    "                    'East Asia & Pacific': COLORS[0],\n",
    "                    'Europe & Central Asia': COLORS[1],\n",
    "                    'North America': COLORS[2],\n",
    "                    'South Asia': COLORS[3],\n",
    "                    'Middle East & North Africa': COLORS[4],\n",
    "                    'Latin America & Caribbean': COLORS[5],\n",
    "                    'Sub-Saharan Africa': COLORS[6],\n",
    "                },\n",
    "                width=1100,\n",
    "                height=1500,\n",
    "            )\n",
    "        elif chart_type == 'Treemap': \n",
    "            fig = px.treemap(\n",
    "                GHG_totals_by_country_continent,\n",
    "                path=[px.Constant(\"Global Total\"), 'Region', 'Country'],\n",
    "                values=year_value,  # Use the updated value from the slider\n",
    "                color='Region',\n",
    "                color_discrete_map={\n",
    "                    '(?)': 'lightgrey',\n",
    "                    'East Asia & Pacific': COLORS[0],\n",
    "                    'Europe & Central Asia': COLORS[1],\n",
    "                    'North America': COLORS[2],\n",
    "                    'South Asia': COLORS[3],\n",
    "                    'Middle East & North Africa': COLORS[4],\n",
    "                    'Latin America & Caribbean': COLORS[5],\n",
    "                    'Sub-Saharan Africa': COLORS[6],\n",
    "                },\n",
    "                width=1100,\n",
    "                height=1500,\n",
    "            )\n",
    "        fig.update_traces(root_color=\"lightgrey\")\n",
    "        fig.update_layout(margin=dict(t=30, l=0, r=0, b=0))\n",
    "        fig.update_layout(title=f\"Countries' contributions to GHG emission in year {year_value}\")\n",
    "        fig.show()\n",
    "# Attach the update function to the widgets\n",
    "year_selector.observe(update_chart, names='value')\n",
    "chart_type_selector.observe(update_chart, names='value')\n",
    "\n",
    "# Display the slider and the chart\n",
    "display(widgets.VBox([year_selector, chart_type_selector]), out)\n",
    "\n",
    "update_chart()"
   ]
  },
  {
   "cell_type": "markdown",
   "metadata": {},
   "source": [
    "## KEY TRENDS\n",
    "\n",
    "- China significantly contributes to global greenhouse gas (GHG) emissions, dominating the \"East Asia & Pacific\" region and the global total.\n",
    "\n",
    "- Different regions contribute unevenly to global GHG emissions. \"East Asia & Pacific,\" \"North America,\" and \"Europe & Central Asia\" are prominent contributors compared to regions like \"Sub-Saharan Africa\" and \"Latin America & Caribbean.\"\n",
    "\n",
    "- Countries like Brazil, Indonesia, and Saudi Arabia are noteworthy contributors in their respective regions, reflecting the environmental impact of emerging economies. "
   ]
  }
 ],
 "metadata": {
  "kernelspec": {
   "display_name": "Python 3 (ipykernel)",
   "language": "python",
   "name": "python3"
  },
  "language_info": {
   "codemirror_mode": {
    "name": "ipython",
    "version": 3
   },
   "file_extension": ".py",
   "mimetype": "text/x-python",
   "name": "python",
   "nbconvert_exporter": "python",
   "pygments_lexer": "ipython3",
   "version": "3.12.3"
  }
 },
 "nbformat": 4,
 "nbformat_minor": 4
}
