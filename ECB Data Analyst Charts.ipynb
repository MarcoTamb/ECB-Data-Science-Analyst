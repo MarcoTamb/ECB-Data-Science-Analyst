{
 "cells": [
  {
   "cell_type": "markdown",
   "metadata": {},
   "source": [
    "The European Commission regularly publishes the Emissions Database for Global Atmospheric Research (EDGAR) report on the global greenhouse gas (GHG) emissions around the world. The latest data is published here: https://edgar.jrc.ec.europa.eu/report_2024?vis=ghgpop#data_download\n",
    "\n",
    "Using data from the above website – specifically, the data contained in the **EDGAR GHG emissions files** – prepare three charts (with the specifications described below) and, alongside each chart, provide a maximum of three bullet points explaining the main data trends.\n",
    "\n",
    "- Chart 1 – **Evolution** of **GHG growth** in the **euro area**, **European Union (EU27)** and **worldwide**;\n",
    "\n",
    "- Chart 2 – Comparison of countries’ GHG **emissions per capita** aggregated according to the **World Bank income groups**;\n",
    "\n",
    "    - `CLASS.xlsx` downloaded from https://datahelpdesk.worldbank.org/knowledgebase/articles/906519-world-bank-country-and-lending-groups\n",
    "\n",
    "- Chart 3 – Contribution of individual **country** and **continent** GHG emissions to **total world** GHG emissions. "
   ]
  },
  {
   "cell_type": "markdown",
   "metadata": {},
   "source": [
    "For simplicity, and to make use of the power of Jupyter, we explain everything as we do it: run this Jupyter notebook (or copy and paste the code) to get interactive charts! \n",
    "\n",
    "### Import data and add required aggregates"
   ]
  },
  {
   "cell_type": "code",
   "execution_count": 81,
   "metadata": {},
   "outputs": [],
   "source": [
    "import pandas as pd\n",
    "import plotly.express as px\n",
    "\n",
    "COLORS = ['#003299', '#FFB400', '#FF4B00', '#65B800', '#00B1EA', '#8139C6', '#077C1D'] # ECB charts color scheme (unused, but noting it down)\n",
    "\n",
    "def add_aggregate(data_frame, aggregate_label, aggregate_name, aggregate_components): \n",
    "    data_frame_new = pd.DataFrame({aggregate_label: data_frame.loc[aggregate_components].sum()[1:]}).T\n",
    "    data_frame_new['Country'] = aggregate_name\n",
    "    data_frame_new = pd.concat([data_frame, data_frame_new])\n",
    "    return data_frame_new"
   ]
  },
  {
   "cell_type": "markdown",
   "metadata": {},
   "source": [
    "Importing GHG totals and computing Euro Area aggregate. Guadeloupe, French Guiana, Martinique and Réunion are included in the Euro Area: they are part of France and adopt the Euro."
   ]
  },
  {
   "cell_type": "code",
   "execution_count": 82,
   "metadata": {},
   "outputs": [],
   "source": [
    "EURO_AREA=[\n",
    "    'AUT', 'BEL', 'HRV', 'CYP', 'EST', 'FIN', 'FRA', 'DEU', 'GRC', 'IRL', 'ITA', 'LVA', 'LTU', 'LUX', 'MLT', 'NLD', 'PRT', 'SVK', 'SVN', 'ESP', 'GUF', 'GLP', 'MTQ', 'REU'\n",
    "]\n",
    "GHG_totals_by_country_original = pd.read_excel('EDGAR_2024_GHG_booklet_2024.xlsx', sheet_name='GHG_totals_by_country', index_col=0).dropna() # dropna to drop empty rows\n",
    "GHG_totals_by_country = add_aggregate(GHG_totals_by_country_original, 'EURO AREA', 'EURO AREA', EURO_AREA)"
   ]
  },
  {
   "cell_type": "markdown",
   "metadata": {},
   "source": [
    "Importing GHG per capita, the information from the World Bank, and computing the required aggregates.\n",
    "\n",
    "Income groups are plugged-in by hand (still using Python) to account for some slight labelling differences between the `CLASS.xlsx` file and the `EDGAR_2024_GHG_booklet_2024.xlsx` file. In particular: \n",
    "\n",
    "- The income groups of pacific island and microstates for which no data was present in the GHG file, or whose GHG data was grouped with a much larger nation were ignored (This applies to: Andorra, American Samoa, Channel Islands, Curaçao, Micronesia, Fed. Sts., Guam, Isle of Man, Liechtenstein, St. Martin (French part), Monaco, Marshall Islands, Northern Mariana Islands, Nauru, San Marino, South Sudan, Sint Maarten (Dutch part), Tuvalu, Virgin Islands (U.S.), Kosovo)\n",
    "\n",
    "- 'Guadeloupe', 'French Guiana', 'Martinique' and 'Réunion' are included among the high income countries as part of France\n",
    "\n",
    "- Other less relevant territories whose GHG are listed separately, but which are not part of an income group were also ignored (this applies to: 'Anguilla', 'Cook Islands', 'Western Sahara', 'Falkland Islands', 'Saint Helena, Ascension and Tristan da Cunha', 'Saint Pierre and Miquelon')\n",
    "\n",
    "- Curaçao has a different country code between the two files ('ANT' and 'CUW')\n",
    "\n",
    "- Venezuela is also not part of an income group. ('VEN')\n",
    "\n",
    "- Kosovo, Montenegro and Serbia are listed separately in the World Bank file, but in the GHG file they appear as \"Serbia and Montenegro\" ('SCG')\n",
    "\n",
    "- Sudan and South Sudan are listed separately in the World Bank file, but in the GHG file they appear as \"Sudan and South Sudan\" ('SDN')\n",
    "\n",
    "- Israel and Palestinian territories are listed separately in the World Bank file, but in the GHG file they appear as \"Israel and Palestine, State of\". The income level of Israel is kept for both due to the much larger population. ('ISR')\n",
    "\n",
    "- International Aviation and Shipping are ignored.  "
   ]
  },
  {
   "cell_type": "code",
   "execution_count": 83,
   "metadata": {},
   "outputs": [],
   "source": [
    "\n",
    "income_groups = {\n",
    "    'Low income' : ['AFG', 'BFA', 'BDI', 'CAF', 'TCD', 'COD', 'ERI', 'ETH', 'GMB', 'GNB', 'PRK', 'LBR', 'MDG', 'MWI', 'MLI', 'MOZ', 'NER', 'RWA', 'SLE', 'SOM', 'SDN', 'SYR', 'TGO', 'UGA', 'YEM'], \n",
    "    'Lower middle income': ['AGO', 'BGD', 'BEN', 'BTN', 'BOL', 'CPV', 'KHM', 'CMR', 'COM', 'COG', 'CIV', 'DJI', 'EGY', 'SWZ', 'GHA', 'GIN', 'HTI', 'HND', 'IND', 'JOR', 'KEN', 'KIR', 'KGZ', 'LAO', 'LBN', 'LSO', 'MRT', 'MAR', 'MMR', 'NPL', 'NIC', 'NGA', 'PAK', 'PNG', 'PHL', 'WSM', 'STP', 'SEN', 'SLB', 'LKA', 'TJK', 'TZA', 'TLS', 'TUN', 'UZB', 'VUT', 'VNM', 'ZMB', 'ZWE'], \n",
    "    'Upper middle income': ['ALB', 'DZA', 'ARG', 'ARM', 'AZE', 'BLR', 'BLZ', 'BIH', 'BWA', 'BRA', 'CHN', 'COL', 'CRI', 'CUB', 'DMA', 'DOM', 'ECU', 'SLV', 'GNQ', 'FJI', 'GAB', 'GEO', 'GRD', 'GTM', 'IDN', 'IRN', 'IRQ', 'JAM', 'KAZ', 'LBY', 'MYS', 'MDV', 'MUS', 'MEX', 'MDA', 'MNG', 'NAM', 'MKD', 'PRY', 'PER', 'SCG', 'ZAF', 'LCA', 'VCT', 'SUR', 'THA', 'TON', 'TUR', 'TKM', 'UKR'],\n",
    "    'High income': ['ATG', 'ABW', 'AUS', 'AUT', 'BHS', 'BHR', 'BRB', 'BEL', 'BMU', 'VGB', 'BRN', 'BGR', 'CAN', 'CYM', 'CHL', 'HRV', 'CYP', 'CZE', 'DNK', 'EST', 'FRO', 'FIN', 'FRA', 'PYF', 'DEU', 'GIB', 'GRC', 'GRL', 'GUY', 'HKG', 'HUN', 'ISL', 'IRL', 'ISR', 'ITA', 'JPN', 'KOR', 'KWT', 'LVA', 'LTU', 'LUX', 'MAC', 'MLT', 'NLD', 'NCL', 'NZL', 'NOR', 'OMN', 'PLW', 'PAN', 'POL', 'PRT', 'PRI', 'QAT', 'ROU', 'RUS', 'SAU', 'SYC', 'SGP', 'SVK', 'SVN', 'ESP', 'KNA', 'SWE', 'CHE', 'TWN', 'TTO', 'TCA', 'ARE', 'GBR', 'USA', 'URY', 'ANT', 'GUF', 'GLP', 'MTQ', 'REU']\n",
    "}\n",
    "income_groups_labels = {\n",
    "    'Low income' : 'LOW',\n",
    "    'Lower middle income': 'L_MID',\n",
    "    'Upper middle income': 'H_MID',\n",
    "    'High income': 'HIGH',\n",
    "}\n",
    "\n",
    "all_income_groups_CLASS = sum (income_groups.values(), [])\n",
    "GHG_per_capita_by_country = pd.read_excel('EDGAR_2024_GHG_booklet_2024.xlsx', sheet_name='GHG_per_capita_by_country', index_col=0).dropna() # dropna to drop empty rows\n",
    "CLASS = pd.read_excel('CLASS.xlsx', sheet_name='List of economies')\n",
    "\n",
    "years = [c for c in GHG_per_capita_by_country.columns if type(c)==int] \n",
    "populations = (GHG_totals_by_country[years] / GHG_per_capita_by_country[years]).dropna() # Coefficients proportional to a country's population"
   ]
  },
  {
   "cell_type": "markdown",
   "metadata": {},
   "source": [
    "A weighted average is necessary to get the right amounts:"
   ]
  },
  {
   "cell_type": "code",
   "execution_count": 84,
   "metadata": {},
   "outputs": [],
   "source": [
    "def aggregate_per_capita(data_frame, populations, aggregate_label, aggregate_name, aggregate_components):\n",
    "    new_data_frame = data_frame.loc[aggregate_components].copy()\n",
    "    populations_filter = populations.loc[aggregate_components].copy()\n",
    "    weighted_average = (new_data_frame[years] * populations_filter[years]).sum() / populations_filter[years].sum()\n",
    "    weighted_average = pd.DataFrame(weighted_average, ).T\n",
    "    weighted_average.index = [aggregate_label] \n",
    "    weighted_average['Country'] = aggregate_name\n",
    "    weighted_average = weighted_average[['Country']+years]\n",
    "    return pd.concat([data_frame, weighted_average])"
   ]
  },
  {
   "cell_type": "code",
   "execution_count": 85,
   "metadata": {},
   "outputs": [],
   "source": [
    "for income_group, income_group_countries in income_groups.items(): \n",
    "    GHG_per_capita_by_country = aggregate_per_capita(GHG_per_capita_by_country, populations, income_groups_labels[income_group], income_group, income_group_countries)"
   ]
  },
  {
   "cell_type": "markdown",
   "metadata": {},
   "source": [
    "Dividing countries by region. Using World Bank regions for consistency"
   ]
  },
  {
   "cell_type": "code",
   "execution_count": 86,
   "metadata": {},
   "outputs": [],
   "source": [
    "region_dictionary = {\n",
    "    region: CLASS[CLASS.Region==region].Code.to_list()\n",
    "    for region in CLASS.Region.unique()\n",
    "}\n",
    "\n",
    "region_dictionary_reverse={}\n",
    "for region in region_dictionary.keys():\n",
    "    for code in region_dictionary[region]:\n",
    "        region_dictionary_reverse[code] = region \n",
    "# Adding in missing data\n",
    "region_dictionary_reverse['AIA'] = 'Latin America & Caribbean'\n",
    "region_dictionary_reverse['AIR'] = 'International Aviation'\n",
    "region_dictionary_reverse['ANT'] = 'Latin America & Caribbean'\n",
    "region_dictionary_reverse['COK'] = 'East Asia & Pacific'\n",
    "region_dictionary_reverse['ESH'] = 'Middle East & North Africa'\n",
    "region_dictionary_reverse['FLK'] = 'Latin America & Caribbean'\n",
    "region_dictionary_reverse['GLP'] = 'Latin America & Caribbean'\n",
    "region_dictionary_reverse['GUF'] = 'Latin America & Caribbean'\n",
    "region_dictionary_reverse['MTQ'] = 'Latin America & Caribbean'\n",
    "region_dictionary_reverse['REU'] = 'Sub-Saharan Africa'\n",
    "region_dictionary_reverse['SCG'] = 'Europe & Central Asia'\n",
    "region_dictionary_reverse['SEA'] = 'International Shipping'\n",
    "region_dictionary_reverse['SHN'] = 'Sub-Saharan Africa'\n",
    "region_dictionary_reverse['SPM'] = 'North America'\n",
    "\n",
    "region_reverse_series = pd.Series(region_dictionary_reverse)\n",
    "\n",
    "region_dictionary = {\n",
    "        region : [code for code in region_reverse_series[region_reverse_series==region].index.to_list() if code in GHG_totals_by_country.index]\n",
    "        for region in region_reverse_series.unique()\n",
    "    }\n",
    "region_dictionary\n",
    "\n",
    "region_labels = {\n",
    "    'South Asia' :'SAS',\n",
    "    'Europe & Central Asia' :'ECS',\n",
    "    'Middle East & North Africa' :'MEA',\n",
    "    'East Asia & Pacific' :'EAS',\n",
    "    'Sub-Saharan Africa' :'SSF',\n",
    "    'Latin America & Caribbean' :'LCN',\n",
    "    'North America' :'NAC',\n",
    "    'International Aviation' :'AIR',\n",
    "    'International Shipping' :'SEA', \n",
    "    'GLOBAL TOTAL': 'GLOBAL TOTAL'\n",
    "}\n",
    "\n",
    "GHG_totals_by_country_continent = GHG_totals_by_country_original.copy()\n",
    "\n",
    "# for region in region_dictionary.keys():\n",
    "#     if region not in GHG_totals_by_country_continent.index:\n",
    "#         if region not in ['International Aviation', 'International Shipping']:\n",
    "#             GHG_totals_by_country_continent = add_aggregate(GHG_totals_by_country_continent, region_labels[region], region, region_dictionary[region])\n",
    "GHG_totals_by_country_continent\n",
    "GHG_totals_by_country_continent = GHG_totals_by_country_continent.drop('EU27')\n",
    "GHG_totals_by_country_continent = GHG_totals_by_country_continent.drop('GLOBAL TOTAL')\n",
    "# GHG_totals_by_country_continent = GHG_totals_by_country_continent.drop(dropping)\n",
    "# GHG_totals_by_country_continent['Region'] = [region_dictionary_reverse[index] if index not in region_labels.values() else ('GLOBAL TOTAL' if index != 'GLOBAL TOTAL' else '')  for index in GHG_totals_by_country_continent.index ]\n",
    "GHG_totals_by_country_continent['Region'] = [region_dictionary_reverse[index] if index not in region_labels.values() else 'International Aviation and Shipping'  for index in GHG_totals_by_country_continent.index ]\n",
    "dropping = GHG_totals_by_country_continent[GHG_totals_by_country_continent.Region.isin(['', 'GLOBAL TOTAL'])  & ~GHG_totals_by_country_continent.Country.isin(['International Shipping', 'International Aviation'])].index\n"
   ]
  },
  {
   "cell_type": "code",
   "execution_count": 87,
   "metadata": {},
   "outputs": [
    {
     "data": {
      "text/html": [
       "<div>\n",
       "<style scoped>\n",
       "    .dataframe tbody tr th:only-of-type {\n",
       "        vertical-align: middle;\n",
       "    }\n",
       "\n",
       "    .dataframe tbody tr th {\n",
       "        vertical-align: top;\n",
       "    }\n",
       "\n",
       "    .dataframe thead th {\n",
       "        text-align: right;\n",
       "    }\n",
       "</style>\n",
       "<table border=\"1\" class=\"dataframe\">\n",
       "  <thead>\n",
       "    <tr style=\"text-align: right;\">\n",
       "      <th></th>\n",
       "      <th>Country</th>\n",
       "      <th>1970</th>\n",
       "      <th>1971</th>\n",
       "      <th>1972</th>\n",
       "      <th>1973</th>\n",
       "      <th>1974</th>\n",
       "      <th>1975</th>\n",
       "      <th>1976</th>\n",
       "      <th>1977</th>\n",
       "      <th>1978</th>\n",
       "      <th>...</th>\n",
       "      <th>2014</th>\n",
       "      <th>2015</th>\n",
       "      <th>2016</th>\n",
       "      <th>2017</th>\n",
       "      <th>2018</th>\n",
       "      <th>2019</th>\n",
       "      <th>2020</th>\n",
       "      <th>2021</th>\n",
       "      <th>2022</th>\n",
       "      <th>2023</th>\n",
       "    </tr>\n",
       "  </thead>\n",
       "  <tbody>\n",
       "    <tr>\n",
       "      <th>ABW</th>\n",
       "      <td>Aruba</td>\n",
       "      <td>0.621591</td>\n",
       "      <td>0.698825</td>\n",
       "      <td>0.875514</td>\n",
       "      <td>0.952142</td>\n",
       "      <td>0.935603</td>\n",
       "      <td>1.166287</td>\n",
       "      <td>1.151959</td>\n",
       "      <td>1.335586</td>\n",
       "      <td>1.422297</td>\n",
       "      <td>...</td>\n",
       "      <td>4.523035</td>\n",
       "      <td>4.705631</td>\n",
       "      <td>4.908697</td>\n",
       "      <td>4.713297</td>\n",
       "      <td>4.689429</td>\n",
       "      <td>5.553807</td>\n",
       "      <td>4.529961</td>\n",
       "      <td>4.9645</td>\n",
       "      <td>4.986945</td>\n",
       "      <td>5.199052</td>\n",
       "    </tr>\n",
       "    <tr>\n",
       "      <th>AFG</th>\n",
       "      <td>Afghanistan</td>\n",
       "      <td>1.387497</td>\n",
       "      <td>1.345625</td>\n",
       "      <td>1.136047</td>\n",
       "      <td>1.158556</td>\n",
       "      <td>1.231819</td>\n",
       "      <td>1.258354</td>\n",
       "      <td>1.241663</td>\n",
       "      <td>1.231162</td>\n",
       "      <td>1.181495</td>\n",
       "      <td>...</td>\n",
       "      <td>0.837051</td>\n",
       "      <td>0.812424</td>\n",
       "      <td>0.768525</td>\n",
       "      <td>0.779393</td>\n",
       "      <td>0.757517</td>\n",
       "      <td>0.725168</td>\n",
       "      <td>0.700207</td>\n",
       "      <td>0.710363</td>\n",
       "      <td>0.719308</td>\n",
       "      <td>0.724742</td>\n",
       "    </tr>\n",
       "    <tr>\n",
       "      <th>AGO</th>\n",
       "      <td>Angola</td>\n",
       "      <td>2.803674</td>\n",
       "      <td>2.723448</td>\n",
       "      <td>3.024597</td>\n",
       "      <td>3.162829</td>\n",
       "      <td>3.168898</td>\n",
       "      <td>2.931294</td>\n",
       "      <td>2.352391</td>\n",
       "      <td>2.859557</td>\n",
       "      <td>3.032015</td>\n",
       "      <td>...</td>\n",
       "      <td>2.871258</td>\n",
       "      <td>2.935287</td>\n",
       "      <td>2.737463</td>\n",
       "      <td>2.465213</td>\n",
       "      <td>2.258536</td>\n",
       "      <td>2.199314</td>\n",
       "      <td>1.878921</td>\n",
       "      <td>1.900307</td>\n",
       "      <td>1.920968</td>\n",
       "      <td>1.8749</td>\n",
       "    </tr>\n",
       "    <tr>\n",
       "      <th>AIA</th>\n",
       "      <td>Anguilla</td>\n",
       "      <td>0.523981</td>\n",
       "      <td>0.526423</td>\n",
       "      <td>0.543562</td>\n",
       "      <td>0.520344</td>\n",
       "      <td>0.560073</td>\n",
       "      <td>0.598576</td>\n",
       "      <td>0.575509</td>\n",
       "      <td>0.592212</td>\n",
       "      <td>0.648847</td>\n",
       "      <td>...</td>\n",
       "      <td>2.158513</td>\n",
       "      <td>2.144561</td>\n",
       "      <td>2.149043</td>\n",
       "      <td>2.178249</td>\n",
       "      <td>2.099982</td>\n",
       "      <td>2.039524</td>\n",
       "      <td>1.703662</td>\n",
       "      <td>1.681618</td>\n",
       "      <td>1.671227</td>\n",
       "      <td>1.638172</td>\n",
       "    </tr>\n",
       "    <tr>\n",
       "      <th>ALB</th>\n",
       "      <td>Albania</td>\n",
       "      <td>3.824444</td>\n",
       "      <td>3.710615</td>\n",
       "      <td>4.039683</td>\n",
       "      <td>3.723085</td>\n",
       "      <td>3.754264</td>\n",
       "      <td>3.74638</td>\n",
       "      <td>3.913496</td>\n",
       "      <td>4.051386</td>\n",
       "      <td>4.363888</td>\n",
       "      <td>...</td>\n",
       "      <td>3.047044</td>\n",
       "      <td>2.989698</td>\n",
       "      <td>2.855613</td>\n",
       "      <td>3.127462</td>\n",
       "      <td>3.119193</td>\n",
       "      <td>2.933062</td>\n",
       "      <td>2.708112</td>\n",
       "      <td>2.851648</td>\n",
       "      <td>2.650839</td>\n",
       "      <td>2.603893</td>\n",
       "    </tr>\n",
       "    <tr>\n",
       "      <th>...</th>\n",
       "      <td>...</td>\n",
       "      <td>...</td>\n",
       "      <td>...</td>\n",
       "      <td>...</td>\n",
       "      <td>...</td>\n",
       "      <td>...</td>\n",
       "      <td>...</td>\n",
       "      <td>...</td>\n",
       "      <td>...</td>\n",
       "      <td>...</td>\n",
       "      <td>...</td>\n",
       "      <td>...</td>\n",
       "      <td>...</td>\n",
       "      <td>...</td>\n",
       "      <td>...</td>\n",
       "      <td>...</td>\n",
       "      <td>...</td>\n",
       "      <td>...</td>\n",
       "      <td>...</td>\n",
       "      <td>...</td>\n",
       "      <td>...</td>\n",
       "    </tr>\n",
       "    <tr>\n",
       "      <th>GLOBAL TOTAL</th>\n",
       "      <td>GLOBAL TOTAL</td>\n",
       "      <td>6.487569</td>\n",
       "      <td>6.370439</td>\n",
       "      <td>6.484807</td>\n",
       "      <td>6.668542</td>\n",
       "      <td>6.541291</td>\n",
       "      <td>6.423029</td>\n",
       "      <td>6.578672</td>\n",
       "      <td>6.619844</td>\n",
       "      <td>6.667915</td>\n",
       "      <td>...</td>\n",
       "      <td>6.705892</td>\n",
       "      <td>6.612758</td>\n",
       "      <td>6.571992</td>\n",
       "      <td>6.608325</td>\n",
       "      <td>6.687457</td>\n",
       "      <td>6.649377</td>\n",
       "      <td>6.330138</td>\n",
       "      <td>6.548488</td>\n",
       "      <td>6.53377</td>\n",
       "      <td>6.594133</td>\n",
       "    </tr>\n",
       "    <tr>\n",
       "      <th>LOW</th>\n",
       "      <td>Low income</td>\n",
       "      <td>2.082521</td>\n",
       "      <td>2.042968</td>\n",
       "      <td>2.005802</td>\n",
       "      <td>1.973047</td>\n",
       "      <td>1.966354</td>\n",
       "      <td>1.986447</td>\n",
       "      <td>2.017919</td>\n",
       "      <td>2.024346</td>\n",
       "      <td>2.048341</td>\n",
       "      <td>...</td>\n",
       "      <td>1.484879</td>\n",
       "      <td>1.427193</td>\n",
       "      <td>1.435283</td>\n",
       "      <td>1.497184</td>\n",
       "      <td>1.489792</td>\n",
       "      <td>1.501429</td>\n",
       "      <td>1.466336</td>\n",
       "      <td>1.435848</td>\n",
       "      <td>1.42599</td>\n",
       "      <td>1.413777</td>\n",
       "    </tr>\n",
       "    <tr>\n",
       "      <th>L_MID</th>\n",
       "      <td>Lower middle income</td>\n",
       "      <td>1.853612</td>\n",
       "      <td>1.824778</td>\n",
       "      <td>1.837001</td>\n",
       "      <td>1.860431</td>\n",
       "      <td>1.879601</td>\n",
       "      <td>1.833372</td>\n",
       "      <td>1.84321</td>\n",
       "      <td>1.830254</td>\n",
       "      <td>1.806291</td>\n",
       "      <td>...</td>\n",
       "      <td>2.39757</td>\n",
       "      <td>2.407149</td>\n",
       "      <td>2.437303</td>\n",
       "      <td>2.493452</td>\n",
       "      <td>2.541283</td>\n",
       "      <td>2.531829</td>\n",
       "      <td>2.420212</td>\n",
       "      <td>2.508904</td>\n",
       "      <td>2.545044</td>\n",
       "      <td>2.617048</td>\n",
       "    </tr>\n",
       "    <tr>\n",
       "      <th>H_MID</th>\n",
       "      <td>Upper middle income</td>\n",
       "      <td>3.777209</td>\n",
       "      <td>3.744607</td>\n",
       "      <td>3.78881</td>\n",
       "      <td>3.897829</td>\n",
       "      <td>3.897759</td>\n",
       "      <td>4.017299</td>\n",
       "      <td>4.119834</td>\n",
       "      <td>4.222152</td>\n",
       "      <td>4.336506</td>\n",
       "      <td>...</td>\n",
       "      <td>7.963287</td>\n",
       "      <td>7.808938</td>\n",
       "      <td>7.794956</td>\n",
       "      <td>7.895435</td>\n",
       "      <td>8.102887</td>\n",
       "      <td>8.204098</td>\n",
       "      <td>8.126365</td>\n",
       "      <td>8.44101</td>\n",
       "      <td>8.426012</td>\n",
       "      <td>8.709021</td>\n",
       "    </tr>\n",
       "    <tr>\n",
       "      <th>HIGH</th>\n",
       "      <td>High income</td>\n",
       "      <td>15.278703</td>\n",
       "      <td>15.081102</td>\n",
       "      <td>15.551111</td>\n",
       "      <td>16.166213</td>\n",
       "      <td>15.851783</td>\n",
       "      <td>15.449518</td>\n",
       "      <td>16.003809</td>\n",
       "      <td>16.149406</td>\n",
       "      <td>16.319457</td>\n",
       "      <td>...</td>\n",
       "      <td>13.861904</td>\n",
       "      <td>13.781029</td>\n",
       "      <td>13.641391</td>\n",
       "      <td>13.604827</td>\n",
       "      <td>13.660177</td>\n",
       "      <td>13.424094</td>\n",
       "      <td>12.50637</td>\n",
       "      <td>13.035381</td>\n",
       "      <td>12.956536</td>\n",
       "      <td>12.655065</td>\n",
       "    </tr>\n",
       "  </tbody>\n",
       "</table>\n",
       "<p>214 rows × 55 columns</p>\n",
       "</div>"
      ],
      "text/plain": [
       "                          Country       1970       1971       1972       1973  \\\n",
       "ABW                         Aruba   0.621591   0.698825   0.875514   0.952142   \n",
       "AFG                   Afghanistan   1.387497   1.345625   1.136047   1.158556   \n",
       "AGO                        Angola   2.803674   2.723448   3.024597   3.162829   \n",
       "AIA                      Anguilla   0.523981   0.526423   0.543562   0.520344   \n",
       "ALB                       Albania   3.824444   3.710615   4.039683   3.723085   \n",
       "...                           ...        ...        ...        ...        ...   \n",
       "GLOBAL TOTAL         GLOBAL TOTAL   6.487569   6.370439   6.484807   6.668542   \n",
       "LOW                    Low income   2.082521   2.042968   2.005802   1.973047   \n",
       "L_MID         Lower middle income   1.853612   1.824778   1.837001   1.860431   \n",
       "H_MID         Upper middle income   3.777209   3.744607    3.78881   3.897829   \n",
       "HIGH                  High income  15.278703  15.081102  15.551111  16.166213   \n",
       "\n",
       "                   1974       1975       1976       1977       1978  ...  \\\n",
       "ABW            0.935603   1.166287   1.151959   1.335586   1.422297  ...   \n",
       "AFG            1.231819   1.258354   1.241663   1.231162   1.181495  ...   \n",
       "AGO            3.168898   2.931294   2.352391   2.859557   3.032015  ...   \n",
       "AIA            0.560073   0.598576   0.575509   0.592212   0.648847  ...   \n",
       "ALB            3.754264    3.74638   3.913496   4.051386   4.363888  ...   \n",
       "...                 ...        ...        ...        ...        ...  ...   \n",
       "GLOBAL TOTAL   6.541291   6.423029   6.578672   6.619844   6.667915  ...   \n",
       "LOW            1.966354   1.986447   2.017919   2.024346   2.048341  ...   \n",
       "L_MID          1.879601   1.833372    1.84321   1.830254   1.806291  ...   \n",
       "H_MID          3.897759   4.017299   4.119834   4.222152   4.336506  ...   \n",
       "HIGH          15.851783  15.449518  16.003809  16.149406  16.319457  ...   \n",
       "\n",
       "                   2014       2015       2016       2017       2018  \\\n",
       "ABW            4.523035   4.705631   4.908697   4.713297   4.689429   \n",
       "AFG            0.837051   0.812424   0.768525   0.779393   0.757517   \n",
       "AGO            2.871258   2.935287   2.737463   2.465213   2.258536   \n",
       "AIA            2.158513   2.144561   2.149043   2.178249   2.099982   \n",
       "ALB            3.047044   2.989698   2.855613   3.127462   3.119193   \n",
       "...                 ...        ...        ...        ...        ...   \n",
       "GLOBAL TOTAL   6.705892   6.612758   6.571992   6.608325   6.687457   \n",
       "LOW            1.484879   1.427193   1.435283   1.497184   1.489792   \n",
       "L_MID           2.39757   2.407149   2.437303   2.493452   2.541283   \n",
       "H_MID          7.963287   7.808938   7.794956   7.895435   8.102887   \n",
       "HIGH          13.861904  13.781029  13.641391  13.604827  13.660177   \n",
       "\n",
       "                   2019      2020       2021       2022       2023  \n",
       "ABW            5.553807  4.529961     4.9645   4.986945   5.199052  \n",
       "AFG            0.725168  0.700207   0.710363   0.719308   0.724742  \n",
       "AGO            2.199314  1.878921   1.900307   1.920968     1.8749  \n",
       "AIA            2.039524  1.703662   1.681618   1.671227   1.638172  \n",
       "ALB            2.933062  2.708112   2.851648   2.650839   2.603893  \n",
       "...                 ...       ...        ...        ...        ...  \n",
       "GLOBAL TOTAL   6.649377  6.330138   6.548488    6.53377   6.594133  \n",
       "LOW            1.501429  1.466336   1.435848    1.42599   1.413777  \n",
       "L_MID          2.531829  2.420212   2.508904   2.545044   2.617048  \n",
       "H_MID          8.204098  8.126365    8.44101   8.426012   8.709021  \n",
       "HIGH          13.424094  12.50637  13.035381  12.956536  12.655065  \n",
       "\n",
       "[214 rows x 55 columns]"
      ]
     },
     "execution_count": 87,
     "metadata": {},
     "output_type": "execute_result"
    }
   ],
   "source": [
    "GHG_per_capita_by_country"
   ]
  },
  {
   "cell_type": "markdown",
   "metadata": {},
   "source": [
    "### Chart 1\n",
    "First, we compute the growth from the emission totals by differentiating. We cannot get information from the first period, as no data is present for 1969. Then, we plot the first chart"
   ]
  },
  {
   "cell_type": "code",
   "execution_count": 88,
   "metadata": {},
   "outputs": [
    {
     "data": {
      "application/vnd.plotly.v1+json": {
       "config": {
        "plotlyServerURL": "https://plot.ly"
       },
       "data": [
        {
         "alignmentgroup": "True",
         "hovertemplate": "Region=GLOBAL TOTAL<br>Year=%{x}<br>GHG Emissions (MtCO2e/yr)=%{y}<extra></extra>",
         "legendgroup": "GLOBAL TOTAL",
         "marker": {
          "color": "#003299",
          "pattern": {
           "shape": ""
          }
         },
         "name": "GLOBAL TOTAL",
         "offsetgroup": "GLOBAL TOTAL",
         "orientation": "v",
         "showlegend": true,
         "textposition": "auto",
         "type": "bar",
         "x": [
          1971,
          1972,
          1973,
          1974,
          1975,
          1976,
          1977,
          1978,
          1979,
          1980,
          1981,
          1982,
          1983,
          1984,
          1985,
          1986,
          1987,
          1988,
          1989,
          1990,
          1991,
          1992,
          1993,
          1994,
          1995,
          1996,
          1997,
          1998,
          1999,
          2000,
          2001,
          2002,
          2003,
          2004,
          2005,
          2006,
          2007,
          2008,
          2009,
          2010,
          2011,
          2012,
          2013,
          2014,
          2015,
          2016,
          2017,
          2018,
          2019,
          2020,
          2021,
          2022,
          2023
         ],
         "xaxis": "x",
         "y": [
          45.65648012600286,
          922.870509600998,
          1214.1399716859996,
          -3.270278217998566,
          12.355256849001307,
          1129.3551859009967,
          666.7894675160023,
          704.3976517339979,
          690.0606903910011,
          -290.2782370999994,
          -527.2381767240004,
          -211.84259450099853,
          226.8358476209978,
          790.2056066490004,
          299.48354800499874,
          478.3260226380007,
          735.9440424860004,
          949.0756800400013,
          565.9735975939984,
          324.63601338100125,
          52.47927772899857,
          -87.46258714599753,
          63.25488856299853,
          350.7970070790034,
          825.1568563689943,
          637.8183048499995,
          408.9090578890027,
          86.07613988700177,
          225.1220510610001,
          886.767320975996,
          284.3589061210005,
          439.33584726900153,
          1509.6481508619981,
          1575.5222500960008,
          1312.8734276640025,
          1174.8327338189993,
          1277.2233567360017,
          278.3840378639943,
          -422.86153268999624,
          2210.479868219001,
          1362.0529041350019,
          612.993397940998,
          797.909418342002,
          342.27773063799395,
          -121.40966003799986,
          249.67407971700595,
          820.2925524359962,
          1147.8936403949992,
          251.7204707300043,
          -1950.8090345500023,
          2240.7111469029987,
          400.221568535002,
          994.4292580619949
         ],
         "yaxis": "y"
        },
        {
         "alignmentgroup": "True",
         "hovertemplate": "Region=EU27<br>Year=%{x}<br>GHG Emissions (MtCO2e/yr)=%{y}<extra></extra>",
         "legendgroup": "EU27",
         "marker": {
          "color": "#FFB400",
          "pattern": {
           "shape": ""
          }
         },
         "name": "EU27",
         "offsetgroup": "EU27",
         "orientation": "v",
         "showlegend": true,
         "textposition": "auto",
         "type": "bar",
         "x": [
          1971,
          1972,
          1973,
          1974,
          1975,
          1976,
          1977,
          1978,
          1979,
          1980,
          1981,
          1982,
          1983,
          1984,
          1985,
          1986,
          1987,
          1988,
          1989,
          1990,
          1991,
          1992,
          1993,
          1994,
          1995,
          1996,
          1997,
          1998,
          1999,
          2000,
          2001,
          2002,
          2003,
          2004,
          2005,
          2006,
          2007,
          2008,
          2009,
          2010,
          2011,
          2012,
          2013,
          2014,
          2015,
          2016,
          2017,
          2018,
          2019,
          2020,
          2021,
          2022,
          2023
         ],
         "xaxis": "x",
         "y": [
          24.483558386599725,
          151.78029353040074,
          218.66212655219988,
          -40.13746490310041,
          -87.48747980379994,
          264.03569940980015,
          -11.26779848949991,
          169.29334887139976,
          159.27905493690014,
          -88.66594783989967,
          -205.92016202759987,
          -86.37446794000061,
          -22.484992414099906,
          39.66109700149991,
          3.3977599213003487,
          -1.7112939340004232,
          34.44341220000024,
          -18.951908058499612,
          -12.14436769960048,
          -204.02901805730016,
          -82.70446635010012,
          -178.62985737669987,
          -88.0010445165999,
          -13.755916941800024,
          50.4049381122004,
          112.13652031399943,
          -82.24814569459977,
          -48.8014204072997,
          -77.64376566989995,
          13.407731867800067,
          29.897850286200082,
          -17.120596571900023,
          92.05326561109996,
          3.1946060028994907,
          -35.91234557049938,
          -0.2822928731002321,
          -32.2797294576003,
          -110.16026848279944,
          -290.8470350132002,
          115.33033204249932,
          -108.5554416328996,
          -67.01743632929993,
          -87.57464758669994,
          -146.64658832480018,
          54.20043951080015,
          9.64824070809982,
          22.89225491370007,
          -81.61044861339997,
          -152.6424916781998,
          -289.73760513670004,
          188.7392295894997,
          -94.7075589868,
          -260.51584498409966
         ],
         "yaxis": "y"
        },
        {
         "alignmentgroup": "True",
         "hovertemplate": "Region=EURO AREA<br>Year=%{x}<br>GHG Emissions (MtCO2e/yr)=%{y}<extra></extra>",
         "legendgroup": "EURO AREA",
         "marker": {
          "color": "#FF4B00",
          "pattern": {
           "shape": ""
          }
         },
         "name": "EURO AREA",
         "offsetgroup": "EURO AREA",
         "orientation": "v",
         "showlegend": true,
         "textposition": "auto",
         "type": "bar",
         "x": [
          1971,
          1972,
          1973,
          1974,
          1975,
          1976,
          1977,
          1978,
          1979,
          1980,
          1981,
          1982,
          1983,
          1984,
          1985,
          1986,
          1987,
          1988,
          1989,
          1990,
          1991,
          1992,
          1993,
          1994,
          1995,
          1996,
          1997,
          1998,
          1999,
          2000,
          2001,
          2002,
          2003,
          2004,
          2005,
          2006,
          2007,
          2008,
          2009,
          2010,
          2011,
          2012,
          2013,
          2014,
          2015,
          2016,
          2017,
          2018,
          2019,
          2020,
          2021,
          2022,
          2023
         ],
         "xaxis": "x",
         "y": [
          17.98124858669553,
          120.37431578639598,
          173.01810397252302,
          -38.80499303761371,
          -141.71699793243988,
          199.52988405178303,
          -55.34934030075647,
          108.75958038872977,
          132.0161018247877,
          -74.92472600713927,
          -124.54530586254305,
          -105.0724181386895,
          -14.447539594101272,
          25.620760780620458,
          -12.040916095997545,
          -9.197055929485941,
          18.26269965874917,
          6.9672035116113875,
          43.86845111920775,
          -24.33159436873484,
          5.406610857164196,
          -121.05880965933784,
          -70.17254351537622,
          2.254047350576002,
          50.00768788202731,
          67.33908053180039,
          -36.16951604292262,
          21.30713684836701,
          -27.81195545992705,
          23.32053721975899,
          25.090356652877745,
          1.141847091685122,
          60.07098946780479,
          12.789439956246497,
          -23.5643070688011,
          -30.522404611190723,
          -23.751911147573082,
          -81.73012317672874,
          -222.9873439981311,
          86.88095973596683,
          -103.64369700861425,
          -38.209356658036086,
          -60.15194850325042,
          -127.24364480946178,
          44.800263787711174,
          -2.7655499507059176,
          2.2075625471334206,
          -74.46958728772688,
          -121.02600027549215,
          -246.69295364012305,
          139.79738205253125,
          -78.18970788946626,
          -195.7389324718306
         ],
         "yaxis": "y"
        }
       ],
       "layout": {
        "annotations": [
         {
          "font": {
           "color": "red",
           "size": 10
          },
          "showarrow": false,
          "text": "1973 Oil Crisis",
          "x": 1974.5,
          "xref": "x",
          "y": 1.05,
          "yref": "paper"
         },
         {
          "font": {
           "color": "red",
           "size": 10
          },
          "showarrow": false,
          "text": "Early 1980s Recession",
          "x": 1981,
          "xref": "x",
          "y": 1.05,
          "yref": "paper"
         },
         {
          "font": {
           "color": "red",
           "size": 10
          },
          "showarrow": false,
          "text": "Early 1990s Recession",
          "x": 1991,
          "xref": "x",
          "y": 1.05,
          "yref": "paper"
         },
         {
          "font": {
           "color": "red",
           "size": 10
          },
          "showarrow": false,
          "text": "Global Financial Crisis",
          "x": 2008.5,
          "xref": "x",
          "y": 1.05,
          "yref": "paper"
         },
         {
          "font": {
           "color": "red",
           "size": 10
          },
          "showarrow": false,
          "text": "COVID-19 Recession",
          "x": 2020.5,
          "xref": "x",
          "y": 1.05,
          "yref": "paper"
         }
        ],
        "barmode": "group",
        "height": 600,
        "legend": {
         "title": {
          "text": "Region"
         },
         "tracegroupgap": 0
        },
        "shapes": [
         {
          "fillcolor": "rgba(128, 128, 128, 0.2)",
          "line": {
           "width": 0
          },
          "type": "rect",
          "x0": "1973.5",
          "x1": "1975.5",
          "xref": "x",
          "y0": 0,
          "y1": 1,
          "yref": "paper"
         },
         {
          "fillcolor": "rgba(128, 128, 128, 0.2)",
          "line": {
           "width": 0
          },
          "type": "rect",
          "x0": "1979.5",
          "x1": "1982.5",
          "xref": "x",
          "y0": 0,
          "y1": 1,
          "yref": "paper"
         },
         {
          "fillcolor": "rgba(128, 128, 128, 0.2)",
          "line": {
           "width": 0
          },
          "type": "rect",
          "x0": "1990.5",
          "x1": "1991.5",
          "xref": "x",
          "y0": 0,
          "y1": 1,
          "yref": "paper"
         },
         {
          "fillcolor": "rgba(128, 128, 128, 0.2)",
          "line": {
           "width": 0
          },
          "type": "rect",
          "x0": "2007.5",
          "x1": "2009.5",
          "xref": "x",
          "y0": 0,
          "y1": 1,
          "yref": "paper"
         },
         {
          "fillcolor": "rgba(128, 128, 128, 0.2)",
          "line": {
           "width": 0
          },
          "type": "rect",
          "x0": "2019.5",
          "x1": "2021.5",
          "xref": "x",
          "y0": 0,
          "y1": 1,
          "yref": "paper"
         }
        ],
        "template": {
         "data": {
          "bar": [
           {
            "error_x": {
             "color": "#2a3f5f"
            },
            "error_y": {
             "color": "#2a3f5f"
            },
            "marker": {
             "line": {
              "color": "#E5ECF6",
              "width": 0.5
             },
             "pattern": {
              "fillmode": "overlay",
              "size": 10,
              "solidity": 0.2
             }
            },
            "type": "bar"
           }
          ],
          "barpolar": [
           {
            "marker": {
             "line": {
              "color": "#E5ECF6",
              "width": 0.5
             },
             "pattern": {
              "fillmode": "overlay",
              "size": 10,
              "solidity": 0.2
             }
            },
            "type": "barpolar"
           }
          ],
          "carpet": [
           {
            "aaxis": {
             "endlinecolor": "#2a3f5f",
             "gridcolor": "white",
             "linecolor": "white",
             "minorgridcolor": "white",
             "startlinecolor": "#2a3f5f"
            },
            "baxis": {
             "endlinecolor": "#2a3f5f",
             "gridcolor": "white",
             "linecolor": "white",
             "minorgridcolor": "white",
             "startlinecolor": "#2a3f5f"
            },
            "type": "carpet"
           }
          ],
          "choropleth": [
           {
            "colorbar": {
             "outlinewidth": 0,
             "ticks": ""
            },
            "type": "choropleth"
           }
          ],
          "contour": [
           {
            "colorbar": {
             "outlinewidth": 0,
             "ticks": ""
            },
            "colorscale": [
             [
              0,
              "#0d0887"
             ],
             [
              0.1111111111111111,
              "#46039f"
             ],
             [
              0.2222222222222222,
              "#7201a8"
             ],
             [
              0.3333333333333333,
              "#9c179e"
             ],
             [
              0.4444444444444444,
              "#bd3786"
             ],
             [
              0.5555555555555556,
              "#d8576b"
             ],
             [
              0.6666666666666666,
              "#ed7953"
             ],
             [
              0.7777777777777778,
              "#fb9f3a"
             ],
             [
              0.8888888888888888,
              "#fdca26"
             ],
             [
              1,
              "#f0f921"
             ]
            ],
            "type": "contour"
           }
          ],
          "contourcarpet": [
           {
            "colorbar": {
             "outlinewidth": 0,
             "ticks": ""
            },
            "type": "contourcarpet"
           }
          ],
          "heatmap": [
           {
            "colorbar": {
             "outlinewidth": 0,
             "ticks": ""
            },
            "colorscale": [
             [
              0,
              "#0d0887"
             ],
             [
              0.1111111111111111,
              "#46039f"
             ],
             [
              0.2222222222222222,
              "#7201a8"
             ],
             [
              0.3333333333333333,
              "#9c179e"
             ],
             [
              0.4444444444444444,
              "#bd3786"
             ],
             [
              0.5555555555555556,
              "#d8576b"
             ],
             [
              0.6666666666666666,
              "#ed7953"
             ],
             [
              0.7777777777777778,
              "#fb9f3a"
             ],
             [
              0.8888888888888888,
              "#fdca26"
             ],
             [
              1,
              "#f0f921"
             ]
            ],
            "type": "heatmap"
           }
          ],
          "heatmapgl": [
           {
            "colorbar": {
             "outlinewidth": 0,
             "ticks": ""
            },
            "colorscale": [
             [
              0,
              "#0d0887"
             ],
             [
              0.1111111111111111,
              "#46039f"
             ],
             [
              0.2222222222222222,
              "#7201a8"
             ],
             [
              0.3333333333333333,
              "#9c179e"
             ],
             [
              0.4444444444444444,
              "#bd3786"
             ],
             [
              0.5555555555555556,
              "#d8576b"
             ],
             [
              0.6666666666666666,
              "#ed7953"
             ],
             [
              0.7777777777777778,
              "#fb9f3a"
             ],
             [
              0.8888888888888888,
              "#fdca26"
             ],
             [
              1,
              "#f0f921"
             ]
            ],
            "type": "heatmapgl"
           }
          ],
          "histogram": [
           {
            "marker": {
             "pattern": {
              "fillmode": "overlay",
              "size": 10,
              "solidity": 0.2
             }
            },
            "type": "histogram"
           }
          ],
          "histogram2d": [
           {
            "colorbar": {
             "outlinewidth": 0,
             "ticks": ""
            },
            "colorscale": [
             [
              0,
              "#0d0887"
             ],
             [
              0.1111111111111111,
              "#46039f"
             ],
             [
              0.2222222222222222,
              "#7201a8"
             ],
             [
              0.3333333333333333,
              "#9c179e"
             ],
             [
              0.4444444444444444,
              "#bd3786"
             ],
             [
              0.5555555555555556,
              "#d8576b"
             ],
             [
              0.6666666666666666,
              "#ed7953"
             ],
             [
              0.7777777777777778,
              "#fb9f3a"
             ],
             [
              0.8888888888888888,
              "#fdca26"
             ],
             [
              1,
              "#f0f921"
             ]
            ],
            "type": "histogram2d"
           }
          ],
          "histogram2dcontour": [
           {
            "colorbar": {
             "outlinewidth": 0,
             "ticks": ""
            },
            "colorscale": [
             [
              0,
              "#0d0887"
             ],
             [
              0.1111111111111111,
              "#46039f"
             ],
             [
              0.2222222222222222,
              "#7201a8"
             ],
             [
              0.3333333333333333,
              "#9c179e"
             ],
             [
              0.4444444444444444,
              "#bd3786"
             ],
             [
              0.5555555555555556,
              "#d8576b"
             ],
             [
              0.6666666666666666,
              "#ed7953"
             ],
             [
              0.7777777777777778,
              "#fb9f3a"
             ],
             [
              0.8888888888888888,
              "#fdca26"
             ],
             [
              1,
              "#f0f921"
             ]
            ],
            "type": "histogram2dcontour"
           }
          ],
          "mesh3d": [
           {
            "colorbar": {
             "outlinewidth": 0,
             "ticks": ""
            },
            "type": "mesh3d"
           }
          ],
          "parcoords": [
           {
            "line": {
             "colorbar": {
              "outlinewidth": 0,
              "ticks": ""
             }
            },
            "type": "parcoords"
           }
          ],
          "pie": [
           {
            "automargin": true,
            "type": "pie"
           }
          ],
          "scatter": [
           {
            "fillpattern": {
             "fillmode": "overlay",
             "size": 10,
             "solidity": 0.2
            },
            "type": "scatter"
           }
          ],
          "scatter3d": [
           {
            "line": {
             "colorbar": {
              "outlinewidth": 0,
              "ticks": ""
             }
            },
            "marker": {
             "colorbar": {
              "outlinewidth": 0,
              "ticks": ""
             }
            },
            "type": "scatter3d"
           }
          ],
          "scattercarpet": [
           {
            "marker": {
             "colorbar": {
              "outlinewidth": 0,
              "ticks": ""
             }
            },
            "type": "scattercarpet"
           }
          ],
          "scattergeo": [
           {
            "marker": {
             "colorbar": {
              "outlinewidth": 0,
              "ticks": ""
             }
            },
            "type": "scattergeo"
           }
          ],
          "scattergl": [
           {
            "marker": {
             "colorbar": {
              "outlinewidth": 0,
              "ticks": ""
             }
            },
            "type": "scattergl"
           }
          ],
          "scattermapbox": [
           {
            "marker": {
             "colorbar": {
              "outlinewidth": 0,
              "ticks": ""
             }
            },
            "type": "scattermapbox"
           }
          ],
          "scatterpolar": [
           {
            "marker": {
             "colorbar": {
              "outlinewidth": 0,
              "ticks": ""
             }
            },
            "type": "scatterpolar"
           }
          ],
          "scatterpolargl": [
           {
            "marker": {
             "colorbar": {
              "outlinewidth": 0,
              "ticks": ""
             }
            },
            "type": "scatterpolargl"
           }
          ],
          "scatterternary": [
           {
            "marker": {
             "colorbar": {
              "outlinewidth": 0,
              "ticks": ""
             }
            },
            "type": "scatterternary"
           }
          ],
          "surface": [
           {
            "colorbar": {
             "outlinewidth": 0,
             "ticks": ""
            },
            "colorscale": [
             [
              0,
              "#0d0887"
             ],
             [
              0.1111111111111111,
              "#46039f"
             ],
             [
              0.2222222222222222,
              "#7201a8"
             ],
             [
              0.3333333333333333,
              "#9c179e"
             ],
             [
              0.4444444444444444,
              "#bd3786"
             ],
             [
              0.5555555555555556,
              "#d8576b"
             ],
             [
              0.6666666666666666,
              "#ed7953"
             ],
             [
              0.7777777777777778,
              "#fb9f3a"
             ],
             [
              0.8888888888888888,
              "#fdca26"
             ],
             [
              1,
              "#f0f921"
             ]
            ],
            "type": "surface"
           }
          ],
          "table": [
           {
            "cells": {
             "fill": {
              "color": "#EBF0F8"
             },
             "line": {
              "color": "white"
             }
            },
            "header": {
             "fill": {
              "color": "#C8D4E3"
             },
             "line": {
              "color": "white"
             }
            },
            "type": "table"
           }
          ]
         },
         "layout": {
          "annotationdefaults": {
           "arrowcolor": "#2a3f5f",
           "arrowhead": 0,
           "arrowwidth": 1
          },
          "autotypenumbers": "strict",
          "coloraxis": {
           "colorbar": {
            "outlinewidth": 0,
            "ticks": ""
           }
          },
          "colorscale": {
           "diverging": [
            [
             0,
             "#8e0152"
            ],
            [
             0.1,
             "#c51b7d"
            ],
            [
             0.2,
             "#de77ae"
            ],
            [
             0.3,
             "#f1b6da"
            ],
            [
             0.4,
             "#fde0ef"
            ],
            [
             0.5,
             "#f7f7f7"
            ],
            [
             0.6,
             "#e6f5d0"
            ],
            [
             0.7,
             "#b8e186"
            ],
            [
             0.8,
             "#7fbc41"
            ],
            [
             0.9,
             "#4d9221"
            ],
            [
             1,
             "#276419"
            ]
           ],
           "sequential": [
            [
             0,
             "#0d0887"
            ],
            [
             0.1111111111111111,
             "#46039f"
            ],
            [
             0.2222222222222222,
             "#7201a8"
            ],
            [
             0.3333333333333333,
             "#9c179e"
            ],
            [
             0.4444444444444444,
             "#bd3786"
            ],
            [
             0.5555555555555556,
             "#d8576b"
            ],
            [
             0.6666666666666666,
             "#ed7953"
            ],
            [
             0.7777777777777778,
             "#fb9f3a"
            ],
            [
             0.8888888888888888,
             "#fdca26"
            ],
            [
             1,
             "#f0f921"
            ]
           ],
           "sequentialminus": [
            [
             0,
             "#0d0887"
            ],
            [
             0.1111111111111111,
             "#46039f"
            ],
            [
             0.2222222222222222,
             "#7201a8"
            ],
            [
             0.3333333333333333,
             "#9c179e"
            ],
            [
             0.4444444444444444,
             "#bd3786"
            ],
            [
             0.5555555555555556,
             "#d8576b"
            ],
            [
             0.6666666666666666,
             "#ed7953"
            ],
            [
             0.7777777777777778,
             "#fb9f3a"
            ],
            [
             0.8888888888888888,
             "#fdca26"
            ],
            [
             1,
             "#f0f921"
            ]
           ]
          },
          "colorway": [
           "#636efa",
           "#EF553B",
           "#00cc96",
           "#ab63fa",
           "#FFA15A",
           "#19d3f3",
           "#FF6692",
           "#B6E880",
           "#FF97FF",
           "#FECB52"
          ],
          "font": {
           "color": "#2a3f5f"
          },
          "geo": {
           "bgcolor": "white",
           "lakecolor": "white",
           "landcolor": "#E5ECF6",
           "showlakes": true,
           "showland": true,
           "subunitcolor": "white"
          },
          "hoverlabel": {
           "align": "left"
          },
          "hovermode": "closest",
          "mapbox": {
           "style": "light"
          },
          "paper_bgcolor": "white",
          "plot_bgcolor": "#E5ECF6",
          "polar": {
           "angularaxis": {
            "gridcolor": "white",
            "linecolor": "white",
            "ticks": ""
           },
           "bgcolor": "#E5ECF6",
           "radialaxis": {
            "gridcolor": "white",
            "linecolor": "white",
            "ticks": ""
           }
          },
          "scene": {
           "xaxis": {
            "backgroundcolor": "#E5ECF6",
            "gridcolor": "white",
            "gridwidth": 2,
            "linecolor": "white",
            "showbackground": true,
            "ticks": "",
            "zerolinecolor": "white"
           },
           "yaxis": {
            "backgroundcolor": "#E5ECF6",
            "gridcolor": "white",
            "gridwidth": 2,
            "linecolor": "white",
            "showbackground": true,
            "ticks": "",
            "zerolinecolor": "white"
           },
           "zaxis": {
            "backgroundcolor": "#E5ECF6",
            "gridcolor": "white",
            "gridwidth": 2,
            "linecolor": "white",
            "showbackground": true,
            "ticks": "",
            "zerolinecolor": "white"
           }
          },
          "shapedefaults": {
           "line": {
            "color": "#2a3f5f"
           }
          },
          "ternary": {
           "aaxis": {
            "gridcolor": "white",
            "linecolor": "white",
            "ticks": ""
           },
           "baxis": {
            "gridcolor": "white",
            "linecolor": "white",
            "ticks": ""
           },
           "bgcolor": "#E5ECF6",
           "caxis": {
            "gridcolor": "white",
            "linecolor": "white",
            "ticks": ""
           }
          },
          "title": {
           "x": 0.05
          },
          "xaxis": {
           "automargin": true,
           "gridcolor": "white",
           "linecolor": "white",
           "ticks": "",
           "title": {
            "standoff": 15
           },
           "zerolinecolor": "white",
           "zerolinewidth": 2
          },
          "yaxis": {
           "automargin": true,
           "gridcolor": "white",
           "linecolor": "white",
           "ticks": "",
           "title": {
            "standoff": 15
           },
           "zerolinecolor": "white",
           "zerolinewidth": 2
          }
         }
        },
        "title": {
         "text": "Change in GHG Emissions for EU27, Euro Area and whole world (1970-2023)"
        },
        "width": 1350,
        "xaxis": {
         "anchor": "y",
         "domain": [
          0,
          1
         ],
         "title": {
          "text": "Year"
         }
        },
        "yaxis": {
         "anchor": "x",
         "domain": [
          0,
          1
         ],
         "title": {
          "text": "GHG Emissions (MtCO2e/yr)"
         }
        }
       }
      }
     },
     "metadata": {},
     "output_type": "display_data"
    }
   ],
   "source": [
    "recessions = [\n",
    "    {\"start\": \"1973\", \"end\": \"1975\", \"name\": \"1973 Oil Crisis\"},\n",
    "    {\"start\": \"1979\", \"end\": \"1982\", \"name\": \"Early 1980s Recession\"},\n",
    "    {\"start\": \"1990\", \"end\": \"1991\", \"name\": \"Early 1990s Recession\"},\n",
    "    {\"start\": \"2007\", \"end\": \"2009\", \"name\": \"Global Financial Crisis\"},\n",
    "    {\"start\": \"2019\", \"end\": \"2021\", \"name\": \"COVID-19 Recession\"}\n",
    "]\n",
    "\n",
    "\n",
    "# GHG growth from one year to the next\n",
    "GHG_growth_by_country = GHG_totals_by_country.drop(columns='Country').diff(periods=1, axis=1).iloc[:, 1:]\n",
    "GHG_growth_by_country.insert(0, 'Country', GHG_totals_by_country.Country)\n",
    "# Filter required columns \n",
    "df = GHG_growth_by_country.loc[['GLOBAL TOTAL', 'EU27', 'EURO AREA']]\n",
    "# # Plot (built-in function)\n",
    "# df = df.set_index('Country')\n",
    "# plt = df.T.plot(kind='bar', figsize=(18, 10), color={'GLOBAL TOTAL': '#003299', 'EU27': '#FFB400',  'EURO AREA':'#FF4B00', 'United States': '#65B800'}, grid=True)\n",
    "# plt.axhline(0, color='k', linestyle='dashed')\n",
    "# Melt\n",
    "df_long = df.melt(id_vars=[\"Country\"], var_name=\"Year\", value_name=\"Emissions\")\n",
    "\n",
    "fig = px.bar(\n",
    "    df_long,\n",
    "    x=\"Year\",                # Year on the x-axis\n",
    "    y=\"Emissions\",              # Emissions on the y-axis\n",
    "    color=\"Country\",       # Use income group for color differentiation\n",
    "    title=\"Change in GHG Emissions for EU27, Euro Area and whole world (1970-2023)\",\n",
    "    labels={\"Country\": \"Region\", \"Emissions\": \"GHG Emissions (MtCO2e/yr)\"},  # Axis labels\n",
    "    color_discrete_sequence=COLORS,\n",
    "    barmode=\"group\",             # Grouped bars for each year\n",
    "    height = 600,\n",
    "    width = 1350\n",
    ")\n",
    "\n",
    "\n",
    "# Add shaded rectangles and annotations for recessions\n",
    "for recession in recessions:\n",
    "    # Add shaded rectangle\n",
    "    fig.add_shape(\n",
    "        type=\"rect\",\n",
    "        x0=recession[\"start\"]+'.5',\n",
    "        x1=recession[\"end\"]+'.5',\n",
    "        y0=0,\n",
    "        y1=1,  \n",
    "        xref=\"x\",\n",
    "        yref=\"paper\",\n",
    "        fillcolor=\"rgba(128, 128, 128, 0.2)\",  # Transparent red\n",
    "        line=dict(width=0)  # No border\n",
    "    )\n",
    "    \n",
    "    # Add annotation\n",
    "    fig.add_annotation(\n",
    "        x=(int(recession[\"start\"]) + int(recession[\"end\"])) / 2 +0.5,  # Midpoint of the recession\n",
    "        y=1.05,  # Slightly above the top of the chart\n",
    "        xref=\"x\",\n",
    "        yref=\"paper\",\n",
    "        text=recession[\"name\"],\n",
    "        showarrow=False,\n",
    "        font=dict(size=10, color=\"red\")\n",
    "    )\n",
    "# Export chart\n",
    "fig.write_image('./pdf/Chart1.pdf')\n",
    "# Show the chart\n",
    "fig.show()"
   ]
  },
  {
   "cell_type": "markdown",
   "metadata": {},
   "source": [
    "#### KEY TRENDS\n",
    "\n",
    "- Global greenhouse gas (GHG) emissions have steadily increased between 1971 and 2023, reflecting the growing impact of industrialization and population growth worldwide. Temporary declines in GHG emissions generally coincided with recessions. \n",
    "\n",
    "- The European Union (EU) and the Euro Area have demonstrated a clear downward trend in GHG emissions, highlighting substantial progress in mitigation efforts. However, their reductions alone are insufficient to offset the global increase in emissions. \n",
    "\n",
    "- Within the European Union, the Euro Area accounts for the largest share of GHG emissions reductions, underscoring its pivotal role in driving regional climate progress."
   ]
  },
  {
   "cell_type": "markdown",
   "metadata": {},
   "source": [
    "### Chart 2"
   ]
  },
  {
   "cell_type": "code",
   "execution_count": 89,
   "metadata": {},
   "outputs": [
    {
     "data": {
      "application/vnd.plotly.v1+json": {
       "config": {
        "plotlyServerURL": "https://plot.ly"
       },
       "data": [
        {
         "alignmentgroup": "True",
         "hovertemplate": "Income Group=High income<br>Year=%{x}<br>GHG Emissions (tCO2e/cap/yr)=%{y}<extra></extra>",
         "legendgroup": "High income",
         "marker": {
          "color": "#003299",
          "pattern": {
           "shape": ""
          }
         },
         "name": "High income",
         "offsetgroup": "High income",
         "orientation": "v",
         "showlegend": true,
         "textposition": "auto",
         "type": "bar",
         "x": [
          1970,
          1971,
          1972,
          1973,
          1974,
          1975,
          1976,
          1977,
          1978,
          1979,
          1980,
          1981,
          1982,
          1983,
          1984,
          1985,
          1986,
          1987,
          1988,
          1989,
          1990,
          1991,
          1992,
          1993,
          1994,
          1995,
          1996,
          1997,
          1998,
          1999,
          2000,
          2001,
          2002,
          2003,
          2004,
          2005,
          2006,
          2007,
          2008,
          2009,
          2010,
          2011,
          2012,
          2013,
          2014,
          2015,
          2016,
          2017,
          2018,
          2019,
          2020,
          2021,
          2022,
          2023
         ],
         "xaxis": "x",
         "y": [
          15.278702809404185,
          15.08110150862319,
          15.551111233521702,
          16.166213207162155,
          15.851782976715796,
          15.449517524388353,
          16.003809023842443,
          16.14940592756928,
          16.319457342968697,
          16.54709020742941,
          16.14568911397755,
          15.674240117455314,
          15.18716803375996,
          15.079283470701812,
          15.313024945740606,
          15.28281388790001,
          15.256058504603374,
          15.424356109519119,
          15.72970519770468,
          15.775175276673838,
          15.66751102332041,
          15.475493254110795,
          15.172028449040107,
          14.977477561151845,
          14.90518424195901,
          14.939951466295357,
          15.15731311562531,
          15.18906170808776,
          15.054758821603173,
          15.055619931560832,
          15.249036964099687,
          15.163328731314019,
          15.027739263855981,
          15.220086496203617,
          15.283597408018855,
          15.24016567622038,
          15.104278047621351,
          15.163416649531506,
          14.802290723255371,
          13.937822343496602,
          14.386073442817784,
          14.257355121434271,
          14.064453137489165,
          14.039445139321204,
          13.861904448906106,
          13.781029283949053,
          13.641391299693586,
          13.604827217302697,
          13.660176687683057,
          13.424093519740044,
          12.506370257942022,
          13.035381163132929,
          12.956535672333226,
          12.655064981060791
         ],
         "yaxis": "y"
        },
        {
         "alignmentgroup": "True",
         "hovertemplate": "Income Group=Upper middle income<br>Year=%{x}<br>GHG Emissions (tCO2e/cap/yr)=%{y}<extra></extra>",
         "legendgroup": "Upper middle income",
         "marker": {
          "color": "#FFB400",
          "pattern": {
           "shape": ""
          }
         },
         "name": "Upper middle income",
         "offsetgroup": "Upper middle income",
         "orientation": "v",
         "showlegend": true,
         "textposition": "auto",
         "type": "bar",
         "x": [
          1970,
          1971,
          1972,
          1973,
          1974,
          1975,
          1976,
          1977,
          1978,
          1979,
          1980,
          1981,
          1982,
          1983,
          1984,
          1985,
          1986,
          1987,
          1988,
          1989,
          1990,
          1991,
          1992,
          1993,
          1994,
          1995,
          1996,
          1997,
          1998,
          1999,
          2000,
          2001,
          2002,
          2003,
          2004,
          2005,
          2006,
          2007,
          2008,
          2009,
          2010,
          2011,
          2012,
          2013,
          2014,
          2015,
          2016,
          2017,
          2018,
          2019,
          2020,
          2021,
          2022,
          2023
         ],
         "xaxis": "x",
         "y": [
          3.7772094314672846,
          3.7446068840303393,
          3.7888097308607143,
          3.897829067484917,
          3.8977592887793033,
          4.01729949864297,
          4.119834344008713,
          4.222152463119436,
          4.336506371345287,
          4.34230656345009,
          4.258267899037817,
          4.114915563419586,
          4.137256710237802,
          4.150268580231406,
          4.230043941282202,
          4.2009723785432636,
          4.244296542542614,
          4.3283973831504134,
          4.394583182856979,
          4.431503642065486,
          4.486206136062371,
          4.448333434451009,
          4.419932445236796,
          4.425636661058627,
          4.45433080147524,
          4.625450601397496,
          4.602783555802085,
          4.626187726448131,
          4.614464894893573,
          4.5508726487461955,
          4.676790102815533,
          4.735908906638326,
          4.875841640033679,
          5.2478686700076596,
          5.642100254729125,
          6.0020583694492435,
          6.355117551974294,
          6.6183187564943555,
          6.7169526183776735,
          6.843055810059945,
          7.23922669468599,
          7.642282711357084,
          7.787133055318216,
          7.961888877442769,
          7.963287428664863,
          7.808938118715266,
          7.794956465569712,
          7.895435182726134,
          8.102886829757072,
          8.204098416054046,
          8.12636473340269,
          8.441009807925324,
          8.426011802209484,
          8.70902079387557
         ],
         "yaxis": "y"
        },
        {
         "alignmentgroup": "True",
         "hovertemplate": "Income Group=Lower middle income<br>Year=%{x}<br>GHG Emissions (tCO2e/cap/yr)=%{y}<extra></extra>",
         "legendgroup": "Lower middle income",
         "marker": {
          "color": "#FF4B00",
          "pattern": {
           "shape": ""
          }
         },
         "name": "Lower middle income",
         "offsetgroup": "Lower middle income",
         "orientation": "v",
         "showlegend": true,
         "textposition": "auto",
         "type": "bar",
         "x": [
          1970,
          1971,
          1972,
          1973,
          1974,
          1975,
          1976,
          1977,
          1978,
          1979,
          1980,
          1981,
          1982,
          1983,
          1984,
          1985,
          1986,
          1987,
          1988,
          1989,
          1990,
          1991,
          1992,
          1993,
          1994,
          1995,
          1996,
          1997,
          1998,
          1999,
          2000,
          2001,
          2002,
          2003,
          2004,
          2005,
          2006,
          2007,
          2008,
          2009,
          2010,
          2011,
          2012,
          2013,
          2014,
          2015,
          2016,
          2017,
          2018,
          2019,
          2020,
          2021,
          2022,
          2023
         ],
         "xaxis": "x",
         "y": [
          1.853612206423058,
          1.8247782060299198,
          1.837000646374338,
          1.8604311505775677,
          1.8796008060447027,
          1.8333721729807233,
          1.8432104188224785,
          1.830253546711849,
          1.8062911205499124,
          1.8461313563381472,
          1.815968409689902,
          1.7752203463400336,
          1.7560911143983533,
          1.7628900522060769,
          1.777556297560551,
          1.7870841496964116,
          1.8031851572440187,
          1.7980616756401755,
          1.8245645200530993,
          1.8498286871177054,
          1.8275431830699846,
          1.8342304647121592,
          1.8298504520040122,
          1.8242154259879888,
          1.8426482896435072,
          1.8831452341845194,
          1.930223367040706,
          1.9285738740035199,
          1.9135654601743235,
          1.9365991337086137,
          1.94475508628854,
          1.9430987555190808,
          1.9198028810464873,
          1.9423953857856004,
          1.9921058576591233,
          2.020949772117501,
          2.046124789775134,
          2.1001364673897367,
          2.14073788029687,
          2.176442208380785,
          2.232217443084718,
          2.2800531919914597,
          2.3349024127041824,
          2.3353703273579742,
          2.397570369956547,
          2.4071494814014547,
          2.43730307865404,
          2.4934515074806303,
          2.541283336246657,
          2.5318291886903537,
          2.420212106734486,
          2.508904208212837,
          2.5450442526278634,
          2.6170480249756625
         ],
         "yaxis": "y"
        },
        {
         "alignmentgroup": "True",
         "hovertemplate": "Income Group=Low income<br>Year=%{x}<br>GHG Emissions (tCO2e/cap/yr)=%{y}<extra></extra>",
         "legendgroup": "Low income",
         "marker": {
          "color": "#65B800",
          "pattern": {
           "shape": ""
          }
         },
         "name": "Low income",
         "offsetgroup": "Low income",
         "orientation": "v",
         "showlegend": true,
         "textposition": "auto",
         "type": "bar",
         "x": [
          1970,
          1971,
          1972,
          1973,
          1974,
          1975,
          1976,
          1977,
          1978,
          1979,
          1980,
          1981,
          1982,
          1983,
          1984,
          1985,
          1986,
          1987,
          1988,
          1989,
          1990,
          1991,
          1992,
          1993,
          1994,
          1995,
          1996,
          1997,
          1998,
          1999,
          2000,
          2001,
          2002,
          2003,
          2004,
          2005,
          2006,
          2007,
          2008,
          2009,
          2010,
          2011,
          2012,
          2013,
          2014,
          2015,
          2016,
          2017,
          2018,
          2019,
          2020,
          2021,
          2022,
          2023
         ],
         "xaxis": "x",
         "y": [
          2.082520858808311,
          2.0429681920690865,
          2.0058017673632333,
          1.9730467028372365,
          1.9663536646773698,
          1.9864468266657982,
          2.017918617964928,
          2.0243460583635082,
          2.048341022941708,
          2.089364847475647,
          2.0985939437589782,
          2.104080596955869,
          2.166634524333808,
          2.1690431149105254,
          2.1313667196540558,
          2.108301864722203,
          2.0677741744131084,
          2.0250607447576736,
          2.0341902432819983,
          2.0122317531980056,
          2.0005980244329993,
          1.9570097151000505,
          1.866558574657201,
          1.802327343379327,
          1.7726344250045951,
          1.7242778939366952,
          1.6995826380762087,
          1.669280130031385,
          1.6348111383544857,
          1.637253790245689,
          1.6437093817742787,
          1.6196649625925728,
          1.5965069215235268,
          1.6096698594230447,
          1.6045125613014908,
          1.6521041116861062,
          1.654605633085392,
          1.6344878953932158,
          1.6540799916533093,
          1.6394262082470963,
          1.6344803091599016,
          1.5671747990989668,
          1.5310852476001433,
          1.4867027565881497,
          1.4848793901343613,
          1.427193265330783,
          1.4352834202494114,
          1.4971840616449776,
          1.4897923497327326,
          1.5014294238236336,
          1.466336079871242,
          1.435847543952088,
          1.4259902064096204,
          1.4137771674512098
         ],
         "yaxis": "y"
        }
       ],
       "layout": {
        "barmode": "group",
        "height": 600,
        "legend": {
         "title": {
          "text": "Income Group"
         },
         "tracegroupgap": 0
        },
        "template": {
         "data": {
          "bar": [
           {
            "error_x": {
             "color": "#2a3f5f"
            },
            "error_y": {
             "color": "#2a3f5f"
            },
            "marker": {
             "line": {
              "color": "#E5ECF6",
              "width": 0.5
             },
             "pattern": {
              "fillmode": "overlay",
              "size": 10,
              "solidity": 0.2
             }
            },
            "type": "bar"
           }
          ],
          "barpolar": [
           {
            "marker": {
             "line": {
              "color": "#E5ECF6",
              "width": 0.5
             },
             "pattern": {
              "fillmode": "overlay",
              "size": 10,
              "solidity": 0.2
             }
            },
            "type": "barpolar"
           }
          ],
          "carpet": [
           {
            "aaxis": {
             "endlinecolor": "#2a3f5f",
             "gridcolor": "white",
             "linecolor": "white",
             "minorgridcolor": "white",
             "startlinecolor": "#2a3f5f"
            },
            "baxis": {
             "endlinecolor": "#2a3f5f",
             "gridcolor": "white",
             "linecolor": "white",
             "minorgridcolor": "white",
             "startlinecolor": "#2a3f5f"
            },
            "type": "carpet"
           }
          ],
          "choropleth": [
           {
            "colorbar": {
             "outlinewidth": 0,
             "ticks": ""
            },
            "type": "choropleth"
           }
          ],
          "contour": [
           {
            "colorbar": {
             "outlinewidth": 0,
             "ticks": ""
            },
            "colorscale": [
             [
              0,
              "#0d0887"
             ],
             [
              0.1111111111111111,
              "#46039f"
             ],
             [
              0.2222222222222222,
              "#7201a8"
             ],
             [
              0.3333333333333333,
              "#9c179e"
             ],
             [
              0.4444444444444444,
              "#bd3786"
             ],
             [
              0.5555555555555556,
              "#d8576b"
             ],
             [
              0.6666666666666666,
              "#ed7953"
             ],
             [
              0.7777777777777778,
              "#fb9f3a"
             ],
             [
              0.8888888888888888,
              "#fdca26"
             ],
             [
              1,
              "#f0f921"
             ]
            ],
            "type": "contour"
           }
          ],
          "contourcarpet": [
           {
            "colorbar": {
             "outlinewidth": 0,
             "ticks": ""
            },
            "type": "contourcarpet"
           }
          ],
          "heatmap": [
           {
            "colorbar": {
             "outlinewidth": 0,
             "ticks": ""
            },
            "colorscale": [
             [
              0,
              "#0d0887"
             ],
             [
              0.1111111111111111,
              "#46039f"
             ],
             [
              0.2222222222222222,
              "#7201a8"
             ],
             [
              0.3333333333333333,
              "#9c179e"
             ],
             [
              0.4444444444444444,
              "#bd3786"
             ],
             [
              0.5555555555555556,
              "#d8576b"
             ],
             [
              0.6666666666666666,
              "#ed7953"
             ],
             [
              0.7777777777777778,
              "#fb9f3a"
             ],
             [
              0.8888888888888888,
              "#fdca26"
             ],
             [
              1,
              "#f0f921"
             ]
            ],
            "type": "heatmap"
           }
          ],
          "heatmapgl": [
           {
            "colorbar": {
             "outlinewidth": 0,
             "ticks": ""
            },
            "colorscale": [
             [
              0,
              "#0d0887"
             ],
             [
              0.1111111111111111,
              "#46039f"
             ],
             [
              0.2222222222222222,
              "#7201a8"
             ],
             [
              0.3333333333333333,
              "#9c179e"
             ],
             [
              0.4444444444444444,
              "#bd3786"
             ],
             [
              0.5555555555555556,
              "#d8576b"
             ],
             [
              0.6666666666666666,
              "#ed7953"
             ],
             [
              0.7777777777777778,
              "#fb9f3a"
             ],
             [
              0.8888888888888888,
              "#fdca26"
             ],
             [
              1,
              "#f0f921"
             ]
            ],
            "type": "heatmapgl"
           }
          ],
          "histogram": [
           {
            "marker": {
             "pattern": {
              "fillmode": "overlay",
              "size": 10,
              "solidity": 0.2
             }
            },
            "type": "histogram"
           }
          ],
          "histogram2d": [
           {
            "colorbar": {
             "outlinewidth": 0,
             "ticks": ""
            },
            "colorscale": [
             [
              0,
              "#0d0887"
             ],
             [
              0.1111111111111111,
              "#46039f"
             ],
             [
              0.2222222222222222,
              "#7201a8"
             ],
             [
              0.3333333333333333,
              "#9c179e"
             ],
             [
              0.4444444444444444,
              "#bd3786"
             ],
             [
              0.5555555555555556,
              "#d8576b"
             ],
             [
              0.6666666666666666,
              "#ed7953"
             ],
             [
              0.7777777777777778,
              "#fb9f3a"
             ],
             [
              0.8888888888888888,
              "#fdca26"
             ],
             [
              1,
              "#f0f921"
             ]
            ],
            "type": "histogram2d"
           }
          ],
          "histogram2dcontour": [
           {
            "colorbar": {
             "outlinewidth": 0,
             "ticks": ""
            },
            "colorscale": [
             [
              0,
              "#0d0887"
             ],
             [
              0.1111111111111111,
              "#46039f"
             ],
             [
              0.2222222222222222,
              "#7201a8"
             ],
             [
              0.3333333333333333,
              "#9c179e"
             ],
             [
              0.4444444444444444,
              "#bd3786"
             ],
             [
              0.5555555555555556,
              "#d8576b"
             ],
             [
              0.6666666666666666,
              "#ed7953"
             ],
             [
              0.7777777777777778,
              "#fb9f3a"
             ],
             [
              0.8888888888888888,
              "#fdca26"
             ],
             [
              1,
              "#f0f921"
             ]
            ],
            "type": "histogram2dcontour"
           }
          ],
          "mesh3d": [
           {
            "colorbar": {
             "outlinewidth": 0,
             "ticks": ""
            },
            "type": "mesh3d"
           }
          ],
          "parcoords": [
           {
            "line": {
             "colorbar": {
              "outlinewidth": 0,
              "ticks": ""
             }
            },
            "type": "parcoords"
           }
          ],
          "pie": [
           {
            "automargin": true,
            "type": "pie"
           }
          ],
          "scatter": [
           {
            "fillpattern": {
             "fillmode": "overlay",
             "size": 10,
             "solidity": 0.2
            },
            "type": "scatter"
           }
          ],
          "scatter3d": [
           {
            "line": {
             "colorbar": {
              "outlinewidth": 0,
              "ticks": ""
             }
            },
            "marker": {
             "colorbar": {
              "outlinewidth": 0,
              "ticks": ""
             }
            },
            "type": "scatter3d"
           }
          ],
          "scattercarpet": [
           {
            "marker": {
             "colorbar": {
              "outlinewidth": 0,
              "ticks": ""
             }
            },
            "type": "scattercarpet"
           }
          ],
          "scattergeo": [
           {
            "marker": {
             "colorbar": {
              "outlinewidth": 0,
              "ticks": ""
             }
            },
            "type": "scattergeo"
           }
          ],
          "scattergl": [
           {
            "marker": {
             "colorbar": {
              "outlinewidth": 0,
              "ticks": ""
             }
            },
            "type": "scattergl"
           }
          ],
          "scattermapbox": [
           {
            "marker": {
             "colorbar": {
              "outlinewidth": 0,
              "ticks": ""
             }
            },
            "type": "scattermapbox"
           }
          ],
          "scatterpolar": [
           {
            "marker": {
             "colorbar": {
              "outlinewidth": 0,
              "ticks": ""
             }
            },
            "type": "scatterpolar"
           }
          ],
          "scatterpolargl": [
           {
            "marker": {
             "colorbar": {
              "outlinewidth": 0,
              "ticks": ""
             }
            },
            "type": "scatterpolargl"
           }
          ],
          "scatterternary": [
           {
            "marker": {
             "colorbar": {
              "outlinewidth": 0,
              "ticks": ""
             }
            },
            "type": "scatterternary"
           }
          ],
          "surface": [
           {
            "colorbar": {
             "outlinewidth": 0,
             "ticks": ""
            },
            "colorscale": [
             [
              0,
              "#0d0887"
             ],
             [
              0.1111111111111111,
              "#46039f"
             ],
             [
              0.2222222222222222,
              "#7201a8"
             ],
             [
              0.3333333333333333,
              "#9c179e"
             ],
             [
              0.4444444444444444,
              "#bd3786"
             ],
             [
              0.5555555555555556,
              "#d8576b"
             ],
             [
              0.6666666666666666,
              "#ed7953"
             ],
             [
              0.7777777777777778,
              "#fb9f3a"
             ],
             [
              0.8888888888888888,
              "#fdca26"
             ],
             [
              1,
              "#f0f921"
             ]
            ],
            "type": "surface"
           }
          ],
          "table": [
           {
            "cells": {
             "fill": {
              "color": "#EBF0F8"
             },
             "line": {
              "color": "white"
             }
            },
            "header": {
             "fill": {
              "color": "#C8D4E3"
             },
             "line": {
              "color": "white"
             }
            },
            "type": "table"
           }
          ]
         },
         "layout": {
          "annotationdefaults": {
           "arrowcolor": "#2a3f5f",
           "arrowhead": 0,
           "arrowwidth": 1
          },
          "autotypenumbers": "strict",
          "coloraxis": {
           "colorbar": {
            "outlinewidth": 0,
            "ticks": ""
           }
          },
          "colorscale": {
           "diverging": [
            [
             0,
             "#8e0152"
            ],
            [
             0.1,
             "#c51b7d"
            ],
            [
             0.2,
             "#de77ae"
            ],
            [
             0.3,
             "#f1b6da"
            ],
            [
             0.4,
             "#fde0ef"
            ],
            [
             0.5,
             "#f7f7f7"
            ],
            [
             0.6,
             "#e6f5d0"
            ],
            [
             0.7,
             "#b8e186"
            ],
            [
             0.8,
             "#7fbc41"
            ],
            [
             0.9,
             "#4d9221"
            ],
            [
             1,
             "#276419"
            ]
           ],
           "sequential": [
            [
             0,
             "#0d0887"
            ],
            [
             0.1111111111111111,
             "#46039f"
            ],
            [
             0.2222222222222222,
             "#7201a8"
            ],
            [
             0.3333333333333333,
             "#9c179e"
            ],
            [
             0.4444444444444444,
             "#bd3786"
            ],
            [
             0.5555555555555556,
             "#d8576b"
            ],
            [
             0.6666666666666666,
             "#ed7953"
            ],
            [
             0.7777777777777778,
             "#fb9f3a"
            ],
            [
             0.8888888888888888,
             "#fdca26"
            ],
            [
             1,
             "#f0f921"
            ]
           ],
           "sequentialminus": [
            [
             0,
             "#0d0887"
            ],
            [
             0.1111111111111111,
             "#46039f"
            ],
            [
             0.2222222222222222,
             "#7201a8"
            ],
            [
             0.3333333333333333,
             "#9c179e"
            ],
            [
             0.4444444444444444,
             "#bd3786"
            ],
            [
             0.5555555555555556,
             "#d8576b"
            ],
            [
             0.6666666666666666,
             "#ed7953"
            ],
            [
             0.7777777777777778,
             "#fb9f3a"
            ],
            [
             0.8888888888888888,
             "#fdca26"
            ],
            [
             1,
             "#f0f921"
            ]
           ]
          },
          "colorway": [
           "#636efa",
           "#EF553B",
           "#00cc96",
           "#ab63fa",
           "#FFA15A",
           "#19d3f3",
           "#FF6692",
           "#B6E880",
           "#FF97FF",
           "#FECB52"
          ],
          "font": {
           "color": "#2a3f5f"
          },
          "geo": {
           "bgcolor": "white",
           "lakecolor": "white",
           "landcolor": "#E5ECF6",
           "showlakes": true,
           "showland": true,
           "subunitcolor": "white"
          },
          "hoverlabel": {
           "align": "left"
          },
          "hovermode": "closest",
          "mapbox": {
           "style": "light"
          },
          "paper_bgcolor": "white",
          "plot_bgcolor": "#E5ECF6",
          "polar": {
           "angularaxis": {
            "gridcolor": "white",
            "linecolor": "white",
            "ticks": ""
           },
           "bgcolor": "#E5ECF6",
           "radialaxis": {
            "gridcolor": "white",
            "linecolor": "white",
            "ticks": ""
           }
          },
          "scene": {
           "xaxis": {
            "backgroundcolor": "#E5ECF6",
            "gridcolor": "white",
            "gridwidth": 2,
            "linecolor": "white",
            "showbackground": true,
            "ticks": "",
            "zerolinecolor": "white"
           },
           "yaxis": {
            "backgroundcolor": "#E5ECF6",
            "gridcolor": "white",
            "gridwidth": 2,
            "linecolor": "white",
            "showbackground": true,
            "ticks": "",
            "zerolinecolor": "white"
           },
           "zaxis": {
            "backgroundcolor": "#E5ECF6",
            "gridcolor": "white",
            "gridwidth": 2,
            "linecolor": "white",
            "showbackground": true,
            "ticks": "",
            "zerolinecolor": "white"
           }
          },
          "shapedefaults": {
           "line": {
            "color": "#2a3f5f"
           }
          },
          "ternary": {
           "aaxis": {
            "gridcolor": "white",
            "linecolor": "white",
            "ticks": ""
           },
           "baxis": {
            "gridcolor": "white",
            "linecolor": "white",
            "ticks": ""
           },
           "bgcolor": "#E5ECF6",
           "caxis": {
            "gridcolor": "white",
            "linecolor": "white",
            "ticks": ""
           }
          },
          "title": {
           "x": 0.05
          },
          "xaxis": {
           "automargin": true,
           "gridcolor": "white",
           "linecolor": "white",
           "ticks": "",
           "title": {
            "standoff": 15
           },
           "zerolinecolor": "white",
           "zerolinewidth": 2
          },
          "yaxis": {
           "automargin": true,
           "gridcolor": "white",
           "linecolor": "white",
           "ticks": "",
           "title": {
            "standoff": 15
           },
           "zerolinecolor": "white",
           "zerolinewidth": 2
          }
         }
        },
        "title": {
         "text": "GHG Emissions per capita by Income Group (1970-2023)"
        },
        "width": 1350,
        "xaxis": {
         "anchor": "y",
         "domain": [
          0,
          1
         ],
         "title": {
          "text": "Year"
         }
        },
        "yaxis": {
         "anchor": "x",
         "domain": [
          0,
          1
         ],
         "title": {
          "text": "GHG Emissions (tCO2e/cap/yr)"
         }
        }
       }
      }
     },
     "metadata": {},
     "output_type": "display_data"
    }
   ],
   "source": [
    "# Filter required columns \n",
    "df = GHG_per_capita_by_country.loc[['HIGH','H_MID', 'L_MID', 'LOW']]\n",
    "# # Plot (built-in function)\n",
    "# df = df.set_index('Country')\n",
    "# plt = df.T.plot(kind='bar', figsize=(30, 10), color={'High income': '#003299', 'Upper middle income': '#FFB400',  'Lower middle income':'#FF4B00', 'Low income': '#65B800'}, grid=True)\n",
    "# plt.axhline(0, color='k', linestyle='dashed')\n",
    "# Melt\n",
    "df_long = df.melt(id_vars=[\"Country\"], var_name=\"Year\", value_name=\"Emissions\")\n",
    "# Plot (plotly)\n",
    "fig = px.bar(\n",
    "    df_long,\n",
    "    x=\"Year\",                # Year on the x-axis\n",
    "    y=\"Emissions\",              # Emissions on the y-axis\n",
    "    color=\"Country\",       # Use income group for color differentiation\n",
    "    title=\"GHG Emissions per capita by Income Group (1970-2023)\",\n",
    "    labels={\"Country\": \"Income Group\", \"Emissions\": \"GHG Emissions (tCO2e/cap/yr)\"},  # Axis labels\n",
    "    color_discrete_map={'High income': COLORS[0], 'Upper middle income': COLORS[1],  'Lower middle income':COLORS[2], 'Low income': COLORS[3]},\n",
    "    barmode=\"group\",             # Grouped bars for each year\n",
    "    height = 600,\n",
    "    width = 1350\n",
    ")\n",
    "fig.write_image('./pdf/Chart2.pdf')\n",
    "fig.show()"
   ]
  },
  {
   "cell_type": "markdown",
   "metadata": {},
   "source": [
    "#### KEY TRENDS\n",
    "\n",
    "- Greenhouse gas (GHG) emissions per capita in high-income countries have been steadily declining since the 1970s, potentially due to advancements in clean technologies and stricter environmental policies. This reduction has however slowed down significantly beetween 1985 and 2012\n",
    "\n",
    "- GHG emissions per capita in lower- and middle-income countries have remained relatively stable throughout the period, with only minor fluctuations or gradual increases.\n",
    "\n",
    "- Higher income levels are strongly associated with higher GHG emissions per capita, underscoring the relationship between economic prosperity and environmental impact."
   ]
  },
  {
   "cell_type": "code",
   "execution_count": 90,
   "metadata": {},
   "outputs": [
    {
     "data": {
      "application/vnd.jupyter.widget-view+json": {
       "model_id": "ca2b48a872074c319978921ee013fc77",
       "version_major": 2,
       "version_minor": 0
      },
      "text/plain": [
       "VBox(children=(IntSlider(value=2023, description='Year:', max=2023, min=1970), ToggleButtons(description='Char…"
      ]
     },
     "metadata": {},
     "output_type": "display_data"
    },
    {
     "data": {
      "application/vnd.jupyter.widget-view+json": {
       "model_id": "a69e8e43b2fe4d24aaa99f9ce5d7fda0",
       "version_major": 2,
       "version_minor": 0
      },
      "text/plain": [
       "Output()"
      ]
     },
     "metadata": {},
     "output_type": "display_data"
    },
    {
     "data": {
      "application/vnd.plotly.v1+json": {
       "config": {
        "plotlyServerURL": "https://plot.ly"
       },
       "data": [
        {
         "branchvalues": "total",
         "customdata": [
          [
           "Middle East & North Africa"
          ],
          [
           "East Asia & Pacific"
          ],
          [
           "Europe & Central Asia"
          ],
          [
           "Middle East & North Africa"
          ],
          [
           "Sub-Saharan Africa"
          ],
          [
           "Sub-Saharan Africa"
          ],
          [
           "East Asia & Pacific"
          ],
          [
           "Sub-Saharan Africa"
          ],
          [
           "Sub-Saharan Africa"
          ],
          [
           "Europe & Central Asia"
          ],
          [
           "Sub-Saharan Africa"
          ],
          [
           "Sub-Saharan Africa"
          ],
          [
           "Latin America & Caribbean"
          ],
          [
           "Sub-Saharan Africa"
          ],
          [
           "Europe & Central Asia"
          ],
          [
           "East Asia & Pacific"
          ],
          [
           "East Asia & Pacific"
          ],
          [
           "East Asia & Pacific"
          ],
          [
           "Sub-Saharan Africa"
          ],
          [
           "South Asia"
          ],
          [
           "Sub-Saharan Africa"
          ],
          [
           "Latin America & Caribbean"
          ],
          [
           "East Asia & Pacific"
          ],
          [
           "Latin America & Caribbean"
          ],
          [
           "East Asia & Pacific"
          ],
          [
           "East Asia & Pacific"
          ],
          [
           "East Asia & Pacific"
          ],
          [
           "Europe & Central Asia"
          ],
          [
           "South Asia"
          ],
          [
           "Middle East & North Africa"
          ],
          [
           "Europe & Central Asia"
          ],
          [
           "Europe & Central Asia"
          ],
          [
           "Middle East & North Africa"
          ],
          [
           "Latin America & Caribbean"
          ],
          [
           "Sub-Saharan Africa"
          ],
          [
           "Europe & Central Asia"
          ],
          [
           "Sub-Saharan Africa"
          ],
          [
           "Middle East & North Africa"
          ],
          [
           "Sub-Saharan Africa"
          ],
          [
           "Latin America & Caribbean"
          ],
          [
           "Middle East & North Africa"
          ],
          [
           "Sub-Saharan Africa"
          ],
          [
           "Europe & Central Asia"
          ],
          [
           "East Asia & Pacific"
          ],
          [
           "Europe & Central Asia"
          ],
          [
           "Latin America & Caribbean"
          ],
          [
           "East Asia & Pacific"
          ],
          [
           "International Aviation and Shipping"
          ],
          [
           "Latin America & Caribbean"
          ],
          [
           "East Asia & Pacific"
          ],
          [
           "Sub-Saharan Africa"
          ],
          [
           "Europe & Central Asia"
          ],
          [
           "East Asia & Pacific"
          ],
          [
           "Middle East & North Africa"
          ],
          [
           "Europe & Central Asia"
          ],
          [
           "Sub-Saharan Africa"
          ],
          [
           "Latin America & Caribbean"
          ],
          [
           "Latin America & Caribbean"
          ],
          [
           "East Asia & Pacific"
          ],
          [
           "Europe & Central Asia"
          ],
          [
           "Latin America & Caribbean"
          ],
          [
           "Middle East & North Africa"
          ],
          [
           "Latin America & Caribbean"
          ],
          [
           "Sub-Saharan Africa"
          ],
          [
           "Middle East & North Africa"
          ],
          [
           "Sub-Saharan Africa"
          ],
          [
           "Latin America & Caribbean"
          ],
          [
           "Europe & Central Asia"
          ],
          [
           "Middle East & North Africa"
          ],
          [
           "East Asia & Pacific"
          ],
          [
           "Latin America & Caribbean"
          ],
          [
           "Sub-Saharan Africa"
          ],
          [
           "Sub-Saharan Africa"
          ],
          [
           "Europe & Central Asia"
          ],
          [
           "Europe & Central Asia"
          ],
          [
           "Europe & Central Asia"
          ],
          [
           "South Asia"
          ],
          [
           "Latin America & Caribbean"
          ],
          [
           "North America"
          ],
          [
           "Middle East & North Africa"
          ],
          [
           "Middle East & North Africa"
          ],
          [
           "North America"
          ],
          [
           "Latin America & Caribbean"
          ],
          [
           "Europe & Central Asia"
          ],
          [
           "Sub-Saharan Africa"
          ],
          [
           "Latin America & Caribbean"
          ],
          [
           "Europe & Central Asia"
          ],
          [
           "Europe & Central Asia"
          ],
          [
           "Latin America & Caribbean"
          ],
          [
           "North America"
          ],
          [
           "Latin America & Caribbean"
          ],
          [
           "Europe & Central Asia"
          ],
          [
           "South Asia"
          ],
          [
           "Europe & Central Asia"
          ],
          [
           "Sub-Saharan Africa"
          ],
          [
           "Sub-Saharan Africa"
          ],
          [
           "East Asia & Pacific"
          ],
          [
           "Europe & Central Asia"
          ],
          [
           "East Asia & Pacific"
          ],
          [
           "Middle East & North Africa"
          ],
          [
           "Europe & Central Asia"
          ],
          [
           "South Asia"
          ],
          [
           "Europe & Central Asia"
          ],
          [
           "Latin America & Caribbean"
          ],
          [
           "Latin America & Caribbean"
          ],
          [
           "Europe & Central Asia"
          ],
          [
           "Sub-Saharan Africa"
          ],
          [
           "Latin America & Caribbean"
          ],
          [
           "Latin America & Caribbean"
          ],
          [
           "Sub-Saharan Africa"
          ],
          [
           "Latin America & Caribbean"
          ],
          [
           "Latin America & Caribbean"
          ],
          [
           "Europe & Central Asia"
          ],
          [
           "East Asia & Pacific"
          ],
          [
           "Sub-Saharan Africa"
          ],
          [
           "Latin America & Caribbean"
          ],
          [
           "Sub-Saharan Africa"
          ],
          [
           "Europe & Central Asia"
          ],
          [
           "Europe & Central Asia"
          ],
          [
           "Sub-Saharan Africa"
          ],
          [
           "Latin America & Caribbean"
          ],
          [
           "Latin America & Caribbean"
          ],
          [
           "Europe & Central Asia"
          ],
          [
           "Latin America & Caribbean"
          ],
          [
           "South Asia"
          ],
          [
           "Sub-Saharan Africa"
          ],
          [
           "Latin America & Caribbean"
          ],
          [
           "Europe & Central Asia"
          ],
          [
           "Latin America & Caribbean"
          ],
          [
           "East Asia & Pacific"
          ],
          [
           "Middle East & North Africa"
          ],
          [
           "Sub-Saharan Africa"
          ],
          [
           "Europe & Central Asia"
          ],
          [
           "Sub-Saharan Africa"
          ],
          [
           "Sub-Saharan Africa"
          ],
          [
           "Middle East & North Africa"
          ],
          [
           "Latin America & Caribbean"
          ],
          [
           "Middle East & North Africa"
          ],
          [
           "Latin America & Caribbean"
          ],
          [
           "North America"
          ],
          [
           "Latin America & Caribbean"
          ],
          [
           "Middle East & North Africa"
          ],
          [
           "Sub-Saharan Africa"
          ],
          [
           "East Asia & Pacific"
          ],
          [
           "Sub-Saharan Africa"
          ],
          [
           "International Aviation and Shipping"
          ],
          [
           "Europe & Central Asia"
          ],
          [
           "Europe & Central Asia"
          ],
          [
           "Middle East & North Africa"
          ],
          [
           "Sub-Saharan Africa"
          ],
          [
           "Middle East & North Africa"
          ],
          [
           "Sub-Saharan Africa"
          ],
          [
           "Latin America & Caribbean"
          ],
          [
           "Europe & Central Asia"
          ],
          [
           "East Asia & Pacific"
          ],
          [
           "Europe & Central Asia"
          ],
          [
           "Sub-Saharan Africa"
          ],
          [
           "Sub-Saharan Africa"
          ],
          [
           "Latin America & Caribbean"
          ],
          [
           "South Asia"
          ],
          [
           "East Asia & Pacific"
          ],
          [
           "Latin America & Caribbean"
          ],
          [
           "East Asia & Pacific"
          ],
          [
           "Europe & Central Asia"
          ],
          [
           "Europe & Central Asia"
          ],
          [
           "Europe & Central Asia"
          ],
          [
           "Europe & Central Asia"
          ],
          [
           "Sub-Saharan Africa"
          ],
          [
           "Latin America & Caribbean"
          ],
          [
           "Europe & Central Asia"
          ],
          [
           "Europe & Central Asia"
          ],
          [
           "South Asia"
          ],
          [
           "Middle East & North Africa"
          ],
          [
           "Sub-Saharan Africa"
          ],
          [
           "Middle East & North Africa"
          ],
          [
           "East Asia & Pacific"
          ],
          [
           "Sub-Saharan Africa"
          ],
          [
           "Sub-Saharan Africa"
          ],
          [
           "Europe & Central Asia"
          ],
          [
           "East Asia & Pacific"
          ],
          [
           "Sub-Saharan Africa"
          ],
          [
           "Latin America & Caribbean"
          ],
          [
           "Sub-Saharan Africa"
          ],
          [
           "Latin America & Caribbean"
          ],
          [
           "Europe & Central Asia"
          ],
          [
           "East Asia & Pacific"
          ],
          [
           "Europe & Central Asia"
          ],
          [
           "Sub-Saharan Africa"
          ],
          [
           "East Asia & Pacific"
          ],
          [
           "Europe & Central Asia"
          ],
          [
           "Europe & Central Asia"
          ],
          [
           "Latin America & Caribbean"
          ],
          [
           "Europe & Central Asia"
          ],
          [
           "Latin America & Caribbean"
          ],
          [
           "East Asia & Pacific"
          ],
          [
           "Latin America & Caribbean"
          ],
          [
           "Europe & Central Asia"
          ],
          [
           "Latin America & Caribbean"
          ],
          [
           "Sub-Saharan Africa"
          ],
          [
           "East Asia & Pacific"
          ],
          [
           "Sub-Saharan Africa"
          ],
          [
           "Latin America & Caribbean"
          ],
          [
           "East Asia & Pacific"
          ],
          [
           "Sub-Saharan Africa"
          ],
          [
           "Europe & Central Asia"
          ],
          [
           "Europe & Central Asia"
          ],
          [
           "Sub-Saharan Africa"
          ],
          [
           "East Asia & Pacific"
          ],
          [
           "East Asia & Pacific"
          ],
          [
           "Sub-Saharan Africa"
          ],
          [
           "East Asia & Pacific"
          ],
          [
           "Europe & Central Asia"
          ],
          [
           "International Aviation and Shipping"
          ],
          [
           "Latin America & Caribbean"
          ],
          [
           "Middle East & North Africa"
          ],
          [
           "North America"
          ],
          [
           "South Asia"
          ],
          [
           "Sub-Saharan Africa"
          ],
          [
           "(?)"
          ]
         ],
         "domain": {
          "x": [
           0,
           1
          ],
          "y": [
           0,
           1
          ]
         },
         "hovertemplate": "labels=%{label}<br>2023=%{value}<br>parent=%{parent}<br>id=%{id}<br>Region=%{customdata[0]}<extra></extra>",
         "ids": [
          "Global Total/Middle East & North Africa/Kuwait",
          "Global Total/East Asia & Pacific/Timor-Leste",
          "Global Total/Europe & Central Asia/Poland",
          "Global Total/Middle East & North Africa/Morocco",
          "Global Total/Sub-Saharan Africa/Burkina Faso",
          "Global Total/Sub-Saharan Africa/Mozambique",
          "Global Total/East Asia & Pacific/New Zealand",
          "Global Total/Sub-Saharan Africa/Niger",
          "Global Total/Sub-Saharan Africa/Central African Republic",
          "Global Total/Europe & Central Asia/Slovakia",
          "Global Total/Sub-Saharan Africa/Sierra Leone",
          "Global Total/Sub-Saharan Africa/Comoros",
          "Global Total/Latin America & Caribbean/Falkland Islands",
          "Global Total/Sub-Saharan Africa/Réunion",
          "Global Total/Europe & Central Asia/Romania",
          "Global Total/East Asia & Pacific/Japan",
          "Global Total/East Asia & Pacific/Palau",
          "Global Total/East Asia & Pacific/Philippines",
          "Global Total/Sub-Saharan Africa/Togo",
          "Global Total/South Asia/Maldives",
          "Global Total/Sub-Saharan Africa/Tanzania",
          "Global Total/Latin America & Caribbean/Haiti",
          "Global Total/East Asia & Pacific/Viet Nam",
          "Global Total/Latin America & Caribbean/Venezuela",
          "Global Total/East Asia & Pacific/Vanuatu",
          "Global Total/East Asia & Pacific/Kiribati",
          "Global Total/East Asia & Pacific/Laos",
          "Global Total/Europe & Central Asia/Azerbaijan",
          "Global Total/South Asia/India",
          "Global Total/Middle East & North Africa/Lebanon",
          "Global Total/Europe & Central Asia/Portugal",
          "Global Total/Europe & Central Asia/Turkmenistan",
          "Global Total/Middle East & North Africa/Malta",
          "Global Total/Latin America & Caribbean/Guatemala",
          "Global Total/Sub-Saharan Africa/Eritrea",
          "Global Total/Europe & Central Asia/Estonia",
          "Global Total/Sub-Saharan Africa/Kenya",
          "Global Total/Middle East & North Africa/Oman",
          "Global Total/Sub-Saharan Africa/Ethiopia",
          "Global Total/Latin America & Caribbean/Grenada",
          "Global Total/Middle East & North Africa/Israel and Palestine, State of",
          "Global Total/Sub-Saharan Africa/Madagascar",
          "Global Total/Europe & Central Asia/Iceland",
          "Global Total/East Asia & Pacific/Fiji",
          "Global Total/Europe & Central Asia/Finland",
          "Global Total/Latin America & Caribbean/Mexico",
          "Global Total/East Asia & Pacific/Malaysia",
          "Global Total/International Aviation and Shipping/International Aviation",
          "Global Total/Latin America & Caribbean/French Guiana",
          "Global Total/East Asia & Pacific/French Polynesia",
          "Global Total/Sub-Saharan Africa/Malawi",
          "Global Total/Europe & Central Asia/Georgia",
          "Global Total/East Asia & Pacific/Hong Kong",
          "Global Total/Middle East & North Africa/Iraq",
          "Global Total/Europe & Central Asia/Norway",
          "Global Total/Sub-Saharan Africa/Côte d’Ivoire",
          "Global Total/Latin America & Caribbean/Puerto Rico",
          "Global Total/Latin America & Caribbean/Antigua and Barbuda",
          "Global Total/East Asia & Pacific/Australia",
          "Global Total/Europe & Central Asia/United Kingdom",
          "Global Total/Latin America & Caribbean/Bahamas",
          "Global Total/Middle East & North Africa/Bahrain",
          "Global Total/Latin America & Caribbean/Barbados",
          "Global Total/Sub-Saharan Africa/Uganda",
          "Global Total/Middle East & North Africa/Tunisia",
          "Global Total/Sub-Saharan Africa/Benin",
          "Global Total/Latin America & Caribbean/Bolivia",
          "Global Total/Europe & Central Asia/Bosnia and Herzegovina",
          "Global Total/Middle East & North Africa/Djibouti",
          "Global Total/East Asia & Pacific/Thailand",
          "Global Total/Latin America & Caribbean/Suriname",
          "Global Total/Sub-Saharan Africa/Sudan and South Sudan",
          "Global Total/Sub-Saharan Africa/The Gambia",
          "Global Total/Europe & Central Asia/Russia",
          "Global Total/Europe & Central Asia/Czechia",
          "Global Total/Europe & Central Asia/Cyprus",
          "Global Total/South Asia/Sri Lanka",
          "Global Total/Latin America & Caribbean/Saint Lucia",
          "Global Total/North America/Saint Pierre and Miquelon",
          "Global Total/Middle East & North Africa/Saudi Arabia",
          "Global Total/Middle East & North Africa/Jordan",
          "Global Total/North America/Canada",
          "Global Total/Latin America & Caribbean/Anguilla",
          "Global Total/Europe & Central Asia/Serbia and Montenegro",
          "Global Total/Sub-Saharan Africa/Mauritius",
          "Global Total/Latin America & Caribbean/Peru",
          "Global Total/Europe & Central Asia/Uzbekistan",
          "Global Total/Europe & Central Asia/Kyrgyzstan",
          "Global Total/Latin America & Caribbean/Uruguay",
          "Global Total/North America/United States",
          "Global Total/Latin America & Caribbean/Paraguay",
          "Global Total/Europe & Central Asia/Lithuania",
          "Global Total/South Asia/Nepal",
          "Global Total/Europe & Central Asia/Ukraine",
          "Global Total/Sub-Saharan Africa/São Tomé and Príncipe",
          "Global Total/Sub-Saharan Africa/Rwanda",
          "Global Total/East Asia & Pacific/Solomon Islands",
          "Global Total/Europe & Central Asia/North Macedonia",
          "Global Total/East Asia & Pacific/Tonga",
          "Global Total/Middle East & North Africa/Qatar",
          "Global Total/Europe & Central Asia/Spain and Andorra",
          "Global Total/South Asia/Afghanistan",
          "Global Total/Europe & Central Asia/Croatia",
          "Global Total/Latin America & Caribbean/Ecuador",
          "Global Total/Latin America & Caribbean/Dominica",
          "Global Total/Europe & Central Asia/Denmark",
          "Global Total/Sub-Saharan Africa/Ghana",
          "Global Total/Latin America & Caribbean/Curaçao",
          "Global Total/Latin America & Caribbean/Cuba",
          "Global Total/Sub-Saharan Africa/Congo",
          "Global Total/Latin America & Caribbean/Cayman Islands",
          "Global Total/Latin America & Caribbean/Guadeloupe",
          "Global Total/Europe & Central Asia/Bulgaria",
          "Global Total/East Asia & Pacific/Brunei",
          "Global Total/Sub-Saharan Africa/Guinea-Bissau",
          "Global Total/Latin America & Caribbean/Guyana",
          "Global Total/Sub-Saharan Africa/Guinea",
          "Global Total/Europe & Central Asia/Hungary",
          "Global Total/Europe & Central Asia/Italy, San Marino and the Holy See",
          "Global Total/Sub-Saharan Africa/Angola",
          "Global Total/Latin America & Caribbean/Argentina",
          "Global Total/Latin America & Caribbean/Honduras",
          "Global Total/Europe & Central Asia/Austria",
          "Global Total/Latin America & Caribbean/Aruba",
          "Global Total/South Asia/Bhutan",
          "Global Total/Sub-Saharan Africa/Botswana",
          "Global Total/Latin America & Caribbean/British Virgin Islands",
          "Global Total/Europe & Central Asia/Faroes",
          "Global Total/Latin America & Caribbean/Trinidad and Tobago",
          "Global Total/East Asia & Pacific/Samoa",
          "Global Total/Middle East & North Africa/Syria",
          "Global Total/Sub-Saharan Africa/Saint Helena, Ascension and Tristan da Cunha",
          "Global Total/Europe & Central Asia/Armenia",
          "Global Total/Sub-Saharan Africa/Democratic Republic of the Congo",
          "Global Total/Sub-Saharan Africa/Equatorial Guinea",
          "Global Total/Middle East & North Africa/Western Sahara",
          "Global Total/Latin America & Caribbean/Dominican Republic",
          "Global Total/Middle East & North Africa/Egypt",
          "Global Total/Latin America & Caribbean/Panama",
          "Global Total/North America/Bermuda",
          "Global Total/Latin America & Caribbean/Jamaica",
          "Global Total/Middle East & North Africa/Libya",
          "Global Total/Sub-Saharan Africa/Mali",
          "Global Total/East Asia & Pacific/Mongolia",
          "Global Total/Sub-Saharan Africa/Lesotho",
          "Global Total/International Aviation and Shipping/International Shipping",
          "Global Total/Europe & Central Asia/Latvia",
          "Global Total/Europe & Central Asia/Ireland",
          "Global Total/Middle East & North Africa/Iran",
          "Global Total/Sub-Saharan Africa/Cameroon",
          "Global Total/Middle East & North Africa/United Arab Emirates",
          "Global Total/Sub-Saharan Africa/South Africa",
          "Global Total/Latin America & Caribbean/Brazil",
          "Global Total/Europe & Central Asia/Albania",
          "Global Total/East Asia & Pacific/Papua New Guinea",
          "Global Total/Europe & Central Asia/Luxembourg",
          "Global Total/Sub-Saharan Africa/Mauritania",
          "Global Total/Sub-Saharan Africa/Burundi",
          "Global Total/Latin America & Caribbean/Belize",
          "Global Total/South Asia/Pakistan",
          "Global Total/East Asia & Pacific/Indonesia",
          "Global Total/Latin America & Caribbean/Martinique",
          "Global Total/East Asia & Pacific/Taiwan",
          "Global Total/Europe & Central Asia/Tajikistan",
          "Global Total/Europe & Central Asia/Sweden",
          "Global Total/Europe & Central Asia/Switzerland and Liechtenstein",
          "Global Total/Europe & Central Asia/Belgium",
          "Global Total/Sub-Saharan Africa/Liberia",
          "Global Total/Latin America & Caribbean/Turks and Caicos Islands",
          "Global Total/Europe & Central Asia/Türkiye",
          "Global Total/Europe & Central Asia/Belarus",
          "Global Total/South Asia/Bangladesh",
          "Global Total/Middle East & North Africa/Algeria",
          "Global Total/Sub-Saharan Africa/Zambia",
          "Global Total/Middle East & North Africa/Yemen",
          "Global Total/East Asia & Pacific/Macao",
          "Global Total/Sub-Saharan Africa/Cabo Verde",
          "Global Total/Sub-Saharan Africa/Eswatini",
          "Global Total/Europe & Central Asia/France and Monaco",
          "Global Total/East Asia & Pacific/North Korea",
          "Global Total/Sub-Saharan Africa/Nigeria",
          "Global Total/Latin America & Caribbean/El Salvador",
          "Global Total/Sub-Saharan Africa/Gabon",
          "Global Total/Latin America & Caribbean/Nicaragua",
          "Global Total/Europe & Central Asia/Germany",
          "Global Total/East Asia & Pacific/New Caledonia",
          "Global Total/Europe & Central Asia/Netherlands",
          "Global Total/Sub-Saharan Africa/Namibia",
          "Global Total/East Asia & Pacific/Myanmar/Burma",
          "Global Total/Europe & Central Asia/Gibraltar",
          "Global Total/Europe & Central Asia/Kazakhstan",
          "Global Total/Latin America & Caribbean/Costa Rica",
          "Global Total/Europe & Central Asia/Greece",
          "Global Total/Latin America & Caribbean/Saint Kitts and Nevis",
          "Global Total/East Asia & Pacific/Cook Islands",
          "Global Total/Latin America & Caribbean/Saint Vincent and the Grenadines",
          "Global Total/Europe & Central Asia/Moldova",
          "Global Total/Latin America & Caribbean/Colombia",
          "Global Total/Sub-Saharan Africa/Senegal",
          "Global Total/East Asia & Pacific/China",
          "Global Total/Sub-Saharan Africa/Seychelles",
          "Global Total/Latin America & Caribbean/Chile",
          "Global Total/East Asia & Pacific/Singapore",
          "Global Total/Sub-Saharan Africa/Chad",
          "Global Total/Europe & Central Asia/Slovenia",
          "Global Total/Europe & Central Asia/Greenland",
          "Global Total/Sub-Saharan Africa/Somalia",
          "Global Total/East Asia & Pacific/South Korea",
          "Global Total/East Asia & Pacific/Cambodia",
          "Global Total/Sub-Saharan Africa/Zimbabwe",
          "Global Total/East Asia & Pacific",
          "Global Total/Europe & Central Asia",
          "Global Total/International Aviation and Shipping",
          "Global Total/Latin America & Caribbean",
          "Global Total/Middle East & North Africa",
          "Global Total/North America",
          "Global Total/South Asia",
          "Global Total/Sub-Saharan Africa",
          "Global Total"
         ],
         "labels": [
          "Kuwait",
          "Timor-Leste",
          "Poland",
          "Morocco",
          "Burkina Faso",
          "Mozambique",
          "New Zealand",
          "Niger",
          "Central African Republic",
          "Slovakia",
          "Sierra Leone",
          "Comoros",
          "Falkland Islands",
          "Réunion",
          "Romania",
          "Japan",
          "Palau",
          "Philippines",
          "Togo",
          "Maldives",
          "Tanzania",
          "Haiti",
          "Viet Nam",
          "Venezuela",
          "Vanuatu",
          "Kiribati",
          "Laos",
          "Azerbaijan",
          "India",
          "Lebanon",
          "Portugal",
          "Turkmenistan",
          "Malta",
          "Guatemala",
          "Eritrea",
          "Estonia",
          "Kenya",
          "Oman",
          "Ethiopia",
          "Grenada",
          "Israel and Palestine, State of",
          "Madagascar",
          "Iceland",
          "Fiji",
          "Finland",
          "Mexico",
          "Malaysia",
          "International Aviation",
          "French Guiana",
          "French Polynesia",
          "Malawi",
          "Georgia",
          "Hong Kong",
          "Iraq",
          "Norway",
          "Côte d’Ivoire",
          "Puerto Rico",
          "Antigua and Barbuda",
          "Australia",
          "United Kingdom",
          "Bahamas",
          "Bahrain",
          "Barbados",
          "Uganda",
          "Tunisia",
          "Benin",
          "Bolivia",
          "Bosnia and Herzegovina",
          "Djibouti",
          "Thailand",
          "Suriname",
          "Sudan and South Sudan",
          "The Gambia",
          "Russia",
          "Czechia",
          "Cyprus",
          "Sri Lanka",
          "Saint Lucia",
          "Saint Pierre and Miquelon",
          "Saudi Arabia",
          "Jordan",
          "Canada",
          "Anguilla",
          "Serbia and Montenegro",
          "Mauritius",
          "Peru",
          "Uzbekistan",
          "Kyrgyzstan",
          "Uruguay",
          "United States",
          "Paraguay",
          "Lithuania",
          "Nepal",
          "Ukraine",
          "São Tomé and Príncipe",
          "Rwanda",
          "Solomon Islands",
          "North Macedonia",
          "Tonga",
          "Qatar",
          "Spain and Andorra",
          "Afghanistan",
          "Croatia",
          "Ecuador",
          "Dominica",
          "Denmark",
          "Ghana",
          "Curaçao",
          "Cuba",
          "Congo",
          "Cayman Islands",
          "Guadeloupe",
          "Bulgaria",
          "Brunei",
          "Guinea-Bissau",
          "Guyana",
          "Guinea",
          "Hungary",
          "Italy, San Marino and the Holy See",
          "Angola",
          "Argentina",
          "Honduras",
          "Austria",
          "Aruba",
          "Bhutan",
          "Botswana",
          "British Virgin Islands",
          "Faroes",
          "Trinidad and Tobago",
          "Samoa",
          "Syria",
          "Saint Helena, Ascension and Tristan da Cunha",
          "Armenia",
          "Democratic Republic of the Congo",
          "Equatorial Guinea",
          "Western Sahara",
          "Dominican Republic",
          "Egypt",
          "Panama",
          "Bermuda",
          "Jamaica",
          "Libya",
          "Mali",
          "Mongolia",
          "Lesotho",
          "International Shipping",
          "Latvia",
          "Ireland",
          "Iran",
          "Cameroon",
          "United Arab Emirates",
          "South Africa",
          "Brazil",
          "Albania",
          "Papua New Guinea",
          "Luxembourg",
          "Mauritania",
          "Burundi",
          "Belize",
          "Pakistan",
          "Indonesia",
          "Martinique",
          "Taiwan",
          "Tajikistan",
          "Sweden",
          "Switzerland and Liechtenstein",
          "Belgium",
          "Liberia",
          "Turks and Caicos Islands",
          "Türkiye",
          "Belarus",
          "Bangladesh",
          "Algeria",
          "Zambia",
          "Yemen",
          "Macao",
          "Cabo Verde",
          "Eswatini",
          "France and Monaco",
          "North Korea",
          "Nigeria",
          "El Salvador",
          "Gabon",
          "Nicaragua",
          "Germany",
          "New Caledonia",
          "Netherlands",
          "Namibia",
          "Myanmar/Burma",
          "Gibraltar",
          "Kazakhstan",
          "Costa Rica",
          "Greece",
          "Saint Kitts and Nevis",
          "Cook Islands",
          "Saint Vincent and the Grenadines",
          "Moldova",
          "Colombia",
          "Senegal",
          "China",
          "Seychelles",
          "Chile",
          "Singapore",
          "Chad",
          "Slovenia",
          "Greenland",
          "Somalia",
          "South Korea",
          "Cambodia",
          "Zimbabwe",
          "East Asia & Pacific",
          "Europe & Central Asia",
          "International Aviation and Shipping",
          "Latin America & Caribbean",
          "Middle East & North Africa",
          "North America",
          "South Asia",
          "Sub-Saharan Africa",
          "Global Total"
         ],
         "marker": {
          "colors": [
           "#00B1EA",
           "#003299",
           "#FFB400",
           "#00B1EA",
           "#077C1D",
           "#077C1D",
           "#003299",
           "#077C1D",
           "#077C1D",
           "#FFB400",
           "#077C1D",
           "#077C1D",
           "#8139C6",
           "#077C1D",
           "#FFB400",
           "#003299",
           "#003299",
           "#003299",
           "#077C1D",
           "#65B800",
           "#077C1D",
           "#8139C6",
           "#003299",
           "#8139C6",
           "#003299",
           "#003299",
           "#003299",
           "#FFB400",
           "#65B800",
           "#00B1EA",
           "#FFB400",
           "#FFB400",
           "#00B1EA",
           "#8139C6",
           "#077C1D",
           "#FFB400",
           "#077C1D",
           "#00B1EA",
           "#077C1D",
           "#8139C6",
           "#00B1EA",
           "#077C1D",
           "#FFB400",
           "#003299",
           "#FFB400",
           "#8139C6",
           "#003299",
           "#FF97FF",
           "#8139C6",
           "#003299",
           "#077C1D",
           "#FFB400",
           "#003299",
           "#00B1EA",
           "#FFB400",
           "#077C1D",
           "#8139C6",
           "#8139C6",
           "#003299",
           "#FFB400",
           "#8139C6",
           "#00B1EA",
           "#8139C6",
           "#077C1D",
           "#00B1EA",
           "#077C1D",
           "#8139C6",
           "#FFB400",
           "#00B1EA",
           "#003299",
           "#8139C6",
           "#077C1D",
           "#077C1D",
           "#FFB400",
           "#FFB400",
           "#FFB400",
           "#65B800",
           "#8139C6",
           "#FF4B00",
           "#00B1EA",
           "#00B1EA",
           "#FF4B00",
           "#8139C6",
           "#FFB400",
           "#077C1D",
           "#8139C6",
           "#FFB400",
           "#FFB400",
           "#8139C6",
           "#FF4B00",
           "#8139C6",
           "#FFB400",
           "#65B800",
           "#FFB400",
           "#077C1D",
           "#077C1D",
           "#003299",
           "#FFB400",
           "#003299",
           "#00B1EA",
           "#FFB400",
           "#65B800",
           "#FFB400",
           "#8139C6",
           "#8139C6",
           "#FFB400",
           "#077C1D",
           "#8139C6",
           "#8139C6",
           "#077C1D",
           "#8139C6",
           "#8139C6",
           "#FFB400",
           "#003299",
           "#077C1D",
           "#8139C6",
           "#077C1D",
           "#FFB400",
           "#FFB400",
           "#077C1D",
           "#8139C6",
           "#8139C6",
           "#FFB400",
           "#8139C6",
           "#65B800",
           "#077C1D",
           "#8139C6",
           "#FFB400",
           "#8139C6",
           "#003299",
           "#00B1EA",
           "#077C1D",
           "#FFB400",
           "#077C1D",
           "#077C1D",
           "#00B1EA",
           "#8139C6",
           "#00B1EA",
           "#8139C6",
           "#FF4B00",
           "#8139C6",
           "#00B1EA",
           "#077C1D",
           "#003299",
           "#077C1D",
           "#FF97FF",
           "#FFB400",
           "#FFB400",
           "#00B1EA",
           "#077C1D",
           "#00B1EA",
           "#077C1D",
           "#8139C6",
           "#FFB400",
           "#003299",
           "#FFB400",
           "#077C1D",
           "#077C1D",
           "#8139C6",
           "#65B800",
           "#003299",
           "#8139C6",
           "#003299",
           "#FFB400",
           "#FFB400",
           "#FFB400",
           "#FFB400",
           "#077C1D",
           "#8139C6",
           "#FFB400",
           "#FFB400",
           "#65B800",
           "#00B1EA",
           "#077C1D",
           "#00B1EA",
           "#003299",
           "#077C1D",
           "#077C1D",
           "#FFB400",
           "#003299",
           "#077C1D",
           "#8139C6",
           "#077C1D",
           "#8139C6",
           "#FFB400",
           "#003299",
           "#FFB400",
           "#077C1D",
           "#003299",
           "#FFB400",
           "#FFB400",
           "#8139C6",
           "#FFB400",
           "#8139C6",
           "#003299",
           "#8139C6",
           "#FFB400",
           "#8139C6",
           "#077C1D",
           "#003299",
           "#077C1D",
           "#8139C6",
           "#003299",
           "#077C1D",
           "#FFB400",
           "#FFB400",
           "#077C1D",
           "#003299",
           "#003299",
           "#077C1D",
           "#003299",
           "#FFB400",
           "#FF97FF",
           "#8139C6",
           "#00B1EA",
           "#FF4B00",
           "#65B800",
           "#077C1D",
           "lightgrey"
          ]
         },
         "name": "",
         "parents": [
          "Global Total/Middle East & North Africa",
          "Global Total/East Asia & Pacific",
          "Global Total/Europe & Central Asia",
          "Global Total/Middle East & North Africa",
          "Global Total/Sub-Saharan Africa",
          "Global Total/Sub-Saharan Africa",
          "Global Total/East Asia & Pacific",
          "Global Total/Sub-Saharan Africa",
          "Global Total/Sub-Saharan Africa",
          "Global Total/Europe & Central Asia",
          "Global Total/Sub-Saharan Africa",
          "Global Total/Sub-Saharan Africa",
          "Global Total/Latin America & Caribbean",
          "Global Total/Sub-Saharan Africa",
          "Global Total/Europe & Central Asia",
          "Global Total/East Asia & Pacific",
          "Global Total/East Asia & Pacific",
          "Global Total/East Asia & Pacific",
          "Global Total/Sub-Saharan Africa",
          "Global Total/South Asia",
          "Global Total/Sub-Saharan Africa",
          "Global Total/Latin America & Caribbean",
          "Global Total/East Asia & Pacific",
          "Global Total/Latin America & Caribbean",
          "Global Total/East Asia & Pacific",
          "Global Total/East Asia & Pacific",
          "Global Total/East Asia & Pacific",
          "Global Total/Europe & Central Asia",
          "Global Total/South Asia",
          "Global Total/Middle East & North Africa",
          "Global Total/Europe & Central Asia",
          "Global Total/Europe & Central Asia",
          "Global Total/Middle East & North Africa",
          "Global Total/Latin America & Caribbean",
          "Global Total/Sub-Saharan Africa",
          "Global Total/Europe & Central Asia",
          "Global Total/Sub-Saharan Africa",
          "Global Total/Middle East & North Africa",
          "Global Total/Sub-Saharan Africa",
          "Global Total/Latin America & Caribbean",
          "Global Total/Middle East & North Africa",
          "Global Total/Sub-Saharan Africa",
          "Global Total/Europe & Central Asia",
          "Global Total/East Asia & Pacific",
          "Global Total/Europe & Central Asia",
          "Global Total/Latin America & Caribbean",
          "Global Total/East Asia & Pacific",
          "Global Total/International Aviation and Shipping",
          "Global Total/Latin America & Caribbean",
          "Global Total/East Asia & Pacific",
          "Global Total/Sub-Saharan Africa",
          "Global Total/Europe & Central Asia",
          "Global Total/East Asia & Pacific",
          "Global Total/Middle East & North Africa",
          "Global Total/Europe & Central Asia",
          "Global Total/Sub-Saharan Africa",
          "Global Total/Latin America & Caribbean",
          "Global Total/Latin America & Caribbean",
          "Global Total/East Asia & Pacific",
          "Global Total/Europe & Central Asia",
          "Global Total/Latin America & Caribbean",
          "Global Total/Middle East & North Africa",
          "Global Total/Latin America & Caribbean",
          "Global Total/Sub-Saharan Africa",
          "Global Total/Middle East & North Africa",
          "Global Total/Sub-Saharan Africa",
          "Global Total/Latin America & Caribbean",
          "Global Total/Europe & Central Asia",
          "Global Total/Middle East & North Africa",
          "Global Total/East Asia & Pacific",
          "Global Total/Latin America & Caribbean",
          "Global Total/Sub-Saharan Africa",
          "Global Total/Sub-Saharan Africa",
          "Global Total/Europe & Central Asia",
          "Global Total/Europe & Central Asia",
          "Global Total/Europe & Central Asia",
          "Global Total/South Asia",
          "Global Total/Latin America & Caribbean",
          "Global Total/North America",
          "Global Total/Middle East & North Africa",
          "Global Total/Middle East & North Africa",
          "Global Total/North America",
          "Global Total/Latin America & Caribbean",
          "Global Total/Europe & Central Asia",
          "Global Total/Sub-Saharan Africa",
          "Global Total/Latin America & Caribbean",
          "Global Total/Europe & Central Asia",
          "Global Total/Europe & Central Asia",
          "Global Total/Latin America & Caribbean",
          "Global Total/North America",
          "Global Total/Latin America & Caribbean",
          "Global Total/Europe & Central Asia",
          "Global Total/South Asia",
          "Global Total/Europe & Central Asia",
          "Global Total/Sub-Saharan Africa",
          "Global Total/Sub-Saharan Africa",
          "Global Total/East Asia & Pacific",
          "Global Total/Europe & Central Asia",
          "Global Total/East Asia & Pacific",
          "Global Total/Middle East & North Africa",
          "Global Total/Europe & Central Asia",
          "Global Total/South Asia",
          "Global Total/Europe & Central Asia",
          "Global Total/Latin America & Caribbean",
          "Global Total/Latin America & Caribbean",
          "Global Total/Europe & Central Asia",
          "Global Total/Sub-Saharan Africa",
          "Global Total/Latin America & Caribbean",
          "Global Total/Latin America & Caribbean",
          "Global Total/Sub-Saharan Africa",
          "Global Total/Latin America & Caribbean",
          "Global Total/Latin America & Caribbean",
          "Global Total/Europe & Central Asia",
          "Global Total/East Asia & Pacific",
          "Global Total/Sub-Saharan Africa",
          "Global Total/Latin America & Caribbean",
          "Global Total/Sub-Saharan Africa",
          "Global Total/Europe & Central Asia",
          "Global Total/Europe & Central Asia",
          "Global Total/Sub-Saharan Africa",
          "Global Total/Latin America & Caribbean",
          "Global Total/Latin America & Caribbean",
          "Global Total/Europe & Central Asia",
          "Global Total/Latin America & Caribbean",
          "Global Total/South Asia",
          "Global Total/Sub-Saharan Africa",
          "Global Total/Latin America & Caribbean",
          "Global Total/Europe & Central Asia",
          "Global Total/Latin America & Caribbean",
          "Global Total/East Asia & Pacific",
          "Global Total/Middle East & North Africa",
          "Global Total/Sub-Saharan Africa",
          "Global Total/Europe & Central Asia",
          "Global Total/Sub-Saharan Africa",
          "Global Total/Sub-Saharan Africa",
          "Global Total/Middle East & North Africa",
          "Global Total/Latin America & Caribbean",
          "Global Total/Middle East & North Africa",
          "Global Total/Latin America & Caribbean",
          "Global Total/North America",
          "Global Total/Latin America & Caribbean",
          "Global Total/Middle East & North Africa",
          "Global Total/Sub-Saharan Africa",
          "Global Total/East Asia & Pacific",
          "Global Total/Sub-Saharan Africa",
          "Global Total/International Aviation and Shipping",
          "Global Total/Europe & Central Asia",
          "Global Total/Europe & Central Asia",
          "Global Total/Middle East & North Africa",
          "Global Total/Sub-Saharan Africa",
          "Global Total/Middle East & North Africa",
          "Global Total/Sub-Saharan Africa",
          "Global Total/Latin America & Caribbean",
          "Global Total/Europe & Central Asia",
          "Global Total/East Asia & Pacific",
          "Global Total/Europe & Central Asia",
          "Global Total/Sub-Saharan Africa",
          "Global Total/Sub-Saharan Africa",
          "Global Total/Latin America & Caribbean",
          "Global Total/South Asia",
          "Global Total/East Asia & Pacific",
          "Global Total/Latin America & Caribbean",
          "Global Total/East Asia & Pacific",
          "Global Total/Europe & Central Asia",
          "Global Total/Europe & Central Asia",
          "Global Total/Europe & Central Asia",
          "Global Total/Europe & Central Asia",
          "Global Total/Sub-Saharan Africa",
          "Global Total/Latin America & Caribbean",
          "Global Total/Europe & Central Asia",
          "Global Total/Europe & Central Asia",
          "Global Total/South Asia",
          "Global Total/Middle East & North Africa",
          "Global Total/Sub-Saharan Africa",
          "Global Total/Middle East & North Africa",
          "Global Total/East Asia & Pacific",
          "Global Total/Sub-Saharan Africa",
          "Global Total/Sub-Saharan Africa",
          "Global Total/Europe & Central Asia",
          "Global Total/East Asia & Pacific",
          "Global Total/Sub-Saharan Africa",
          "Global Total/Latin America & Caribbean",
          "Global Total/Sub-Saharan Africa",
          "Global Total/Latin America & Caribbean",
          "Global Total/Europe & Central Asia",
          "Global Total/East Asia & Pacific",
          "Global Total/Europe & Central Asia",
          "Global Total/Sub-Saharan Africa",
          "Global Total/East Asia & Pacific",
          "Global Total/Europe & Central Asia",
          "Global Total/Europe & Central Asia",
          "Global Total/Latin America & Caribbean",
          "Global Total/Europe & Central Asia",
          "Global Total/Latin America & Caribbean",
          "Global Total/East Asia & Pacific",
          "Global Total/Latin America & Caribbean",
          "Global Total/Europe & Central Asia",
          "Global Total/Latin America & Caribbean",
          "Global Total/Sub-Saharan Africa",
          "Global Total/East Asia & Pacific",
          "Global Total/Sub-Saharan Africa",
          "Global Total/Latin America & Caribbean",
          "Global Total/East Asia & Pacific",
          "Global Total/Sub-Saharan Africa",
          "Global Total/Europe & Central Asia",
          "Global Total/Europe & Central Asia",
          "Global Total/Sub-Saharan Africa",
          "Global Total/East Asia & Pacific",
          "Global Total/East Asia & Pacific",
          "Global Total/Sub-Saharan Africa",
          "Global Total",
          "Global Total",
          "Global Total",
          "Global Total",
          "Global Total",
          "Global Total",
          "Global Total",
          "Global Total",
          ""
         ],
         "root": {
          "color": "lightgrey"
         },
         "type": "treemap",
         "values": [
          167.91576883104,
          2.0071829501919,
          363.79425000758,
          106.60223103187,
          34.456815083211,
          33.953984042408,
          84.209811532415,
          42.334092053639,
          12.502621395351,
          44.775610890682,
          6.9377160598998,
          0.76176779618891,
          0.17239134049142,
          2.9206981620469,
          105.85240058122,
          1041.0128248687,
          1.5016528321032,
          256.14715481705,
          10.612911987181,
          3.0879519663505,
          89.815439405641,
          13.656955798463,
          524.13346380418,
          152.38992311311,
          0.67021230161327,
          0.13017626101136,
          42.056212706049,
          62.550294041306,
          4133.5543557465,
          24.672324496902,
          53.004607295263,
          98.79411982866,
          2.0338652584277,
          43.981074467992,
          6.4018203690061,
          14.363974872585,
          107.97690921511,
          127.44302070563,
          170.03385065137,
          0.20040725685748,
          79.578174881426,
          33.150776404127,
          4.171936013462,
          3.4009927758626,
          43.45353679725,
          712.10209803987,
          325.40584765842,
          498.17811441525,
          0.57338749677229,
          1.3745553234525,
          19.714051394182,
          19.049153820466,
          40.16776057819,
          362.78479656291,
          56.717099715738,
          32.184005493065,
          16.063991058379,
          0.38855617147726,
          571.83984854671,
          379.31858785213,
          2.0502828926945,
          63.733860649409,
          0.98904380539195,
          53.370989410157,
          43.578530969544,
          16.699491601107,
          55.185652756247,
          29.397991348246,
          2.1324079847022,
          440.78301465571,
          3.7377177696646,
          138.74157453584,
          1.8888012914382,
          2672.0394366031,
          114.43841612936,
          10.324656394181,
          38.403849844142,
          0.45126691251345,
          0.046573728277142,
          805.15810845823,
          33.407709056244,
          747.67802680902,
          0.026210752219878,
          67.214992478558,
          6.1987377637869,
          94.048681371836,
          214.53138443861,
          21.698229839443,
          41.634111747759,
          5960.8043799939,
          41.6245592458,
          20.683656998446,
          56.830982733611,
          216.09280539526,
          0.30345441468402,
          7.4932661090211,
          0.7208177463664,
          11.370029305485,
          0.34210672521812,
          154.38356524031,
          285.38389989719,
          29.460052109846,
          25.013482276387,
          73.604607615068,
          0.14691940907449,
          41.831473036828,
          48.265926450338,
          2.5321443120251,
          39.400331633766,
          23.702014388194,
          0.39013759296906,
          1.4622285867384,
          53.372279020841,
          12.157942508343,
          2.9974771167324,
          8.190988601015,
          28.634657504101,
          60.92677185673,
          374.12419472876,
          67.700756247715,
          365.68461861929,
          22.920141542444,
          72.921492529812,
          0.56149760455405,
          3.2548573740653,
          12.712755146957,
          0.09106902611319,
          0.050700306537543,
          34.187024015247,
          0.64614359538246,
          41.21058254401,
          0.021271020996457,
          10.836336950669,
          56.105911645373,
          6.9820980789903,
          0.68479507293985,
          48.396213040658,
          335.96804878176,
          21.281689073781,
          0.37883791454079,
          8.1629239257775,
          95.929766915197,
          45.4630975003,
          83.704559899687,
          2.6019212840001,
          746.94368210501,
          10.957491923456,
          57.853266947361,
          996.7526808229,
          39.377188823331,
          267.82319378586,
          522.11549112331,
          1300.1688666752,
          7.6736715330197,
          9.6409981982956,
          7.8609330392057,
          16.509274363264,
          7.0491399156994,
          0.92034733748831,
          532.37448361892,
          1200.1997867973,
          1.2184203684901,
          308.00043191949,
          21.438119694098,
          49.118373633418,
          43.446393813877,
          106.37018790875,
          4.5323879353986,
          0.11025472286272,
          606.42985584791,
          84.277601484293,
          281.38053496815,
          256.79213126858,
          30.484449374284,
          32.242871779425,
          3.1190096511524,
          1.2315183876125,
          3.2895503749739,
          385.52011950564,
          90.148479942173,
          385.11288377147,
          13.051313657078,
          21.402080428809,
          20.628271187746,
          681.81032815187,
          6.6142165933615,
          150.74579824257,
          12.885675050293,
          115.07725289766,
          0.71237260220074,
          320.34998496393,
          16.468143919331,
          69.266029551595,
          0.17447409234332,
          0.1543181744716,
          0.15077509193013,
          13.54241150505,
          223.96663405241,
          28.843732000256,
          15943.986552905,
          1.3387084460449,
          121.46313217391,
          74.290132466078,
          95.377319649136,
          15.993517423122,
          0.64726465731155,
          32.499935850652,
          653.8461399874,
          48.77483220475,
          31.019306383582,
          21886.264433823788,
          8182.111523679463,
          1245.12179652026,
          3504.609479874849,
          4000.8284350973167,
          6708.907818445738,
          5078.347068361584,
          2356.7103029002747,
          52962.90085870327
         ]
        }
       ],
       "layout": {
        "height": 1500,
        "legend": {
         "tracegroupgap": 0
        },
        "margin": {
         "b": 0,
         "l": 0,
         "r": 0,
         "t": 30
        },
        "template": {
         "data": {
          "bar": [
           {
            "error_x": {
             "color": "#2a3f5f"
            },
            "error_y": {
             "color": "#2a3f5f"
            },
            "marker": {
             "line": {
              "color": "#E5ECF6",
              "width": 0.5
             },
             "pattern": {
              "fillmode": "overlay",
              "size": 10,
              "solidity": 0.2
             }
            },
            "type": "bar"
           }
          ],
          "barpolar": [
           {
            "marker": {
             "line": {
              "color": "#E5ECF6",
              "width": 0.5
             },
             "pattern": {
              "fillmode": "overlay",
              "size": 10,
              "solidity": 0.2
             }
            },
            "type": "barpolar"
           }
          ],
          "carpet": [
           {
            "aaxis": {
             "endlinecolor": "#2a3f5f",
             "gridcolor": "white",
             "linecolor": "white",
             "minorgridcolor": "white",
             "startlinecolor": "#2a3f5f"
            },
            "baxis": {
             "endlinecolor": "#2a3f5f",
             "gridcolor": "white",
             "linecolor": "white",
             "minorgridcolor": "white",
             "startlinecolor": "#2a3f5f"
            },
            "type": "carpet"
           }
          ],
          "choropleth": [
           {
            "colorbar": {
             "outlinewidth": 0,
             "ticks": ""
            },
            "type": "choropleth"
           }
          ],
          "contour": [
           {
            "colorbar": {
             "outlinewidth": 0,
             "ticks": ""
            },
            "colorscale": [
             [
              0,
              "#0d0887"
             ],
             [
              0.1111111111111111,
              "#46039f"
             ],
             [
              0.2222222222222222,
              "#7201a8"
             ],
             [
              0.3333333333333333,
              "#9c179e"
             ],
             [
              0.4444444444444444,
              "#bd3786"
             ],
             [
              0.5555555555555556,
              "#d8576b"
             ],
             [
              0.6666666666666666,
              "#ed7953"
             ],
             [
              0.7777777777777778,
              "#fb9f3a"
             ],
             [
              0.8888888888888888,
              "#fdca26"
             ],
             [
              1,
              "#f0f921"
             ]
            ],
            "type": "contour"
           }
          ],
          "contourcarpet": [
           {
            "colorbar": {
             "outlinewidth": 0,
             "ticks": ""
            },
            "type": "contourcarpet"
           }
          ],
          "heatmap": [
           {
            "colorbar": {
             "outlinewidth": 0,
             "ticks": ""
            },
            "colorscale": [
             [
              0,
              "#0d0887"
             ],
             [
              0.1111111111111111,
              "#46039f"
             ],
             [
              0.2222222222222222,
              "#7201a8"
             ],
             [
              0.3333333333333333,
              "#9c179e"
             ],
             [
              0.4444444444444444,
              "#bd3786"
             ],
             [
              0.5555555555555556,
              "#d8576b"
             ],
             [
              0.6666666666666666,
              "#ed7953"
             ],
             [
              0.7777777777777778,
              "#fb9f3a"
             ],
             [
              0.8888888888888888,
              "#fdca26"
             ],
             [
              1,
              "#f0f921"
             ]
            ],
            "type": "heatmap"
           }
          ],
          "heatmapgl": [
           {
            "colorbar": {
             "outlinewidth": 0,
             "ticks": ""
            },
            "colorscale": [
             [
              0,
              "#0d0887"
             ],
             [
              0.1111111111111111,
              "#46039f"
             ],
             [
              0.2222222222222222,
              "#7201a8"
             ],
             [
              0.3333333333333333,
              "#9c179e"
             ],
             [
              0.4444444444444444,
              "#bd3786"
             ],
             [
              0.5555555555555556,
              "#d8576b"
             ],
             [
              0.6666666666666666,
              "#ed7953"
             ],
             [
              0.7777777777777778,
              "#fb9f3a"
             ],
             [
              0.8888888888888888,
              "#fdca26"
             ],
             [
              1,
              "#f0f921"
             ]
            ],
            "type": "heatmapgl"
           }
          ],
          "histogram": [
           {
            "marker": {
             "pattern": {
              "fillmode": "overlay",
              "size": 10,
              "solidity": 0.2
             }
            },
            "type": "histogram"
           }
          ],
          "histogram2d": [
           {
            "colorbar": {
             "outlinewidth": 0,
             "ticks": ""
            },
            "colorscale": [
             [
              0,
              "#0d0887"
             ],
             [
              0.1111111111111111,
              "#46039f"
             ],
             [
              0.2222222222222222,
              "#7201a8"
             ],
             [
              0.3333333333333333,
              "#9c179e"
             ],
             [
              0.4444444444444444,
              "#bd3786"
             ],
             [
              0.5555555555555556,
              "#d8576b"
             ],
             [
              0.6666666666666666,
              "#ed7953"
             ],
             [
              0.7777777777777778,
              "#fb9f3a"
             ],
             [
              0.8888888888888888,
              "#fdca26"
             ],
             [
              1,
              "#f0f921"
             ]
            ],
            "type": "histogram2d"
           }
          ],
          "histogram2dcontour": [
           {
            "colorbar": {
             "outlinewidth": 0,
             "ticks": ""
            },
            "colorscale": [
             [
              0,
              "#0d0887"
             ],
             [
              0.1111111111111111,
              "#46039f"
             ],
             [
              0.2222222222222222,
              "#7201a8"
             ],
             [
              0.3333333333333333,
              "#9c179e"
             ],
             [
              0.4444444444444444,
              "#bd3786"
             ],
             [
              0.5555555555555556,
              "#d8576b"
             ],
             [
              0.6666666666666666,
              "#ed7953"
             ],
             [
              0.7777777777777778,
              "#fb9f3a"
             ],
             [
              0.8888888888888888,
              "#fdca26"
             ],
             [
              1,
              "#f0f921"
             ]
            ],
            "type": "histogram2dcontour"
           }
          ],
          "mesh3d": [
           {
            "colorbar": {
             "outlinewidth": 0,
             "ticks": ""
            },
            "type": "mesh3d"
           }
          ],
          "parcoords": [
           {
            "line": {
             "colorbar": {
              "outlinewidth": 0,
              "ticks": ""
             }
            },
            "type": "parcoords"
           }
          ],
          "pie": [
           {
            "automargin": true,
            "type": "pie"
           }
          ],
          "scatter": [
           {
            "fillpattern": {
             "fillmode": "overlay",
             "size": 10,
             "solidity": 0.2
            },
            "type": "scatter"
           }
          ],
          "scatter3d": [
           {
            "line": {
             "colorbar": {
              "outlinewidth": 0,
              "ticks": ""
             }
            },
            "marker": {
             "colorbar": {
              "outlinewidth": 0,
              "ticks": ""
             }
            },
            "type": "scatter3d"
           }
          ],
          "scattercarpet": [
           {
            "marker": {
             "colorbar": {
              "outlinewidth": 0,
              "ticks": ""
             }
            },
            "type": "scattercarpet"
           }
          ],
          "scattergeo": [
           {
            "marker": {
             "colorbar": {
              "outlinewidth": 0,
              "ticks": ""
             }
            },
            "type": "scattergeo"
           }
          ],
          "scattergl": [
           {
            "marker": {
             "colorbar": {
              "outlinewidth": 0,
              "ticks": ""
             }
            },
            "type": "scattergl"
           }
          ],
          "scattermapbox": [
           {
            "marker": {
             "colorbar": {
              "outlinewidth": 0,
              "ticks": ""
             }
            },
            "type": "scattermapbox"
           }
          ],
          "scatterpolar": [
           {
            "marker": {
             "colorbar": {
              "outlinewidth": 0,
              "ticks": ""
             }
            },
            "type": "scatterpolar"
           }
          ],
          "scatterpolargl": [
           {
            "marker": {
             "colorbar": {
              "outlinewidth": 0,
              "ticks": ""
             }
            },
            "type": "scatterpolargl"
           }
          ],
          "scatterternary": [
           {
            "marker": {
             "colorbar": {
              "outlinewidth": 0,
              "ticks": ""
             }
            },
            "type": "scatterternary"
           }
          ],
          "surface": [
           {
            "colorbar": {
             "outlinewidth": 0,
             "ticks": ""
            },
            "colorscale": [
             [
              0,
              "#0d0887"
             ],
             [
              0.1111111111111111,
              "#46039f"
             ],
             [
              0.2222222222222222,
              "#7201a8"
             ],
             [
              0.3333333333333333,
              "#9c179e"
             ],
             [
              0.4444444444444444,
              "#bd3786"
             ],
             [
              0.5555555555555556,
              "#d8576b"
             ],
             [
              0.6666666666666666,
              "#ed7953"
             ],
             [
              0.7777777777777778,
              "#fb9f3a"
             ],
             [
              0.8888888888888888,
              "#fdca26"
             ],
             [
              1,
              "#f0f921"
             ]
            ],
            "type": "surface"
           }
          ],
          "table": [
           {
            "cells": {
             "fill": {
              "color": "#EBF0F8"
             },
             "line": {
              "color": "white"
             }
            },
            "header": {
             "fill": {
              "color": "#C8D4E3"
             },
             "line": {
              "color": "white"
             }
            },
            "type": "table"
           }
          ]
         },
         "layout": {
          "annotationdefaults": {
           "arrowcolor": "#2a3f5f",
           "arrowhead": 0,
           "arrowwidth": 1
          },
          "autotypenumbers": "strict",
          "coloraxis": {
           "colorbar": {
            "outlinewidth": 0,
            "ticks": ""
           }
          },
          "colorscale": {
           "diverging": [
            [
             0,
             "#8e0152"
            ],
            [
             0.1,
             "#c51b7d"
            ],
            [
             0.2,
             "#de77ae"
            ],
            [
             0.3,
             "#f1b6da"
            ],
            [
             0.4,
             "#fde0ef"
            ],
            [
             0.5,
             "#f7f7f7"
            ],
            [
             0.6,
             "#e6f5d0"
            ],
            [
             0.7,
             "#b8e186"
            ],
            [
             0.8,
             "#7fbc41"
            ],
            [
             0.9,
             "#4d9221"
            ],
            [
             1,
             "#276419"
            ]
           ],
           "sequential": [
            [
             0,
             "#0d0887"
            ],
            [
             0.1111111111111111,
             "#46039f"
            ],
            [
             0.2222222222222222,
             "#7201a8"
            ],
            [
             0.3333333333333333,
             "#9c179e"
            ],
            [
             0.4444444444444444,
             "#bd3786"
            ],
            [
             0.5555555555555556,
             "#d8576b"
            ],
            [
             0.6666666666666666,
             "#ed7953"
            ],
            [
             0.7777777777777778,
             "#fb9f3a"
            ],
            [
             0.8888888888888888,
             "#fdca26"
            ],
            [
             1,
             "#f0f921"
            ]
           ],
           "sequentialminus": [
            [
             0,
             "#0d0887"
            ],
            [
             0.1111111111111111,
             "#46039f"
            ],
            [
             0.2222222222222222,
             "#7201a8"
            ],
            [
             0.3333333333333333,
             "#9c179e"
            ],
            [
             0.4444444444444444,
             "#bd3786"
            ],
            [
             0.5555555555555556,
             "#d8576b"
            ],
            [
             0.6666666666666666,
             "#ed7953"
            ],
            [
             0.7777777777777778,
             "#fb9f3a"
            ],
            [
             0.8888888888888888,
             "#fdca26"
            ],
            [
             1,
             "#f0f921"
            ]
           ]
          },
          "colorway": [
           "#636efa",
           "#EF553B",
           "#00cc96",
           "#ab63fa",
           "#FFA15A",
           "#19d3f3",
           "#FF6692",
           "#B6E880",
           "#FF97FF",
           "#FECB52"
          ],
          "font": {
           "color": "#2a3f5f"
          },
          "geo": {
           "bgcolor": "white",
           "lakecolor": "white",
           "landcolor": "#E5ECF6",
           "showlakes": true,
           "showland": true,
           "subunitcolor": "white"
          },
          "hoverlabel": {
           "align": "left"
          },
          "hovermode": "closest",
          "mapbox": {
           "style": "light"
          },
          "paper_bgcolor": "white",
          "plot_bgcolor": "#E5ECF6",
          "polar": {
           "angularaxis": {
            "gridcolor": "white",
            "linecolor": "white",
            "ticks": ""
           },
           "bgcolor": "#E5ECF6",
           "radialaxis": {
            "gridcolor": "white",
            "linecolor": "white",
            "ticks": ""
           }
          },
          "scene": {
           "xaxis": {
            "backgroundcolor": "#E5ECF6",
            "gridcolor": "white",
            "gridwidth": 2,
            "linecolor": "white",
            "showbackground": true,
            "ticks": "",
            "zerolinecolor": "white"
           },
           "yaxis": {
            "backgroundcolor": "#E5ECF6",
            "gridcolor": "white",
            "gridwidth": 2,
            "linecolor": "white",
            "showbackground": true,
            "ticks": "",
            "zerolinecolor": "white"
           },
           "zaxis": {
            "backgroundcolor": "#E5ECF6",
            "gridcolor": "white",
            "gridwidth": 2,
            "linecolor": "white",
            "showbackground": true,
            "ticks": "",
            "zerolinecolor": "white"
           }
          },
          "shapedefaults": {
           "line": {
            "color": "#2a3f5f"
           }
          },
          "ternary": {
           "aaxis": {
            "gridcolor": "white",
            "linecolor": "white",
            "ticks": ""
           },
           "baxis": {
            "gridcolor": "white",
            "linecolor": "white",
            "ticks": ""
           },
           "bgcolor": "#E5ECF6",
           "caxis": {
            "gridcolor": "white",
            "linecolor": "white",
            "ticks": ""
           }
          },
          "title": {
           "x": 0.05
          },
          "xaxis": {
           "automargin": true,
           "gridcolor": "white",
           "linecolor": "white",
           "ticks": "",
           "title": {
            "standoff": 15
           },
           "zerolinecolor": "white",
           "zerolinewidth": 2
          },
          "yaxis": {
           "automargin": true,
           "gridcolor": "white",
           "linecolor": "white",
           "ticks": "",
           "title": {
            "standoff": 15
           },
           "zerolinecolor": "white",
           "zerolinewidth": 2
          }
         }
        },
        "title": {
         "text": "Countries' contributions to GHG emission in year 2023"
        },
        "width": 1100
       }
      }
     },
     "metadata": {},
     "output_type": "display_data"
    }
   ],
   "source": [
    "import ipywidgets as widgets\n",
    "from IPython.display import display\n",
    "\n",
    "# Create the IntSlider widget\n",
    "year_selector = widgets.IntSlider(value = 2023, min=1970, max=2023, description=\"Year:\")\n",
    "\n",
    "chart_type_selector = widgets.ToggleButtons(\n",
    "    options=['Treemap', 'Sunburst', 'Icicle'],\n",
    "    description=\"Chart Type:\",\n",
    "    value='Treemap'  # Default value\n",
    ")\n",
    "# Create an Output widget to display the chart\n",
    "out = widgets.Output()\n",
    "\n",
    "# Define the function to update the chart\n",
    "def update_chart(change = None):\n",
    "    with out:\n",
    "        out.clear_output()  # Clear previous output                \n",
    "        # Determine chart type\n",
    "        chart_type = chart_type_selector.value\n",
    "        year_value = year_selector.value\n",
    "        if chart_type == 'Icicle': \n",
    "            fig = px.icicle(\n",
    "                GHG_totals_by_country_continent,\n",
    "                path=[px.Constant(\"Global Total\"), 'Region', 'Country'],\n",
    "                values=year_value,  # Use the updated value from the slider\n",
    "                color='Region',\n",
    "                color_discrete_map={\n",
    "                    '(?)': 'lightgrey',\n",
    "                    'East Asia & Pacific': COLORS[0],\n",
    "                    'Europe & Central Asia': COLORS[1],\n",
    "                    'North America': COLORS[2],\n",
    "                    'South Asia': COLORS[3],\n",
    "                    'Middle East & North Africa': COLORS[4],\n",
    "                    'Latin America & Caribbean': COLORS[5],\n",
    "                    'Sub-Saharan Africa': COLORS[6],\n",
    "                },\n",
    "                width=1100,\n",
    "                height=1500,\n",
    "            )\n",
    "        elif chart_type == 'Sunburst': \n",
    "            fig = px.sunburst(\n",
    "                GHG_totals_by_country_continent,\n",
    "                path=[px.Constant(\"Global Total\"), 'Region', 'Country'],\n",
    "                values=year_value,  # Use the updated value from the slider\n",
    "                color='Region',\n",
    "                color_discrete_map={\n",
    "                    '(?)': 'lightgrey',\n",
    "                    'East Asia & Pacific': COLORS[0],\n",
    "                    'Europe & Central Asia': COLORS[1],\n",
    "                    'North America': COLORS[2],\n",
    "                    'South Asia': COLORS[3],\n",
    "                    'Middle East & North Africa': COLORS[4],\n",
    "                    'Latin America & Caribbean': COLORS[5],\n",
    "                    'Sub-Saharan Africa': COLORS[6],\n",
    "                },\n",
    "                width=1100,\n",
    "                height=1500,\n",
    "            )\n",
    "        elif chart_type == 'Treemap': \n",
    "            fig = px.treemap(\n",
    "                GHG_totals_by_country_continent,\n",
    "                path=[px.Constant(\"Global Total\"), 'Region', 'Country'],\n",
    "                values=year_value,  # Use the updated value from the slider\n",
    "                color='Region',\n",
    "                color_discrete_map={\n",
    "                    '(?)': 'lightgrey',\n",
    "                    'East Asia & Pacific': COLORS[0],\n",
    "                    'Europe & Central Asia': COLORS[1],\n",
    "                    'North America': COLORS[2],\n",
    "                    'South Asia': COLORS[3],\n",
    "                    'Middle East & North Africa': COLORS[4],\n",
    "                    'Latin America & Caribbean': COLORS[5],\n",
    "                    'Sub-Saharan Africa': COLORS[6],\n",
    "                },\n",
    "                width=1100,\n",
    "                height=1500,\n",
    "            )\n",
    "        fig.update_traces(root_color=\"lightgrey\")\n",
    "        fig.update_layout(margin=dict(t=30, l=0, r=0, b=0))\n",
    "        fig.update_layout(title=f\"Countries' contributions to GHG emission in year {year_value}\")\n",
    "        fig.write_image('./pdf/Chart3.pdf')\n",
    "        fig.show()\n",
    "# Attach the update function to the widgets\n",
    "year_selector.observe(update_chart, names='value')\n",
    "chart_type_selector.observe(update_chart, names='value')\n",
    "\n",
    "# Display the slider and the chart\n",
    "display(widgets.VBox([year_selector, chart_type_selector]), out)\n",
    "\n",
    "update_chart()"
   ]
  },
  {
   "cell_type": "markdown",
   "metadata": {},
   "source": [
    "## KEY TRENDS\n",
    "\n",
    "- China is the largest single contributor to global greenhouse gas (GHG) emissions, driving the \"East Asia & Pacific\" region’s dominance and accounting for a substantial share of the global total.\n",
    "\n",
    "- Different regions contribute unevenly to global GHG emissions. \"East Asia & Pacific,\" \"North America,\" and \"Europe & Central Asia\" are prominent contributors compared to regions like \"Sub-Saharan Africa\" and \"Latin America & Caribbean.\"\n",
    "\n",
    "- Countries like India, Brazil, Indonesia, and Iran are noteworthy contributors in their respective regions, reflecting the increasing environmental impact of emerging economies. \n"
   ]
  }
 ],
 "metadata": {
  "kernelspec": {
   "display_name": "Python 3 (ipykernel)",
   "language": "python",
   "name": "python3"
  },
  "language_info": {
   "codemirror_mode": {
    "name": "ipython",
    "version": 3
   },
   "file_extension": ".py",
   "mimetype": "text/x-python",
   "name": "python",
   "nbconvert_exporter": "python",
   "pygments_lexer": "ipython3",
   "version": "3.12.3"
  }
 },
 "nbformat": 4,
 "nbformat_minor": 4
}
